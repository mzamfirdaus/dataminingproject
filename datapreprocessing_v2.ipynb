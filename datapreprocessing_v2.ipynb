{
 "cells": [
  {
   "cell_type": "markdown",
   "metadata": {},
   "source": [
    "# DATA PREPROCESSING"
   ]
  },
  {
   "cell_type": "markdown",
   "metadata": {},
   "source": [
    "## Load libraries"
   ]
  },
  {
   "cell_type": "code",
   "execution_count": 117,
   "metadata": {},
   "outputs": [],
   "source": [
    "import pandas as pd\n",
    "import seaborn as sns\n",
    "import matplotlib.pyplot as plt\n",
    "import plotly.express as px\n",
    "import altair as alt\n",
    "from apyori import apriori\n",
    "import numpy as np\n",
    "\n",
    "from sklearn.preprocessing import LabelEncoder"
   ]
  },
  {
   "cell_type": "markdown",
   "metadata": {},
   "source": [
    "## Import data"
   ]
  },
  {
   "cell_type": "markdown",
   "metadata": {},
   "source": [
    "### Main dataset"
   ]
  },
  {
   "cell_type": "code",
   "execution_count": 118,
   "metadata": {},
   "outputs": [
    {
     "data": {
      "text/html": [
       "<div>\n",
       "<style scoped>\n",
       "    .dataframe tbody tr th:only-of-type {\n",
       "        vertical-align: middle;\n",
       "    }\n",
       "\n",
       "    .dataframe tbody tr th {\n",
       "        vertical-align: top;\n",
       "    }\n",
       "\n",
       "    .dataframe thead th {\n",
       "        text-align: right;\n",
       "    }\n",
       "</style>\n",
       "<table border=\"1\" class=\"dataframe\">\n",
       "  <thead>\n",
       "    <tr style=\"text-align: right;\">\n",
       "      <th></th>\n",
       "      <th>NO</th>\n",
       "      <th>DATE</th>\n",
       "      <th>TIME</th>\n",
       "      <th>RACE</th>\n",
       "      <th>GENDER</th>\n",
       "      <th>BODY_SIZE</th>\n",
       "      <th>AGE_RANGE</th>\n",
       "      <th>WITH_KIDS</th>\n",
       "      <th>KIDS_CATEGORY</th>\n",
       "      <th>BASKET_SIZE</th>\n",
       "      <th>BASKET_COLOUR</th>\n",
       "      <th>ATTIRE</th>\n",
       "      <th>SHIRT_COLOUR</th>\n",
       "      <th>SHIRT_TYPE</th>\n",
       "      <th>PANTS_COLOUR</th>\n",
       "      <th>PANTS_TYPE</th>\n",
       "      <th>WASH_ITEM</th>\n",
       "      <th>WASHER_NO</th>\n",
       "      <th>DRYER_NO</th>\n",
       "      <th>SPECTACLES</th>\n",
       "    </tr>\n",
       "  </thead>\n",
       "  <tbody>\n",
       "    <tr>\n",
       "      <th>0</th>\n",
       "      <td>1</td>\n",
       "      <td>19/10/2015</td>\n",
       "      <td>20:17:50</td>\n",
       "      <td>malay</td>\n",
       "      <td>male</td>\n",
       "      <td>moderate</td>\n",
       "      <td>28.0</td>\n",
       "      <td>yes</td>\n",
       "      <td>young</td>\n",
       "      <td>big</td>\n",
       "      <td>red</td>\n",
       "      <td>casual</td>\n",
       "      <td>blue</td>\n",
       "      <td>short_sleeve</td>\n",
       "      <td>black</td>\n",
       "      <td>short</td>\n",
       "      <td>clothes</td>\n",
       "      <td>3</td>\n",
       "      <td>10</td>\n",
       "      <td>no</td>\n",
       "    </tr>\n",
       "    <tr>\n",
       "      <th>1</th>\n",
       "      <td>2</td>\n",
       "      <td>19/10/2015</td>\n",
       "      <td>20:28:42</td>\n",
       "      <td>indian</td>\n",
       "      <td>male</td>\n",
       "      <td>thin</td>\n",
       "      <td>32.0</td>\n",
       "      <td>no</td>\n",
       "      <td>no_kids</td>\n",
       "      <td>big</td>\n",
       "      <td>green</td>\n",
       "      <td>casual</td>\n",
       "      <td>white</td>\n",
       "      <td>short_sleeve</td>\n",
       "      <td>blue_jeans</td>\n",
       "      <td>long</td>\n",
       "      <td>clothes</td>\n",
       "      <td>6</td>\n",
       "      <td>9</td>\n",
       "      <td>no</td>\n",
       "    </tr>\n",
       "    <tr>\n",
       "      <th>2</th>\n",
       "      <td>3</td>\n",
       "      <td>19/10/2015</td>\n",
       "      <td>20:58:31</td>\n",
       "      <td>malay</td>\n",
       "      <td>female</td>\n",
       "      <td>moderate</td>\n",
       "      <td>30.0</td>\n",
       "      <td>no</td>\n",
       "      <td>no_kids</td>\n",
       "      <td>big</td>\n",
       "      <td>blue</td>\n",
       "      <td>casual</td>\n",
       "      <td>red</td>\n",
       "      <td>short_sleeve</td>\n",
       "      <td>black</td>\n",
       "      <td>long</td>\n",
       "      <td>clothes</td>\n",
       "      <td>4</td>\n",
       "      <td>10</td>\n",
       "      <td>no</td>\n",
       "    </tr>\n",
       "    <tr>\n",
       "      <th>3</th>\n",
       "      <td>4</td>\n",
       "      <td>19/10/2015</td>\n",
       "      <td>21:31:28</td>\n",
       "      <td>indian</td>\n",
       "      <td>male</td>\n",
       "      <td>thin</td>\n",
       "      <td>51.0</td>\n",
       "      <td>no</td>\n",
       "      <td>no_kids</td>\n",
       "      <td>NaN</td>\n",
       "      <td>black</td>\n",
       "      <td>casual</td>\n",
       "      <td>black</td>\n",
       "      <td>short_sleeve</td>\n",
       "      <td>yellow</td>\n",
       "      <td>short</td>\n",
       "      <td>clothes</td>\n",
       "      <td>5</td>\n",
       "      <td>9</td>\n",
       "      <td>no</td>\n",
       "    </tr>\n",
       "    <tr>\n",
       "      <th>4</th>\n",
       "      <td>5</td>\n",
       "      <td>19/10/2015</td>\n",
       "      <td>21:40:28</td>\n",
       "      <td>indian</td>\n",
       "      <td>male</td>\n",
       "      <td>moderate</td>\n",
       "      <td>34.0</td>\n",
       "      <td>no</td>\n",
       "      <td>no_kids</td>\n",
       "      <td>big</td>\n",
       "      <td>blue</td>\n",
       "      <td>casual</td>\n",
       "      <td>blue</td>\n",
       "      <td>short_sleeve</td>\n",
       "      <td>white</td>\n",
       "      <td>long</td>\n",
       "      <td>clothes</td>\n",
       "      <td>3</td>\n",
       "      <td>9</td>\n",
       "      <td>no</td>\n",
       "    </tr>\n",
       "  </tbody>\n",
       "</table>\n",
       "</div>"
      ],
      "text/plain": [
       "   NO        DATE      TIME    RACE  GENDER BODY_SIZE  AGE_RANGE WITH_KIDS  \\\n",
       "0   1  19/10/2015  20:17:50   malay    male  moderate       28.0       yes   \n",
       "1   2  19/10/2015  20:28:42  indian    male      thin       32.0        no   \n",
       "2   3  19/10/2015  20:58:31   malay  female  moderate       30.0        no   \n",
       "3   4  19/10/2015  21:31:28  indian    male      thin       51.0        no   \n",
       "4   5  19/10/2015  21:40:28  indian    male  moderate       34.0        no   \n",
       "\n",
       "  KIDS_CATEGORY BASKET_SIZE BASKET_COLOUR  ATTIRE SHIRT_COLOUR    SHIRT_TYPE  \\\n",
       "0         young         big           red  casual         blue  short_sleeve   \n",
       "1       no_kids         big         green  casual        white  short_sleeve   \n",
       "2       no_kids         big          blue  casual          red  short_sleeve   \n",
       "3       no_kids         NaN         black  casual        black  short_sleeve   \n",
       "4       no_kids         big          blue  casual         blue  short_sleeve   \n",
       "\n",
       "  PANTS_COLOUR PANTS_TYPE WASH_ITEM  WASHER_NO  DRYER_NO SPECTACLES  \n",
       "0        black      short   clothes          3        10         no  \n",
       "1   blue_jeans       long   clothes          6         9         no  \n",
       "2        black       long   clothes          4        10         no  \n",
       "3       yellow      short   clothes          5         9         no  \n",
       "4        white       long   clothes          3         9         no  "
      ]
     },
     "execution_count": 118,
     "metadata": {},
     "output_type": "execute_result"
    }
   ],
   "source": [
    "# main dataset\n",
    "laundry = pd.read_csv('LaundryData.csv') \n",
    "laundry.columns = map(str.upper, laundry.columns)\n",
    "laundry.head()"
   ]
  },
  {
   "cell_type": "markdown",
   "metadata": {},
   "source": [
    "### Additional dataset"
   ]
  },
  {
   "cell_type": "code",
   "execution_count": 119,
   "metadata": {},
   "outputs": [
    {
     "data": {
      "text/html": [
       "<div>\n",
       "<style scoped>\n",
       "    .dataframe tbody tr th:only-of-type {\n",
       "        vertical-align: middle;\n",
       "    }\n",
       "\n",
       "    .dataframe tbody tr th {\n",
       "        vertical-align: top;\n",
       "    }\n",
       "\n",
       "    .dataframe thead th {\n",
       "        text-align: right;\n",
       "    }\n",
       "</style>\n",
       "<table border=\"1\" class=\"dataframe\">\n",
       "  <thead>\n",
       "    <tr style=\"text-align: right;\">\n",
       "      <th></th>\n",
       "      <th>JAJAHAN</th>\n",
       "      <th>PBT</th>\n",
       "      <th>NAMA PERUMAHAN</th>\n",
       "      <th>LATITUDE</th>\n",
       "      <th>LONGITUDE</th>\n",
       "      <th>BIL RUMAH (UNIT)</th>\n",
       "    </tr>\n",
       "  </thead>\n",
       "  <tbody>\n",
       "    <tr>\n",
       "      <th>0</th>\n",
       "      <td>GUA MUSANG</td>\n",
       "      <td>MAJLIS DAERAH GUA MUSANG</td>\n",
       "      <td>Taman Mesra</td>\n",
       "      <td>4.8758</td>\n",
       "      <td>101.962</td>\n",
       "      <td>193.0</td>\n",
       "    </tr>\n",
       "    <tr>\n",
       "      <th>1</th>\n",
       "      <td>GUA MUSANG</td>\n",
       "      <td>MAJLIS DAERAH GUA MUSANG</td>\n",
       "      <td>Taman Wangsa Mewangi</td>\n",
       "      <td>4.87203</td>\n",
       "      <td>101.964</td>\n",
       "      <td>231.0</td>\n",
       "    </tr>\n",
       "    <tr>\n",
       "      <th>2</th>\n",
       "      <td>GUA MUSANG</td>\n",
       "      <td>MAJLIS DAERAH GUA MUSANG</td>\n",
       "      <td>Bandar Baru</td>\n",
       "      <td>4.86362</td>\n",
       "      <td>101.96</td>\n",
       "      <td>65.0</td>\n",
       "    </tr>\n",
       "    <tr>\n",
       "      <th>3</th>\n",
       "      <td>GUA MUSANG</td>\n",
       "      <td>MAJLIS DAERAH GUA MUSANG</td>\n",
       "      <td>Wisma Sri Galas</td>\n",
       "      <td>4.86336</td>\n",
       "      <td>101.961</td>\n",
       "      <td>89.0</td>\n",
       "    </tr>\n",
       "    <tr>\n",
       "      <th>4</th>\n",
       "      <td>GUA MUSANG</td>\n",
       "      <td>MAJLIS DAERAH GUA MUSANG</td>\n",
       "      <td>Taman Titiwangsa</td>\n",
       "      <td>4.86277</td>\n",
       "      <td>101.955</td>\n",
       "      <td>252.0</td>\n",
       "    </tr>\n",
       "  </tbody>\n",
       "</table>\n",
       "</div>"
      ],
      "text/plain": [
       "      JAJAHAN                       PBT        NAMA PERUMAHAN LATITUDE  \\\n",
       "0  GUA MUSANG  MAJLIS DAERAH GUA MUSANG           Taman Mesra   4.8758   \n",
       "1  GUA MUSANG  MAJLIS DAERAH GUA MUSANG  Taman Wangsa Mewangi  4.87203   \n",
       "2  GUA MUSANG  MAJLIS DAERAH GUA MUSANG           Bandar Baru  4.86362   \n",
       "3  GUA MUSANG  MAJLIS DAERAH GUA MUSANG       Wisma Sri Galas  4.86336   \n",
       "4  GUA MUSANG  MAJLIS DAERAH GUA MUSANG      Taman Titiwangsa  4.86277   \n",
       "\n",
       "  LONGITUDE  BIL RUMAH (UNIT)  \n",
       "0   101.962             193.0  \n",
       "1   101.964             231.0  \n",
       "2    101.96              65.0  \n",
       "3   101.961              89.0  \n",
       "4   101.955             252.0  "
      ]
     },
     "metadata": {},
     "output_type": "display_data"
    },
    {
     "data": {
      "text/html": [
       "<div>\n",
       "<style scoped>\n",
       "    .dataframe tbody tr th:only-of-type {\n",
       "        vertical-align: middle;\n",
       "    }\n",
       "\n",
       "    .dataframe tbody tr th {\n",
       "        vertical-align: top;\n",
       "    }\n",
       "\n",
       "    .dataframe thead th {\n",
       "        text-align: right;\n",
       "    }\n",
       "</style>\n",
       "<table border=\"1\" class=\"dataframe\">\n",
       "  <thead>\n",
       "    <tr style=\"text-align: right;\">\n",
       "      <th></th>\n",
       "      <th>BIL</th>\n",
       "      <th>NAMA TAMAN</th>\n",
       "      <th>KATEGORI RUMAH</th>\n",
       "      <th>BILANGAN UNIT</th>\n",
       "      <th>JENIS RUMAH</th>\n",
       "    </tr>\n",
       "  </thead>\n",
       "  <tbody>\n",
       "    <tr>\n",
       "      <th>0</th>\n",
       "      <td>1.0</td>\n",
       "      <td>Taman Sentosa (RPA 1)</td>\n",
       "      <td>Rendah</td>\n",
       "      <td>50</td>\n",
       "      <td>Teres Setingkat</td>\n",
       "    </tr>\n",
       "    <tr>\n",
       "      <th>1</th>\n",
       "      <td>2.0</td>\n",
       "      <td>Taman Damai (RPA 2)</td>\n",
       "      <td>Rendah</td>\n",
       "      <td>40</td>\n",
       "      <td>Teres Setingkat</td>\n",
       "    </tr>\n",
       "    <tr>\n",
       "      <th>2</th>\n",
       "      <td>3.0</td>\n",
       "      <td>Taman Aman (RPA 3)</td>\n",
       "      <td>Rendah</td>\n",
       "      <td>96</td>\n",
       "      <td>Teres Setingkat</td>\n",
       "    </tr>\n",
       "    <tr>\n",
       "      <th>3</th>\n",
       "      <td>4.0</td>\n",
       "      <td>Taman Bersatu</td>\n",
       "      <td>Sederhana</td>\n",
       "      <td>35</td>\n",
       "      <td>Teres Setingkat</td>\n",
       "    </tr>\n",
       "    <tr>\n",
       "      <th>4</th>\n",
       "      <td>5.0</td>\n",
       "      <td>Taman Mawar</td>\n",
       "      <td>Rendah</td>\n",
       "      <td>26</td>\n",
       "      <td>Teres Setingkat</td>\n",
       "    </tr>\n",
       "  </tbody>\n",
       "</table>\n",
       "</div>"
      ],
      "text/plain": [
       "   BIL             NAMA TAMAN KATEGORI RUMAH BILANGAN UNIT      JENIS RUMAH\n",
       "0  1.0  Taman Sentosa (RPA 1)         Rendah            50  Teres Setingkat\n",
       "1  2.0    Taman Damai (RPA 2)         Rendah            40  Teres Setingkat\n",
       "2  3.0     Taman Aman (RPA 3)         Rendah            96  Teres Setingkat\n",
       "3  4.0          Taman Bersatu      Sederhana            35  Teres Setingkat\n",
       "4  5.0            Taman Mawar         Rendah            26  Teres Setingkat"
      ]
     },
     "metadata": {},
     "output_type": "display_data"
    },
    {
     "data": {
      "text/html": [
       "<div>\n",
       "<style scoped>\n",
       "    .dataframe tbody tr th:only-of-type {\n",
       "        vertical-align: middle;\n",
       "    }\n",
       "\n",
       "    .dataframe tbody tr th {\n",
       "        vertical-align: top;\n",
       "    }\n",
       "\n",
       "    .dataframe thead th {\n",
       "        text-align: right;\n",
       "    }\n",
       "</style>\n",
       "<table border=\"1\" class=\"dataframe\">\n",
       "  <thead>\n",
       "    <tr style=\"text-align: right;\">\n",
       "      <th></th>\n",
       "      <th>NO</th>\n",
       "      <th>NAMA TAMAN</th>\n",
       "      <th>MUKIM</th>\n",
       "      <th>POSKOD</th>\n",
       "      <th>BILANGAN RUMAH</th>\n",
       "    </tr>\n",
       "  </thead>\n",
       "  <tbody>\n",
       "    <tr>\n",
       "      <th>0</th>\n",
       "      <td>1.0</td>\n",
       "      <td>Taman Maran Impian</td>\n",
       "      <td>MARAN</td>\n",
       "      <td>26500.0</td>\n",
       "      <td>141</td>\n",
       "    </tr>\n",
       "    <tr>\n",
       "      <th>1</th>\n",
       "      <td>2.0</td>\n",
       "      <td>Taman Sri Chedong</td>\n",
       "      <td>MARAN</td>\n",
       "      <td>26500.0</td>\n",
       "      <td>111</td>\n",
       "    </tr>\n",
       "    <tr>\n",
       "      <th>2</th>\n",
       "      <td>3.0</td>\n",
       "      <td>Taman Maran Jaya</td>\n",
       "      <td>MARAN</td>\n",
       "      <td>26500.0</td>\n",
       "      <td>298</td>\n",
       "    </tr>\n",
       "    <tr>\n",
       "      <th>3</th>\n",
       "      <td>4.0</td>\n",
       "      <td>Taman Sri Keramat</td>\n",
       "      <td>MARAN</td>\n",
       "      <td>26500.0</td>\n",
       "      <td>184</td>\n",
       "    </tr>\n",
       "    <tr>\n",
       "      <th>4</th>\n",
       "      <td>5.0</td>\n",
       "      <td>Taman Berkat Mutiara</td>\n",
       "      <td>MARAN</td>\n",
       "      <td>26500.0</td>\n",
       "      <td>36</td>\n",
       "    </tr>\n",
       "  </tbody>\n",
       "</table>\n",
       "</div>"
      ],
      "text/plain": [
       "    NO            NAMA TAMAN  MUKIM   POSKOD  BILANGAN RUMAH\n",
       "0  1.0    Taman Maran Impian  MARAN  26500.0             141\n",
       "1  2.0     Taman Sri Chedong  MARAN  26500.0             111\n",
       "2  3.0      Taman Maran Jaya  MARAN  26500.0             298\n",
       "3  4.0     Taman Sri Keramat  MARAN  26500.0             184\n",
       "4  5.0  Taman Berkat Mutiara  MARAN  26500.0              36"
      ]
     },
     "metadata": {},
     "output_type": "display_data"
    },
    {
     "data": {
      "text/html": [
       "<div>\n",
       "<style scoped>\n",
       "    .dataframe tbody tr th:only-of-type {\n",
       "        vertical-align: middle;\n",
       "    }\n",
       "\n",
       "    .dataframe tbody tr th {\n",
       "        vertical-align: top;\n",
       "    }\n",
       "\n",
       "    .dataframe thead th {\n",
       "        text-align: right;\n",
       "    }\n",
       "</style>\n",
       "<table border=\"1\" class=\"dataframe\">\n",
       "  <thead>\n",
       "    <tr style=\"text-align: right;\">\n",
       "      <th></th>\n",
       "      <th>Bil</th>\n",
       "      <th>Nama Taman</th>\n",
       "      <th>Daerah</th>\n",
       "      <th>Mukim</th>\n",
       "      <th>Poskod</th>\n",
       "      <th>Bilangan Rumah</th>\n",
       "    </tr>\n",
       "  </thead>\n",
       "  <tbody>\n",
       "    <tr>\n",
       "      <th>0</th>\n",
       "      <td>1</td>\n",
       "      <td>TAMAN SHUKOR</td>\n",
       "      <td>Seremban</td>\n",
       "      <td>AMPANGAN</td>\n",
       "      <td>70400</td>\n",
       "      <td>43</td>\n",
       "    </tr>\n",
       "    <tr>\n",
       "      <th>1</th>\n",
       "      <td>2</td>\n",
       "      <td>TAMAN DESA KENANGA INDAH</td>\n",
       "      <td>Seremban</td>\n",
       "      <td>AMPANGAN</td>\n",
       "      <td>70400</td>\n",
       "      <td>30</td>\n",
       "    </tr>\n",
       "    <tr>\n",
       "      <th>2</th>\n",
       "      <td>3</td>\n",
       "      <td>TAMAN VILLA PALMA</td>\n",
       "      <td>Seremban</td>\n",
       "      <td>AMPANGAN</td>\n",
       "      <td>70400</td>\n",
       "      <td>56</td>\n",
       "    </tr>\n",
       "    <tr>\n",
       "      <th>3</th>\n",
       "      <td>4</td>\n",
       "      <td>TAMAN SERI SENTOSA</td>\n",
       "      <td>Seremban</td>\n",
       "      <td>AMPANGAN</td>\n",
       "      <td>70400</td>\n",
       "      <td>28</td>\n",
       "    </tr>\n",
       "    <tr>\n",
       "      <th>4</th>\n",
       "      <td>5</td>\n",
       "      <td>RESIDENSI SIGC</td>\n",
       "      <td>Seremban</td>\n",
       "      <td>AMPANGAN</td>\n",
       "      <td>70400</td>\n",
       "      <td>217</td>\n",
       "    </tr>\n",
       "  </tbody>\n",
       "</table>\n",
       "</div>"
      ],
      "text/plain": [
       "   Bil                Nama Taman    Daerah     Mukim Poskod Bilangan Rumah\n",
       "0    1              TAMAN SHUKOR  Seremban  AMPANGAN  70400             43\n",
       "1    2  TAMAN DESA KENANGA INDAH  Seremban  AMPANGAN  70400             30\n",
       "2    3         TAMAN VILLA PALMA  Seremban  AMPANGAN  70400             56\n",
       "3    4        TAMAN SERI SENTOSA  Seremban  AMPANGAN  70400             28\n",
       "4    5            RESIDENSI SIGC  Seremban  AMPANGAN  70400            217"
      ]
     },
     "metadata": {},
     "output_type": "display_data"
    }
   ],
   "source": [
    "# import additional dataset: Taman perumahan by state = kel, n9,phg, prk\n",
    "residentsKelantan = pd.read_excel('TamanPerumahan/KELANTAN.xlsx', skiprows=3)\n",
    "residentsKelantan = residentsKelantan.iloc[:563,:]\n",
    "display(residentsKelantan.head())\n",
    "residentsPerak = pd.read_excel('TamanPerumahan/PENGKALANHULU.xlsx', skiprows=3)\n",
    "residentsPerak = residentsPerak.iloc[:23,:]\n",
    "display(residentsPerak.head())\n",
    "residentsPahang = pd.read_excel('TamanPerumahan/PAHANG.xlsx', skiprows=2)\n",
    "residentsPahang = residentsPahang.iloc[:40,:]\n",
    "display(residentsPahang.head())\n",
    "residentsN9 = pd.read_csv('TamanPerumahan/NEGERISEMBILAN.csv', encoding='cp1252')\n",
    "display(residentsN9.head())"
   ]
  },
  {
   "cell_type": "code",
   "execution_count": 120,
   "metadata": {},
   "outputs": [
    {
     "data": {
      "text/html": [
       "<div>\n",
       "<style scoped>\n",
       "    .dataframe tbody tr th:only-of-type {\n",
       "        vertical-align: middle;\n",
       "    }\n",
       "\n",
       "    .dataframe tbody tr th {\n",
       "        vertical-align: top;\n",
       "    }\n",
       "\n",
       "    .dataframe thead th {\n",
       "        text-align: right;\n",
       "    }\n",
       "</style>\n",
       "<table border=\"1\" class=\"dataframe\">\n",
       "  <thead>\n",
       "    <tr style=\"text-align: right;\">\n",
       "      <th></th>\n",
       "      <th>Bil</th>\n",
       "      <th>Nama Taman</th>\n",
       "      <th>Daerah</th>\n",
       "      <th>Mukim</th>\n",
       "      <th>Poskod</th>\n",
       "      <th>Bilangan Rumah</th>\n",
       "    </tr>\n",
       "  </thead>\n",
       "  <tbody>\n",
       "    <tr>\n",
       "      <th>0</th>\n",
       "      <td>1</td>\n",
       "      <td>TAMAN SHUKOR</td>\n",
       "      <td>Seremban</td>\n",
       "      <td>AMPANGAN</td>\n",
       "      <td>70400</td>\n",
       "      <td>43</td>\n",
       "    </tr>\n",
       "    <tr>\n",
       "      <th>1</th>\n",
       "      <td>2</td>\n",
       "      <td>TAMAN DESA KENANGA INDAH</td>\n",
       "      <td>Seremban</td>\n",
       "      <td>AMPANGAN</td>\n",
       "      <td>70400</td>\n",
       "      <td>30</td>\n",
       "    </tr>\n",
       "    <tr>\n",
       "      <th>2</th>\n",
       "      <td>3</td>\n",
       "      <td>TAMAN VILLA PALMA</td>\n",
       "      <td>Seremban</td>\n",
       "      <td>AMPANGAN</td>\n",
       "      <td>70400</td>\n",
       "      <td>56</td>\n",
       "    </tr>\n",
       "    <tr>\n",
       "      <th>3</th>\n",
       "      <td>4</td>\n",
       "      <td>TAMAN SERI SENTOSA</td>\n",
       "      <td>Seremban</td>\n",
       "      <td>AMPANGAN</td>\n",
       "      <td>70400</td>\n",
       "      <td>28</td>\n",
       "    </tr>\n",
       "    <tr>\n",
       "      <th>4</th>\n",
       "      <td>5</td>\n",
       "      <td>RESIDENSI SIGC</td>\n",
       "      <td>Seremban</td>\n",
       "      <td>AMPANGAN</td>\n",
       "      <td>70400</td>\n",
       "      <td>217</td>\n",
       "    </tr>\n",
       "    <tr>\n",
       "      <th>5</th>\n",
       "      <td>6</td>\n",
       "      <td>GEDUNG LALANG 162</td>\n",
       "      <td>Seremban</td>\n",
       "      <td>AMPANGAN</td>\n",
       "      <td>70400</td>\n",
       "      <td>198</td>\n",
       "    </tr>\n",
       "    <tr>\n",
       "      <th>6</th>\n",
       "      <td>7</td>\n",
       "      <td>GEDUNG LALANG 50</td>\n",
       "      <td>Seremban</td>\n",
       "      <td>AMPANGAN</td>\n",
       "      <td>70400</td>\n",
       "      <td>171</td>\n",
       "    </tr>\n",
       "    <tr>\n",
       "      <th>7</th>\n",
       "      <td>8</td>\n",
       "      <td>TAMAN DATO WAN</td>\n",
       "      <td>Seremban</td>\n",
       "      <td>AMPANGAN</td>\n",
       "      <td>70400</td>\n",
       "      <td>120</td>\n",
       "    </tr>\n",
       "    <tr>\n",
       "      <th>8</th>\n",
       "      <td>9</td>\n",
       "      <td>TAMAN GOLF HEIGHT</td>\n",
       "      <td>Seremban</td>\n",
       "      <td>AMPANGAN</td>\n",
       "      <td>70400</td>\n",
       "      <td>91</td>\n",
       "    </tr>\n",
       "    <tr>\n",
       "      <th>9</th>\n",
       "      <td>10</td>\n",
       "      <td>TAMAN SIKAMAT ACASIA COUNTRY HEIGHT</td>\n",
       "      <td>Seremban</td>\n",
       "      <td>AMPANGAN</td>\n",
       "      <td>70400</td>\n",
       "      <td>283</td>\n",
       "    </tr>\n",
       "    <tr>\n",
       "      <th>10</th>\n",
       "      <td>11</td>\n",
       "      <td>TAMAN BUKIT NIBONG</td>\n",
       "      <td>Seremban</td>\n",
       "      <td>AMPANGAN</td>\n",
       "      <td>70400</td>\n",
       "      <td>129</td>\n",
       "    </tr>\n",
       "    <tr>\n",
       "      <th>11</th>\n",
       "      <td>12</td>\n",
       "      <td>SEREMBAN PUTRA</td>\n",
       "      <td>Seremban</td>\n",
       "      <td>AMPANGAN</td>\n",
       "      <td>70400</td>\n",
       "      <td>1000</td>\n",
       "    </tr>\n",
       "    <tr>\n",
       "      <th>12</th>\n",
       "      <td>13</td>\n",
       "      <td>TAMAN DESA PERMAI</td>\n",
       "      <td>Seremban</td>\n",
       "      <td>AMPANGAN</td>\n",
       "      <td>70400</td>\n",
       "      <td>159</td>\n",
       "    </tr>\n",
       "    <tr>\n",
       "      <th>13</th>\n",
       "      <td>14</td>\n",
       "      <td>TAMAN PERWIRA</td>\n",
       "      <td>Seremban</td>\n",
       "      <td>AMPANGAN</td>\n",
       "      <td>70400</td>\n",
       "      <td>160</td>\n",
       "    </tr>\n",
       "    <tr>\n",
       "      <th>14</th>\n",
       "      <td>15</td>\n",
       "      <td>RUMAH RAKYAT SIKAMAT 1</td>\n",
       "      <td>Seremban</td>\n",
       "      <td>AMPANGAN</td>\n",
       "      <td>70400</td>\n",
       "      <td>159</td>\n",
       "    </tr>\n",
       "    <tr>\n",
       "      <th>15</th>\n",
       "      <td>16</td>\n",
       "      <td>TAMAN UJONG PASIR</td>\n",
       "      <td>Seremban</td>\n",
       "      <td>AMPANGAN</td>\n",
       "      <td>70400</td>\n",
       "      <td>14</td>\n",
       "    </tr>\n",
       "    <tr>\n",
       "      <th>16</th>\n",
       "      <td>17</td>\n",
       "      <td>TAMAN SRI PULAI</td>\n",
       "      <td>Seremban</td>\n",
       "      <td>AMPANGAN</td>\n",
       "      <td>70400</td>\n",
       "      <td>86</td>\n",
       "    </tr>\n",
       "    <tr>\n",
       "      <th>17</th>\n",
       "      <td>18</td>\n",
       "      <td>TAMAN ANGSANA</td>\n",
       "      <td>Seremban</td>\n",
       "      <td>AMPANGAN</td>\n",
       "      <td>70400</td>\n",
       "      <td>45</td>\n",
       "    </tr>\n",
       "    <tr>\n",
       "      <th>18</th>\n",
       "      <td>19</td>\n",
       "      <td>TAMAN KAYU MANIS</td>\n",
       "      <td>Seremban</td>\n",
       "      <td>AMPANGAN</td>\n",
       "      <td>70400</td>\n",
       "      <td>21</td>\n",
       "    </tr>\n",
       "    <tr>\n",
       "      <th>19</th>\n",
       "      <td>20</td>\n",
       "      <td>KAMPUNG JIBOI</td>\n",
       "      <td>Seremban</td>\n",
       "      <td>AMPANGAN</td>\n",
       "      <td>70400</td>\n",
       "      <td>533</td>\n",
       "    </tr>\n",
       "    <tr>\n",
       "      <th>20</th>\n",
       "      <td>21</td>\n",
       "      <td>TAMAN KEKWA</td>\n",
       "      <td>Seremban</td>\n",
       "      <td>AMPANGAN</td>\n",
       "      <td>70400</td>\n",
       "      <td>343</td>\n",
       "    </tr>\n",
       "    <tr>\n",
       "      <th>21</th>\n",
       "      <td>22</td>\n",
       "      <td>TAMAN SRI TANJUNG</td>\n",
       "      <td>Seremban</td>\n",
       "      <td>AMPANGAN</td>\n",
       "      <td>70400</td>\n",
       "      <td>21</td>\n",
       "    </tr>\n",
       "    <tr>\n",
       "      <th>22</th>\n",
       "      <td>23</td>\n",
       "      <td>TAMAN NEGERI AMPANGAN</td>\n",
       "      <td>Seremban</td>\n",
       "      <td>AMPANGAN</td>\n",
       "      <td>70400</td>\n",
       "      <td>36</td>\n",
       "    </tr>\n",
       "  </tbody>\n",
       "</table>\n",
       "</div>"
      ],
      "text/plain": [
       "    Bil                           Nama Taman    Daerah     Mukim Poskod  \\\n",
       "0     1                         TAMAN SHUKOR  Seremban  AMPANGAN  70400   \n",
       "1     2             TAMAN DESA KENANGA INDAH  Seremban  AMPANGAN  70400   \n",
       "2     3                    TAMAN VILLA PALMA  Seremban  AMPANGAN  70400   \n",
       "3     4                   TAMAN SERI SENTOSA  Seremban  AMPANGAN  70400   \n",
       "4     5                       RESIDENSI SIGC  Seremban  AMPANGAN  70400   \n",
       "5     6                    GEDUNG LALANG 162  Seremban  AMPANGAN  70400   \n",
       "6     7                     GEDUNG LALANG 50  Seremban  AMPANGAN  70400   \n",
       "7     8                       TAMAN DATO WAN  Seremban  AMPANGAN  70400   \n",
       "8     9                    TAMAN GOLF HEIGHT  Seremban  AMPANGAN  70400   \n",
       "9    10  TAMAN SIKAMAT ACASIA COUNTRY HEIGHT  Seremban  AMPANGAN  70400   \n",
       "10   11                   TAMAN BUKIT NIBONG  Seremban  AMPANGAN  70400   \n",
       "11   12                       SEREMBAN PUTRA  Seremban  AMPANGAN  70400   \n",
       "12   13                    TAMAN DESA PERMAI  Seremban  AMPANGAN  70400   \n",
       "13   14                        TAMAN PERWIRA  Seremban  AMPANGAN  70400   \n",
       "14   15               RUMAH RAKYAT SIKAMAT 1  Seremban  AMPANGAN  70400   \n",
       "15   16                    TAMAN UJONG PASIR  Seremban  AMPANGAN  70400   \n",
       "16   17                      TAMAN SRI PULAI  Seremban  AMPANGAN  70400   \n",
       "17   18                        TAMAN ANGSANA  Seremban  AMPANGAN  70400   \n",
       "18   19                     TAMAN KAYU MANIS  Seremban  AMPANGAN  70400   \n",
       "19   20                        KAMPUNG JIBOI  Seremban  AMPANGAN  70400   \n",
       "20   21                          TAMAN KEKWA  Seremban  AMPANGAN  70400   \n",
       "21   22                    TAMAN SRI TANJUNG  Seremban  AMPANGAN  70400   \n",
       "22   23                TAMAN NEGERI AMPANGAN  Seremban  AMPANGAN  70400   \n",
       "\n",
       "   Bilangan Rumah  \n",
       "0              43  \n",
       "1              30  \n",
       "2              56  \n",
       "3              28  \n",
       "4             217  \n",
       "5             198  \n",
       "6             171  \n",
       "7             120  \n",
       "8              91  \n",
       "9             283  \n",
       "10            129  \n",
       "11           1000  \n",
       "12            159  \n",
       "13            160  \n",
       "14            159  \n",
       "15             14  \n",
       "16             86  \n",
       "17             45  \n",
       "18             21  \n",
       "19            533  \n",
       "20            343  \n",
       "21             21  \n",
       "22             36  "
      ]
     },
     "execution_count": 120,
     "metadata": {},
     "output_type": "execute_result"
    }
   ],
   "source": [
    "residentsN9.iloc[:23,:]"
   ]
  },
  {
   "cell_type": "markdown",
   "metadata": {},
   "source": [
    "## Preprocessing main dataset"
   ]
  },
  {
   "cell_type": "markdown",
   "metadata": {},
   "source": [
    "### 1. What is the quick overview of the data?\n",
    "Get overview of data"
   ]
  },
  {
   "cell_type": "code",
   "execution_count": 121,
   "metadata": {},
   "outputs": [
    {
     "name": "stdout",
     "output_type": "stream",
     "text": [
      "<class 'pandas.core.frame.DataFrame'>\n",
      "RangeIndex: 807 entries, 0 to 806\n",
      "Data columns (total 20 columns):\n",
      " #   Column         Non-Null Count  Dtype  \n",
      "---  ------         --------------  -----  \n",
      " 0   NO             807 non-null    int64  \n",
      " 1   DATE           807 non-null    object \n",
      " 2   TIME           807 non-null    object \n",
      " 3   RACE           797 non-null    object \n",
      " 4   GENDER         793 non-null    object \n",
      " 5   BODY_SIZE      790 non-null    object \n",
      " 6   AGE_RANGE      799 non-null    float64\n",
      " 7   WITH_KIDS      794 non-null    object \n",
      " 8   KIDS_CATEGORY  777 non-null    object \n",
      " 9   BASKET_SIZE    801 non-null    object \n",
      " 10  BASKET_COLOUR  798 non-null    object \n",
      " 11  ATTIRE         776 non-null    object \n",
      " 12  SHIRT_COLOUR   798 non-null    object \n",
      " 13  SHIRT_TYPE     770 non-null    object \n",
      " 14  PANTS_COLOUR   802 non-null    object \n",
      " 15  PANTS_TYPE     798 non-null    object \n",
      " 16  WASH_ITEM      784 non-null    object \n",
      " 17  WASHER_NO      807 non-null    int64  \n",
      " 18  DRYER_NO       807 non-null    int64  \n",
      " 19  SPECTACLES     807 non-null    object \n",
      "dtypes: float64(1), int64(3), object(16)\n",
      "memory usage: 126.2+ KB\n"
     ]
    }
   ],
   "source": [
    "laundry.info()"
   ]
  },
  {
   "cell_type": "markdown",
   "metadata": {},
   "source": [
    "### 2. Is there any missing values or duplicates data? If so, how we want to deal with it?\n",
    "Dealing null and duplicates data"
   ]
  },
  {
   "cell_type": "code",
   "execution_count": 122,
   "metadata": {},
   "outputs": [
    {
     "data": {
      "text/plain": [
       "NO                0\n",
       "DATE              0\n",
       "TIME              0\n",
       "RACE             10\n",
       "GENDER           14\n",
       "BODY_SIZE        17\n",
       "AGE_RANGE         8\n",
       "WITH_KIDS        13\n",
       "KIDS_CATEGORY    30\n",
       "BASKET_SIZE       6\n",
       "BASKET_COLOUR     9\n",
       "ATTIRE           31\n",
       "SHIRT_COLOUR      9\n",
       "SHIRT_TYPE       37\n",
       "PANTS_COLOUR      5\n",
       "PANTS_TYPE        9\n",
       "WASH_ITEM        23\n",
       "WASHER_NO         0\n",
       "DRYER_NO          0\n",
       "SPECTACLES        0\n",
       "dtype: int64"
      ]
     },
     "execution_count": 122,
     "metadata": {},
     "output_type": "execute_result"
    }
   ],
   "source": [
    "# dearling wih missing values\n",
    "laundry.isna().sum()"
   ]
  },
  {
   "cell_type": "code",
   "execution_count": 123,
   "metadata": {},
   "outputs": [
    {
     "data": {
      "text/plain": [
       "(642, 20)"
      ]
     },
     "execution_count": 123,
     "metadata": {},
     "output_type": "execute_result"
    }
   ],
   "source": [
    "# drop rows with null values\n",
    "laundry = laundry.dropna()\n",
    "laundry.shape"
   ]
  },
  {
   "cell_type": "code",
   "execution_count": 124,
   "metadata": {},
   "outputs": [
    {
     "data": {
      "text/html": [
       "<div>\n",
       "<style scoped>\n",
       "    .dataframe tbody tr th:only-of-type {\n",
       "        vertical-align: middle;\n",
       "    }\n",
       "\n",
       "    .dataframe tbody tr th {\n",
       "        vertical-align: top;\n",
       "    }\n",
       "\n",
       "    .dataframe thead th {\n",
       "        text-align: right;\n",
       "    }\n",
       "</style>\n",
       "<table border=\"1\" class=\"dataframe\">\n",
       "  <thead>\n",
       "    <tr style=\"text-align: right;\">\n",
       "      <th></th>\n",
       "      <th>NO</th>\n",
       "      <th>DATE</th>\n",
       "      <th>TIME</th>\n",
       "      <th>RACE</th>\n",
       "      <th>GENDER</th>\n",
       "      <th>BODY_SIZE</th>\n",
       "      <th>AGE_RANGE</th>\n",
       "      <th>WITH_KIDS</th>\n",
       "      <th>KIDS_CATEGORY</th>\n",
       "      <th>BASKET_SIZE</th>\n",
       "      <th>BASKET_COLOUR</th>\n",
       "      <th>ATTIRE</th>\n",
       "      <th>SHIRT_COLOUR</th>\n",
       "      <th>SHIRT_TYPE</th>\n",
       "      <th>PANTS_COLOUR</th>\n",
       "      <th>PANTS_TYPE</th>\n",
       "      <th>WASH_ITEM</th>\n",
       "      <th>WASHER_NO</th>\n",
       "      <th>DRYER_NO</th>\n",
       "      <th>SPECTACLES</th>\n",
       "    </tr>\n",
       "  </thead>\n",
       "  <tbody>\n",
       "    <tr>\n",
       "      <th>0</th>\n",
       "      <td>1</td>\n",
       "      <td>19/10/2015</td>\n",
       "      <td>20:17:50</td>\n",
       "      <td>malay</td>\n",
       "      <td>male</td>\n",
       "      <td>moderate</td>\n",
       "      <td>28.0</td>\n",
       "      <td>yes</td>\n",
       "      <td>young</td>\n",
       "      <td>big</td>\n",
       "      <td>red</td>\n",
       "      <td>casual</td>\n",
       "      <td>blue</td>\n",
       "      <td>short_sleeve</td>\n",
       "      <td>black</td>\n",
       "      <td>short</td>\n",
       "      <td>clothes</td>\n",
       "      <td>3</td>\n",
       "      <td>10</td>\n",
       "      <td>no</td>\n",
       "    </tr>\n",
       "    <tr>\n",
       "      <th>1</th>\n",
       "      <td>2</td>\n",
       "      <td>19/10/2015</td>\n",
       "      <td>20:28:42</td>\n",
       "      <td>indian</td>\n",
       "      <td>male</td>\n",
       "      <td>thin</td>\n",
       "      <td>32.0</td>\n",
       "      <td>no</td>\n",
       "      <td>no_kids</td>\n",
       "      <td>big</td>\n",
       "      <td>green</td>\n",
       "      <td>casual</td>\n",
       "      <td>white</td>\n",
       "      <td>short_sleeve</td>\n",
       "      <td>blue_jeans</td>\n",
       "      <td>long</td>\n",
       "      <td>clothes</td>\n",
       "      <td>6</td>\n",
       "      <td>9</td>\n",
       "      <td>no</td>\n",
       "    </tr>\n",
       "    <tr>\n",
       "      <th>2</th>\n",
       "      <td>3</td>\n",
       "      <td>19/10/2015</td>\n",
       "      <td>20:58:31</td>\n",
       "      <td>malay</td>\n",
       "      <td>female</td>\n",
       "      <td>moderate</td>\n",
       "      <td>30.0</td>\n",
       "      <td>no</td>\n",
       "      <td>no_kids</td>\n",
       "      <td>big</td>\n",
       "      <td>blue</td>\n",
       "      <td>casual</td>\n",
       "      <td>red</td>\n",
       "      <td>short_sleeve</td>\n",
       "      <td>black</td>\n",
       "      <td>long</td>\n",
       "      <td>clothes</td>\n",
       "      <td>4</td>\n",
       "      <td>10</td>\n",
       "      <td>no</td>\n",
       "    </tr>\n",
       "    <tr>\n",
       "      <th>4</th>\n",
       "      <td>5</td>\n",
       "      <td>19/10/2015</td>\n",
       "      <td>21:40:28</td>\n",
       "      <td>indian</td>\n",
       "      <td>male</td>\n",
       "      <td>moderate</td>\n",
       "      <td>34.0</td>\n",
       "      <td>no</td>\n",
       "      <td>no_kids</td>\n",
       "      <td>big</td>\n",
       "      <td>blue</td>\n",
       "      <td>casual</td>\n",
       "      <td>blue</td>\n",
       "      <td>short_sleeve</td>\n",
       "      <td>white</td>\n",
       "      <td>long</td>\n",
       "      <td>clothes</td>\n",
       "      <td>3</td>\n",
       "      <td>9</td>\n",
       "      <td>no</td>\n",
       "    </tr>\n",
       "    <tr>\n",
       "      <th>8</th>\n",
       "      <td>9</td>\n",
       "      <td>20/10/2015</td>\n",
       "      <td>0:45:19</td>\n",
       "      <td>indian</td>\n",
       "      <td>male</td>\n",
       "      <td>thin</td>\n",
       "      <td>30.0</td>\n",
       "      <td>no</td>\n",
       "      <td>no_kids</td>\n",
       "      <td>small</td>\n",
       "      <td>purple</td>\n",
       "      <td>casual</td>\n",
       "      <td>white</td>\n",
       "      <td>short_sleeve</td>\n",
       "      <td>black</td>\n",
       "      <td>short</td>\n",
       "      <td>clothes</td>\n",
       "      <td>6</td>\n",
       "      <td>10</td>\n",
       "      <td>no</td>\n",
       "    </tr>\n",
       "    <tr>\n",
       "      <th>...</th>\n",
       "      <td>...</td>\n",
       "      <td>...</td>\n",
       "      <td>...</td>\n",
       "      <td>...</td>\n",
       "      <td>...</td>\n",
       "      <td>...</td>\n",
       "      <td>...</td>\n",
       "      <td>...</td>\n",
       "      <td>...</td>\n",
       "      <td>...</td>\n",
       "      <td>...</td>\n",
       "      <td>...</td>\n",
       "      <td>...</td>\n",
       "      <td>...</td>\n",
       "      <td>...</td>\n",
       "      <td>...</td>\n",
       "      <td>...</td>\n",
       "      <td>...</td>\n",
       "      <td>...</td>\n",
       "      <td>...</td>\n",
       "    </tr>\n",
       "    <tr>\n",
       "      <th>802</th>\n",
       "      <td>803</td>\n",
       "      <td>09/12/2015</td>\n",
       "      <td>20:05:46</td>\n",
       "      <td>malay</td>\n",
       "      <td>female</td>\n",
       "      <td>moderate</td>\n",
       "      <td>45.0</td>\n",
       "      <td>no</td>\n",
       "      <td>no_kids</td>\n",
       "      <td>small</td>\n",
       "      <td>white</td>\n",
       "      <td>casual</td>\n",
       "      <td>red</td>\n",
       "      <td>long sleeve</td>\n",
       "      <td>black</td>\n",
       "      <td>long</td>\n",
       "      <td>clothes</td>\n",
       "      <td>3</td>\n",
       "      <td>10</td>\n",
       "      <td>no</td>\n",
       "    </tr>\n",
       "    <tr>\n",
       "      <th>803</th>\n",
       "      <td>804</td>\n",
       "      <td>09/12/2015</td>\n",
       "      <td>20:33:01</td>\n",
       "      <td>malay</td>\n",
       "      <td>male</td>\n",
       "      <td>fat</td>\n",
       "      <td>34.0</td>\n",
       "      <td>no</td>\n",
       "      <td>no_kids</td>\n",
       "      <td>big</td>\n",
       "      <td>grey</td>\n",
       "      <td>casual</td>\n",
       "      <td>white</td>\n",
       "      <td>short_sleeve</td>\n",
       "      <td>black</td>\n",
       "      <td>long</td>\n",
       "      <td>blankets</td>\n",
       "      <td>3</td>\n",
       "      <td>7</td>\n",
       "      <td>no</td>\n",
       "    </tr>\n",
       "    <tr>\n",
       "      <th>804</th>\n",
       "      <td>805</td>\n",
       "      <td>09/12/2015</td>\n",
       "      <td>20:37:01</td>\n",
       "      <td>malay</td>\n",
       "      <td>female</td>\n",
       "      <td>moderate</td>\n",
       "      <td>53.0</td>\n",
       "      <td>no</td>\n",
       "      <td>no_kids</td>\n",
       "      <td>big</td>\n",
       "      <td>purple</td>\n",
       "      <td>traditional</td>\n",
       "      <td>pink</td>\n",
       "      <td>long sleeve</td>\n",
       "      <td>pink</td>\n",
       "      <td>long</td>\n",
       "      <td>clothes</td>\n",
       "      <td>3</td>\n",
       "      <td>7</td>\n",
       "      <td>yes</td>\n",
       "    </tr>\n",
       "    <tr>\n",
       "      <th>805</th>\n",
       "      <td>806</td>\n",
       "      <td>09/12/2015</td>\n",
       "      <td>20:42:57</td>\n",
       "      <td>indian</td>\n",
       "      <td>female</td>\n",
       "      <td>moderate</td>\n",
       "      <td>37.0</td>\n",
       "      <td>no</td>\n",
       "      <td>no_kids</td>\n",
       "      <td>big</td>\n",
       "      <td>green</td>\n",
       "      <td>traditional</td>\n",
       "      <td>brown</td>\n",
       "      <td>short_sleeve</td>\n",
       "      <td>black</td>\n",
       "      <td>long</td>\n",
       "      <td>clothes</td>\n",
       "      <td>6</td>\n",
       "      <td>10</td>\n",
       "      <td>no</td>\n",
       "    </tr>\n",
       "    <tr>\n",
       "      <th>806</th>\n",
       "      <td>807</td>\n",
       "      <td>09/12/2015</td>\n",
       "      <td>20:43:20</td>\n",
       "      <td>malay</td>\n",
       "      <td>male</td>\n",
       "      <td>moderate</td>\n",
       "      <td>29.0</td>\n",
       "      <td>no</td>\n",
       "      <td>no_kids</td>\n",
       "      <td>big</td>\n",
       "      <td>blue</td>\n",
       "      <td>casual</td>\n",
       "      <td>white</td>\n",
       "      <td>short_sleeve</td>\n",
       "      <td>black</td>\n",
       "      <td>long</td>\n",
       "      <td>blankets</td>\n",
       "      <td>4</td>\n",
       "      <td>8</td>\n",
       "      <td>no</td>\n",
       "    </tr>\n",
       "  </tbody>\n",
       "</table>\n",
       "<p>642 rows × 20 columns</p>\n",
       "</div>"
      ],
      "text/plain": [
       "      NO        DATE      TIME    RACE  GENDER BODY_SIZE  AGE_RANGE WITH_KIDS  \\\n",
       "0      1  19/10/2015  20:17:50   malay    male  moderate       28.0       yes   \n",
       "1      2  19/10/2015  20:28:42  indian    male      thin       32.0        no   \n",
       "2      3  19/10/2015  20:58:31   malay  female  moderate       30.0        no   \n",
       "4      5  19/10/2015  21:40:28  indian    male  moderate       34.0        no   \n",
       "8      9  20/10/2015   0:45:19  indian    male      thin       30.0        no   \n",
       "..   ...         ...       ...     ...     ...       ...        ...       ...   \n",
       "802  803  09/12/2015  20:05:46   malay  female  moderate       45.0        no   \n",
       "803  804  09/12/2015  20:33:01   malay    male       fat       34.0        no   \n",
       "804  805  09/12/2015  20:37:01   malay  female  moderate       53.0        no   \n",
       "805  806  09/12/2015  20:42:57  indian  female  moderate       37.0        no   \n",
       "806  807  09/12/2015  20:43:20   malay    male  moderate       29.0        no   \n",
       "\n",
       "    KIDS_CATEGORY BASKET_SIZE BASKET_COLOUR       ATTIRE SHIRT_COLOUR  \\\n",
       "0           young         big           red       casual         blue   \n",
       "1         no_kids         big         green       casual        white   \n",
       "2         no_kids         big          blue       casual          red   \n",
       "4         no_kids         big          blue       casual         blue   \n",
       "8         no_kids       small        purple       casual        white   \n",
       "..            ...         ...           ...          ...          ...   \n",
       "802       no_kids       small         white       casual          red   \n",
       "803       no_kids         big          grey       casual        white   \n",
       "804       no_kids         big        purple  traditional         pink   \n",
       "805       no_kids         big         green  traditional        brown   \n",
       "806       no_kids         big          blue       casual        white   \n",
       "\n",
       "       SHIRT_TYPE PANTS_COLOUR PANTS_TYPE WASH_ITEM  WASHER_NO  DRYER_NO  \\\n",
       "0    short_sleeve        black      short   clothes          3        10   \n",
       "1    short_sleeve   blue_jeans       long   clothes          6         9   \n",
       "2    short_sleeve        black       long   clothes          4        10   \n",
       "4    short_sleeve        white       long   clothes          3         9   \n",
       "8    short_sleeve        black      short   clothes          6        10   \n",
       "..            ...          ...        ...       ...        ...       ...   \n",
       "802   long sleeve        black       long   clothes          3        10   \n",
       "803  short_sleeve        black       long  blankets          3         7   \n",
       "804   long sleeve         pink       long   clothes          3         7   \n",
       "805  short_sleeve        black       long   clothes          6        10   \n",
       "806  short_sleeve        black       long  blankets          4         8   \n",
       "\n",
       "    SPECTACLES  \n",
       "0           no  \n",
       "1           no  \n",
       "2           no  \n",
       "4           no  \n",
       "8           no  \n",
       "..         ...  \n",
       "802         no  \n",
       "803         no  \n",
       "804        yes  \n",
       "805         no  \n",
       "806         no  \n",
       "\n",
       "[642 rows x 20 columns]"
      ]
     },
     "execution_count": 124,
     "metadata": {},
     "output_type": "execute_result"
    }
   ],
   "source": [
    "# dealing with duplicates data\n",
    "laundry.drop_duplicates()"
   ]
  },
  {
   "cell_type": "markdown",
   "metadata": {},
   "source": [
    "### 3. Are there any columns that require conversion of data type?\n",
    "Data type conversion"
   ]
  },
  {
   "cell_type": "code",
   "execution_count": 125,
   "metadata": {},
   "outputs": [],
   "source": [
    "laundry['TIME'] = pd.to_datetime(laundry['TIME']).dt.time\n",
    "\n",
    "laundry['DATE'] = pd.to_datetime(laundry['DATE'], format='%d/%m/%Y', errors='coerce')\n"
   ]
  },
  {
   "cell_type": "markdown",
   "metadata": {},
   "source": [
    "### 4. Can I add an extra data point?\n",
    "Add new columns"
   ]
  },
  {
   "cell_type": "code",
   "execution_count": 126,
   "metadata": {},
   "outputs": [
    {
     "data": {
      "text/plain": [
       "0    Night\n",
       "1    Night\n",
       "2    Night\n",
       "4    Night\n",
       "8    Night\n",
       "Name: PART_OF_DAY, dtype: category\n",
       "Categories (2, object): ['Day', 'Night']"
      ]
     },
     "execution_count": 126,
     "metadata": {},
     "output_type": "execute_result"
    }
   ],
   "source": [
    "# Binning time into day and night \n",
    "# night = 7pm - 7am, day = 7am - 6.59pm\n",
    "bins = ['19:00:00','07:00:00','18:59:59']\n",
    "labels = [\"Night\",\"Day\",\"Night\"]\n",
    "\n",
    "hours = pd.to_datetime(laundry['TIME'], format='%H:%M:%S').dt.hour\n",
    "laundry['PART_OF_DAY'] = pd.cut(hours,  bins=[0,7,19,24], include_lowest=True,  labels=labels,ordered=False)\n",
    "laundry['PART_OF_DAY'].head()"
   ]
  },
  {
   "cell_type": "code",
   "execution_count": 127,
   "metadata": {},
   "outputs": [
    {
     "data": {
      "text/plain": [
       "0     Monday\n",
       "1     Monday\n",
       "2     Monday\n",
       "4     Monday\n",
       "8    Tuesday\n",
       "Name: PART_OF_WEEK, dtype: object"
      ]
     },
     "execution_count": 127,
     "metadata": {},
     "output_type": "execute_result"
    }
   ],
   "source": [
    "# Binning date into days\n",
    "days = laundry['DATE'].dt.dayofweek #gives only the index(0-monday,6-sunday)\n",
    "mappingtoDays = {0:'Monday',1:'Tuesday',2:'Wednesday',3:'Thursday',4:'Friday',5:'Saturday',6:'Sunday'}\n",
    "\n",
    "laundry['PART_OF_WEEK'] = days\n",
    "laundry['PART_OF_WEEK'] = laundry['PART_OF_WEEK'].map(mappingtoDays)\n",
    "laundry['PART_OF_WEEK'].head()"
   ]
  },
  {
   "cell_type": "code",
   "execution_count": 128,
   "metadata": {},
   "outputs": [
    {
     "data": {
      "text/plain": [
       "Adults          331\n",
       "Older adults    248\n",
       "Young            63\n",
       "Name: AGE_CATEGORY, dtype: int64"
      ]
     },
     "execution_count": 128,
     "metadata": {},
     "output_type": "execute_result"
    }
   ],
   "source": [
    "# Binning age into young, adult, senior citizen\n",
    "laundry[\"AGE_CATEGORY\"] = pd.cut(laundry[\"AGE_RANGE\"], bins=[1,30,45,70], labels=[\"Young\",\"Adults\",\"Older adults\"])\n",
    "laundry['AGE_CATEGORY'].value_counts()"
   ]
  },
  {
   "cell_type": "markdown",
   "metadata": {},
   "source": [
    "### 5. Is there any outliers in the data? Is the outliers an error or else?\n",
    "Outlier analysis\n"
   ]
  },
  {
   "cell_type": "code",
   "execution_count": 129,
   "metadata": {},
   "outputs": [
    {
     "data": {
      "application/vnd.plotly.v1+json": {
       "config": {
        "plotlyServerURL": "https://plot.ly"
       },
       "data": [
        {
         "alignmentgroup": "True",
         "hovertemplate": "GENDER=%{x}<br>AGE_RANGE=%{y}<extra></extra>",
         "legendgroup": "",
         "marker": {
          "color": "#636efa"
         },
         "name": "",
         "notched": false,
         "offsetgroup": "",
         "orientation": "v",
         "showlegend": false,
         "type": "box",
         "x": [
          "male",
          "male",
          "female",
          "male",
          "male",
          "male",
          "female",
          "female",
          "female",
          "male",
          "female",
          "female",
          "male",
          "male",
          "female",
          "female",
          "female",
          "female",
          "female",
          "female",
          "female",
          "female",
          "male",
          "female",
          "male",
          "male",
          "female",
          "female",
          "male",
          "female",
          "male",
          "male",
          "male",
          "female",
          "female",
          "male",
          "female",
          "male",
          "male",
          "male",
          "female",
          "male",
          "female",
          "male",
          "male",
          "female",
          "male",
          "female",
          "female",
          "male",
          "female",
          "female",
          "male",
          "male",
          "male",
          "male",
          "male",
          "female",
          "female",
          "female",
          "male",
          "female",
          "male",
          "female",
          "female",
          "male",
          "male",
          "female",
          "female",
          "male",
          "male",
          "male",
          "male",
          "male",
          "female",
          "male",
          "female",
          "male",
          "female",
          "male",
          "female",
          "male",
          "male",
          "male",
          "male",
          "female",
          "female",
          "female",
          "female",
          "male",
          "male",
          "female",
          "female",
          "male",
          "male",
          "male",
          "male",
          "male",
          "female",
          "male",
          "female",
          "female",
          "male",
          "male",
          "female",
          "male",
          "female",
          "male",
          "female",
          "female",
          "male",
          "male",
          "female",
          "female",
          "male",
          "female",
          "male",
          "female",
          "male",
          "female",
          "male",
          "male",
          "female",
          "female",
          "male",
          "male",
          "male",
          "male",
          "female",
          "female",
          "male",
          "male",
          "female",
          "male",
          "female",
          "female",
          "female",
          "female",
          "female",
          "male",
          "male",
          "male",
          "female",
          "female",
          "male",
          "female",
          "female",
          "male",
          "female",
          "male",
          "male",
          "male",
          "female",
          "male",
          "male",
          "female",
          "male",
          "male",
          "female",
          "female",
          "female",
          "female",
          "male",
          "male",
          "male",
          "female",
          "female",
          "male",
          "male",
          "female",
          "male",
          "male",
          "male",
          "female",
          "female",
          "male",
          "female",
          "female",
          "female",
          "female",
          "female",
          "male",
          "female",
          "female",
          "female",
          "female",
          "female",
          "male",
          "male",
          "male",
          "male",
          "female",
          "male",
          "male",
          "female",
          "male",
          "male",
          "female",
          "female",
          "male",
          "male",
          "female",
          "male",
          "male",
          "male",
          "male",
          "female",
          "female",
          "male",
          "male",
          "male",
          "male",
          "male",
          "female",
          "female",
          "female",
          "female",
          "male",
          "male",
          "female",
          "male",
          "male",
          "male",
          "male",
          "male",
          "male",
          "female",
          "male",
          "male",
          "female",
          "female",
          "male",
          "male",
          "male",
          "male",
          "male",
          "female",
          "female",
          "male",
          "female",
          "male",
          "female",
          "female",
          "male",
          "male",
          "female",
          "male",
          "female",
          "female",
          "female",
          "male",
          "female",
          "male",
          "male",
          "male",
          "male",
          "male",
          "male",
          "female",
          "male",
          "male",
          "female",
          "male",
          "female",
          "female",
          "male",
          "female",
          "female",
          "female",
          "male",
          "female",
          "male",
          "male",
          "male",
          "female",
          "female",
          "female",
          "male",
          "male",
          "male",
          "male",
          "female",
          "male",
          "male",
          "male",
          "female",
          "female",
          "male",
          "male",
          "male",
          "male",
          "female",
          "male",
          "male",
          "male",
          "male",
          "male",
          "female",
          "male",
          "male",
          "male",
          "female",
          "female",
          "male",
          "male",
          "male",
          "male",
          "male",
          "male",
          "male",
          "male",
          "male",
          "female",
          "female",
          "female",
          "male",
          "female",
          "female",
          "male",
          "male",
          "male",
          "female",
          "female",
          "male",
          "male",
          "female",
          "female",
          "female",
          "male",
          "male",
          "female",
          "female",
          "female",
          "male",
          "female",
          "female",
          "female",
          "male",
          "male",
          "male",
          "male",
          "male",
          "male",
          "female",
          "female",
          "male",
          "female",
          "male",
          "female",
          "female",
          "female",
          "female",
          "male",
          "female",
          "male",
          "male",
          "male",
          "female",
          "female",
          "female",
          "male",
          "male",
          "male",
          "female",
          "female",
          "male",
          "male",
          "male",
          "female",
          "male",
          "male",
          "male",
          "male",
          "male",
          "male",
          "male",
          "male",
          "female",
          "female",
          "female",
          "male",
          "female",
          "male",
          "female",
          "male",
          "female",
          "male",
          "female",
          "female",
          "female",
          "female",
          "female",
          "female",
          "female",
          "male",
          "female",
          "female",
          "male",
          "male",
          "female",
          "female",
          "female",
          "female",
          "female",
          "male",
          "male",
          "male",
          "female",
          "female",
          "male",
          "female",
          "male",
          "male",
          "female",
          "male",
          "male",
          "male",
          "female",
          "male",
          "female",
          "female",
          "male",
          "female",
          "female",
          "female",
          "male",
          "female",
          "female",
          "female",
          "female",
          "female",
          "female",
          "male",
          "male",
          "male",
          "female",
          "male",
          "male",
          "female",
          "male",
          "male",
          "male",
          "female",
          "female",
          "female",
          "male",
          "male",
          "female",
          "female",
          "female",
          "female",
          "male",
          "male",
          "male",
          "female",
          "male",
          "male",
          "male",
          "male",
          "male",
          "male",
          "male",
          "male",
          "male",
          "female",
          "female",
          "male",
          "female",
          "male",
          "female",
          "female",
          "female",
          "female",
          "female",
          "female",
          "female",
          "female",
          "female",
          "female",
          "female",
          "female",
          "female",
          "female",
          "female",
          "female",
          "female",
          "female",
          "female",
          "female",
          "female",
          "female",
          "female",
          "female",
          "female",
          "female",
          "male",
          "male",
          "female",
          "female",
          "male",
          "female",
          "female",
          "female",
          "female",
          "female",
          "female",
          "female",
          "female",
          "female",
          "female",
          "female",
          "female",
          "male",
          "male",
          "male",
          "male",
          "male",
          "male",
          "male",
          "male",
          "male",
          "female",
          "female",
          "female",
          "female",
          "male",
          "female",
          "male",
          "male",
          "male",
          "male",
          "female",
          "male",
          "female",
          "female",
          "female",
          "male",
          "male",
          "female",
          "female",
          "male",
          "male",
          "female",
          "female",
          "male",
          "male",
          "male",
          "male",
          "male",
          "male",
          "female",
          "female",
          "male",
          "male",
          "female",
          "female",
          "female",
          "female",
          "female",
          "female",
          "female",
          "female",
          "female",
          "female",
          "male",
          "female",
          "female",
          "female",
          "female",
          "female",
          "female",
          "female",
          "female",
          "female",
          "female",
          "female",
          "female",
          "female",
          "female",
          "male",
          "male",
          "male",
          "male",
          "male",
          "male",
          "male",
          "male",
          "male",
          "male",
          "female",
          "female",
          "female",
          "female",
          "male",
          "female",
          "male",
          "male",
          "male",
          "female",
          "male",
          "male",
          "male",
          "male",
          "male",
          "male",
          "female",
          "male",
          "male",
          "female",
          "female",
          "female",
          "female",
          "female",
          "male",
          "male",
          "male",
          "male",
          "female",
          "female",
          "male",
          "female",
          "female",
          "male",
          "male",
          "male",
          "female",
          "female",
          "female",
          "female",
          "female",
          "female",
          "male",
          "male",
          "male",
          "male",
          "female",
          "male",
          "female",
          "male",
          "female",
          "female",
          "male"
         ],
         "x0": " ",
         "xaxis": "x",
         "y": [
          28,
          32,
          30,
          34,
          30,
          32,
          55,
          55,
          50,
          34,
          44,
          42,
          40,
          39,
          55,
          35,
          31,
          34,
          36,
          51,
          46,
          51,
          48,
          28,
          49,
          48,
          42,
          42,
          54,
          39,
          53,
          29,
          43,
          29,
          50,
          28,
          55,
          33,
          49,
          42,
          45,
          30,
          31,
          54,
          54,
          45,
          38,
          48,
          42,
          53,
          40,
          53,
          49,
          52,
          32,
          34,
          35,
          49,
          33,
          55,
          55,
          49,
          46,
          41,
          53,
          41,
          55,
          34,
          40,
          44,
          50,
          54,
          44,
          32,
          32,
          47,
          30,
          31,
          39,
          40,
          52,
          33,
          47,
          53,
          40,
          31,
          41,
          41,
          30,
          36,
          53,
          39,
          48,
          50,
          41,
          53,
          51,
          31,
          50,
          40,
          54,
          39,
          41,
          41,
          29,
          42,
          30,
          54,
          47,
          46,
          41,
          41,
          42,
          32,
          35,
          45,
          35,
          47,
          34,
          44,
          38,
          49,
          47,
          48,
          52,
          29,
          44,
          50,
          34,
          53,
          47,
          53,
          36,
          43,
          44,
          50,
          55,
          29,
          28,
          35,
          46,
          50,
          33,
          34,
          40,
          33,
          52,
          54,
          38,
          43,
          45,
          52,
          37,
          41,
          45,
          53,
          39,
          32,
          50,
          33,
          46,
          30,
          55,
          30,
          34,
          39,
          41,
          39,
          35,
          34,
          55,
          47,
          45,
          31,
          41,
          42,
          36,
          54,
          44,
          47,
          47,
          29,
          41,
          50,
          54,
          48,
          41,
          29,
          34,
          29,
          33,
          43,
          32,
          29,
          48,
          54,
          42,
          35,
          40,
          37,
          31,
          55,
          40,
          37,
          30,
          45,
          28,
          44,
          33,
          32,
          37,
          39,
          35,
          36,
          40,
          48,
          51,
          28,
          44,
          34,
          49,
          48,
          53,
          46,
          47,
          55,
          37,
          37,
          31,
          42,
          46,
          50,
          51,
          30,
          47,
          33,
          29,
          54,
          35,
          45,
          53,
          48,
          36,
          45,
          41,
          54,
          35,
          46,
          53,
          38,
          39,
          32,
          37,
          53,
          53,
          48,
          50,
          53,
          49,
          41,
          30,
          54,
          50,
          35,
          46,
          51,
          30,
          40,
          42,
          54,
          54,
          48,
          46,
          45,
          45,
          49,
          36,
          32,
          30,
          51,
          33,
          28,
          50,
          53,
          52,
          33,
          45,
          33,
          47,
          31,
          44,
          36,
          50,
          53,
          33,
          45,
          50,
          36,
          49,
          55,
          44,
          45,
          37,
          55,
          54,
          30,
          54,
          40,
          34,
          35,
          52,
          39,
          43,
          44,
          40,
          52,
          39,
          53,
          31,
          32,
          53,
          41,
          41,
          36,
          49,
          50,
          32,
          53,
          40,
          49,
          47,
          37,
          49,
          44,
          43,
          47,
          45,
          51,
          48,
          37,
          33,
          46,
          40,
          34,
          32,
          44,
          47,
          45,
          45,
          54,
          49,
          34,
          44,
          53,
          33,
          36,
          53,
          47,
          34,
          54,
          52,
          52,
          38,
          53,
          30,
          49,
          41,
          55,
          32,
          35,
          37,
          49,
          53,
          53,
          43,
          32,
          28,
          42,
          49,
          29,
          47,
          28,
          49,
          36,
          39,
          38,
          49,
          35,
          32,
          47,
          51,
          46,
          41,
          28,
          36,
          51,
          29,
          44,
          31,
          52,
          32,
          32,
          49,
          28,
          35,
          38,
          49,
          34,
          44,
          50,
          38,
          52,
          50,
          52,
          32,
          29,
          29,
          47,
          40,
          31,
          44,
          54,
          28,
          34,
          36,
          43,
          29,
          30,
          46,
          39,
          43,
          29,
          42,
          55,
          40,
          36,
          37,
          38,
          36,
          48,
          35,
          41,
          53,
          44,
          46,
          29,
          42,
          39,
          37,
          49,
          43,
          42,
          54,
          49,
          51,
          53,
          38,
          28,
          30,
          55,
          37,
          42,
          33,
          36,
          38,
          33,
          38,
          36,
          36,
          53,
          50,
          46,
          37,
          43,
          48,
          37,
          52,
          42,
          41,
          47,
          29,
          46,
          36,
          34,
          51,
          51,
          44,
          33,
          46,
          45,
          45,
          50,
          37,
          40,
          44,
          51,
          49,
          40,
          46,
          38,
          52,
          55,
          51,
          41,
          44,
          43,
          49,
          29,
          32,
          55,
          35,
          55,
          54,
          54,
          45,
          37,
          28,
          39,
          38,
          37,
          55,
          47,
          32,
          53,
          40,
          48,
          29,
          39,
          53,
          55,
          41,
          44,
          34,
          40,
          28,
          37,
          43,
          44,
          44,
          38,
          46,
          50,
          47,
          41,
          29,
          29,
          51,
          53,
          36,
          39,
          49,
          36,
          54,
          47,
          47,
          54,
          39,
          52,
          36,
          35,
          45,
          47,
          46,
          45,
          53,
          29,
          43,
          47,
          49,
          39,
          29,
          34,
          48,
          36,
          39,
          42,
          40,
          37,
          31,
          28,
          46,
          30,
          53,
          55,
          51,
          46,
          45,
          45,
          32,
          37,
          54,
          35,
          28,
          38,
          52,
          35,
          47,
          35,
          37,
          54,
          54,
          43,
          50,
          42,
          53,
          32,
          51,
          46,
          53,
          40,
          46,
          44,
          53,
          29,
          46,
          41,
          34,
          35,
          55,
          46,
          52,
          40,
          37,
          40,
          36,
          29,
          44,
          50,
          42,
          45,
          33,
          38,
          28,
          46,
          34,
          33,
          37,
          45,
          34,
          53,
          37,
          29
         ],
         "y0": " ",
         "yaxis": "y"
        }
       ],
       "layout": {
        "boxmode": "group",
        "legend": {
         "tracegroupgap": 0
        },
        "margin": {
         "t": 60
        },
        "template": {
         "data": {
          "bar": [
           {
            "error_x": {
             "color": "#2a3f5f"
            },
            "error_y": {
             "color": "#2a3f5f"
            },
            "marker": {
             "line": {
              "color": "#E5ECF6",
              "width": 0.5
             },
             "pattern": {
              "fillmode": "overlay",
              "size": 10,
              "solidity": 0.2
             }
            },
            "type": "bar"
           }
          ],
          "barpolar": [
           {
            "marker": {
             "line": {
              "color": "#E5ECF6",
              "width": 0.5
             },
             "pattern": {
              "fillmode": "overlay",
              "size": 10,
              "solidity": 0.2
             }
            },
            "type": "barpolar"
           }
          ],
          "carpet": [
           {
            "aaxis": {
             "endlinecolor": "#2a3f5f",
             "gridcolor": "white",
             "linecolor": "white",
             "minorgridcolor": "white",
             "startlinecolor": "#2a3f5f"
            },
            "baxis": {
             "endlinecolor": "#2a3f5f",
             "gridcolor": "white",
             "linecolor": "white",
             "minorgridcolor": "white",
             "startlinecolor": "#2a3f5f"
            },
            "type": "carpet"
           }
          ],
          "choropleth": [
           {
            "colorbar": {
             "outlinewidth": 0,
             "ticks": ""
            },
            "type": "choropleth"
           }
          ],
          "contour": [
           {
            "colorbar": {
             "outlinewidth": 0,
             "ticks": ""
            },
            "colorscale": [
             [
              0,
              "#0d0887"
             ],
             [
              0.1111111111111111,
              "#46039f"
             ],
             [
              0.2222222222222222,
              "#7201a8"
             ],
             [
              0.3333333333333333,
              "#9c179e"
             ],
             [
              0.4444444444444444,
              "#bd3786"
             ],
             [
              0.5555555555555556,
              "#d8576b"
             ],
             [
              0.6666666666666666,
              "#ed7953"
             ],
             [
              0.7777777777777778,
              "#fb9f3a"
             ],
             [
              0.8888888888888888,
              "#fdca26"
             ],
             [
              1,
              "#f0f921"
             ]
            ],
            "type": "contour"
           }
          ],
          "contourcarpet": [
           {
            "colorbar": {
             "outlinewidth": 0,
             "ticks": ""
            },
            "type": "contourcarpet"
           }
          ],
          "heatmap": [
           {
            "colorbar": {
             "outlinewidth": 0,
             "ticks": ""
            },
            "colorscale": [
             [
              0,
              "#0d0887"
             ],
             [
              0.1111111111111111,
              "#46039f"
             ],
             [
              0.2222222222222222,
              "#7201a8"
             ],
             [
              0.3333333333333333,
              "#9c179e"
             ],
             [
              0.4444444444444444,
              "#bd3786"
             ],
             [
              0.5555555555555556,
              "#d8576b"
             ],
             [
              0.6666666666666666,
              "#ed7953"
             ],
             [
              0.7777777777777778,
              "#fb9f3a"
             ],
             [
              0.8888888888888888,
              "#fdca26"
             ],
             [
              1,
              "#f0f921"
             ]
            ],
            "type": "heatmap"
           }
          ],
          "heatmapgl": [
           {
            "colorbar": {
             "outlinewidth": 0,
             "ticks": ""
            },
            "colorscale": [
             [
              0,
              "#0d0887"
             ],
             [
              0.1111111111111111,
              "#46039f"
             ],
             [
              0.2222222222222222,
              "#7201a8"
             ],
             [
              0.3333333333333333,
              "#9c179e"
             ],
             [
              0.4444444444444444,
              "#bd3786"
             ],
             [
              0.5555555555555556,
              "#d8576b"
             ],
             [
              0.6666666666666666,
              "#ed7953"
             ],
             [
              0.7777777777777778,
              "#fb9f3a"
             ],
             [
              0.8888888888888888,
              "#fdca26"
             ],
             [
              1,
              "#f0f921"
             ]
            ],
            "type": "heatmapgl"
           }
          ],
          "histogram": [
           {
            "marker": {
             "pattern": {
              "fillmode": "overlay",
              "size": 10,
              "solidity": 0.2
             }
            },
            "type": "histogram"
           }
          ],
          "histogram2d": [
           {
            "colorbar": {
             "outlinewidth": 0,
             "ticks": ""
            },
            "colorscale": [
             [
              0,
              "#0d0887"
             ],
             [
              0.1111111111111111,
              "#46039f"
             ],
             [
              0.2222222222222222,
              "#7201a8"
             ],
             [
              0.3333333333333333,
              "#9c179e"
             ],
             [
              0.4444444444444444,
              "#bd3786"
             ],
             [
              0.5555555555555556,
              "#d8576b"
             ],
             [
              0.6666666666666666,
              "#ed7953"
             ],
             [
              0.7777777777777778,
              "#fb9f3a"
             ],
             [
              0.8888888888888888,
              "#fdca26"
             ],
             [
              1,
              "#f0f921"
             ]
            ],
            "type": "histogram2d"
           }
          ],
          "histogram2dcontour": [
           {
            "colorbar": {
             "outlinewidth": 0,
             "ticks": ""
            },
            "colorscale": [
             [
              0,
              "#0d0887"
             ],
             [
              0.1111111111111111,
              "#46039f"
             ],
             [
              0.2222222222222222,
              "#7201a8"
             ],
             [
              0.3333333333333333,
              "#9c179e"
             ],
             [
              0.4444444444444444,
              "#bd3786"
             ],
             [
              0.5555555555555556,
              "#d8576b"
             ],
             [
              0.6666666666666666,
              "#ed7953"
             ],
             [
              0.7777777777777778,
              "#fb9f3a"
             ],
             [
              0.8888888888888888,
              "#fdca26"
             ],
             [
              1,
              "#f0f921"
             ]
            ],
            "type": "histogram2dcontour"
           }
          ],
          "mesh3d": [
           {
            "colorbar": {
             "outlinewidth": 0,
             "ticks": ""
            },
            "type": "mesh3d"
           }
          ],
          "parcoords": [
           {
            "line": {
             "colorbar": {
              "outlinewidth": 0,
              "ticks": ""
             }
            },
            "type": "parcoords"
           }
          ],
          "pie": [
           {
            "automargin": true,
            "type": "pie"
           }
          ],
          "scatter": [
           {
            "marker": {
             "colorbar": {
              "outlinewidth": 0,
              "ticks": ""
             }
            },
            "type": "scatter"
           }
          ],
          "scatter3d": [
           {
            "line": {
             "colorbar": {
              "outlinewidth": 0,
              "ticks": ""
             }
            },
            "marker": {
             "colorbar": {
              "outlinewidth": 0,
              "ticks": ""
             }
            },
            "type": "scatter3d"
           }
          ],
          "scattercarpet": [
           {
            "marker": {
             "colorbar": {
              "outlinewidth": 0,
              "ticks": ""
             }
            },
            "type": "scattercarpet"
           }
          ],
          "scattergeo": [
           {
            "marker": {
             "colorbar": {
              "outlinewidth": 0,
              "ticks": ""
             }
            },
            "type": "scattergeo"
           }
          ],
          "scattergl": [
           {
            "marker": {
             "colorbar": {
              "outlinewidth": 0,
              "ticks": ""
             }
            },
            "type": "scattergl"
           }
          ],
          "scattermapbox": [
           {
            "marker": {
             "colorbar": {
              "outlinewidth": 0,
              "ticks": ""
             }
            },
            "type": "scattermapbox"
           }
          ],
          "scatterpolar": [
           {
            "marker": {
             "colorbar": {
              "outlinewidth": 0,
              "ticks": ""
             }
            },
            "type": "scatterpolar"
           }
          ],
          "scatterpolargl": [
           {
            "marker": {
             "colorbar": {
              "outlinewidth": 0,
              "ticks": ""
             }
            },
            "type": "scatterpolargl"
           }
          ],
          "scatterternary": [
           {
            "marker": {
             "colorbar": {
              "outlinewidth": 0,
              "ticks": ""
             }
            },
            "type": "scatterternary"
           }
          ],
          "surface": [
           {
            "colorbar": {
             "outlinewidth": 0,
             "ticks": ""
            },
            "colorscale": [
             [
              0,
              "#0d0887"
             ],
             [
              0.1111111111111111,
              "#46039f"
             ],
             [
              0.2222222222222222,
              "#7201a8"
             ],
             [
              0.3333333333333333,
              "#9c179e"
             ],
             [
              0.4444444444444444,
              "#bd3786"
             ],
             [
              0.5555555555555556,
              "#d8576b"
             ],
             [
              0.6666666666666666,
              "#ed7953"
             ],
             [
              0.7777777777777778,
              "#fb9f3a"
             ],
             [
              0.8888888888888888,
              "#fdca26"
             ],
             [
              1,
              "#f0f921"
             ]
            ],
            "type": "surface"
           }
          ],
          "table": [
           {
            "cells": {
             "fill": {
              "color": "#EBF0F8"
             },
             "line": {
              "color": "white"
             }
            },
            "header": {
             "fill": {
              "color": "#C8D4E3"
             },
             "line": {
              "color": "white"
             }
            },
            "type": "table"
           }
          ]
         },
         "layout": {
          "annotationdefaults": {
           "arrowcolor": "#2a3f5f",
           "arrowhead": 0,
           "arrowwidth": 1
          },
          "autotypenumbers": "strict",
          "coloraxis": {
           "colorbar": {
            "outlinewidth": 0,
            "ticks": ""
           }
          },
          "colorscale": {
           "diverging": [
            [
             0,
             "#8e0152"
            ],
            [
             0.1,
             "#c51b7d"
            ],
            [
             0.2,
             "#de77ae"
            ],
            [
             0.3,
             "#f1b6da"
            ],
            [
             0.4,
             "#fde0ef"
            ],
            [
             0.5,
             "#f7f7f7"
            ],
            [
             0.6,
             "#e6f5d0"
            ],
            [
             0.7,
             "#b8e186"
            ],
            [
             0.8,
             "#7fbc41"
            ],
            [
             0.9,
             "#4d9221"
            ],
            [
             1,
             "#276419"
            ]
           ],
           "sequential": [
            [
             0,
             "#0d0887"
            ],
            [
             0.1111111111111111,
             "#46039f"
            ],
            [
             0.2222222222222222,
             "#7201a8"
            ],
            [
             0.3333333333333333,
             "#9c179e"
            ],
            [
             0.4444444444444444,
             "#bd3786"
            ],
            [
             0.5555555555555556,
             "#d8576b"
            ],
            [
             0.6666666666666666,
             "#ed7953"
            ],
            [
             0.7777777777777778,
             "#fb9f3a"
            ],
            [
             0.8888888888888888,
             "#fdca26"
            ],
            [
             1,
             "#f0f921"
            ]
           ],
           "sequentialminus": [
            [
             0,
             "#0d0887"
            ],
            [
             0.1111111111111111,
             "#46039f"
            ],
            [
             0.2222222222222222,
             "#7201a8"
            ],
            [
             0.3333333333333333,
             "#9c179e"
            ],
            [
             0.4444444444444444,
             "#bd3786"
            ],
            [
             0.5555555555555556,
             "#d8576b"
            ],
            [
             0.6666666666666666,
             "#ed7953"
            ],
            [
             0.7777777777777778,
             "#fb9f3a"
            ],
            [
             0.8888888888888888,
             "#fdca26"
            ],
            [
             1,
             "#f0f921"
            ]
           ]
          },
          "colorway": [
           "#636efa",
           "#EF553B",
           "#00cc96",
           "#ab63fa",
           "#FFA15A",
           "#19d3f3",
           "#FF6692",
           "#B6E880",
           "#FF97FF",
           "#FECB52"
          ],
          "font": {
           "color": "#2a3f5f"
          },
          "geo": {
           "bgcolor": "white",
           "lakecolor": "white",
           "landcolor": "#E5ECF6",
           "showlakes": true,
           "showland": true,
           "subunitcolor": "white"
          },
          "hoverlabel": {
           "align": "left"
          },
          "hovermode": "closest",
          "mapbox": {
           "style": "light"
          },
          "paper_bgcolor": "white",
          "plot_bgcolor": "#E5ECF6",
          "polar": {
           "angularaxis": {
            "gridcolor": "white",
            "linecolor": "white",
            "ticks": ""
           },
           "bgcolor": "#E5ECF6",
           "radialaxis": {
            "gridcolor": "white",
            "linecolor": "white",
            "ticks": ""
           }
          },
          "scene": {
           "xaxis": {
            "backgroundcolor": "#E5ECF6",
            "gridcolor": "white",
            "gridwidth": 2,
            "linecolor": "white",
            "showbackground": true,
            "ticks": "",
            "zerolinecolor": "white"
           },
           "yaxis": {
            "backgroundcolor": "#E5ECF6",
            "gridcolor": "white",
            "gridwidth": 2,
            "linecolor": "white",
            "showbackground": true,
            "ticks": "",
            "zerolinecolor": "white"
           },
           "zaxis": {
            "backgroundcolor": "#E5ECF6",
            "gridcolor": "white",
            "gridwidth": 2,
            "linecolor": "white",
            "showbackground": true,
            "ticks": "",
            "zerolinecolor": "white"
           }
          },
          "shapedefaults": {
           "line": {
            "color": "#2a3f5f"
           }
          },
          "ternary": {
           "aaxis": {
            "gridcolor": "white",
            "linecolor": "white",
            "ticks": ""
           },
           "baxis": {
            "gridcolor": "white",
            "linecolor": "white",
            "ticks": ""
           },
           "bgcolor": "#E5ECF6",
           "caxis": {
            "gridcolor": "white",
            "linecolor": "white",
            "ticks": ""
           }
          },
          "title": {
           "x": 0.05
          },
          "xaxis": {
           "automargin": true,
           "gridcolor": "white",
           "linecolor": "white",
           "ticks": "",
           "title": {
            "standoff": 15
           },
           "zerolinecolor": "white",
           "zerolinewidth": 2
          },
          "yaxis": {
           "automargin": true,
           "gridcolor": "white",
           "linecolor": "white",
           "ticks": "",
           "title": {
            "standoff": 15
           },
           "zerolinecolor": "white",
           "zerolinewidth": 2
          }
         }
        },
        "xaxis": {
         "anchor": "y",
         "domain": [
          0,
          1
         ],
         "title": {
          "text": "GENDER"
         }
        },
        "yaxis": {
         "anchor": "x",
         "domain": [
          0,
          1
         ],
         "title": {
          "text": "AGE_RANGE"
         }
        }
       }
      },
      "text/html": [
       "<div>                            <div id=\"4cefabd4-4f0e-45c8-abd4-6955c1a20bd1\" class=\"plotly-graph-div\" style=\"height:525px; width:100%;\"></div>            <script type=\"text/javascript\">                require([\"plotly\"], function(Plotly) {                    window.PLOTLYENV=window.PLOTLYENV || {};                                    if (document.getElementById(\"4cefabd4-4f0e-45c8-abd4-6955c1a20bd1\")) {                    Plotly.newPlot(                        \"4cefabd4-4f0e-45c8-abd4-6955c1a20bd1\",                        [{\"alignmentgroup\":\"True\",\"hovertemplate\":\"GENDER=%{x}<br>AGE_RANGE=%{y}<extra></extra>\",\"legendgroup\":\"\",\"marker\":{\"color\":\"#636efa\"},\"name\":\"\",\"notched\":false,\"offsetgroup\":\"\",\"orientation\":\"v\",\"showlegend\":false,\"type\":\"box\",\"x\":[\"male\",\"male\",\"female\",\"male\",\"male\",\"male\",\"female\",\"female\",\"female\",\"male\",\"female\",\"female\",\"male\",\"male\",\"female\",\"female\",\"female\",\"female\",\"female\",\"female\",\"female\",\"female\",\"male\",\"female\",\"male\",\"male\",\"female\",\"female\",\"male\",\"female\",\"male\",\"male\",\"male\",\"female\",\"female\",\"male\",\"female\",\"male\",\"male\",\"male\",\"female\",\"male\",\"female\",\"male\",\"male\",\"female\",\"male\",\"female\",\"female\",\"male\",\"female\",\"female\",\"male\",\"male\",\"male\",\"male\",\"male\",\"female\",\"female\",\"female\",\"male\",\"female\",\"male\",\"female\",\"female\",\"male\",\"male\",\"female\",\"female\",\"male\",\"male\",\"male\",\"male\",\"male\",\"female\",\"male\",\"female\",\"male\",\"female\",\"male\",\"female\",\"male\",\"male\",\"male\",\"male\",\"female\",\"female\",\"female\",\"female\",\"male\",\"male\",\"female\",\"female\",\"male\",\"male\",\"male\",\"male\",\"male\",\"female\",\"male\",\"female\",\"female\",\"male\",\"male\",\"female\",\"male\",\"female\",\"male\",\"female\",\"female\",\"male\",\"male\",\"female\",\"female\",\"male\",\"female\",\"male\",\"female\",\"male\",\"female\",\"male\",\"male\",\"female\",\"female\",\"male\",\"male\",\"male\",\"male\",\"female\",\"female\",\"male\",\"male\",\"female\",\"male\",\"female\",\"female\",\"female\",\"female\",\"female\",\"male\",\"male\",\"male\",\"female\",\"female\",\"male\",\"female\",\"female\",\"male\",\"female\",\"male\",\"male\",\"male\",\"female\",\"male\",\"male\",\"female\",\"male\",\"male\",\"female\",\"female\",\"female\",\"female\",\"male\",\"male\",\"male\",\"female\",\"female\",\"male\",\"male\",\"female\",\"male\",\"male\",\"male\",\"female\",\"female\",\"male\",\"female\",\"female\",\"female\",\"female\",\"female\",\"male\",\"female\",\"female\",\"female\",\"female\",\"female\",\"male\",\"male\",\"male\",\"male\",\"female\",\"male\",\"male\",\"female\",\"male\",\"male\",\"female\",\"female\",\"male\",\"male\",\"female\",\"male\",\"male\",\"male\",\"male\",\"female\",\"female\",\"male\",\"male\",\"male\",\"male\",\"male\",\"female\",\"female\",\"female\",\"female\",\"male\",\"male\",\"female\",\"male\",\"male\",\"male\",\"male\",\"male\",\"male\",\"female\",\"male\",\"male\",\"female\",\"female\",\"male\",\"male\",\"male\",\"male\",\"male\",\"female\",\"female\",\"male\",\"female\",\"male\",\"female\",\"female\",\"male\",\"male\",\"female\",\"male\",\"female\",\"female\",\"female\",\"male\",\"female\",\"male\",\"male\",\"male\",\"male\",\"male\",\"male\",\"female\",\"male\",\"male\",\"female\",\"male\",\"female\",\"female\",\"male\",\"female\",\"female\",\"female\",\"male\",\"female\",\"male\",\"male\",\"male\",\"female\",\"female\",\"female\",\"male\",\"male\",\"male\",\"male\",\"female\",\"male\",\"male\",\"male\",\"female\",\"female\",\"male\",\"male\",\"male\",\"male\",\"female\",\"male\",\"male\",\"male\",\"male\",\"male\",\"female\",\"male\",\"male\",\"male\",\"female\",\"female\",\"male\",\"male\",\"male\",\"male\",\"male\",\"male\",\"male\",\"male\",\"male\",\"female\",\"female\",\"female\",\"male\",\"female\",\"female\",\"male\",\"male\",\"male\",\"female\",\"female\",\"male\",\"male\",\"female\",\"female\",\"female\",\"male\",\"male\",\"female\",\"female\",\"female\",\"male\",\"female\",\"female\",\"female\",\"male\",\"male\",\"male\",\"male\",\"male\",\"male\",\"female\",\"female\",\"male\",\"female\",\"male\",\"female\",\"female\",\"female\",\"female\",\"male\",\"female\",\"male\",\"male\",\"male\",\"female\",\"female\",\"female\",\"male\",\"male\",\"male\",\"female\",\"female\",\"male\",\"male\",\"male\",\"female\",\"male\",\"male\",\"male\",\"male\",\"male\",\"male\",\"male\",\"male\",\"female\",\"female\",\"female\",\"male\",\"female\",\"male\",\"female\",\"male\",\"female\",\"male\",\"female\",\"female\",\"female\",\"female\",\"female\",\"female\",\"female\",\"male\",\"female\",\"female\",\"male\",\"male\",\"female\",\"female\",\"female\",\"female\",\"female\",\"male\",\"male\",\"male\",\"female\",\"female\",\"male\",\"female\",\"male\",\"male\",\"female\",\"male\",\"male\",\"male\",\"female\",\"male\",\"female\",\"female\",\"male\",\"female\",\"female\",\"female\",\"male\",\"female\",\"female\",\"female\",\"female\",\"female\",\"female\",\"male\",\"male\",\"male\",\"female\",\"male\",\"male\",\"female\",\"male\",\"male\",\"male\",\"female\",\"female\",\"female\",\"male\",\"male\",\"female\",\"female\",\"female\",\"female\",\"male\",\"male\",\"male\",\"female\",\"male\",\"male\",\"male\",\"male\",\"male\",\"male\",\"male\",\"male\",\"male\",\"female\",\"female\",\"male\",\"female\",\"male\",\"female\",\"female\",\"female\",\"female\",\"female\",\"female\",\"female\",\"female\",\"female\",\"female\",\"female\",\"female\",\"female\",\"female\",\"female\",\"female\",\"female\",\"female\",\"female\",\"female\",\"female\",\"female\",\"female\",\"female\",\"female\",\"female\",\"male\",\"male\",\"female\",\"female\",\"male\",\"female\",\"female\",\"female\",\"female\",\"female\",\"female\",\"female\",\"female\",\"female\",\"female\",\"female\",\"female\",\"male\",\"male\",\"male\",\"male\",\"male\",\"male\",\"male\",\"male\",\"male\",\"female\",\"female\",\"female\",\"female\",\"male\",\"female\",\"male\",\"male\",\"male\",\"male\",\"female\",\"male\",\"female\",\"female\",\"female\",\"male\",\"male\",\"female\",\"female\",\"male\",\"male\",\"female\",\"female\",\"male\",\"male\",\"male\",\"male\",\"male\",\"male\",\"female\",\"female\",\"male\",\"male\",\"female\",\"female\",\"female\",\"female\",\"female\",\"female\",\"female\",\"female\",\"female\",\"female\",\"male\",\"female\",\"female\",\"female\",\"female\",\"female\",\"female\",\"female\",\"female\",\"female\",\"female\",\"female\",\"female\",\"female\",\"female\",\"male\",\"male\",\"male\",\"male\",\"male\",\"male\",\"male\",\"male\",\"male\",\"male\",\"female\",\"female\",\"female\",\"female\",\"male\",\"female\",\"male\",\"male\",\"male\",\"female\",\"male\",\"male\",\"male\",\"male\",\"male\",\"male\",\"female\",\"male\",\"male\",\"female\",\"female\",\"female\",\"female\",\"female\",\"male\",\"male\",\"male\",\"male\",\"female\",\"female\",\"male\",\"female\",\"female\",\"male\",\"male\",\"male\",\"female\",\"female\",\"female\",\"female\",\"female\",\"female\",\"male\",\"male\",\"male\",\"male\",\"female\",\"male\",\"female\",\"male\",\"female\",\"female\",\"male\"],\"x0\":\" \",\"xaxis\":\"x\",\"y\":[28.0,32.0,30.0,34.0,30.0,32.0,55.0,55.0,50.0,34.0,44.0,42.0,40.0,39.0,55.0,35.0,31.0,34.0,36.0,51.0,46.0,51.0,48.0,28.0,49.0,48.0,42.0,42.0,54.0,39.0,53.0,29.0,43.0,29.0,50.0,28.0,55.0,33.0,49.0,42.0,45.0,30.0,31.0,54.0,54.0,45.0,38.0,48.0,42.0,53.0,40.0,53.0,49.0,52.0,32.0,34.0,35.0,49.0,33.0,55.0,55.0,49.0,46.0,41.0,53.0,41.0,55.0,34.0,40.0,44.0,50.0,54.0,44.0,32.0,32.0,47.0,30.0,31.0,39.0,40.0,52.0,33.0,47.0,53.0,40.0,31.0,41.0,41.0,30.0,36.0,53.0,39.0,48.0,50.0,41.0,53.0,51.0,31.0,50.0,40.0,54.0,39.0,41.0,41.0,29.0,42.0,30.0,54.0,47.0,46.0,41.0,41.0,42.0,32.0,35.0,45.0,35.0,47.0,34.0,44.0,38.0,49.0,47.0,48.0,52.0,29.0,44.0,50.0,34.0,53.0,47.0,53.0,36.0,43.0,44.0,50.0,55.0,29.0,28.0,35.0,46.0,50.0,33.0,34.0,40.0,33.0,52.0,54.0,38.0,43.0,45.0,52.0,37.0,41.0,45.0,53.0,39.0,32.0,50.0,33.0,46.0,30.0,55.0,30.0,34.0,39.0,41.0,39.0,35.0,34.0,55.0,47.0,45.0,31.0,41.0,42.0,36.0,54.0,44.0,47.0,47.0,29.0,41.0,50.0,54.0,48.0,41.0,29.0,34.0,29.0,33.0,43.0,32.0,29.0,48.0,54.0,42.0,35.0,40.0,37.0,31.0,55.0,40.0,37.0,30.0,45.0,28.0,44.0,33.0,32.0,37.0,39.0,35.0,36.0,40.0,48.0,51.0,28.0,44.0,34.0,49.0,48.0,53.0,46.0,47.0,55.0,37.0,37.0,31.0,42.0,46.0,50.0,51.0,30.0,47.0,33.0,29.0,54.0,35.0,45.0,53.0,48.0,36.0,45.0,41.0,54.0,35.0,46.0,53.0,38.0,39.0,32.0,37.0,53.0,53.0,48.0,50.0,53.0,49.0,41.0,30.0,54.0,50.0,35.0,46.0,51.0,30.0,40.0,42.0,54.0,54.0,48.0,46.0,45.0,45.0,49.0,36.0,32.0,30.0,51.0,33.0,28.0,50.0,53.0,52.0,33.0,45.0,33.0,47.0,31.0,44.0,36.0,50.0,53.0,33.0,45.0,50.0,36.0,49.0,55.0,44.0,45.0,37.0,55.0,54.0,30.0,54.0,40.0,34.0,35.0,52.0,39.0,43.0,44.0,40.0,52.0,39.0,53.0,31.0,32.0,53.0,41.0,41.0,36.0,49.0,50.0,32.0,53.0,40.0,49.0,47.0,37.0,49.0,44.0,43.0,47.0,45.0,51.0,48.0,37.0,33.0,46.0,40.0,34.0,32.0,44.0,47.0,45.0,45.0,54.0,49.0,34.0,44.0,53.0,33.0,36.0,53.0,47.0,34.0,54.0,52.0,52.0,38.0,53.0,30.0,49.0,41.0,55.0,32.0,35.0,37.0,49.0,53.0,53.0,43.0,32.0,28.0,42.0,49.0,29.0,47.0,28.0,49.0,36.0,39.0,38.0,49.0,35.0,32.0,47.0,51.0,46.0,41.0,28.0,36.0,51.0,29.0,44.0,31.0,52.0,32.0,32.0,49.0,28.0,35.0,38.0,49.0,34.0,44.0,50.0,38.0,52.0,50.0,52.0,32.0,29.0,29.0,47.0,40.0,31.0,44.0,54.0,28.0,34.0,36.0,43.0,29.0,30.0,46.0,39.0,43.0,29.0,42.0,55.0,40.0,36.0,37.0,38.0,36.0,48.0,35.0,41.0,53.0,44.0,46.0,29.0,42.0,39.0,37.0,49.0,43.0,42.0,54.0,49.0,51.0,53.0,38.0,28.0,30.0,55.0,37.0,42.0,33.0,36.0,38.0,33.0,38.0,36.0,36.0,53.0,50.0,46.0,37.0,43.0,48.0,37.0,52.0,42.0,41.0,47.0,29.0,46.0,36.0,34.0,51.0,51.0,44.0,33.0,46.0,45.0,45.0,50.0,37.0,40.0,44.0,51.0,49.0,40.0,46.0,38.0,52.0,55.0,51.0,41.0,44.0,43.0,49.0,29.0,32.0,55.0,35.0,55.0,54.0,54.0,45.0,37.0,28.0,39.0,38.0,37.0,55.0,47.0,32.0,53.0,40.0,48.0,29.0,39.0,53.0,55.0,41.0,44.0,34.0,40.0,28.0,37.0,43.0,44.0,44.0,38.0,46.0,50.0,47.0,41.0,29.0,29.0,51.0,53.0,36.0,39.0,49.0,36.0,54.0,47.0,47.0,54.0,39.0,52.0,36.0,35.0,45.0,47.0,46.0,45.0,53.0,29.0,43.0,47.0,49.0,39.0,29.0,34.0,48.0,36.0,39.0,42.0,40.0,37.0,31.0,28.0,46.0,30.0,53.0,55.0,51.0,46.0,45.0,45.0,32.0,37.0,54.0,35.0,28.0,38.0,52.0,35.0,47.0,35.0,37.0,54.0,54.0,43.0,50.0,42.0,53.0,32.0,51.0,46.0,53.0,40.0,46.0,44.0,53.0,29.0,46.0,41.0,34.0,35.0,55.0,46.0,52.0,40.0,37.0,40.0,36.0,29.0,44.0,50.0,42.0,45.0,33.0,38.0,28.0,46.0,34.0,33.0,37.0,45.0,34.0,53.0,37.0,29.0],\"y0\":\" \",\"yaxis\":\"y\"}],                        {\"boxmode\":\"group\",\"legend\":{\"tracegroupgap\":0},\"margin\":{\"t\":60},\"template\":{\"data\":{\"bar\":[{\"error_x\":{\"color\":\"#2a3f5f\"},\"error_y\":{\"color\":\"#2a3f5f\"},\"marker\":{\"line\":{\"color\":\"#E5ECF6\",\"width\":0.5},\"pattern\":{\"fillmode\":\"overlay\",\"size\":10,\"solidity\":0.2}},\"type\":\"bar\"}],\"barpolar\":[{\"marker\":{\"line\":{\"color\":\"#E5ECF6\",\"width\":0.5},\"pattern\":{\"fillmode\":\"overlay\",\"size\":10,\"solidity\":0.2}},\"type\":\"barpolar\"}],\"carpet\":[{\"aaxis\":{\"endlinecolor\":\"#2a3f5f\",\"gridcolor\":\"white\",\"linecolor\":\"white\",\"minorgridcolor\":\"white\",\"startlinecolor\":\"#2a3f5f\"},\"baxis\":{\"endlinecolor\":\"#2a3f5f\",\"gridcolor\":\"white\",\"linecolor\":\"white\",\"minorgridcolor\":\"white\",\"startlinecolor\":\"#2a3f5f\"},\"type\":\"carpet\"}],\"choropleth\":[{\"colorbar\":{\"outlinewidth\":0,\"ticks\":\"\"},\"type\":\"choropleth\"}],\"contour\":[{\"colorbar\":{\"outlinewidth\":0,\"ticks\":\"\"},\"colorscale\":[[0.0,\"#0d0887\"],[0.1111111111111111,\"#46039f\"],[0.2222222222222222,\"#7201a8\"],[0.3333333333333333,\"#9c179e\"],[0.4444444444444444,\"#bd3786\"],[0.5555555555555556,\"#d8576b\"],[0.6666666666666666,\"#ed7953\"],[0.7777777777777778,\"#fb9f3a\"],[0.8888888888888888,\"#fdca26\"],[1.0,\"#f0f921\"]],\"type\":\"contour\"}],\"contourcarpet\":[{\"colorbar\":{\"outlinewidth\":0,\"ticks\":\"\"},\"type\":\"contourcarpet\"}],\"heatmap\":[{\"colorbar\":{\"outlinewidth\":0,\"ticks\":\"\"},\"colorscale\":[[0.0,\"#0d0887\"],[0.1111111111111111,\"#46039f\"],[0.2222222222222222,\"#7201a8\"],[0.3333333333333333,\"#9c179e\"],[0.4444444444444444,\"#bd3786\"],[0.5555555555555556,\"#d8576b\"],[0.6666666666666666,\"#ed7953\"],[0.7777777777777778,\"#fb9f3a\"],[0.8888888888888888,\"#fdca26\"],[1.0,\"#f0f921\"]],\"type\":\"heatmap\"}],\"heatmapgl\":[{\"colorbar\":{\"outlinewidth\":0,\"ticks\":\"\"},\"colorscale\":[[0.0,\"#0d0887\"],[0.1111111111111111,\"#46039f\"],[0.2222222222222222,\"#7201a8\"],[0.3333333333333333,\"#9c179e\"],[0.4444444444444444,\"#bd3786\"],[0.5555555555555556,\"#d8576b\"],[0.6666666666666666,\"#ed7953\"],[0.7777777777777778,\"#fb9f3a\"],[0.8888888888888888,\"#fdca26\"],[1.0,\"#f0f921\"]],\"type\":\"heatmapgl\"}],\"histogram\":[{\"marker\":{\"pattern\":{\"fillmode\":\"overlay\",\"size\":10,\"solidity\":0.2}},\"type\":\"histogram\"}],\"histogram2d\":[{\"colorbar\":{\"outlinewidth\":0,\"ticks\":\"\"},\"colorscale\":[[0.0,\"#0d0887\"],[0.1111111111111111,\"#46039f\"],[0.2222222222222222,\"#7201a8\"],[0.3333333333333333,\"#9c179e\"],[0.4444444444444444,\"#bd3786\"],[0.5555555555555556,\"#d8576b\"],[0.6666666666666666,\"#ed7953\"],[0.7777777777777778,\"#fb9f3a\"],[0.8888888888888888,\"#fdca26\"],[1.0,\"#f0f921\"]],\"type\":\"histogram2d\"}],\"histogram2dcontour\":[{\"colorbar\":{\"outlinewidth\":0,\"ticks\":\"\"},\"colorscale\":[[0.0,\"#0d0887\"],[0.1111111111111111,\"#46039f\"],[0.2222222222222222,\"#7201a8\"],[0.3333333333333333,\"#9c179e\"],[0.4444444444444444,\"#bd3786\"],[0.5555555555555556,\"#d8576b\"],[0.6666666666666666,\"#ed7953\"],[0.7777777777777778,\"#fb9f3a\"],[0.8888888888888888,\"#fdca26\"],[1.0,\"#f0f921\"]],\"type\":\"histogram2dcontour\"}],\"mesh3d\":[{\"colorbar\":{\"outlinewidth\":0,\"ticks\":\"\"},\"type\":\"mesh3d\"}],\"parcoords\":[{\"line\":{\"colorbar\":{\"outlinewidth\":0,\"ticks\":\"\"}},\"type\":\"parcoords\"}],\"pie\":[{\"automargin\":true,\"type\":\"pie\"}],\"scatter\":[{\"marker\":{\"colorbar\":{\"outlinewidth\":0,\"ticks\":\"\"}},\"type\":\"scatter\"}],\"scatter3d\":[{\"line\":{\"colorbar\":{\"outlinewidth\":0,\"ticks\":\"\"}},\"marker\":{\"colorbar\":{\"outlinewidth\":0,\"ticks\":\"\"}},\"type\":\"scatter3d\"}],\"scattercarpet\":[{\"marker\":{\"colorbar\":{\"outlinewidth\":0,\"ticks\":\"\"}},\"type\":\"scattercarpet\"}],\"scattergeo\":[{\"marker\":{\"colorbar\":{\"outlinewidth\":0,\"ticks\":\"\"}},\"type\":\"scattergeo\"}],\"scattergl\":[{\"marker\":{\"colorbar\":{\"outlinewidth\":0,\"ticks\":\"\"}},\"type\":\"scattergl\"}],\"scattermapbox\":[{\"marker\":{\"colorbar\":{\"outlinewidth\":0,\"ticks\":\"\"}},\"type\":\"scattermapbox\"}],\"scatterpolar\":[{\"marker\":{\"colorbar\":{\"outlinewidth\":0,\"ticks\":\"\"}},\"type\":\"scatterpolar\"}],\"scatterpolargl\":[{\"marker\":{\"colorbar\":{\"outlinewidth\":0,\"ticks\":\"\"}},\"type\":\"scatterpolargl\"}],\"scatterternary\":[{\"marker\":{\"colorbar\":{\"outlinewidth\":0,\"ticks\":\"\"}},\"type\":\"scatterternary\"}],\"surface\":[{\"colorbar\":{\"outlinewidth\":0,\"ticks\":\"\"},\"colorscale\":[[0.0,\"#0d0887\"],[0.1111111111111111,\"#46039f\"],[0.2222222222222222,\"#7201a8\"],[0.3333333333333333,\"#9c179e\"],[0.4444444444444444,\"#bd3786\"],[0.5555555555555556,\"#d8576b\"],[0.6666666666666666,\"#ed7953\"],[0.7777777777777778,\"#fb9f3a\"],[0.8888888888888888,\"#fdca26\"],[1.0,\"#f0f921\"]],\"type\":\"surface\"}],\"table\":[{\"cells\":{\"fill\":{\"color\":\"#EBF0F8\"},\"line\":{\"color\":\"white\"}},\"header\":{\"fill\":{\"color\":\"#C8D4E3\"},\"line\":{\"color\":\"white\"}},\"type\":\"table\"}]},\"layout\":{\"annotationdefaults\":{\"arrowcolor\":\"#2a3f5f\",\"arrowhead\":0,\"arrowwidth\":1},\"autotypenumbers\":\"strict\",\"coloraxis\":{\"colorbar\":{\"outlinewidth\":0,\"ticks\":\"\"}},\"colorscale\":{\"diverging\":[[0,\"#8e0152\"],[0.1,\"#c51b7d\"],[0.2,\"#de77ae\"],[0.3,\"#f1b6da\"],[0.4,\"#fde0ef\"],[0.5,\"#f7f7f7\"],[0.6,\"#e6f5d0\"],[0.7,\"#b8e186\"],[0.8,\"#7fbc41\"],[0.9,\"#4d9221\"],[1,\"#276419\"]],\"sequential\":[[0.0,\"#0d0887\"],[0.1111111111111111,\"#46039f\"],[0.2222222222222222,\"#7201a8\"],[0.3333333333333333,\"#9c179e\"],[0.4444444444444444,\"#bd3786\"],[0.5555555555555556,\"#d8576b\"],[0.6666666666666666,\"#ed7953\"],[0.7777777777777778,\"#fb9f3a\"],[0.8888888888888888,\"#fdca26\"],[1.0,\"#f0f921\"]],\"sequentialminus\":[[0.0,\"#0d0887\"],[0.1111111111111111,\"#46039f\"],[0.2222222222222222,\"#7201a8\"],[0.3333333333333333,\"#9c179e\"],[0.4444444444444444,\"#bd3786\"],[0.5555555555555556,\"#d8576b\"],[0.6666666666666666,\"#ed7953\"],[0.7777777777777778,\"#fb9f3a\"],[0.8888888888888888,\"#fdca26\"],[1.0,\"#f0f921\"]]},\"colorway\":[\"#636efa\",\"#EF553B\",\"#00cc96\",\"#ab63fa\",\"#FFA15A\",\"#19d3f3\",\"#FF6692\",\"#B6E880\",\"#FF97FF\",\"#FECB52\"],\"font\":{\"color\":\"#2a3f5f\"},\"geo\":{\"bgcolor\":\"white\",\"lakecolor\":\"white\",\"landcolor\":\"#E5ECF6\",\"showlakes\":true,\"showland\":true,\"subunitcolor\":\"white\"},\"hoverlabel\":{\"align\":\"left\"},\"hovermode\":\"closest\",\"mapbox\":{\"style\":\"light\"},\"paper_bgcolor\":\"white\",\"plot_bgcolor\":\"#E5ECF6\",\"polar\":{\"angularaxis\":{\"gridcolor\":\"white\",\"linecolor\":\"white\",\"ticks\":\"\"},\"bgcolor\":\"#E5ECF6\",\"radialaxis\":{\"gridcolor\":\"white\",\"linecolor\":\"white\",\"ticks\":\"\"}},\"scene\":{\"xaxis\":{\"backgroundcolor\":\"#E5ECF6\",\"gridcolor\":\"white\",\"gridwidth\":2,\"linecolor\":\"white\",\"showbackground\":true,\"ticks\":\"\",\"zerolinecolor\":\"white\"},\"yaxis\":{\"backgroundcolor\":\"#E5ECF6\",\"gridcolor\":\"white\",\"gridwidth\":2,\"linecolor\":\"white\",\"showbackground\":true,\"ticks\":\"\",\"zerolinecolor\":\"white\"},\"zaxis\":{\"backgroundcolor\":\"#E5ECF6\",\"gridcolor\":\"white\",\"gridwidth\":2,\"linecolor\":\"white\",\"showbackground\":true,\"ticks\":\"\",\"zerolinecolor\":\"white\"}},\"shapedefaults\":{\"line\":{\"color\":\"#2a3f5f\"}},\"ternary\":{\"aaxis\":{\"gridcolor\":\"white\",\"linecolor\":\"white\",\"ticks\":\"\"},\"baxis\":{\"gridcolor\":\"white\",\"linecolor\":\"white\",\"ticks\":\"\"},\"bgcolor\":\"#E5ECF6\",\"caxis\":{\"gridcolor\":\"white\",\"linecolor\":\"white\",\"ticks\":\"\"}},\"title\":{\"x\":0.05},\"xaxis\":{\"automargin\":true,\"gridcolor\":\"white\",\"linecolor\":\"white\",\"ticks\":\"\",\"title\":{\"standoff\":15},\"zerolinecolor\":\"white\",\"zerolinewidth\":2},\"yaxis\":{\"automargin\":true,\"gridcolor\":\"white\",\"linecolor\":\"white\",\"ticks\":\"\",\"title\":{\"standoff\":15},\"zerolinecolor\":\"white\",\"zerolinewidth\":2}}},\"xaxis\":{\"anchor\":\"y\",\"domain\":[0.0,1.0],\"title\":{\"text\":\"GENDER\"}},\"yaxis\":{\"anchor\":\"x\",\"domain\":[0.0,1.0],\"title\":{\"text\":\"AGE_RANGE\"}}},                        {\"responsive\": true}                    ).then(function(){\n",
       "                            \n",
       "var gd = document.getElementById('4cefabd4-4f0e-45c8-abd4-6955c1a20bd1');\n",
       "var x = new MutationObserver(function (mutations, observer) {{\n",
       "        var display = window.getComputedStyle(gd).display;\n",
       "        if (!display || display === 'none') {{\n",
       "            console.log([gd, 'removed!']);\n",
       "            Plotly.purge(gd);\n",
       "            observer.disconnect();\n",
       "        }}\n",
       "}});\n",
       "\n",
       "// Listen for the removal of the full notebook cells\n",
       "var notebookContainer = gd.closest('#notebook-container');\n",
       "if (notebookContainer) {{\n",
       "    x.observe(notebookContainer, {childList: true});\n",
       "}}\n",
       "\n",
       "// Listen for the clearing of the current output cell\n",
       "var outputEl = gd.closest('.output');\n",
       "if (outputEl) {{\n",
       "    x.observe(outputEl, {childList: true});\n",
       "}}\n",
       "\n",
       "                        })                };                });            </script>        </div>"
      ]
     },
     "metadata": {},
     "output_type": "display_data"
    }
   ],
   "source": [
    "fig = px.box(laundry, x=\"GENDER\", y='AGE_RANGE')\n",
    "fig.show()"
   ]
  },
  {
   "cell_type": "markdown",
   "metadata": {},
   "source": [
    "## Preprocessing Additional Dataset"
   ]
  },
  {
   "cell_type": "markdown",
   "metadata": {},
   "source": [
    "### 1. Is there any missing values or duplicates data? If so, how we want to deal with it?\n",
    "Dealing null and duplicates data"
   ]
  },
  {
   "cell_type": "code",
   "execution_count": 130,
   "metadata": {},
   "outputs": [
    {
     "name": "stdout",
     "output_type": "stream",
     "text": [
      "Resident Negeri Sembilan:\n"
     ]
    },
    {
     "data": {
      "text/plain": [
       "Bil               0\n",
       "Nama Taman        0\n",
       "Daerah            0\n",
       "Mukim             0\n",
       "Poskod            0\n",
       "Bilangan Rumah    0\n",
       "dtype: int64"
      ]
     },
     "metadata": {},
     "output_type": "display_data"
    },
    {
     "name": "stdout",
     "output_type": "stream",
     "text": [
      "Resident Pahang:\n"
     ]
    },
    {
     "data": {
      "text/plain": [
       "NO                0\n",
       "NAMA TAMAN        0\n",
       "MUKIM             0\n",
       "POSKOD            0\n",
       "BILANGAN RUMAH    0\n",
       "dtype: int64"
      ]
     },
     "metadata": {},
     "output_type": "display_data"
    },
    {
     "name": "stdout",
     "output_type": "stream",
     "text": [
      "Resident Perak:\n"
     ]
    },
    {
     "data": {
      "text/plain": [
       "BIL               0\n",
       "NAMA TAMAN        0\n",
       "KATEGORI RUMAH    1\n",
       "BILANGAN UNIT     0\n",
       "JENIS RUMAH       2\n",
       "dtype: int64"
      ]
     },
     "metadata": {},
     "output_type": "display_data"
    },
    {
     "name": "stdout",
     "output_type": "stream",
     "text": [
      "Resident Kelantan:\n"
     ]
    },
    {
     "data": {
      "text/plain": [
       "JAJAHAN             0\n",
       "PBT                 0\n",
       "NAMA PERUMAHAN      0\n",
       "LATITUDE            0\n",
       "LONGITUDE           0\n",
       "BIL RUMAH (UNIT)    0\n",
       "dtype: int64"
      ]
     },
     "metadata": {},
     "output_type": "display_data"
    }
   ],
   "source": [
    "print(\"Resident Negeri Sembilan:\")\n",
    "display(residentsN9.isna().sum())\n",
    "print(\"Resident Pahang:\")\n",
    "display(residentsPahang.isna().sum())\n",
    "print(\"Resident Perak:\")\n",
    "display(residentsPerak.isna().sum())\n",
    "print(\"Resident Kelantan:\")\n",
    "display(residentsKelantan.isna().sum())"
   ]
  },
  {
   "cell_type": "markdown",
   "metadata": {},
   "source": [
    "### 2. How to visualize the content?\n",
    "Merging dataset into one dataframe"
   ]
  },
  {
   "cell_type": "code",
   "execution_count": 131,
   "metadata": {},
   "outputs": [
    {
     "data": {
      "text/html": [
       "<div>\n",
       "<style scoped>\n",
       "    .dataframe tbody tr th:only-of-type {\n",
       "        vertical-align: middle;\n",
       "    }\n",
       "\n",
       "    .dataframe tbody tr th {\n",
       "        vertical-align: top;\n",
       "    }\n",
       "\n",
       "    .dataframe thead th {\n",
       "        text-align: right;\n",
       "    }\n",
       "</style>\n",
       "<table border=\"1\" class=\"dataframe\">\n",
       "  <thead>\n",
       "    <tr style=\"text-align: right;\">\n",
       "      <th></th>\n",
       "      <th>STATE</th>\n",
       "      <th>RESIDENTAL_AREA</th>\n",
       "      <th>DISTRICT</th>\n",
       "      <th>NUMBER_OF_HOUSES</th>\n",
       "    </tr>\n",
       "  </thead>\n",
       "  <tbody>\n",
       "  </tbody>\n",
       "</table>\n",
       "</div>"
      ],
      "text/plain": [
       "Empty DataFrame\n",
       "Columns: [STATE, RESIDENTAL_AREA, DISTRICT, NUMBER_OF_HOUSES]\n",
       "Index: []"
      ]
     },
     "execution_count": 131,
     "metadata": {},
     "output_type": "execute_result"
    }
   ],
   "source": [
    "# Declare dataframe for additional dataset\n",
    "residentalLocation = pd.DataFrame(columns=['STATE','RESIDENTAL_AREA','DISTRICT','NUMBER_OF_HOUSES'])\n",
    "residentalLocation"
   ]
  },
  {
   "cell_type": "code",
   "execution_count": 132,
   "metadata": {},
   "outputs": [],
   "source": [
    "# add Negeri sembilan\n",
    "for i in range(len(residentsN9)):\n",
    "    residentalLocation = residentalLocation.append({'STATE': 'Negeri Sembilan', 'RESIDENTAL_AREA': residentsN9.iloc[[i]]['Nama Taman'].values[0],'DISTRICT': residentsN9.iloc[[i]]['Daerah'].values[0],'NUMBER_OF_HOUSES':residentsN9.iloc[[i]]['Bilangan Rumah'].values[0]}, ignore_index=True)\n",
    "\n",
    "# add Kelantan\n",
    "for i in range(len(residentsKelantan)):\n",
    "    residentalLocation = residentalLocation.append({'STATE': 'Kelantan', 'RESIDENTAL_AREA': residentsKelantan.iloc[[i]]['NAMA PERUMAHAN'].values[0],'DISTRICT': residentsKelantan.iloc[[i]]['JAJAHAN'].values[0],'NUMBER_OF_HOUSES':residentsKelantan.iloc[[i]]['BIL RUMAH (UNIT)'].values[0]}, ignore_index=True)\n",
    "\n",
    "# add Pahang\n",
    "for i in range(len(residentsPahang)):\n",
    "    residentalLocation = residentalLocation.append({'STATE': 'Pahang', 'RESIDENTAL_AREA': residentsPahang.iloc[[i]]['NAMA TAMAN'].values[0],'DISTRICT': residentsPahang.iloc[[i]]['MUKIM'].values[0],'NUMBER_OF_HOUSES':residentsPahang.iloc[[i]]['BILANGAN RUMAH'].values[0]}, ignore_index=True)\n",
    "\n",
    "# add Perak\n",
    "for i in range(len(residentsPerak)):\n",
    "    residentalLocation = residentalLocation.append({'STATE': 'Perak', 'RESIDENTAL_AREA': residentsPerak.iloc[[i]]['NAMA TAMAN'].values[0],'DISTRICT': 'Pengkalan Hulu','NUMBER_OF_HOUSES':residentsPerak.iloc[[i]]['BILANGAN UNIT'].values[0]}, ignore_index=True)\n"
   ]
  },
  {
   "cell_type": "markdown",
   "metadata": {},
   "source": [
    "### 3. are there any columns that require conversion of data type?\n",
    "Changing Data Type"
   ]
  },
  {
   "cell_type": "code",
   "execution_count": 133,
   "metadata": {},
   "outputs": [],
   "source": [
    "residentalLocation['NUMBER_OF_HOUSES'] = pd.to_numeric(residentalLocation['NUMBER_OF_HOUSES'], errors='coerce')\n",
    "residentalLocation = residentalLocation.dropna()"
   ]
  },
  {
   "cell_type": "markdown",
   "metadata": {},
   "source": [
    "### 4. Is there any outliers in the data? Is the outliers an error or else?\n",
    "Outlier analysis"
   ]
  },
  {
   "cell_type": "code",
   "execution_count": 134,
   "metadata": {},
   "outputs": [
    {
     "data": {
      "application/vnd.plotly.v1+json": {
       "config": {
        "plotlyServerURL": "https://plot.ly"
       },
       "data": [
        {
         "alignmentgroup": "True",
         "hovertemplate": "STATE=%{x}<br>NUMBER_OF_HOUSES=%{y}<extra></extra>",
         "legendgroup": "",
         "marker": {
          "color": "#636efa"
         },
         "name": "",
         "notched": false,
         "offsetgroup": "",
         "orientation": "v",
         "showlegend": false,
         "type": "box",
         "x": [
          "Negeri Sembilan",
          "Negeri Sembilan",
          "Negeri Sembilan",
          "Negeri Sembilan",
          "Negeri Sembilan",
          "Negeri Sembilan",
          "Negeri Sembilan",
          "Negeri Sembilan",
          "Negeri Sembilan",
          "Negeri Sembilan",
          "Negeri Sembilan",
          "Negeri Sembilan",
          "Negeri Sembilan",
          "Negeri Sembilan",
          "Negeri Sembilan",
          "Negeri Sembilan",
          "Negeri Sembilan",
          "Negeri Sembilan",
          "Negeri Sembilan",
          "Negeri Sembilan",
          "Negeri Sembilan",
          "Negeri Sembilan",
          "Negeri Sembilan",
          "Negeri Sembilan",
          "Negeri Sembilan",
          "Negeri Sembilan",
          "Negeri Sembilan",
          "Negeri Sembilan",
          "Negeri Sembilan",
          "Negeri Sembilan",
          "Negeri Sembilan",
          "Negeri Sembilan",
          "Negeri Sembilan",
          "Negeri Sembilan",
          "Negeri Sembilan",
          "Negeri Sembilan",
          "Negeri Sembilan",
          "Negeri Sembilan",
          "Negeri Sembilan",
          "Negeri Sembilan",
          "Negeri Sembilan",
          "Negeri Sembilan",
          "Negeri Sembilan",
          "Negeri Sembilan",
          "Negeri Sembilan",
          "Negeri Sembilan",
          "Negeri Sembilan",
          "Negeri Sembilan",
          "Negeri Sembilan",
          "Negeri Sembilan",
          "Negeri Sembilan",
          "Negeri Sembilan",
          "Negeri Sembilan",
          "Negeri Sembilan",
          "Negeri Sembilan",
          "Negeri Sembilan",
          "Negeri Sembilan",
          "Negeri Sembilan",
          "Negeri Sembilan",
          "Negeri Sembilan",
          "Negeri Sembilan",
          "Negeri Sembilan",
          "Negeri Sembilan",
          "Negeri Sembilan",
          "Negeri Sembilan",
          "Negeri Sembilan",
          "Negeri Sembilan",
          "Negeri Sembilan",
          "Negeri Sembilan",
          "Negeri Sembilan",
          "Negeri Sembilan",
          "Negeri Sembilan",
          "Negeri Sembilan",
          "Negeri Sembilan",
          "Negeri Sembilan",
          "Negeri Sembilan",
          "Negeri Sembilan",
          "Negeri Sembilan",
          "Negeri Sembilan",
          "Negeri Sembilan",
          "Negeri Sembilan",
          "Negeri Sembilan",
          "Negeri Sembilan",
          "Negeri Sembilan",
          "Negeri Sembilan",
          "Negeri Sembilan",
          "Negeri Sembilan",
          "Negeri Sembilan",
          "Negeri Sembilan",
          "Negeri Sembilan",
          "Negeri Sembilan",
          "Negeri Sembilan",
          "Negeri Sembilan",
          "Negeri Sembilan",
          "Negeri Sembilan",
          "Negeri Sembilan",
          "Negeri Sembilan",
          "Negeri Sembilan",
          "Negeri Sembilan",
          "Negeri Sembilan",
          "Negeri Sembilan",
          "Negeri Sembilan",
          "Negeri Sembilan",
          "Negeri Sembilan",
          "Negeri Sembilan",
          "Negeri Sembilan",
          "Negeri Sembilan",
          "Negeri Sembilan",
          "Negeri Sembilan",
          "Negeri Sembilan",
          "Negeri Sembilan",
          "Negeri Sembilan",
          "Negeri Sembilan",
          "Negeri Sembilan",
          "Negeri Sembilan",
          "Negeri Sembilan",
          "Negeri Sembilan",
          "Negeri Sembilan",
          "Negeri Sembilan",
          "Negeri Sembilan",
          "Negeri Sembilan",
          "Negeri Sembilan",
          "Negeri Sembilan",
          "Negeri Sembilan",
          "Negeri Sembilan",
          "Negeri Sembilan",
          "Negeri Sembilan",
          "Negeri Sembilan",
          "Negeri Sembilan",
          "Negeri Sembilan",
          "Negeri Sembilan",
          "Negeri Sembilan",
          "Negeri Sembilan",
          "Negeri Sembilan",
          "Negeri Sembilan",
          "Negeri Sembilan",
          "Negeri Sembilan",
          "Negeri Sembilan",
          "Negeri Sembilan",
          "Negeri Sembilan",
          "Negeri Sembilan",
          "Negeri Sembilan",
          "Negeri Sembilan",
          "Negeri Sembilan",
          "Negeri Sembilan",
          "Negeri Sembilan",
          "Negeri Sembilan",
          "Negeri Sembilan",
          "Negeri Sembilan",
          "Negeri Sembilan",
          "Negeri Sembilan",
          "Negeri Sembilan",
          "Negeri Sembilan",
          "Negeri Sembilan",
          "Negeri Sembilan",
          "Negeri Sembilan",
          "Negeri Sembilan",
          "Negeri Sembilan",
          "Negeri Sembilan",
          "Negeri Sembilan",
          "Negeri Sembilan",
          "Negeri Sembilan",
          "Negeri Sembilan",
          "Negeri Sembilan",
          "Negeri Sembilan",
          "Negeri Sembilan",
          "Negeri Sembilan",
          "Negeri Sembilan",
          "Negeri Sembilan",
          "Negeri Sembilan",
          "Negeri Sembilan",
          "Negeri Sembilan",
          "Negeri Sembilan",
          "Negeri Sembilan",
          "Negeri Sembilan",
          "Negeri Sembilan",
          "Negeri Sembilan",
          "Negeri Sembilan",
          "Negeri Sembilan",
          "Negeri Sembilan",
          "Negeri Sembilan",
          "Negeri Sembilan",
          "Negeri Sembilan",
          "Negeri Sembilan",
          "Negeri Sembilan",
          "Negeri Sembilan",
          "Negeri Sembilan",
          "Negeri Sembilan",
          "Negeri Sembilan",
          "Negeri Sembilan",
          "Negeri Sembilan",
          "Negeri Sembilan",
          "Negeri Sembilan",
          "Negeri Sembilan",
          "Negeri Sembilan",
          "Negeri Sembilan",
          "Negeri Sembilan",
          "Negeri Sembilan",
          "Negeri Sembilan",
          "Negeri Sembilan",
          "Negeri Sembilan",
          "Negeri Sembilan",
          "Negeri Sembilan",
          "Negeri Sembilan",
          "Negeri Sembilan",
          "Negeri Sembilan",
          "Negeri Sembilan",
          "Negeri Sembilan",
          "Negeri Sembilan",
          "Negeri Sembilan",
          "Negeri Sembilan",
          "Negeri Sembilan",
          "Negeri Sembilan",
          "Negeri Sembilan",
          "Negeri Sembilan",
          "Negeri Sembilan",
          "Negeri Sembilan",
          "Negeri Sembilan",
          "Negeri Sembilan",
          "Negeri Sembilan",
          "Negeri Sembilan",
          "Negeri Sembilan",
          "Negeri Sembilan",
          "Negeri Sembilan",
          "Negeri Sembilan",
          "Negeri Sembilan",
          "Negeri Sembilan",
          "Negeri Sembilan",
          "Negeri Sembilan",
          "Negeri Sembilan",
          "Negeri Sembilan",
          "Negeri Sembilan",
          "Negeri Sembilan",
          "Negeri Sembilan",
          "Negeri Sembilan",
          "Negeri Sembilan",
          "Negeri Sembilan",
          "Negeri Sembilan",
          "Negeri Sembilan",
          "Negeri Sembilan",
          "Negeri Sembilan",
          "Negeri Sembilan",
          "Negeri Sembilan",
          "Negeri Sembilan",
          "Negeri Sembilan",
          "Negeri Sembilan",
          "Negeri Sembilan",
          "Negeri Sembilan",
          "Negeri Sembilan",
          "Negeri Sembilan",
          "Negeri Sembilan",
          "Negeri Sembilan",
          "Negeri Sembilan",
          "Negeri Sembilan",
          "Negeri Sembilan",
          "Negeri Sembilan",
          "Negeri Sembilan",
          "Negeri Sembilan",
          "Negeri Sembilan",
          "Negeri Sembilan",
          "Negeri Sembilan",
          "Negeri Sembilan",
          "Negeri Sembilan",
          "Negeri Sembilan",
          "Negeri Sembilan",
          "Negeri Sembilan",
          "Negeri Sembilan",
          "Negeri Sembilan",
          "Negeri Sembilan",
          "Negeri Sembilan",
          "Negeri Sembilan",
          "Negeri Sembilan",
          "Negeri Sembilan",
          "Negeri Sembilan",
          "Negeri Sembilan",
          "Negeri Sembilan",
          "Negeri Sembilan",
          "Negeri Sembilan",
          "Negeri Sembilan",
          "Negeri Sembilan",
          "Negeri Sembilan",
          "Negeri Sembilan",
          "Negeri Sembilan",
          "Negeri Sembilan",
          "Negeri Sembilan",
          "Negeri Sembilan",
          "Negeri Sembilan",
          "Negeri Sembilan",
          "Negeri Sembilan",
          "Negeri Sembilan",
          "Negeri Sembilan",
          "Negeri Sembilan",
          "Negeri Sembilan",
          "Negeri Sembilan",
          "Negeri Sembilan",
          "Negeri Sembilan",
          "Negeri Sembilan",
          "Negeri Sembilan",
          "Negeri Sembilan",
          "Negeri Sembilan",
          "Negeri Sembilan",
          "Negeri Sembilan",
          "Negeri Sembilan",
          "Negeri Sembilan",
          "Negeri Sembilan",
          "Negeri Sembilan",
          "Negeri Sembilan",
          "Negeri Sembilan",
          "Negeri Sembilan",
          "Negeri Sembilan",
          "Negeri Sembilan",
          "Negeri Sembilan",
          "Negeri Sembilan",
          "Negeri Sembilan",
          "Negeri Sembilan",
          "Negeri Sembilan",
          "Negeri Sembilan",
          "Negeri Sembilan",
          "Negeri Sembilan",
          "Negeri Sembilan",
          "Negeri Sembilan",
          "Negeri Sembilan",
          "Negeri Sembilan",
          "Negeri Sembilan",
          "Negeri Sembilan",
          "Negeri Sembilan",
          "Negeri Sembilan",
          "Negeri Sembilan",
          "Negeri Sembilan",
          "Negeri Sembilan",
          "Negeri Sembilan",
          "Negeri Sembilan",
          "Negeri Sembilan",
          "Negeri Sembilan",
          "Negeri Sembilan",
          "Negeri Sembilan",
          "Negeri Sembilan",
          "Negeri Sembilan",
          "Negeri Sembilan",
          "Negeri Sembilan",
          "Negeri Sembilan",
          "Negeri Sembilan",
          "Negeri Sembilan",
          "Negeri Sembilan",
          "Negeri Sembilan",
          "Negeri Sembilan",
          "Negeri Sembilan",
          "Negeri Sembilan",
          "Negeri Sembilan",
          "Negeri Sembilan",
          "Negeri Sembilan",
          "Negeri Sembilan",
          "Negeri Sembilan",
          "Negeri Sembilan",
          "Negeri Sembilan",
          "Negeri Sembilan",
          "Negeri Sembilan",
          "Negeri Sembilan",
          "Negeri Sembilan",
          "Negeri Sembilan",
          "Negeri Sembilan",
          "Negeri Sembilan",
          "Negeri Sembilan",
          "Negeri Sembilan",
          "Negeri Sembilan",
          "Negeri Sembilan",
          "Negeri Sembilan",
          "Negeri Sembilan",
          "Negeri Sembilan",
          "Negeri Sembilan",
          "Negeri Sembilan",
          "Negeri Sembilan",
          "Negeri Sembilan",
          "Negeri Sembilan",
          "Negeri Sembilan",
          "Negeri Sembilan",
          "Negeri Sembilan",
          "Negeri Sembilan",
          "Negeri Sembilan",
          "Negeri Sembilan",
          "Negeri Sembilan",
          "Negeri Sembilan",
          "Negeri Sembilan",
          "Negeri Sembilan",
          "Negeri Sembilan",
          "Negeri Sembilan",
          "Negeri Sembilan",
          "Negeri Sembilan",
          "Negeri Sembilan",
          "Negeri Sembilan",
          "Negeri Sembilan",
          "Negeri Sembilan",
          "Negeri Sembilan",
          "Negeri Sembilan",
          "Negeri Sembilan",
          "Negeri Sembilan",
          "Negeri Sembilan",
          "Negeri Sembilan",
          "Negeri Sembilan",
          "Negeri Sembilan",
          "Negeri Sembilan",
          "Negeri Sembilan",
          "Negeri Sembilan",
          "Negeri Sembilan",
          "Negeri Sembilan",
          "Negeri Sembilan",
          "Negeri Sembilan",
          "Negeri Sembilan",
          "Negeri Sembilan",
          "Negeri Sembilan",
          "Negeri Sembilan",
          "Negeri Sembilan",
          "Negeri Sembilan",
          "Negeri Sembilan",
          "Negeri Sembilan",
          "Negeri Sembilan",
          "Negeri Sembilan",
          "Negeri Sembilan",
          "Negeri Sembilan",
          "Negeri Sembilan",
          "Negeri Sembilan",
          "Negeri Sembilan",
          "Negeri Sembilan",
          "Negeri Sembilan",
          "Negeri Sembilan",
          "Negeri Sembilan",
          "Negeri Sembilan",
          "Negeri Sembilan",
          "Negeri Sembilan",
          "Negeri Sembilan",
          "Negeri Sembilan",
          "Negeri Sembilan",
          "Negeri Sembilan",
          "Negeri Sembilan",
          "Negeri Sembilan",
          "Negeri Sembilan",
          "Negeri Sembilan",
          "Negeri Sembilan",
          "Negeri Sembilan",
          "Negeri Sembilan",
          "Negeri Sembilan",
          "Negeri Sembilan",
          "Negeri Sembilan",
          "Negeri Sembilan",
          "Negeri Sembilan",
          "Negeri Sembilan",
          "Negeri Sembilan",
          "Negeri Sembilan",
          "Negeri Sembilan",
          "Negeri Sembilan",
          "Negeri Sembilan",
          "Negeri Sembilan",
          "Negeri Sembilan",
          "Negeri Sembilan",
          "Negeri Sembilan",
          "Negeri Sembilan",
          "Negeri Sembilan",
          "Negeri Sembilan",
          "Negeri Sembilan",
          "Negeri Sembilan",
          "Negeri Sembilan",
          "Negeri Sembilan",
          "Negeri Sembilan",
          "Negeri Sembilan",
          "Negeri Sembilan",
          "Negeri Sembilan",
          "Negeri Sembilan",
          "Negeri Sembilan",
          "Negeri Sembilan",
          "Negeri Sembilan",
          "Negeri Sembilan",
          "Negeri Sembilan",
          "Negeri Sembilan",
          "Negeri Sembilan",
          "Negeri Sembilan",
          "Negeri Sembilan",
          "Negeri Sembilan",
          "Negeri Sembilan",
          "Negeri Sembilan",
          "Negeri Sembilan",
          "Negeri Sembilan",
          "Negeri Sembilan",
          "Negeri Sembilan",
          "Negeri Sembilan",
          "Negeri Sembilan",
          "Negeri Sembilan",
          "Negeri Sembilan",
          "Negeri Sembilan",
          "Negeri Sembilan",
          "Negeri Sembilan",
          "Negeri Sembilan",
          "Negeri Sembilan",
          "Negeri Sembilan",
          "Negeri Sembilan",
          "Negeri Sembilan",
          "Negeri Sembilan",
          "Negeri Sembilan",
          "Negeri Sembilan",
          "Negeri Sembilan",
          "Negeri Sembilan",
          "Negeri Sembilan",
          "Negeri Sembilan",
          "Negeri Sembilan",
          "Negeri Sembilan",
          "Negeri Sembilan",
          "Negeri Sembilan",
          "Negeri Sembilan",
          "Negeri Sembilan",
          "Negeri Sembilan",
          "Negeri Sembilan",
          "Negeri Sembilan",
          "Negeri Sembilan",
          "Negeri Sembilan",
          "Negeri Sembilan",
          "Negeri Sembilan",
          "Negeri Sembilan",
          "Negeri Sembilan",
          "Negeri Sembilan",
          "Negeri Sembilan",
          "Negeri Sembilan",
          "Negeri Sembilan",
          "Negeri Sembilan",
          "Negeri Sembilan",
          "Negeri Sembilan",
          "Negeri Sembilan",
          "Negeri Sembilan",
          "Negeri Sembilan",
          "Negeri Sembilan",
          "Negeri Sembilan",
          "Negeri Sembilan",
          "Negeri Sembilan",
          "Negeri Sembilan",
          "Negeri Sembilan",
          "Negeri Sembilan",
          "Negeri Sembilan",
          "Negeri Sembilan",
          "Negeri Sembilan",
          "Negeri Sembilan",
          "Negeri Sembilan",
          "Negeri Sembilan",
          "Negeri Sembilan",
          "Negeri Sembilan",
          "Negeri Sembilan",
          "Negeri Sembilan",
          "Negeri Sembilan",
          "Negeri Sembilan",
          "Negeri Sembilan",
          "Negeri Sembilan",
          "Negeri Sembilan",
          "Negeri Sembilan",
          "Negeri Sembilan",
          "Negeri Sembilan",
          "Negeri Sembilan",
          "Negeri Sembilan",
          "Negeri Sembilan",
          "Negeri Sembilan",
          "Negeri Sembilan",
          "Negeri Sembilan",
          "Negeri Sembilan",
          "Negeri Sembilan",
          "Negeri Sembilan",
          "Negeri Sembilan",
          "Negeri Sembilan",
          "Negeri Sembilan",
          "Negeri Sembilan",
          "Negeri Sembilan",
          "Negeri Sembilan",
          "Negeri Sembilan",
          "Negeri Sembilan",
          "Negeri Sembilan",
          "Negeri Sembilan",
          "Negeri Sembilan",
          "Negeri Sembilan",
          "Negeri Sembilan",
          "Negeri Sembilan",
          "Negeri Sembilan",
          "Negeri Sembilan",
          "Negeri Sembilan",
          "Negeri Sembilan",
          "Negeri Sembilan",
          "Negeri Sembilan",
          "Negeri Sembilan",
          "Negeri Sembilan",
          "Negeri Sembilan",
          "Negeri Sembilan",
          "Negeri Sembilan",
          "Negeri Sembilan",
          "Negeri Sembilan",
          "Negeri Sembilan",
          "Negeri Sembilan",
          "Negeri Sembilan",
          "Negeri Sembilan",
          "Negeri Sembilan",
          "Negeri Sembilan",
          "Negeri Sembilan",
          "Negeri Sembilan",
          "Negeri Sembilan",
          "Negeri Sembilan",
          "Negeri Sembilan",
          "Negeri Sembilan",
          "Negeri Sembilan",
          "Negeri Sembilan",
          "Negeri Sembilan",
          "Negeri Sembilan",
          "Negeri Sembilan",
          "Negeri Sembilan",
          "Negeri Sembilan",
          "Negeri Sembilan",
          "Negeri Sembilan",
          "Negeri Sembilan",
          "Negeri Sembilan",
          "Negeri Sembilan",
          "Negeri Sembilan",
          "Negeri Sembilan",
          "Negeri Sembilan",
          "Negeri Sembilan",
          "Negeri Sembilan",
          "Negeri Sembilan",
          "Negeri Sembilan",
          "Negeri Sembilan",
          "Negeri Sembilan",
          "Negeri Sembilan",
          "Negeri Sembilan",
          "Negeri Sembilan",
          "Negeri Sembilan",
          "Negeri Sembilan",
          "Negeri Sembilan",
          "Negeri Sembilan",
          "Negeri Sembilan",
          "Negeri Sembilan",
          "Negeri Sembilan",
          "Negeri Sembilan",
          "Negeri Sembilan",
          "Negeri Sembilan",
          "Negeri Sembilan",
          "Negeri Sembilan",
          "Negeri Sembilan",
          "Negeri Sembilan",
          "Negeri Sembilan",
          "Negeri Sembilan",
          "Negeri Sembilan",
          "Negeri Sembilan",
          "Negeri Sembilan",
          "Negeri Sembilan",
          "Negeri Sembilan",
          "Negeri Sembilan",
          "Negeri Sembilan",
          "Negeri Sembilan",
          "Negeri Sembilan",
          "Negeri Sembilan",
          "Negeri Sembilan",
          "Negeri Sembilan",
          "Negeri Sembilan",
          "Negeri Sembilan",
          "Negeri Sembilan",
          "Negeri Sembilan",
          "Negeri Sembilan",
          "Negeri Sembilan",
          "Negeri Sembilan",
          "Negeri Sembilan",
          "Negeri Sembilan",
          "Negeri Sembilan",
          "Negeri Sembilan",
          "Negeri Sembilan",
          "Negeri Sembilan",
          "Negeri Sembilan",
          "Negeri Sembilan",
          "Negeri Sembilan",
          "Negeri Sembilan",
          "Negeri Sembilan",
          "Negeri Sembilan",
          "Negeri Sembilan",
          "Negeri Sembilan",
          "Negeri Sembilan",
          "Negeri Sembilan",
          "Negeri Sembilan",
          "Negeri Sembilan",
          "Negeri Sembilan",
          "Negeri Sembilan",
          "Negeri Sembilan",
          "Negeri Sembilan",
          "Negeri Sembilan",
          "Negeri Sembilan",
          "Negeri Sembilan",
          "Negeri Sembilan",
          "Negeri Sembilan",
          "Negeri Sembilan",
          "Negeri Sembilan",
          "Negeri Sembilan",
          "Negeri Sembilan",
          "Negeri Sembilan",
          "Negeri Sembilan",
          "Negeri Sembilan",
          "Negeri Sembilan",
          "Negeri Sembilan",
          "Negeri Sembilan",
          "Negeri Sembilan",
          "Negeri Sembilan",
          "Negeri Sembilan",
          "Negeri Sembilan",
          "Negeri Sembilan",
          "Negeri Sembilan",
          "Negeri Sembilan",
          "Negeri Sembilan",
          "Negeri Sembilan",
          "Negeri Sembilan",
          "Negeri Sembilan",
          "Negeri Sembilan",
          "Negeri Sembilan",
          "Negeri Sembilan",
          "Negeri Sembilan",
          "Negeri Sembilan",
          "Negeri Sembilan",
          "Negeri Sembilan",
          "Negeri Sembilan",
          "Negeri Sembilan",
          "Negeri Sembilan",
          "Negeri Sembilan",
          "Negeri Sembilan",
          "Negeri Sembilan",
          "Negeri Sembilan",
          "Negeri Sembilan",
          "Negeri Sembilan",
          "Negeri Sembilan",
          "Negeri Sembilan",
          "Negeri Sembilan",
          "Negeri Sembilan",
          "Negeri Sembilan",
          "Negeri Sembilan",
          "Negeri Sembilan",
          "Negeri Sembilan",
          "Negeri Sembilan",
          "Negeri Sembilan",
          "Negeri Sembilan",
          "Negeri Sembilan",
          "Negeri Sembilan",
          "Negeri Sembilan",
          "Negeri Sembilan",
          "Negeri Sembilan",
          "Negeri Sembilan",
          "Negeri Sembilan",
          "Negeri Sembilan",
          "Negeri Sembilan",
          "Negeri Sembilan",
          "Negeri Sembilan",
          "Negeri Sembilan",
          "Negeri Sembilan",
          "Negeri Sembilan",
          "Negeri Sembilan",
          "Negeri Sembilan",
          "Negeri Sembilan",
          "Negeri Sembilan",
          "Negeri Sembilan",
          "Negeri Sembilan",
          "Negeri Sembilan",
          "Negeri Sembilan",
          "Negeri Sembilan",
          "Negeri Sembilan",
          "Negeri Sembilan",
          "Negeri Sembilan",
          "Negeri Sembilan",
          "Negeri Sembilan",
          "Negeri Sembilan",
          "Negeri Sembilan",
          "Negeri Sembilan",
          "Negeri Sembilan",
          "Negeri Sembilan",
          "Negeri Sembilan",
          "Negeri Sembilan",
          "Negeri Sembilan",
          "Negeri Sembilan",
          "Negeri Sembilan",
          "Negeri Sembilan",
          "Negeri Sembilan",
          "Negeri Sembilan",
          "Negeri Sembilan",
          "Negeri Sembilan",
          "Negeri Sembilan",
          "Negeri Sembilan",
          "Negeri Sembilan",
          "Negeri Sembilan",
          "Negeri Sembilan",
          "Negeri Sembilan",
          "Negeri Sembilan",
          "Negeri Sembilan",
          "Negeri Sembilan",
          "Negeri Sembilan",
          "Negeri Sembilan",
          "Negeri Sembilan",
          "Negeri Sembilan",
          "Negeri Sembilan",
          "Negeri Sembilan",
          "Negeri Sembilan",
          "Negeri Sembilan",
          "Negeri Sembilan",
          "Negeri Sembilan",
          "Negeri Sembilan",
          "Negeri Sembilan",
          "Negeri Sembilan",
          "Negeri Sembilan",
          "Negeri Sembilan",
          "Negeri Sembilan",
          "Negeri Sembilan",
          "Negeri Sembilan",
          "Negeri Sembilan",
          "Negeri Sembilan",
          "Negeri Sembilan",
          "Negeri Sembilan",
          "Negeri Sembilan",
          "Negeri Sembilan",
          "Negeri Sembilan",
          "Negeri Sembilan",
          "Negeri Sembilan",
          "Negeri Sembilan",
          "Negeri Sembilan",
          "Negeri Sembilan",
          "Negeri Sembilan",
          "Negeri Sembilan",
          "Negeri Sembilan",
          "Negeri Sembilan",
          "Negeri Sembilan",
          "Negeri Sembilan",
          "Negeri Sembilan",
          "Negeri Sembilan",
          "Negeri Sembilan",
          "Negeri Sembilan",
          "Negeri Sembilan",
          "Negeri Sembilan",
          "Negeri Sembilan",
          "Negeri Sembilan",
          "Negeri Sembilan",
          "Negeri Sembilan",
          "Negeri Sembilan",
          "Negeri Sembilan",
          "Negeri Sembilan",
          "Negeri Sembilan",
          "Negeri Sembilan",
          "Negeri Sembilan",
          "Negeri Sembilan",
          "Negeri Sembilan",
          "Negeri Sembilan",
          "Negeri Sembilan",
          "Negeri Sembilan",
          "Negeri Sembilan",
          "Negeri Sembilan",
          "Negeri Sembilan",
          "Negeri Sembilan",
          "Negeri Sembilan",
          "Negeri Sembilan",
          "Negeri Sembilan",
          "Negeri Sembilan",
          "Negeri Sembilan",
          "Negeri Sembilan",
          "Negeri Sembilan",
          "Negeri Sembilan",
          "Negeri Sembilan",
          "Negeri Sembilan",
          "Negeri Sembilan",
          "Negeri Sembilan",
          "Negeri Sembilan",
          "Negeri Sembilan",
          "Negeri Sembilan",
          "Negeri Sembilan",
          "Negeri Sembilan",
          "Negeri Sembilan",
          "Negeri Sembilan",
          "Negeri Sembilan",
          "Negeri Sembilan",
          "Negeri Sembilan",
          "Negeri Sembilan",
          "Negeri Sembilan",
          "Negeri Sembilan",
          "Negeri Sembilan",
          "Negeri Sembilan",
          "Negeri Sembilan",
          "Negeri Sembilan",
          "Negeri Sembilan",
          "Negeri Sembilan",
          "Negeri Sembilan",
          "Negeri Sembilan",
          "Negeri Sembilan",
          "Negeri Sembilan",
          "Negeri Sembilan",
          "Negeri Sembilan",
          "Negeri Sembilan",
          "Negeri Sembilan",
          "Negeri Sembilan",
          "Negeri Sembilan",
          "Negeri Sembilan",
          "Negeri Sembilan",
          "Negeri Sembilan",
          "Negeri Sembilan",
          "Negeri Sembilan",
          "Negeri Sembilan",
          "Negeri Sembilan",
          "Negeri Sembilan",
          "Negeri Sembilan",
          "Negeri Sembilan",
          "Negeri Sembilan",
          "Negeri Sembilan",
          "Negeri Sembilan",
          "Negeri Sembilan",
          "Negeri Sembilan",
          "Negeri Sembilan",
          "Negeri Sembilan",
          "Negeri Sembilan",
          "Negeri Sembilan",
          "Negeri Sembilan",
          "Negeri Sembilan",
          "Negeri Sembilan",
          "Negeri Sembilan",
          "Negeri Sembilan",
          "Negeri Sembilan",
          "Negeri Sembilan",
          "Negeri Sembilan",
          "Negeri Sembilan",
          "Negeri Sembilan",
          "Negeri Sembilan",
          "Negeri Sembilan",
          "Negeri Sembilan",
          "Negeri Sembilan",
          "Negeri Sembilan",
          "Negeri Sembilan",
          "Negeri Sembilan",
          "Negeri Sembilan",
          "Negeri Sembilan",
          "Negeri Sembilan",
          "Negeri Sembilan",
          "Negeri Sembilan",
          "Negeri Sembilan",
          "Negeri Sembilan",
          "Negeri Sembilan",
          "Negeri Sembilan",
          "Negeri Sembilan",
          "Negeri Sembilan",
          "Negeri Sembilan",
          "Negeri Sembilan",
          "Negeri Sembilan",
          "Negeri Sembilan",
          "Negeri Sembilan",
          "Negeri Sembilan",
          "Negeri Sembilan",
          "Negeri Sembilan",
          "Negeri Sembilan",
          "Negeri Sembilan",
          "Negeri Sembilan",
          "Negeri Sembilan",
          "Negeri Sembilan",
          "Negeri Sembilan",
          "Negeri Sembilan",
          "Negeri Sembilan",
          "Negeri Sembilan",
          "Negeri Sembilan",
          "Negeri Sembilan",
          "Negeri Sembilan",
          "Negeri Sembilan",
          "Negeri Sembilan",
          "Negeri Sembilan",
          "Negeri Sembilan",
          "Negeri Sembilan",
          "Negeri Sembilan",
          "Negeri Sembilan",
          "Negeri Sembilan",
          "Negeri Sembilan",
          "Negeri Sembilan",
          "Negeri Sembilan",
          "Negeri Sembilan",
          "Negeri Sembilan",
          "Negeri Sembilan",
          "Negeri Sembilan",
          "Negeri Sembilan",
          "Negeri Sembilan",
          "Negeri Sembilan",
          "Negeri Sembilan",
          "Negeri Sembilan",
          "Negeri Sembilan",
          "Negeri Sembilan",
          "Negeri Sembilan",
          "Negeri Sembilan",
          "Negeri Sembilan",
          "Negeri Sembilan",
          "Negeri Sembilan",
          "Negeri Sembilan",
          "Negeri Sembilan",
          "Negeri Sembilan",
          "Negeri Sembilan",
          "Negeri Sembilan",
          "Negeri Sembilan",
          "Negeri Sembilan",
          "Negeri Sembilan",
          "Negeri Sembilan",
          "Negeri Sembilan",
          "Negeri Sembilan",
          "Negeri Sembilan",
          "Negeri Sembilan",
          "Negeri Sembilan",
          "Negeri Sembilan",
          "Negeri Sembilan",
          "Negeri Sembilan",
          "Negeri Sembilan",
          "Negeri Sembilan",
          "Negeri Sembilan",
          "Negeri Sembilan",
          "Negeri Sembilan",
          "Negeri Sembilan",
          "Negeri Sembilan",
          "Negeri Sembilan",
          "Negeri Sembilan",
          "Negeri Sembilan",
          "Negeri Sembilan",
          "Negeri Sembilan",
          "Negeri Sembilan",
          "Negeri Sembilan",
          "Negeri Sembilan",
          "Negeri Sembilan",
          "Negeri Sembilan",
          "Negeri Sembilan",
          "Negeri Sembilan",
          "Negeri Sembilan",
          "Negeri Sembilan",
          "Negeri Sembilan",
          "Negeri Sembilan",
          "Negeri Sembilan",
          "Negeri Sembilan",
          "Negeri Sembilan",
          "Negeri Sembilan",
          "Negeri Sembilan",
          "Negeri Sembilan",
          "Negeri Sembilan",
          "Negeri Sembilan",
          "Negeri Sembilan",
          "Negeri Sembilan",
          "Negeri Sembilan",
          "Negeri Sembilan",
          "Negeri Sembilan",
          "Negeri Sembilan",
          "Negeri Sembilan",
          "Negeri Sembilan",
          "Negeri Sembilan",
          "Negeri Sembilan",
          "Negeri Sembilan",
          "Negeri Sembilan",
          "Negeri Sembilan",
          "Negeri Sembilan",
          "Negeri Sembilan",
          "Negeri Sembilan",
          "Negeri Sembilan",
          "Negeri Sembilan",
          "Negeri Sembilan",
          "Negeri Sembilan",
          "Negeri Sembilan",
          "Negeri Sembilan",
          "Negeri Sembilan",
          "Negeri Sembilan",
          "Negeri Sembilan",
          "Negeri Sembilan",
          "Negeri Sembilan",
          "Negeri Sembilan",
          "Negeri Sembilan",
          "Negeri Sembilan",
          "Negeri Sembilan",
          "Negeri Sembilan",
          "Negeri Sembilan",
          "Negeri Sembilan",
          "Negeri Sembilan",
          "Negeri Sembilan",
          "Negeri Sembilan",
          "Negeri Sembilan",
          "Negeri Sembilan",
          "Negeri Sembilan",
          "Negeri Sembilan",
          "Negeri Sembilan",
          "Negeri Sembilan",
          "Negeri Sembilan",
          "Negeri Sembilan",
          "Negeri Sembilan",
          "Negeri Sembilan",
          "Negeri Sembilan",
          "Negeri Sembilan",
          "Negeri Sembilan",
          "Negeri Sembilan",
          "Negeri Sembilan",
          "Negeri Sembilan",
          "Negeri Sembilan",
          "Negeri Sembilan",
          "Negeri Sembilan",
          "Kelantan",
          "Kelantan",
          "Kelantan",
          "Kelantan",
          "Kelantan",
          "Kelantan",
          "Kelantan",
          "Kelantan",
          "Kelantan",
          "Kelantan",
          "Kelantan",
          "Kelantan",
          "Kelantan",
          "Kelantan",
          "Kelantan",
          "Kelantan",
          "Kelantan",
          "Kelantan",
          "Kelantan",
          "Kelantan",
          "Kelantan",
          "Kelantan",
          "Kelantan",
          "Kelantan",
          "Kelantan",
          "Kelantan",
          "Kelantan",
          "Kelantan",
          "Kelantan",
          "Kelantan",
          "Kelantan",
          "Kelantan",
          "Kelantan",
          "Kelantan",
          "Kelantan",
          "Kelantan",
          "Kelantan",
          "Kelantan",
          "Kelantan",
          "Kelantan",
          "Kelantan",
          "Kelantan",
          "Kelantan",
          "Kelantan",
          "Kelantan",
          "Kelantan",
          "Kelantan",
          "Kelantan",
          "Kelantan",
          "Kelantan",
          "Kelantan",
          "Kelantan",
          "Kelantan",
          "Kelantan",
          "Kelantan",
          "Kelantan",
          "Kelantan",
          "Kelantan",
          "Kelantan",
          "Kelantan",
          "Kelantan",
          "Kelantan",
          "Kelantan",
          "Kelantan",
          "Kelantan",
          "Kelantan",
          "Kelantan",
          "Kelantan",
          "Kelantan",
          "Kelantan",
          "Kelantan",
          "Kelantan",
          "Kelantan",
          "Kelantan",
          "Kelantan",
          "Kelantan",
          "Kelantan",
          "Kelantan",
          "Kelantan",
          "Kelantan",
          "Kelantan",
          "Kelantan",
          "Kelantan",
          "Kelantan",
          "Kelantan",
          "Kelantan",
          "Kelantan",
          "Kelantan",
          "Kelantan",
          "Kelantan",
          "Kelantan",
          "Kelantan",
          "Kelantan",
          "Kelantan",
          "Kelantan",
          "Kelantan",
          "Kelantan",
          "Kelantan",
          "Kelantan",
          "Kelantan",
          "Kelantan",
          "Kelantan",
          "Kelantan",
          "Kelantan",
          "Kelantan",
          "Kelantan",
          "Kelantan",
          "Kelantan",
          "Kelantan",
          "Kelantan",
          "Kelantan",
          "Kelantan",
          "Kelantan",
          "Kelantan",
          "Kelantan",
          "Kelantan",
          "Kelantan",
          "Kelantan",
          "Kelantan",
          "Kelantan",
          "Kelantan",
          "Kelantan",
          "Kelantan",
          "Kelantan",
          "Kelantan",
          "Kelantan",
          "Kelantan",
          "Kelantan",
          "Kelantan",
          "Kelantan",
          "Kelantan",
          "Kelantan",
          "Kelantan",
          "Kelantan",
          "Kelantan",
          "Kelantan",
          "Kelantan",
          "Kelantan",
          "Kelantan",
          "Kelantan",
          "Kelantan",
          "Kelantan",
          "Kelantan",
          "Kelantan",
          "Kelantan",
          "Kelantan",
          "Kelantan",
          "Kelantan",
          "Kelantan",
          "Kelantan",
          "Kelantan",
          "Kelantan",
          "Kelantan",
          "Kelantan",
          "Kelantan",
          "Kelantan",
          "Kelantan",
          "Kelantan",
          "Kelantan",
          "Kelantan",
          "Kelantan",
          "Kelantan",
          "Kelantan",
          "Kelantan",
          "Kelantan",
          "Kelantan",
          "Kelantan",
          "Kelantan",
          "Kelantan",
          "Kelantan",
          "Kelantan",
          "Kelantan",
          "Kelantan",
          "Kelantan",
          "Kelantan",
          "Kelantan",
          "Kelantan",
          "Kelantan",
          "Kelantan",
          "Kelantan",
          "Kelantan",
          "Kelantan",
          "Kelantan",
          "Kelantan",
          "Kelantan",
          "Kelantan",
          "Kelantan",
          "Kelantan",
          "Kelantan",
          "Kelantan",
          "Kelantan",
          "Kelantan",
          "Kelantan",
          "Kelantan",
          "Kelantan",
          "Kelantan",
          "Kelantan",
          "Kelantan",
          "Kelantan",
          "Kelantan",
          "Kelantan",
          "Kelantan",
          "Kelantan",
          "Kelantan",
          "Kelantan",
          "Kelantan",
          "Kelantan",
          "Kelantan",
          "Kelantan",
          "Kelantan",
          "Kelantan",
          "Kelantan",
          "Kelantan",
          "Kelantan",
          "Kelantan",
          "Kelantan",
          "Kelantan",
          "Kelantan",
          "Kelantan",
          "Kelantan",
          "Kelantan",
          "Kelantan",
          "Kelantan",
          "Kelantan",
          "Kelantan",
          "Kelantan",
          "Kelantan",
          "Kelantan",
          "Kelantan",
          "Kelantan",
          "Kelantan",
          "Kelantan",
          "Kelantan",
          "Kelantan",
          "Kelantan",
          "Kelantan",
          "Kelantan",
          "Kelantan",
          "Kelantan",
          "Kelantan",
          "Kelantan",
          "Kelantan",
          "Kelantan",
          "Kelantan",
          "Kelantan",
          "Kelantan",
          "Kelantan",
          "Kelantan",
          "Kelantan",
          "Kelantan",
          "Kelantan",
          "Kelantan",
          "Kelantan",
          "Kelantan",
          "Kelantan",
          "Kelantan",
          "Kelantan",
          "Kelantan",
          "Kelantan",
          "Kelantan",
          "Kelantan",
          "Kelantan",
          "Kelantan",
          "Kelantan",
          "Kelantan",
          "Kelantan",
          "Kelantan",
          "Kelantan",
          "Kelantan",
          "Kelantan",
          "Kelantan",
          "Kelantan",
          "Kelantan",
          "Kelantan",
          "Kelantan",
          "Kelantan",
          "Kelantan",
          "Kelantan",
          "Kelantan",
          "Kelantan",
          "Kelantan",
          "Kelantan",
          "Kelantan",
          "Kelantan",
          "Kelantan",
          "Kelantan",
          "Kelantan",
          "Kelantan",
          "Kelantan",
          "Kelantan",
          "Kelantan",
          "Kelantan",
          "Kelantan",
          "Kelantan",
          "Kelantan",
          "Kelantan",
          "Kelantan",
          "Kelantan",
          "Kelantan",
          "Kelantan",
          "Kelantan",
          "Kelantan",
          "Kelantan",
          "Kelantan",
          "Kelantan",
          "Kelantan",
          "Kelantan",
          "Kelantan",
          "Kelantan",
          "Kelantan",
          "Kelantan",
          "Kelantan",
          "Kelantan",
          "Kelantan",
          "Kelantan",
          "Kelantan",
          "Kelantan",
          "Kelantan",
          "Kelantan",
          "Kelantan",
          "Kelantan",
          "Kelantan",
          "Kelantan",
          "Kelantan",
          "Kelantan",
          "Kelantan",
          "Kelantan",
          "Kelantan",
          "Kelantan",
          "Kelantan",
          "Kelantan",
          "Kelantan",
          "Kelantan",
          "Kelantan",
          "Kelantan",
          "Kelantan",
          "Kelantan",
          "Kelantan",
          "Kelantan",
          "Kelantan",
          "Kelantan",
          "Kelantan",
          "Kelantan",
          "Kelantan",
          "Kelantan",
          "Kelantan",
          "Kelantan",
          "Kelantan",
          "Kelantan",
          "Kelantan",
          "Kelantan",
          "Kelantan",
          "Kelantan",
          "Kelantan",
          "Kelantan",
          "Kelantan",
          "Kelantan",
          "Kelantan",
          "Kelantan",
          "Kelantan",
          "Kelantan",
          "Kelantan",
          "Kelantan",
          "Kelantan",
          "Kelantan",
          "Kelantan",
          "Kelantan",
          "Kelantan",
          "Kelantan",
          "Kelantan",
          "Kelantan",
          "Kelantan",
          "Kelantan",
          "Kelantan",
          "Kelantan",
          "Kelantan",
          "Kelantan",
          "Kelantan",
          "Kelantan",
          "Kelantan",
          "Kelantan",
          "Kelantan",
          "Kelantan",
          "Kelantan",
          "Kelantan",
          "Kelantan",
          "Kelantan",
          "Kelantan",
          "Kelantan",
          "Kelantan",
          "Kelantan",
          "Kelantan",
          "Kelantan",
          "Kelantan",
          "Kelantan",
          "Kelantan",
          "Kelantan",
          "Kelantan",
          "Kelantan",
          "Kelantan",
          "Kelantan",
          "Kelantan",
          "Kelantan",
          "Kelantan",
          "Kelantan",
          "Kelantan",
          "Kelantan",
          "Kelantan",
          "Kelantan",
          "Kelantan",
          "Kelantan",
          "Kelantan",
          "Kelantan",
          "Kelantan",
          "Kelantan",
          "Kelantan",
          "Kelantan",
          "Kelantan",
          "Kelantan",
          "Kelantan",
          "Kelantan",
          "Kelantan",
          "Kelantan",
          "Kelantan",
          "Kelantan",
          "Kelantan",
          "Kelantan",
          "Kelantan",
          "Kelantan",
          "Kelantan",
          "Kelantan",
          "Kelantan",
          "Kelantan",
          "Kelantan",
          "Kelantan",
          "Kelantan",
          "Kelantan",
          "Kelantan",
          "Kelantan",
          "Kelantan",
          "Kelantan",
          "Kelantan",
          "Kelantan",
          "Kelantan",
          "Kelantan",
          "Kelantan",
          "Kelantan",
          "Kelantan",
          "Kelantan",
          "Kelantan",
          "Kelantan",
          "Kelantan",
          "Kelantan",
          "Kelantan",
          "Kelantan",
          "Kelantan",
          "Kelantan",
          "Kelantan",
          "Kelantan",
          "Kelantan",
          "Kelantan",
          "Kelantan",
          "Kelantan",
          "Kelantan",
          "Kelantan",
          "Kelantan",
          "Kelantan",
          "Kelantan",
          "Kelantan",
          "Kelantan",
          "Kelantan",
          "Kelantan",
          "Kelantan",
          "Kelantan",
          "Kelantan",
          "Kelantan",
          "Kelantan",
          "Kelantan",
          "Kelantan",
          "Kelantan",
          "Kelantan",
          "Kelantan",
          "Kelantan",
          "Kelantan",
          "Kelantan",
          "Kelantan",
          "Kelantan",
          "Kelantan",
          "Kelantan",
          "Kelantan",
          "Kelantan",
          "Kelantan",
          "Kelantan",
          "Kelantan",
          "Kelantan",
          "Kelantan",
          "Kelantan",
          "Kelantan",
          "Kelantan",
          "Kelantan",
          "Kelantan",
          "Kelantan",
          "Kelantan",
          "Kelantan",
          "Kelantan",
          "Kelantan",
          "Kelantan",
          "Kelantan",
          "Kelantan",
          "Kelantan",
          "Kelantan",
          "Kelantan",
          "Kelantan",
          "Kelantan",
          "Kelantan",
          "Kelantan",
          "Kelantan",
          "Kelantan",
          "Kelantan",
          "Kelantan",
          "Kelantan",
          "Kelantan",
          "Kelantan",
          "Kelantan",
          "Kelantan",
          "Kelantan",
          "Kelantan",
          "Kelantan",
          "Kelantan",
          "Kelantan",
          "Kelantan",
          "Kelantan",
          "Kelantan",
          "Kelantan",
          "Kelantan",
          "Kelantan",
          "Kelantan",
          "Kelantan",
          "Kelantan",
          "Kelantan",
          "Kelantan",
          "Kelantan",
          "Kelantan",
          "Kelantan",
          "Kelantan",
          "Kelantan",
          "Kelantan",
          "Kelantan",
          "Kelantan",
          "Kelantan",
          "Kelantan",
          "Kelantan",
          "Kelantan",
          "Kelantan",
          "Kelantan",
          "Kelantan",
          "Kelantan",
          "Kelantan",
          "Kelantan",
          "Kelantan",
          "Kelantan",
          "Kelantan",
          "Kelantan",
          "Pahang",
          "Pahang",
          "Pahang",
          "Pahang",
          "Pahang",
          "Pahang",
          "Pahang",
          "Pahang",
          "Pahang",
          "Pahang",
          "Pahang",
          "Pahang",
          "Pahang",
          "Pahang",
          "Pahang",
          "Pahang",
          "Pahang",
          "Pahang",
          "Pahang",
          "Pahang",
          "Pahang",
          "Pahang",
          "Pahang",
          "Pahang",
          "Pahang",
          "Pahang",
          "Pahang",
          "Pahang",
          "Pahang",
          "Pahang",
          "Pahang",
          "Pahang",
          "Pahang",
          "Pahang",
          "Pahang",
          "Pahang",
          "Pahang",
          "Pahang",
          "Pahang",
          "Pahang",
          "Perak",
          "Perak",
          "Perak",
          "Perak",
          "Perak",
          "Perak",
          "Perak",
          "Perak",
          "Perak",
          "Perak",
          "Perak",
          "Perak",
          "Perak",
          "Perak",
          "Perak",
          "Perak",
          "Perak",
          "Perak",
          "Perak",
          "Perak",
          "Perak",
          "Perak",
          "Perak"
         ],
         "x0": " ",
         "xaxis": "x",
         "y": [
          43,
          30,
          56,
          28,
          217,
          198,
          171,
          120,
          91,
          283,
          129,
          1000,
          159,
          160,
          159,
          14,
          86,
          45,
          21,
          533,
          343,
          21,
          36,
          13,
          46,
          26,
          22,
          73,
          34,
          72,
          346,
          27,
          152,
          113,
          24,
          26,
          53,
          138,
          388,
          237,
          390,
          115,
          551,
          130,
          531,
          23,
          53,
          176,
          415,
          471,
          2388,
          5479,
          30,
          60,
          161,
          136,
          483,
          36,
          864,
          238,
          99,
          407,
          53,
          109,
          311,
          58,
          411,
          1233,
          176,
          1154,
          311,
          245,
          650,
          1428,
          296,
          53,
          59,
          113,
          302,
          246,
          1387,
          560,
          156,
          909,
          135,
          186,
          522,
          285,
          318,
          713,
          236,
          364,
          380,
          981,
          1427,
          388,
          388,
          372,
          891,
          276,
          2689,
          670,
          511,
          156,
          255,
          68,
          415,
          219,
          458,
          632,
          1201,
          404,
          428,
          288,
          412,
          412,
          441,
          693,
          406,
          466,
          328,
          407,
          38,
          100,
          54,
          38,
          1107,
          19,
          19,
          64,
          80,
          60,
          16,
          14,
          72,
          147,
          62,
          200,
          14,
          26,
          28,
          35,
          61,
          265,
          87,
          35,
          212,
          30,
          43,
          190,
          468,
          124,
          69,
          330,
          181,
          38,
          21,
          26,
          22,
          42,
          119,
          74,
          24,
          38,
          134,
          484,
          530,
          832,
          96,
          30,
          57,
          65,
          28,
          73,
          156,
          28,
          53,
          140,
          119,
          103,
          150,
          133,
          21,
          188,
          977,
          42,
          135,
          331,
          58,
          23,
          24,
          76,
          23,
          173,
          16,
          40,
          159,
          40,
          32,
          30,
          62,
          54,
          46,
          46,
          19,
          149,
          20,
          21,
          508,
          138,
          122,
          31,
          63,
          12,
          102,
          25,
          8,
          61,
          502,
          394,
          42,
          85,
          78,
          63,
          16,
          713,
          130,
          288,
          84,
          2477,
          65,
          15,
          860,
          2467,
          329,
          99,
          70,
          68,
          669,
          361,
          268,
          435,
          645,
          106,
          50,
          34,
          81,
          22,
          81,
          117,
          110,
          83,
          64,
          60,
          139,
          383,
          558,
          25,
          167,
          219,
          489,
          4977,
          118,
          45,
          153,
          45,
          416,
          562,
          88,
          153,
          41,
          175,
          279,
          236,
          1154,
          956,
          225,
          20,
          485,
          336,
          122,
          414,
          140,
          653,
          851,
          352,
          141,
          320,
          39,
          681,
          518,
          98,
          4093,
          191,
          690,
          892,
          950,
          720,
          1652,
          450,
          786,
          60,
          34,
          102,
          267,
          22,
          309,
          213,
          69,
          50,
          111,
          284,
          88,
          222,
          81,
          177,
          24,
          676,
          34,
          387,
          370,
          263,
          144,
          679,
          277,
          1290,
          488,
          286,
          491,
          1647,
          85,
          99,
          50,
          611,
          1950,
          244,
          320,
          519,
          108,
          799,
          71,
          128,
          244,
          115,
          94,
          418,
          139,
          661,
          705,
          365,
          193,
          57,
          125,
          82,
          38,
          73,
          239,
          73,
          107,
          91,
          29,
          32,
          8,
          78,
          31,
          31,
          468,
          172,
          240,
          328,
          59,
          72,
          229,
          28,
          576,
          141,
          112,
          902,
          148,
          78,
          440,
          237,
          192,
          64,
          24,
          160,
          57,
          16,
          49,
          13,
          28,
          25,
          66,
          24,
          43,
          136,
          156,
          25,
          147,
          22,
          307,
          243,
          197,
          498,
          749,
          200,
          28,
          69,
          30,
          197,
          198,
          112,
          241,
          743,
          263,
          448,
          129,
          225,
          99,
          107,
          139,
          88,
          63,
          62,
          223,
          244,
          338,
          430,
          322,
          142,
          400,
          761,
          757,
          129,
          376,
          149,
          432,
          445,
          293,
          195,
          170,
          82,
          44,
          582,
          54,
          14,
          145,
          42,
          565,
          121,
          633,
          358,
          529,
          80,
          236,
          528,
          60,
          464,
          836,
          60,
          130,
          476,
          160,
          115,
          158,
          248,
          158,
          18,
          31,
          63,
          158,
          996,
          228,
          53,
          24,
          979,
          38,
          199,
          168,
          494,
          392,
          998,
          683,
          170,
          328,
          105,
          483,
          194,
          428,
          300,
          72,
          544,
          735,
          517,
          284,
          178,
          286,
          271,
          532,
          406,
          436,
          196,
          228,
          419,
          365,
          322,
          196,
          99,
          86,
          313,
          126,
          56,
          563,
          560,
          154,
          875,
          90,
          81,
          134,
          15,
          44,
          36,
          39,
          102,
          204,
          7,
          208,
          7,
          40,
          44,
          526,
          117,
          20,
          23,
          31,
          84,
          209,
          77,
          38,
          29,
          121,
          99,
          63,
          51,
          79,
          22,
          282,
          35,
          43,
          145,
          18,
          23,
          22,
          12,
          91,
          26,
          87,
          88,
          70,
          18,
          34,
          36,
          115,
          70,
          169,
          193,
          28,
          18,
          59,
          461,
          214,
          0,
          49,
          23,
          68,
          10,
          1205,
          56,
          48,
          50,
          24,
          71,
          11,
          16,
          139,
          0,
          54,
          121,
          204,
          81,
          28,
          98,
          22,
          296,
          230,
          56,
          92,
          145,
          171,
          2614,
          1047,
          164,
          139,
          445,
          192,
          139,
          150,
          110,
          135,
          147,
          62,
          40,
          50,
          53,
          39,
          89,
          28,
          29,
          39,
          33,
          75,
          36,
          37,
          52,
          34,
          88,
          27,
          30,
          21,
          19,
          66,
          208,
          22,
          108,
          85,
          27,
          86,
          9,
          40,
          12,
          56,
          72,
          27,
          137,
          152,
          46,
          31,
          119,
          70,
          25,
          91,
          53,
          32,
          55,
          26,
          25,
          15,
          214,
          1454,
          11,
          36,
          24,
          21,
          98,
          28,
          659,
          81,
          16,
          18,
          17,
          68,
          889,
          78,
          48,
          30,
          34,
          25,
          53,
          8,
          27,
          144,
          46,
          25,
          25,
          21,
          28,
          14,
          9,
          24,
          24,
          44,
          30,
          100,
          126,
          20,
          57,
          80,
          211,
          55,
          67,
          428,
          50,
          21,
          688,
          1026,
          30,
          20,
          10,
          12,
          40,
          12,
          46,
          102,
          69,
          93,
          10,
          192,
          55,
          22,
          630,
          20,
          1261,
          79,
          132,
          1600,
          75,
          15,
          18,
          133,
          20,
          397,
          252,
          90,
          31,
          42,
          13,
          72,
          56,
          52,
          22,
          26,
          10,
          25,
          66,
          26,
          69,
          135,
          1281,
          25,
          54,
          24,
          49,
          59,
          52,
          97,
          50,
          48,
          14,
          24,
          10,
          141,
          244,
          241,
          96,
          45,
          173,
          109,
          86,
          497,
          110,
          42,
          69,
          252,
          780,
          520,
          98,
          224,
          89,
          32,
          18,
          79,
          29,
          20,
          5,
          29,
          156,
          263,
          439,
          22,
          50,
          70,
          50,
          29,
          13,
          28,
          91,
          45,
          124,
          100,
          46,
          20,
          28,
          29,
          20,
          97,
          711,
          58,
          221,
          50,
          236,
          25,
          162,
          47,
          24,
          66,
          47,
          200,
          16,
          100,
          68,
          78,
          33,
          200,
          13,
          463,
          357,
          144,
          88,
          259,
          20,
          93,
          339,
          104,
          58,
          28,
          55,
          241,
          128,
          28,
          30,
          687,
          58,
          5,
          56,
          110,
          241,
          6,
          39,
          8,
          15,
          137,
          374,
          291,
          141,
          44,
          53,
          47,
          363,
          25,
          81,
          35,
          25,
          277,
          223,
          106,
          101,
          133,
          31,
          145,
          39,
          19,
          191,
          172,
          53,
          463,
          93,
          85,
          13,
          16,
          80,
          19,
          140,
          84,
          182,
          112,
          43,
          104,
          2,
          92,
          99,
          283,
          28,
          674,
          313,
          60,
          680,
          466,
          61,
          30,
          20,
          59,
          61,
          2,
          51,
          350,
          42,
          78,
          230,
          336,
          76,
          340,
          252,
          302,
          206,
          1,
          72,
          49,
          146,
          83,
          195,
          421,
          230,
          35,
          68,
          37,
          24,
          26,
          115,
          95,
          22,
          162,
          72,
          80,
          36,
          21,
          24,
          144,
          506,
          69,
          40,
          55,
          28,
          45,
          17,
          13,
          82,
          26,
          73,
          270,
          97,
          38,
          248,
          44,
          385,
          75,
          66,
          31,
          283,
          71,
          124,
          63,
          30,
          64,
          632,
          71,
          70,
          86,
          27,
          30,
          49,
          416,
          44,
          318,
          41,
          219,
          33,
          30,
          6,
          47,
          122,
          202,
          352,
          95,
          2223,
          61,
          149,
          120,
          213,
          106,
          256,
          72,
          125,
          210,
          22,
          51,
          27,
          74,
          13,
          352,
          22,
          32,
          24,
          23,
          20,
          150,
          31,
          85,
          26,
          73,
          126,
          29,
          66,
          50,
          14,
          1,
          31,
          160,
          51,
          188,
          9,
          10,
          24,
          17,
          50,
          28,
          166,
          31,
          97,
          56,
          174,
          12,
          250,
          34,
          142,
          50,
          50,
          444,
          31,
          93,
          50,
          30,
          117,
          50,
          187,
          73,
          50,
          50,
          17,
          16,
          50,
          100,
          126,
          62,
          46,
          58,
          52,
          157,
          22,
          17,
          487,
          400,
          197,
          362,
          170,
          195,
          168,
          198,
          100,
          344,
          187,
          114,
          187,
          309,
          30,
          77,
          49,
          103,
          151,
          3,
          196,
          426,
          512,
          419,
          187,
          50,
          32,
          193,
          231,
          65,
          89,
          252,
          26,
          147,
          280,
          333,
          96,
          229,
          74,
          36,
          50,
          224,
          42,
          67,
          11,
          518,
          745,
          331,
          487,
          22,
          108,
          160,
          20,
          226,
          14,
          1014,
          68,
          78,
          64,
          22,
          300,
          27,
          190,
          117,
          11,
          29,
          54,
          106,
          176,
          900,
          49,
          76,
          50,
          52,
          84,
          272,
          81,
          388,
          33,
          24,
          25,
          135,
          273,
          50,
          65,
          68,
          16,
          95,
          49,
          95,
          195,
          137,
          170,
          59,
          107,
          61,
          283,
          17,
          187,
          151,
          149,
          20,
          60,
          38,
          27,
          28,
          159,
          205,
          25,
          41,
          43,
          60,
          228,
          212,
          215,
          281,
          54,
          84,
          199,
          141,
          111,
          152,
          127,
          119,
          60,
          69,
          30,
          37,
          40,
          16,
          106,
          20,
          60,
          11,
          208,
          74,
          215,
          25,
          66,
          75,
          33,
          205,
          99,
          23,
          23,
          30,
          10,
          36,
          58,
          80,
          76,
          10,
          5,
          24,
          36,
          39,
          10,
          32,
          17,
          46,
          52,
          28,
          26,
          107,
          78,
          42,
          10,
          32,
          71,
          42,
          36,
          21,
          131,
          39,
          10,
          27,
          31,
          38,
          20,
          9,
          27,
          24,
          62,
          14,
          42,
          51,
          24,
          9,
          21,
          8,
          27,
          9,
          74,
          57,
          9,
          19,
          34,
          29,
          27,
          4,
          6,
          25,
          56,
          37,
          24,
          27,
          231,
          18,
          96,
          27,
          8,
          5,
          69,
          43,
          17,
          29,
          206,
          18,
          88,
          47,
          15,
          12,
          11,
          10,
          159,
          16,
          16,
          30,
          6,
          10,
          193,
          92,
          37,
          22,
          5,
          16,
          8,
          21,
          9,
          43,
          5,
          12,
          21,
          30,
          12,
          25,
          137,
          18,
          16,
          39,
          62,
          25,
          58,
          113,
          24,
          44,
          23,
          14,
          27,
          32,
          15,
          100,
          51,
          44,
          12,
          44,
          34,
          9,
          78,
          17,
          12,
          57,
          16,
          32,
          20,
          23,
          43,
          34,
          21,
          15,
          13,
          26,
          52,
          84,
          124,
          175,
          9,
          132,
          16,
          85,
          95,
          30,
          28,
          55,
          4,
          41,
          18,
          38,
          124,
          176,
          112,
          8,
          40,
          20,
          30,
          10,
          123,
          49,
          89,
          10,
          52,
          104,
          130,
          20,
          187,
          138,
          3,
          294,
          30,
          261,
          165,
          46,
          58,
          24,
          25,
          29,
          249,
          31,
          28,
          142,
          60,
          19,
          7,
          23,
          17,
          5,
          2,
          106,
          1,
          202,
          91,
          422,
          174,
          229,
          101,
          39,
          97,
          31,
          16,
          15,
          51,
          106,
          21,
          3,
          16,
          76,
          113,
          3,
          32,
          90,
          85,
          88,
          496,
          20,
          48,
          33,
          1,
          312,
          19,
          91,
          40,
          54,
          1,
          49,
          482,
          41,
          2,
          219,
          5,
          52,
          107,
          138,
          802,
          2,
          18,
          25,
          11,
          36,
          31,
          7,
          11,
          32,
          32,
          21,
          46,
          139,
          200,
          1,
          92,
          93,
          20,
          86,
          3,
          33,
          24,
          19,
          207,
          725,
          96,
          80,
          89,
          52,
          166,
          187,
          52,
          1,
          154,
          45,
          4,
          28,
          27,
          27,
          11,
          136,
          8,
          21,
          25,
          42,
          31,
          76,
          95,
          207,
          67,
          122,
          122,
          44,
          14,
          3,
          54,
          4,
          31,
          380,
          380,
          44,
          18,
          10,
          12,
          34,
          14,
          46,
          4,
          14,
          1,
          11,
          30,
          10,
          8,
          20,
          20,
          34,
          26,
          26,
          17,
          5,
          11,
          10,
          37,
          37,
          49,
          1,
          53,
          11,
          10,
          10,
          22,
          43,
          28,
          2,
          50,
          2,
          45,
          144,
          45,
          57,
          57,
          1,
          47,
          9,
          86,
          8,
          43,
          21,
          12,
          10,
          103,
          81,
          172,
          198,
          22,
          616,
          22,
          42,
          46,
          97,
          8,
          14,
          74,
          200,
          109,
          95,
          119,
          8,
          97,
          33,
          6,
          19,
          8,
          50,
          19,
          12,
          21,
          14,
          7,
          33,
          75,
          15,
          21,
          324,
          17,
          688,
          71,
          12,
          12,
          24,
          20,
          15,
          26,
          13,
          9,
          5,
          21,
          10,
          23,
          15,
          42,
          20,
          20,
          25,
          18,
          19,
          20,
          8,
          50,
          25,
          16,
          82,
          26,
          19,
          12,
          151,
          15,
          44,
          179,
          18,
          30,
          40,
          38,
          177,
          14,
          123,
          43,
          40,
          30,
          68,
          206,
          84,
          10,
          16,
          48,
          15,
          8,
          31,
          52,
          19,
          17,
          10,
          81,
          40,
          5,
          905,
          141,
          111,
          298,
          184,
          36,
          67,
          46,
          147,
          33,
          30,
          27,
          10,
          8,
          73,
          11,
          231,
          255,
          160,
          300,
          407,
          774,
          363,
          1384,
          65,
          14,
          98,
          18,
          264,
          139,
          174,
          118,
          47,
          10,
          144,
          103,
          94,
          121,
          150,
          12,
          12,
          50,
          40,
          96,
          35,
          26,
          28,
          44,
          52,
          28,
          128,
          109,
          25,
          85,
          111,
          62,
          95,
          69,
          20,
          66,
          50,
          53,
          30,
          20
         ],
         "y0": " ",
         "yaxis": "y"
        }
       ],
       "layout": {
        "boxmode": "group",
        "legend": {
         "tracegroupgap": 0
        },
        "margin": {
         "t": 60
        },
        "template": {
         "data": {
          "bar": [
           {
            "error_x": {
             "color": "#2a3f5f"
            },
            "error_y": {
             "color": "#2a3f5f"
            },
            "marker": {
             "line": {
              "color": "#E5ECF6",
              "width": 0.5
             },
             "pattern": {
              "fillmode": "overlay",
              "size": 10,
              "solidity": 0.2
             }
            },
            "type": "bar"
           }
          ],
          "barpolar": [
           {
            "marker": {
             "line": {
              "color": "#E5ECF6",
              "width": 0.5
             },
             "pattern": {
              "fillmode": "overlay",
              "size": 10,
              "solidity": 0.2
             }
            },
            "type": "barpolar"
           }
          ],
          "carpet": [
           {
            "aaxis": {
             "endlinecolor": "#2a3f5f",
             "gridcolor": "white",
             "linecolor": "white",
             "minorgridcolor": "white",
             "startlinecolor": "#2a3f5f"
            },
            "baxis": {
             "endlinecolor": "#2a3f5f",
             "gridcolor": "white",
             "linecolor": "white",
             "minorgridcolor": "white",
             "startlinecolor": "#2a3f5f"
            },
            "type": "carpet"
           }
          ],
          "choropleth": [
           {
            "colorbar": {
             "outlinewidth": 0,
             "ticks": ""
            },
            "type": "choropleth"
           }
          ],
          "contour": [
           {
            "colorbar": {
             "outlinewidth": 0,
             "ticks": ""
            },
            "colorscale": [
             [
              0,
              "#0d0887"
             ],
             [
              0.1111111111111111,
              "#46039f"
             ],
             [
              0.2222222222222222,
              "#7201a8"
             ],
             [
              0.3333333333333333,
              "#9c179e"
             ],
             [
              0.4444444444444444,
              "#bd3786"
             ],
             [
              0.5555555555555556,
              "#d8576b"
             ],
             [
              0.6666666666666666,
              "#ed7953"
             ],
             [
              0.7777777777777778,
              "#fb9f3a"
             ],
             [
              0.8888888888888888,
              "#fdca26"
             ],
             [
              1,
              "#f0f921"
             ]
            ],
            "type": "contour"
           }
          ],
          "contourcarpet": [
           {
            "colorbar": {
             "outlinewidth": 0,
             "ticks": ""
            },
            "type": "contourcarpet"
           }
          ],
          "heatmap": [
           {
            "colorbar": {
             "outlinewidth": 0,
             "ticks": ""
            },
            "colorscale": [
             [
              0,
              "#0d0887"
             ],
             [
              0.1111111111111111,
              "#46039f"
             ],
             [
              0.2222222222222222,
              "#7201a8"
             ],
             [
              0.3333333333333333,
              "#9c179e"
             ],
             [
              0.4444444444444444,
              "#bd3786"
             ],
             [
              0.5555555555555556,
              "#d8576b"
             ],
             [
              0.6666666666666666,
              "#ed7953"
             ],
             [
              0.7777777777777778,
              "#fb9f3a"
             ],
             [
              0.8888888888888888,
              "#fdca26"
             ],
             [
              1,
              "#f0f921"
             ]
            ],
            "type": "heatmap"
           }
          ],
          "heatmapgl": [
           {
            "colorbar": {
             "outlinewidth": 0,
             "ticks": ""
            },
            "colorscale": [
             [
              0,
              "#0d0887"
             ],
             [
              0.1111111111111111,
              "#46039f"
             ],
             [
              0.2222222222222222,
              "#7201a8"
             ],
             [
              0.3333333333333333,
              "#9c179e"
             ],
             [
              0.4444444444444444,
              "#bd3786"
             ],
             [
              0.5555555555555556,
              "#d8576b"
             ],
             [
              0.6666666666666666,
              "#ed7953"
             ],
             [
              0.7777777777777778,
              "#fb9f3a"
             ],
             [
              0.8888888888888888,
              "#fdca26"
             ],
             [
              1,
              "#f0f921"
             ]
            ],
            "type": "heatmapgl"
           }
          ],
          "histogram": [
           {
            "marker": {
             "pattern": {
              "fillmode": "overlay",
              "size": 10,
              "solidity": 0.2
             }
            },
            "type": "histogram"
           }
          ],
          "histogram2d": [
           {
            "colorbar": {
             "outlinewidth": 0,
             "ticks": ""
            },
            "colorscale": [
             [
              0,
              "#0d0887"
             ],
             [
              0.1111111111111111,
              "#46039f"
             ],
             [
              0.2222222222222222,
              "#7201a8"
             ],
             [
              0.3333333333333333,
              "#9c179e"
             ],
             [
              0.4444444444444444,
              "#bd3786"
             ],
             [
              0.5555555555555556,
              "#d8576b"
             ],
             [
              0.6666666666666666,
              "#ed7953"
             ],
             [
              0.7777777777777778,
              "#fb9f3a"
             ],
             [
              0.8888888888888888,
              "#fdca26"
             ],
             [
              1,
              "#f0f921"
             ]
            ],
            "type": "histogram2d"
           }
          ],
          "histogram2dcontour": [
           {
            "colorbar": {
             "outlinewidth": 0,
             "ticks": ""
            },
            "colorscale": [
             [
              0,
              "#0d0887"
             ],
             [
              0.1111111111111111,
              "#46039f"
             ],
             [
              0.2222222222222222,
              "#7201a8"
             ],
             [
              0.3333333333333333,
              "#9c179e"
             ],
             [
              0.4444444444444444,
              "#bd3786"
             ],
             [
              0.5555555555555556,
              "#d8576b"
             ],
             [
              0.6666666666666666,
              "#ed7953"
             ],
             [
              0.7777777777777778,
              "#fb9f3a"
             ],
             [
              0.8888888888888888,
              "#fdca26"
             ],
             [
              1,
              "#f0f921"
             ]
            ],
            "type": "histogram2dcontour"
           }
          ],
          "mesh3d": [
           {
            "colorbar": {
             "outlinewidth": 0,
             "ticks": ""
            },
            "type": "mesh3d"
           }
          ],
          "parcoords": [
           {
            "line": {
             "colorbar": {
              "outlinewidth": 0,
              "ticks": ""
             }
            },
            "type": "parcoords"
           }
          ],
          "pie": [
           {
            "automargin": true,
            "type": "pie"
           }
          ],
          "scatter": [
           {
            "marker": {
             "colorbar": {
              "outlinewidth": 0,
              "ticks": ""
             }
            },
            "type": "scatter"
           }
          ],
          "scatter3d": [
           {
            "line": {
             "colorbar": {
              "outlinewidth": 0,
              "ticks": ""
             }
            },
            "marker": {
             "colorbar": {
              "outlinewidth": 0,
              "ticks": ""
             }
            },
            "type": "scatter3d"
           }
          ],
          "scattercarpet": [
           {
            "marker": {
             "colorbar": {
              "outlinewidth": 0,
              "ticks": ""
             }
            },
            "type": "scattercarpet"
           }
          ],
          "scattergeo": [
           {
            "marker": {
             "colorbar": {
              "outlinewidth": 0,
              "ticks": ""
             }
            },
            "type": "scattergeo"
           }
          ],
          "scattergl": [
           {
            "marker": {
             "colorbar": {
              "outlinewidth": 0,
              "ticks": ""
             }
            },
            "type": "scattergl"
           }
          ],
          "scattermapbox": [
           {
            "marker": {
             "colorbar": {
              "outlinewidth": 0,
              "ticks": ""
             }
            },
            "type": "scattermapbox"
           }
          ],
          "scatterpolar": [
           {
            "marker": {
             "colorbar": {
              "outlinewidth": 0,
              "ticks": ""
             }
            },
            "type": "scatterpolar"
           }
          ],
          "scatterpolargl": [
           {
            "marker": {
             "colorbar": {
              "outlinewidth": 0,
              "ticks": ""
             }
            },
            "type": "scatterpolargl"
           }
          ],
          "scatterternary": [
           {
            "marker": {
             "colorbar": {
              "outlinewidth": 0,
              "ticks": ""
             }
            },
            "type": "scatterternary"
           }
          ],
          "surface": [
           {
            "colorbar": {
             "outlinewidth": 0,
             "ticks": ""
            },
            "colorscale": [
             [
              0,
              "#0d0887"
             ],
             [
              0.1111111111111111,
              "#46039f"
             ],
             [
              0.2222222222222222,
              "#7201a8"
             ],
             [
              0.3333333333333333,
              "#9c179e"
             ],
             [
              0.4444444444444444,
              "#bd3786"
             ],
             [
              0.5555555555555556,
              "#d8576b"
             ],
             [
              0.6666666666666666,
              "#ed7953"
             ],
             [
              0.7777777777777778,
              "#fb9f3a"
             ],
             [
              0.8888888888888888,
              "#fdca26"
             ],
             [
              1,
              "#f0f921"
             ]
            ],
            "type": "surface"
           }
          ],
          "table": [
           {
            "cells": {
             "fill": {
              "color": "#EBF0F8"
             },
             "line": {
              "color": "white"
             }
            },
            "header": {
             "fill": {
              "color": "#C8D4E3"
             },
             "line": {
              "color": "white"
             }
            },
            "type": "table"
           }
          ]
         },
         "layout": {
          "annotationdefaults": {
           "arrowcolor": "#2a3f5f",
           "arrowhead": 0,
           "arrowwidth": 1
          },
          "autotypenumbers": "strict",
          "coloraxis": {
           "colorbar": {
            "outlinewidth": 0,
            "ticks": ""
           }
          },
          "colorscale": {
           "diverging": [
            [
             0,
             "#8e0152"
            ],
            [
             0.1,
             "#c51b7d"
            ],
            [
             0.2,
             "#de77ae"
            ],
            [
             0.3,
             "#f1b6da"
            ],
            [
             0.4,
             "#fde0ef"
            ],
            [
             0.5,
             "#f7f7f7"
            ],
            [
             0.6,
             "#e6f5d0"
            ],
            [
             0.7,
             "#b8e186"
            ],
            [
             0.8,
             "#7fbc41"
            ],
            [
             0.9,
             "#4d9221"
            ],
            [
             1,
             "#276419"
            ]
           ],
           "sequential": [
            [
             0,
             "#0d0887"
            ],
            [
             0.1111111111111111,
             "#46039f"
            ],
            [
             0.2222222222222222,
             "#7201a8"
            ],
            [
             0.3333333333333333,
             "#9c179e"
            ],
            [
             0.4444444444444444,
             "#bd3786"
            ],
            [
             0.5555555555555556,
             "#d8576b"
            ],
            [
             0.6666666666666666,
             "#ed7953"
            ],
            [
             0.7777777777777778,
             "#fb9f3a"
            ],
            [
             0.8888888888888888,
             "#fdca26"
            ],
            [
             1,
             "#f0f921"
            ]
           ],
           "sequentialminus": [
            [
             0,
             "#0d0887"
            ],
            [
             0.1111111111111111,
             "#46039f"
            ],
            [
             0.2222222222222222,
             "#7201a8"
            ],
            [
             0.3333333333333333,
             "#9c179e"
            ],
            [
             0.4444444444444444,
             "#bd3786"
            ],
            [
             0.5555555555555556,
             "#d8576b"
            ],
            [
             0.6666666666666666,
             "#ed7953"
            ],
            [
             0.7777777777777778,
             "#fb9f3a"
            ],
            [
             0.8888888888888888,
             "#fdca26"
            ],
            [
             1,
             "#f0f921"
            ]
           ]
          },
          "colorway": [
           "#636efa",
           "#EF553B",
           "#00cc96",
           "#ab63fa",
           "#FFA15A",
           "#19d3f3",
           "#FF6692",
           "#B6E880",
           "#FF97FF",
           "#FECB52"
          ],
          "font": {
           "color": "#2a3f5f"
          },
          "geo": {
           "bgcolor": "white",
           "lakecolor": "white",
           "landcolor": "#E5ECF6",
           "showlakes": true,
           "showland": true,
           "subunitcolor": "white"
          },
          "hoverlabel": {
           "align": "left"
          },
          "hovermode": "closest",
          "mapbox": {
           "style": "light"
          },
          "paper_bgcolor": "white",
          "plot_bgcolor": "#E5ECF6",
          "polar": {
           "angularaxis": {
            "gridcolor": "white",
            "linecolor": "white",
            "ticks": ""
           },
           "bgcolor": "#E5ECF6",
           "radialaxis": {
            "gridcolor": "white",
            "linecolor": "white",
            "ticks": ""
           }
          },
          "scene": {
           "xaxis": {
            "backgroundcolor": "#E5ECF6",
            "gridcolor": "white",
            "gridwidth": 2,
            "linecolor": "white",
            "showbackground": true,
            "ticks": "",
            "zerolinecolor": "white"
           },
           "yaxis": {
            "backgroundcolor": "#E5ECF6",
            "gridcolor": "white",
            "gridwidth": 2,
            "linecolor": "white",
            "showbackground": true,
            "ticks": "",
            "zerolinecolor": "white"
           },
           "zaxis": {
            "backgroundcolor": "#E5ECF6",
            "gridcolor": "white",
            "gridwidth": 2,
            "linecolor": "white",
            "showbackground": true,
            "ticks": "",
            "zerolinecolor": "white"
           }
          },
          "shapedefaults": {
           "line": {
            "color": "#2a3f5f"
           }
          },
          "ternary": {
           "aaxis": {
            "gridcolor": "white",
            "linecolor": "white",
            "ticks": ""
           },
           "baxis": {
            "gridcolor": "white",
            "linecolor": "white",
            "ticks": ""
           },
           "bgcolor": "#E5ECF6",
           "caxis": {
            "gridcolor": "white",
            "linecolor": "white",
            "ticks": ""
           }
          },
          "title": {
           "x": 0.05
          },
          "xaxis": {
           "automargin": true,
           "gridcolor": "white",
           "linecolor": "white",
           "ticks": "",
           "title": {
            "standoff": 15
           },
           "zerolinecolor": "white",
           "zerolinewidth": 2
          },
          "yaxis": {
           "automargin": true,
           "gridcolor": "white",
           "linecolor": "white",
           "ticks": "",
           "title": {
            "standoff": 15
           },
           "zerolinecolor": "white",
           "zerolinewidth": 2
          }
         }
        },
        "xaxis": {
         "anchor": "y",
         "domain": [
          0,
          1
         ],
         "title": {
          "text": "STATE"
         }
        },
        "yaxis": {
         "anchor": "x",
         "domain": [
          0,
          1
         ],
         "title": {
          "text": "NUMBER_OF_HOUSES"
         }
        }
       }
      },
      "text/html": [
       "<div>                            <div id=\"02365de5-f29a-4151-8287-309b3dcf1272\" class=\"plotly-graph-div\" style=\"height:525px; width:100%;\"></div>            <script type=\"text/javascript\">                require([\"plotly\"], function(Plotly) {                    window.PLOTLYENV=window.PLOTLYENV || {};                                    if (document.getElementById(\"02365de5-f29a-4151-8287-309b3dcf1272\")) {                    Plotly.newPlot(                        \"02365de5-f29a-4151-8287-309b3dcf1272\",                        [{\"alignmentgroup\":\"True\",\"hovertemplate\":\"STATE=%{x}<br>NUMBER_OF_HOUSES=%{y}<extra></extra>\",\"legendgroup\":\"\",\"marker\":{\"color\":\"#636efa\"},\"name\":\"\",\"notched\":false,\"offsetgroup\":\"\",\"orientation\":\"v\",\"showlegend\":false,\"type\":\"box\",\"x\":[\"Negeri Sembilan\",\"Negeri Sembilan\",\"Negeri Sembilan\",\"Negeri Sembilan\",\"Negeri Sembilan\",\"Negeri Sembilan\",\"Negeri Sembilan\",\"Negeri Sembilan\",\"Negeri Sembilan\",\"Negeri Sembilan\",\"Negeri Sembilan\",\"Negeri Sembilan\",\"Negeri Sembilan\",\"Negeri Sembilan\",\"Negeri Sembilan\",\"Negeri Sembilan\",\"Negeri Sembilan\",\"Negeri Sembilan\",\"Negeri Sembilan\",\"Negeri Sembilan\",\"Negeri Sembilan\",\"Negeri Sembilan\",\"Negeri Sembilan\",\"Negeri Sembilan\",\"Negeri Sembilan\",\"Negeri Sembilan\",\"Negeri Sembilan\",\"Negeri Sembilan\",\"Negeri Sembilan\",\"Negeri Sembilan\",\"Negeri Sembilan\",\"Negeri Sembilan\",\"Negeri Sembilan\",\"Negeri Sembilan\",\"Negeri Sembilan\",\"Negeri Sembilan\",\"Negeri Sembilan\",\"Negeri Sembilan\",\"Negeri Sembilan\",\"Negeri Sembilan\",\"Negeri Sembilan\",\"Negeri Sembilan\",\"Negeri Sembilan\",\"Negeri Sembilan\",\"Negeri Sembilan\",\"Negeri Sembilan\",\"Negeri Sembilan\",\"Negeri Sembilan\",\"Negeri Sembilan\",\"Negeri Sembilan\",\"Negeri Sembilan\",\"Negeri Sembilan\",\"Negeri Sembilan\",\"Negeri Sembilan\",\"Negeri Sembilan\",\"Negeri Sembilan\",\"Negeri Sembilan\",\"Negeri Sembilan\",\"Negeri Sembilan\",\"Negeri Sembilan\",\"Negeri Sembilan\",\"Negeri Sembilan\",\"Negeri Sembilan\",\"Negeri Sembilan\",\"Negeri Sembilan\",\"Negeri Sembilan\",\"Negeri Sembilan\",\"Negeri Sembilan\",\"Negeri Sembilan\",\"Negeri Sembilan\",\"Negeri Sembilan\",\"Negeri Sembilan\",\"Negeri Sembilan\",\"Negeri Sembilan\",\"Negeri Sembilan\",\"Negeri Sembilan\",\"Negeri Sembilan\",\"Negeri Sembilan\",\"Negeri Sembilan\",\"Negeri Sembilan\",\"Negeri Sembilan\",\"Negeri Sembilan\",\"Negeri Sembilan\",\"Negeri Sembilan\",\"Negeri Sembilan\",\"Negeri Sembilan\",\"Negeri Sembilan\",\"Negeri Sembilan\",\"Negeri Sembilan\",\"Negeri Sembilan\",\"Negeri Sembilan\",\"Negeri Sembilan\",\"Negeri Sembilan\",\"Negeri Sembilan\",\"Negeri Sembilan\",\"Negeri Sembilan\",\"Negeri Sembilan\",\"Negeri Sembilan\",\"Negeri Sembilan\",\"Negeri Sembilan\",\"Negeri Sembilan\",\"Negeri Sembilan\",\"Negeri Sembilan\",\"Negeri Sembilan\",\"Negeri Sembilan\",\"Negeri Sembilan\",\"Negeri Sembilan\",\"Negeri Sembilan\",\"Negeri Sembilan\",\"Negeri Sembilan\",\"Negeri Sembilan\",\"Negeri Sembilan\",\"Negeri Sembilan\",\"Negeri Sembilan\",\"Negeri Sembilan\",\"Negeri Sembilan\",\"Negeri Sembilan\",\"Negeri Sembilan\",\"Negeri Sembilan\",\"Negeri Sembilan\",\"Negeri Sembilan\",\"Negeri Sembilan\",\"Negeri Sembilan\",\"Negeri Sembilan\",\"Negeri Sembilan\",\"Negeri Sembilan\",\"Negeri Sembilan\",\"Negeri Sembilan\",\"Negeri Sembilan\",\"Negeri Sembilan\",\"Negeri Sembilan\",\"Negeri Sembilan\",\"Negeri Sembilan\",\"Negeri Sembilan\",\"Negeri Sembilan\",\"Negeri Sembilan\",\"Negeri Sembilan\",\"Negeri Sembilan\",\"Negeri Sembilan\",\"Negeri Sembilan\",\"Negeri Sembilan\",\"Negeri Sembilan\",\"Negeri Sembilan\",\"Negeri Sembilan\",\"Negeri Sembilan\",\"Negeri Sembilan\",\"Negeri Sembilan\",\"Negeri Sembilan\",\"Negeri Sembilan\",\"Negeri Sembilan\",\"Negeri Sembilan\",\"Negeri Sembilan\",\"Negeri Sembilan\",\"Negeri Sembilan\",\"Negeri Sembilan\",\"Negeri Sembilan\",\"Negeri Sembilan\",\"Negeri Sembilan\",\"Negeri Sembilan\",\"Negeri Sembilan\",\"Negeri Sembilan\",\"Negeri Sembilan\",\"Negeri Sembilan\",\"Negeri Sembilan\",\"Negeri Sembilan\",\"Negeri Sembilan\",\"Negeri Sembilan\",\"Negeri Sembilan\",\"Negeri Sembilan\",\"Negeri Sembilan\",\"Negeri Sembilan\",\"Negeri Sembilan\",\"Negeri Sembilan\",\"Negeri Sembilan\",\"Negeri Sembilan\",\"Negeri Sembilan\",\"Negeri Sembilan\",\"Negeri Sembilan\",\"Negeri Sembilan\",\"Negeri Sembilan\",\"Negeri Sembilan\",\"Negeri Sembilan\",\"Negeri Sembilan\",\"Negeri Sembilan\",\"Negeri Sembilan\",\"Negeri Sembilan\",\"Negeri Sembilan\",\"Negeri Sembilan\",\"Negeri Sembilan\",\"Negeri Sembilan\",\"Negeri Sembilan\",\"Negeri Sembilan\",\"Negeri Sembilan\",\"Negeri Sembilan\",\"Negeri Sembilan\",\"Negeri Sembilan\",\"Negeri Sembilan\",\"Negeri Sembilan\",\"Negeri Sembilan\",\"Negeri Sembilan\",\"Negeri Sembilan\",\"Negeri Sembilan\",\"Negeri Sembilan\",\"Negeri Sembilan\",\"Negeri Sembilan\",\"Negeri Sembilan\",\"Negeri Sembilan\",\"Negeri Sembilan\",\"Negeri Sembilan\",\"Negeri Sembilan\",\"Negeri Sembilan\",\"Negeri Sembilan\",\"Negeri Sembilan\",\"Negeri Sembilan\",\"Negeri Sembilan\",\"Negeri Sembilan\",\"Negeri Sembilan\",\"Negeri Sembilan\",\"Negeri Sembilan\",\"Negeri Sembilan\",\"Negeri Sembilan\",\"Negeri Sembilan\",\"Negeri Sembilan\",\"Negeri Sembilan\",\"Negeri Sembilan\",\"Negeri Sembilan\",\"Negeri Sembilan\",\"Negeri Sembilan\",\"Negeri Sembilan\",\"Negeri Sembilan\",\"Negeri Sembilan\",\"Negeri Sembilan\",\"Negeri Sembilan\",\"Negeri Sembilan\",\"Negeri Sembilan\",\"Negeri Sembilan\",\"Negeri Sembilan\",\"Negeri Sembilan\",\"Negeri Sembilan\",\"Negeri Sembilan\",\"Negeri Sembilan\",\"Negeri Sembilan\",\"Negeri Sembilan\",\"Negeri Sembilan\",\"Negeri Sembilan\",\"Negeri Sembilan\",\"Negeri Sembilan\",\"Negeri Sembilan\",\"Negeri Sembilan\",\"Negeri Sembilan\",\"Negeri Sembilan\",\"Negeri Sembilan\",\"Negeri Sembilan\",\"Negeri Sembilan\",\"Negeri Sembilan\",\"Negeri Sembilan\",\"Negeri Sembilan\",\"Negeri Sembilan\",\"Negeri Sembilan\",\"Negeri Sembilan\",\"Negeri Sembilan\",\"Negeri Sembilan\",\"Negeri Sembilan\",\"Negeri Sembilan\",\"Negeri Sembilan\",\"Negeri Sembilan\",\"Negeri Sembilan\",\"Negeri Sembilan\",\"Negeri Sembilan\",\"Negeri Sembilan\",\"Negeri Sembilan\",\"Negeri Sembilan\",\"Negeri Sembilan\",\"Negeri Sembilan\",\"Negeri Sembilan\",\"Negeri Sembilan\",\"Negeri Sembilan\",\"Negeri Sembilan\",\"Negeri Sembilan\",\"Negeri Sembilan\",\"Negeri Sembilan\",\"Negeri Sembilan\",\"Negeri Sembilan\",\"Negeri Sembilan\",\"Negeri Sembilan\",\"Negeri Sembilan\",\"Negeri Sembilan\",\"Negeri Sembilan\",\"Negeri Sembilan\",\"Negeri Sembilan\",\"Negeri Sembilan\",\"Negeri Sembilan\",\"Negeri Sembilan\",\"Negeri Sembilan\",\"Negeri Sembilan\",\"Negeri Sembilan\",\"Negeri Sembilan\",\"Negeri Sembilan\",\"Negeri Sembilan\",\"Negeri Sembilan\",\"Negeri Sembilan\",\"Negeri Sembilan\",\"Negeri Sembilan\",\"Negeri Sembilan\",\"Negeri Sembilan\",\"Negeri Sembilan\",\"Negeri Sembilan\",\"Negeri Sembilan\",\"Negeri Sembilan\",\"Negeri Sembilan\",\"Negeri Sembilan\",\"Negeri Sembilan\",\"Negeri Sembilan\",\"Negeri Sembilan\",\"Negeri Sembilan\",\"Negeri Sembilan\",\"Negeri Sembilan\",\"Negeri Sembilan\",\"Negeri Sembilan\",\"Negeri Sembilan\",\"Negeri Sembilan\",\"Negeri Sembilan\",\"Negeri Sembilan\",\"Negeri Sembilan\",\"Negeri Sembilan\",\"Negeri Sembilan\",\"Negeri Sembilan\",\"Negeri Sembilan\",\"Negeri Sembilan\",\"Negeri Sembilan\",\"Negeri Sembilan\",\"Negeri Sembilan\",\"Negeri Sembilan\",\"Negeri Sembilan\",\"Negeri Sembilan\",\"Negeri Sembilan\",\"Negeri Sembilan\",\"Negeri Sembilan\",\"Negeri Sembilan\",\"Negeri Sembilan\",\"Negeri Sembilan\",\"Negeri Sembilan\",\"Negeri Sembilan\",\"Negeri Sembilan\",\"Negeri Sembilan\",\"Negeri Sembilan\",\"Negeri Sembilan\",\"Negeri Sembilan\",\"Negeri Sembilan\",\"Negeri Sembilan\",\"Negeri Sembilan\",\"Negeri Sembilan\",\"Negeri Sembilan\",\"Negeri Sembilan\",\"Negeri Sembilan\",\"Negeri Sembilan\",\"Negeri Sembilan\",\"Negeri Sembilan\",\"Negeri Sembilan\",\"Negeri Sembilan\",\"Negeri Sembilan\",\"Negeri Sembilan\",\"Negeri Sembilan\",\"Negeri Sembilan\",\"Negeri Sembilan\",\"Negeri Sembilan\",\"Negeri Sembilan\",\"Negeri Sembilan\",\"Negeri Sembilan\",\"Negeri Sembilan\",\"Negeri Sembilan\",\"Negeri Sembilan\",\"Negeri Sembilan\",\"Negeri Sembilan\",\"Negeri Sembilan\",\"Negeri Sembilan\",\"Negeri Sembilan\",\"Negeri Sembilan\",\"Negeri Sembilan\",\"Negeri Sembilan\",\"Negeri Sembilan\",\"Negeri Sembilan\",\"Negeri Sembilan\",\"Negeri Sembilan\",\"Negeri Sembilan\",\"Negeri Sembilan\",\"Negeri Sembilan\",\"Negeri Sembilan\",\"Negeri Sembilan\",\"Negeri Sembilan\",\"Negeri Sembilan\",\"Negeri Sembilan\",\"Negeri Sembilan\",\"Negeri Sembilan\",\"Negeri Sembilan\",\"Negeri Sembilan\",\"Negeri Sembilan\",\"Negeri Sembilan\",\"Negeri Sembilan\",\"Negeri Sembilan\",\"Negeri Sembilan\",\"Negeri Sembilan\",\"Negeri Sembilan\",\"Negeri Sembilan\",\"Negeri Sembilan\",\"Negeri Sembilan\",\"Negeri Sembilan\",\"Negeri Sembilan\",\"Negeri Sembilan\",\"Negeri Sembilan\",\"Negeri Sembilan\",\"Negeri Sembilan\",\"Negeri Sembilan\",\"Negeri Sembilan\",\"Negeri Sembilan\",\"Negeri Sembilan\",\"Negeri Sembilan\",\"Negeri Sembilan\",\"Negeri Sembilan\",\"Negeri Sembilan\",\"Negeri Sembilan\",\"Negeri Sembilan\",\"Negeri Sembilan\",\"Negeri Sembilan\",\"Negeri Sembilan\",\"Negeri Sembilan\",\"Negeri Sembilan\",\"Negeri Sembilan\",\"Negeri Sembilan\",\"Negeri Sembilan\",\"Negeri Sembilan\",\"Negeri Sembilan\",\"Negeri Sembilan\",\"Negeri Sembilan\",\"Negeri Sembilan\",\"Negeri Sembilan\",\"Negeri Sembilan\",\"Negeri Sembilan\",\"Negeri Sembilan\",\"Negeri Sembilan\",\"Negeri Sembilan\",\"Negeri Sembilan\",\"Negeri Sembilan\",\"Negeri Sembilan\",\"Negeri Sembilan\",\"Negeri Sembilan\",\"Negeri Sembilan\",\"Negeri Sembilan\",\"Negeri Sembilan\",\"Negeri Sembilan\",\"Negeri Sembilan\",\"Negeri Sembilan\",\"Negeri Sembilan\",\"Negeri Sembilan\",\"Negeri Sembilan\",\"Negeri Sembilan\",\"Negeri Sembilan\",\"Negeri Sembilan\",\"Negeri Sembilan\",\"Negeri Sembilan\",\"Negeri Sembilan\",\"Negeri Sembilan\",\"Negeri Sembilan\",\"Negeri Sembilan\",\"Negeri Sembilan\",\"Negeri Sembilan\",\"Negeri Sembilan\",\"Negeri Sembilan\",\"Negeri Sembilan\",\"Negeri Sembilan\",\"Negeri Sembilan\",\"Negeri Sembilan\",\"Negeri Sembilan\",\"Negeri Sembilan\",\"Negeri Sembilan\",\"Negeri Sembilan\",\"Negeri Sembilan\",\"Negeri Sembilan\",\"Negeri Sembilan\",\"Negeri Sembilan\",\"Negeri Sembilan\",\"Negeri Sembilan\",\"Negeri Sembilan\",\"Negeri Sembilan\",\"Negeri Sembilan\",\"Negeri Sembilan\",\"Negeri Sembilan\",\"Negeri Sembilan\",\"Negeri Sembilan\",\"Negeri Sembilan\",\"Negeri Sembilan\",\"Negeri Sembilan\",\"Negeri Sembilan\",\"Negeri Sembilan\",\"Negeri Sembilan\",\"Negeri Sembilan\",\"Negeri Sembilan\",\"Negeri Sembilan\",\"Negeri Sembilan\",\"Negeri Sembilan\",\"Negeri Sembilan\",\"Negeri Sembilan\",\"Negeri Sembilan\",\"Negeri Sembilan\",\"Negeri Sembilan\",\"Negeri Sembilan\",\"Negeri Sembilan\",\"Negeri Sembilan\",\"Negeri Sembilan\",\"Negeri Sembilan\",\"Negeri Sembilan\",\"Negeri Sembilan\",\"Negeri Sembilan\",\"Negeri Sembilan\",\"Negeri Sembilan\",\"Negeri Sembilan\",\"Negeri Sembilan\",\"Negeri Sembilan\",\"Negeri Sembilan\",\"Negeri Sembilan\",\"Negeri Sembilan\",\"Negeri Sembilan\",\"Negeri Sembilan\",\"Negeri Sembilan\",\"Negeri Sembilan\",\"Negeri Sembilan\",\"Negeri Sembilan\",\"Negeri Sembilan\",\"Negeri Sembilan\",\"Negeri Sembilan\",\"Negeri Sembilan\",\"Negeri Sembilan\",\"Negeri Sembilan\",\"Negeri Sembilan\",\"Negeri Sembilan\",\"Negeri Sembilan\",\"Negeri Sembilan\",\"Negeri Sembilan\",\"Negeri Sembilan\",\"Negeri Sembilan\",\"Negeri Sembilan\",\"Negeri Sembilan\",\"Negeri Sembilan\",\"Negeri Sembilan\",\"Negeri Sembilan\",\"Negeri Sembilan\",\"Negeri Sembilan\",\"Negeri Sembilan\",\"Negeri Sembilan\",\"Negeri Sembilan\",\"Negeri Sembilan\",\"Negeri Sembilan\",\"Negeri Sembilan\",\"Negeri Sembilan\",\"Negeri Sembilan\",\"Negeri Sembilan\",\"Negeri Sembilan\",\"Negeri Sembilan\",\"Negeri Sembilan\",\"Negeri Sembilan\",\"Negeri Sembilan\",\"Negeri Sembilan\",\"Negeri Sembilan\",\"Negeri Sembilan\",\"Negeri Sembilan\",\"Negeri Sembilan\",\"Negeri Sembilan\",\"Negeri Sembilan\",\"Negeri Sembilan\",\"Negeri Sembilan\",\"Negeri Sembilan\",\"Negeri Sembilan\",\"Negeri Sembilan\",\"Negeri Sembilan\",\"Negeri Sembilan\",\"Negeri Sembilan\",\"Negeri Sembilan\",\"Negeri Sembilan\",\"Negeri Sembilan\",\"Negeri Sembilan\",\"Negeri Sembilan\",\"Negeri Sembilan\",\"Negeri Sembilan\",\"Negeri Sembilan\",\"Negeri Sembilan\",\"Negeri Sembilan\",\"Negeri Sembilan\",\"Negeri Sembilan\",\"Negeri Sembilan\",\"Negeri Sembilan\",\"Negeri Sembilan\",\"Negeri Sembilan\",\"Negeri Sembilan\",\"Negeri Sembilan\",\"Negeri Sembilan\",\"Negeri Sembilan\",\"Negeri Sembilan\",\"Negeri Sembilan\",\"Negeri Sembilan\",\"Negeri Sembilan\",\"Negeri Sembilan\",\"Negeri Sembilan\",\"Negeri Sembilan\",\"Negeri Sembilan\",\"Negeri Sembilan\",\"Negeri Sembilan\",\"Negeri Sembilan\",\"Negeri Sembilan\",\"Negeri Sembilan\",\"Negeri Sembilan\",\"Negeri Sembilan\",\"Negeri Sembilan\",\"Negeri Sembilan\",\"Negeri Sembilan\",\"Negeri Sembilan\",\"Negeri Sembilan\",\"Negeri Sembilan\",\"Negeri Sembilan\",\"Negeri Sembilan\",\"Negeri Sembilan\",\"Negeri Sembilan\",\"Negeri Sembilan\",\"Negeri Sembilan\",\"Negeri Sembilan\",\"Negeri Sembilan\",\"Negeri Sembilan\",\"Negeri Sembilan\",\"Negeri Sembilan\",\"Negeri Sembilan\",\"Negeri Sembilan\",\"Negeri Sembilan\",\"Negeri Sembilan\",\"Negeri Sembilan\",\"Negeri Sembilan\",\"Negeri Sembilan\",\"Negeri Sembilan\",\"Negeri Sembilan\",\"Negeri Sembilan\",\"Negeri Sembilan\",\"Negeri Sembilan\",\"Negeri Sembilan\",\"Negeri Sembilan\",\"Negeri Sembilan\",\"Negeri Sembilan\",\"Negeri Sembilan\",\"Negeri Sembilan\",\"Negeri Sembilan\",\"Negeri Sembilan\",\"Negeri Sembilan\",\"Negeri Sembilan\",\"Negeri Sembilan\",\"Negeri Sembilan\",\"Negeri Sembilan\",\"Negeri Sembilan\",\"Negeri Sembilan\",\"Negeri Sembilan\",\"Negeri Sembilan\",\"Negeri Sembilan\",\"Negeri Sembilan\",\"Negeri Sembilan\",\"Negeri Sembilan\",\"Negeri Sembilan\",\"Negeri Sembilan\",\"Negeri Sembilan\",\"Negeri Sembilan\",\"Negeri Sembilan\",\"Negeri Sembilan\",\"Negeri Sembilan\",\"Negeri Sembilan\",\"Negeri Sembilan\",\"Negeri Sembilan\",\"Negeri Sembilan\",\"Negeri Sembilan\",\"Negeri Sembilan\",\"Negeri Sembilan\",\"Negeri Sembilan\",\"Negeri Sembilan\",\"Negeri Sembilan\",\"Negeri Sembilan\",\"Negeri Sembilan\",\"Negeri Sembilan\",\"Negeri Sembilan\",\"Negeri Sembilan\",\"Negeri Sembilan\",\"Negeri Sembilan\",\"Negeri Sembilan\",\"Negeri Sembilan\",\"Negeri Sembilan\",\"Negeri Sembilan\",\"Negeri Sembilan\",\"Negeri Sembilan\",\"Negeri Sembilan\",\"Negeri Sembilan\",\"Negeri Sembilan\",\"Negeri Sembilan\",\"Negeri Sembilan\",\"Negeri Sembilan\",\"Negeri Sembilan\",\"Negeri Sembilan\",\"Negeri Sembilan\",\"Negeri Sembilan\",\"Negeri Sembilan\",\"Negeri Sembilan\",\"Negeri Sembilan\",\"Negeri Sembilan\",\"Negeri Sembilan\",\"Negeri Sembilan\",\"Negeri Sembilan\",\"Negeri Sembilan\",\"Negeri Sembilan\",\"Negeri Sembilan\",\"Negeri Sembilan\",\"Negeri Sembilan\",\"Negeri Sembilan\",\"Negeri Sembilan\",\"Negeri Sembilan\",\"Negeri Sembilan\",\"Negeri Sembilan\",\"Negeri Sembilan\",\"Negeri Sembilan\",\"Negeri Sembilan\",\"Negeri Sembilan\",\"Negeri Sembilan\",\"Negeri Sembilan\",\"Negeri Sembilan\",\"Negeri Sembilan\",\"Negeri Sembilan\",\"Negeri Sembilan\",\"Negeri Sembilan\",\"Negeri Sembilan\",\"Negeri Sembilan\",\"Negeri Sembilan\",\"Negeri Sembilan\",\"Negeri Sembilan\",\"Negeri Sembilan\",\"Negeri Sembilan\",\"Negeri Sembilan\",\"Negeri Sembilan\",\"Negeri Sembilan\",\"Negeri Sembilan\",\"Negeri Sembilan\",\"Negeri Sembilan\",\"Negeri Sembilan\",\"Negeri Sembilan\",\"Negeri Sembilan\",\"Negeri Sembilan\",\"Negeri Sembilan\",\"Negeri Sembilan\",\"Negeri Sembilan\",\"Negeri Sembilan\",\"Negeri Sembilan\",\"Negeri Sembilan\",\"Negeri Sembilan\",\"Negeri Sembilan\",\"Negeri Sembilan\",\"Negeri Sembilan\",\"Negeri Sembilan\",\"Negeri Sembilan\",\"Negeri Sembilan\",\"Negeri Sembilan\",\"Negeri Sembilan\",\"Negeri Sembilan\",\"Negeri Sembilan\",\"Negeri Sembilan\",\"Negeri Sembilan\",\"Negeri Sembilan\",\"Negeri Sembilan\",\"Negeri Sembilan\",\"Negeri Sembilan\",\"Negeri Sembilan\",\"Negeri Sembilan\",\"Negeri Sembilan\",\"Negeri Sembilan\",\"Negeri Sembilan\",\"Negeri Sembilan\",\"Negeri Sembilan\",\"Negeri Sembilan\",\"Negeri Sembilan\",\"Negeri Sembilan\",\"Negeri Sembilan\",\"Negeri Sembilan\",\"Negeri Sembilan\",\"Negeri Sembilan\",\"Negeri Sembilan\",\"Negeri Sembilan\",\"Negeri Sembilan\",\"Negeri Sembilan\",\"Negeri Sembilan\",\"Negeri Sembilan\",\"Negeri Sembilan\",\"Negeri Sembilan\",\"Negeri Sembilan\",\"Negeri Sembilan\",\"Negeri Sembilan\",\"Negeri Sembilan\",\"Negeri Sembilan\",\"Negeri Sembilan\",\"Negeri Sembilan\",\"Negeri Sembilan\",\"Negeri Sembilan\",\"Negeri Sembilan\",\"Negeri Sembilan\",\"Negeri Sembilan\",\"Negeri Sembilan\",\"Negeri Sembilan\",\"Negeri Sembilan\",\"Negeri Sembilan\",\"Negeri Sembilan\",\"Negeri Sembilan\",\"Negeri Sembilan\",\"Negeri Sembilan\",\"Negeri Sembilan\",\"Negeri Sembilan\",\"Negeri Sembilan\",\"Negeri Sembilan\",\"Negeri Sembilan\",\"Negeri Sembilan\",\"Negeri Sembilan\",\"Negeri Sembilan\",\"Negeri Sembilan\",\"Negeri Sembilan\",\"Negeri Sembilan\",\"Negeri Sembilan\",\"Negeri Sembilan\",\"Negeri Sembilan\",\"Negeri Sembilan\",\"Negeri Sembilan\",\"Negeri Sembilan\",\"Negeri Sembilan\",\"Negeri Sembilan\",\"Negeri Sembilan\",\"Negeri Sembilan\",\"Negeri Sembilan\",\"Negeri Sembilan\",\"Negeri Sembilan\",\"Negeri Sembilan\",\"Negeri Sembilan\",\"Negeri Sembilan\",\"Negeri Sembilan\",\"Negeri Sembilan\",\"Negeri Sembilan\",\"Negeri Sembilan\",\"Negeri Sembilan\",\"Negeri Sembilan\",\"Negeri Sembilan\",\"Negeri Sembilan\",\"Negeri Sembilan\",\"Negeri Sembilan\",\"Negeri Sembilan\",\"Negeri Sembilan\",\"Negeri Sembilan\",\"Negeri Sembilan\",\"Negeri Sembilan\",\"Negeri Sembilan\",\"Negeri Sembilan\",\"Negeri Sembilan\",\"Negeri Sembilan\",\"Negeri Sembilan\",\"Negeri Sembilan\",\"Negeri Sembilan\",\"Negeri Sembilan\",\"Negeri Sembilan\",\"Negeri Sembilan\",\"Negeri Sembilan\",\"Negeri Sembilan\",\"Negeri Sembilan\",\"Negeri Sembilan\",\"Negeri Sembilan\",\"Negeri Sembilan\",\"Negeri Sembilan\",\"Negeri Sembilan\",\"Negeri Sembilan\",\"Negeri Sembilan\",\"Negeri Sembilan\",\"Negeri Sembilan\",\"Negeri Sembilan\",\"Negeri Sembilan\",\"Negeri Sembilan\",\"Negeri Sembilan\",\"Negeri Sembilan\",\"Negeri Sembilan\",\"Negeri Sembilan\",\"Negeri Sembilan\",\"Negeri Sembilan\",\"Negeri Sembilan\",\"Negeri Sembilan\",\"Negeri Sembilan\",\"Negeri Sembilan\",\"Negeri Sembilan\",\"Negeri Sembilan\",\"Negeri Sembilan\",\"Negeri Sembilan\",\"Negeri Sembilan\",\"Negeri Sembilan\",\"Negeri Sembilan\",\"Negeri Sembilan\",\"Negeri Sembilan\",\"Negeri Sembilan\",\"Negeri Sembilan\",\"Negeri Sembilan\",\"Negeri Sembilan\",\"Negeri Sembilan\",\"Negeri Sembilan\",\"Negeri Sembilan\",\"Negeri Sembilan\",\"Negeri Sembilan\",\"Negeri Sembilan\",\"Negeri Sembilan\",\"Negeri Sembilan\",\"Negeri Sembilan\",\"Negeri Sembilan\",\"Negeri Sembilan\",\"Negeri Sembilan\",\"Negeri Sembilan\",\"Negeri Sembilan\",\"Negeri Sembilan\",\"Negeri Sembilan\",\"Negeri Sembilan\",\"Negeri Sembilan\",\"Negeri Sembilan\",\"Negeri Sembilan\",\"Negeri Sembilan\",\"Negeri Sembilan\",\"Negeri Sembilan\",\"Negeri Sembilan\",\"Negeri Sembilan\",\"Negeri Sembilan\",\"Negeri Sembilan\",\"Negeri Sembilan\",\"Negeri Sembilan\",\"Negeri Sembilan\",\"Negeri Sembilan\",\"Negeri Sembilan\",\"Negeri Sembilan\",\"Negeri Sembilan\",\"Negeri Sembilan\",\"Negeri Sembilan\",\"Negeri Sembilan\",\"Negeri Sembilan\",\"Negeri Sembilan\",\"Negeri Sembilan\",\"Negeri Sembilan\",\"Negeri Sembilan\",\"Negeri Sembilan\",\"Negeri Sembilan\",\"Negeri Sembilan\",\"Negeri Sembilan\",\"Negeri Sembilan\",\"Negeri Sembilan\",\"Negeri Sembilan\",\"Negeri Sembilan\",\"Negeri Sembilan\",\"Negeri Sembilan\",\"Negeri Sembilan\",\"Negeri Sembilan\",\"Negeri Sembilan\",\"Negeri Sembilan\",\"Negeri Sembilan\",\"Negeri Sembilan\",\"Negeri Sembilan\",\"Negeri Sembilan\",\"Negeri Sembilan\",\"Negeri Sembilan\",\"Negeri Sembilan\",\"Negeri Sembilan\",\"Negeri Sembilan\",\"Negeri Sembilan\",\"Negeri Sembilan\",\"Negeri Sembilan\",\"Negeri Sembilan\",\"Negeri Sembilan\",\"Negeri Sembilan\",\"Negeri Sembilan\",\"Negeri Sembilan\",\"Negeri Sembilan\",\"Negeri Sembilan\",\"Negeri Sembilan\",\"Negeri Sembilan\",\"Negeri Sembilan\",\"Negeri Sembilan\",\"Negeri Sembilan\",\"Negeri Sembilan\",\"Negeri Sembilan\",\"Negeri Sembilan\",\"Negeri Sembilan\",\"Negeri Sembilan\",\"Negeri Sembilan\",\"Negeri Sembilan\",\"Negeri Sembilan\",\"Negeri Sembilan\",\"Negeri Sembilan\",\"Negeri Sembilan\",\"Negeri Sembilan\",\"Negeri Sembilan\",\"Negeri Sembilan\",\"Negeri Sembilan\",\"Negeri Sembilan\",\"Negeri Sembilan\",\"Negeri Sembilan\",\"Negeri Sembilan\",\"Negeri Sembilan\",\"Negeri Sembilan\",\"Negeri Sembilan\",\"Negeri Sembilan\",\"Negeri Sembilan\",\"Negeri Sembilan\",\"Negeri Sembilan\",\"Negeri Sembilan\",\"Negeri Sembilan\",\"Negeri Sembilan\",\"Negeri Sembilan\",\"Negeri Sembilan\",\"Negeri Sembilan\",\"Negeri Sembilan\",\"Negeri Sembilan\",\"Negeri Sembilan\",\"Negeri Sembilan\",\"Negeri Sembilan\",\"Negeri Sembilan\",\"Negeri Sembilan\",\"Negeri Sembilan\",\"Negeri Sembilan\",\"Negeri Sembilan\",\"Negeri Sembilan\",\"Negeri Sembilan\",\"Negeri Sembilan\",\"Negeri Sembilan\",\"Negeri Sembilan\",\"Negeri Sembilan\",\"Negeri Sembilan\",\"Negeri Sembilan\",\"Negeri Sembilan\",\"Negeri Sembilan\",\"Negeri Sembilan\",\"Negeri Sembilan\",\"Negeri Sembilan\",\"Negeri Sembilan\",\"Negeri Sembilan\",\"Negeri Sembilan\",\"Negeri Sembilan\",\"Negeri Sembilan\",\"Negeri Sembilan\",\"Negeri Sembilan\",\"Negeri Sembilan\",\"Negeri Sembilan\",\"Negeri Sembilan\",\"Negeri Sembilan\",\"Negeri Sembilan\",\"Negeri Sembilan\",\"Negeri Sembilan\",\"Negeri Sembilan\",\"Negeri Sembilan\",\"Negeri Sembilan\",\"Negeri Sembilan\",\"Negeri Sembilan\",\"Negeri Sembilan\",\"Negeri Sembilan\",\"Negeri Sembilan\",\"Negeri Sembilan\",\"Negeri Sembilan\",\"Negeri Sembilan\",\"Negeri Sembilan\",\"Negeri Sembilan\",\"Negeri Sembilan\",\"Negeri Sembilan\",\"Negeri Sembilan\",\"Negeri Sembilan\",\"Negeri Sembilan\",\"Negeri Sembilan\",\"Negeri Sembilan\",\"Negeri Sembilan\",\"Negeri Sembilan\",\"Negeri Sembilan\",\"Negeri Sembilan\",\"Negeri Sembilan\",\"Negeri Sembilan\",\"Negeri Sembilan\",\"Negeri Sembilan\",\"Negeri Sembilan\",\"Negeri Sembilan\",\"Negeri Sembilan\",\"Negeri Sembilan\",\"Negeri Sembilan\",\"Negeri Sembilan\",\"Negeri Sembilan\",\"Negeri Sembilan\",\"Kelantan\",\"Kelantan\",\"Kelantan\",\"Kelantan\",\"Kelantan\",\"Kelantan\",\"Kelantan\",\"Kelantan\",\"Kelantan\",\"Kelantan\",\"Kelantan\",\"Kelantan\",\"Kelantan\",\"Kelantan\",\"Kelantan\",\"Kelantan\",\"Kelantan\",\"Kelantan\",\"Kelantan\",\"Kelantan\",\"Kelantan\",\"Kelantan\",\"Kelantan\",\"Kelantan\",\"Kelantan\",\"Kelantan\",\"Kelantan\",\"Kelantan\",\"Kelantan\",\"Kelantan\",\"Kelantan\",\"Kelantan\",\"Kelantan\",\"Kelantan\",\"Kelantan\",\"Kelantan\",\"Kelantan\",\"Kelantan\",\"Kelantan\",\"Kelantan\",\"Kelantan\",\"Kelantan\",\"Kelantan\",\"Kelantan\",\"Kelantan\",\"Kelantan\",\"Kelantan\",\"Kelantan\",\"Kelantan\",\"Kelantan\",\"Kelantan\",\"Kelantan\",\"Kelantan\",\"Kelantan\",\"Kelantan\",\"Kelantan\",\"Kelantan\",\"Kelantan\",\"Kelantan\",\"Kelantan\",\"Kelantan\",\"Kelantan\",\"Kelantan\",\"Kelantan\",\"Kelantan\",\"Kelantan\",\"Kelantan\",\"Kelantan\",\"Kelantan\",\"Kelantan\",\"Kelantan\",\"Kelantan\",\"Kelantan\",\"Kelantan\",\"Kelantan\",\"Kelantan\",\"Kelantan\",\"Kelantan\",\"Kelantan\",\"Kelantan\",\"Kelantan\",\"Kelantan\",\"Kelantan\",\"Kelantan\",\"Kelantan\",\"Kelantan\",\"Kelantan\",\"Kelantan\",\"Kelantan\",\"Kelantan\",\"Kelantan\",\"Kelantan\",\"Kelantan\",\"Kelantan\",\"Kelantan\",\"Kelantan\",\"Kelantan\",\"Kelantan\",\"Kelantan\",\"Kelantan\",\"Kelantan\",\"Kelantan\",\"Kelantan\",\"Kelantan\",\"Kelantan\",\"Kelantan\",\"Kelantan\",\"Kelantan\",\"Kelantan\",\"Kelantan\",\"Kelantan\",\"Kelantan\",\"Kelantan\",\"Kelantan\",\"Kelantan\",\"Kelantan\",\"Kelantan\",\"Kelantan\",\"Kelantan\",\"Kelantan\",\"Kelantan\",\"Kelantan\",\"Kelantan\",\"Kelantan\",\"Kelantan\",\"Kelantan\",\"Kelantan\",\"Kelantan\",\"Kelantan\",\"Kelantan\",\"Kelantan\",\"Kelantan\",\"Kelantan\",\"Kelantan\",\"Kelantan\",\"Kelantan\",\"Kelantan\",\"Kelantan\",\"Kelantan\",\"Kelantan\",\"Kelantan\",\"Kelantan\",\"Kelantan\",\"Kelantan\",\"Kelantan\",\"Kelantan\",\"Kelantan\",\"Kelantan\",\"Kelantan\",\"Kelantan\",\"Kelantan\",\"Kelantan\",\"Kelantan\",\"Kelantan\",\"Kelantan\",\"Kelantan\",\"Kelantan\",\"Kelantan\",\"Kelantan\",\"Kelantan\",\"Kelantan\",\"Kelantan\",\"Kelantan\",\"Kelantan\",\"Kelantan\",\"Kelantan\",\"Kelantan\",\"Kelantan\",\"Kelantan\",\"Kelantan\",\"Kelantan\",\"Kelantan\",\"Kelantan\",\"Kelantan\",\"Kelantan\",\"Kelantan\",\"Kelantan\",\"Kelantan\",\"Kelantan\",\"Kelantan\",\"Kelantan\",\"Kelantan\",\"Kelantan\",\"Kelantan\",\"Kelantan\",\"Kelantan\",\"Kelantan\",\"Kelantan\",\"Kelantan\",\"Kelantan\",\"Kelantan\",\"Kelantan\",\"Kelantan\",\"Kelantan\",\"Kelantan\",\"Kelantan\",\"Kelantan\",\"Kelantan\",\"Kelantan\",\"Kelantan\",\"Kelantan\",\"Kelantan\",\"Kelantan\",\"Kelantan\",\"Kelantan\",\"Kelantan\",\"Kelantan\",\"Kelantan\",\"Kelantan\",\"Kelantan\",\"Kelantan\",\"Kelantan\",\"Kelantan\",\"Kelantan\",\"Kelantan\",\"Kelantan\",\"Kelantan\",\"Kelantan\",\"Kelantan\",\"Kelantan\",\"Kelantan\",\"Kelantan\",\"Kelantan\",\"Kelantan\",\"Kelantan\",\"Kelantan\",\"Kelantan\",\"Kelantan\",\"Kelantan\",\"Kelantan\",\"Kelantan\",\"Kelantan\",\"Kelantan\",\"Kelantan\",\"Kelantan\",\"Kelantan\",\"Kelantan\",\"Kelantan\",\"Kelantan\",\"Kelantan\",\"Kelantan\",\"Kelantan\",\"Kelantan\",\"Kelantan\",\"Kelantan\",\"Kelantan\",\"Kelantan\",\"Kelantan\",\"Kelantan\",\"Kelantan\",\"Kelantan\",\"Kelantan\",\"Kelantan\",\"Kelantan\",\"Kelantan\",\"Kelantan\",\"Kelantan\",\"Kelantan\",\"Kelantan\",\"Kelantan\",\"Kelantan\",\"Kelantan\",\"Kelantan\",\"Kelantan\",\"Kelantan\",\"Kelantan\",\"Kelantan\",\"Kelantan\",\"Kelantan\",\"Kelantan\",\"Kelantan\",\"Kelantan\",\"Kelantan\",\"Kelantan\",\"Kelantan\",\"Kelantan\",\"Kelantan\",\"Kelantan\",\"Kelantan\",\"Kelantan\",\"Kelantan\",\"Kelantan\",\"Kelantan\",\"Kelantan\",\"Kelantan\",\"Kelantan\",\"Kelantan\",\"Kelantan\",\"Kelantan\",\"Kelantan\",\"Kelantan\",\"Kelantan\",\"Kelantan\",\"Kelantan\",\"Kelantan\",\"Kelantan\",\"Kelantan\",\"Kelantan\",\"Kelantan\",\"Kelantan\",\"Kelantan\",\"Kelantan\",\"Kelantan\",\"Kelantan\",\"Kelantan\",\"Kelantan\",\"Kelantan\",\"Kelantan\",\"Kelantan\",\"Kelantan\",\"Kelantan\",\"Kelantan\",\"Kelantan\",\"Kelantan\",\"Kelantan\",\"Kelantan\",\"Kelantan\",\"Kelantan\",\"Kelantan\",\"Kelantan\",\"Kelantan\",\"Kelantan\",\"Kelantan\",\"Kelantan\",\"Kelantan\",\"Kelantan\",\"Kelantan\",\"Kelantan\",\"Kelantan\",\"Kelantan\",\"Kelantan\",\"Kelantan\",\"Kelantan\",\"Kelantan\",\"Kelantan\",\"Kelantan\",\"Kelantan\",\"Kelantan\",\"Kelantan\",\"Kelantan\",\"Kelantan\",\"Kelantan\",\"Kelantan\",\"Kelantan\",\"Kelantan\",\"Kelantan\",\"Kelantan\",\"Kelantan\",\"Kelantan\",\"Kelantan\",\"Kelantan\",\"Kelantan\",\"Kelantan\",\"Kelantan\",\"Kelantan\",\"Kelantan\",\"Kelantan\",\"Kelantan\",\"Kelantan\",\"Kelantan\",\"Kelantan\",\"Kelantan\",\"Kelantan\",\"Kelantan\",\"Kelantan\",\"Kelantan\",\"Kelantan\",\"Kelantan\",\"Kelantan\",\"Kelantan\",\"Kelantan\",\"Kelantan\",\"Kelantan\",\"Kelantan\",\"Kelantan\",\"Kelantan\",\"Kelantan\",\"Kelantan\",\"Kelantan\",\"Kelantan\",\"Kelantan\",\"Kelantan\",\"Kelantan\",\"Kelantan\",\"Kelantan\",\"Kelantan\",\"Kelantan\",\"Kelantan\",\"Kelantan\",\"Kelantan\",\"Kelantan\",\"Kelantan\",\"Kelantan\",\"Kelantan\",\"Kelantan\",\"Kelantan\",\"Kelantan\",\"Kelantan\",\"Kelantan\",\"Kelantan\",\"Kelantan\",\"Kelantan\",\"Kelantan\",\"Kelantan\",\"Kelantan\",\"Kelantan\",\"Kelantan\",\"Kelantan\",\"Kelantan\",\"Kelantan\",\"Kelantan\",\"Kelantan\",\"Kelantan\",\"Kelantan\",\"Kelantan\",\"Kelantan\",\"Kelantan\",\"Kelantan\",\"Kelantan\",\"Kelantan\",\"Kelantan\",\"Kelantan\",\"Kelantan\",\"Kelantan\",\"Kelantan\",\"Kelantan\",\"Kelantan\",\"Kelantan\",\"Kelantan\",\"Kelantan\",\"Kelantan\",\"Kelantan\",\"Kelantan\",\"Kelantan\",\"Kelantan\",\"Kelantan\",\"Kelantan\",\"Kelantan\",\"Kelantan\",\"Kelantan\",\"Kelantan\",\"Kelantan\",\"Kelantan\",\"Kelantan\",\"Kelantan\",\"Kelantan\",\"Kelantan\",\"Kelantan\",\"Kelantan\",\"Kelantan\",\"Kelantan\",\"Kelantan\",\"Kelantan\",\"Kelantan\",\"Kelantan\",\"Kelantan\",\"Kelantan\",\"Kelantan\",\"Kelantan\",\"Kelantan\",\"Kelantan\",\"Kelantan\",\"Kelantan\",\"Kelantan\",\"Kelantan\",\"Kelantan\",\"Kelantan\",\"Kelantan\",\"Kelantan\",\"Kelantan\",\"Kelantan\",\"Kelantan\",\"Kelantan\",\"Kelantan\",\"Kelantan\",\"Kelantan\",\"Kelantan\",\"Kelantan\",\"Kelantan\",\"Kelantan\",\"Kelantan\",\"Kelantan\",\"Kelantan\",\"Kelantan\",\"Kelantan\",\"Kelantan\",\"Kelantan\",\"Kelantan\",\"Kelantan\",\"Kelantan\",\"Kelantan\",\"Kelantan\",\"Kelantan\",\"Kelantan\",\"Kelantan\",\"Kelantan\",\"Kelantan\",\"Kelantan\",\"Kelantan\",\"Kelantan\",\"Kelantan\",\"Kelantan\",\"Kelantan\",\"Kelantan\",\"Kelantan\",\"Kelantan\",\"Kelantan\",\"Kelantan\",\"Kelantan\",\"Kelantan\",\"Kelantan\",\"Kelantan\",\"Kelantan\",\"Kelantan\",\"Kelantan\",\"Kelantan\",\"Kelantan\",\"Kelantan\",\"Kelantan\",\"Kelantan\",\"Kelantan\",\"Kelantan\",\"Kelantan\",\"Kelantan\",\"Kelantan\",\"Kelantan\",\"Kelantan\",\"Kelantan\",\"Kelantan\",\"Kelantan\",\"Kelantan\",\"Kelantan\",\"Kelantan\",\"Kelantan\",\"Kelantan\",\"Kelantan\",\"Kelantan\",\"Kelantan\",\"Kelantan\",\"Kelantan\",\"Kelantan\",\"Kelantan\",\"Kelantan\",\"Kelantan\",\"Kelantan\",\"Kelantan\",\"Kelantan\",\"Kelantan\",\"Kelantan\",\"Kelantan\",\"Kelantan\",\"Kelantan\",\"Kelantan\",\"Kelantan\",\"Kelantan\",\"Kelantan\",\"Kelantan\",\"Kelantan\",\"Kelantan\",\"Kelantan\",\"Kelantan\",\"Kelantan\",\"Kelantan\",\"Pahang\",\"Pahang\",\"Pahang\",\"Pahang\",\"Pahang\",\"Pahang\",\"Pahang\",\"Pahang\",\"Pahang\",\"Pahang\",\"Pahang\",\"Pahang\",\"Pahang\",\"Pahang\",\"Pahang\",\"Pahang\",\"Pahang\",\"Pahang\",\"Pahang\",\"Pahang\",\"Pahang\",\"Pahang\",\"Pahang\",\"Pahang\",\"Pahang\",\"Pahang\",\"Pahang\",\"Pahang\",\"Pahang\",\"Pahang\",\"Pahang\",\"Pahang\",\"Pahang\",\"Pahang\",\"Pahang\",\"Pahang\",\"Pahang\",\"Pahang\",\"Pahang\",\"Pahang\",\"Perak\",\"Perak\",\"Perak\",\"Perak\",\"Perak\",\"Perak\",\"Perak\",\"Perak\",\"Perak\",\"Perak\",\"Perak\",\"Perak\",\"Perak\",\"Perak\",\"Perak\",\"Perak\",\"Perak\",\"Perak\",\"Perak\",\"Perak\",\"Perak\",\"Perak\",\"Perak\"],\"x0\":\" \",\"xaxis\":\"x\",\"y\":[43.0,30.0,56.0,28.0,217.0,198.0,171.0,120.0,91.0,283.0,129.0,1000.0,159.0,160.0,159.0,14.0,86.0,45.0,21.0,533.0,343.0,21.0,36.0,13.0,46.0,26.0,22.0,73.0,34.0,72.0,346.0,27.0,152.0,113.0,24.0,26.0,53.0,138.0,388.0,237.0,390.0,115.0,551.0,130.0,531.0,23.0,53.0,176.0,415.0,471.0,2388.0,5479.0,30.0,60.0,161.0,136.0,483.0,36.0,864.0,238.0,99.0,407.0,53.0,109.0,311.0,58.0,411.0,1233.0,176.0,1154.0,311.0,245.0,650.0,1428.0,296.0,53.0,59.0,113.0,302.0,246.0,1387.0,560.0,156.0,909.0,135.0,186.0,522.0,285.0,318.0,713.0,236.0,364.0,380.0,981.0,1427.0,388.0,388.0,372.0,891.0,276.0,2689.0,670.0,511.0,156.0,255.0,68.0,415.0,219.0,458.0,632.0,1201.0,404.0,428.0,288.0,412.0,412.0,441.0,693.0,406.0,466.0,328.0,407.0,38.0,100.0,54.0,38.0,1107.0,19.0,19.0,64.0,80.0,60.0,16.0,14.0,72.0,147.0,62.0,200.0,14.0,26.0,28.0,35.0,61.0,265.0,87.0,35.0,212.0,30.0,43.0,190.0,468.0,124.0,69.0,330.0,181.0,38.0,21.0,26.0,22.0,42.0,119.0,74.0,24.0,38.0,134.0,484.0,530.0,832.0,96.0,30.0,57.0,65.0,28.0,73.0,156.0,28.0,53.0,140.0,119.0,103.0,150.0,133.0,21.0,188.0,977.0,42.0,135.0,331.0,58.0,23.0,24.0,76.0,23.0,173.0,16.0,40.0,159.0,40.0,32.0,30.0,62.0,54.0,46.0,46.0,19.0,149.0,20.0,21.0,508.0,138.0,122.0,31.0,63.0,12.0,102.0,25.0,8.0,61.0,502.0,394.0,42.0,85.0,78.0,63.0,16.0,713.0,130.0,288.0,84.0,2477.0,65.0,15.0,860.0,2467.0,329.0,99.0,70.0,68.0,669.0,361.0,268.0,435.0,645.0,106.0,50.0,34.0,81.0,22.0,81.0,117.0,110.0,83.0,64.0,60.0,139.0,383.0,558.0,25.0,167.0,219.0,489.0,4977.0,118.0,45.0,153.0,45.0,416.0,562.0,88.0,153.0,41.0,175.0,279.0,236.0,1154.0,956.0,225.0,20.0,485.0,336.0,122.0,414.0,140.0,653.0,851.0,352.0,141.0,320.0,39.0,681.0,518.0,98.0,4093.0,191.0,690.0,892.0,950.0,720.0,1652.0,450.0,786.0,60.0,34.0,102.0,267.0,22.0,309.0,213.0,69.0,50.0,111.0,284.0,88.0,222.0,81.0,177.0,24.0,676.0,34.0,387.0,370.0,263.0,144.0,679.0,277.0,1290.0,488.0,286.0,491.0,1647.0,85.0,99.0,50.0,611.0,1950.0,244.0,320.0,519.0,108.0,799.0,71.0,128.0,244.0,115.0,94.0,418.0,139.0,661.0,705.0,365.0,193.0,57.0,125.0,82.0,38.0,73.0,239.0,73.0,107.0,91.0,29.0,32.0,8.0,78.0,31.0,31.0,468.0,172.0,240.0,328.0,59.0,72.0,229.0,28.0,576.0,141.0,112.0,902.0,148.0,78.0,440.0,237.0,192.0,64.0,24.0,160.0,57.0,16.0,49.0,13.0,28.0,25.0,66.0,24.0,43.0,136.0,156.0,25.0,147.0,22.0,307.0,243.0,197.0,498.0,749.0,200.0,28.0,69.0,30.0,197.0,198.0,112.0,241.0,743.0,263.0,448.0,129.0,225.0,99.0,107.0,139.0,88.0,63.0,62.0,223.0,244.0,338.0,430.0,322.0,142.0,400.0,761.0,757.0,129.0,376.0,149.0,432.0,445.0,293.0,195.0,170.0,82.0,44.0,582.0,54.0,14.0,145.0,42.0,565.0,121.0,633.0,358.0,529.0,80.0,236.0,528.0,60.0,464.0,836.0,60.0,130.0,476.0,160.0,115.0,158.0,248.0,158.0,18.0,31.0,63.0,158.0,996.0,228.0,53.0,24.0,979.0,38.0,199.0,168.0,494.0,392.0,998.0,683.0,170.0,328.0,105.0,483.0,194.0,428.0,300.0,72.0,544.0,735.0,517.0,284.0,178.0,286.0,271.0,532.0,406.0,436.0,196.0,228.0,419.0,365.0,322.0,196.0,99.0,86.0,313.0,126.0,56.0,563.0,560.0,154.0,875.0,90.0,81.0,134.0,15.0,44.0,36.0,39.0,102.0,204.0,7.0,208.0,7.0,40.0,44.0,526.0,117.0,20.0,23.0,31.0,84.0,209.0,77.0,38.0,29.0,121.0,99.0,63.0,51.0,79.0,22.0,282.0,35.0,43.0,145.0,18.0,23.0,22.0,12.0,91.0,26.0,87.0,88.0,70.0,18.0,34.0,36.0,115.0,70.0,169.0,193.0,28.0,18.0,59.0,461.0,214.0,0.0,49.0,23.0,68.0,10.0,1205.0,56.0,48.0,50.0,24.0,71.0,11.0,16.0,139.0,0.0,54.0,121.0,204.0,81.0,28.0,98.0,22.0,296.0,230.0,56.0,92.0,145.0,171.0,2614.0,1047.0,164.0,139.0,445.0,192.0,139.0,150.0,110.0,135.0,147.0,62.0,40.0,50.0,53.0,39.0,89.0,28.0,29.0,39.0,33.0,75.0,36.0,37.0,52.0,34.0,88.0,27.0,30.0,21.0,19.0,66.0,208.0,22.0,108.0,85.0,27.0,86.0,9.0,40.0,12.0,56.0,72.0,27.0,137.0,152.0,46.0,31.0,119.0,70.0,25.0,91.0,53.0,32.0,55.0,26.0,25.0,15.0,214.0,1454.0,11.0,36.0,24.0,21.0,98.0,28.0,659.0,81.0,16.0,18.0,17.0,68.0,889.0,78.0,48.0,30.0,34.0,25.0,53.0,8.0,27.0,144.0,46.0,25.0,25.0,21.0,28.0,14.0,9.0,24.0,24.0,44.0,30.0,100.0,126.0,20.0,57.0,80.0,211.0,55.0,67.0,428.0,50.0,21.0,688.0,1026.0,30.0,20.0,10.0,12.0,40.0,12.0,46.0,102.0,69.0,93.0,10.0,192.0,55.0,22.0,630.0,20.0,1261.0,79.0,132.0,1600.0,75.0,15.0,18.0,133.0,20.0,397.0,252.0,90.0,31.0,42.0,13.0,72.0,56.0,52.0,22.0,26.0,10.0,25.0,66.0,26.0,69.0,135.0,1281.0,25.0,54.0,24.0,49.0,59.0,52.0,97.0,50.0,48.0,14.0,24.0,10.0,141.0,244.0,241.0,96.0,45.0,173.0,109.0,86.0,497.0,110.0,42.0,69.0,252.0,780.0,520.0,98.0,224.0,89.0,32.0,18.0,79.0,29.0,20.0,5.0,29.0,156.0,263.0,439.0,22.0,50.0,70.0,50.0,29.0,13.0,28.0,91.0,45.0,124.0,100.0,46.0,20.0,28.0,29.0,20.0,97.0,711.0,58.0,221.0,50.0,236.0,25.0,162.0,47.0,24.0,66.0,47.0,200.0,16.0,100.0,68.0,78.0,33.0,200.0,13.0,463.0,357.0,144.0,88.0,259.0,20.0,93.0,339.0,104.0,58.0,28.0,55.0,241.0,128.0,28.0,30.0,687.0,58.0,5.0,56.0,110.0,241.0,6.0,39.0,8.0,15.0,137.0,374.0,291.0,141.0,44.0,53.0,47.0,363.0,25.0,81.0,35.0,25.0,277.0,223.0,106.0,101.0,133.0,31.0,145.0,39.0,19.0,191.0,172.0,53.0,463.0,93.0,85.0,13.0,16.0,80.0,19.0,140.0,84.0,182.0,112.0,43.0,104.0,2.0,92.0,99.0,283.0,28.0,674.0,313.0,60.0,680.0,466.0,61.0,30.0,20.0,59.0,61.0,2.0,51.0,350.0,42.0,78.0,230.0,336.0,76.0,340.0,252.0,302.0,206.0,1.0,72.0,49.0,146.0,83.0,195.0,421.0,230.0,35.0,68.0,37.0,24.0,26.0,115.0,95.0,22.0,162.0,72.0,80.0,36.0,21.0,24.0,144.0,506.0,69.0,40.0,55.0,28.0,45.0,17.0,13.0,82.0,26.0,73.0,270.0,97.0,38.0,248.0,44.0,385.0,75.0,66.0,31.0,283.0,71.0,124.0,63.0,30.0,64.0,632.0,71.0,70.0,86.0,27.0,30.0,49.0,416.0,44.0,318.0,41.0,219.0,33.0,30.0,6.0,47.0,122.0,202.0,352.0,95.0,2223.0,61.0,149.0,120.0,213.0,106.0,256.0,72.0,125.0,210.0,22.0,51.0,27.0,74.0,13.0,352.0,22.0,32.0,24.0,23.0,20.0,150.0,31.0,85.0,26.0,73.0,126.0,29.0,66.0,50.0,14.0,1.0,31.0,160.0,51.0,188.0,9.0,10.0,24.0,17.0,50.0,28.0,166.0,31.0,97.0,56.0,174.0,12.0,250.0,34.0,142.0,50.0,50.0,444.0,31.0,93.0,50.0,30.0,117.0,50.0,187.0,73.0,50.0,50.0,17.0,16.0,50.0,100.0,126.0,62.0,46.0,58.0,52.0,157.0,22.0,17.0,487.0,400.0,197.0,362.0,170.0,195.0,168.0,198.0,100.0,344.0,187.0,114.0,187.0,309.0,30.0,77.0,49.0,103.0,151.0,3.0,196.0,426.0,512.0,419.0,187.0,50.0,32.0,193.0,231.0,65.0,89.0,252.0,26.0,147.0,280.0,333.0,96.0,229.0,74.0,36.0,50.0,224.0,42.0,67.0,11.0,518.0,745.0,331.0,487.0,22.0,108.0,160.0,20.0,226.0,14.0,1014.0,68.0,78.0,64.0,22.0,300.0,27.0,190.0,117.0,11.0,29.0,54.0,106.0,176.0,900.0,49.0,76.0,50.0,52.0,84.0,272.0,81.0,388.0,33.0,24.0,25.0,135.0,273.0,50.0,65.0,68.0,16.0,95.0,49.0,95.0,195.0,137.0,170.0,59.0,107.0,61.0,283.0,17.0,187.0,151.0,149.0,20.0,60.0,38.0,27.0,28.0,159.0,205.0,25.0,41.0,43.0,60.0,228.0,212.0,215.0,281.0,54.0,84.0,199.0,141.0,111.0,152.0,127.0,119.0,60.0,69.0,30.0,37.0,40.0,16.0,106.0,20.0,60.0,11.0,208.0,74.0,215.0,25.0,66.0,75.0,33.0,205.0,99.0,23.0,23.0,30.0,10.0,36.0,58.0,80.0,76.0,10.0,5.0,24.0,36.0,39.0,10.0,32.0,17.0,46.0,52.0,28.0,26.0,107.0,78.0,42.0,10.0,32.0,71.0,42.0,36.0,21.0,131.0,39.0,10.0,27.0,31.0,38.0,20.0,9.0,27.0,24.0,62.0,14.0,42.0,51.0,24.0,9.0,21.0,8.0,27.0,9.0,74.0,57.0,9.0,19.0,34.0,29.0,27.0,4.0,6.0,25.0,56.0,37.0,24.0,27.0,231.0,18.0,96.0,27.0,8.0,5.0,69.0,43.0,17.0,29.0,206.0,18.0,88.0,47.0,15.0,12.0,11.0,10.0,159.0,16.0,16.0,30.0,6.0,10.0,193.0,92.0,37.0,22.0,5.0,16.0,8.0,21.0,9.0,43.0,5.0,12.0,21.0,30.0,12.0,25.0,137.0,18.0,16.0,39.0,62.0,25.0,58.0,113.0,24.0,44.0,23.0,14.0,27.0,32.0,15.0,100.0,51.0,44.0,12.0,44.0,34.0,9.0,78.0,17.0,12.0,57.0,16.0,32.0,20.0,23.0,43.0,34.0,21.0,15.0,13.0,26.0,52.0,84.0,124.0,175.0,9.0,132.0,16.0,85.0,95.0,30.0,28.0,55.0,4.0,41.0,18.0,38.0,124.0,176.0,112.0,8.0,40.0,20.0,30.0,10.0,123.0,49.0,89.0,10.0,52.0,104.0,130.0,20.0,187.0,138.0,3.0,294.0,30.0,261.0,165.0,46.0,58.0,24.0,25.0,29.0,249.0,31.0,28.0,142.0,60.0,19.0,7.0,23.0,17.0,5.0,2.0,106.0,1.0,202.0,91.0,422.0,174.0,229.0,101.0,39.0,97.0,31.0,16.0,15.0,51.0,106.0,21.0,3.0,16.0,76.0,113.0,3.0,32.0,90.0,85.0,88.0,496.0,20.0,48.0,33.0,1.0,312.0,19.0,91.0,40.0,54.0,1.0,49.0,482.0,41.0,2.0,219.0,5.0,52.0,107.0,138.0,802.0,2.0,18.0,25.0,11.0,36.0,31.0,7.0,11.0,32.0,32.0,21.0,46.0,139.0,200.0,1.0,92.0,93.0,20.0,86.0,3.0,33.0,24.0,19.0,207.0,725.0,96.0,80.0,89.0,52.0,166.0,187.0,52.0,1.0,154.0,45.0,4.0,28.0,27.0,27.0,11.0,136.0,8.0,21.0,25.0,42.0,31.0,76.0,95.0,207.0,67.0,122.0,122.0,44.0,14.0,3.0,54.0,4.0,31.0,380.0,380.0,44.0,18.0,10.0,12.0,34.0,14.0,46.0,4.0,14.0,1.0,11.0,30.0,10.0,8.0,20.0,20.0,34.0,26.0,26.0,17.0,5.0,11.0,10.0,37.0,37.0,49.0,1.0,53.0,11.0,10.0,10.0,22.0,43.0,28.0,2.0,50.0,2.0,45.0,144.0,45.0,57.0,57.0,1.0,47.0,9.0,86.0,8.0,43.0,21.0,12.0,10.0,103.0,81.0,172.0,198.0,22.0,616.0,22.0,42.0,46.0,97.0,8.0,14.0,74.0,200.0,109.0,95.0,119.0,8.0,97.0,33.0,6.0,19.0,8.0,50.0,19.0,12.0,21.0,14.0,7.0,33.0,75.0,15.0,21.0,324.0,17.0,688.0,71.0,12.0,12.0,24.0,20.0,15.0,26.0,13.0,9.0,5.0,21.0,10.0,23.0,15.0,42.0,20.0,20.0,25.0,18.0,19.0,20.0,8.0,50.0,25.0,16.0,82.0,26.0,19.0,12.0,151.0,15.0,44.0,179.0,18.0,30.0,40.0,38.0,177.0,14.0,123.0,43.0,40.0,30.0,68.0,206.0,84.0,10.0,16.0,48.0,15.0,8.0,31.0,52.0,19.0,17.0,10.0,81.0,40.0,5.0,905.0,141.0,111.0,298.0,184.0,36.0,67.0,46.0,147.0,33.0,30.0,27.0,10.0,8.0,73.0,11.0,231.0,255.0,160.0,300.0,407.0,774.0,363.0,1384.0,65.0,14.0,98.0,18.0,264.0,139.0,174.0,118.0,47.0,10.0,144.0,103.0,94.0,121.0,150.0,12.0,12.0,50.0,40.0,96.0,35.0,26.0,28.0,44.0,52.0,28.0,128.0,109.0,25.0,85.0,111.0,62.0,95.0,69.0,20.0,66.0,50.0,53.0,30.0,20.0],\"y0\":\" \",\"yaxis\":\"y\"}],                        {\"boxmode\":\"group\",\"legend\":{\"tracegroupgap\":0},\"margin\":{\"t\":60},\"template\":{\"data\":{\"bar\":[{\"error_x\":{\"color\":\"#2a3f5f\"},\"error_y\":{\"color\":\"#2a3f5f\"},\"marker\":{\"line\":{\"color\":\"#E5ECF6\",\"width\":0.5},\"pattern\":{\"fillmode\":\"overlay\",\"size\":10,\"solidity\":0.2}},\"type\":\"bar\"}],\"barpolar\":[{\"marker\":{\"line\":{\"color\":\"#E5ECF6\",\"width\":0.5},\"pattern\":{\"fillmode\":\"overlay\",\"size\":10,\"solidity\":0.2}},\"type\":\"barpolar\"}],\"carpet\":[{\"aaxis\":{\"endlinecolor\":\"#2a3f5f\",\"gridcolor\":\"white\",\"linecolor\":\"white\",\"minorgridcolor\":\"white\",\"startlinecolor\":\"#2a3f5f\"},\"baxis\":{\"endlinecolor\":\"#2a3f5f\",\"gridcolor\":\"white\",\"linecolor\":\"white\",\"minorgridcolor\":\"white\",\"startlinecolor\":\"#2a3f5f\"},\"type\":\"carpet\"}],\"choropleth\":[{\"colorbar\":{\"outlinewidth\":0,\"ticks\":\"\"},\"type\":\"choropleth\"}],\"contour\":[{\"colorbar\":{\"outlinewidth\":0,\"ticks\":\"\"},\"colorscale\":[[0.0,\"#0d0887\"],[0.1111111111111111,\"#46039f\"],[0.2222222222222222,\"#7201a8\"],[0.3333333333333333,\"#9c179e\"],[0.4444444444444444,\"#bd3786\"],[0.5555555555555556,\"#d8576b\"],[0.6666666666666666,\"#ed7953\"],[0.7777777777777778,\"#fb9f3a\"],[0.8888888888888888,\"#fdca26\"],[1.0,\"#f0f921\"]],\"type\":\"contour\"}],\"contourcarpet\":[{\"colorbar\":{\"outlinewidth\":0,\"ticks\":\"\"},\"type\":\"contourcarpet\"}],\"heatmap\":[{\"colorbar\":{\"outlinewidth\":0,\"ticks\":\"\"},\"colorscale\":[[0.0,\"#0d0887\"],[0.1111111111111111,\"#46039f\"],[0.2222222222222222,\"#7201a8\"],[0.3333333333333333,\"#9c179e\"],[0.4444444444444444,\"#bd3786\"],[0.5555555555555556,\"#d8576b\"],[0.6666666666666666,\"#ed7953\"],[0.7777777777777778,\"#fb9f3a\"],[0.8888888888888888,\"#fdca26\"],[1.0,\"#f0f921\"]],\"type\":\"heatmap\"}],\"heatmapgl\":[{\"colorbar\":{\"outlinewidth\":0,\"ticks\":\"\"},\"colorscale\":[[0.0,\"#0d0887\"],[0.1111111111111111,\"#46039f\"],[0.2222222222222222,\"#7201a8\"],[0.3333333333333333,\"#9c179e\"],[0.4444444444444444,\"#bd3786\"],[0.5555555555555556,\"#d8576b\"],[0.6666666666666666,\"#ed7953\"],[0.7777777777777778,\"#fb9f3a\"],[0.8888888888888888,\"#fdca26\"],[1.0,\"#f0f921\"]],\"type\":\"heatmapgl\"}],\"histogram\":[{\"marker\":{\"pattern\":{\"fillmode\":\"overlay\",\"size\":10,\"solidity\":0.2}},\"type\":\"histogram\"}],\"histogram2d\":[{\"colorbar\":{\"outlinewidth\":0,\"ticks\":\"\"},\"colorscale\":[[0.0,\"#0d0887\"],[0.1111111111111111,\"#46039f\"],[0.2222222222222222,\"#7201a8\"],[0.3333333333333333,\"#9c179e\"],[0.4444444444444444,\"#bd3786\"],[0.5555555555555556,\"#d8576b\"],[0.6666666666666666,\"#ed7953\"],[0.7777777777777778,\"#fb9f3a\"],[0.8888888888888888,\"#fdca26\"],[1.0,\"#f0f921\"]],\"type\":\"histogram2d\"}],\"histogram2dcontour\":[{\"colorbar\":{\"outlinewidth\":0,\"ticks\":\"\"},\"colorscale\":[[0.0,\"#0d0887\"],[0.1111111111111111,\"#46039f\"],[0.2222222222222222,\"#7201a8\"],[0.3333333333333333,\"#9c179e\"],[0.4444444444444444,\"#bd3786\"],[0.5555555555555556,\"#d8576b\"],[0.6666666666666666,\"#ed7953\"],[0.7777777777777778,\"#fb9f3a\"],[0.8888888888888888,\"#fdca26\"],[1.0,\"#f0f921\"]],\"type\":\"histogram2dcontour\"}],\"mesh3d\":[{\"colorbar\":{\"outlinewidth\":0,\"ticks\":\"\"},\"type\":\"mesh3d\"}],\"parcoords\":[{\"line\":{\"colorbar\":{\"outlinewidth\":0,\"ticks\":\"\"}},\"type\":\"parcoords\"}],\"pie\":[{\"automargin\":true,\"type\":\"pie\"}],\"scatter\":[{\"marker\":{\"colorbar\":{\"outlinewidth\":0,\"ticks\":\"\"}},\"type\":\"scatter\"}],\"scatter3d\":[{\"line\":{\"colorbar\":{\"outlinewidth\":0,\"ticks\":\"\"}},\"marker\":{\"colorbar\":{\"outlinewidth\":0,\"ticks\":\"\"}},\"type\":\"scatter3d\"}],\"scattercarpet\":[{\"marker\":{\"colorbar\":{\"outlinewidth\":0,\"ticks\":\"\"}},\"type\":\"scattercarpet\"}],\"scattergeo\":[{\"marker\":{\"colorbar\":{\"outlinewidth\":0,\"ticks\":\"\"}},\"type\":\"scattergeo\"}],\"scattergl\":[{\"marker\":{\"colorbar\":{\"outlinewidth\":0,\"ticks\":\"\"}},\"type\":\"scattergl\"}],\"scattermapbox\":[{\"marker\":{\"colorbar\":{\"outlinewidth\":0,\"ticks\":\"\"}},\"type\":\"scattermapbox\"}],\"scatterpolar\":[{\"marker\":{\"colorbar\":{\"outlinewidth\":0,\"ticks\":\"\"}},\"type\":\"scatterpolar\"}],\"scatterpolargl\":[{\"marker\":{\"colorbar\":{\"outlinewidth\":0,\"ticks\":\"\"}},\"type\":\"scatterpolargl\"}],\"scatterternary\":[{\"marker\":{\"colorbar\":{\"outlinewidth\":0,\"ticks\":\"\"}},\"type\":\"scatterternary\"}],\"surface\":[{\"colorbar\":{\"outlinewidth\":0,\"ticks\":\"\"},\"colorscale\":[[0.0,\"#0d0887\"],[0.1111111111111111,\"#46039f\"],[0.2222222222222222,\"#7201a8\"],[0.3333333333333333,\"#9c179e\"],[0.4444444444444444,\"#bd3786\"],[0.5555555555555556,\"#d8576b\"],[0.6666666666666666,\"#ed7953\"],[0.7777777777777778,\"#fb9f3a\"],[0.8888888888888888,\"#fdca26\"],[1.0,\"#f0f921\"]],\"type\":\"surface\"}],\"table\":[{\"cells\":{\"fill\":{\"color\":\"#EBF0F8\"},\"line\":{\"color\":\"white\"}},\"header\":{\"fill\":{\"color\":\"#C8D4E3\"},\"line\":{\"color\":\"white\"}},\"type\":\"table\"}]},\"layout\":{\"annotationdefaults\":{\"arrowcolor\":\"#2a3f5f\",\"arrowhead\":0,\"arrowwidth\":1},\"autotypenumbers\":\"strict\",\"coloraxis\":{\"colorbar\":{\"outlinewidth\":0,\"ticks\":\"\"}},\"colorscale\":{\"diverging\":[[0,\"#8e0152\"],[0.1,\"#c51b7d\"],[0.2,\"#de77ae\"],[0.3,\"#f1b6da\"],[0.4,\"#fde0ef\"],[0.5,\"#f7f7f7\"],[0.6,\"#e6f5d0\"],[0.7,\"#b8e186\"],[0.8,\"#7fbc41\"],[0.9,\"#4d9221\"],[1,\"#276419\"]],\"sequential\":[[0.0,\"#0d0887\"],[0.1111111111111111,\"#46039f\"],[0.2222222222222222,\"#7201a8\"],[0.3333333333333333,\"#9c179e\"],[0.4444444444444444,\"#bd3786\"],[0.5555555555555556,\"#d8576b\"],[0.6666666666666666,\"#ed7953\"],[0.7777777777777778,\"#fb9f3a\"],[0.8888888888888888,\"#fdca26\"],[1.0,\"#f0f921\"]],\"sequentialminus\":[[0.0,\"#0d0887\"],[0.1111111111111111,\"#46039f\"],[0.2222222222222222,\"#7201a8\"],[0.3333333333333333,\"#9c179e\"],[0.4444444444444444,\"#bd3786\"],[0.5555555555555556,\"#d8576b\"],[0.6666666666666666,\"#ed7953\"],[0.7777777777777778,\"#fb9f3a\"],[0.8888888888888888,\"#fdca26\"],[1.0,\"#f0f921\"]]},\"colorway\":[\"#636efa\",\"#EF553B\",\"#00cc96\",\"#ab63fa\",\"#FFA15A\",\"#19d3f3\",\"#FF6692\",\"#B6E880\",\"#FF97FF\",\"#FECB52\"],\"font\":{\"color\":\"#2a3f5f\"},\"geo\":{\"bgcolor\":\"white\",\"lakecolor\":\"white\",\"landcolor\":\"#E5ECF6\",\"showlakes\":true,\"showland\":true,\"subunitcolor\":\"white\"},\"hoverlabel\":{\"align\":\"left\"},\"hovermode\":\"closest\",\"mapbox\":{\"style\":\"light\"},\"paper_bgcolor\":\"white\",\"plot_bgcolor\":\"#E5ECF6\",\"polar\":{\"angularaxis\":{\"gridcolor\":\"white\",\"linecolor\":\"white\",\"ticks\":\"\"},\"bgcolor\":\"#E5ECF6\",\"radialaxis\":{\"gridcolor\":\"white\",\"linecolor\":\"white\",\"ticks\":\"\"}},\"scene\":{\"xaxis\":{\"backgroundcolor\":\"#E5ECF6\",\"gridcolor\":\"white\",\"gridwidth\":2,\"linecolor\":\"white\",\"showbackground\":true,\"ticks\":\"\",\"zerolinecolor\":\"white\"},\"yaxis\":{\"backgroundcolor\":\"#E5ECF6\",\"gridcolor\":\"white\",\"gridwidth\":2,\"linecolor\":\"white\",\"showbackground\":true,\"ticks\":\"\",\"zerolinecolor\":\"white\"},\"zaxis\":{\"backgroundcolor\":\"#E5ECF6\",\"gridcolor\":\"white\",\"gridwidth\":2,\"linecolor\":\"white\",\"showbackground\":true,\"ticks\":\"\",\"zerolinecolor\":\"white\"}},\"shapedefaults\":{\"line\":{\"color\":\"#2a3f5f\"}},\"ternary\":{\"aaxis\":{\"gridcolor\":\"white\",\"linecolor\":\"white\",\"ticks\":\"\"},\"baxis\":{\"gridcolor\":\"white\",\"linecolor\":\"white\",\"ticks\":\"\"},\"bgcolor\":\"#E5ECF6\",\"caxis\":{\"gridcolor\":\"white\",\"linecolor\":\"white\",\"ticks\":\"\"}},\"title\":{\"x\":0.05},\"xaxis\":{\"automargin\":true,\"gridcolor\":\"white\",\"linecolor\":\"white\",\"ticks\":\"\",\"title\":{\"standoff\":15},\"zerolinecolor\":\"white\",\"zerolinewidth\":2},\"yaxis\":{\"automargin\":true,\"gridcolor\":\"white\",\"linecolor\":\"white\",\"ticks\":\"\",\"title\":{\"standoff\":15},\"zerolinecolor\":\"white\",\"zerolinewidth\":2}}},\"xaxis\":{\"anchor\":\"y\",\"domain\":[0.0,1.0],\"title\":{\"text\":\"STATE\"}},\"yaxis\":{\"anchor\":\"x\",\"domain\":[0.0,1.0],\"title\":{\"text\":\"NUMBER_OF_HOUSES\"}}},                        {\"responsive\": true}                    ).then(function(){\n",
       "                            \n",
       "var gd = document.getElementById('02365de5-f29a-4151-8287-309b3dcf1272');\n",
       "var x = new MutationObserver(function (mutations, observer) {{\n",
       "        var display = window.getComputedStyle(gd).display;\n",
       "        if (!display || display === 'none') {{\n",
       "            console.log([gd, 'removed!']);\n",
       "            Plotly.purge(gd);\n",
       "            observer.disconnect();\n",
       "        }}\n",
       "}});\n",
       "\n",
       "// Listen for the removal of the full notebook cells\n",
       "var notebookContainer = gd.closest('#notebook-container');\n",
       "if (notebookContainer) {{\n",
       "    x.observe(notebookContainer, {childList: true});\n",
       "}}\n",
       "\n",
       "// Listen for the clearing of the current output cell\n",
       "var outputEl = gd.closest('.output');\n",
       "if (outputEl) {{\n",
       "    x.observe(outputEl, {childList: true});\n",
       "}}\n",
       "\n",
       "                        })                };                });            </script>        </div>"
      ]
     },
     "metadata": {},
     "output_type": "display_data"
    }
   ],
   "source": [
    "df = px.data.tips()\n",
    "fig = px.box(residentalLocation, x=\"STATE\", y=\"NUMBER_OF_HOUSES\")\n",
    "fig.show()"
   ]
  },
  {
   "cell_type": "markdown",
   "metadata": {},
   "source": [
    "# Exploratory Data Analysis"
   ]
  },
  {
   "cell_type": "code",
   "execution_count": 135,
   "metadata": {},
   "outputs": [],
   "source": [
    "laundryAnalaysis = laundry.copy()\n",
    "residentalLocationAnalysis = residentalLocation.copy()"
   ]
  },
  {
   "cell_type": "markdown",
   "metadata": {},
   "source": [
    "### 1. How many customers visit during the day and night?"
   ]
  },
  {
   "cell_type": "code",
   "execution_count": 136,
   "metadata": {},
   "outputs": [
    {
     "data": {
      "application/vnd.plotly.v1+json": {
       "config": {
        "plotlyServerURL": "https://plot.ly"
       },
       "data": [
        {
         "alignmentgroup": "True",
         "hovertemplate": "PART_OF_DAY=Day<br>DATE=%{x}<br>FREQUENCY=%{y}<extra></extra>",
         "legendgroup": "Day",
         "marker": {
          "color": "#636efa",
          "pattern": {
           "shape": ""
          }
         },
         "name": "Day",
         "offsetgroup": "Day",
         "orientation": "v",
         "showlegend": true,
         "textposition": "auto",
         "type": "bar",
         "x": [
          "2015-10-19T00:00:00",
          "2015-10-20T00:00:00",
          "2015-10-21T00:00:00",
          "2015-10-22T00:00:00",
          "2015-10-23T00:00:00",
          "2015-10-24T00:00:00",
          "2015-10-25T00:00:00",
          "2015-10-26T00:00:00",
          "2015-10-29T00:00:00",
          "2015-10-30T00:00:00",
          "2015-11-01T00:00:00",
          "2015-11-02T00:00:00",
          "2015-11-03T00:00:00",
          "2015-11-04T00:00:00",
          "2015-11-05T00:00:00",
          "2015-11-15T00:00:00",
          "2015-11-23T00:00:00",
          "2015-11-24T00:00:00",
          "2015-11-25T00:00:00",
          "2015-11-26T00:00:00",
          "2015-11-27T00:00:00",
          "2015-11-28T00:00:00",
          "2015-11-29T00:00:00",
          "2015-12-09T00:00:00"
         ],
         "xaxis": "x",
         "y": [
          0,
          13,
          11,
          13,
          7,
          11,
          2,
          4,
          0,
          1,
          1,
          25,
          15,
          11,
          4,
          36,
          11,
          10,
          9,
          5,
          37,
          67,
          3,
          3
         ],
         "yaxis": "y"
        },
        {
         "alignmentgroup": "True",
         "hovertemplate": "PART_OF_DAY=Night<br>DATE=%{x}<br>FREQUENCY=%{y}<extra></extra>",
         "legendgroup": "Night",
         "marker": {
          "color": "#EF553B",
          "pattern": {
           "shape": ""
          }
         },
         "name": "Night",
         "offsetgroup": "Night",
         "orientation": "v",
         "showlegend": true,
         "textposition": "auto",
         "type": "bar",
         "x": [
          "2015-10-19T00:00:00",
          "2015-10-20T00:00:00",
          "2015-10-21T00:00:00",
          "2015-10-22T00:00:00",
          "2015-10-23T00:00:00",
          "2015-10-24T00:00:00",
          "2015-10-25T00:00:00",
          "2015-10-26T00:00:00",
          "2015-10-29T00:00:00",
          "2015-10-30T00:00:00",
          "2015-11-01T00:00:00",
          "2015-11-02T00:00:00",
          "2015-11-03T00:00:00",
          "2015-11-04T00:00:00",
          "2015-11-05T00:00:00",
          "2015-11-15T00:00:00",
          "2015-11-23T00:00:00",
          "2015-11-24T00:00:00",
          "2015-11-25T00:00:00",
          "2015-11-26T00:00:00",
          "2015-11-27T00:00:00",
          "2015-11-28T00:00:00",
          "2015-11-29T00:00:00",
          "2015-12-09T00:00:00"
         ],
         "xaxis": "x",
         "y": [
          4,
          24,
          5,
          6,
          6,
          5,
          1,
          0,
          9,
          0,
          3,
          11,
          26,
          9,
          0,
          4,
          18,
          8,
          11,
          11,
          39,
          39,
          99,
          5
         ],
         "yaxis": "y"
        }
       ],
       "layout": {
        "barmode": "group",
        "legend": {
         "title": {
          "text": "PART_OF_DAY"
         },
         "tracegroupgap": 0
        },
        "margin": {
         "t": 60
        },
        "template": {
         "data": {
          "bar": [
           {
            "error_x": {
             "color": "#2a3f5f"
            },
            "error_y": {
             "color": "#2a3f5f"
            },
            "marker": {
             "line": {
              "color": "#E5ECF6",
              "width": 0.5
             },
             "pattern": {
              "fillmode": "overlay",
              "size": 10,
              "solidity": 0.2
             }
            },
            "type": "bar"
           }
          ],
          "barpolar": [
           {
            "marker": {
             "line": {
              "color": "#E5ECF6",
              "width": 0.5
             },
             "pattern": {
              "fillmode": "overlay",
              "size": 10,
              "solidity": 0.2
             }
            },
            "type": "barpolar"
           }
          ],
          "carpet": [
           {
            "aaxis": {
             "endlinecolor": "#2a3f5f",
             "gridcolor": "white",
             "linecolor": "white",
             "minorgridcolor": "white",
             "startlinecolor": "#2a3f5f"
            },
            "baxis": {
             "endlinecolor": "#2a3f5f",
             "gridcolor": "white",
             "linecolor": "white",
             "minorgridcolor": "white",
             "startlinecolor": "#2a3f5f"
            },
            "type": "carpet"
           }
          ],
          "choropleth": [
           {
            "colorbar": {
             "outlinewidth": 0,
             "ticks": ""
            },
            "type": "choropleth"
           }
          ],
          "contour": [
           {
            "colorbar": {
             "outlinewidth": 0,
             "ticks": ""
            },
            "colorscale": [
             [
              0,
              "#0d0887"
             ],
             [
              0.1111111111111111,
              "#46039f"
             ],
             [
              0.2222222222222222,
              "#7201a8"
             ],
             [
              0.3333333333333333,
              "#9c179e"
             ],
             [
              0.4444444444444444,
              "#bd3786"
             ],
             [
              0.5555555555555556,
              "#d8576b"
             ],
             [
              0.6666666666666666,
              "#ed7953"
             ],
             [
              0.7777777777777778,
              "#fb9f3a"
             ],
             [
              0.8888888888888888,
              "#fdca26"
             ],
             [
              1,
              "#f0f921"
             ]
            ],
            "type": "contour"
           }
          ],
          "contourcarpet": [
           {
            "colorbar": {
             "outlinewidth": 0,
             "ticks": ""
            },
            "type": "contourcarpet"
           }
          ],
          "heatmap": [
           {
            "colorbar": {
             "outlinewidth": 0,
             "ticks": ""
            },
            "colorscale": [
             [
              0,
              "#0d0887"
             ],
             [
              0.1111111111111111,
              "#46039f"
             ],
             [
              0.2222222222222222,
              "#7201a8"
             ],
             [
              0.3333333333333333,
              "#9c179e"
             ],
             [
              0.4444444444444444,
              "#bd3786"
             ],
             [
              0.5555555555555556,
              "#d8576b"
             ],
             [
              0.6666666666666666,
              "#ed7953"
             ],
             [
              0.7777777777777778,
              "#fb9f3a"
             ],
             [
              0.8888888888888888,
              "#fdca26"
             ],
             [
              1,
              "#f0f921"
             ]
            ],
            "type": "heatmap"
           }
          ],
          "heatmapgl": [
           {
            "colorbar": {
             "outlinewidth": 0,
             "ticks": ""
            },
            "colorscale": [
             [
              0,
              "#0d0887"
             ],
             [
              0.1111111111111111,
              "#46039f"
             ],
             [
              0.2222222222222222,
              "#7201a8"
             ],
             [
              0.3333333333333333,
              "#9c179e"
             ],
             [
              0.4444444444444444,
              "#bd3786"
             ],
             [
              0.5555555555555556,
              "#d8576b"
             ],
             [
              0.6666666666666666,
              "#ed7953"
             ],
             [
              0.7777777777777778,
              "#fb9f3a"
             ],
             [
              0.8888888888888888,
              "#fdca26"
             ],
             [
              1,
              "#f0f921"
             ]
            ],
            "type": "heatmapgl"
           }
          ],
          "histogram": [
           {
            "marker": {
             "pattern": {
              "fillmode": "overlay",
              "size": 10,
              "solidity": 0.2
             }
            },
            "type": "histogram"
           }
          ],
          "histogram2d": [
           {
            "colorbar": {
             "outlinewidth": 0,
             "ticks": ""
            },
            "colorscale": [
             [
              0,
              "#0d0887"
             ],
             [
              0.1111111111111111,
              "#46039f"
             ],
             [
              0.2222222222222222,
              "#7201a8"
             ],
             [
              0.3333333333333333,
              "#9c179e"
             ],
             [
              0.4444444444444444,
              "#bd3786"
             ],
             [
              0.5555555555555556,
              "#d8576b"
             ],
             [
              0.6666666666666666,
              "#ed7953"
             ],
             [
              0.7777777777777778,
              "#fb9f3a"
             ],
             [
              0.8888888888888888,
              "#fdca26"
             ],
             [
              1,
              "#f0f921"
             ]
            ],
            "type": "histogram2d"
           }
          ],
          "histogram2dcontour": [
           {
            "colorbar": {
             "outlinewidth": 0,
             "ticks": ""
            },
            "colorscale": [
             [
              0,
              "#0d0887"
             ],
             [
              0.1111111111111111,
              "#46039f"
             ],
             [
              0.2222222222222222,
              "#7201a8"
             ],
             [
              0.3333333333333333,
              "#9c179e"
             ],
             [
              0.4444444444444444,
              "#bd3786"
             ],
             [
              0.5555555555555556,
              "#d8576b"
             ],
             [
              0.6666666666666666,
              "#ed7953"
             ],
             [
              0.7777777777777778,
              "#fb9f3a"
             ],
             [
              0.8888888888888888,
              "#fdca26"
             ],
             [
              1,
              "#f0f921"
             ]
            ],
            "type": "histogram2dcontour"
           }
          ],
          "mesh3d": [
           {
            "colorbar": {
             "outlinewidth": 0,
             "ticks": ""
            },
            "type": "mesh3d"
           }
          ],
          "parcoords": [
           {
            "line": {
             "colorbar": {
              "outlinewidth": 0,
              "ticks": ""
             }
            },
            "type": "parcoords"
           }
          ],
          "pie": [
           {
            "automargin": true,
            "type": "pie"
           }
          ],
          "scatter": [
           {
            "marker": {
             "colorbar": {
              "outlinewidth": 0,
              "ticks": ""
             }
            },
            "type": "scatter"
           }
          ],
          "scatter3d": [
           {
            "line": {
             "colorbar": {
              "outlinewidth": 0,
              "ticks": ""
             }
            },
            "marker": {
             "colorbar": {
              "outlinewidth": 0,
              "ticks": ""
             }
            },
            "type": "scatter3d"
           }
          ],
          "scattercarpet": [
           {
            "marker": {
             "colorbar": {
              "outlinewidth": 0,
              "ticks": ""
             }
            },
            "type": "scattercarpet"
           }
          ],
          "scattergeo": [
           {
            "marker": {
             "colorbar": {
              "outlinewidth": 0,
              "ticks": ""
             }
            },
            "type": "scattergeo"
           }
          ],
          "scattergl": [
           {
            "marker": {
             "colorbar": {
              "outlinewidth": 0,
              "ticks": ""
             }
            },
            "type": "scattergl"
           }
          ],
          "scattermapbox": [
           {
            "marker": {
             "colorbar": {
              "outlinewidth": 0,
              "ticks": ""
             }
            },
            "type": "scattermapbox"
           }
          ],
          "scatterpolar": [
           {
            "marker": {
             "colorbar": {
              "outlinewidth": 0,
              "ticks": ""
             }
            },
            "type": "scatterpolar"
           }
          ],
          "scatterpolargl": [
           {
            "marker": {
             "colorbar": {
              "outlinewidth": 0,
              "ticks": ""
             }
            },
            "type": "scatterpolargl"
           }
          ],
          "scatterternary": [
           {
            "marker": {
             "colorbar": {
              "outlinewidth": 0,
              "ticks": ""
             }
            },
            "type": "scatterternary"
           }
          ],
          "surface": [
           {
            "colorbar": {
             "outlinewidth": 0,
             "ticks": ""
            },
            "colorscale": [
             [
              0,
              "#0d0887"
             ],
             [
              0.1111111111111111,
              "#46039f"
             ],
             [
              0.2222222222222222,
              "#7201a8"
             ],
             [
              0.3333333333333333,
              "#9c179e"
             ],
             [
              0.4444444444444444,
              "#bd3786"
             ],
             [
              0.5555555555555556,
              "#d8576b"
             ],
             [
              0.6666666666666666,
              "#ed7953"
             ],
             [
              0.7777777777777778,
              "#fb9f3a"
             ],
             [
              0.8888888888888888,
              "#fdca26"
             ],
             [
              1,
              "#f0f921"
             ]
            ],
            "type": "surface"
           }
          ],
          "table": [
           {
            "cells": {
             "fill": {
              "color": "#EBF0F8"
             },
             "line": {
              "color": "white"
             }
            },
            "header": {
             "fill": {
              "color": "#C8D4E3"
             },
             "line": {
              "color": "white"
             }
            },
            "type": "table"
           }
          ]
         },
         "layout": {
          "annotationdefaults": {
           "arrowcolor": "#2a3f5f",
           "arrowhead": 0,
           "arrowwidth": 1
          },
          "autotypenumbers": "strict",
          "coloraxis": {
           "colorbar": {
            "outlinewidth": 0,
            "ticks": ""
           }
          },
          "colorscale": {
           "diverging": [
            [
             0,
             "#8e0152"
            ],
            [
             0.1,
             "#c51b7d"
            ],
            [
             0.2,
             "#de77ae"
            ],
            [
             0.3,
             "#f1b6da"
            ],
            [
             0.4,
             "#fde0ef"
            ],
            [
             0.5,
             "#f7f7f7"
            ],
            [
             0.6,
             "#e6f5d0"
            ],
            [
             0.7,
             "#b8e186"
            ],
            [
             0.8,
             "#7fbc41"
            ],
            [
             0.9,
             "#4d9221"
            ],
            [
             1,
             "#276419"
            ]
           ],
           "sequential": [
            [
             0,
             "#0d0887"
            ],
            [
             0.1111111111111111,
             "#46039f"
            ],
            [
             0.2222222222222222,
             "#7201a8"
            ],
            [
             0.3333333333333333,
             "#9c179e"
            ],
            [
             0.4444444444444444,
             "#bd3786"
            ],
            [
             0.5555555555555556,
             "#d8576b"
            ],
            [
             0.6666666666666666,
             "#ed7953"
            ],
            [
             0.7777777777777778,
             "#fb9f3a"
            ],
            [
             0.8888888888888888,
             "#fdca26"
            ],
            [
             1,
             "#f0f921"
            ]
           ],
           "sequentialminus": [
            [
             0,
             "#0d0887"
            ],
            [
             0.1111111111111111,
             "#46039f"
            ],
            [
             0.2222222222222222,
             "#7201a8"
            ],
            [
             0.3333333333333333,
             "#9c179e"
            ],
            [
             0.4444444444444444,
             "#bd3786"
            ],
            [
             0.5555555555555556,
             "#d8576b"
            ],
            [
             0.6666666666666666,
             "#ed7953"
            ],
            [
             0.7777777777777778,
             "#fb9f3a"
            ],
            [
             0.8888888888888888,
             "#fdca26"
            ],
            [
             1,
             "#f0f921"
            ]
           ]
          },
          "colorway": [
           "#636efa",
           "#EF553B",
           "#00cc96",
           "#ab63fa",
           "#FFA15A",
           "#19d3f3",
           "#FF6692",
           "#B6E880",
           "#FF97FF",
           "#FECB52"
          ],
          "font": {
           "color": "#2a3f5f"
          },
          "geo": {
           "bgcolor": "white",
           "lakecolor": "white",
           "landcolor": "#E5ECF6",
           "showlakes": true,
           "showland": true,
           "subunitcolor": "white"
          },
          "hoverlabel": {
           "align": "left"
          },
          "hovermode": "closest",
          "mapbox": {
           "style": "light"
          },
          "paper_bgcolor": "white",
          "plot_bgcolor": "#E5ECF6",
          "polar": {
           "angularaxis": {
            "gridcolor": "white",
            "linecolor": "white",
            "ticks": ""
           },
           "bgcolor": "#E5ECF6",
           "radialaxis": {
            "gridcolor": "white",
            "linecolor": "white",
            "ticks": ""
           }
          },
          "scene": {
           "xaxis": {
            "backgroundcolor": "#E5ECF6",
            "gridcolor": "white",
            "gridwidth": 2,
            "linecolor": "white",
            "showbackground": true,
            "ticks": "",
            "zerolinecolor": "white"
           },
           "yaxis": {
            "backgroundcolor": "#E5ECF6",
            "gridcolor": "white",
            "gridwidth": 2,
            "linecolor": "white",
            "showbackground": true,
            "ticks": "",
            "zerolinecolor": "white"
           },
           "zaxis": {
            "backgroundcolor": "#E5ECF6",
            "gridcolor": "white",
            "gridwidth": 2,
            "linecolor": "white",
            "showbackground": true,
            "ticks": "",
            "zerolinecolor": "white"
           }
          },
          "shapedefaults": {
           "line": {
            "color": "#2a3f5f"
           }
          },
          "ternary": {
           "aaxis": {
            "gridcolor": "white",
            "linecolor": "white",
            "ticks": ""
           },
           "baxis": {
            "gridcolor": "white",
            "linecolor": "white",
            "ticks": ""
           },
           "bgcolor": "#E5ECF6",
           "caxis": {
            "gridcolor": "white",
            "linecolor": "white",
            "ticks": ""
           }
          },
          "title": {
           "x": 0.05
          },
          "xaxis": {
           "automargin": true,
           "gridcolor": "white",
           "linecolor": "white",
           "ticks": "",
           "title": {
            "standoff": 15
           },
           "zerolinecolor": "white",
           "zerolinewidth": 2
          },
          "yaxis": {
           "automargin": true,
           "gridcolor": "white",
           "linecolor": "white",
           "ticks": "",
           "title": {
            "standoff": 15
           },
           "zerolinecolor": "white",
           "zerolinewidth": 2
          }
         }
        },
        "xaxis": {
         "anchor": "y",
         "domain": [
          0,
          1
         ],
         "title": {
          "text": "DATE"
         }
        },
        "yaxis": {
         "anchor": "x",
         "domain": [
          0,
          1
         ],
         "title": {
          "text": "FREQUENCY"
         }
        }
       }
      },
      "text/html": [
       "<div>                            <div id=\"08e86539-ba7f-45be-829e-3fd3b6f36449\" class=\"plotly-graph-div\" style=\"height:525px; width:100%;\"></div>            <script type=\"text/javascript\">                require([\"plotly\"], function(Plotly) {                    window.PLOTLYENV=window.PLOTLYENV || {};                                    if (document.getElementById(\"08e86539-ba7f-45be-829e-3fd3b6f36449\")) {                    Plotly.newPlot(                        \"08e86539-ba7f-45be-829e-3fd3b6f36449\",                        [{\"alignmentgroup\":\"True\",\"hovertemplate\":\"PART_OF_DAY=Day<br>DATE=%{x}<br>FREQUENCY=%{y}<extra></extra>\",\"legendgroup\":\"Day\",\"marker\":{\"color\":\"#636efa\",\"pattern\":{\"shape\":\"\"}},\"name\":\"Day\",\"offsetgroup\":\"Day\",\"orientation\":\"v\",\"showlegend\":true,\"textposition\":\"auto\",\"type\":\"bar\",\"x\":[\"2015-10-19T00:00:00\",\"2015-10-20T00:00:00\",\"2015-10-21T00:00:00\",\"2015-10-22T00:00:00\",\"2015-10-23T00:00:00\",\"2015-10-24T00:00:00\",\"2015-10-25T00:00:00\",\"2015-10-26T00:00:00\",\"2015-10-29T00:00:00\",\"2015-10-30T00:00:00\",\"2015-11-01T00:00:00\",\"2015-11-02T00:00:00\",\"2015-11-03T00:00:00\",\"2015-11-04T00:00:00\",\"2015-11-05T00:00:00\",\"2015-11-15T00:00:00\",\"2015-11-23T00:00:00\",\"2015-11-24T00:00:00\",\"2015-11-25T00:00:00\",\"2015-11-26T00:00:00\",\"2015-11-27T00:00:00\",\"2015-11-28T00:00:00\",\"2015-11-29T00:00:00\",\"2015-12-09T00:00:00\"],\"xaxis\":\"x\",\"y\":[0,13,11,13,7,11,2,4,0,1,1,25,15,11,4,36,11,10,9,5,37,67,3,3],\"yaxis\":\"y\"},{\"alignmentgroup\":\"True\",\"hovertemplate\":\"PART_OF_DAY=Night<br>DATE=%{x}<br>FREQUENCY=%{y}<extra></extra>\",\"legendgroup\":\"Night\",\"marker\":{\"color\":\"#EF553B\",\"pattern\":{\"shape\":\"\"}},\"name\":\"Night\",\"offsetgroup\":\"Night\",\"orientation\":\"v\",\"showlegend\":true,\"textposition\":\"auto\",\"type\":\"bar\",\"x\":[\"2015-10-19T00:00:00\",\"2015-10-20T00:00:00\",\"2015-10-21T00:00:00\",\"2015-10-22T00:00:00\",\"2015-10-23T00:00:00\",\"2015-10-24T00:00:00\",\"2015-10-25T00:00:00\",\"2015-10-26T00:00:00\",\"2015-10-29T00:00:00\",\"2015-10-30T00:00:00\",\"2015-11-01T00:00:00\",\"2015-11-02T00:00:00\",\"2015-11-03T00:00:00\",\"2015-11-04T00:00:00\",\"2015-11-05T00:00:00\",\"2015-11-15T00:00:00\",\"2015-11-23T00:00:00\",\"2015-11-24T00:00:00\",\"2015-11-25T00:00:00\",\"2015-11-26T00:00:00\",\"2015-11-27T00:00:00\",\"2015-11-28T00:00:00\",\"2015-11-29T00:00:00\",\"2015-12-09T00:00:00\"],\"xaxis\":\"x\",\"y\":[4,24,5,6,6,5,1,0,9,0,3,11,26,9,0,4,18,8,11,11,39,39,99,5],\"yaxis\":\"y\"}],                        {\"barmode\":\"group\",\"legend\":{\"title\":{\"text\":\"PART_OF_DAY\"},\"tracegroupgap\":0},\"margin\":{\"t\":60},\"template\":{\"data\":{\"bar\":[{\"error_x\":{\"color\":\"#2a3f5f\"},\"error_y\":{\"color\":\"#2a3f5f\"},\"marker\":{\"line\":{\"color\":\"#E5ECF6\",\"width\":0.5},\"pattern\":{\"fillmode\":\"overlay\",\"size\":10,\"solidity\":0.2}},\"type\":\"bar\"}],\"barpolar\":[{\"marker\":{\"line\":{\"color\":\"#E5ECF6\",\"width\":0.5},\"pattern\":{\"fillmode\":\"overlay\",\"size\":10,\"solidity\":0.2}},\"type\":\"barpolar\"}],\"carpet\":[{\"aaxis\":{\"endlinecolor\":\"#2a3f5f\",\"gridcolor\":\"white\",\"linecolor\":\"white\",\"minorgridcolor\":\"white\",\"startlinecolor\":\"#2a3f5f\"},\"baxis\":{\"endlinecolor\":\"#2a3f5f\",\"gridcolor\":\"white\",\"linecolor\":\"white\",\"minorgridcolor\":\"white\",\"startlinecolor\":\"#2a3f5f\"},\"type\":\"carpet\"}],\"choropleth\":[{\"colorbar\":{\"outlinewidth\":0,\"ticks\":\"\"},\"type\":\"choropleth\"}],\"contour\":[{\"colorbar\":{\"outlinewidth\":0,\"ticks\":\"\"},\"colorscale\":[[0.0,\"#0d0887\"],[0.1111111111111111,\"#46039f\"],[0.2222222222222222,\"#7201a8\"],[0.3333333333333333,\"#9c179e\"],[0.4444444444444444,\"#bd3786\"],[0.5555555555555556,\"#d8576b\"],[0.6666666666666666,\"#ed7953\"],[0.7777777777777778,\"#fb9f3a\"],[0.8888888888888888,\"#fdca26\"],[1.0,\"#f0f921\"]],\"type\":\"contour\"}],\"contourcarpet\":[{\"colorbar\":{\"outlinewidth\":0,\"ticks\":\"\"},\"type\":\"contourcarpet\"}],\"heatmap\":[{\"colorbar\":{\"outlinewidth\":0,\"ticks\":\"\"},\"colorscale\":[[0.0,\"#0d0887\"],[0.1111111111111111,\"#46039f\"],[0.2222222222222222,\"#7201a8\"],[0.3333333333333333,\"#9c179e\"],[0.4444444444444444,\"#bd3786\"],[0.5555555555555556,\"#d8576b\"],[0.6666666666666666,\"#ed7953\"],[0.7777777777777778,\"#fb9f3a\"],[0.8888888888888888,\"#fdca26\"],[1.0,\"#f0f921\"]],\"type\":\"heatmap\"}],\"heatmapgl\":[{\"colorbar\":{\"outlinewidth\":0,\"ticks\":\"\"},\"colorscale\":[[0.0,\"#0d0887\"],[0.1111111111111111,\"#46039f\"],[0.2222222222222222,\"#7201a8\"],[0.3333333333333333,\"#9c179e\"],[0.4444444444444444,\"#bd3786\"],[0.5555555555555556,\"#d8576b\"],[0.6666666666666666,\"#ed7953\"],[0.7777777777777778,\"#fb9f3a\"],[0.8888888888888888,\"#fdca26\"],[1.0,\"#f0f921\"]],\"type\":\"heatmapgl\"}],\"histogram\":[{\"marker\":{\"pattern\":{\"fillmode\":\"overlay\",\"size\":10,\"solidity\":0.2}},\"type\":\"histogram\"}],\"histogram2d\":[{\"colorbar\":{\"outlinewidth\":0,\"ticks\":\"\"},\"colorscale\":[[0.0,\"#0d0887\"],[0.1111111111111111,\"#46039f\"],[0.2222222222222222,\"#7201a8\"],[0.3333333333333333,\"#9c179e\"],[0.4444444444444444,\"#bd3786\"],[0.5555555555555556,\"#d8576b\"],[0.6666666666666666,\"#ed7953\"],[0.7777777777777778,\"#fb9f3a\"],[0.8888888888888888,\"#fdca26\"],[1.0,\"#f0f921\"]],\"type\":\"histogram2d\"}],\"histogram2dcontour\":[{\"colorbar\":{\"outlinewidth\":0,\"ticks\":\"\"},\"colorscale\":[[0.0,\"#0d0887\"],[0.1111111111111111,\"#46039f\"],[0.2222222222222222,\"#7201a8\"],[0.3333333333333333,\"#9c179e\"],[0.4444444444444444,\"#bd3786\"],[0.5555555555555556,\"#d8576b\"],[0.6666666666666666,\"#ed7953\"],[0.7777777777777778,\"#fb9f3a\"],[0.8888888888888888,\"#fdca26\"],[1.0,\"#f0f921\"]],\"type\":\"histogram2dcontour\"}],\"mesh3d\":[{\"colorbar\":{\"outlinewidth\":0,\"ticks\":\"\"},\"type\":\"mesh3d\"}],\"parcoords\":[{\"line\":{\"colorbar\":{\"outlinewidth\":0,\"ticks\":\"\"}},\"type\":\"parcoords\"}],\"pie\":[{\"automargin\":true,\"type\":\"pie\"}],\"scatter\":[{\"marker\":{\"colorbar\":{\"outlinewidth\":0,\"ticks\":\"\"}},\"type\":\"scatter\"}],\"scatter3d\":[{\"line\":{\"colorbar\":{\"outlinewidth\":0,\"ticks\":\"\"}},\"marker\":{\"colorbar\":{\"outlinewidth\":0,\"ticks\":\"\"}},\"type\":\"scatter3d\"}],\"scattercarpet\":[{\"marker\":{\"colorbar\":{\"outlinewidth\":0,\"ticks\":\"\"}},\"type\":\"scattercarpet\"}],\"scattergeo\":[{\"marker\":{\"colorbar\":{\"outlinewidth\":0,\"ticks\":\"\"}},\"type\":\"scattergeo\"}],\"scattergl\":[{\"marker\":{\"colorbar\":{\"outlinewidth\":0,\"ticks\":\"\"}},\"type\":\"scattergl\"}],\"scattermapbox\":[{\"marker\":{\"colorbar\":{\"outlinewidth\":0,\"ticks\":\"\"}},\"type\":\"scattermapbox\"}],\"scatterpolar\":[{\"marker\":{\"colorbar\":{\"outlinewidth\":0,\"ticks\":\"\"}},\"type\":\"scatterpolar\"}],\"scatterpolargl\":[{\"marker\":{\"colorbar\":{\"outlinewidth\":0,\"ticks\":\"\"}},\"type\":\"scatterpolargl\"}],\"scatterternary\":[{\"marker\":{\"colorbar\":{\"outlinewidth\":0,\"ticks\":\"\"}},\"type\":\"scatterternary\"}],\"surface\":[{\"colorbar\":{\"outlinewidth\":0,\"ticks\":\"\"},\"colorscale\":[[0.0,\"#0d0887\"],[0.1111111111111111,\"#46039f\"],[0.2222222222222222,\"#7201a8\"],[0.3333333333333333,\"#9c179e\"],[0.4444444444444444,\"#bd3786\"],[0.5555555555555556,\"#d8576b\"],[0.6666666666666666,\"#ed7953\"],[0.7777777777777778,\"#fb9f3a\"],[0.8888888888888888,\"#fdca26\"],[1.0,\"#f0f921\"]],\"type\":\"surface\"}],\"table\":[{\"cells\":{\"fill\":{\"color\":\"#EBF0F8\"},\"line\":{\"color\":\"white\"}},\"header\":{\"fill\":{\"color\":\"#C8D4E3\"},\"line\":{\"color\":\"white\"}},\"type\":\"table\"}]},\"layout\":{\"annotationdefaults\":{\"arrowcolor\":\"#2a3f5f\",\"arrowhead\":0,\"arrowwidth\":1},\"autotypenumbers\":\"strict\",\"coloraxis\":{\"colorbar\":{\"outlinewidth\":0,\"ticks\":\"\"}},\"colorscale\":{\"diverging\":[[0,\"#8e0152\"],[0.1,\"#c51b7d\"],[0.2,\"#de77ae\"],[0.3,\"#f1b6da\"],[0.4,\"#fde0ef\"],[0.5,\"#f7f7f7\"],[0.6,\"#e6f5d0\"],[0.7,\"#b8e186\"],[0.8,\"#7fbc41\"],[0.9,\"#4d9221\"],[1,\"#276419\"]],\"sequential\":[[0.0,\"#0d0887\"],[0.1111111111111111,\"#46039f\"],[0.2222222222222222,\"#7201a8\"],[0.3333333333333333,\"#9c179e\"],[0.4444444444444444,\"#bd3786\"],[0.5555555555555556,\"#d8576b\"],[0.6666666666666666,\"#ed7953\"],[0.7777777777777778,\"#fb9f3a\"],[0.8888888888888888,\"#fdca26\"],[1.0,\"#f0f921\"]],\"sequentialminus\":[[0.0,\"#0d0887\"],[0.1111111111111111,\"#46039f\"],[0.2222222222222222,\"#7201a8\"],[0.3333333333333333,\"#9c179e\"],[0.4444444444444444,\"#bd3786\"],[0.5555555555555556,\"#d8576b\"],[0.6666666666666666,\"#ed7953\"],[0.7777777777777778,\"#fb9f3a\"],[0.8888888888888888,\"#fdca26\"],[1.0,\"#f0f921\"]]},\"colorway\":[\"#636efa\",\"#EF553B\",\"#00cc96\",\"#ab63fa\",\"#FFA15A\",\"#19d3f3\",\"#FF6692\",\"#B6E880\",\"#FF97FF\",\"#FECB52\"],\"font\":{\"color\":\"#2a3f5f\"},\"geo\":{\"bgcolor\":\"white\",\"lakecolor\":\"white\",\"landcolor\":\"#E5ECF6\",\"showlakes\":true,\"showland\":true,\"subunitcolor\":\"white\"},\"hoverlabel\":{\"align\":\"left\"},\"hovermode\":\"closest\",\"mapbox\":{\"style\":\"light\"},\"paper_bgcolor\":\"white\",\"plot_bgcolor\":\"#E5ECF6\",\"polar\":{\"angularaxis\":{\"gridcolor\":\"white\",\"linecolor\":\"white\",\"ticks\":\"\"},\"bgcolor\":\"#E5ECF6\",\"radialaxis\":{\"gridcolor\":\"white\",\"linecolor\":\"white\",\"ticks\":\"\"}},\"scene\":{\"xaxis\":{\"backgroundcolor\":\"#E5ECF6\",\"gridcolor\":\"white\",\"gridwidth\":2,\"linecolor\":\"white\",\"showbackground\":true,\"ticks\":\"\",\"zerolinecolor\":\"white\"},\"yaxis\":{\"backgroundcolor\":\"#E5ECF6\",\"gridcolor\":\"white\",\"gridwidth\":2,\"linecolor\":\"white\",\"showbackground\":true,\"ticks\":\"\",\"zerolinecolor\":\"white\"},\"zaxis\":{\"backgroundcolor\":\"#E5ECF6\",\"gridcolor\":\"white\",\"gridwidth\":2,\"linecolor\":\"white\",\"showbackground\":true,\"ticks\":\"\",\"zerolinecolor\":\"white\"}},\"shapedefaults\":{\"line\":{\"color\":\"#2a3f5f\"}},\"ternary\":{\"aaxis\":{\"gridcolor\":\"white\",\"linecolor\":\"white\",\"ticks\":\"\"},\"baxis\":{\"gridcolor\":\"white\",\"linecolor\":\"white\",\"ticks\":\"\"},\"bgcolor\":\"#E5ECF6\",\"caxis\":{\"gridcolor\":\"white\",\"linecolor\":\"white\",\"ticks\":\"\"}},\"title\":{\"x\":0.05},\"xaxis\":{\"automargin\":true,\"gridcolor\":\"white\",\"linecolor\":\"white\",\"ticks\":\"\",\"title\":{\"standoff\":15},\"zerolinecolor\":\"white\",\"zerolinewidth\":2},\"yaxis\":{\"automargin\":true,\"gridcolor\":\"white\",\"linecolor\":\"white\",\"ticks\":\"\",\"title\":{\"standoff\":15},\"zerolinecolor\":\"white\",\"zerolinewidth\":2}}},\"xaxis\":{\"anchor\":\"y\",\"domain\":[0.0,1.0],\"title\":{\"text\":\"DATE\"}},\"yaxis\":{\"anchor\":\"x\",\"domain\":[0.0,1.0],\"title\":{\"text\":\"FREQUENCY\"}}},                        {\"responsive\": true}                    ).then(function(){\n",
       "                            \n",
       "var gd = document.getElementById('08e86539-ba7f-45be-829e-3fd3b6f36449');\n",
       "var x = new MutationObserver(function (mutations, observer) {{\n",
       "        var display = window.getComputedStyle(gd).display;\n",
       "        if (!display || display === 'none') {{\n",
       "            console.log([gd, 'removed!']);\n",
       "            Plotly.purge(gd);\n",
       "            observer.disconnect();\n",
       "        }}\n",
       "}});\n",
       "\n",
       "// Listen for the removal of the full notebook cells\n",
       "var notebookContainer = gd.closest('#notebook-container');\n",
       "if (notebookContainer) {{\n",
       "    x.observe(notebookContainer, {childList: true});\n",
       "}}\n",
       "\n",
       "// Listen for the clearing of the current output cell\n",
       "var outputEl = gd.closest('.output');\n",
       "if (outputEl) {{\n",
       "    x.observe(outputEl, {childList: true});\n",
       "}}\n",
       "\n",
       "                        })                };                });            </script>        </div>"
      ]
     },
     "metadata": {},
     "output_type": "display_data"
    },
    {
     "name": "stdout",
     "output_type": "stream",
     "text": [
      "Frequency of customer during the day:  FREQUENCY    299\n",
      "dtype: int64\n",
      "Frequency of customer during the night:  FREQUENCY    343\n",
      "dtype: int64\n"
     ]
    }
   ],
   "source": [
    "### 1. How many customers visit during the day and night?\n",
    "bb = laundryAnalaysis.groupby(['DATE','PART_OF_DAY']).size().reset_index()\n",
    "bb.rename(columns={0: 'FREQUENCY'}, inplace=True)\n",
    "\n",
    "\n",
    "fig = px.bar(bb, x=\"DATE\", y=\"FREQUENCY\",\n",
    "             color=\"PART_OF_DAY\", hover_data=['FREQUENCY'],\n",
    "             barmode = 'group')\n",
    "   \n",
    "fig.show()\n",
    "print('Frequency of customer during the day: ', bb[bb['PART_OF_DAY']=='Day'].sum())\n",
    "print('Frequency of customer during the night: ', bb[bb['PART_OF_DAY']=='Night'].sum())"
   ]
  },
  {
   "cell_type": "code",
   "execution_count": 137,
   "metadata": {},
   "outputs": [
    {
     "name": "stdout",
     "output_type": "stream",
     "text": [
      "Frequency of customer during the day:  FREQUENCY    299\n",
      "dtype: int64\n"
     ]
    }
   ],
   "source": [
    "print('Frequency of customer during the day: ', bb[bb['PART_OF_DAY']=='Day'].sum())"
   ]
  },
  {
   "cell_type": "code",
   "execution_count": 138,
   "metadata": {},
   "outputs": [
    {
     "name": "stdout",
     "output_type": "stream",
     "text": [
      "Frequency of customer during the night:  FREQUENCY    343\n",
      "dtype: int64\n"
     ]
    }
   ],
   "source": [
    "print('Frequency of customer during the night: ', bb[bb['PART_OF_DAY']=='Night'].sum())"
   ]
  },
  {
   "cell_type": "markdown",
   "metadata": {},
   "source": [
    "### 2. What type of customer visits laundry on weekend, weekdays, night and day ?"
   ]
  },
  {
   "cell_type": "code",
   "execution_count": 139,
   "metadata": {},
   "outputs": [],
   "source": [
    "#'AGE_CATEGORY', 'RACE', 'GENDER', 'WITH_KIDS'"
   ]
  },
  {
   "cell_type": "markdown",
   "metadata": {},
   "source": [
    "#### AGE CATEGORY\n",
    "##### weekend weekdays"
   ]
  },
  {
   "cell_type": "code",
   "execution_count": 140,
   "metadata": {},
   "outputs": [
    {
     "data": {
      "text/html": [
       "<div>\n",
       "<style scoped>\n",
       "    .dataframe tbody tr th:only-of-type {\n",
       "        vertical-align: middle;\n",
       "    }\n",
       "\n",
       "    .dataframe tbody tr th {\n",
       "        vertical-align: top;\n",
       "    }\n",
       "\n",
       "    .dataframe thead th {\n",
       "        text-align: right;\n",
       "    }\n",
       "</style>\n",
       "<table border=\"1\" class=\"dataframe\">\n",
       "  <thead>\n",
       "    <tr style=\"text-align: right;\">\n",
       "      <th></th>\n",
       "      <th>NO</th>\n",
       "      <th>DATE</th>\n",
       "      <th>TIME</th>\n",
       "      <th>RACE</th>\n",
       "      <th>GENDER</th>\n",
       "      <th>BODY_SIZE</th>\n",
       "      <th>AGE_RANGE</th>\n",
       "      <th>WITH_KIDS</th>\n",
       "      <th>KIDS_CATEGORY</th>\n",
       "      <th>BASKET_SIZE</th>\n",
       "      <th>...</th>\n",
       "      <th>PANTS_COLOUR</th>\n",
       "      <th>PANTS_TYPE</th>\n",
       "      <th>WASH_ITEM</th>\n",
       "      <th>WASHER_NO</th>\n",
       "      <th>DRYER_NO</th>\n",
       "      <th>SPECTACLES</th>\n",
       "      <th>PART_OF_DAY</th>\n",
       "      <th>PART_OF_WEEK</th>\n",
       "      <th>AGE_CATEGORY</th>\n",
       "      <th>WW</th>\n",
       "    </tr>\n",
       "  </thead>\n",
       "  <tbody>\n",
       "    <tr>\n",
       "      <th>0</th>\n",
       "      <td>1</td>\n",
       "      <td>2015-10-19</td>\n",
       "      <td>20:17:50</td>\n",
       "      <td>malay</td>\n",
       "      <td>male</td>\n",
       "      <td>moderate</td>\n",
       "      <td>28.0</td>\n",
       "      <td>yes</td>\n",
       "      <td>young</td>\n",
       "      <td>big</td>\n",
       "      <td>...</td>\n",
       "      <td>black</td>\n",
       "      <td>short</td>\n",
       "      <td>clothes</td>\n",
       "      <td>3</td>\n",
       "      <td>10</td>\n",
       "      <td>no</td>\n",
       "      <td>Night</td>\n",
       "      <td>Monday</td>\n",
       "      <td>Young</td>\n",
       "      <td>Weekdays</td>\n",
       "    </tr>\n",
       "    <tr>\n",
       "      <th>1</th>\n",
       "      <td>2</td>\n",
       "      <td>2015-10-19</td>\n",
       "      <td>20:28:42</td>\n",
       "      <td>indian</td>\n",
       "      <td>male</td>\n",
       "      <td>thin</td>\n",
       "      <td>32.0</td>\n",
       "      <td>no</td>\n",
       "      <td>no_kids</td>\n",
       "      <td>big</td>\n",
       "      <td>...</td>\n",
       "      <td>blue_jeans</td>\n",
       "      <td>long</td>\n",
       "      <td>clothes</td>\n",
       "      <td>6</td>\n",
       "      <td>9</td>\n",
       "      <td>no</td>\n",
       "      <td>Night</td>\n",
       "      <td>Monday</td>\n",
       "      <td>Adults</td>\n",
       "      <td>Weekdays</td>\n",
       "    </tr>\n",
       "    <tr>\n",
       "      <th>2</th>\n",
       "      <td>3</td>\n",
       "      <td>2015-10-19</td>\n",
       "      <td>20:58:31</td>\n",
       "      <td>malay</td>\n",
       "      <td>female</td>\n",
       "      <td>moderate</td>\n",
       "      <td>30.0</td>\n",
       "      <td>no</td>\n",
       "      <td>no_kids</td>\n",
       "      <td>big</td>\n",
       "      <td>...</td>\n",
       "      <td>black</td>\n",
       "      <td>long</td>\n",
       "      <td>clothes</td>\n",
       "      <td>4</td>\n",
       "      <td>10</td>\n",
       "      <td>no</td>\n",
       "      <td>Night</td>\n",
       "      <td>Monday</td>\n",
       "      <td>Young</td>\n",
       "      <td>Weekdays</td>\n",
       "    </tr>\n",
       "    <tr>\n",
       "      <th>4</th>\n",
       "      <td>5</td>\n",
       "      <td>2015-10-19</td>\n",
       "      <td>21:40:28</td>\n",
       "      <td>indian</td>\n",
       "      <td>male</td>\n",
       "      <td>moderate</td>\n",
       "      <td>34.0</td>\n",
       "      <td>no</td>\n",
       "      <td>no_kids</td>\n",
       "      <td>big</td>\n",
       "      <td>...</td>\n",
       "      <td>white</td>\n",
       "      <td>long</td>\n",
       "      <td>clothes</td>\n",
       "      <td>3</td>\n",
       "      <td>9</td>\n",
       "      <td>no</td>\n",
       "      <td>Night</td>\n",
       "      <td>Monday</td>\n",
       "      <td>Adults</td>\n",
       "      <td>Weekdays</td>\n",
       "    </tr>\n",
       "    <tr>\n",
       "      <th>8</th>\n",
       "      <td>9</td>\n",
       "      <td>2015-10-20</td>\n",
       "      <td>00:45:19</td>\n",
       "      <td>indian</td>\n",
       "      <td>male</td>\n",
       "      <td>thin</td>\n",
       "      <td>30.0</td>\n",
       "      <td>no</td>\n",
       "      <td>no_kids</td>\n",
       "      <td>small</td>\n",
       "      <td>...</td>\n",
       "      <td>black</td>\n",
       "      <td>short</td>\n",
       "      <td>clothes</td>\n",
       "      <td>6</td>\n",
       "      <td>10</td>\n",
       "      <td>no</td>\n",
       "      <td>Night</td>\n",
       "      <td>Tuesday</td>\n",
       "      <td>Young</td>\n",
       "      <td>Weekdays</td>\n",
       "    </tr>\n",
       "    <tr>\n",
       "      <th>...</th>\n",
       "      <td>...</td>\n",
       "      <td>...</td>\n",
       "      <td>...</td>\n",
       "      <td>...</td>\n",
       "      <td>...</td>\n",
       "      <td>...</td>\n",
       "      <td>...</td>\n",
       "      <td>...</td>\n",
       "      <td>...</td>\n",
       "      <td>...</td>\n",
       "      <td>...</td>\n",
       "      <td>...</td>\n",
       "      <td>...</td>\n",
       "      <td>...</td>\n",
       "      <td>...</td>\n",
       "      <td>...</td>\n",
       "      <td>...</td>\n",
       "      <td>...</td>\n",
       "      <td>...</td>\n",
       "      <td>...</td>\n",
       "      <td>...</td>\n",
       "    </tr>\n",
       "    <tr>\n",
       "      <th>802</th>\n",
       "      <td>803</td>\n",
       "      <td>2015-12-09</td>\n",
       "      <td>20:05:46</td>\n",
       "      <td>malay</td>\n",
       "      <td>female</td>\n",
       "      <td>moderate</td>\n",
       "      <td>45.0</td>\n",
       "      <td>no</td>\n",
       "      <td>no_kids</td>\n",
       "      <td>small</td>\n",
       "      <td>...</td>\n",
       "      <td>black</td>\n",
       "      <td>long</td>\n",
       "      <td>clothes</td>\n",
       "      <td>3</td>\n",
       "      <td>10</td>\n",
       "      <td>no</td>\n",
       "      <td>Night</td>\n",
       "      <td>Wednesday</td>\n",
       "      <td>Adults</td>\n",
       "      <td>Weekdays</td>\n",
       "    </tr>\n",
       "    <tr>\n",
       "      <th>803</th>\n",
       "      <td>804</td>\n",
       "      <td>2015-12-09</td>\n",
       "      <td>20:33:01</td>\n",
       "      <td>malay</td>\n",
       "      <td>male</td>\n",
       "      <td>fat</td>\n",
       "      <td>34.0</td>\n",
       "      <td>no</td>\n",
       "      <td>no_kids</td>\n",
       "      <td>big</td>\n",
       "      <td>...</td>\n",
       "      <td>black</td>\n",
       "      <td>long</td>\n",
       "      <td>blankets</td>\n",
       "      <td>3</td>\n",
       "      <td>7</td>\n",
       "      <td>no</td>\n",
       "      <td>Night</td>\n",
       "      <td>Wednesday</td>\n",
       "      <td>Adults</td>\n",
       "      <td>Weekdays</td>\n",
       "    </tr>\n",
       "    <tr>\n",
       "      <th>804</th>\n",
       "      <td>805</td>\n",
       "      <td>2015-12-09</td>\n",
       "      <td>20:37:01</td>\n",
       "      <td>malay</td>\n",
       "      <td>female</td>\n",
       "      <td>moderate</td>\n",
       "      <td>53.0</td>\n",
       "      <td>no</td>\n",
       "      <td>no_kids</td>\n",
       "      <td>big</td>\n",
       "      <td>...</td>\n",
       "      <td>pink</td>\n",
       "      <td>long</td>\n",
       "      <td>clothes</td>\n",
       "      <td>3</td>\n",
       "      <td>7</td>\n",
       "      <td>yes</td>\n",
       "      <td>Night</td>\n",
       "      <td>Wednesday</td>\n",
       "      <td>Older adults</td>\n",
       "      <td>Weekdays</td>\n",
       "    </tr>\n",
       "    <tr>\n",
       "      <th>805</th>\n",
       "      <td>806</td>\n",
       "      <td>2015-12-09</td>\n",
       "      <td>20:42:57</td>\n",
       "      <td>indian</td>\n",
       "      <td>female</td>\n",
       "      <td>moderate</td>\n",
       "      <td>37.0</td>\n",
       "      <td>no</td>\n",
       "      <td>no_kids</td>\n",
       "      <td>big</td>\n",
       "      <td>...</td>\n",
       "      <td>black</td>\n",
       "      <td>long</td>\n",
       "      <td>clothes</td>\n",
       "      <td>6</td>\n",
       "      <td>10</td>\n",
       "      <td>no</td>\n",
       "      <td>Night</td>\n",
       "      <td>Wednesday</td>\n",
       "      <td>Adults</td>\n",
       "      <td>Weekdays</td>\n",
       "    </tr>\n",
       "    <tr>\n",
       "      <th>806</th>\n",
       "      <td>807</td>\n",
       "      <td>2015-12-09</td>\n",
       "      <td>20:43:20</td>\n",
       "      <td>malay</td>\n",
       "      <td>male</td>\n",
       "      <td>moderate</td>\n",
       "      <td>29.0</td>\n",
       "      <td>no</td>\n",
       "      <td>no_kids</td>\n",
       "      <td>big</td>\n",
       "      <td>...</td>\n",
       "      <td>black</td>\n",
       "      <td>long</td>\n",
       "      <td>blankets</td>\n",
       "      <td>4</td>\n",
       "      <td>8</td>\n",
       "      <td>no</td>\n",
       "      <td>Night</td>\n",
       "      <td>Wednesday</td>\n",
       "      <td>Young</td>\n",
       "      <td>Weekdays</td>\n",
       "    </tr>\n",
       "  </tbody>\n",
       "</table>\n",
       "<p>642 rows × 24 columns</p>\n",
       "</div>"
      ],
      "text/plain": [
       "      NO       DATE      TIME    RACE  GENDER BODY_SIZE  AGE_RANGE WITH_KIDS  \\\n",
       "0      1 2015-10-19  20:17:50   malay    male  moderate       28.0       yes   \n",
       "1      2 2015-10-19  20:28:42  indian    male      thin       32.0        no   \n",
       "2      3 2015-10-19  20:58:31   malay  female  moderate       30.0        no   \n",
       "4      5 2015-10-19  21:40:28  indian    male  moderate       34.0        no   \n",
       "8      9 2015-10-20  00:45:19  indian    male      thin       30.0        no   \n",
       "..   ...        ...       ...     ...     ...       ...        ...       ...   \n",
       "802  803 2015-12-09  20:05:46   malay  female  moderate       45.0        no   \n",
       "803  804 2015-12-09  20:33:01   malay    male       fat       34.0        no   \n",
       "804  805 2015-12-09  20:37:01   malay  female  moderate       53.0        no   \n",
       "805  806 2015-12-09  20:42:57  indian  female  moderate       37.0        no   \n",
       "806  807 2015-12-09  20:43:20   malay    male  moderate       29.0        no   \n",
       "\n",
       "    KIDS_CATEGORY BASKET_SIZE  ... PANTS_COLOUR PANTS_TYPE WASH_ITEM  \\\n",
       "0           young         big  ...        black      short   clothes   \n",
       "1         no_kids         big  ...   blue_jeans       long   clothes   \n",
       "2         no_kids         big  ...        black       long   clothes   \n",
       "4         no_kids         big  ...        white       long   clothes   \n",
       "8         no_kids       small  ...        black      short   clothes   \n",
       "..            ...         ...  ...          ...        ...       ...   \n",
       "802       no_kids       small  ...        black       long   clothes   \n",
       "803       no_kids         big  ...        black       long  blankets   \n",
       "804       no_kids         big  ...         pink       long   clothes   \n",
       "805       no_kids         big  ...        black       long   clothes   \n",
       "806       no_kids         big  ...        black       long  blankets   \n",
       "\n",
       "    WASHER_NO DRYER_NO SPECTACLES PART_OF_DAY  PART_OF_WEEK  AGE_CATEGORY  \\\n",
       "0           3       10         no       Night        Monday         Young   \n",
       "1           6        9         no       Night        Monday        Adults   \n",
       "2           4       10         no       Night        Monday         Young   \n",
       "4           3        9         no       Night        Monday        Adults   \n",
       "8           6       10         no       Night       Tuesday         Young   \n",
       "..        ...      ...        ...         ...           ...           ...   \n",
       "802         3       10         no       Night     Wednesday        Adults   \n",
       "803         3        7         no       Night     Wednesday        Adults   \n",
       "804         3        7        yes       Night     Wednesday  Older adults   \n",
       "805         6       10         no       Night     Wednesday        Adults   \n",
       "806         4        8         no       Night     Wednesday         Young   \n",
       "\n",
       "           WW  \n",
       "0    Weekdays  \n",
       "1    Weekdays  \n",
       "2    Weekdays  \n",
       "4    Weekdays  \n",
       "8    Weekdays  \n",
       "..        ...  \n",
       "802  Weekdays  \n",
       "803  Weekdays  \n",
       "804  Weekdays  \n",
       "805  Weekdays  \n",
       "806  Weekdays  \n",
       "\n",
       "[642 rows x 24 columns]"
      ]
     },
     "execution_count": 140,
     "metadata": {},
     "output_type": "execute_result"
    }
   ],
   "source": [
    "ld2 = laundry.copy()\n",
    "#ld2['weekend'] = ld2['PART_OF_WEEK'].isin(['Saturday', 'Sunday'])\n",
    "\n",
    "mappingtoWW = {'Monday': 'Weekdays','Tuesday': 'Weekdays','Wednesday': 'Weekdays','Thursday': 'Weekdays','Friday': 'Weekdays','Saturday': 'Weekend','Sunday': 'Weekend'}\n",
    "\n",
    "ld2['WW'] = laundry['PART_OF_WEEK'].map(mappingtoWW)\n",
    "ld2['WW'].head()\n",
    "ld2"
   ]
  },
  {
   "cell_type": "code",
   "execution_count": 141,
   "metadata": {},
   "outputs": [
    {
     "data": {
      "text/html": [
       "<div>\n",
       "<style scoped>\n",
       "    .dataframe tbody tr th:only-of-type {\n",
       "        vertical-align: middle;\n",
       "    }\n",
       "\n",
       "    .dataframe tbody tr th {\n",
       "        vertical-align: top;\n",
       "    }\n",
       "\n",
       "    .dataframe thead th {\n",
       "        text-align: right;\n",
       "    }\n",
       "</style>\n",
       "<table border=\"1\" class=\"dataframe\">\n",
       "  <thead>\n",
       "    <tr style=\"text-align: right;\">\n",
       "      <th></th>\n",
       "      <th>WW</th>\n",
       "      <th>AGE_CATEGORY</th>\n",
       "      <th>FREQUENCY</th>\n",
       "    </tr>\n",
       "  </thead>\n",
       "  <tbody>\n",
       "    <tr>\n",
       "      <th>0</th>\n",
       "      <td>Weekdays</td>\n",
       "      <td>Young</td>\n",
       "      <td>35</td>\n",
       "    </tr>\n",
       "    <tr>\n",
       "      <th>1</th>\n",
       "      <td>Weekdays</td>\n",
       "      <td>Adults</td>\n",
       "      <td>198</td>\n",
       "    </tr>\n",
       "    <tr>\n",
       "      <th>2</th>\n",
       "      <td>Weekdays</td>\n",
       "      <td>Older adults</td>\n",
       "      <td>138</td>\n",
       "    </tr>\n",
       "    <tr>\n",
       "      <th>3</th>\n",
       "      <td>Weekend</td>\n",
       "      <td>Young</td>\n",
       "      <td>28</td>\n",
       "    </tr>\n",
       "    <tr>\n",
       "      <th>4</th>\n",
       "      <td>Weekend</td>\n",
       "      <td>Adults</td>\n",
       "      <td>133</td>\n",
       "    </tr>\n",
       "    <tr>\n",
       "      <th>5</th>\n",
       "      <td>Weekend</td>\n",
       "      <td>Older adults</td>\n",
       "      <td>110</td>\n",
       "    </tr>\n",
       "  </tbody>\n",
       "</table>\n",
       "</div>"
      ],
      "text/plain": [
       "         WW  AGE_CATEGORY  FREQUENCY\n",
       "0  Weekdays         Young         35\n",
       "1  Weekdays        Adults        198\n",
       "2  Weekdays  Older adults        138\n",
       "3   Weekend         Young         28\n",
       "4   Weekend        Adults        133\n",
       "5   Weekend  Older adults        110"
      ]
     },
     "execution_count": 141,
     "metadata": {},
     "output_type": "execute_result"
    }
   ],
   "source": [
    "ac_ww = ld2.groupby(['WW','AGE_CATEGORY']).size().reset_index()\n",
    "ac_ww.rename(columns={0: 'FREQUENCY'}, inplace=True)\n",
    "ac_ww"
   ]
  },
  {
   "cell_type": "code",
   "execution_count": 210,
   "metadata": {},
   "outputs": [
    {
     "name": "stdout",
     "output_type": "stream",
     "text": [
      "age range information : \n",
      "YOUNG : < 30\n",
      "ADULTS : 30 - 44\n",
      "OLDER ADULTS : > 44\n"
     ]
    },
    {
     "data": {
      "text/html": [
       "\n",
       "<div id=\"altair-viz-13f8574bbe7a4fbda74d5a1f251a60e7\"></div>\n",
       "<script type=\"text/javascript\">\n",
       "  (function(spec, embedOpt){\n",
       "    let outputDiv = document.currentScript.previousElementSibling;\n",
       "    if (outputDiv.id !== \"altair-viz-13f8574bbe7a4fbda74d5a1f251a60e7\") {\n",
       "      outputDiv = document.getElementById(\"altair-viz-13f8574bbe7a4fbda74d5a1f251a60e7\");\n",
       "    }\n",
       "    const paths = {\n",
       "      \"vega\": \"https://cdn.jsdelivr.net/npm//vega@5?noext\",\n",
       "      \"vega-lib\": \"https://cdn.jsdelivr.net/npm//vega-lib?noext\",\n",
       "      \"vega-lite\": \"https://cdn.jsdelivr.net/npm//vega-lite@4.8.1?noext\",\n",
       "      \"vega-embed\": \"https://cdn.jsdelivr.net/npm//vega-embed@6?noext\",\n",
       "    };\n",
       "\n",
       "    function loadScript(lib) {\n",
       "      return new Promise(function(resolve, reject) {\n",
       "        var s = document.createElement('script');\n",
       "        s.src = paths[lib];\n",
       "        s.async = true;\n",
       "        s.onload = () => resolve(paths[lib]);\n",
       "        s.onerror = () => reject(`Error loading script: ${paths[lib]}`);\n",
       "        document.getElementsByTagName(\"head\")[0].appendChild(s);\n",
       "      });\n",
       "    }\n",
       "\n",
       "    function showError(err) {\n",
       "      outputDiv.innerHTML = `<div class=\"error\" style=\"color:red;\">${err}</div>`;\n",
       "      throw err;\n",
       "    }\n",
       "\n",
       "    function displayChart(vegaEmbed) {\n",
       "      vegaEmbed(outputDiv, spec, embedOpt)\n",
       "        .catch(err => showError(`Javascript Error: ${err.message}<br>This usually means there's a typo in your chart specification. See the javascript console for the full traceback.`));\n",
       "    }\n",
       "\n",
       "    if(typeof define === \"function\" && define.amd) {\n",
       "      requirejs.config({paths});\n",
       "      require([\"vega-embed\"], displayChart, err => showError(`Error loading script: ${err.message}`));\n",
       "    } else if (typeof vegaEmbed === \"function\") {\n",
       "      displayChart(vegaEmbed);\n",
       "    } else {\n",
       "      loadScript(\"vega\")\n",
       "        .then(() => loadScript(\"vega-lite\"))\n",
       "        .then(() => loadScript(\"vega-embed\"))\n",
       "        .catch(showError)\n",
       "        .then(() => displayChart(vegaEmbed));\n",
       "    }\n",
       "  })({\"config\": {\"view\": {\"continuousWidth\": 400, \"continuousHeight\": 300}}, \"data\": {\"name\": \"data-2b2cee0b311f2b712363b99bf91dbd58\"}, \"mark\": \"bar\", \"encoding\": {\"color\": {\"type\": \"nominal\", \"field\": \"AGE_CATEGORY\", \"scale\": {\"range\": [\"#581845\", \"#C70039\", \"#FFC300\"]}}, \"x\": {\"type\": \"nominal\", \"field\": \"WW\"}, \"y\": {\"type\": \"quantitative\", \"field\": \"FREQUENCY\"}}, \"width\": 250, \"$schema\": \"https://vega.github.io/schema/vega-lite/v4.8.1.json\", \"datasets\": {\"data-2b2cee0b311f2b712363b99bf91dbd58\": [{\"WW\": \"Weekdays\", \"AGE_CATEGORY\": \"Young\", \"FREQUENCY\": 35}, {\"WW\": \"Weekdays\", \"AGE_CATEGORY\": \"Adults\", \"FREQUENCY\": 198}, {\"WW\": \"Weekdays\", \"AGE_CATEGORY\": \"Older adults\", \"FREQUENCY\": 138}, {\"WW\": \"Weekend\", \"AGE_CATEGORY\": \"Young\", \"FREQUENCY\": 28}, {\"WW\": \"Weekend\", \"AGE_CATEGORY\": \"Adults\", \"FREQUENCY\": 133}, {\"WW\": \"Weekend\", \"AGE_CATEGORY\": \"Older adults\", \"FREQUENCY\": 110}]}}, {\"mode\": \"vega-lite\"});\n",
       "</script>"
      ],
      "text/plain": [
       "alt.Chart(...)"
      ]
     },
     "execution_count": 210,
     "metadata": {},
     "output_type": "execute_result"
    }
   ],
   "source": [
    "print(\"age range information : \")\n",
    "print(\"YOUNG : < 30\")\n",
    "print(\"ADULTS : 30 - 44\")\n",
    "print(\"OLDER ADULTS : > 44\")\n",
    "chart = alt.Chart(ac_ww).mark_bar().encode(\n",
    "    x='WW',\n",
    "    y='FREQUENCY',\n",
    "    color=alt.Color('AGE_CATEGORY', scale=alt.Scale(range=[\"#581845\",\"#C70039\", \"#FFC300\"]))\n",
    ").properties(\n",
    "    width=250  \n",
    ")\n",
    "\n",
    "\n",
    "chart"
   ]
  },
  {
   "cell_type": "markdown",
   "metadata": {},
   "source": [
    "#### RACE\n",
    "##### Weekend Weekdays"
   ]
  },
  {
   "cell_type": "code",
   "execution_count": 145,
   "metadata": {},
   "outputs": [
    {
     "data": {
      "text/html": [
       "<div>\n",
       "<style scoped>\n",
       "    .dataframe tbody tr th:only-of-type {\n",
       "        vertical-align: middle;\n",
       "    }\n",
       "\n",
       "    .dataframe tbody tr th {\n",
       "        vertical-align: top;\n",
       "    }\n",
       "\n",
       "    .dataframe thead th {\n",
       "        text-align: right;\n",
       "    }\n",
       "</style>\n",
       "<table border=\"1\" class=\"dataframe\">\n",
       "  <thead>\n",
       "    <tr style=\"text-align: right;\">\n",
       "      <th></th>\n",
       "      <th>WW</th>\n",
       "      <th>RACE</th>\n",
       "      <th>FREQUENCY</th>\n",
       "    </tr>\n",
       "  </thead>\n",
       "  <tbody>\n",
       "    <tr>\n",
       "      <th>0</th>\n",
       "      <td>Weekdays</td>\n",
       "      <td>chinese</td>\n",
       "      <td>83</td>\n",
       "    </tr>\n",
       "    <tr>\n",
       "      <th>1</th>\n",
       "      <td>Weekdays</td>\n",
       "      <td>foreigner</td>\n",
       "      <td>41</td>\n",
       "    </tr>\n",
       "    <tr>\n",
       "      <th>2</th>\n",
       "      <td>Weekdays</td>\n",
       "      <td>indian</td>\n",
       "      <td>115</td>\n",
       "    </tr>\n",
       "    <tr>\n",
       "      <th>3</th>\n",
       "      <td>Weekdays</td>\n",
       "      <td>malay</td>\n",
       "      <td>132</td>\n",
       "    </tr>\n",
       "    <tr>\n",
       "      <th>4</th>\n",
       "      <td>Weekend</td>\n",
       "      <td>chinese</td>\n",
       "      <td>96</td>\n",
       "    </tr>\n",
       "    <tr>\n",
       "      <th>5</th>\n",
       "      <td>Weekend</td>\n",
       "      <td>foreigner</td>\n",
       "      <td>31</td>\n",
       "    </tr>\n",
       "    <tr>\n",
       "      <th>6</th>\n",
       "      <td>Weekend</td>\n",
       "      <td>indian</td>\n",
       "      <td>99</td>\n",
       "    </tr>\n",
       "    <tr>\n",
       "      <th>7</th>\n",
       "      <td>Weekend</td>\n",
       "      <td>malay</td>\n",
       "      <td>45</td>\n",
       "    </tr>\n",
       "  </tbody>\n",
       "</table>\n",
       "</div>"
      ],
      "text/plain": [
       "         WW        RACE  FREQUENCY\n",
       "0  Weekdays     chinese         83\n",
       "1  Weekdays  foreigner          41\n",
       "2  Weekdays      indian        115\n",
       "3  Weekdays       malay        132\n",
       "4   Weekend     chinese         96\n",
       "5   Weekend  foreigner          31\n",
       "6   Weekend      indian         99\n",
       "7   Weekend       malay         45"
      ]
     },
     "execution_count": 145,
     "metadata": {},
     "output_type": "execute_result"
    }
   ],
   "source": [
    "r_ww = ld2.groupby(['WW','RACE']).size().reset_index()\n",
    "r_ww.rename(columns={0: 'FREQUENCY'}, inplace=True)\n",
    "r_ww"
   ]
  },
  {
   "cell_type": "code",
   "execution_count": 212,
   "metadata": {},
   "outputs": [
    {
     "data": {
      "text/html": [
       "\n",
       "<div id=\"altair-viz-c7b18f0df23c4e1781d573b21e665171\"></div>\n",
       "<script type=\"text/javascript\">\n",
       "  (function(spec, embedOpt){\n",
       "    let outputDiv = document.currentScript.previousElementSibling;\n",
       "    if (outputDiv.id !== \"altair-viz-c7b18f0df23c4e1781d573b21e665171\") {\n",
       "      outputDiv = document.getElementById(\"altair-viz-c7b18f0df23c4e1781d573b21e665171\");\n",
       "    }\n",
       "    const paths = {\n",
       "      \"vega\": \"https://cdn.jsdelivr.net/npm//vega@5?noext\",\n",
       "      \"vega-lib\": \"https://cdn.jsdelivr.net/npm//vega-lib?noext\",\n",
       "      \"vega-lite\": \"https://cdn.jsdelivr.net/npm//vega-lite@4.8.1?noext\",\n",
       "      \"vega-embed\": \"https://cdn.jsdelivr.net/npm//vega-embed@6?noext\",\n",
       "    };\n",
       "\n",
       "    function loadScript(lib) {\n",
       "      return new Promise(function(resolve, reject) {\n",
       "        var s = document.createElement('script');\n",
       "        s.src = paths[lib];\n",
       "        s.async = true;\n",
       "        s.onload = () => resolve(paths[lib]);\n",
       "        s.onerror = () => reject(`Error loading script: ${paths[lib]}`);\n",
       "        document.getElementsByTagName(\"head\")[0].appendChild(s);\n",
       "      });\n",
       "    }\n",
       "\n",
       "    function showError(err) {\n",
       "      outputDiv.innerHTML = `<div class=\"error\" style=\"color:red;\">${err}</div>`;\n",
       "      throw err;\n",
       "    }\n",
       "\n",
       "    function displayChart(vegaEmbed) {\n",
       "      vegaEmbed(outputDiv, spec, embedOpt)\n",
       "        .catch(err => showError(`Javascript Error: ${err.message}<br>This usually means there's a typo in your chart specification. See the javascript console for the full traceback.`));\n",
       "    }\n",
       "\n",
       "    if(typeof define === \"function\" && define.amd) {\n",
       "      requirejs.config({paths});\n",
       "      require([\"vega-embed\"], displayChart, err => showError(`Error loading script: ${err.message}`));\n",
       "    } else if (typeof vegaEmbed === \"function\") {\n",
       "      displayChart(vegaEmbed);\n",
       "    } else {\n",
       "      loadScript(\"vega\")\n",
       "        .then(() => loadScript(\"vega-lite\"))\n",
       "        .then(() => loadScript(\"vega-embed\"))\n",
       "        .catch(showError)\n",
       "        .then(() => displayChart(vegaEmbed));\n",
       "    }\n",
       "  })({\"config\": {\"view\": {\"continuousWidth\": 400, \"continuousHeight\": 300}}, \"data\": {\"name\": \"data-d8ffb75922bc26ccf0811aed0d4b9f29\"}, \"mark\": \"bar\", \"encoding\": {\"color\": {\"type\": \"nominal\", \"field\": \"RACE\", \"scale\": {\"range\": [\"#87F5D7\", \"#87F5A0\", \"#F5A087\", \"#F5D787\"]}}, \"x\": {\"type\": \"nominal\", \"field\": \"WW\"}, \"y\": {\"type\": \"quantitative\", \"field\": \"FREQUENCY\"}}, \"width\": 250, \"$schema\": \"https://vega.github.io/schema/vega-lite/v4.8.1.json\", \"datasets\": {\"data-d8ffb75922bc26ccf0811aed0d4b9f29\": [{\"WW\": \"Weekdays\", \"RACE\": \"chinese\", \"FREQUENCY\": 83}, {\"WW\": \"Weekdays\", \"RACE\": \"foreigner \", \"FREQUENCY\": 41}, {\"WW\": \"Weekdays\", \"RACE\": \"indian\", \"FREQUENCY\": 115}, {\"WW\": \"Weekdays\", \"RACE\": \"malay\", \"FREQUENCY\": 132}, {\"WW\": \"Weekend\", \"RACE\": \"chinese\", \"FREQUENCY\": 96}, {\"WW\": \"Weekend\", \"RACE\": \"foreigner \", \"FREQUENCY\": 31}, {\"WW\": \"Weekend\", \"RACE\": \"indian\", \"FREQUENCY\": 99}, {\"WW\": \"Weekend\", \"RACE\": \"malay\", \"FREQUENCY\": 45}]}}, {\"mode\": \"vega-lite\"});\n",
       "</script>"
      ],
      "text/plain": [
       "alt.Chart(...)"
      ]
     },
     "execution_count": 212,
     "metadata": {},
     "output_type": "execute_result"
    }
   ],
   "source": [
    "chart = alt.Chart(r_ww).mark_bar().encode(\n",
    "    x='WW',\n",
    "    y='FREQUENCY',\n",
    "    color=alt.Color('RACE', scale=alt.Scale(range=[\"#87F5D7\",\"#87F5A0\", \"#F5A087\", \"#F5D787\"]))\n",
    ").properties(\n",
    "    width=250  \n",
    ")\n",
    "\n",
    "\n",
    "chart"
   ]
  },
  {
   "cell_type": "markdown",
   "metadata": {},
   "source": [
    "##### Day and Night"
   ]
  },
  {
   "cell_type": "code",
   "execution_count": 147,
   "metadata": {},
   "outputs": [
    {
     "data": {
      "text/html": [
       "<div>\n",
       "<style scoped>\n",
       "    .dataframe tbody tr th:only-of-type {\n",
       "        vertical-align: middle;\n",
       "    }\n",
       "\n",
       "    .dataframe tbody tr th {\n",
       "        vertical-align: top;\n",
       "    }\n",
       "\n",
       "    .dataframe thead th {\n",
       "        text-align: right;\n",
       "    }\n",
       "</style>\n",
       "<table border=\"1\" class=\"dataframe\">\n",
       "  <thead>\n",
       "    <tr style=\"text-align: right;\">\n",
       "      <th></th>\n",
       "      <th>PART_OF_DAY</th>\n",
       "      <th>RACE</th>\n",
       "      <th>FREQUENCY</th>\n",
       "    </tr>\n",
       "  </thead>\n",
       "  <tbody>\n",
       "    <tr>\n",
       "      <th>0</th>\n",
       "      <td>Day</td>\n",
       "      <td>chinese</td>\n",
       "      <td>72</td>\n",
       "    </tr>\n",
       "    <tr>\n",
       "      <th>1</th>\n",
       "      <td>Day</td>\n",
       "      <td>foreigner</td>\n",
       "      <td>29</td>\n",
       "    </tr>\n",
       "    <tr>\n",
       "      <th>2</th>\n",
       "      <td>Day</td>\n",
       "      <td>indian</td>\n",
       "      <td>101</td>\n",
       "    </tr>\n",
       "    <tr>\n",
       "      <th>3</th>\n",
       "      <td>Day</td>\n",
       "      <td>malay</td>\n",
       "      <td>97</td>\n",
       "    </tr>\n",
       "    <tr>\n",
       "      <th>4</th>\n",
       "      <td>Night</td>\n",
       "      <td>chinese</td>\n",
       "      <td>107</td>\n",
       "    </tr>\n",
       "    <tr>\n",
       "      <th>5</th>\n",
       "      <td>Night</td>\n",
       "      <td>foreigner</td>\n",
       "      <td>43</td>\n",
       "    </tr>\n",
       "    <tr>\n",
       "      <th>6</th>\n",
       "      <td>Night</td>\n",
       "      <td>indian</td>\n",
       "      <td>113</td>\n",
       "    </tr>\n",
       "    <tr>\n",
       "      <th>7</th>\n",
       "      <td>Night</td>\n",
       "      <td>malay</td>\n",
       "      <td>80</td>\n",
       "    </tr>\n",
       "  </tbody>\n",
       "</table>\n",
       "</div>"
      ],
      "text/plain": [
       "  PART_OF_DAY        RACE  FREQUENCY\n",
       "0         Day     chinese         72\n",
       "1         Day  foreigner          29\n",
       "2         Day      indian        101\n",
       "3         Day       malay         97\n",
       "4       Night     chinese        107\n",
       "5       Night  foreigner          43\n",
       "6       Night      indian        113\n",
       "7       Night       malay         80"
      ]
     },
     "execution_count": 147,
     "metadata": {},
     "output_type": "execute_result"
    }
   ],
   "source": [
    "r_dn = ld2.groupby(['PART_OF_DAY','RACE']).size().reset_index()\n",
    "r_dn.rename(columns={0: 'FREQUENCY'}, inplace=True)\n",
    "r_dn"
   ]
  },
  {
   "cell_type": "code",
   "execution_count": 213,
   "metadata": {},
   "outputs": [
    {
     "data": {
      "text/html": [
       "\n",
       "<div id=\"altair-viz-359362c993084981b375166905ce68e4\"></div>\n",
       "<script type=\"text/javascript\">\n",
       "  (function(spec, embedOpt){\n",
       "    let outputDiv = document.currentScript.previousElementSibling;\n",
       "    if (outputDiv.id !== \"altair-viz-359362c993084981b375166905ce68e4\") {\n",
       "      outputDiv = document.getElementById(\"altair-viz-359362c993084981b375166905ce68e4\");\n",
       "    }\n",
       "    const paths = {\n",
       "      \"vega\": \"https://cdn.jsdelivr.net/npm//vega@5?noext\",\n",
       "      \"vega-lib\": \"https://cdn.jsdelivr.net/npm//vega-lib?noext\",\n",
       "      \"vega-lite\": \"https://cdn.jsdelivr.net/npm//vega-lite@4.8.1?noext\",\n",
       "      \"vega-embed\": \"https://cdn.jsdelivr.net/npm//vega-embed@6?noext\",\n",
       "    };\n",
       "\n",
       "    function loadScript(lib) {\n",
       "      return new Promise(function(resolve, reject) {\n",
       "        var s = document.createElement('script');\n",
       "        s.src = paths[lib];\n",
       "        s.async = true;\n",
       "        s.onload = () => resolve(paths[lib]);\n",
       "        s.onerror = () => reject(`Error loading script: ${paths[lib]}`);\n",
       "        document.getElementsByTagName(\"head\")[0].appendChild(s);\n",
       "      });\n",
       "    }\n",
       "\n",
       "    function showError(err) {\n",
       "      outputDiv.innerHTML = `<div class=\"error\" style=\"color:red;\">${err}</div>`;\n",
       "      throw err;\n",
       "    }\n",
       "\n",
       "    function displayChart(vegaEmbed) {\n",
       "      vegaEmbed(outputDiv, spec, embedOpt)\n",
       "        .catch(err => showError(`Javascript Error: ${err.message}<br>This usually means there's a typo in your chart specification. See the javascript console for the full traceback.`));\n",
       "    }\n",
       "\n",
       "    if(typeof define === \"function\" && define.amd) {\n",
       "      requirejs.config({paths});\n",
       "      require([\"vega-embed\"], displayChart, err => showError(`Error loading script: ${err.message}`));\n",
       "    } else if (typeof vegaEmbed === \"function\") {\n",
       "      displayChart(vegaEmbed);\n",
       "    } else {\n",
       "      loadScript(\"vega\")\n",
       "        .then(() => loadScript(\"vega-lite\"))\n",
       "        .then(() => loadScript(\"vega-embed\"))\n",
       "        .catch(showError)\n",
       "        .then(() => displayChart(vegaEmbed));\n",
       "    }\n",
       "  })({\"config\": {\"view\": {\"continuousWidth\": 400, \"continuousHeight\": 300}}, \"data\": {\"name\": \"data-bb327dbd461b028080eb87b324406a3a\"}, \"mark\": \"bar\", \"encoding\": {\"color\": {\"type\": \"nominal\", \"field\": \"RACE\", \"scale\": {\"range\": [\"#87F5D7\", \"#87F5A0\", \"#F5A087\", \"#F5D787\"]}}, \"x\": {\"type\": \"nominal\", \"field\": \"PART_OF_DAY\"}, \"y\": {\"type\": \"quantitative\", \"field\": \"FREQUENCY\"}}, \"width\": 250, \"$schema\": \"https://vega.github.io/schema/vega-lite/v4.8.1.json\", \"datasets\": {\"data-bb327dbd461b028080eb87b324406a3a\": [{\"PART_OF_DAY\": \"Day\", \"RACE\": \"chinese\", \"FREQUENCY\": 72}, {\"PART_OF_DAY\": \"Day\", \"RACE\": \"foreigner \", \"FREQUENCY\": 29}, {\"PART_OF_DAY\": \"Day\", \"RACE\": \"indian\", \"FREQUENCY\": 101}, {\"PART_OF_DAY\": \"Day\", \"RACE\": \"malay\", \"FREQUENCY\": 97}, {\"PART_OF_DAY\": \"Night\", \"RACE\": \"chinese\", \"FREQUENCY\": 107}, {\"PART_OF_DAY\": \"Night\", \"RACE\": \"foreigner \", \"FREQUENCY\": 43}, {\"PART_OF_DAY\": \"Night\", \"RACE\": \"indian\", \"FREQUENCY\": 113}, {\"PART_OF_DAY\": \"Night\", \"RACE\": \"malay\", \"FREQUENCY\": 80}]}}, {\"mode\": \"vega-lite\"});\n",
       "</script>"
      ],
      "text/plain": [
       "alt.Chart(...)"
      ]
     },
     "execution_count": 213,
     "metadata": {},
     "output_type": "execute_result"
    }
   ],
   "source": [
    "chart = alt.Chart(r_dn).mark_bar().encode(\n",
    "    x='PART_OF_DAY',\n",
    "    y='FREQUENCY',\n",
    "    color=alt.Color('RACE', scale=alt.Scale(range=[\"#87F5D7\",\"#87F5A0\", \"#F5A087\", \"#F5D787\"]))\n",
    ").properties(\n",
    "    width=250  \n",
    ")\n",
    "\n",
    "\n",
    "chart"
   ]
  },
  {
   "cell_type": "markdown",
   "metadata": {},
   "source": [
    "#### GENDER\n",
    "##### Weekend and Weekdays"
   ]
  },
  {
   "cell_type": "code",
   "execution_count": 149,
   "metadata": {},
   "outputs": [
    {
     "data": {
      "text/html": [
       "<div>\n",
       "<style scoped>\n",
       "    .dataframe tbody tr th:only-of-type {\n",
       "        vertical-align: middle;\n",
       "    }\n",
       "\n",
       "    .dataframe tbody tr th {\n",
       "        vertical-align: top;\n",
       "    }\n",
       "\n",
       "    .dataframe thead th {\n",
       "        text-align: right;\n",
       "    }\n",
       "</style>\n",
       "<table border=\"1\" class=\"dataframe\">\n",
       "  <thead>\n",
       "    <tr style=\"text-align: right;\">\n",
       "      <th></th>\n",
       "      <th>WW</th>\n",
       "      <th>GENDER</th>\n",
       "      <th>FREQUENCY</th>\n",
       "    </tr>\n",
       "  </thead>\n",
       "  <tbody>\n",
       "    <tr>\n",
       "      <th>0</th>\n",
       "      <td>Weekdays</td>\n",
       "      <td>female</td>\n",
       "      <td>175</td>\n",
       "    </tr>\n",
       "    <tr>\n",
       "      <th>1</th>\n",
       "      <td>Weekdays</td>\n",
       "      <td>male</td>\n",
       "      <td>196</td>\n",
       "    </tr>\n",
       "    <tr>\n",
       "      <th>2</th>\n",
       "      <td>Weekend</td>\n",
       "      <td>female</td>\n",
       "      <td>146</td>\n",
       "    </tr>\n",
       "    <tr>\n",
       "      <th>3</th>\n",
       "      <td>Weekend</td>\n",
       "      <td>male</td>\n",
       "      <td>125</td>\n",
       "    </tr>\n",
       "  </tbody>\n",
       "</table>\n",
       "</div>"
      ],
      "text/plain": [
       "         WW  GENDER  FREQUENCY\n",
       "0  Weekdays  female        175\n",
       "1  Weekdays    male        196\n",
       "2   Weekend  female        146\n",
       "3   Weekend    male        125"
      ]
     },
     "execution_count": 149,
     "metadata": {},
     "output_type": "execute_result"
    }
   ],
   "source": [
    "g_ww = ld2.groupby(['WW','GENDER']).size().reset_index()\n",
    "g_ww.rename(columns={0: 'FREQUENCY'}, inplace=True)\n",
    "g_ww"
   ]
  },
  {
   "cell_type": "code",
   "execution_count": 214,
   "metadata": {},
   "outputs": [
    {
     "data": {
      "text/html": [
       "\n",
       "<div id=\"altair-viz-b8e1b78645fa40b39ff9b1e33be812f0\"></div>\n",
       "<script type=\"text/javascript\">\n",
       "  (function(spec, embedOpt){\n",
       "    let outputDiv = document.currentScript.previousElementSibling;\n",
       "    if (outputDiv.id !== \"altair-viz-b8e1b78645fa40b39ff9b1e33be812f0\") {\n",
       "      outputDiv = document.getElementById(\"altair-viz-b8e1b78645fa40b39ff9b1e33be812f0\");\n",
       "    }\n",
       "    const paths = {\n",
       "      \"vega\": \"https://cdn.jsdelivr.net/npm//vega@5?noext\",\n",
       "      \"vega-lib\": \"https://cdn.jsdelivr.net/npm//vega-lib?noext\",\n",
       "      \"vega-lite\": \"https://cdn.jsdelivr.net/npm//vega-lite@4.8.1?noext\",\n",
       "      \"vega-embed\": \"https://cdn.jsdelivr.net/npm//vega-embed@6?noext\",\n",
       "    };\n",
       "\n",
       "    function loadScript(lib) {\n",
       "      return new Promise(function(resolve, reject) {\n",
       "        var s = document.createElement('script');\n",
       "        s.src = paths[lib];\n",
       "        s.async = true;\n",
       "        s.onload = () => resolve(paths[lib]);\n",
       "        s.onerror = () => reject(`Error loading script: ${paths[lib]}`);\n",
       "        document.getElementsByTagName(\"head\")[0].appendChild(s);\n",
       "      });\n",
       "    }\n",
       "\n",
       "    function showError(err) {\n",
       "      outputDiv.innerHTML = `<div class=\"error\" style=\"color:red;\">${err}</div>`;\n",
       "      throw err;\n",
       "    }\n",
       "\n",
       "    function displayChart(vegaEmbed) {\n",
       "      vegaEmbed(outputDiv, spec, embedOpt)\n",
       "        .catch(err => showError(`Javascript Error: ${err.message}<br>This usually means there's a typo in your chart specification. See the javascript console for the full traceback.`));\n",
       "    }\n",
       "\n",
       "    if(typeof define === \"function\" && define.amd) {\n",
       "      requirejs.config({paths});\n",
       "      require([\"vega-embed\"], displayChart, err => showError(`Error loading script: ${err.message}`));\n",
       "    } else if (typeof vegaEmbed === \"function\") {\n",
       "      displayChart(vegaEmbed);\n",
       "    } else {\n",
       "      loadScript(\"vega\")\n",
       "        .then(() => loadScript(\"vega-lite\"))\n",
       "        .then(() => loadScript(\"vega-embed\"))\n",
       "        .catch(showError)\n",
       "        .then(() => displayChart(vegaEmbed));\n",
       "    }\n",
       "  })({\"config\": {\"view\": {\"continuousWidth\": 400, \"continuousHeight\": 300}}, \"data\": {\"name\": \"data-b0ed115ad969163aa48edf447805bad7\"}, \"mark\": \"bar\", \"encoding\": {\"color\": {\"type\": \"nominal\", \"field\": \"GENDER\", \"scale\": {\"range\": [\"#FF5733\", \"#DAF7A6\"]}}, \"x\": {\"type\": \"nominal\", \"field\": \"WW\"}, \"y\": {\"type\": \"quantitative\", \"field\": \"FREQUENCY\"}}, \"width\": 250, \"$schema\": \"https://vega.github.io/schema/vega-lite/v4.8.1.json\", \"datasets\": {\"data-b0ed115ad969163aa48edf447805bad7\": [{\"WW\": \"Weekdays\", \"GENDER\": \"female\", \"FREQUENCY\": 175}, {\"WW\": \"Weekdays\", \"GENDER\": \"male\", \"FREQUENCY\": 196}, {\"WW\": \"Weekend\", \"GENDER\": \"female\", \"FREQUENCY\": 146}, {\"WW\": \"Weekend\", \"GENDER\": \"male\", \"FREQUENCY\": 125}]}}, {\"mode\": \"vega-lite\"});\n",
       "</script>"
      ],
      "text/plain": [
       "alt.Chart(...)"
      ]
     },
     "execution_count": 214,
     "metadata": {},
     "output_type": "execute_result"
    }
   ],
   "source": [
    "chart = alt.Chart(g_ww).mark_bar().encode(\n",
    "    x='WW',\n",
    "    y='FREQUENCY',\n",
    "    color=alt.Color('GENDER', scale=alt.Scale(range=[\"#FF5733\", \"#DAF7A6\"]))\n",
    ").properties(\n",
    "    width=250  \n",
    ")\n",
    "\n",
    "\n",
    "chart"
   ]
  },
  {
   "cell_type": "markdown",
   "metadata": {},
   "source": [
    "##### Day and Night"
   ]
  },
  {
   "cell_type": "code",
   "execution_count": 151,
   "metadata": {},
   "outputs": [
    {
     "data": {
      "text/html": [
       "<div>\n",
       "<style scoped>\n",
       "    .dataframe tbody tr th:only-of-type {\n",
       "        vertical-align: middle;\n",
       "    }\n",
       "\n",
       "    .dataframe tbody tr th {\n",
       "        vertical-align: top;\n",
       "    }\n",
       "\n",
       "    .dataframe thead th {\n",
       "        text-align: right;\n",
       "    }\n",
       "</style>\n",
       "<table border=\"1\" class=\"dataframe\">\n",
       "  <thead>\n",
       "    <tr style=\"text-align: right;\">\n",
       "      <th></th>\n",
       "      <th>PART_OF_DAY</th>\n",
       "      <th>GENDER</th>\n",
       "      <th>FREQUENCY</th>\n",
       "    </tr>\n",
       "  </thead>\n",
       "  <tbody>\n",
       "    <tr>\n",
       "      <th>0</th>\n",
       "      <td>Day</td>\n",
       "      <td>female</td>\n",
       "      <td>151</td>\n",
       "    </tr>\n",
       "    <tr>\n",
       "      <th>1</th>\n",
       "      <td>Day</td>\n",
       "      <td>male</td>\n",
       "      <td>148</td>\n",
       "    </tr>\n",
       "    <tr>\n",
       "      <th>2</th>\n",
       "      <td>Night</td>\n",
       "      <td>female</td>\n",
       "      <td>170</td>\n",
       "    </tr>\n",
       "    <tr>\n",
       "      <th>3</th>\n",
       "      <td>Night</td>\n",
       "      <td>male</td>\n",
       "      <td>173</td>\n",
       "    </tr>\n",
       "  </tbody>\n",
       "</table>\n",
       "</div>"
      ],
      "text/plain": [
       "  PART_OF_DAY  GENDER  FREQUENCY\n",
       "0         Day  female        151\n",
       "1         Day    male        148\n",
       "2       Night  female        170\n",
       "3       Night    male        173"
      ]
     },
     "execution_count": 151,
     "metadata": {},
     "output_type": "execute_result"
    }
   ],
   "source": [
    "g_dn = ld2.groupby(['PART_OF_DAY','GENDER']).size().reset_index()\n",
    "g_dn.rename(columns={0: 'FREQUENCY'}, inplace=True)\n",
    "g_dn"
   ]
  },
  {
   "cell_type": "code",
   "execution_count": 215,
   "metadata": {},
   "outputs": [
    {
     "data": {
      "text/html": [
       "\n",
       "<div id=\"altair-viz-e746631e31cd4836a0b924491d2c8500\"></div>\n",
       "<script type=\"text/javascript\">\n",
       "  (function(spec, embedOpt){\n",
       "    let outputDiv = document.currentScript.previousElementSibling;\n",
       "    if (outputDiv.id !== \"altair-viz-e746631e31cd4836a0b924491d2c8500\") {\n",
       "      outputDiv = document.getElementById(\"altair-viz-e746631e31cd4836a0b924491d2c8500\");\n",
       "    }\n",
       "    const paths = {\n",
       "      \"vega\": \"https://cdn.jsdelivr.net/npm//vega@5?noext\",\n",
       "      \"vega-lib\": \"https://cdn.jsdelivr.net/npm//vega-lib?noext\",\n",
       "      \"vega-lite\": \"https://cdn.jsdelivr.net/npm//vega-lite@4.8.1?noext\",\n",
       "      \"vega-embed\": \"https://cdn.jsdelivr.net/npm//vega-embed@6?noext\",\n",
       "    };\n",
       "\n",
       "    function loadScript(lib) {\n",
       "      return new Promise(function(resolve, reject) {\n",
       "        var s = document.createElement('script');\n",
       "        s.src = paths[lib];\n",
       "        s.async = true;\n",
       "        s.onload = () => resolve(paths[lib]);\n",
       "        s.onerror = () => reject(`Error loading script: ${paths[lib]}`);\n",
       "        document.getElementsByTagName(\"head\")[0].appendChild(s);\n",
       "      });\n",
       "    }\n",
       "\n",
       "    function showError(err) {\n",
       "      outputDiv.innerHTML = `<div class=\"error\" style=\"color:red;\">${err}</div>`;\n",
       "      throw err;\n",
       "    }\n",
       "\n",
       "    function displayChart(vegaEmbed) {\n",
       "      vegaEmbed(outputDiv, spec, embedOpt)\n",
       "        .catch(err => showError(`Javascript Error: ${err.message}<br>This usually means there's a typo in your chart specification. See the javascript console for the full traceback.`));\n",
       "    }\n",
       "\n",
       "    if(typeof define === \"function\" && define.amd) {\n",
       "      requirejs.config({paths});\n",
       "      require([\"vega-embed\"], displayChart, err => showError(`Error loading script: ${err.message}`));\n",
       "    } else if (typeof vegaEmbed === \"function\") {\n",
       "      displayChart(vegaEmbed);\n",
       "    } else {\n",
       "      loadScript(\"vega\")\n",
       "        .then(() => loadScript(\"vega-lite\"))\n",
       "        .then(() => loadScript(\"vega-embed\"))\n",
       "        .catch(showError)\n",
       "        .then(() => displayChart(vegaEmbed));\n",
       "    }\n",
       "  })({\"config\": {\"view\": {\"continuousWidth\": 400, \"continuousHeight\": 300}}, \"data\": {\"name\": \"data-52f3774f42015ea7263e1f5bf3004485\"}, \"mark\": \"bar\", \"encoding\": {\"color\": {\"type\": \"nominal\", \"field\": \"GENDER\", \"scale\": {\"range\": [\"#FF5733\", \"#DAF7A6\"]}}, \"x\": {\"type\": \"nominal\", \"field\": \"PART_OF_DAY\"}, \"y\": {\"type\": \"quantitative\", \"field\": \"FREQUENCY\"}}, \"width\": 250, \"$schema\": \"https://vega.github.io/schema/vega-lite/v4.8.1.json\", \"datasets\": {\"data-52f3774f42015ea7263e1f5bf3004485\": [{\"PART_OF_DAY\": \"Day\", \"GENDER\": \"female\", \"FREQUENCY\": 151}, {\"PART_OF_DAY\": \"Day\", \"GENDER\": \"male\", \"FREQUENCY\": 148}, {\"PART_OF_DAY\": \"Night\", \"GENDER\": \"female\", \"FREQUENCY\": 170}, {\"PART_OF_DAY\": \"Night\", \"GENDER\": \"male\", \"FREQUENCY\": 173}]}}, {\"mode\": \"vega-lite\"});\n",
       "</script>"
      ],
      "text/plain": [
       "alt.Chart(...)"
      ]
     },
     "execution_count": 215,
     "metadata": {},
     "output_type": "execute_result"
    }
   ],
   "source": [
    "chart = alt.Chart(g_dn).mark_bar().encode(\n",
    "    x='PART_OF_DAY',\n",
    "    y='FREQUENCY',\n",
    "    color=alt.Color('GENDER', scale=alt.Scale(range=[\"#FF5733\", \"#DAF7A6\"]))\n",
    ").properties(\n",
    "    width=250  \n",
    ")\n",
    "\n",
    "\n",
    "chart"
   ]
  },
  {
   "cell_type": "markdown",
   "metadata": {},
   "source": [
    "#### CUSTOMER WITH KIDS\n",
    "##### Weekend and Weekdays"
   ]
  },
  {
   "cell_type": "code",
   "execution_count": 153,
   "metadata": {},
   "outputs": [
    {
     "data": {
      "text/html": [
       "<div>\n",
       "<style scoped>\n",
       "    .dataframe tbody tr th:only-of-type {\n",
       "        vertical-align: middle;\n",
       "    }\n",
       "\n",
       "    .dataframe tbody tr th {\n",
       "        vertical-align: top;\n",
       "    }\n",
       "\n",
       "    .dataframe thead th {\n",
       "        text-align: right;\n",
       "    }\n",
       "</style>\n",
       "<table border=\"1\" class=\"dataframe\">\n",
       "  <thead>\n",
       "    <tr style=\"text-align: right;\">\n",
       "      <th></th>\n",
       "      <th>WW</th>\n",
       "      <th>WITH_KIDS</th>\n",
       "      <th>FREQUENCY</th>\n",
       "    </tr>\n",
       "  </thead>\n",
       "  <tbody>\n",
       "    <tr>\n",
       "      <th>0</th>\n",
       "      <td>Weekdays</td>\n",
       "      <td>no</td>\n",
       "      <td>317</td>\n",
       "    </tr>\n",
       "    <tr>\n",
       "      <th>1</th>\n",
       "      <td>Weekdays</td>\n",
       "      <td>yes</td>\n",
       "      <td>54</td>\n",
       "    </tr>\n",
       "    <tr>\n",
       "      <th>2</th>\n",
       "      <td>Weekend</td>\n",
       "      <td>no</td>\n",
       "      <td>183</td>\n",
       "    </tr>\n",
       "    <tr>\n",
       "      <th>3</th>\n",
       "      <td>Weekend</td>\n",
       "      <td>yes</td>\n",
       "      <td>88</td>\n",
       "    </tr>\n",
       "  </tbody>\n",
       "</table>\n",
       "</div>"
      ],
      "text/plain": [
       "         WW WITH_KIDS  FREQUENCY\n",
       "0  Weekdays        no        317\n",
       "1  Weekdays       yes         54\n",
       "2   Weekend        no        183\n",
       "3   Weekend       yes         88"
      ]
     },
     "execution_count": 153,
     "metadata": {},
     "output_type": "execute_result"
    }
   ],
   "source": [
    "k_ww = ld2.groupby(['WW','WITH_KIDS']).size().reset_index()\n",
    "k_ww.rename(columns={0: 'FREQUENCY'}, inplace=True)\n",
    "k_ww"
   ]
  },
  {
   "cell_type": "code",
   "execution_count": 216,
   "metadata": {},
   "outputs": [
    {
     "data": {
      "text/html": [
       "\n",
       "<div id=\"altair-viz-39434ec01092423bb883527ce8e435b1\"></div>\n",
       "<script type=\"text/javascript\">\n",
       "  (function(spec, embedOpt){\n",
       "    let outputDiv = document.currentScript.previousElementSibling;\n",
       "    if (outputDiv.id !== \"altair-viz-39434ec01092423bb883527ce8e435b1\") {\n",
       "      outputDiv = document.getElementById(\"altair-viz-39434ec01092423bb883527ce8e435b1\");\n",
       "    }\n",
       "    const paths = {\n",
       "      \"vega\": \"https://cdn.jsdelivr.net/npm//vega@5?noext\",\n",
       "      \"vega-lib\": \"https://cdn.jsdelivr.net/npm//vega-lib?noext\",\n",
       "      \"vega-lite\": \"https://cdn.jsdelivr.net/npm//vega-lite@4.8.1?noext\",\n",
       "      \"vega-embed\": \"https://cdn.jsdelivr.net/npm//vega-embed@6?noext\",\n",
       "    };\n",
       "\n",
       "    function loadScript(lib) {\n",
       "      return new Promise(function(resolve, reject) {\n",
       "        var s = document.createElement('script');\n",
       "        s.src = paths[lib];\n",
       "        s.async = true;\n",
       "        s.onload = () => resolve(paths[lib]);\n",
       "        s.onerror = () => reject(`Error loading script: ${paths[lib]}`);\n",
       "        document.getElementsByTagName(\"head\")[0].appendChild(s);\n",
       "      });\n",
       "    }\n",
       "\n",
       "    function showError(err) {\n",
       "      outputDiv.innerHTML = `<div class=\"error\" style=\"color:red;\">${err}</div>`;\n",
       "      throw err;\n",
       "    }\n",
       "\n",
       "    function displayChart(vegaEmbed) {\n",
       "      vegaEmbed(outputDiv, spec, embedOpt)\n",
       "        .catch(err => showError(`Javascript Error: ${err.message}<br>This usually means there's a typo in your chart specification. See the javascript console for the full traceback.`));\n",
       "    }\n",
       "\n",
       "    if(typeof define === \"function\" && define.amd) {\n",
       "      requirejs.config({paths});\n",
       "      require([\"vega-embed\"], displayChart, err => showError(`Error loading script: ${err.message}`));\n",
       "    } else if (typeof vegaEmbed === \"function\") {\n",
       "      displayChart(vegaEmbed);\n",
       "    } else {\n",
       "      loadScript(\"vega\")\n",
       "        .then(() => loadScript(\"vega-lite\"))\n",
       "        .then(() => loadScript(\"vega-embed\"))\n",
       "        .catch(showError)\n",
       "        .then(() => displayChart(vegaEmbed));\n",
       "    }\n",
       "  })({\"config\": {\"view\": {\"continuousWidth\": 400, \"continuousHeight\": 300}}, \"data\": {\"name\": \"data-e7e4ace63f79512d1055775cb96571a5\"}, \"mark\": \"bar\", \"encoding\": {\"color\": {\"type\": \"nominal\", \"field\": \"WITH_KIDS\", \"scale\": {\"range\": [\"#F5D787\", \"#A5F587\"]}}, \"x\": {\"type\": \"nominal\", \"field\": \"WW\"}, \"y\": {\"type\": \"quantitative\", \"field\": \"FREQUENCY\"}}, \"width\": 250, \"$schema\": \"https://vega.github.io/schema/vega-lite/v4.8.1.json\", \"datasets\": {\"data-e7e4ace63f79512d1055775cb96571a5\": [{\"WW\": \"Weekdays\", \"WITH_KIDS\": \"no\", \"FREQUENCY\": 317}, {\"WW\": \"Weekdays\", \"WITH_KIDS\": \"yes\", \"FREQUENCY\": 54}, {\"WW\": \"Weekend\", \"WITH_KIDS\": \"no\", \"FREQUENCY\": 183}, {\"WW\": \"Weekend\", \"WITH_KIDS\": \"yes\", \"FREQUENCY\": 88}]}}, {\"mode\": \"vega-lite\"});\n",
       "</script>"
      ],
      "text/plain": [
       "alt.Chart(...)"
      ]
     },
     "execution_count": 216,
     "metadata": {},
     "output_type": "execute_result"
    }
   ],
   "source": [
    "\n",
    "chart = alt.Chart(k_ww).mark_bar().encode(\n",
    "    x='WW',\n",
    "    y='FREQUENCY',\n",
    "    color=alt.Color('WITH_KIDS', scale=alt.Scale(range=[\"#F5D787\", \"#A5F587\"]))\n",
    ").properties(\n",
    "    width=250  \n",
    ")\n",
    "\n",
    "\n",
    "chart"
   ]
  },
  {
   "cell_type": "markdown",
   "metadata": {},
   "source": [
    "##### Days and Night"
   ]
  },
  {
   "cell_type": "code",
   "execution_count": 155,
   "metadata": {},
   "outputs": [
    {
     "data": {
      "text/html": [
       "<div>\n",
       "<style scoped>\n",
       "    .dataframe tbody tr th:only-of-type {\n",
       "        vertical-align: middle;\n",
       "    }\n",
       "\n",
       "    .dataframe tbody tr th {\n",
       "        vertical-align: top;\n",
       "    }\n",
       "\n",
       "    .dataframe thead th {\n",
       "        text-align: right;\n",
       "    }\n",
       "</style>\n",
       "<table border=\"1\" class=\"dataframe\">\n",
       "  <thead>\n",
       "    <tr style=\"text-align: right;\">\n",
       "      <th></th>\n",
       "      <th>PART_OF_DAY</th>\n",
       "      <th>WITH_KIDS</th>\n",
       "      <th>FREQUENCY</th>\n",
       "    </tr>\n",
       "  </thead>\n",
       "  <tbody>\n",
       "    <tr>\n",
       "      <th>0</th>\n",
       "      <td>Day</td>\n",
       "      <td>no</td>\n",
       "      <td>235</td>\n",
       "    </tr>\n",
       "    <tr>\n",
       "      <th>1</th>\n",
       "      <td>Day</td>\n",
       "      <td>yes</td>\n",
       "      <td>64</td>\n",
       "    </tr>\n",
       "    <tr>\n",
       "      <th>2</th>\n",
       "      <td>Night</td>\n",
       "      <td>no</td>\n",
       "      <td>265</td>\n",
       "    </tr>\n",
       "    <tr>\n",
       "      <th>3</th>\n",
       "      <td>Night</td>\n",
       "      <td>yes</td>\n",
       "      <td>78</td>\n",
       "    </tr>\n",
       "  </tbody>\n",
       "</table>\n",
       "</div>"
      ],
      "text/plain": [
       "  PART_OF_DAY WITH_KIDS  FREQUENCY\n",
       "0         Day        no        235\n",
       "1         Day       yes         64\n",
       "2       Night        no        265\n",
       "3       Night       yes         78"
      ]
     },
     "execution_count": 155,
     "metadata": {},
     "output_type": "execute_result"
    }
   ],
   "source": [
    "k_dn = ld2.groupby(['PART_OF_DAY','WITH_KIDS']).size().reset_index()\n",
    "k_dn.rename(columns={0: 'FREQUENCY'}, inplace=True)\n",
    "k_dn"
   ]
  },
  {
   "cell_type": "code",
   "execution_count": 217,
   "metadata": {},
   "outputs": [
    {
     "data": {
      "text/html": [
       "\n",
       "<div id=\"altair-viz-3e35630ee5d44963bf473e046659363f\"></div>\n",
       "<script type=\"text/javascript\">\n",
       "  (function(spec, embedOpt){\n",
       "    let outputDiv = document.currentScript.previousElementSibling;\n",
       "    if (outputDiv.id !== \"altair-viz-3e35630ee5d44963bf473e046659363f\") {\n",
       "      outputDiv = document.getElementById(\"altair-viz-3e35630ee5d44963bf473e046659363f\");\n",
       "    }\n",
       "    const paths = {\n",
       "      \"vega\": \"https://cdn.jsdelivr.net/npm//vega@5?noext\",\n",
       "      \"vega-lib\": \"https://cdn.jsdelivr.net/npm//vega-lib?noext\",\n",
       "      \"vega-lite\": \"https://cdn.jsdelivr.net/npm//vega-lite@4.8.1?noext\",\n",
       "      \"vega-embed\": \"https://cdn.jsdelivr.net/npm//vega-embed@6?noext\",\n",
       "    };\n",
       "\n",
       "    function loadScript(lib) {\n",
       "      return new Promise(function(resolve, reject) {\n",
       "        var s = document.createElement('script');\n",
       "        s.src = paths[lib];\n",
       "        s.async = true;\n",
       "        s.onload = () => resolve(paths[lib]);\n",
       "        s.onerror = () => reject(`Error loading script: ${paths[lib]}`);\n",
       "        document.getElementsByTagName(\"head\")[0].appendChild(s);\n",
       "      });\n",
       "    }\n",
       "\n",
       "    function showError(err) {\n",
       "      outputDiv.innerHTML = `<div class=\"error\" style=\"color:red;\">${err}</div>`;\n",
       "      throw err;\n",
       "    }\n",
       "\n",
       "    function displayChart(vegaEmbed) {\n",
       "      vegaEmbed(outputDiv, spec, embedOpt)\n",
       "        .catch(err => showError(`Javascript Error: ${err.message}<br>This usually means there's a typo in your chart specification. See the javascript console for the full traceback.`));\n",
       "    }\n",
       "\n",
       "    if(typeof define === \"function\" && define.amd) {\n",
       "      requirejs.config({paths});\n",
       "      require([\"vega-embed\"], displayChart, err => showError(`Error loading script: ${err.message}`));\n",
       "    } else if (typeof vegaEmbed === \"function\") {\n",
       "      displayChart(vegaEmbed);\n",
       "    } else {\n",
       "      loadScript(\"vega\")\n",
       "        .then(() => loadScript(\"vega-lite\"))\n",
       "        .then(() => loadScript(\"vega-embed\"))\n",
       "        .catch(showError)\n",
       "        .then(() => displayChart(vegaEmbed));\n",
       "    }\n",
       "  })({\"config\": {\"view\": {\"continuousWidth\": 400, \"continuousHeight\": 300}}, \"data\": {\"name\": \"data-8521ff7c54f1ac12b3f5e810f1b22ae6\"}, \"mark\": \"bar\", \"encoding\": {\"color\": {\"type\": \"nominal\", \"field\": \"WITH_KIDS\", \"scale\": {\"range\": [\"#F5D787\", \"#A5F587\"]}}, \"x\": {\"type\": \"nominal\", \"field\": \"PART_OF_DAY\"}, \"y\": {\"type\": \"quantitative\", \"field\": \"FREQUENCY\"}}, \"width\": 250, \"$schema\": \"https://vega.github.io/schema/vega-lite/v4.8.1.json\", \"datasets\": {\"data-8521ff7c54f1ac12b3f5e810f1b22ae6\": [{\"PART_OF_DAY\": \"Day\", \"WITH_KIDS\": \"no\", \"FREQUENCY\": 235}, {\"PART_OF_DAY\": \"Day\", \"WITH_KIDS\": \"yes\", \"FREQUENCY\": 64}, {\"PART_OF_DAY\": \"Night\", \"WITH_KIDS\": \"no\", \"FREQUENCY\": 265}, {\"PART_OF_DAY\": \"Night\", \"WITH_KIDS\": \"yes\", \"FREQUENCY\": 78}]}}, {\"mode\": \"vega-lite\"});\n",
       "</script>"
      ],
      "text/plain": [
       "alt.Chart(...)"
      ]
     },
     "execution_count": 217,
     "metadata": {},
     "output_type": "execute_result"
    }
   ],
   "source": [
    "chart = alt.Chart(k_dn).mark_bar().encode(\n",
    "    x='PART_OF_DAY',\n",
    "    y='FREQUENCY',\n",
    "    color=alt.Color('WITH_KIDS', scale=alt.Scale(range=[\"#F5D787\", \"#A5F587\"]))\n",
    ").properties(\n",
    "    width=250  \n",
    ")\n",
    "\n",
    "\n",
    "chart"
   ]
  },
  {
   "cell_type": "markdown",
   "metadata": {},
   "source": [
    "##### clustering - age range"
   ]
  },
  {
   "cell_type": "code",
   "execution_count": 218,
   "metadata": {},
   "outputs": [
    {
     "data": {
      "text/html": [
       "<div>\n",
       "<style scoped>\n",
       "    .dataframe tbody tr th:only-of-type {\n",
       "        vertical-align: middle;\n",
       "    }\n",
       "\n",
       "    .dataframe tbody tr th {\n",
       "        vertical-align: top;\n",
       "    }\n",
       "\n",
       "    .dataframe thead th {\n",
       "        text-align: right;\n",
       "    }\n",
       "</style>\n",
       "<table border=\"1\" class=\"dataframe\">\n",
       "  <thead>\n",
       "    <tr style=\"text-align: right;\">\n",
       "      <th></th>\n",
       "      <th>PART_OF_DAY</th>\n",
       "      <th>AGE_RANGE</th>\n",
       "    </tr>\n",
       "  </thead>\n",
       "  <tbody>\n",
       "    <tr>\n",
       "      <th>0</th>\n",
       "      <td>Night</td>\n",
       "      <td>28.0</td>\n",
       "    </tr>\n",
       "    <tr>\n",
       "      <th>1</th>\n",
       "      <td>Night</td>\n",
       "      <td>32.0</td>\n",
       "    </tr>\n",
       "    <tr>\n",
       "      <th>2</th>\n",
       "      <td>Night</td>\n",
       "      <td>30.0</td>\n",
       "    </tr>\n",
       "    <tr>\n",
       "      <th>4</th>\n",
       "      <td>Night</td>\n",
       "      <td>34.0</td>\n",
       "    </tr>\n",
       "    <tr>\n",
       "      <th>8</th>\n",
       "      <td>Night</td>\n",
       "      <td>30.0</td>\n",
       "    </tr>\n",
       "    <tr>\n",
       "      <th>...</th>\n",
       "      <td>...</td>\n",
       "      <td>...</td>\n",
       "    </tr>\n",
       "    <tr>\n",
       "      <th>802</th>\n",
       "      <td>Night</td>\n",
       "      <td>45.0</td>\n",
       "    </tr>\n",
       "    <tr>\n",
       "      <th>803</th>\n",
       "      <td>Night</td>\n",
       "      <td>34.0</td>\n",
       "    </tr>\n",
       "    <tr>\n",
       "      <th>804</th>\n",
       "      <td>Night</td>\n",
       "      <td>53.0</td>\n",
       "    </tr>\n",
       "    <tr>\n",
       "      <th>805</th>\n",
       "      <td>Night</td>\n",
       "      <td>37.0</td>\n",
       "    </tr>\n",
       "    <tr>\n",
       "      <th>806</th>\n",
       "      <td>Night</td>\n",
       "      <td>29.0</td>\n",
       "    </tr>\n",
       "  </tbody>\n",
       "</table>\n",
       "<p>642 rows × 2 columns</p>\n",
       "</div>"
      ],
      "text/plain": [
       "    PART_OF_DAY  AGE_RANGE\n",
       "0         Night       28.0\n",
       "1         Night       32.0\n",
       "2         Night       30.0\n",
       "4         Night       34.0\n",
       "8         Night       30.0\n",
       "..          ...        ...\n",
       "802       Night       45.0\n",
       "803       Night       34.0\n",
       "804       Night       53.0\n",
       "805       Night       37.0\n",
       "806       Night       29.0\n",
       "\n",
       "[642 rows x 2 columns]"
      ]
     },
     "execution_count": 218,
     "metadata": {},
     "output_type": "execute_result"
    }
   ],
   "source": [
    "cluster_data = ld2[['PART_OF_DAY','AGE_RANGE']]\n",
    "cluster_data"
   ]
  },
  {
   "cell_type": "code",
   "execution_count": 220,
   "metadata": {},
   "outputs": [
    {
     "data": {
      "text/html": [
       "<div>\n",
       "<style scoped>\n",
       "    .dataframe tbody tr th:only-of-type {\n",
       "        vertical-align: middle;\n",
       "    }\n",
       "\n",
       "    .dataframe tbody tr th {\n",
       "        vertical-align: top;\n",
       "    }\n",
       "\n",
       "    .dataframe thead th {\n",
       "        text-align: right;\n",
       "    }\n",
       "</style>\n",
       "<table border=\"1\" class=\"dataframe\">\n",
       "  <thead>\n",
       "    <tr style=\"text-align: right;\">\n",
       "      <th></th>\n",
       "      <th>Day</th>\n",
       "      <th>Night</th>\n",
       "    </tr>\n",
       "  </thead>\n",
       "  <tbody>\n",
       "    <tr>\n",
       "      <th>0</th>\n",
       "      <td>0</td>\n",
       "      <td>1</td>\n",
       "    </tr>\n",
       "    <tr>\n",
       "      <th>1</th>\n",
       "      <td>0</td>\n",
       "      <td>1</td>\n",
       "    </tr>\n",
       "    <tr>\n",
       "      <th>2</th>\n",
       "      <td>0</td>\n",
       "      <td>1</td>\n",
       "    </tr>\n",
       "    <tr>\n",
       "      <th>4</th>\n",
       "      <td>0</td>\n",
       "      <td>1</td>\n",
       "    </tr>\n",
       "    <tr>\n",
       "      <th>8</th>\n",
       "      <td>0</td>\n",
       "      <td>1</td>\n",
       "    </tr>\n",
       "    <tr>\n",
       "      <th>...</th>\n",
       "      <td>...</td>\n",
       "      <td>...</td>\n",
       "    </tr>\n",
       "    <tr>\n",
       "      <th>802</th>\n",
       "      <td>0</td>\n",
       "      <td>1</td>\n",
       "    </tr>\n",
       "    <tr>\n",
       "      <th>803</th>\n",
       "      <td>0</td>\n",
       "      <td>1</td>\n",
       "    </tr>\n",
       "    <tr>\n",
       "      <th>804</th>\n",
       "      <td>0</td>\n",
       "      <td>1</td>\n",
       "    </tr>\n",
       "    <tr>\n",
       "      <th>805</th>\n",
       "      <td>0</td>\n",
       "      <td>1</td>\n",
       "    </tr>\n",
       "    <tr>\n",
       "      <th>806</th>\n",
       "      <td>0</td>\n",
       "      <td>1</td>\n",
       "    </tr>\n",
       "  </tbody>\n",
       "</table>\n",
       "<p>642 rows × 2 columns</p>\n",
       "</div>"
      ],
      "text/plain": [
       "     Day  Night\n",
       "0      0      1\n",
       "1      0      1\n",
       "2      0      1\n",
       "4      0      1\n",
       "8      0      1\n",
       "..   ...    ...\n",
       "802    0      1\n",
       "803    0      1\n",
       "804    0      1\n",
       "805    0      1\n",
       "806    0      1\n",
       "\n",
       "[642 rows x 2 columns]"
      ]
     },
     "execution_count": 220,
     "metadata": {},
     "output_type": "execute_result"
    }
   ],
   "source": [
    "X = pd.get_dummies(cluster_data['PART_OF_DAY'], drop_first=False)\n",
    "X"
   ]
  },
  {
   "cell_type": "code",
   "execution_count": 221,
   "metadata": {},
   "outputs": [],
   "source": [
    "X.columns = X.columns.add_categories('AGE_RANGE')\n",
    "X['AGE_RANGE'] =cluster_data['AGE_RANGE']"
   ]
  },
  {
   "cell_type": "code",
   "execution_count": 222,
   "metadata": {},
   "outputs": [],
   "source": [
    "from sklearn.cluster import KMeans "
   ]
  },
  {
   "cell_type": "code",
   "execution_count": 223,
   "metadata": {},
   "outputs": [
    {
     "data": {
      "image/png": "[encoded data removed]",
      "text/plain": [
       "<Figure size 432x288 with 1 Axes>"
      ]
     },
     "metadata": {
      "needs_background": "light"
     },
     "output_type": "display_data"
    }
   ],
   "source": [
    "distortions = []\n",
    "\n",
    "for i in range(1, 11):\n",
    "    km = KMeans(\n",
    "        n_clusters=i, init='random',\n",
    "        n_init=10, max_iter=300,\n",
    "        tol=1e-04, random_state=0\n",
    "    )\n",
    "    km.fit(X)\n",
    "    distortions.append(km.inertia_)\n",
    "\n",
    "# plot\n",
    "plt.plot(range(1, 11), distortions, marker='o')\n",
    "plt.xlabel('Number of clusters')\n",
    "plt.ylabel('Distortion')\n",
    "plt.show()\n",
    "#elbow"
   ]
  },
  {
   "cell_type": "code",
   "execution_count": 224,
   "metadata": {},
   "outputs": [
    {
     "data": {
      "text/plain": [
       "KMeans(n_clusters=3, random_state=0)"
      ]
     },
     "execution_count": 224,
     "metadata": {},
     "output_type": "execute_result"
    }
   ],
   "source": [
    "km = KMeans(n_clusters = 3, random_state=0)\n",
    "km.fit(X)"
   ]
  },
  {
   "cell_type": "code",
   "execution_count": 227,
   "metadata": {},
   "outputs": [
    {
     "data": {
      "text/html": [
       "<div>\n",
       "<style scoped>\n",
       "    .dataframe tbody tr th:only-of-type {\n",
       "        vertical-align: middle;\n",
       "    }\n",
       "\n",
       "    .dataframe tbody tr th {\n",
       "        vertical-align: top;\n",
       "    }\n",
       "\n",
       "    .dataframe thead th {\n",
       "        text-align: right;\n",
       "    }\n",
       "</style>\n",
       "<table border=\"1\" class=\"dataframe\">\n",
       "  <thead>\n",
       "    <tr style=\"text-align: right;\">\n",
       "      <th></th>\n",
       "      <th>cluster</th>\n",
       "      <th>PART_OF_DAY</th>\n",
       "      <th>AGE_RANGE</th>\n",
       "    </tr>\n",
       "  </thead>\n",
       "  <tbody>\n",
       "    <tr>\n",
       "      <th>0</th>\n",
       "      <td>1</td>\n",
       "      <td>Night</td>\n",
       "      <td>28.0</td>\n",
       "    </tr>\n",
       "    <tr>\n",
       "      <th>1</th>\n",
       "      <td>1</td>\n",
       "      <td>Night</td>\n",
       "      <td>32.0</td>\n",
       "    </tr>\n",
       "    <tr>\n",
       "      <th>2</th>\n",
       "      <td>1</td>\n",
       "      <td>Night</td>\n",
       "      <td>30.0</td>\n",
       "    </tr>\n",
       "    <tr>\n",
       "      <th>4</th>\n",
       "      <td>1</td>\n",
       "      <td>Night</td>\n",
       "      <td>34.0</td>\n",
       "    </tr>\n",
       "    <tr>\n",
       "      <th>8</th>\n",
       "      <td>1</td>\n",
       "      <td>Night</td>\n",
       "      <td>30.0</td>\n",
       "    </tr>\n",
       "  </tbody>\n",
       "</table>\n",
       "</div>"
      ],
      "text/plain": [
       "   cluster PART_OF_DAY  AGE_RANGE\n",
       "0        1       Night       28.0\n",
       "1        1       Night       32.0\n",
       "2        1       Night       30.0\n",
       "4        1       Night       34.0\n",
       "8        1       Night       30.0"
      ]
     },
     "execution_count": 227,
     "metadata": {},
     "output_type": "execute_result"
    }
   ],
   "source": [
    "cluster_data_new = cluster_data.copy()\n",
    "cluster_data_new.insert(0, \"cluster\", km.labels_, True)\n",
    "cluster_data_new.head()"
   ]
  },
  {
   "cell_type": "code",
   "execution_count": 228,
   "metadata": {},
   "outputs": [],
   "source": [
    "cluster_0 = cluster_data_new[cluster_data_new['cluster'] == 0]\n",
    "cluster_1 = cluster_data_new[cluster_data_new['cluster'] == 1]\n",
    "cluster_2 = cluster_data_new[cluster_data_new['cluster'] == 2]"
   ]
  },
  {
   "cell_type": "code",
   "execution_count": 229,
   "metadata": {},
   "outputs": [
    {
     "data": {
      "text/plain": [
       "array([55., 50., 51., 48., 49., 54., 53., 52.])"
      ]
     },
     "execution_count": 229,
     "metadata": {},
     "output_type": "execute_result"
    }
   ],
   "source": [
    "cluster_0['AGE_RANGE'].unique() #48 - 55"
   ]
  },
  {
   "cell_type": "code",
   "execution_count": 230,
   "metadata": {},
   "outputs": [
    {
     "data": {
      "text/plain": [
       "array([28., 32., 30., 34., 35., 31., 36., 29., 33., 37.])"
      ]
     },
     "execution_count": 230,
     "metadata": {},
     "output_type": "execute_result"
    }
   ],
   "source": [
    "cluster_1['AGE_RANGE'].unique() #28 - 37"
   ]
  },
  {
   "cell_type": "code",
   "execution_count": 231,
   "metadata": {},
   "outputs": [
    {
     "data": {
      "text/plain": [
       "array([44., 42., 40., 39., 46., 43., 45., 38., 41., 47.])"
      ]
     },
     "execution_count": 231,
     "metadata": {},
     "output_type": "execute_result"
    }
   ],
   "source": [
    "cluster_2['AGE_RANGE'].unique() #38 - 47"
   ]
  },
  {
   "cell_type": "code",
   "execution_count": 232,
   "metadata": {},
   "outputs": [
    {
     "data": {
      "text/html": [
       "\n",
       "<div id=\"altair-viz-3c34e233c32646a6bd740ca77f017822\"></div>\n",
       "<script type=\"text/javascript\">\n",
       "  (function(spec, embedOpt){\n",
       "    let outputDiv = document.currentScript.previousElementSibling;\n",
       "    if (outputDiv.id !== \"altair-viz-3c34e233c32646a6bd740ca77f017822\") {\n",
       "      outputDiv = document.getElementById(\"altair-viz-3c34e233c32646a6bd740ca77f017822\");\n",
       "    }\n",
       "    const paths = {\n",
       "      \"vega\": \"https://cdn.jsdelivr.net/npm//vega@5?noext\",\n",
       "      \"vega-lib\": \"https://cdn.jsdelivr.net/npm//vega-lib?noext\",\n",
       "      \"vega-lite\": \"https://cdn.jsdelivr.net/npm//vega-lite@4.8.1?noext\",\n",
       "      \"vega-embed\": \"https://cdn.jsdelivr.net/npm//vega-embed@6?noext\",\n",
       "    };\n",
       "\n",
       "    function loadScript(lib) {\n",
       "      return new Promise(function(resolve, reject) {\n",
       "        var s = document.createElement('script');\n",
       "        s.src = paths[lib];\n",
       "        s.async = true;\n",
       "        s.onload = () => resolve(paths[lib]);\n",
       "        s.onerror = () => reject(`Error loading script: ${paths[lib]}`);\n",
       "        document.getElementsByTagName(\"head\")[0].appendChild(s);\n",
       "      });\n",
       "    }\n",
       "\n",
       "    function showError(err) {\n",
       "      outputDiv.innerHTML = `<div class=\"error\" style=\"color:red;\">${err}</div>`;\n",
       "      throw err;\n",
       "    }\n",
       "\n",
       "    function displayChart(vegaEmbed) {\n",
       "      vegaEmbed(outputDiv, spec, embedOpt)\n",
       "        .catch(err => showError(`Javascript Error: ${err.message}<br>This usually means there's a typo in your chart specification. See the javascript console for the full traceback.`));\n",
       "    }\n",
       "\n",
       "    if(typeof define === \"function\" && define.amd) {\n",
       "      requirejs.config({paths});\n",
       "      require([\"vega-embed\"], displayChart, err => showError(`Error loading script: ${err.message}`));\n",
       "    } else if (typeof vegaEmbed === \"function\") {\n",
       "      displayChart(vegaEmbed);\n",
       "    } else {\n",
       "      loadScript(\"vega\")\n",
       "        .then(() => loadScript(\"vega-lite\"))\n",
       "        .then(() => loadScript(\"vega-embed\"))\n",
       "        .catch(showError)\n",
       "        .then(() => displayChart(vegaEmbed));\n",
       "    }\n",
       "  })({\"config\": {\"view\": {\"continuousWidth\": 400, \"continuousHeight\": 300}}, \"data\": {\"name\": \"data-0897d39e9c2827c8264b356fcd069ed7\"}, \"mark\": \"bar\", \"encoding\": {\"color\": {\"type\": \"nominal\", \"field\": \"cluster\", \"scale\": {\"range\": [\"#AAFF00\", \"#097969\", \"#454B1B\"]}}, \"column\": {\"type\": \"nominal\", \"field\": \"PART_OF_DAY\"}, \"x\": {\"type\": \"nominal\", \"axis\": {\"labels\": false, \"title\": null}, \"field\": \"cluster\"}, \"y\": {\"type\": \"quantitative\", \"aggregate\": \"count\", \"field\": \"AGE_RANGE\"}}, \"width\": 200, \"$schema\": \"https://vega.github.io/schema/vega-lite/v4.8.1.json\", \"datasets\": {\"data-0897d39e9c2827c8264b356fcd069ed7\": [{\"cluster\": \"28 - 37\", \"PART_OF_DAY\": \"Night\", \"AGE_RANGE\": 28.0}, {\"cluster\": \"28 - 37\", \"PART_OF_DAY\": \"Night\", \"AGE_RANGE\": 32.0}, {\"cluster\": \"28 - 37\", \"PART_OF_DAY\": \"Night\", \"AGE_RANGE\": 30.0}, {\"cluster\": \"28 - 37\", \"PART_OF_DAY\": \"Night\", \"AGE_RANGE\": 34.0}, {\"cluster\": \"28 - 37\", \"PART_OF_DAY\": \"Night\", \"AGE_RANGE\": 30.0}, {\"cluster\": \"28 - 37\", \"PART_OF_DAY\": \"Day\", \"AGE_RANGE\": 32.0}, {\"cluster\": \"48 - 55\", \"PART_OF_DAY\": \"Day\", \"AGE_RANGE\": 55.0}, {\"cluster\": \"48 - 55\", \"PART_OF_DAY\": \"Day\", \"AGE_RANGE\": 55.0}, {\"cluster\": \"48 - 55\", \"PART_OF_DAY\": \"Day\", \"AGE_RANGE\": 50.0}, {\"cluster\": \"28 - 37\", \"PART_OF_DAY\": \"Day\", \"AGE_RANGE\": 34.0}, {\"cluster\": \"38 - 47\", \"PART_OF_DAY\": \"Day\", \"AGE_RANGE\": 44.0}, {\"cluster\": \"38 - 47\", \"PART_OF_DAY\": \"Day\", \"AGE_RANGE\": 42.0}, {\"cluster\": \"38 - 47\", \"PART_OF_DAY\": \"Day\", \"AGE_RANGE\": 40.0}, {\"cluster\": \"38 - 47\", \"PART_OF_DAY\": \"Day\", \"AGE_RANGE\": 39.0}, {\"cluster\": \"48 - 55\", \"PART_OF_DAY\": \"Day\", \"AGE_RANGE\": 55.0}, {\"cluster\": \"28 - 37\", \"PART_OF_DAY\": \"Day\", \"AGE_RANGE\": 35.0}, {\"cluster\": \"28 - 37\", \"PART_OF_DAY\": \"Day\", \"AGE_RANGE\": 31.0}, {\"cluster\": \"28 - 37\", \"PART_OF_DAY\": \"Day\", \"AGE_RANGE\": 34.0}, {\"cluster\": \"28 - 37\", \"PART_OF_DAY\": \"Night\", \"AGE_RANGE\": 36.0}, {\"cluster\": \"48 - 55\", \"PART_OF_DAY\": \"Night\", \"AGE_RANGE\": 51.0}, {\"cluster\": \"38 - 47\", \"PART_OF_DAY\": \"Night\", \"AGE_RANGE\": 46.0}, {\"cluster\": \"48 - 55\", \"PART_OF_DAY\": \"Night\", \"AGE_RANGE\": 51.0}, {\"cluster\": \"48 - 55\", \"PART_OF_DAY\": \"Night\", \"AGE_RANGE\": 48.0}, {\"cluster\": \"28 - 37\", \"PART_OF_DAY\": \"Night\", \"AGE_RANGE\": 28.0}, {\"cluster\": \"48 - 55\", \"PART_OF_DAY\": \"Night\", \"AGE_RANGE\": 49.0}, {\"cluster\": \"48 - 55\", \"PART_OF_DAY\": \"Night\", \"AGE_RANGE\": 48.0}, {\"cluster\": \"38 - 47\", \"PART_OF_DAY\": \"Night\", \"AGE_RANGE\": 42.0}, {\"cluster\": \"38 - 47\", \"PART_OF_DAY\": \"Night\", \"AGE_RANGE\": 42.0}, {\"cluster\": \"48 - 55\", \"PART_OF_DAY\": \"Night\", \"AGE_RANGE\": 54.0}, {\"cluster\": \"38 - 47\", \"PART_OF_DAY\": \"Night\", \"AGE_RANGE\": 39.0}, {\"cluster\": \"48 - 55\", \"PART_OF_DAY\": \"Night\", \"AGE_RANGE\": 53.0}, {\"cluster\": \"28 - 37\", \"PART_OF_DAY\": \"Night\", \"AGE_RANGE\": 29.0}, {\"cluster\": \"38 - 47\", \"PART_OF_DAY\": \"Night\", \"AGE_RANGE\": 43.0}, {\"cluster\": \"28 - 37\", \"PART_OF_DAY\": \"Night\", \"AGE_RANGE\": 29.0}, {\"cluster\": \"48 - 55\", \"PART_OF_DAY\": \"Night\", \"AGE_RANGE\": 50.0}, {\"cluster\": \"28 - 37\", \"PART_OF_DAY\": \"Night\", \"AGE_RANGE\": 28.0}, {\"cluster\": \"48 - 55\", \"PART_OF_DAY\": \"Night\", \"AGE_RANGE\": 55.0}, {\"cluster\": \"28 - 37\", \"PART_OF_DAY\": \"Night\", \"AGE_RANGE\": 33.0}, {\"cluster\": \"48 - 55\", \"PART_OF_DAY\": \"Night\", \"AGE_RANGE\": 49.0}, {\"cluster\": \"38 - 47\", \"PART_OF_DAY\": \"Night\", \"AGE_RANGE\": 42.0}, {\"cluster\": \"38 - 47\", \"PART_OF_DAY\": \"Night\", \"AGE_RANGE\": 45.0}, {\"cluster\": \"28 - 37\", \"PART_OF_DAY\": \"Night\", \"AGE_RANGE\": 30.0}, {\"cluster\": \"28 - 37\", \"PART_OF_DAY\": \"Day\", \"AGE_RANGE\": 31.0}, {\"cluster\": \"48 - 55\", \"PART_OF_DAY\": \"Day\", \"AGE_RANGE\": 54.0}, {\"cluster\": \"48 - 55\", \"PART_OF_DAY\": \"Day\", \"AGE_RANGE\": 54.0}, {\"cluster\": \"38 - 47\", \"PART_OF_DAY\": \"Day\", \"AGE_RANGE\": 45.0}, {\"cluster\": \"38 - 47\", \"PART_OF_DAY\": \"Day\", \"AGE_RANGE\": 38.0}, {\"cluster\": \"48 - 55\", \"PART_OF_DAY\": \"Day\", \"AGE_RANGE\": 48.0}, {\"cluster\": \"38 - 47\", \"PART_OF_DAY\": \"Day\", \"AGE_RANGE\": 42.0}, {\"cluster\": \"48 - 55\", \"PART_OF_DAY\": \"Day\", \"AGE_RANGE\": 53.0}, {\"cluster\": \"38 - 47\", \"PART_OF_DAY\": \"Day\", \"AGE_RANGE\": 40.0}, {\"cluster\": \"48 - 55\", \"PART_OF_DAY\": \"Day\", \"AGE_RANGE\": 53.0}, {\"cluster\": \"48 - 55\", \"PART_OF_DAY\": \"Day\", \"AGE_RANGE\": 49.0}, {\"cluster\": \"48 - 55\", \"PART_OF_DAY\": \"Night\", \"AGE_RANGE\": 52.0}, {\"cluster\": \"28 - 37\", \"PART_OF_DAY\": \"Night\", \"AGE_RANGE\": 32.0}, {\"cluster\": \"28 - 37\", \"PART_OF_DAY\": \"Night\", \"AGE_RANGE\": 34.0}, {\"cluster\": \"28 - 37\", \"PART_OF_DAY\": \"Night\", \"AGE_RANGE\": 35.0}, {\"cluster\": \"48 - 55\", \"PART_OF_DAY\": \"Night\", \"AGE_RANGE\": 49.0}, {\"cluster\": \"28 - 37\", \"PART_OF_DAY\": \"Day\", \"AGE_RANGE\": 33.0}, {\"cluster\": \"48 - 55\", \"PART_OF_DAY\": \"Day\", \"AGE_RANGE\": 55.0}, {\"cluster\": \"48 - 55\", \"PART_OF_DAY\": \"Day\", \"AGE_RANGE\": 55.0}, {\"cluster\": \"48 - 55\", \"PART_OF_DAY\": \"Day\", \"AGE_RANGE\": 49.0}, {\"cluster\": \"38 - 47\", \"PART_OF_DAY\": \"Day\", \"AGE_RANGE\": 46.0}, {\"cluster\": \"38 - 47\", \"PART_OF_DAY\": \"Day\", \"AGE_RANGE\": 41.0}, {\"cluster\": \"48 - 55\", \"PART_OF_DAY\": \"Day\", \"AGE_RANGE\": 53.0}, {\"cluster\": \"38 - 47\", \"PART_OF_DAY\": \"Day\", \"AGE_RANGE\": 41.0}, {\"cluster\": \"48 - 55\", \"PART_OF_DAY\": \"Day\", \"AGE_RANGE\": 55.0}, {\"cluster\": \"28 - 37\", \"PART_OF_DAY\": \"Day\", \"AGE_RANGE\": 34.0}, {\"cluster\": \"38 - 47\", \"PART_OF_DAY\": \"Day\", \"AGE_RANGE\": 40.0}, {\"cluster\": \"38 - 47\", \"PART_OF_DAY\": \"Day\", \"AGE_RANGE\": 44.0}, {\"cluster\": \"48 - 55\", \"PART_OF_DAY\": \"Day\", \"AGE_RANGE\": 50.0}, {\"cluster\": \"48 - 55\", \"PART_OF_DAY\": \"Night\", \"AGE_RANGE\": 54.0}, {\"cluster\": \"38 - 47\", \"PART_OF_DAY\": \"Night\", \"AGE_RANGE\": 44.0}, {\"cluster\": \"28 - 37\", \"PART_OF_DAY\": \"Night\", \"AGE_RANGE\": 32.0}, {\"cluster\": \"28 - 37\", \"PART_OF_DAY\": \"Night\", \"AGE_RANGE\": 32.0}, {\"cluster\": \"38 - 47\", \"PART_OF_DAY\": \"Night\", \"AGE_RANGE\": 47.0}, {\"cluster\": \"28 - 37\", \"PART_OF_DAY\": \"Night\", \"AGE_RANGE\": 30.0}, {\"cluster\": \"28 - 37\", \"PART_OF_DAY\": \"Night\", \"AGE_RANGE\": 31.0}, {\"cluster\": \"38 - 47\", \"PART_OF_DAY\": \"Night\", \"AGE_RANGE\": 39.0}, {\"cluster\": \"38 - 47\", \"PART_OF_DAY\": \"Night\", \"AGE_RANGE\": 40.0}, {\"cluster\": \"48 - 55\", \"PART_OF_DAY\": \"Night\", \"AGE_RANGE\": 52.0}, {\"cluster\": \"28 - 37\", \"PART_OF_DAY\": \"Night\", \"AGE_RANGE\": 33.0}, {\"cluster\": \"38 - 47\", \"PART_OF_DAY\": \"Day\", \"AGE_RANGE\": 47.0}, {\"cluster\": \"48 - 55\", \"PART_OF_DAY\": \"Day\", \"AGE_RANGE\": 53.0}, {\"cluster\": \"38 - 47\", \"PART_OF_DAY\": \"Day\", \"AGE_RANGE\": 40.0}, {\"cluster\": \"28 - 37\", \"PART_OF_DAY\": \"Day\", \"AGE_RANGE\": 31.0}, {\"cluster\": \"38 - 47\", \"PART_OF_DAY\": \"Day\", \"AGE_RANGE\": 41.0}, {\"cluster\": \"38 - 47\", \"PART_OF_DAY\": \"Day\", \"AGE_RANGE\": 41.0}, {\"cluster\": \"28 - 37\", \"PART_OF_DAY\": \"Day\", \"AGE_RANGE\": 30.0}, {\"cluster\": \"28 - 37\", \"PART_OF_DAY\": \"Night\", \"AGE_RANGE\": 36.0}, {\"cluster\": \"48 - 55\", \"PART_OF_DAY\": \"Night\", \"AGE_RANGE\": 53.0}, {\"cluster\": \"38 - 47\", \"PART_OF_DAY\": \"Night\", \"AGE_RANGE\": 39.0}, {\"cluster\": \"48 - 55\", \"PART_OF_DAY\": \"Day\", \"AGE_RANGE\": 48.0}, {\"cluster\": \"48 - 55\", \"PART_OF_DAY\": \"Day\", \"AGE_RANGE\": 50.0}, {\"cluster\": \"38 - 47\", \"PART_OF_DAY\": \"Day\", \"AGE_RANGE\": 41.0}, {\"cluster\": \"48 - 55\", \"PART_OF_DAY\": \"Day\", \"AGE_RANGE\": 53.0}, {\"cluster\": \"48 - 55\", \"PART_OF_DAY\": \"Day\", \"AGE_RANGE\": 51.0}, {\"cluster\": \"28 - 37\", \"PART_OF_DAY\": \"Day\", \"AGE_RANGE\": 31.0}, {\"cluster\": \"48 - 55\", \"PART_OF_DAY\": \"Day\", \"AGE_RANGE\": 50.0}, {\"cluster\": \"38 - 47\", \"PART_OF_DAY\": \"Day\", \"AGE_RANGE\": 40.0}, {\"cluster\": \"48 - 55\", \"PART_OF_DAY\": \"Day\", \"AGE_RANGE\": 54.0}, {\"cluster\": \"38 - 47\", \"PART_OF_DAY\": \"Day\", \"AGE_RANGE\": 39.0}, {\"cluster\": \"38 - 47\", \"PART_OF_DAY\": \"Day\", \"AGE_RANGE\": 41.0}, {\"cluster\": \"38 - 47\", \"PART_OF_DAY\": \"Night\", \"AGE_RANGE\": 41.0}, {\"cluster\": \"28 - 37\", \"PART_OF_DAY\": \"Night\", \"AGE_RANGE\": 29.0}, {\"cluster\": \"38 - 47\", \"PART_OF_DAY\": \"Night\", \"AGE_RANGE\": 42.0}, {\"cluster\": \"28 - 37\", \"PART_OF_DAY\": \"Day\", \"AGE_RANGE\": 30.0}, {\"cluster\": \"48 - 55\", \"PART_OF_DAY\": \"Day\", \"AGE_RANGE\": 54.0}, {\"cluster\": \"38 - 47\", \"PART_OF_DAY\": \"Day\", \"AGE_RANGE\": 47.0}, {\"cluster\": \"38 - 47\", \"PART_OF_DAY\": \"Day\", \"AGE_RANGE\": 46.0}, {\"cluster\": \"38 - 47\", \"PART_OF_DAY\": \"Day\", \"AGE_RANGE\": 41.0}, {\"cluster\": \"38 - 47\", \"PART_OF_DAY\": \"Day\", \"AGE_RANGE\": 41.0}, {\"cluster\": \"38 - 47\", \"PART_OF_DAY\": \"Night\", \"AGE_RANGE\": 42.0}, {\"cluster\": \"28 - 37\", \"PART_OF_DAY\": \"Night\", \"AGE_RANGE\": 32.0}, {\"cluster\": \"28 - 37\", \"PART_OF_DAY\": \"Night\", \"AGE_RANGE\": 35.0}, {\"cluster\": \"38 - 47\", \"PART_OF_DAY\": \"Night\", \"AGE_RANGE\": 45.0}, {\"cluster\": \"28 - 37\", \"PART_OF_DAY\": \"Night\", \"AGE_RANGE\": 35.0}, {\"cluster\": \"38 - 47\", \"PART_OF_DAY\": \"Night\", \"AGE_RANGE\": 47.0}, {\"cluster\": \"28 - 37\", \"PART_OF_DAY\": \"Night\", \"AGE_RANGE\": 34.0}, {\"cluster\": \"38 - 47\", \"PART_OF_DAY\": \"Night\", \"AGE_RANGE\": 44.0}, {\"cluster\": \"38 - 47\", \"PART_OF_DAY\": \"Night\", \"AGE_RANGE\": 38.0}, {\"cluster\": \"48 - 55\", \"PART_OF_DAY\": \"Day\", \"AGE_RANGE\": 49.0}, {\"cluster\": \"38 - 47\", \"PART_OF_DAY\": \"Night\", \"AGE_RANGE\": 47.0}, {\"cluster\": \"48 - 55\", \"PART_OF_DAY\": \"Night\", \"AGE_RANGE\": 48.0}, {\"cluster\": \"48 - 55\", \"PART_OF_DAY\": \"Night\", \"AGE_RANGE\": 52.0}, {\"cluster\": \"28 - 37\", \"PART_OF_DAY\": \"Day\", \"AGE_RANGE\": 29.0}, {\"cluster\": \"38 - 47\", \"PART_OF_DAY\": \"Day\", \"AGE_RANGE\": 44.0}, {\"cluster\": \"48 - 55\", \"PART_OF_DAY\": \"Day\", \"AGE_RANGE\": 50.0}, {\"cluster\": \"28 - 37\", \"PART_OF_DAY\": \"Day\", \"AGE_RANGE\": 34.0}, {\"cluster\": \"48 - 55\", \"PART_OF_DAY\": \"Day\", \"AGE_RANGE\": 53.0}, {\"cluster\": \"38 - 47\", \"PART_OF_DAY\": \"Day\", \"AGE_RANGE\": 47.0}, {\"cluster\": \"48 - 55\", \"PART_OF_DAY\": \"Day\", \"AGE_RANGE\": 53.0}, {\"cluster\": \"28 - 37\", \"PART_OF_DAY\": \"Day\", \"AGE_RANGE\": 36.0}, {\"cluster\": \"38 - 47\", \"PART_OF_DAY\": \"Day\", \"AGE_RANGE\": 43.0}, {\"cluster\": \"38 - 47\", \"PART_OF_DAY\": \"Day\", \"AGE_RANGE\": 44.0}, {\"cluster\": \"48 - 55\", \"PART_OF_DAY\": \"Day\", \"AGE_RANGE\": 50.0}, {\"cluster\": \"48 - 55\", \"PART_OF_DAY\": \"Day\", \"AGE_RANGE\": 55.0}, {\"cluster\": \"28 - 37\", \"PART_OF_DAY\": \"Day\", \"AGE_RANGE\": 29.0}, {\"cluster\": \"28 - 37\", \"PART_OF_DAY\": \"Day\", \"AGE_RANGE\": 28.0}, {\"cluster\": \"28 - 37\", \"PART_OF_DAY\": \"Day\", \"AGE_RANGE\": 35.0}, {\"cluster\": \"38 - 47\", \"PART_OF_DAY\": \"Day\", \"AGE_RANGE\": 46.0}, {\"cluster\": \"48 - 55\", \"PART_OF_DAY\": \"Day\", \"AGE_RANGE\": 50.0}, {\"cluster\": \"28 - 37\", \"PART_OF_DAY\": \"Day\", \"AGE_RANGE\": 33.0}, {\"cluster\": \"28 - 37\", \"PART_OF_DAY\": \"Day\", \"AGE_RANGE\": 34.0}, {\"cluster\": \"38 - 47\", \"PART_OF_DAY\": \"Day\", \"AGE_RANGE\": 40.0}, {\"cluster\": \"28 - 37\", \"PART_OF_DAY\": \"Day\", \"AGE_RANGE\": 33.0}, {\"cluster\": \"48 - 55\", \"PART_OF_DAY\": \"Day\", \"AGE_RANGE\": 52.0}, {\"cluster\": \"48 - 55\", \"PART_OF_DAY\": \"Day\", \"AGE_RANGE\": 54.0}, {\"cluster\": \"38 - 47\", \"PART_OF_DAY\": \"Day\", \"AGE_RANGE\": 38.0}, {\"cluster\": \"38 - 47\", \"PART_OF_DAY\": \"Day\", \"AGE_RANGE\": 43.0}, {\"cluster\": \"38 - 47\", \"PART_OF_DAY\": \"Day\", \"AGE_RANGE\": 45.0}, {\"cluster\": \"48 - 55\", \"PART_OF_DAY\": \"Night\", \"AGE_RANGE\": 52.0}, {\"cluster\": \"28 - 37\", \"PART_OF_DAY\": \"Night\", \"AGE_RANGE\": 37.0}, {\"cluster\": \"38 - 47\", \"PART_OF_DAY\": \"Night\", \"AGE_RANGE\": 41.0}, {\"cluster\": \"38 - 47\", \"PART_OF_DAY\": \"Night\", \"AGE_RANGE\": 45.0}, {\"cluster\": \"48 - 55\", \"PART_OF_DAY\": \"Night\", \"AGE_RANGE\": 53.0}, {\"cluster\": \"38 - 47\", \"PART_OF_DAY\": \"Night\", \"AGE_RANGE\": 39.0}, {\"cluster\": \"28 - 37\", \"PART_OF_DAY\": \"Night\", \"AGE_RANGE\": 32.0}, {\"cluster\": \"48 - 55\", \"PART_OF_DAY\": \"Night\", \"AGE_RANGE\": 50.0}, {\"cluster\": \"28 - 37\", \"PART_OF_DAY\": \"Night\", \"AGE_RANGE\": 33.0}, {\"cluster\": \"38 - 47\", \"PART_OF_DAY\": \"Night\", \"AGE_RANGE\": 46.0}, {\"cluster\": \"28 - 37\", \"PART_OF_DAY\": \"Night\", \"AGE_RANGE\": 30.0}, {\"cluster\": \"48 - 55\", \"PART_OF_DAY\": \"Night\", \"AGE_RANGE\": 55.0}, {\"cluster\": \"28 - 37\", \"PART_OF_DAY\": \"Night\", \"AGE_RANGE\": 30.0}, {\"cluster\": \"28 - 37\", \"PART_OF_DAY\": \"Night\", \"AGE_RANGE\": 34.0}, {\"cluster\": \"38 - 47\", \"PART_OF_DAY\": \"Night\", \"AGE_RANGE\": 39.0}, {\"cluster\": \"38 - 47\", \"PART_OF_DAY\": \"Day\", \"AGE_RANGE\": 41.0}, {\"cluster\": \"38 - 47\", \"PART_OF_DAY\": \"Day\", \"AGE_RANGE\": 39.0}, {\"cluster\": \"28 - 37\", \"PART_OF_DAY\": \"Day\", \"AGE_RANGE\": 35.0}, {\"cluster\": \"28 - 37\", \"PART_OF_DAY\": \"Day\", \"AGE_RANGE\": 34.0}, {\"cluster\": \"48 - 55\", \"PART_OF_DAY\": \"Day\", \"AGE_RANGE\": 55.0}, {\"cluster\": \"38 - 47\", \"PART_OF_DAY\": \"Day\", \"AGE_RANGE\": 47.0}, {\"cluster\": \"38 - 47\", \"PART_OF_DAY\": \"Day\", \"AGE_RANGE\": 45.0}, {\"cluster\": \"28 - 37\", \"PART_OF_DAY\": \"Day\", \"AGE_RANGE\": 31.0}, {\"cluster\": \"38 - 47\", \"PART_OF_DAY\": \"Day\", \"AGE_RANGE\": 41.0}, {\"cluster\": \"38 - 47\", \"PART_OF_DAY\": \"Day\", \"AGE_RANGE\": 42.0}, {\"cluster\": \"28 - 37\", \"PART_OF_DAY\": \"Day\", \"AGE_RANGE\": 36.0}, {\"cluster\": \"48 - 55\", \"PART_OF_DAY\": \"Day\", \"AGE_RANGE\": 54.0}, {\"cluster\": \"38 - 47\", \"PART_OF_DAY\": \"Day\", \"AGE_RANGE\": 44.0}, {\"cluster\": \"38 - 47\", \"PART_OF_DAY\": \"Day\", \"AGE_RANGE\": 47.0}, {\"cluster\": \"38 - 47\", \"PART_OF_DAY\": \"Day\", \"AGE_RANGE\": 47.0}, {\"cluster\": \"28 - 37\", \"PART_OF_DAY\": \"Night\", \"AGE_RANGE\": 29.0}, {\"cluster\": \"38 - 47\", \"PART_OF_DAY\": \"Night\", \"AGE_RANGE\": 41.0}, {\"cluster\": \"48 - 55\", \"PART_OF_DAY\": \"Night\", \"AGE_RANGE\": 50.0}, {\"cluster\": \"48 - 55\", \"PART_OF_DAY\": \"Night\", \"AGE_RANGE\": 54.0}, {\"cluster\": \"48 - 55\", \"PART_OF_DAY\": \"Night\", \"AGE_RANGE\": 48.0}, {\"cluster\": \"38 - 47\", \"PART_OF_DAY\": \"Night\", \"AGE_RANGE\": 41.0}, {\"cluster\": \"28 - 37\", \"PART_OF_DAY\": \"Night\", \"AGE_RANGE\": 29.0}, {\"cluster\": \"28 - 37\", \"PART_OF_DAY\": \"Night\", \"AGE_RANGE\": 34.0}, {\"cluster\": \"28 - 37\", \"PART_OF_DAY\": \"Night\", \"AGE_RANGE\": 29.0}, {\"cluster\": \"28 - 37\", \"PART_OF_DAY\": \"Night\", \"AGE_RANGE\": 33.0}, {\"cluster\": \"38 - 47\", \"PART_OF_DAY\": \"Night\", \"AGE_RANGE\": 43.0}, {\"cluster\": \"28 - 37\", \"PART_OF_DAY\": \"Night\", \"AGE_RANGE\": 32.0}, {\"cluster\": \"28 - 37\", \"PART_OF_DAY\": \"Night\", \"AGE_RANGE\": 29.0}, {\"cluster\": \"48 - 55\", \"PART_OF_DAY\": \"Night\", \"AGE_RANGE\": 48.0}, {\"cluster\": \"48 - 55\", \"PART_OF_DAY\": \"Night\", \"AGE_RANGE\": 54.0}, {\"cluster\": \"38 - 47\", \"PART_OF_DAY\": \"Night\", \"AGE_RANGE\": 42.0}, {\"cluster\": \"28 - 37\", \"PART_OF_DAY\": \"Night\", \"AGE_RANGE\": 35.0}, {\"cluster\": \"38 - 47\", \"PART_OF_DAY\": \"Night\", \"AGE_RANGE\": 40.0}, {\"cluster\": \"28 - 37\", \"PART_OF_DAY\": \"Night\", \"AGE_RANGE\": 37.0}, {\"cluster\": \"28 - 37\", \"PART_OF_DAY\": \"Night\", \"AGE_RANGE\": 31.0}, {\"cluster\": \"48 - 55\", \"PART_OF_DAY\": \"Night\", \"AGE_RANGE\": 55.0}, {\"cluster\": \"38 - 47\", \"PART_OF_DAY\": \"Night\", \"AGE_RANGE\": 40.0}, {\"cluster\": \"28 - 37\", \"PART_OF_DAY\": \"Night\", \"AGE_RANGE\": 37.0}, {\"cluster\": \"28 - 37\", \"PART_OF_DAY\": \"Night\", \"AGE_RANGE\": 30.0}, {\"cluster\": \"38 - 47\", \"PART_OF_DAY\": \"Night\", \"AGE_RANGE\": 45.0}, {\"cluster\": \"28 - 37\", \"PART_OF_DAY\": \"Night\", \"AGE_RANGE\": 28.0}, {\"cluster\": \"38 - 47\", \"PART_OF_DAY\": \"Night\", \"AGE_RANGE\": 44.0}, {\"cluster\": \"28 - 37\", \"PART_OF_DAY\": \"Night\", \"AGE_RANGE\": 33.0}, {\"cluster\": \"28 - 37\", \"PART_OF_DAY\": \"Night\", \"AGE_RANGE\": 32.0}, {\"cluster\": \"28 - 37\", \"PART_OF_DAY\": \"Night\", \"AGE_RANGE\": 37.0}, {\"cluster\": \"38 - 47\", \"PART_OF_DAY\": \"Night\", \"AGE_RANGE\": 39.0}, {\"cluster\": \"28 - 37\", \"PART_OF_DAY\": \"Day\", \"AGE_RANGE\": 35.0}, {\"cluster\": \"28 - 37\", \"PART_OF_DAY\": \"Day\", \"AGE_RANGE\": 36.0}, {\"cluster\": \"38 - 47\", \"PART_OF_DAY\": \"Day\", \"AGE_RANGE\": 40.0}, {\"cluster\": \"48 - 55\", \"PART_OF_DAY\": \"Day\", \"AGE_RANGE\": 48.0}, {\"cluster\": \"48 - 55\", \"PART_OF_DAY\": \"Day\", \"AGE_RANGE\": 51.0}, {\"cluster\": \"28 - 37\", \"PART_OF_DAY\": \"Day\", \"AGE_RANGE\": 28.0}, {\"cluster\": \"38 - 47\", \"PART_OF_DAY\": \"Day\", \"AGE_RANGE\": 44.0}, {\"cluster\": \"28 - 37\", \"PART_OF_DAY\": \"Day\", \"AGE_RANGE\": 34.0}, {\"cluster\": \"48 - 55\", \"PART_OF_DAY\": \"Day\", \"AGE_RANGE\": 49.0}, {\"cluster\": \"48 - 55\", \"PART_OF_DAY\": \"Day\", \"AGE_RANGE\": 48.0}, {\"cluster\": \"48 - 55\", \"PART_OF_DAY\": \"Day\", \"AGE_RANGE\": 53.0}, {\"cluster\": \"38 - 47\", \"PART_OF_DAY\": \"Day\", \"AGE_RANGE\": 46.0}, {\"cluster\": \"38 - 47\", \"PART_OF_DAY\": \"Day\", \"AGE_RANGE\": 47.0}, {\"cluster\": \"48 - 55\", \"PART_OF_DAY\": \"Day\", \"AGE_RANGE\": 55.0}, {\"cluster\": \"28 - 37\", \"PART_OF_DAY\": \"Day\", \"AGE_RANGE\": 37.0}, {\"cluster\": \"28 - 37\", \"PART_OF_DAY\": \"Night\", \"AGE_RANGE\": 37.0}, {\"cluster\": \"28 - 37\", \"PART_OF_DAY\": \"Night\", \"AGE_RANGE\": 31.0}, {\"cluster\": \"38 - 47\", \"PART_OF_DAY\": \"Night\", \"AGE_RANGE\": 42.0}, {\"cluster\": \"38 - 47\", \"PART_OF_DAY\": \"Night\", \"AGE_RANGE\": 46.0}, {\"cluster\": \"48 - 55\", \"PART_OF_DAY\": \"Day\", \"AGE_RANGE\": 50.0}, {\"cluster\": \"48 - 55\", \"PART_OF_DAY\": \"Day\", \"AGE_RANGE\": 51.0}, {\"cluster\": \"28 - 37\", \"PART_OF_DAY\": \"Day\", \"AGE_RANGE\": 30.0}, {\"cluster\": \"38 - 47\", \"PART_OF_DAY\": \"Day\", \"AGE_RANGE\": 47.0}, {\"cluster\": \"28 - 37\", \"PART_OF_DAY\": \"Day\", \"AGE_RANGE\": 33.0}, {\"cluster\": \"28 - 37\", \"PART_OF_DAY\": \"Day\", \"AGE_RANGE\": 29.0}, {\"cluster\": \"48 - 55\", \"PART_OF_DAY\": \"Day\", \"AGE_RANGE\": 54.0}, {\"cluster\": \"28 - 37\", \"PART_OF_DAY\": \"Day\", \"AGE_RANGE\": 35.0}, {\"cluster\": \"38 - 47\", \"PART_OF_DAY\": \"Day\", \"AGE_RANGE\": 45.0}, {\"cluster\": \"48 - 55\", \"PART_OF_DAY\": \"Day\", \"AGE_RANGE\": 53.0}, {\"cluster\": \"48 - 55\", \"PART_OF_DAY\": \"Day\", \"AGE_RANGE\": 48.0}, {\"cluster\": \"28 - 37\", \"PART_OF_DAY\": \"Day\", \"AGE_RANGE\": 36.0}, {\"cluster\": \"38 - 47\", \"PART_OF_DAY\": \"Day\", \"AGE_RANGE\": 45.0}, {\"cluster\": \"38 - 47\", \"PART_OF_DAY\": \"Day\", \"AGE_RANGE\": 41.0}, {\"cluster\": \"48 - 55\", \"PART_OF_DAY\": \"Day\", \"AGE_RANGE\": 54.0}, {\"cluster\": \"28 - 37\", \"PART_OF_DAY\": \"Day\", \"AGE_RANGE\": 35.0}, {\"cluster\": \"38 - 47\", \"PART_OF_DAY\": \"Day\", \"AGE_RANGE\": 46.0}, {\"cluster\": \"48 - 55\", \"PART_OF_DAY\": \"Day\", \"AGE_RANGE\": 53.0}, {\"cluster\": \"38 - 47\", \"PART_OF_DAY\": \"Day\", \"AGE_RANGE\": 38.0}, {\"cluster\": \"38 - 47\", \"PART_OF_DAY\": \"Day\", \"AGE_RANGE\": 39.0}, {\"cluster\": \"28 - 37\", \"PART_OF_DAY\": \"Day\", \"AGE_RANGE\": 32.0}, {\"cluster\": \"28 - 37\", \"PART_OF_DAY\": \"Day\", \"AGE_RANGE\": 37.0}, {\"cluster\": \"48 - 55\", \"PART_OF_DAY\": \"Day\", \"AGE_RANGE\": 53.0}, {\"cluster\": \"48 - 55\", \"PART_OF_DAY\": \"Day\", \"AGE_RANGE\": 53.0}, {\"cluster\": \"48 - 55\", \"PART_OF_DAY\": \"Day\", \"AGE_RANGE\": 48.0}, {\"cluster\": \"48 - 55\", \"PART_OF_DAY\": \"Day\", \"AGE_RANGE\": 50.0}, {\"cluster\": \"48 - 55\", \"PART_OF_DAY\": \"Day\", \"AGE_RANGE\": 53.0}, {\"cluster\": \"48 - 55\", \"PART_OF_DAY\": \"Day\", \"AGE_RANGE\": 49.0}, {\"cluster\": \"38 - 47\", \"PART_OF_DAY\": \"Day\", \"AGE_RANGE\": 41.0}, {\"cluster\": \"28 - 37\", \"PART_OF_DAY\": \"Day\", \"AGE_RANGE\": 30.0}, {\"cluster\": \"48 - 55\", \"PART_OF_DAY\": \"Day\", \"AGE_RANGE\": 54.0}, {\"cluster\": \"48 - 55\", \"PART_OF_DAY\": \"Day\", \"AGE_RANGE\": 50.0}, {\"cluster\": \"28 - 37\", \"PART_OF_DAY\": \"Day\", \"AGE_RANGE\": 35.0}, {\"cluster\": \"38 - 47\", \"PART_OF_DAY\": \"Day\", \"AGE_RANGE\": 46.0}, {\"cluster\": \"48 - 55\", \"PART_OF_DAY\": \"Day\", \"AGE_RANGE\": 51.0}, {\"cluster\": \"28 - 37\", \"PART_OF_DAY\": \"Day\", \"AGE_RANGE\": 30.0}, {\"cluster\": \"38 - 47\", \"PART_OF_DAY\": \"Day\", \"AGE_RANGE\": 40.0}, {\"cluster\": \"38 - 47\", \"PART_OF_DAY\": \"Day\", \"AGE_RANGE\": 42.0}, {\"cluster\": \"48 - 55\", \"PART_OF_DAY\": \"Day\", \"AGE_RANGE\": 54.0}, {\"cluster\": \"48 - 55\", \"PART_OF_DAY\": \"Day\", \"AGE_RANGE\": 54.0}, {\"cluster\": \"48 - 55\", \"PART_OF_DAY\": \"Day\", \"AGE_RANGE\": 48.0}, {\"cluster\": \"38 - 47\", \"PART_OF_DAY\": \"Day\", \"AGE_RANGE\": 46.0}, {\"cluster\": \"38 - 47\", \"PART_OF_DAY\": \"Day\", \"AGE_RANGE\": 45.0}, {\"cluster\": \"38 - 47\", \"PART_OF_DAY\": \"Day\", \"AGE_RANGE\": 45.0}, {\"cluster\": \"48 - 55\", \"PART_OF_DAY\": \"Day\", \"AGE_RANGE\": 49.0}, {\"cluster\": \"28 - 37\", \"PART_OF_DAY\": \"Day\", \"AGE_RANGE\": 36.0}, {\"cluster\": \"28 - 37\", \"PART_OF_DAY\": \"Day\", \"AGE_RANGE\": 32.0}, {\"cluster\": \"28 - 37\", \"PART_OF_DAY\": \"Night\", \"AGE_RANGE\": 30.0}, {\"cluster\": \"48 - 55\", \"PART_OF_DAY\": \"Night\", \"AGE_RANGE\": 51.0}, {\"cluster\": \"28 - 37\", \"PART_OF_DAY\": \"Night\", \"AGE_RANGE\": 33.0}, {\"cluster\": \"28 - 37\", \"PART_OF_DAY\": \"Night\", \"AGE_RANGE\": 28.0}, {\"cluster\": \"48 - 55\", \"PART_OF_DAY\": \"Night\", \"AGE_RANGE\": 50.0}, {\"cluster\": \"48 - 55\", \"PART_OF_DAY\": \"Night\", \"AGE_RANGE\": 53.0}, {\"cluster\": \"48 - 55\", \"PART_OF_DAY\": \"Night\", \"AGE_RANGE\": 52.0}, {\"cluster\": \"28 - 37\", \"PART_OF_DAY\": \"Night\", \"AGE_RANGE\": 33.0}, {\"cluster\": \"38 - 47\", \"PART_OF_DAY\": \"Night\", \"AGE_RANGE\": 45.0}, {\"cluster\": \"28 - 37\", \"PART_OF_DAY\": \"Night\", \"AGE_RANGE\": 33.0}, {\"cluster\": \"38 - 47\", \"PART_OF_DAY\": \"Night\", \"AGE_RANGE\": 47.0}, {\"cluster\": \"28 - 37\", \"PART_OF_DAY\": \"Night\", \"AGE_RANGE\": 31.0}, {\"cluster\": \"38 - 47\", \"PART_OF_DAY\": \"Night\", \"AGE_RANGE\": 44.0}, {\"cluster\": \"28 - 37\", \"PART_OF_DAY\": \"Night\", \"AGE_RANGE\": 36.0}, {\"cluster\": \"48 - 55\", \"PART_OF_DAY\": \"Night\", \"AGE_RANGE\": 50.0}, {\"cluster\": \"48 - 55\", \"PART_OF_DAY\": \"Night\", \"AGE_RANGE\": 53.0}, {\"cluster\": \"28 - 37\", \"PART_OF_DAY\": \"Night\", \"AGE_RANGE\": 33.0}, {\"cluster\": \"38 - 47\", \"PART_OF_DAY\": \"Night\", \"AGE_RANGE\": 45.0}, {\"cluster\": \"48 - 55\", \"PART_OF_DAY\": \"Night\", \"AGE_RANGE\": 50.0}, {\"cluster\": \"28 - 37\", \"PART_OF_DAY\": \"Day\", \"AGE_RANGE\": 36.0}, {\"cluster\": \"48 - 55\", \"PART_OF_DAY\": \"Day\", \"AGE_RANGE\": 49.0}, {\"cluster\": \"48 - 55\", \"PART_OF_DAY\": \"Day\", \"AGE_RANGE\": 55.0}, {\"cluster\": \"38 - 47\", \"PART_OF_DAY\": \"Day\", \"AGE_RANGE\": 44.0}, {\"cluster\": \"38 - 47\", \"PART_OF_DAY\": \"Day\", \"AGE_RANGE\": 45.0}, {\"cluster\": \"28 - 37\", \"PART_OF_DAY\": \"Day\", \"AGE_RANGE\": 37.0}, {\"cluster\": \"48 - 55\", \"PART_OF_DAY\": \"Day\", \"AGE_RANGE\": 55.0}, {\"cluster\": \"48 - 55\", \"PART_OF_DAY\": \"Day\", \"AGE_RANGE\": 54.0}, {\"cluster\": \"28 - 37\", \"PART_OF_DAY\": \"Day\", \"AGE_RANGE\": 30.0}, {\"cluster\": \"48 - 55\", \"PART_OF_DAY\": \"Day\", \"AGE_RANGE\": 54.0}, {\"cluster\": \"38 - 47\", \"PART_OF_DAY\": \"Night\", \"AGE_RANGE\": 40.0}, {\"cluster\": \"28 - 37\", \"PART_OF_DAY\": \"Night\", \"AGE_RANGE\": 34.0}, {\"cluster\": \"28 - 37\", \"PART_OF_DAY\": \"Night\", \"AGE_RANGE\": 35.0}, {\"cluster\": \"48 - 55\", \"PART_OF_DAY\": \"Night\", \"AGE_RANGE\": 52.0}, {\"cluster\": \"38 - 47\", \"PART_OF_DAY\": \"Night\", \"AGE_RANGE\": 39.0}, {\"cluster\": \"38 - 47\", \"PART_OF_DAY\": \"Night\", \"AGE_RANGE\": 43.0}, {\"cluster\": \"38 - 47\", \"PART_OF_DAY\": \"Night\", \"AGE_RANGE\": 44.0}, {\"cluster\": \"38 - 47\", \"PART_OF_DAY\": \"Day\", \"AGE_RANGE\": 40.0}, {\"cluster\": \"48 - 55\", \"PART_OF_DAY\": \"Day\", \"AGE_RANGE\": 52.0}, {\"cluster\": \"38 - 47\", \"PART_OF_DAY\": \"Day\", \"AGE_RANGE\": 39.0}, {\"cluster\": \"48 - 55\", \"PART_OF_DAY\": \"Day\", \"AGE_RANGE\": 53.0}, {\"cluster\": \"28 - 37\", \"PART_OF_DAY\": \"Day\", \"AGE_RANGE\": 31.0}, {\"cluster\": \"28 - 37\", \"PART_OF_DAY\": \"Day\", \"AGE_RANGE\": 32.0}, {\"cluster\": \"48 - 55\", \"PART_OF_DAY\": \"Day\", \"AGE_RANGE\": 53.0}, {\"cluster\": \"38 - 47\", \"PART_OF_DAY\": \"Day\", \"AGE_RANGE\": 41.0}, {\"cluster\": \"38 - 47\", \"PART_OF_DAY\": \"Day\", \"AGE_RANGE\": 41.0}, {\"cluster\": \"28 - 37\", \"PART_OF_DAY\": \"Night\", \"AGE_RANGE\": 36.0}, {\"cluster\": \"48 - 55\", \"PART_OF_DAY\": \"Night\", \"AGE_RANGE\": 49.0}, {\"cluster\": \"48 - 55\", \"PART_OF_DAY\": \"Night\", \"AGE_RANGE\": 50.0}, {\"cluster\": \"28 - 37\", \"PART_OF_DAY\": \"Night\", \"AGE_RANGE\": 32.0}, {\"cluster\": \"48 - 55\", \"PART_OF_DAY\": \"Night\", \"AGE_RANGE\": 53.0}, {\"cluster\": \"38 - 47\", \"PART_OF_DAY\": \"Night\", \"AGE_RANGE\": 40.0}, {\"cluster\": \"48 - 55\", \"PART_OF_DAY\": \"Night\", \"AGE_RANGE\": 49.0}, {\"cluster\": \"38 - 47\", \"PART_OF_DAY\": \"Night\", \"AGE_RANGE\": 47.0}, {\"cluster\": \"28 - 37\", \"PART_OF_DAY\": \"Night\", \"AGE_RANGE\": 37.0}, {\"cluster\": \"48 - 55\", \"PART_OF_DAY\": \"Night\", \"AGE_RANGE\": 49.0}, {\"cluster\": \"38 - 47\", \"PART_OF_DAY\": \"Night\", \"AGE_RANGE\": 44.0}, {\"cluster\": \"38 - 47\", \"PART_OF_DAY\": \"Night\", \"AGE_RANGE\": 43.0}, {\"cluster\": \"38 - 47\", \"PART_OF_DAY\": \"Night\", \"AGE_RANGE\": 47.0}, {\"cluster\": \"38 - 47\", \"PART_OF_DAY\": \"Night\", \"AGE_RANGE\": 45.0}, {\"cluster\": \"48 - 55\", \"PART_OF_DAY\": \"Night\", \"AGE_RANGE\": 51.0}, {\"cluster\": \"48 - 55\", \"PART_OF_DAY\": \"Night\", \"AGE_RANGE\": 48.0}, {\"cluster\": \"28 - 37\", \"PART_OF_DAY\": \"Day\", \"AGE_RANGE\": 37.0}, {\"cluster\": \"28 - 37\", \"PART_OF_DAY\": \"Day\", \"AGE_RANGE\": 33.0}, {\"cluster\": \"38 - 47\", \"PART_OF_DAY\": \"Day\", \"AGE_RANGE\": 46.0}, {\"cluster\": \"38 - 47\", \"PART_OF_DAY\": \"Day\", \"AGE_RANGE\": 40.0}, {\"cluster\": \"28 - 37\", \"PART_OF_DAY\": \"Day\", \"AGE_RANGE\": 34.0}, {\"cluster\": \"28 - 37\", \"PART_OF_DAY\": \"Night\", \"AGE_RANGE\": 32.0}, {\"cluster\": \"38 - 47\", \"PART_OF_DAY\": \"Night\", \"AGE_RANGE\": 44.0}, {\"cluster\": \"38 - 47\", \"PART_OF_DAY\": \"Night\", \"AGE_RANGE\": 47.0}, {\"cluster\": \"38 - 47\", \"PART_OF_DAY\": \"Night\", \"AGE_RANGE\": 45.0}, {\"cluster\": \"38 - 47\", \"PART_OF_DAY\": \"Night\", \"AGE_RANGE\": 45.0}, {\"cluster\": \"48 - 55\", \"PART_OF_DAY\": \"Night\", \"AGE_RANGE\": 54.0}, {\"cluster\": \"48 - 55\", \"PART_OF_DAY\": \"Day\", \"AGE_RANGE\": 49.0}, {\"cluster\": \"28 - 37\", \"PART_OF_DAY\": \"Day\", \"AGE_RANGE\": 34.0}, {\"cluster\": \"38 - 47\", \"PART_OF_DAY\": \"Day\", \"AGE_RANGE\": 44.0}, {\"cluster\": \"48 - 55\", \"PART_OF_DAY\": \"Day\", \"AGE_RANGE\": 53.0}, {\"cluster\": \"28 - 37\", \"PART_OF_DAY\": \"Day\", \"AGE_RANGE\": 33.0}, {\"cluster\": \"28 - 37\", \"PART_OF_DAY\": \"Day\", \"AGE_RANGE\": 36.0}, {\"cluster\": \"48 - 55\", \"PART_OF_DAY\": \"Day\", \"AGE_RANGE\": 53.0}, {\"cluster\": \"38 - 47\", \"PART_OF_DAY\": \"Day\", \"AGE_RANGE\": 47.0}, {\"cluster\": \"28 - 37\", \"PART_OF_DAY\": \"Day\", \"AGE_RANGE\": 34.0}, {\"cluster\": \"48 - 55\", \"PART_OF_DAY\": \"Day\", \"AGE_RANGE\": 54.0}, {\"cluster\": \"48 - 55\", \"PART_OF_DAY\": \"Day\", \"AGE_RANGE\": 52.0}, {\"cluster\": \"48 - 55\", \"PART_OF_DAY\": \"Day\", \"AGE_RANGE\": 52.0}, {\"cluster\": \"38 - 47\", \"PART_OF_DAY\": \"Day\", \"AGE_RANGE\": 38.0}, {\"cluster\": \"48 - 55\", \"PART_OF_DAY\": \"Day\", \"AGE_RANGE\": 53.0}, {\"cluster\": \"28 - 37\", \"PART_OF_DAY\": \"Day\", \"AGE_RANGE\": 30.0}, {\"cluster\": \"48 - 55\", \"PART_OF_DAY\": \"Day\", \"AGE_RANGE\": 49.0}, {\"cluster\": \"38 - 47\", \"PART_OF_DAY\": \"Day\", \"AGE_RANGE\": 41.0}, {\"cluster\": \"48 - 55\", \"PART_OF_DAY\": \"Day\", \"AGE_RANGE\": 55.0}, {\"cluster\": \"28 - 37\", \"PART_OF_DAY\": \"Day\", \"AGE_RANGE\": 32.0}, {\"cluster\": \"28 - 37\", \"PART_OF_DAY\": \"Day\", \"AGE_RANGE\": 35.0}, {\"cluster\": \"28 - 37\", \"PART_OF_DAY\": \"Day\", \"AGE_RANGE\": 37.0}, {\"cluster\": \"48 - 55\", \"PART_OF_DAY\": \"Day\", \"AGE_RANGE\": 49.0}, {\"cluster\": \"48 - 55\", \"PART_OF_DAY\": \"Day\", \"AGE_RANGE\": 53.0}, {\"cluster\": \"48 - 55\", \"PART_OF_DAY\": \"Day\", \"AGE_RANGE\": 53.0}, {\"cluster\": \"38 - 47\", \"PART_OF_DAY\": \"Day\", \"AGE_RANGE\": 43.0}, {\"cluster\": \"28 - 37\", \"PART_OF_DAY\": \"Day\", \"AGE_RANGE\": 32.0}, {\"cluster\": \"28 - 37\", \"PART_OF_DAY\": \"Day\", \"AGE_RANGE\": 28.0}, {\"cluster\": \"38 - 47\", \"PART_OF_DAY\": \"Day\", \"AGE_RANGE\": 42.0}, {\"cluster\": \"48 - 55\", \"PART_OF_DAY\": \"Day\", \"AGE_RANGE\": 49.0}, {\"cluster\": \"28 - 37\", \"PART_OF_DAY\": \"Day\", \"AGE_RANGE\": 29.0}, {\"cluster\": \"38 - 47\", \"PART_OF_DAY\": \"Day\", \"AGE_RANGE\": 47.0}, {\"cluster\": \"28 - 37\", \"PART_OF_DAY\": \"Day\", \"AGE_RANGE\": 28.0}, {\"cluster\": \"48 - 55\", \"PART_OF_DAY\": \"Day\", \"AGE_RANGE\": 49.0}, {\"cluster\": \"28 - 37\", \"PART_OF_DAY\": \"Day\", \"AGE_RANGE\": 36.0}, {\"cluster\": \"38 - 47\", \"PART_OF_DAY\": \"Day\", \"AGE_RANGE\": 39.0}, {\"cluster\": \"38 - 47\", \"PART_OF_DAY\": \"Day\", \"AGE_RANGE\": 38.0}, {\"cluster\": \"48 - 55\", \"PART_OF_DAY\": \"Day\", \"AGE_RANGE\": 49.0}, {\"cluster\": \"28 - 37\", \"PART_OF_DAY\": \"Night\", \"AGE_RANGE\": 35.0}, {\"cluster\": \"28 - 37\", \"PART_OF_DAY\": \"Night\", \"AGE_RANGE\": 32.0}, {\"cluster\": \"38 - 47\", \"PART_OF_DAY\": \"Night\", \"AGE_RANGE\": 47.0}, {\"cluster\": \"48 - 55\", \"PART_OF_DAY\": \"Night\", \"AGE_RANGE\": 51.0}, {\"cluster\": \"38 - 47\", \"PART_OF_DAY\": \"Night\", \"AGE_RANGE\": 46.0}, {\"cluster\": \"38 - 47\", \"PART_OF_DAY\": \"Night\", \"AGE_RANGE\": 41.0}, {\"cluster\": \"28 - 37\", \"PART_OF_DAY\": \"Night\", \"AGE_RANGE\": 28.0}, {\"cluster\": \"28 - 37\", \"PART_OF_DAY\": \"Night\", \"AGE_RANGE\": 36.0}, {\"cluster\": \"48 - 55\", \"PART_OF_DAY\": \"Night\", \"AGE_RANGE\": 51.0}, {\"cluster\": \"28 - 37\", \"PART_OF_DAY\": \"Night\", \"AGE_RANGE\": 29.0}, {\"cluster\": \"38 - 47\", \"PART_OF_DAY\": \"Night\", \"AGE_RANGE\": 44.0}, {\"cluster\": \"28 - 37\", \"PART_OF_DAY\": \"Night\", \"AGE_RANGE\": 31.0}, {\"cluster\": \"48 - 55\", \"PART_OF_DAY\": \"Night\", \"AGE_RANGE\": 52.0}, {\"cluster\": \"28 - 37\", \"PART_OF_DAY\": \"Night\", \"AGE_RANGE\": 32.0}, {\"cluster\": \"28 - 37\", \"PART_OF_DAY\": \"Night\", \"AGE_RANGE\": 32.0}, {\"cluster\": \"48 - 55\", \"PART_OF_DAY\": \"Night\", \"AGE_RANGE\": 49.0}, {\"cluster\": \"28 - 37\", \"PART_OF_DAY\": \"Night\", \"AGE_RANGE\": 28.0}, {\"cluster\": \"28 - 37\", \"PART_OF_DAY\": \"Night\", \"AGE_RANGE\": 35.0}, {\"cluster\": \"38 - 47\", \"PART_OF_DAY\": \"Night\", \"AGE_RANGE\": 38.0}, {\"cluster\": \"48 - 55\", \"PART_OF_DAY\": \"Night\", \"AGE_RANGE\": 49.0}, {\"cluster\": \"28 - 37\", \"PART_OF_DAY\": \"Night\", \"AGE_RANGE\": 34.0}, {\"cluster\": \"38 - 47\", \"PART_OF_DAY\": \"Night\", \"AGE_RANGE\": 44.0}, {\"cluster\": \"48 - 55\", \"PART_OF_DAY\": \"Night\", \"AGE_RANGE\": 50.0}, {\"cluster\": \"38 - 47\", \"PART_OF_DAY\": \"Night\", \"AGE_RANGE\": 38.0}, {\"cluster\": \"48 - 55\", \"PART_OF_DAY\": \"Night\", \"AGE_RANGE\": 52.0}, {\"cluster\": \"48 - 55\", \"PART_OF_DAY\": \"Night\", \"AGE_RANGE\": 50.0}, {\"cluster\": \"48 - 55\", \"PART_OF_DAY\": \"Night\", \"AGE_RANGE\": 52.0}, {\"cluster\": \"28 - 37\", \"PART_OF_DAY\": \"Night\", \"AGE_RANGE\": 32.0}, {\"cluster\": \"28 - 37\", \"PART_OF_DAY\": \"Night\", \"AGE_RANGE\": 29.0}, {\"cluster\": \"28 - 37\", \"PART_OF_DAY\": \"Night\", \"AGE_RANGE\": 29.0}, {\"cluster\": \"38 - 47\", \"PART_OF_DAY\": \"Night\", \"AGE_RANGE\": 47.0}, {\"cluster\": \"38 - 47\", \"PART_OF_DAY\": \"Night\", \"AGE_RANGE\": 40.0}, {\"cluster\": \"28 - 37\", \"PART_OF_DAY\": \"Night\", \"AGE_RANGE\": 31.0}, {\"cluster\": \"38 - 47\", \"PART_OF_DAY\": \"Night\", \"AGE_RANGE\": 44.0}, {\"cluster\": \"48 - 55\", \"PART_OF_DAY\": \"Night\", \"AGE_RANGE\": 54.0}, {\"cluster\": \"28 - 37\", \"PART_OF_DAY\": \"Night\", \"AGE_RANGE\": 28.0}, {\"cluster\": \"28 - 37\", \"PART_OF_DAY\": \"Night\", \"AGE_RANGE\": 34.0}, {\"cluster\": \"28 - 37\", \"PART_OF_DAY\": \"Night\", \"AGE_RANGE\": 36.0}, {\"cluster\": \"38 - 47\", \"PART_OF_DAY\": \"Night\", \"AGE_RANGE\": 43.0}, {\"cluster\": \"28 - 37\", \"PART_OF_DAY\": \"Night\", \"AGE_RANGE\": 29.0}, {\"cluster\": \"28 - 37\", \"PART_OF_DAY\": \"Night\", \"AGE_RANGE\": 30.0}, {\"cluster\": \"38 - 47\", \"PART_OF_DAY\": \"Night\", \"AGE_RANGE\": 46.0}, {\"cluster\": \"38 - 47\", \"PART_OF_DAY\": \"Night\", \"AGE_RANGE\": 39.0}, {\"cluster\": \"38 - 47\", \"PART_OF_DAY\": \"Night\", \"AGE_RANGE\": 43.0}, {\"cluster\": \"28 - 37\", \"PART_OF_DAY\": \"Night\", \"AGE_RANGE\": 29.0}, {\"cluster\": \"38 - 47\", \"PART_OF_DAY\": \"Night\", \"AGE_RANGE\": 42.0}, {\"cluster\": \"48 - 55\", \"PART_OF_DAY\": \"Night\", \"AGE_RANGE\": 55.0}, {\"cluster\": \"38 - 47\", \"PART_OF_DAY\": \"Night\", \"AGE_RANGE\": 40.0}, {\"cluster\": \"28 - 37\", \"PART_OF_DAY\": \"Night\", \"AGE_RANGE\": 36.0}, {\"cluster\": \"28 - 37\", \"PART_OF_DAY\": \"Night\", \"AGE_RANGE\": 37.0}, {\"cluster\": \"38 - 47\", \"PART_OF_DAY\": \"Night\", \"AGE_RANGE\": 38.0}, {\"cluster\": \"28 - 37\", \"PART_OF_DAY\": \"Night\", \"AGE_RANGE\": 36.0}, {\"cluster\": \"48 - 55\", \"PART_OF_DAY\": \"Night\", \"AGE_RANGE\": 48.0}, {\"cluster\": \"28 - 37\", \"PART_OF_DAY\": \"Night\", \"AGE_RANGE\": 35.0}, {\"cluster\": \"38 - 47\", \"PART_OF_DAY\": \"Night\", \"AGE_RANGE\": 41.0}, {\"cluster\": \"48 - 55\", \"PART_OF_DAY\": \"Night\", \"AGE_RANGE\": 53.0}, {\"cluster\": \"38 - 47\", \"PART_OF_DAY\": \"Night\", \"AGE_RANGE\": 44.0}, {\"cluster\": \"38 - 47\", \"PART_OF_DAY\": \"Night\", \"AGE_RANGE\": 46.0}, {\"cluster\": \"28 - 37\", \"PART_OF_DAY\": \"Night\", \"AGE_RANGE\": 29.0}, {\"cluster\": \"38 - 47\", \"PART_OF_DAY\": \"Night\", \"AGE_RANGE\": 42.0}, {\"cluster\": \"38 - 47\", \"PART_OF_DAY\": \"Night\", \"AGE_RANGE\": 39.0}, {\"cluster\": \"28 - 37\", \"PART_OF_DAY\": \"Night\", \"AGE_RANGE\": 37.0}, {\"cluster\": \"48 - 55\", \"PART_OF_DAY\": \"Night\", \"AGE_RANGE\": 49.0}, {\"cluster\": \"38 - 47\", \"PART_OF_DAY\": \"Night\", \"AGE_RANGE\": 43.0}, {\"cluster\": \"38 - 47\", \"PART_OF_DAY\": \"Night\", \"AGE_RANGE\": 42.0}, {\"cluster\": \"48 - 55\", \"PART_OF_DAY\": \"Night\", \"AGE_RANGE\": 54.0}, {\"cluster\": \"48 - 55\", \"PART_OF_DAY\": \"Night\", \"AGE_RANGE\": 49.0}, {\"cluster\": \"48 - 55\", \"PART_OF_DAY\": \"Night\", \"AGE_RANGE\": 51.0}, {\"cluster\": \"48 - 55\", \"PART_OF_DAY\": \"Day\", \"AGE_RANGE\": 53.0}, {\"cluster\": \"38 - 47\", \"PART_OF_DAY\": \"Day\", \"AGE_RANGE\": 38.0}, {\"cluster\": \"28 - 37\", \"PART_OF_DAY\": \"Day\", \"AGE_RANGE\": 28.0}, {\"cluster\": \"28 - 37\", \"PART_OF_DAY\": \"Day\", \"AGE_RANGE\": 30.0}, {\"cluster\": \"48 - 55\", \"PART_OF_DAY\": \"Day\", \"AGE_RANGE\": 55.0}, {\"cluster\": \"28 - 37\", \"PART_OF_DAY\": \"Day\", \"AGE_RANGE\": 37.0}, {\"cluster\": \"38 - 47\", \"PART_OF_DAY\": \"Day\", \"AGE_RANGE\": 42.0}, {\"cluster\": \"28 - 37\", \"PART_OF_DAY\": \"Day\", \"AGE_RANGE\": 33.0}, {\"cluster\": \"28 - 37\", \"PART_OF_DAY\": \"Day\", \"AGE_RANGE\": 36.0}, {\"cluster\": \"38 - 47\", \"PART_OF_DAY\": \"Day\", \"AGE_RANGE\": 38.0}, {\"cluster\": \"28 - 37\", \"PART_OF_DAY\": \"Day\", \"AGE_RANGE\": 33.0}, {\"cluster\": \"38 - 47\", \"PART_OF_DAY\": \"Day\", \"AGE_RANGE\": 38.0}, {\"cluster\": \"28 - 37\", \"PART_OF_DAY\": \"Day\", \"AGE_RANGE\": 36.0}, {\"cluster\": \"28 - 37\", \"PART_OF_DAY\": \"Day\", \"AGE_RANGE\": 36.0}, {\"cluster\": \"48 - 55\", \"PART_OF_DAY\": \"Day\", \"AGE_RANGE\": 53.0}, {\"cluster\": \"48 - 55\", \"PART_OF_DAY\": \"Day\", \"AGE_RANGE\": 50.0}, {\"cluster\": \"38 - 47\", \"PART_OF_DAY\": \"Day\", \"AGE_RANGE\": 46.0}, {\"cluster\": \"28 - 37\", \"PART_OF_DAY\": \"Day\", \"AGE_RANGE\": 37.0}, {\"cluster\": \"38 - 47\", \"PART_OF_DAY\": \"Day\", \"AGE_RANGE\": 43.0}, {\"cluster\": \"48 - 55\", \"PART_OF_DAY\": \"Day\", \"AGE_RANGE\": 48.0}, {\"cluster\": \"28 - 37\", \"PART_OF_DAY\": \"Day\", \"AGE_RANGE\": 37.0}, {\"cluster\": \"48 - 55\", \"PART_OF_DAY\": \"Day\", \"AGE_RANGE\": 52.0}, {\"cluster\": \"38 - 47\", \"PART_OF_DAY\": \"Day\", \"AGE_RANGE\": 42.0}, {\"cluster\": \"38 - 47\", \"PART_OF_DAY\": \"Day\", \"AGE_RANGE\": 41.0}, {\"cluster\": \"38 - 47\", \"PART_OF_DAY\": \"Day\", \"AGE_RANGE\": 47.0}, {\"cluster\": \"28 - 37\", \"PART_OF_DAY\": \"Day\", \"AGE_RANGE\": 29.0}, {\"cluster\": \"38 - 47\", \"PART_OF_DAY\": \"Day\", \"AGE_RANGE\": 46.0}, {\"cluster\": \"28 - 37\", \"PART_OF_DAY\": \"Day\", \"AGE_RANGE\": 36.0}, {\"cluster\": \"28 - 37\", \"PART_OF_DAY\": \"Day\", \"AGE_RANGE\": 34.0}, {\"cluster\": \"48 - 55\", \"PART_OF_DAY\": \"Day\", \"AGE_RANGE\": 51.0}, {\"cluster\": \"48 - 55\", \"PART_OF_DAY\": \"Day\", \"AGE_RANGE\": 51.0}, {\"cluster\": \"38 - 47\", \"PART_OF_DAY\": \"Day\", \"AGE_RANGE\": 44.0}, {\"cluster\": \"28 - 37\", \"PART_OF_DAY\": \"Day\", \"AGE_RANGE\": 33.0}, {\"cluster\": \"38 - 47\", \"PART_OF_DAY\": \"Day\", \"AGE_RANGE\": 46.0}, {\"cluster\": \"38 - 47\", \"PART_OF_DAY\": \"Day\", \"AGE_RANGE\": 45.0}, {\"cluster\": \"38 - 47\", \"PART_OF_DAY\": \"Day\", \"AGE_RANGE\": 45.0}, {\"cluster\": \"48 - 55\", \"PART_OF_DAY\": \"Day\", \"AGE_RANGE\": 50.0}, {\"cluster\": \"28 - 37\", \"PART_OF_DAY\": \"Day\", \"AGE_RANGE\": 37.0}, {\"cluster\": \"38 - 47\", \"PART_OF_DAY\": \"Day\", \"AGE_RANGE\": 40.0}, {\"cluster\": \"38 - 47\", \"PART_OF_DAY\": \"Day\", \"AGE_RANGE\": 44.0}, {\"cluster\": \"48 - 55\", \"PART_OF_DAY\": \"Day\", \"AGE_RANGE\": 51.0}, {\"cluster\": \"48 - 55\", \"PART_OF_DAY\": \"Day\", \"AGE_RANGE\": 49.0}, {\"cluster\": \"38 - 47\", \"PART_OF_DAY\": \"Day\", \"AGE_RANGE\": 40.0}, {\"cluster\": \"38 - 47\", \"PART_OF_DAY\": \"Day\", \"AGE_RANGE\": 46.0}, {\"cluster\": \"38 - 47\", \"PART_OF_DAY\": \"Day\", \"AGE_RANGE\": 38.0}, {\"cluster\": \"48 - 55\", \"PART_OF_DAY\": \"Day\", \"AGE_RANGE\": 52.0}, {\"cluster\": \"48 - 55\", \"PART_OF_DAY\": \"Day\", \"AGE_RANGE\": 55.0}, {\"cluster\": \"48 - 55\", \"PART_OF_DAY\": \"Day\", \"AGE_RANGE\": 51.0}, {\"cluster\": \"38 - 47\", \"PART_OF_DAY\": \"Day\", \"AGE_RANGE\": 41.0}, {\"cluster\": \"38 - 47\", \"PART_OF_DAY\": \"Day\", \"AGE_RANGE\": 44.0}, {\"cluster\": \"38 - 47\", \"PART_OF_DAY\": \"Day\", \"AGE_RANGE\": 43.0}, {\"cluster\": \"48 - 55\", \"PART_OF_DAY\": \"Day\", \"AGE_RANGE\": 49.0}, {\"cluster\": \"28 - 37\", \"PART_OF_DAY\": \"Day\", \"AGE_RANGE\": 29.0}, {\"cluster\": \"28 - 37\", \"PART_OF_DAY\": \"Day\", \"AGE_RANGE\": 32.0}, {\"cluster\": \"48 - 55\", \"PART_OF_DAY\": \"Day\", \"AGE_RANGE\": 55.0}, {\"cluster\": \"28 - 37\", \"PART_OF_DAY\": \"Day\", \"AGE_RANGE\": 35.0}, {\"cluster\": \"48 - 55\", \"PART_OF_DAY\": \"Day\", \"AGE_RANGE\": 55.0}, {\"cluster\": \"48 - 55\", \"PART_OF_DAY\": \"Day\", \"AGE_RANGE\": 54.0}, {\"cluster\": \"48 - 55\", \"PART_OF_DAY\": \"Day\", \"AGE_RANGE\": 54.0}, {\"cluster\": \"38 - 47\", \"PART_OF_DAY\": \"Day\", \"AGE_RANGE\": 45.0}, {\"cluster\": \"28 - 37\", \"PART_OF_DAY\": \"Day\", \"AGE_RANGE\": 37.0}, {\"cluster\": \"28 - 37\", \"PART_OF_DAY\": \"Day\", \"AGE_RANGE\": 28.0}, {\"cluster\": \"38 - 47\", \"PART_OF_DAY\": \"Day\", \"AGE_RANGE\": 39.0}, {\"cluster\": \"38 - 47\", \"PART_OF_DAY\": \"Day\", \"AGE_RANGE\": 38.0}, {\"cluster\": \"28 - 37\", \"PART_OF_DAY\": \"Day\", \"AGE_RANGE\": 37.0}, {\"cluster\": \"48 - 55\", \"PART_OF_DAY\": \"Day\", \"AGE_RANGE\": 55.0}, {\"cluster\": \"38 - 47\", \"PART_OF_DAY\": \"Day\", \"AGE_RANGE\": 47.0}, {\"cluster\": \"28 - 37\", \"PART_OF_DAY\": \"Night\", \"AGE_RANGE\": 32.0}, {\"cluster\": \"48 - 55\", \"PART_OF_DAY\": \"Night\", \"AGE_RANGE\": 53.0}, {\"cluster\": \"38 - 47\", \"PART_OF_DAY\": \"Night\", \"AGE_RANGE\": 40.0}, {\"cluster\": \"48 - 55\", \"PART_OF_DAY\": \"Night\", \"AGE_RANGE\": 48.0}, {\"cluster\": \"28 - 37\", \"PART_OF_DAY\": \"Night\", \"AGE_RANGE\": 29.0}, {\"cluster\": \"38 - 47\", \"PART_OF_DAY\": \"Night\", \"AGE_RANGE\": 39.0}, {\"cluster\": \"48 - 55\", \"PART_OF_DAY\": \"Night\", \"AGE_RANGE\": 53.0}, {\"cluster\": \"48 - 55\", \"PART_OF_DAY\": \"Night\", \"AGE_RANGE\": 55.0}, {\"cluster\": \"38 - 47\", \"PART_OF_DAY\": \"Night\", \"AGE_RANGE\": 41.0}, {\"cluster\": \"38 - 47\", \"PART_OF_DAY\": \"Night\", \"AGE_RANGE\": 44.0}, {\"cluster\": \"28 - 37\", \"PART_OF_DAY\": \"Night\", \"AGE_RANGE\": 34.0}, {\"cluster\": \"38 - 47\", \"PART_OF_DAY\": \"Night\", \"AGE_RANGE\": 40.0}, {\"cluster\": \"28 - 37\", \"PART_OF_DAY\": \"Night\", \"AGE_RANGE\": 28.0}, {\"cluster\": \"28 - 37\", \"PART_OF_DAY\": \"Night\", \"AGE_RANGE\": 37.0}, {\"cluster\": \"38 - 47\", \"PART_OF_DAY\": \"Night\", \"AGE_RANGE\": 43.0}, {\"cluster\": \"38 - 47\", \"PART_OF_DAY\": \"Night\", \"AGE_RANGE\": 44.0}, {\"cluster\": \"38 - 47\", \"PART_OF_DAY\": \"Night\", \"AGE_RANGE\": 44.0}, {\"cluster\": \"38 - 47\", \"PART_OF_DAY\": \"Night\", \"AGE_RANGE\": 38.0}, {\"cluster\": \"38 - 47\", \"PART_OF_DAY\": \"Night\", \"AGE_RANGE\": 46.0}, {\"cluster\": \"48 - 55\", \"PART_OF_DAY\": \"Night\", \"AGE_RANGE\": 50.0}, {\"cluster\": \"38 - 47\", \"PART_OF_DAY\": \"Night\", \"AGE_RANGE\": 47.0}, {\"cluster\": \"38 - 47\", \"PART_OF_DAY\": \"Night\", \"AGE_RANGE\": 41.0}, {\"cluster\": \"28 - 37\", \"PART_OF_DAY\": \"Night\", \"AGE_RANGE\": 29.0}, {\"cluster\": \"28 - 37\", \"PART_OF_DAY\": \"Night\", \"AGE_RANGE\": 29.0}, {\"cluster\": \"48 - 55\", \"PART_OF_DAY\": \"Night\", \"AGE_RANGE\": 51.0}, {\"cluster\": \"48 - 55\", \"PART_OF_DAY\": \"Night\", \"AGE_RANGE\": 53.0}, {\"cluster\": \"28 - 37\", \"PART_OF_DAY\": \"Night\", \"AGE_RANGE\": 36.0}, {\"cluster\": \"38 - 47\", \"PART_OF_DAY\": \"Night\", \"AGE_RANGE\": 39.0}, {\"cluster\": \"48 - 55\", \"PART_OF_DAY\": \"Night\", \"AGE_RANGE\": 49.0}, {\"cluster\": \"28 - 37\", \"PART_OF_DAY\": \"Night\", \"AGE_RANGE\": 36.0}, {\"cluster\": \"48 - 55\", \"PART_OF_DAY\": \"Night\", \"AGE_RANGE\": 54.0}, {\"cluster\": \"38 - 47\", \"PART_OF_DAY\": \"Night\", \"AGE_RANGE\": 47.0}, {\"cluster\": \"38 - 47\", \"PART_OF_DAY\": \"Night\", \"AGE_RANGE\": 47.0}, {\"cluster\": \"48 - 55\", \"PART_OF_DAY\": \"Night\", \"AGE_RANGE\": 54.0}, {\"cluster\": \"38 - 47\", \"PART_OF_DAY\": \"Night\", \"AGE_RANGE\": 39.0}, {\"cluster\": \"48 - 55\", \"PART_OF_DAY\": \"Night\", \"AGE_RANGE\": 52.0}, {\"cluster\": \"28 - 37\", \"PART_OF_DAY\": \"Night\", \"AGE_RANGE\": 36.0}, {\"cluster\": \"28 - 37\", \"PART_OF_DAY\": \"Night\", \"AGE_RANGE\": 35.0}, {\"cluster\": \"38 - 47\", \"PART_OF_DAY\": \"Night\", \"AGE_RANGE\": 45.0}, {\"cluster\": \"38 - 47\", \"PART_OF_DAY\": \"Night\", \"AGE_RANGE\": 47.0}, {\"cluster\": \"38 - 47\", \"PART_OF_DAY\": \"Night\", \"AGE_RANGE\": 46.0}, {\"cluster\": \"38 - 47\", \"PART_OF_DAY\": \"Night\", \"AGE_RANGE\": 45.0}, {\"cluster\": \"48 - 55\", \"PART_OF_DAY\": \"Night\", \"AGE_RANGE\": 53.0}, {\"cluster\": \"28 - 37\", \"PART_OF_DAY\": \"Night\", \"AGE_RANGE\": 29.0}, {\"cluster\": \"38 - 47\", \"PART_OF_DAY\": \"Night\", \"AGE_RANGE\": 43.0}, {\"cluster\": \"38 - 47\", \"PART_OF_DAY\": \"Night\", \"AGE_RANGE\": 47.0}, {\"cluster\": \"48 - 55\", \"PART_OF_DAY\": \"Night\", \"AGE_RANGE\": 49.0}, {\"cluster\": \"38 - 47\", \"PART_OF_DAY\": \"Night\", \"AGE_RANGE\": 39.0}, {\"cluster\": \"28 - 37\", \"PART_OF_DAY\": \"Night\", \"AGE_RANGE\": 29.0}, {\"cluster\": \"28 - 37\", \"PART_OF_DAY\": \"Night\", \"AGE_RANGE\": 34.0}, {\"cluster\": \"48 - 55\", \"PART_OF_DAY\": \"Night\", \"AGE_RANGE\": 48.0}, {\"cluster\": \"28 - 37\", \"PART_OF_DAY\": \"Night\", \"AGE_RANGE\": 36.0}, {\"cluster\": \"38 - 47\", \"PART_OF_DAY\": \"Night\", \"AGE_RANGE\": 39.0}, {\"cluster\": \"38 - 47\", \"PART_OF_DAY\": \"Night\", \"AGE_RANGE\": 42.0}, {\"cluster\": \"38 - 47\", \"PART_OF_DAY\": \"Night\", \"AGE_RANGE\": 40.0}, {\"cluster\": \"28 - 37\", \"PART_OF_DAY\": \"Night\", \"AGE_RANGE\": 37.0}, {\"cluster\": \"28 - 37\", \"PART_OF_DAY\": \"Night\", \"AGE_RANGE\": 31.0}, {\"cluster\": \"28 - 37\", \"PART_OF_DAY\": \"Night\", \"AGE_RANGE\": 28.0}, {\"cluster\": \"38 - 47\", \"PART_OF_DAY\": \"Night\", \"AGE_RANGE\": 46.0}, {\"cluster\": \"28 - 37\", \"PART_OF_DAY\": \"Night\", \"AGE_RANGE\": 30.0}, {\"cluster\": \"48 - 55\", \"PART_OF_DAY\": \"Night\", \"AGE_RANGE\": 53.0}, {\"cluster\": \"48 - 55\", \"PART_OF_DAY\": \"Night\", \"AGE_RANGE\": 55.0}, {\"cluster\": \"48 - 55\", \"PART_OF_DAY\": \"Night\", \"AGE_RANGE\": 51.0}, {\"cluster\": \"38 - 47\", \"PART_OF_DAY\": \"Night\", \"AGE_RANGE\": 46.0}, {\"cluster\": \"38 - 47\", \"PART_OF_DAY\": \"Night\", \"AGE_RANGE\": 45.0}, {\"cluster\": \"38 - 47\", \"PART_OF_DAY\": \"Night\", \"AGE_RANGE\": 45.0}, {\"cluster\": \"28 - 37\", \"PART_OF_DAY\": \"Night\", \"AGE_RANGE\": 32.0}, {\"cluster\": \"28 - 37\", \"PART_OF_DAY\": \"Night\", \"AGE_RANGE\": 37.0}, {\"cluster\": \"48 - 55\", \"PART_OF_DAY\": \"Night\", \"AGE_RANGE\": 54.0}, {\"cluster\": \"28 - 37\", \"PART_OF_DAY\": \"Night\", \"AGE_RANGE\": 35.0}, {\"cluster\": \"28 - 37\", \"PART_OF_DAY\": \"Night\", \"AGE_RANGE\": 28.0}, {\"cluster\": \"38 - 47\", \"PART_OF_DAY\": \"Night\", \"AGE_RANGE\": 38.0}, {\"cluster\": \"48 - 55\", \"PART_OF_DAY\": \"Night\", \"AGE_RANGE\": 52.0}, {\"cluster\": \"28 - 37\", \"PART_OF_DAY\": \"Night\", \"AGE_RANGE\": 35.0}, {\"cluster\": \"38 - 47\", \"PART_OF_DAY\": \"Night\", \"AGE_RANGE\": 47.0}, {\"cluster\": \"28 - 37\", \"PART_OF_DAY\": \"Night\", \"AGE_RANGE\": 35.0}, {\"cluster\": \"28 - 37\", \"PART_OF_DAY\": \"Night\", \"AGE_RANGE\": 37.0}, {\"cluster\": \"48 - 55\", \"PART_OF_DAY\": \"Night\", \"AGE_RANGE\": 54.0}, {\"cluster\": \"48 - 55\", \"PART_OF_DAY\": \"Night\", \"AGE_RANGE\": 54.0}, {\"cluster\": \"38 - 47\", \"PART_OF_DAY\": \"Night\", \"AGE_RANGE\": 43.0}, {\"cluster\": \"48 - 55\", \"PART_OF_DAY\": \"Night\", \"AGE_RANGE\": 50.0}, {\"cluster\": \"38 - 47\", \"PART_OF_DAY\": \"Night\", \"AGE_RANGE\": 42.0}, {\"cluster\": \"48 - 55\", \"PART_OF_DAY\": \"Night\", \"AGE_RANGE\": 53.0}, {\"cluster\": \"28 - 37\", \"PART_OF_DAY\": \"Night\", \"AGE_RANGE\": 32.0}, {\"cluster\": \"48 - 55\", \"PART_OF_DAY\": \"Night\", \"AGE_RANGE\": 51.0}, {\"cluster\": \"38 - 47\", \"PART_OF_DAY\": \"Night\", \"AGE_RANGE\": 46.0}, {\"cluster\": \"48 - 55\", \"PART_OF_DAY\": \"Night\", \"AGE_RANGE\": 53.0}, {\"cluster\": \"38 - 47\", \"PART_OF_DAY\": \"Night\", \"AGE_RANGE\": 40.0}, {\"cluster\": \"38 - 47\", \"PART_OF_DAY\": \"Night\", \"AGE_RANGE\": 46.0}, {\"cluster\": \"38 - 47\", \"PART_OF_DAY\": \"Night\", \"AGE_RANGE\": 44.0}, {\"cluster\": \"48 - 55\", \"PART_OF_DAY\": \"Night\", \"AGE_RANGE\": 53.0}, {\"cluster\": \"28 - 37\", \"PART_OF_DAY\": \"Night\", \"AGE_RANGE\": 29.0}, {\"cluster\": \"38 - 47\", \"PART_OF_DAY\": \"Night\", \"AGE_RANGE\": 46.0}, {\"cluster\": \"38 - 47\", \"PART_OF_DAY\": \"Night\", \"AGE_RANGE\": 41.0}, {\"cluster\": \"28 - 37\", \"PART_OF_DAY\": \"Night\", \"AGE_RANGE\": 34.0}, {\"cluster\": \"28 - 37\", \"PART_OF_DAY\": \"Night\", \"AGE_RANGE\": 35.0}, {\"cluster\": \"48 - 55\", \"PART_OF_DAY\": \"Night\", \"AGE_RANGE\": 55.0}, {\"cluster\": \"38 - 47\", \"PART_OF_DAY\": \"Night\", \"AGE_RANGE\": 46.0}, {\"cluster\": \"48 - 55\", \"PART_OF_DAY\": \"Night\", \"AGE_RANGE\": 52.0}, {\"cluster\": \"38 - 47\", \"PART_OF_DAY\": \"Night\", \"AGE_RANGE\": 40.0}, {\"cluster\": \"28 - 37\", \"PART_OF_DAY\": \"Night\", \"AGE_RANGE\": 37.0}, {\"cluster\": \"38 - 47\", \"PART_OF_DAY\": \"Night\", \"AGE_RANGE\": 40.0}, {\"cluster\": \"28 - 37\", \"PART_OF_DAY\": \"Night\", \"AGE_RANGE\": 36.0}, {\"cluster\": \"28 - 37\", \"PART_OF_DAY\": \"Night\", \"AGE_RANGE\": 29.0}, {\"cluster\": \"38 - 47\", \"PART_OF_DAY\": \"Night\", \"AGE_RANGE\": 44.0}, {\"cluster\": \"48 - 55\", \"PART_OF_DAY\": \"Night\", \"AGE_RANGE\": 50.0}, {\"cluster\": \"38 - 47\", \"PART_OF_DAY\": \"Night\", \"AGE_RANGE\": 42.0}, {\"cluster\": \"38 - 47\", \"PART_OF_DAY\": \"Night\", \"AGE_RANGE\": 45.0}, {\"cluster\": \"28 - 37\", \"PART_OF_DAY\": \"Night\", \"AGE_RANGE\": 33.0}, {\"cluster\": \"38 - 47\", \"PART_OF_DAY\": \"Day\", \"AGE_RANGE\": 38.0}, {\"cluster\": \"28 - 37\", \"PART_OF_DAY\": \"Day\", \"AGE_RANGE\": 28.0}, {\"cluster\": \"38 - 47\", \"PART_OF_DAY\": \"Day\", \"AGE_RANGE\": 46.0}, {\"cluster\": \"28 - 37\", \"PART_OF_DAY\": \"Day\", \"AGE_RANGE\": 34.0}, {\"cluster\": \"28 - 37\", \"PART_OF_DAY\": \"Day\", \"AGE_RANGE\": 33.0}, {\"cluster\": \"28 - 37\", \"PART_OF_DAY\": \"Day\", \"AGE_RANGE\": 37.0}, {\"cluster\": \"38 - 47\", \"PART_OF_DAY\": \"Night\", \"AGE_RANGE\": 45.0}, {\"cluster\": \"28 - 37\", \"PART_OF_DAY\": \"Night\", \"AGE_RANGE\": 34.0}, {\"cluster\": \"48 - 55\", \"PART_OF_DAY\": \"Night\", \"AGE_RANGE\": 53.0}, {\"cluster\": \"28 - 37\", \"PART_OF_DAY\": \"Night\", \"AGE_RANGE\": 37.0}, {\"cluster\": \"28 - 37\", \"PART_OF_DAY\": \"Night\", \"AGE_RANGE\": 29.0}]}}, {\"mode\": \"vega-lite\"});\n",
       "</script>"
      ],
      "text/plain": [
       "alt.Chart(...)"
      ]
     },
     "execution_count": 232,
     "metadata": {},
     "output_type": "execute_result"
    }
   ],
   "source": [
    "mappingtoplot2 = {0: '48 - 55', 1: '28 - 37', 2: '38 - 47'}\n",
    "\n",
    "cluster_data_plot = cluster_data_new.copy()\n",
    "cluster_data_plot['cluster'] = cluster_data_plot['cluster'].map(mappingtoplot2)\n",
    "\n",
    "chart = alt.Chart(cluster_data_plot).mark_bar().encode(\n",
    "    alt.X('cluster', axis=alt.Axis(title=None, labels=False)),\n",
    "    alt.Y('count(AGE_RANGE)'),\n",
    "    alt.Column('PART_OF_DAY'),\n",
    "    alt.Color('cluster', scale=alt.Scale(range=[\"#AAFF00\",\"#097969\", \"#454B1B\"]))\n",
    ").properties(\n",
    "    width=200  \n",
    ")\n",
    "chart"
   ]
  },
  {
   "cell_type": "markdown",
   "metadata": {},
   "source": [
    "### 3. What is the common attire worn by the customer (attire, shirt color, shirt type, pants color, pants type)?"
   ]
  },
  {
   "cell_type": "code",
   "execution_count": 157,
   "metadata": {},
   "outputs": [
    {
     "data": {
      "application/vnd.plotly.v1+json": {
       "config": {
        "plotlyServerURL": "https://plot.ly"
       },
       "data": [
        {
         "alignmentgroup": "True",
         "hovertemplate": "ATTIRE=%{x}<br>FREQUENCY=%{y}<extra></extra>",
         "legendgroup": "",
         "marker": {
          "color": "#636efa",
          "pattern": {
           "shape": ""
          }
         },
         "name": "",
         "offsetgroup": "",
         "orientation": "v",
         "showlegend": false,
         "textposition": "auto",
         "type": "bar",
         "x": [
          "casual",
          "formal",
          "traditional"
         ],
         "xaxis": "x",
         "y": [
          508,
          79,
          55
         ],
         "yaxis": "y"
        }
       ],
       "layout": {
        "barmode": "relative",
        "legend": {
         "tracegroupgap": 0
        },
        "template": {
         "data": {
          "bar": [
           {
            "error_x": {
             "color": "#2a3f5f"
            },
            "error_y": {
             "color": "#2a3f5f"
            },
            "marker": {
             "line": {
              "color": "#E5ECF6",
              "width": 0.5
             },
             "pattern": {
              "fillmode": "overlay",
              "size": 10,
              "solidity": 0.2
             }
            },
            "type": "bar"
           }
          ],
          "barpolar": [
           {
            "marker": {
             "line": {
              "color": "#E5ECF6",
              "width": 0.5
             },
             "pattern": {
              "fillmode": "overlay",
              "size": 10,
              "solidity": 0.2
             }
            },
            "type": "barpolar"
           }
          ],
          "carpet": [
           {
            "aaxis": {
             "endlinecolor": "#2a3f5f",
             "gridcolor": "white",
             "linecolor": "white",
             "minorgridcolor": "white",
             "startlinecolor": "#2a3f5f"
            },
            "baxis": {
             "endlinecolor": "#2a3f5f",
             "gridcolor": "white",
             "linecolor": "white",
             "minorgridcolor": "white",
             "startlinecolor": "#2a3f5f"
            },
            "type": "carpet"
           }
          ],
          "choropleth": [
           {
            "colorbar": {
             "outlinewidth": 0,
             "ticks": ""
            },
            "type": "choropleth"
           }
          ],
          "contour": [
           {
            "colorbar": {
             "outlinewidth": 0,
             "ticks": ""
            },
            "colorscale": [
             [
              0,
              "#0d0887"
             ],
             [
              0.1111111111111111,
              "#46039f"
             ],
             [
              0.2222222222222222,
              "#7201a8"
             ],
             [
              0.3333333333333333,
              "#9c179e"
             ],
             [
              0.4444444444444444,
              "#bd3786"
             ],
             [
              0.5555555555555556,
              "#d8576b"
             ],
             [
              0.6666666666666666,
              "#ed7953"
             ],
             [
              0.7777777777777778,
              "#fb9f3a"
             ],
             [
              0.8888888888888888,
              "#fdca26"
             ],
             [
              1,
              "#f0f921"
             ]
            ],
            "type": "contour"
           }
          ],
          "contourcarpet": [
           {
            "colorbar": {
             "outlinewidth": 0,
             "ticks": ""
            },
            "type": "contourcarpet"
           }
          ],
          "heatmap": [
           {
            "colorbar": {
             "outlinewidth": 0,
             "ticks": ""
            },
            "colorscale": [
             [
              0,
              "#0d0887"
             ],
             [
              0.1111111111111111,
              "#46039f"
             ],
             [
              0.2222222222222222,
              "#7201a8"
             ],
             [
              0.3333333333333333,
              "#9c179e"
             ],
             [
              0.4444444444444444,
              "#bd3786"
             ],
             [
              0.5555555555555556,
              "#d8576b"
             ],
             [
              0.6666666666666666,
              "#ed7953"
             ],
             [
              0.7777777777777778,
              "#fb9f3a"
             ],
             [
              0.8888888888888888,
              "#fdca26"
             ],
             [
              1,
              "#f0f921"
             ]
            ],
            "type": "heatmap"
           }
          ],
          "heatmapgl": [
           {
            "colorbar": {
             "outlinewidth": 0,
             "ticks": ""
            },
            "colorscale": [
             [
              0,
              "#0d0887"
             ],
             [
              0.1111111111111111,
              "#46039f"
             ],
             [
              0.2222222222222222,
              "#7201a8"
             ],
             [
              0.3333333333333333,
              "#9c179e"
             ],
             [
              0.4444444444444444,
              "#bd3786"
             ],
             [
              0.5555555555555556,
              "#d8576b"
             ],
             [
              0.6666666666666666,
              "#ed7953"
             ],
             [
              0.7777777777777778,
              "#fb9f3a"
             ],
             [
              0.8888888888888888,
              "#fdca26"
             ],
             [
              1,
              "#f0f921"
             ]
            ],
            "type": "heatmapgl"
           }
          ],
          "histogram": [
           {
            "marker": {
             "pattern": {
              "fillmode": "overlay",
              "size": 10,
              "solidity": 0.2
             }
            },
            "type": "histogram"
           }
          ],
          "histogram2d": [
           {
            "colorbar": {
             "outlinewidth": 0,
             "ticks": ""
            },
            "colorscale": [
             [
              0,
              "#0d0887"
             ],
             [
              0.1111111111111111,
              "#46039f"
             ],
             [
              0.2222222222222222,
              "#7201a8"
             ],
             [
              0.3333333333333333,
              "#9c179e"
             ],
             [
              0.4444444444444444,
              "#bd3786"
             ],
             [
              0.5555555555555556,
              "#d8576b"
             ],
             [
              0.6666666666666666,
              "#ed7953"
             ],
             [
              0.7777777777777778,
              "#fb9f3a"
             ],
             [
              0.8888888888888888,
              "#fdca26"
             ],
             [
              1,
              "#f0f921"
             ]
            ],
            "type": "histogram2d"
           }
          ],
          "histogram2dcontour": [
           {
            "colorbar": {
             "outlinewidth": 0,
             "ticks": ""
            },
            "colorscale": [
             [
              0,
              "#0d0887"
             ],
             [
              0.1111111111111111,
              "#46039f"
             ],
             [
              0.2222222222222222,
              "#7201a8"
             ],
             [
              0.3333333333333333,
              "#9c179e"
             ],
             [
              0.4444444444444444,
              "#bd3786"
             ],
             [
              0.5555555555555556,
              "#d8576b"
             ],
             [
              0.6666666666666666,
              "#ed7953"
             ],
             [
              0.7777777777777778,
              "#fb9f3a"
             ],
             [
              0.8888888888888888,
              "#fdca26"
             ],
             [
              1,
              "#f0f921"
             ]
            ],
            "type": "histogram2dcontour"
           }
          ],
          "mesh3d": [
           {
            "colorbar": {
             "outlinewidth": 0,
             "ticks": ""
            },
            "type": "mesh3d"
           }
          ],
          "parcoords": [
           {
            "line": {
             "colorbar": {
              "outlinewidth": 0,
              "ticks": ""
             }
            },
            "type": "parcoords"
           }
          ],
          "pie": [
           {
            "automargin": true,
            "type": "pie"
           }
          ],
          "scatter": [
           {
            "marker": {
             "colorbar": {
              "outlinewidth": 0,
              "ticks": ""
             }
            },
            "type": "scatter"
           }
          ],
          "scatter3d": [
           {
            "line": {
             "colorbar": {
              "outlinewidth": 0,
              "ticks": ""
             }
            },
            "marker": {
             "colorbar": {
              "outlinewidth": 0,
              "ticks": ""
             }
            },
            "type": "scatter3d"
           }
          ],
          "scattercarpet": [
           {
            "marker": {
             "colorbar": {
              "outlinewidth": 0,
              "ticks": ""
             }
            },
            "type": "scattercarpet"
           }
          ],
          "scattergeo": [
           {
            "marker": {
             "colorbar": {
              "outlinewidth": 0,
              "ticks": ""
             }
            },
            "type": "scattergeo"
           }
          ],
          "scattergl": [
           {
            "marker": {
             "colorbar": {
              "outlinewidth": 0,
              "ticks": ""
             }
            },
            "type": "scattergl"
           }
          ],
          "scattermapbox": [
           {
            "marker": {
             "colorbar": {
              "outlinewidth": 0,
              "ticks": ""
             }
            },
            "type": "scattermapbox"
           }
          ],
          "scatterpolar": [
           {
            "marker": {
             "colorbar": {
              "outlinewidth": 0,
              "ticks": ""
             }
            },
            "type": "scatterpolar"
           }
          ],
          "scatterpolargl": [
           {
            "marker": {
             "colorbar": {
              "outlinewidth": 0,
              "ticks": ""
             }
            },
            "type": "scatterpolargl"
           }
          ],
          "scatterternary": [
           {
            "marker": {
             "colorbar": {
              "outlinewidth": 0,
              "ticks": ""
             }
            },
            "type": "scatterternary"
           }
          ],
          "surface": [
           {
            "colorbar": {
             "outlinewidth": 0,
             "ticks": ""
            },
            "colorscale": [
             [
              0,
              "#0d0887"
             ],
             [
              0.1111111111111111,
              "#46039f"
             ],
             [
              0.2222222222222222,
              "#7201a8"
             ],
             [
              0.3333333333333333,
              "#9c179e"
             ],
             [
              0.4444444444444444,
              "#bd3786"
             ],
             [
              0.5555555555555556,
              "#d8576b"
             ],
             [
              0.6666666666666666,
              "#ed7953"
             ],
             [
              0.7777777777777778,
              "#fb9f3a"
             ],
             [
              0.8888888888888888,
              "#fdca26"
             ],
             [
              1,
              "#f0f921"
             ]
            ],
            "type": "surface"
           }
          ],
          "table": [
           {
            "cells": {
             "fill": {
              "color": "#EBF0F8"
             },
             "line": {
              "color": "white"
             }
            },
            "header": {
             "fill": {
              "color": "#C8D4E3"
             },
             "line": {
              "color": "white"
             }
            },
            "type": "table"
           }
          ]
         },
         "layout": {
          "annotationdefaults": {
           "arrowcolor": "#2a3f5f",
           "arrowhead": 0,
           "arrowwidth": 1
          },
          "autotypenumbers": "strict",
          "coloraxis": {
           "colorbar": {
            "outlinewidth": 0,
            "ticks": ""
           }
          },
          "colorscale": {
           "diverging": [
            [
             0,
             "#8e0152"
            ],
            [
             0.1,
             "#c51b7d"
            ],
            [
             0.2,
             "#de77ae"
            ],
            [
             0.3,
             "#f1b6da"
            ],
            [
             0.4,
             "#fde0ef"
            ],
            [
             0.5,
             "#f7f7f7"
            ],
            [
             0.6,
             "#e6f5d0"
            ],
            [
             0.7,
             "#b8e186"
            ],
            [
             0.8,
             "#7fbc41"
            ],
            [
             0.9,
             "#4d9221"
            ],
            [
             1,
             "#276419"
            ]
           ],
           "sequential": [
            [
             0,
             "#0d0887"
            ],
            [
             0.1111111111111111,
             "#46039f"
            ],
            [
             0.2222222222222222,
             "#7201a8"
            ],
            [
             0.3333333333333333,
             "#9c179e"
            ],
            [
             0.4444444444444444,
             "#bd3786"
            ],
            [
             0.5555555555555556,
             "#d8576b"
            ],
            [
             0.6666666666666666,
             "#ed7953"
            ],
            [
             0.7777777777777778,
             "#fb9f3a"
            ],
            [
             0.8888888888888888,
             "#fdca26"
            ],
            [
             1,
             "#f0f921"
            ]
           ],
           "sequentialminus": [
            [
             0,
             "#0d0887"
            ],
            [
             0.1111111111111111,
             "#46039f"
            ],
            [
             0.2222222222222222,
             "#7201a8"
            ],
            [
             0.3333333333333333,
             "#9c179e"
            ],
            [
             0.4444444444444444,
             "#bd3786"
            ],
            [
             0.5555555555555556,
             "#d8576b"
            ],
            [
             0.6666666666666666,
             "#ed7953"
            ],
            [
             0.7777777777777778,
             "#fb9f3a"
            ],
            [
             0.8888888888888888,
             "#fdca26"
            ],
            [
             1,
             "#f0f921"
            ]
           ]
          },
          "colorway": [
           "#636efa",
           "#EF553B",
           "#00cc96",
           "#ab63fa",
           "#FFA15A",
           "#19d3f3",
           "#FF6692",
           "#B6E880",
           "#FF97FF",
           "#FECB52"
          ],
          "font": {
           "color": "#2a3f5f"
          },
          "geo": {
           "bgcolor": "white",
           "lakecolor": "white",
           "landcolor": "#E5ECF6",
           "showlakes": true,
           "showland": true,
           "subunitcolor": "white"
          },
          "hoverlabel": {
           "align": "left"
          },
          "hovermode": "closest",
          "mapbox": {
           "style": "light"
          },
          "paper_bgcolor": "white",
          "plot_bgcolor": "#E5ECF6",
          "polar": {
           "angularaxis": {
            "gridcolor": "white",
            "linecolor": "white",
            "ticks": ""
           },
           "bgcolor": "#E5ECF6",
           "radialaxis": {
            "gridcolor": "white",
            "linecolor": "white",
            "ticks": ""
           }
          },
          "scene": {
           "xaxis": {
            "backgroundcolor": "#E5ECF6",
            "gridcolor": "white",
            "gridwidth": 2,
            "linecolor": "white",
            "showbackground": true,
            "ticks": "",
            "zerolinecolor": "white"
           },
           "yaxis": {
            "backgroundcolor": "#E5ECF6",
            "gridcolor": "white",
            "gridwidth": 2,
            "linecolor": "white",
            "showbackground": true,
            "ticks": "",
            "zerolinecolor": "white"
           },
           "zaxis": {
            "backgroundcolor": "#E5ECF6",
            "gridcolor": "white",
            "gridwidth": 2,
            "linecolor": "white",
            "showbackground": true,
            "ticks": "",
            "zerolinecolor": "white"
           }
          },
          "shapedefaults": {
           "line": {
            "color": "#2a3f5f"
           }
          },
          "ternary": {
           "aaxis": {
            "gridcolor": "white",
            "linecolor": "white",
            "ticks": ""
           },
           "baxis": {
            "gridcolor": "white",
            "linecolor": "white",
            "ticks": ""
           },
           "bgcolor": "#E5ECF6",
           "caxis": {
            "gridcolor": "white",
            "linecolor": "white",
            "ticks": ""
           }
          },
          "title": {
           "x": 0.05
          },
          "xaxis": {
           "automargin": true,
           "gridcolor": "white",
           "linecolor": "white",
           "ticks": "",
           "title": {
            "standoff": 15
           },
           "zerolinecolor": "white",
           "zerolinewidth": 2
          },
          "yaxis": {
           "automargin": true,
           "gridcolor": "white",
           "linecolor": "white",
           "ticks": "",
           "title": {
            "standoff": 15
           },
           "zerolinecolor": "white",
           "zerolinewidth": 2
          }
         }
        },
        "title": {
         "text": "Distribution of Attire"
        },
        "xaxis": {
         "anchor": "y",
         "domain": [
          0,
          1
         ],
         "title": {
          "text": "ATTIRE"
         }
        },
        "yaxis": {
         "anchor": "x",
         "domain": [
          0,
          1
         ],
         "title": {
          "text": "FREQUENCY"
         }
        }
       }
      },
      "text/html": [
       "<div>                            <div id=\"0267afb0-dcda-463a-8050-5974035c5d4e\" class=\"plotly-graph-div\" style=\"height:525px; width:100%;\"></div>            <script type=\"text/javascript\">                require([\"plotly\"], function(Plotly) {                    window.PLOTLYENV=window.PLOTLYENV || {};                                    if (document.getElementById(\"0267afb0-dcda-463a-8050-5974035c5d4e\")) {                    Plotly.newPlot(                        \"0267afb0-dcda-463a-8050-5974035c5d4e\",                        [{\"alignmentgroup\":\"True\",\"hovertemplate\":\"ATTIRE=%{x}<br>FREQUENCY=%{y}<extra></extra>\",\"legendgroup\":\"\",\"marker\":{\"color\":\"#636efa\",\"pattern\":{\"shape\":\"\"}},\"name\":\"\",\"offsetgroup\":\"\",\"orientation\":\"v\",\"showlegend\":false,\"textposition\":\"auto\",\"type\":\"bar\",\"x\":[\"casual\",\"formal\",\"traditional\"],\"xaxis\":\"x\",\"y\":[508,79,55],\"yaxis\":\"y\"}],                        {\"barmode\":\"relative\",\"legend\":{\"tracegroupgap\":0},\"template\":{\"data\":{\"bar\":[{\"error_x\":{\"color\":\"#2a3f5f\"},\"error_y\":{\"color\":\"#2a3f5f\"},\"marker\":{\"line\":{\"color\":\"#E5ECF6\",\"width\":0.5},\"pattern\":{\"fillmode\":\"overlay\",\"size\":10,\"solidity\":0.2}},\"type\":\"bar\"}],\"barpolar\":[{\"marker\":{\"line\":{\"color\":\"#E5ECF6\",\"width\":0.5},\"pattern\":{\"fillmode\":\"overlay\",\"size\":10,\"solidity\":0.2}},\"type\":\"barpolar\"}],\"carpet\":[{\"aaxis\":{\"endlinecolor\":\"#2a3f5f\",\"gridcolor\":\"white\",\"linecolor\":\"white\",\"minorgridcolor\":\"white\",\"startlinecolor\":\"#2a3f5f\"},\"baxis\":{\"endlinecolor\":\"#2a3f5f\",\"gridcolor\":\"white\",\"linecolor\":\"white\",\"minorgridcolor\":\"white\",\"startlinecolor\":\"#2a3f5f\"},\"type\":\"carpet\"}],\"choropleth\":[{\"colorbar\":{\"outlinewidth\":0,\"ticks\":\"\"},\"type\":\"choropleth\"}],\"contour\":[{\"colorbar\":{\"outlinewidth\":0,\"ticks\":\"\"},\"colorscale\":[[0.0,\"#0d0887\"],[0.1111111111111111,\"#46039f\"],[0.2222222222222222,\"#7201a8\"],[0.3333333333333333,\"#9c179e\"],[0.4444444444444444,\"#bd3786\"],[0.5555555555555556,\"#d8576b\"],[0.6666666666666666,\"#ed7953\"],[0.7777777777777778,\"#fb9f3a\"],[0.8888888888888888,\"#fdca26\"],[1.0,\"#f0f921\"]],\"type\":\"contour\"}],\"contourcarpet\":[{\"colorbar\":{\"outlinewidth\":0,\"ticks\":\"\"},\"type\":\"contourcarpet\"}],\"heatmap\":[{\"colorbar\":{\"outlinewidth\":0,\"ticks\":\"\"},\"colorscale\":[[0.0,\"#0d0887\"],[0.1111111111111111,\"#46039f\"],[0.2222222222222222,\"#7201a8\"],[0.3333333333333333,\"#9c179e\"],[0.4444444444444444,\"#bd3786\"],[0.5555555555555556,\"#d8576b\"],[0.6666666666666666,\"#ed7953\"],[0.7777777777777778,\"#fb9f3a\"],[0.8888888888888888,\"#fdca26\"],[1.0,\"#f0f921\"]],\"type\":\"heatmap\"}],\"heatmapgl\":[{\"colorbar\":{\"outlinewidth\":0,\"ticks\":\"\"},\"colorscale\":[[0.0,\"#0d0887\"],[0.1111111111111111,\"#46039f\"],[0.2222222222222222,\"#7201a8\"],[0.3333333333333333,\"#9c179e\"],[0.4444444444444444,\"#bd3786\"],[0.5555555555555556,\"#d8576b\"],[0.6666666666666666,\"#ed7953\"],[0.7777777777777778,\"#fb9f3a\"],[0.8888888888888888,\"#fdca26\"],[1.0,\"#f0f921\"]],\"type\":\"heatmapgl\"}],\"histogram\":[{\"marker\":{\"pattern\":{\"fillmode\":\"overlay\",\"size\":10,\"solidity\":0.2}},\"type\":\"histogram\"}],\"histogram2d\":[{\"colorbar\":{\"outlinewidth\":0,\"ticks\":\"\"},\"colorscale\":[[0.0,\"#0d0887\"],[0.1111111111111111,\"#46039f\"],[0.2222222222222222,\"#7201a8\"],[0.3333333333333333,\"#9c179e\"],[0.4444444444444444,\"#bd3786\"],[0.5555555555555556,\"#d8576b\"],[0.6666666666666666,\"#ed7953\"],[0.7777777777777778,\"#fb9f3a\"],[0.8888888888888888,\"#fdca26\"],[1.0,\"#f0f921\"]],\"type\":\"histogram2d\"}],\"histogram2dcontour\":[{\"colorbar\":{\"outlinewidth\":0,\"ticks\":\"\"},\"colorscale\":[[0.0,\"#0d0887\"],[0.1111111111111111,\"#46039f\"],[0.2222222222222222,\"#7201a8\"],[0.3333333333333333,\"#9c179e\"],[0.4444444444444444,\"#bd3786\"],[0.5555555555555556,\"#d8576b\"],[0.6666666666666666,\"#ed7953\"],[0.7777777777777778,\"#fb9f3a\"],[0.8888888888888888,\"#fdca26\"],[1.0,\"#f0f921\"]],\"type\":\"histogram2dcontour\"}],\"mesh3d\":[{\"colorbar\":{\"outlinewidth\":0,\"ticks\":\"\"},\"type\":\"mesh3d\"}],\"parcoords\":[{\"line\":{\"colorbar\":{\"outlinewidth\":0,\"ticks\":\"\"}},\"type\":\"parcoords\"}],\"pie\":[{\"automargin\":true,\"type\":\"pie\"}],\"scatter\":[{\"marker\":{\"colorbar\":{\"outlinewidth\":0,\"ticks\":\"\"}},\"type\":\"scatter\"}],\"scatter3d\":[{\"line\":{\"colorbar\":{\"outlinewidth\":0,\"ticks\":\"\"}},\"marker\":{\"colorbar\":{\"outlinewidth\":0,\"ticks\":\"\"}},\"type\":\"scatter3d\"}],\"scattercarpet\":[{\"marker\":{\"colorbar\":{\"outlinewidth\":0,\"ticks\":\"\"}},\"type\":\"scattercarpet\"}],\"scattergeo\":[{\"marker\":{\"colorbar\":{\"outlinewidth\":0,\"ticks\":\"\"}},\"type\":\"scattergeo\"}],\"scattergl\":[{\"marker\":{\"colorbar\":{\"outlinewidth\":0,\"ticks\":\"\"}},\"type\":\"scattergl\"}],\"scattermapbox\":[{\"marker\":{\"colorbar\":{\"outlinewidth\":0,\"ticks\":\"\"}},\"type\":\"scattermapbox\"}],\"scatterpolar\":[{\"marker\":{\"colorbar\":{\"outlinewidth\":0,\"ticks\":\"\"}},\"type\":\"scatterpolar\"}],\"scatterpolargl\":[{\"marker\":{\"colorbar\":{\"outlinewidth\":0,\"ticks\":\"\"}},\"type\":\"scatterpolargl\"}],\"scatterternary\":[{\"marker\":{\"colorbar\":{\"outlinewidth\":0,\"ticks\":\"\"}},\"type\":\"scatterternary\"}],\"surface\":[{\"colorbar\":{\"outlinewidth\":0,\"ticks\":\"\"},\"colorscale\":[[0.0,\"#0d0887\"],[0.1111111111111111,\"#46039f\"],[0.2222222222222222,\"#7201a8\"],[0.3333333333333333,\"#9c179e\"],[0.4444444444444444,\"#bd3786\"],[0.5555555555555556,\"#d8576b\"],[0.6666666666666666,\"#ed7953\"],[0.7777777777777778,\"#fb9f3a\"],[0.8888888888888888,\"#fdca26\"],[1.0,\"#f0f921\"]],\"type\":\"surface\"}],\"table\":[{\"cells\":{\"fill\":{\"color\":\"#EBF0F8\"},\"line\":{\"color\":\"white\"}},\"header\":{\"fill\":{\"color\":\"#C8D4E3\"},\"line\":{\"color\":\"white\"}},\"type\":\"table\"}]},\"layout\":{\"annotationdefaults\":{\"arrowcolor\":\"#2a3f5f\",\"arrowhead\":0,\"arrowwidth\":1},\"autotypenumbers\":\"strict\",\"coloraxis\":{\"colorbar\":{\"outlinewidth\":0,\"ticks\":\"\"}},\"colorscale\":{\"diverging\":[[0,\"#8e0152\"],[0.1,\"#c51b7d\"],[0.2,\"#de77ae\"],[0.3,\"#f1b6da\"],[0.4,\"#fde0ef\"],[0.5,\"#f7f7f7\"],[0.6,\"#e6f5d0\"],[0.7,\"#b8e186\"],[0.8,\"#7fbc41\"],[0.9,\"#4d9221\"],[1,\"#276419\"]],\"sequential\":[[0.0,\"#0d0887\"],[0.1111111111111111,\"#46039f\"],[0.2222222222222222,\"#7201a8\"],[0.3333333333333333,\"#9c179e\"],[0.4444444444444444,\"#bd3786\"],[0.5555555555555556,\"#d8576b\"],[0.6666666666666666,\"#ed7953\"],[0.7777777777777778,\"#fb9f3a\"],[0.8888888888888888,\"#fdca26\"],[1.0,\"#f0f921\"]],\"sequentialminus\":[[0.0,\"#0d0887\"],[0.1111111111111111,\"#46039f\"],[0.2222222222222222,\"#7201a8\"],[0.3333333333333333,\"#9c179e\"],[0.4444444444444444,\"#bd3786\"],[0.5555555555555556,\"#d8576b\"],[0.6666666666666666,\"#ed7953\"],[0.7777777777777778,\"#fb9f3a\"],[0.8888888888888888,\"#fdca26\"],[1.0,\"#f0f921\"]]},\"colorway\":[\"#636efa\",\"#EF553B\",\"#00cc96\",\"#ab63fa\",\"#FFA15A\",\"#19d3f3\",\"#FF6692\",\"#B6E880\",\"#FF97FF\",\"#FECB52\"],\"font\":{\"color\":\"#2a3f5f\"},\"geo\":{\"bgcolor\":\"white\",\"lakecolor\":\"white\",\"landcolor\":\"#E5ECF6\",\"showlakes\":true,\"showland\":true,\"subunitcolor\":\"white\"},\"hoverlabel\":{\"align\":\"left\"},\"hovermode\":\"closest\",\"mapbox\":{\"style\":\"light\"},\"paper_bgcolor\":\"white\",\"plot_bgcolor\":\"#E5ECF6\",\"polar\":{\"angularaxis\":{\"gridcolor\":\"white\",\"linecolor\":\"white\",\"ticks\":\"\"},\"bgcolor\":\"#E5ECF6\",\"radialaxis\":{\"gridcolor\":\"white\",\"linecolor\":\"white\",\"ticks\":\"\"}},\"scene\":{\"xaxis\":{\"backgroundcolor\":\"#E5ECF6\",\"gridcolor\":\"white\",\"gridwidth\":2,\"linecolor\":\"white\",\"showbackground\":true,\"ticks\":\"\",\"zerolinecolor\":\"white\"},\"yaxis\":{\"backgroundcolor\":\"#E5ECF6\",\"gridcolor\":\"white\",\"gridwidth\":2,\"linecolor\":\"white\",\"showbackground\":true,\"ticks\":\"\",\"zerolinecolor\":\"white\"},\"zaxis\":{\"backgroundcolor\":\"#E5ECF6\",\"gridcolor\":\"white\",\"gridwidth\":2,\"linecolor\":\"white\",\"showbackground\":true,\"ticks\":\"\",\"zerolinecolor\":\"white\"}},\"shapedefaults\":{\"line\":{\"color\":\"#2a3f5f\"}},\"ternary\":{\"aaxis\":{\"gridcolor\":\"white\",\"linecolor\":\"white\",\"ticks\":\"\"},\"baxis\":{\"gridcolor\":\"white\",\"linecolor\":\"white\",\"ticks\":\"\"},\"bgcolor\":\"#E5ECF6\",\"caxis\":{\"gridcolor\":\"white\",\"linecolor\":\"white\",\"ticks\":\"\"}},\"title\":{\"x\":0.05},\"xaxis\":{\"automargin\":true,\"gridcolor\":\"white\",\"linecolor\":\"white\",\"ticks\":\"\",\"title\":{\"standoff\":15},\"zerolinecolor\":\"white\",\"zerolinewidth\":2},\"yaxis\":{\"automargin\":true,\"gridcolor\":\"white\",\"linecolor\":\"white\",\"ticks\":\"\",\"title\":{\"standoff\":15},\"zerolinecolor\":\"white\",\"zerolinewidth\":2}}},\"title\":{\"text\":\"Distribution of Attire\"},\"xaxis\":{\"anchor\":\"y\",\"domain\":[0.0,1.0],\"title\":{\"text\":\"ATTIRE\"}},\"yaxis\":{\"anchor\":\"x\",\"domain\":[0.0,1.0],\"title\":{\"text\":\"FREQUENCY\"}}},                        {\"responsive\": true}                    ).then(function(){\n",
       "                            \n",
       "var gd = document.getElementById('0267afb0-dcda-463a-8050-5974035c5d4e');\n",
       "var x = new MutationObserver(function (mutations, observer) {{\n",
       "        var display = window.getComputedStyle(gd).display;\n",
       "        if (!display || display === 'none') {{\n",
       "            console.log([gd, 'removed!']);\n",
       "            Plotly.purge(gd);\n",
       "            observer.disconnect();\n",
       "        }}\n",
       "}});\n",
       "\n",
       "// Listen for the removal of the full notebook cells\n",
       "var notebookContainer = gd.closest('#notebook-container');\n",
       "if (notebookContainer) {{\n",
       "    x.observe(notebookContainer, {childList: true});\n",
       "}}\n",
       "\n",
       "// Listen for the clearing of the current output cell\n",
       "var outputEl = gd.closest('.output');\n",
       "if (outputEl) {{\n",
       "    x.observe(outputEl, {childList: true});\n",
       "}}\n",
       "\n",
       "                        })                };                });            </script>        </div>"
      ]
     },
     "metadata": {},
     "output_type": "display_data"
    }
   ],
   "source": [
    "customerAttire = laundry.copy()\n",
    "\n",
    "attire = customerAttire['ATTIRE'].value_counts().reset_index()\n",
    "attire = attire.rename(columns={'index':'ATTIRE', 'ATTIRE':'FREQUENCY'})\n",
    "fig = px.bar(attire, x='ATTIRE', y='FREQUENCY',title=\"Distribution of Attire\") \n",
    "fig.show()"
   ]
  },
  {
   "cell_type": "code",
   "execution_count": 158,
   "metadata": {},
   "outputs": [
    {
     "name": "stdout",
     "output_type": "stream",
     "text": [
      "['blue' 'short_sleeve' 'black' 'short' 'white' 'blue_jeans' 'long' 'red'\n",
      " 'yellow' 'brown' 'long sleeve' 'grey' 'green' 'purple' 'pink' 'orange'\n",
      " 'blue ' 'black ']\n"
     ]
    }
   ],
   "source": [
    "unique_clothes = customerAttire[['SHIRT_COLOUR', 'SHIRT_TYPE', 'PANTS_COLOUR', 'PANTS_TYPE']].values.ravel()\n",
    "unique_clothes = pd.unique(unique_clothes)\n",
    "print(unique_clothes)"
   ]
  },
  {
   "cell_type": "code",
   "execution_count": 159,
   "metadata": {},
   "outputs": [],
   "source": [
    "customerAttire['SHIRT_COLOUR'] = customerAttire['SHIRT_COLOUR'].astype(str) + '_shirt'\n",
    "customerAttire['PANTS_COLOUR'] = customerAttire['PANTS_COLOUR'].astype(str) + '_pants'\n",
    "customerAttire['PANTS_TYPE'] = customerAttire['PANTS_TYPE'].astype(str) + '_pants'"
   ]
  },
  {
   "cell_type": "code",
   "execution_count": 160,
   "metadata": {},
   "outputs": [],
   "source": [
    "def top5clothes(df) : \n",
    "    customerClothes = df[['SHIRT_COLOUR', 'SHIRT_TYPE', 'PANTS_COLOUR', 'PANTS_TYPE']]\n",
    "    records = []\n",
    "    count_row = customerClothes.shape[0]\n",
    "    for i in range(0, count_row):\n",
    "        records.append([str(customerClothes.values[i,j]) for j in range(0, 4)])\n",
    "        \n",
    "    association_rules = apriori(records, min_support = 0.0045, min_confidence = 0.2, min_lift = 3, min_length = 3)\n",
    "    association_result = list(association_rules)\n",
    "\n",
    "    cnt =0\n",
    "\n",
    "    for item in association_result:\n",
    "        cnt += 1\n",
    "        # first index of the inner list\n",
    "        # Contains base item and add item\n",
    "        pair = item[0] \n",
    "        items = [x for x in pair]\n",
    "        print(\"(Rule \" + str(cnt) + \") \" + items[0] + \" -> \" + items[1])\n",
    "\n",
    "        #second index of the inner list\n",
    "        print(\"Support: \" + str(round(item[1],3)))\n",
    "\n",
    "        #third index of the list located at 0th\n",
    "        #of the third index of the inner list\n",
    "\n",
    "        print(\"Confidence: \" + str(round(item[2][0][2],4)))\n",
    "        print(\"Lift: \" + str(round(item[2][0][3],4)))\n",
    "        print(\"=====================================\")\n",
    "\n",
    "        if cnt > 4: break"
   ]
  },
  {
   "cell_type": "code",
   "execution_count": 161,
   "metadata": {},
   "outputs": [],
   "source": [
    "casual = customerAttire[customerAttire['ATTIRE'] == 'casual'].reset_index()\n",
    "formal = customerAttire[customerAttire['ATTIRE'] == 'formal'].reset_index()\n",
    "traditional = customerAttire[customerAttire['ATTIRE'] == 'traditional'].reset_index()"
   ]
  },
  {
   "cell_type": "markdown",
   "metadata": {},
   "source": [
    "Casual"
   ]
  },
  {
   "cell_type": "code",
   "execution_count": 162,
   "metadata": {},
   "outputs": [
    {
     "name": "stdout",
     "output_type": "stream",
     "text": [
      "Casual Attire\n",
      "=====================================\n",
      "(Rule 1) long sleeve -> brown_shirt\n",
      "Support: 0.026\n",
      "Confidence: 0.4333\n",
      "Lift: 3.0155\n",
      "=====================================\n",
      "(Rule 2) green_shirt -> pink_pants\n",
      "Support: 0.01\n",
      "Confidence: 0.4167\n",
      "Lift: 6.0476\n",
      "=====================================\n",
      "(Rule 3) purple_shirt -> purple_pants\n",
      "Support: 0.006\n",
      "Confidence: 0.25\n",
      "Lift: 7.0556\n",
      "=====================================\n",
      "(Rule 4) long sleeve -> black_pants\n",
      "Support: 0.016\n",
      "Confidence: 0.2667\n",
      "Lift: 3.8705\n",
      "=====================================\n",
      "(Rule 5) long sleeve -> black_pants\n",
      "Support: 0.008\n",
      "Confidence: 0.3333\n",
      "Lift: 4.8381\n",
      "=====================================\n",
      "None\n"
     ]
    }
   ],
   "source": [
    "print ('Casual Attire')\n",
    "print(\"=====================================\")\n",
    "casualAttire = top5clothes(casual)\n",
    "print (casualAttire)"
   ]
  },
  {
   "cell_type": "markdown",
   "metadata": {},
   "source": [
    "Formal"
   ]
  },
  {
   "cell_type": "code",
   "execution_count": 163,
   "metadata": {},
   "outputs": [
    {
     "name": "stdout",
     "output_type": "stream",
     "text": [
      "Formal Attire\n",
      "=====================================\n",
      "(Rule 1) brown_shirt -> blue_pants\n",
      "Support: 0.025\n",
      "Confidence: 0.2222\n",
      "Lift: 8.7778\n",
      "=====================================\n",
      "(Rule 2) brown_pants -> grey_shirt\n",
      "Support: 0.013\n",
      "Confidence: 0.25\n",
      "Lift: 4.9375\n",
      "=====================================\n",
      "(Rule 3) brown_pants -> orange_shirt\n",
      "Support: 0.025\n",
      "Confidence: 0.5\n",
      "Lift: 6.5833\n",
      "=====================================\n",
      "(Rule 4) grey_pants -> red_shirt\n",
      "Support: 0.025\n",
      "Confidence: 0.2857\n",
      "Lift: 3.2245\n",
      "=====================================\n",
      "(Rule 5) pink_shirt -> pink_pants\n",
      "Support: 0.025\n",
      "Confidence: 1.0\n",
      "Lift: 9.875\n",
      "=====================================\n",
      "None\n"
     ]
    }
   ],
   "source": [
    "print ('Formal Attire')\n",
    "print(\"=====================================\")\n",
    "formalAttire = top5clothes(formal)\n",
    "print (formalAttire)"
   ]
  },
  {
   "cell_type": "markdown",
   "metadata": {},
   "source": [
    "Traditional"
   ]
  },
  {
   "cell_type": "code",
   "execution_count": 164,
   "metadata": {},
   "outputs": [
    {
     "name": "stdout",
     "output_type": "stream",
     "text": [
      "Traditional Attire\n",
      "=====================================\n",
      "(Rule 1) black_pants -> black_shirt\n",
      "Support: 0.073\n",
      "Confidence: 0.3333\n",
      "Lift: 4.5833\n",
      "=====================================\n",
      "(Rule 2) blue_shirt -> blue_pants\n",
      "Support: 0.091\n",
      "Confidence: 0.3846\n",
      "Lift: 3.5256\n",
      "=====================================\n",
      "(Rule 3) brown_pants -> brown_shirt\n",
      "Support: 0.073\n",
      "Confidence: 1.0\n",
      "Lift: 4.2308\n",
      "=====================================\n",
      "(Rule 4) green_pants -> green_shirt\n",
      "Support: 0.036\n",
      "Confidence: 1.0\n",
      "Lift: 11.0\n",
      "=====================================\n",
      "(Rule 5) grey_pants -> grey_shirt\n",
      "Support: 0.055\n",
      "Confidence: 1.0\n",
      "Lift: 18.3333\n",
      "=====================================\n",
      "None\n"
     ]
    }
   ],
   "source": [
    "print ('Traditional Attire')\n",
    "print(\"=====================================\")\n",
    "traditionalAttire = top5clothes(traditional)\n",
    "print (traditionalAttire)"
   ]
  },
  {
   "cell_type": "markdown",
   "metadata": {},
   "source": [
    "### 4. Customers wear short sleeves during the day and long sleeves during the night. Prove the hypothesis"
   ]
  },
  {
   "cell_type": "code",
   "execution_count": 165,
   "metadata": {},
   "outputs": [
    {
     "data": {
      "text/html": [
       "<div>\n",
       "<style scoped>\n",
       "    .dataframe tbody tr th:only-of-type {\n",
       "        vertical-align: middle;\n",
       "    }\n",
       "\n",
       "    .dataframe tbody tr th {\n",
       "        vertical-align: top;\n",
       "    }\n",
       "\n",
       "    .dataframe thead th {\n",
       "        text-align: right;\n",
       "    }\n",
       "</style>\n",
       "<table border=\"1\" class=\"dataframe\">\n",
       "  <thead>\n",
       "    <tr style=\"text-align: right;\">\n",
       "      <th></th>\n",
       "      <th>PART_OF_DAY</th>\n",
       "      <th>SHIRT_TYPE</th>\n",
       "      <th>FREQUENCY</th>\n",
       "    </tr>\n",
       "  </thead>\n",
       "  <tbody>\n",
       "    <tr>\n",
       "      <th>0</th>\n",
       "      <td>Day</td>\n",
       "      <td>long sleeve</td>\n",
       "      <td>73</td>\n",
       "    </tr>\n",
       "    <tr>\n",
       "      <th>1</th>\n",
       "      <td>Day</td>\n",
       "      <td>short_sleeve</td>\n",
       "      <td>226</td>\n",
       "    </tr>\n",
       "    <tr>\n",
       "      <th>2</th>\n",
       "      <td>Night</td>\n",
       "      <td>long sleeve</td>\n",
       "      <td>64</td>\n",
       "    </tr>\n",
       "    <tr>\n",
       "      <th>3</th>\n",
       "      <td>Night</td>\n",
       "      <td>short_sleeve</td>\n",
       "      <td>279</td>\n",
       "    </tr>\n",
       "  </tbody>\n",
       "</table>\n",
       "</div>"
      ],
      "text/plain": [
       "  PART_OF_DAY    SHIRT_TYPE  FREQUENCY\n",
       "0         Day   long sleeve         73\n",
       "1         Day  short_sleeve        226\n",
       "2       Night   long sleeve         64\n",
       "3       Night  short_sleeve        279"
      ]
     },
     "execution_count": 165,
     "metadata": {},
     "output_type": "execute_result"
    }
   ],
   "source": [
    "shirt = laundry.groupby(['PART_OF_DAY', 'SHIRT_TYPE']).size().reset_index()\n",
    "shirt = shirt.rename(columns={0:'FREQUENCY'})\n",
    "\n",
    "shirt"
   ]
  },
  {
   "cell_type": "code",
   "execution_count": 166,
   "metadata": {},
   "outputs": [
    {
     "data": {
      "text/html": [
       "\n",
       "<div id=\"altair-viz-f6f810dca81b45fa874f07d99e82a4ca\"></div>\n",
       "<script type=\"text/javascript\">\n",
       "  (function(spec, embedOpt){\n",
       "    let outputDiv = document.currentScript.previousElementSibling;\n",
       "    if (outputDiv.id !== \"altair-viz-f6f810dca81b45fa874f07d99e82a4ca\") {\n",
       "      outputDiv = document.getElementById(\"altair-viz-f6f810dca81b45fa874f07d99e82a4ca\");\n",
       "    }\n",
       "    const paths = {\n",
       "      \"vega\": \"https://cdn.jsdelivr.net/npm//vega@5?noext\",\n",
       "      \"vega-lib\": \"https://cdn.jsdelivr.net/npm//vega-lib?noext\",\n",
       "      \"vega-lite\": \"https://cdn.jsdelivr.net/npm//vega-lite@4.8.1?noext\",\n",
       "      \"vega-embed\": \"https://cdn.jsdelivr.net/npm//vega-embed@6?noext\",\n",
       "    };\n",
       "\n",
       "    function loadScript(lib) {\n",
       "      return new Promise(function(resolve, reject) {\n",
       "        var s = document.createElement('script');\n",
       "        s.src = paths[lib];\n",
       "        s.async = true;\n",
       "        s.onload = () => resolve(paths[lib]);\n",
       "        s.onerror = () => reject(`Error loading script: ${paths[lib]}`);\n",
       "        document.getElementsByTagName(\"head\")[0].appendChild(s);\n",
       "      });\n",
       "    }\n",
       "\n",
       "    function showError(err) {\n",
       "      outputDiv.innerHTML = `<div class=\"error\" style=\"color:red;\">${err}</div>`;\n",
       "      throw err;\n",
       "    }\n",
       "\n",
       "    function displayChart(vegaEmbed) {\n",
       "      vegaEmbed(outputDiv, spec, embedOpt)\n",
       "        .catch(err => showError(`Javascript Error: ${err.message}<br>This usually means there's a typo in your chart specification. See the javascript console for the full traceback.`));\n",
       "    }\n",
       "\n",
       "    if(typeof define === \"function\" && define.amd) {\n",
       "      requirejs.config({paths});\n",
       "      require([\"vega-embed\"], displayChart, err => showError(`Error loading script: ${err.message}`));\n",
       "    } else if (typeof vegaEmbed === \"function\") {\n",
       "      displayChart(vegaEmbed);\n",
       "    } else {\n",
       "      loadScript(\"vega\")\n",
       "        .then(() => loadScript(\"vega-lite\"))\n",
       "        .then(() => loadScript(\"vega-embed\"))\n",
       "        .catch(showError)\n",
       "        .then(() => displayChart(vegaEmbed));\n",
       "    }\n",
       "  })({\"config\": {\"view\": {\"continuousWidth\": 400, \"continuousHeight\": 300}}, \"data\": {\"name\": \"data-44d288db9014e63208064320f014aba1\"}, \"mark\": \"bar\", \"encoding\": {\"color\": {\"type\": \"nominal\", \"field\": \"SHIRT_TYPE\"}, \"column\": {\"type\": \"nominal\", \"field\": \"SHIRT_TYPE\"}, \"x\": {\"type\": \"ordinal\", \"field\": \"PART_OF_DAY\"}, \"y\": {\"type\": \"quantitative\", \"field\": \"FREQUENCY\"}}, \"$schema\": \"https://vega.github.io/schema/vega-lite/v4.8.1.json\", \"datasets\": {\"data-44d288db9014e63208064320f014aba1\": [{\"PART_OF_DAY\": \"Day\", \"SHIRT_TYPE\": \"long sleeve\", \"FREQUENCY\": 73}, {\"PART_OF_DAY\": \"Day\", \"SHIRT_TYPE\": \"short_sleeve\", \"FREQUENCY\": 226}, {\"PART_OF_DAY\": \"Night\", \"SHIRT_TYPE\": \"long sleeve\", \"FREQUENCY\": 64}, {\"PART_OF_DAY\": \"Night\", \"SHIRT_TYPE\": \"short_sleeve\", \"FREQUENCY\": 279}]}}, {\"mode\": \"vega-lite\"});\n",
       "</script>"
      ],
      "text/plain": [
       "alt.Chart(...)"
      ]
     },
     "execution_count": 166,
     "metadata": {},
     "output_type": "execute_result"
    }
   ],
   "source": [
    "alt.Chart(shirt).mark_bar().encode(\n",
    "    x='PART_OF_DAY:O',\n",
    "    y='FREQUENCY:Q',\n",
    "    color='SHIRT_TYPE:N',\n",
    "    column='SHIRT_TYPE:N'\n",
    ")"
   ]
  },
  {
   "cell_type": "markdown",
   "metadata": {},
   "source": [
    "### 5. Frequency usage for washer and dryer per month"
   ]
  },
  {
   "cell_type": "markdown",
   "metadata": {},
   "source": [
    "#### WASHER"
   ]
  },
  {
   "cell_type": "code",
   "execution_count": 167,
   "metadata": {},
   "outputs": [
    {
     "name": "stdout",
     "output_type": "stream",
     "text": [
      "Frequency of washer used per month is:  512\n"
     ]
    },
    {
     "data": {
      "text/html": [
       "\n",
       "<div id=\"altair-viz-9402c95cf041428793bc246214411040\"></div>\n",
       "<script type=\"text/javascript\">\n",
       "  (function(spec, embedOpt){\n",
       "    let outputDiv = document.currentScript.previousElementSibling;\n",
       "    if (outputDiv.id !== \"altair-viz-9402c95cf041428793bc246214411040\") {\n",
       "      outputDiv = document.getElementById(\"altair-viz-9402c95cf041428793bc246214411040\");\n",
       "    }\n",
       "    const paths = {\n",
       "      \"vega\": \"https://cdn.jsdelivr.net/npm//vega@5?noext\",\n",
       "      \"vega-lib\": \"https://cdn.jsdelivr.net/npm//vega-lib?noext\",\n",
       "      \"vega-lite\": \"https://cdn.jsdelivr.net/npm//vega-lite@4.8.1?noext\",\n",
       "      \"vega-embed\": \"https://cdn.jsdelivr.net/npm//vega-embed@6?noext\",\n",
       "    };\n",
       "\n",
       "    function loadScript(lib) {\n",
       "      return new Promise(function(resolve, reject) {\n",
       "        var s = document.createElement('script');\n",
       "        s.src = paths[lib];\n",
       "        s.async = true;\n",
       "        s.onload = () => resolve(paths[lib]);\n",
       "        s.onerror = () => reject(`Error loading script: ${paths[lib]}`);\n",
       "        document.getElementsByTagName(\"head\")[0].appendChild(s);\n",
       "      });\n",
       "    }\n",
       "\n",
       "    function showError(err) {\n",
       "      outputDiv.innerHTML = `<div class=\"error\" style=\"color:red;\">${err}</div>`;\n",
       "      throw err;\n",
       "    }\n",
       "\n",
       "    function displayChart(vegaEmbed) {\n",
       "      vegaEmbed(outputDiv, spec, embedOpt)\n",
       "        .catch(err => showError(`Javascript Error: ${err.message}<br>This usually means there's a typo in your chart specification. See the javascript console for the full traceback.`));\n",
       "    }\n",
       "\n",
       "    if(typeof define === \"function\" && define.amd) {\n",
       "      requirejs.config({paths});\n",
       "      require([\"vega-embed\"], displayChart, err => showError(`Error loading script: ${err.message}`));\n",
       "    } else if (typeof vegaEmbed === \"function\") {\n",
       "      displayChart(vegaEmbed);\n",
       "    } else {\n",
       "      loadScript(\"vega\")\n",
       "        .then(() => loadScript(\"vega-lite\"))\n",
       "        .then(() => loadScript(\"vega-embed\"))\n",
       "        .catch(showError)\n",
       "        .then(() => displayChart(vegaEmbed));\n",
       "    }\n",
       "  })({\"config\": {\"view\": {\"continuousWidth\": 400, \"continuousHeight\": 300}}, \"data\": {\"name\": \"data-a4cdd16d260a538abf0dc5306d235488\"}, \"mark\": \"bar\", \"encoding\": {\"x\": {\"type\": \"temporal\", \"field\": \"DATE\"}, \"y\": {\"type\": \"quantitative\", \"field\": \"FREQUENCY\"}}, \"$schema\": \"https://vega.github.io/schema/vega-lite/v4.8.1.json\", \"datasets\": {\"data-a4cdd16d260a538abf0dc5306d235488\": [{\"DATE\": \"2015-11-01T00:00:00\", \"FREQUENCY\": 4}, {\"DATE\": \"2015-11-02T00:00:00\", \"FREQUENCY\": 36}, {\"DATE\": \"2015-11-03T00:00:00\", \"FREQUENCY\": 41}, {\"DATE\": \"2015-11-04T00:00:00\", \"FREQUENCY\": 20}, {\"DATE\": \"2015-11-05T00:00:00\", \"FREQUENCY\": 4}, {\"DATE\": \"2015-11-15T00:00:00\", \"FREQUENCY\": 40}, {\"DATE\": \"2015-11-23T00:00:00\", \"FREQUENCY\": 29}, {\"DATE\": \"2015-11-24T00:00:00\", \"FREQUENCY\": 18}, {\"DATE\": \"2015-11-25T00:00:00\", \"FREQUENCY\": 20}, {\"DATE\": \"2015-11-26T00:00:00\", \"FREQUENCY\": 16}, {\"DATE\": \"2015-11-27T00:00:00\", \"FREQUENCY\": 76}, {\"DATE\": \"2015-11-28T00:00:00\", \"FREQUENCY\": 106}, {\"DATE\": \"2015-11-29T00:00:00\", \"FREQUENCY\": 102}]}}, {\"mode\": \"vega-lite\"});\n",
       "</script>"
      ],
      "text/plain": [
       "alt.Chart(...)"
      ]
     },
     "execution_count": 167,
     "metadata": {},
     "output_type": "execute_result"
    }
   ],
   "source": [
    "temp = laundryAnalaysis.copy()\n",
    "temp['WASHER_NO'] = temp['WASHER_NO'].apply(lambda x: 1)\n",
    "temp['DRYER_NO'] = temp['DRYER_NO'].apply(lambda x: 1)\n",
    "temp['MONTH'] = temp['DATE'].dt.month\n",
    "\n",
    "a = temp[temp['MONTH']==11].groupby(['DATE','WASHER_NO']).size().unstack()\n",
    "a.reset_index(inplace=True)\n",
    "a.rename(columns={'DATE': 'DATE', 1: 'FREQUENCY'}, inplace=True)\n",
    "\n",
    "print('Frequency of washer used per month is: ', a['FREQUENCY'].sum())\n",
    "alt.Chart(a).mark_bar().encode(\n",
    "    x='DATE',\n",
    "    y='FREQUENCY',\n",
    ")"
   ]
  },
  {
   "cell_type": "markdown",
   "metadata": {},
   "source": [
    "#### DRYER"
   ]
  },
  {
   "cell_type": "code",
   "execution_count": 168,
   "metadata": {},
   "outputs": [
    {
     "name": "stdout",
     "output_type": "stream",
     "text": [
      "Frequency of dryer used per month is:  512\n"
     ]
    },
    {
     "data": {
      "text/html": [
       "\n",
       "<div id=\"altair-viz-4ffa1f3c3e1d4d0883674e243e45f457\"></div>\n",
       "<script type=\"text/javascript\">\n",
       "  (function(spec, embedOpt){\n",
       "    let outputDiv = document.currentScript.previousElementSibling;\n",
       "    if (outputDiv.id !== \"altair-viz-4ffa1f3c3e1d4d0883674e243e45f457\") {\n",
       "      outputDiv = document.getElementById(\"altair-viz-4ffa1f3c3e1d4d0883674e243e45f457\");\n",
       "    }\n",
       "    const paths = {\n",
       "      \"vega\": \"https://cdn.jsdelivr.net/npm//vega@5?noext\",\n",
       "      \"vega-lib\": \"https://cdn.jsdelivr.net/npm//vega-lib?noext\",\n",
       "      \"vega-lite\": \"https://cdn.jsdelivr.net/npm//vega-lite@4.8.1?noext\",\n",
       "      \"vega-embed\": \"https://cdn.jsdelivr.net/npm//vega-embed@6?noext\",\n",
       "    };\n",
       "\n",
       "    function loadScript(lib) {\n",
       "      return new Promise(function(resolve, reject) {\n",
       "        var s = document.createElement('script');\n",
       "        s.src = paths[lib];\n",
       "        s.async = true;\n",
       "        s.onload = () => resolve(paths[lib]);\n",
       "        s.onerror = () => reject(`Error loading script: ${paths[lib]}`);\n",
       "        document.getElementsByTagName(\"head\")[0].appendChild(s);\n",
       "      });\n",
       "    }\n",
       "\n",
       "    function showError(err) {\n",
       "      outputDiv.innerHTML = `<div class=\"error\" style=\"color:red;\">${err}</div>`;\n",
       "      throw err;\n",
       "    }\n",
       "\n",
       "    function displayChart(vegaEmbed) {\n",
       "      vegaEmbed(outputDiv, spec, embedOpt)\n",
       "        .catch(err => showError(`Javascript Error: ${err.message}<br>This usually means there's a typo in your chart specification. See the javascript console for the full traceback.`));\n",
       "    }\n",
       "\n",
       "    if(typeof define === \"function\" && define.amd) {\n",
       "      requirejs.config({paths});\n",
       "      require([\"vega-embed\"], displayChart, err => showError(`Error loading script: ${err.message}`));\n",
       "    } else if (typeof vegaEmbed === \"function\") {\n",
       "      displayChart(vegaEmbed);\n",
       "    } else {\n",
       "      loadScript(\"vega\")\n",
       "        .then(() => loadScript(\"vega-lite\"))\n",
       "        .then(() => loadScript(\"vega-embed\"))\n",
       "        .catch(showError)\n",
       "        .then(() => displayChart(vegaEmbed));\n",
       "    }\n",
       "  })({\"config\": {\"view\": {\"continuousWidth\": 400, \"continuousHeight\": 300}}, \"data\": {\"name\": \"data-a4cdd16d260a538abf0dc5306d235488\"}, \"mark\": \"bar\", \"encoding\": {\"x\": {\"type\": \"temporal\", \"field\": \"DATE\"}, \"y\": {\"type\": \"quantitative\", \"field\": \"FREQUENCY\"}}, \"$schema\": \"https://vega.github.io/schema/vega-lite/v4.8.1.json\", \"datasets\": {\"data-a4cdd16d260a538abf0dc5306d235488\": [{\"DATE\": \"2015-11-01T00:00:00\", \"FREQUENCY\": 4}, {\"DATE\": \"2015-11-02T00:00:00\", \"FREQUENCY\": 36}, {\"DATE\": \"2015-11-03T00:00:00\", \"FREQUENCY\": 41}, {\"DATE\": \"2015-11-04T00:00:00\", \"FREQUENCY\": 20}, {\"DATE\": \"2015-11-05T00:00:00\", \"FREQUENCY\": 4}, {\"DATE\": \"2015-11-15T00:00:00\", \"FREQUENCY\": 40}, {\"DATE\": \"2015-11-23T00:00:00\", \"FREQUENCY\": 29}, {\"DATE\": \"2015-11-24T00:00:00\", \"FREQUENCY\": 18}, {\"DATE\": \"2015-11-25T00:00:00\", \"FREQUENCY\": 20}, {\"DATE\": \"2015-11-26T00:00:00\", \"FREQUENCY\": 16}, {\"DATE\": \"2015-11-27T00:00:00\", \"FREQUENCY\": 76}, {\"DATE\": \"2015-11-28T00:00:00\", \"FREQUENCY\": 106}, {\"DATE\": \"2015-11-29T00:00:00\", \"FREQUENCY\": 102}]}}, {\"mode\": \"vega-lite\"});\n",
       "</script>"
      ],
      "text/plain": [
       "alt.Chart(...)"
      ]
     },
     "execution_count": 168,
     "metadata": {},
     "output_type": "execute_result"
    }
   ],
   "source": [
    "b = temp[temp['MONTH']==11].groupby(['DATE','DRYER_NO']).size().unstack()\n",
    "b.reset_index(inplace=True)\n",
    "b.rename(columns={'DATE': 'DATE', 1: 'FREQUENCY'}, inplace=True)\n",
    "\n",
    "print('Frequency of dryer used per month is: ', b['FREQUENCY'].sum())\n",
    "alt.Chart(b).mark_bar().encode(\n",
    "    x='DATE',\n",
    "    y='FREQUENCY',\n",
    ")"
   ]
  },
  {
   "cell_type": "markdown",
   "metadata": {},
   "source": [
    "### 6. Which dryer and washing machine are frequently used together? "
   ]
  },
  {
   "cell_type": "code",
   "execution_count": 169,
   "metadata": {},
   "outputs": [
    {
     "data": {
      "text/html": [
       "<div>\n",
       "<style scoped>\n",
       "    .dataframe tbody tr th:only-of-type {\n",
       "        vertical-align: middle;\n",
       "    }\n",
       "\n",
       "    .dataframe tbody tr th {\n",
       "        vertical-align: top;\n",
       "    }\n",
       "\n",
       "    .dataframe thead th {\n",
       "        text-align: right;\n",
       "    }\n",
       "</style>\n",
       "<table border=\"1\" class=\"dataframe\">\n",
       "  <thead>\n",
       "    <tr style=\"text-align: right;\">\n",
       "      <th></th>\n",
       "      <th>WASHER_NO</th>\n",
       "      <th>DRYER_NO</th>\n",
       "    </tr>\n",
       "  </thead>\n",
       "  <tbody>\n",
       "    <tr>\n",
       "      <th>0</th>\n",
       "      <td>WASHER 3</td>\n",
       "      <td>DRYER 10</td>\n",
       "    </tr>\n",
       "    <tr>\n",
       "      <th>1</th>\n",
       "      <td>WASHER 6</td>\n",
       "      <td>DRYER 9</td>\n",
       "    </tr>\n",
       "    <tr>\n",
       "      <th>2</th>\n",
       "      <td>WASHER 4</td>\n",
       "      <td>DRYER 10</td>\n",
       "    </tr>\n",
       "    <tr>\n",
       "      <th>4</th>\n",
       "      <td>WASHER 3</td>\n",
       "      <td>DRYER 9</td>\n",
       "    </tr>\n",
       "    <tr>\n",
       "      <th>8</th>\n",
       "      <td>WASHER 6</td>\n",
       "      <td>DRYER 10</td>\n",
       "    </tr>\n",
       "    <tr>\n",
       "      <th>...</th>\n",
       "      <td>...</td>\n",
       "      <td>...</td>\n",
       "    </tr>\n",
       "    <tr>\n",
       "      <th>802</th>\n",
       "      <td>WASHER 3</td>\n",
       "      <td>DRYER 10</td>\n",
       "    </tr>\n",
       "    <tr>\n",
       "      <th>803</th>\n",
       "      <td>WASHER 3</td>\n",
       "      <td>DRYER 7</td>\n",
       "    </tr>\n",
       "    <tr>\n",
       "      <th>804</th>\n",
       "      <td>WASHER 3</td>\n",
       "      <td>DRYER 7</td>\n",
       "    </tr>\n",
       "    <tr>\n",
       "      <th>805</th>\n",
       "      <td>WASHER 6</td>\n",
       "      <td>DRYER 10</td>\n",
       "    </tr>\n",
       "    <tr>\n",
       "      <th>806</th>\n",
       "      <td>WASHER 4</td>\n",
       "      <td>DRYER 8</td>\n",
       "    </tr>\n",
       "  </tbody>\n",
       "</table>\n",
       "<p>642 rows × 2 columns</p>\n",
       "</div>"
      ],
      "text/plain": [
       "    WASHER_NO  DRYER_NO\n",
       "0    WASHER 3  DRYER 10\n",
       "1    WASHER 6   DRYER 9\n",
       "2    WASHER 4  DRYER 10\n",
       "4    WASHER 3   DRYER 9\n",
       "8    WASHER 6  DRYER 10\n",
       "..        ...       ...\n",
       "802  WASHER 3  DRYER 10\n",
       "803  WASHER 3   DRYER 7\n",
       "804  WASHER 3   DRYER 7\n",
       "805  WASHER 6  DRYER 10\n",
       "806  WASHER 4   DRYER 8\n",
       "\n",
       "[642 rows x 2 columns]"
      ]
     },
     "metadata": {},
     "output_type": "display_data"
    }
   ],
   "source": [
    "import warnings\n",
    "warnings.filterwarnings(\"ignore\")\n",
    "washerAndDryer = laundryAnalaysis[['WASHER_NO','DRYER_NO']]\n",
    "washerAndDryer['WASHER_NO'] = 'WASHER ' + washerAndDryer['WASHER_NO'].astype(str)\n",
    "washerAndDryer['DRYER_NO'] = 'DRYER ' + washerAndDryer['DRYER_NO'].astype(str)\n",
    "display(washerAndDryer)\n",
    "records = washerAndDryer.values.tolist()"
   ]
  },
  {
   "cell_type": "code",
   "execution_count": 170,
   "metadata": {},
   "outputs": [
    {
     "name": "stdout",
     "output_type": "stream",
     "text": [
      "4\n"
     ]
    }
   ],
   "source": [
    "# apply apriori algorithm with support = 0.45%, confidence =20%, lift = 3.000\n",
    "association_results = apriori(records, min_support=0.0050, min_confidence=0.3, min_lift=1, min_length=1)\n",
    "association_results = list(association_results)\n",
    "print(len(association_results))"
   ]
  },
  {
   "cell_type": "code",
   "execution_count": 171,
   "metadata": {},
   "outputs": [
    {
     "name": "stdout",
     "output_type": "stream",
     "text": [
      "(Rule 1) DRYER 10 -> WASHER 6\n",
      "Support: 0.089\n",
      "Confidence: 0.3497\n",
      "Lift: 1.3524\n",
      "=====================================\n",
      "(Rule 2) WASHER 3 -> DRYER 7\n",
      "Support: 0.112\n",
      "Confidence: 0.3789\n",
      "Lift: 1.3294\n",
      "=====================================\n",
      "(Rule 3) WASHER 4 -> DRYER 8\n",
      "Support: 0.072\n",
      "Confidence: 0.3007\n",
      "Lift: 1.4089\n",
      "=====================================\n",
      "(Rule 4) DRYER 9 -> WASHER 5\n",
      "Support: 0.07\n",
      "Confidence: 0.3309\n",
      "Lift: 1.3617\n",
      "=====================================\n"
     ]
    }
   ],
   "source": [
    "cnt =0\n",
    "\n",
    "dryer = []\n",
    "washer = []\n",
    "\n",
    "for item in association_results:\n",
    "    cnt += 1\n",
    "    # first index of the inner list\n",
    "    # Contains base item and add item\n",
    "    pair = item[0] \n",
    "    items = [x for x in pair]\n",
    "    print(\"(Rule \" + str(cnt) + \") \" + str(items[0]) + \" -> \" + str(items[1]))\n",
    "\n",
    "    dryer.append(str(items[0]))\n",
    "    washer.append(str(items[1]))\n",
    "\n",
    "    #second index of the inner list\n",
    "    print(\"Support: \" + str(round(item[1],3)))\n",
    "\n",
    "    #third index of the list located at 0th\n",
    "    #of the third index of the inner list\n",
    "\n",
    "    print(\"Confidence: \" + str(round(item[2][0][2],4)))\n",
    "    print(\"Lift: \" + str(round(item[2][0][3],4)))\n",
    "    print(\"=====================================\")"
   ]
  },
  {
   "cell_type": "markdown",
   "metadata": {},
   "source": [
    "### 7. What are the potential locations to open a new laundry based on the population of housing areas? \n"
   ]
  },
  {
   "cell_type": "markdown",
   "metadata": {},
   "source": [
    "#### Overall"
   ]
  },
  {
   "cell_type": "code",
   "execution_count": 172,
   "metadata": {},
   "outputs": [
    {
     "data": {
      "text/html": [
       "\n",
       "<div id=\"altair-viz-a310568847654ed392075a486ad38a91\"></div>\n",
       "<script type=\"text/javascript\">\n",
       "  (function(spec, embedOpt){\n",
       "    let outputDiv = document.currentScript.previousElementSibling;\n",
       "    if (outputDiv.id !== \"altair-viz-a310568847654ed392075a486ad38a91\") {\n",
       "      outputDiv = document.getElementById(\"altair-viz-a310568847654ed392075a486ad38a91\");\n",
       "    }\n",
       "    const paths = {\n",
       "      \"vega\": \"https://cdn.jsdelivr.net/npm//vega@5?noext\",\n",
       "      \"vega-lib\": \"https://cdn.jsdelivr.net/npm//vega-lib?noext\",\n",
       "      \"vega-lite\": \"https://cdn.jsdelivr.net/npm//vega-lite@4.8.1?noext\",\n",
       "      \"vega-embed\": \"https://cdn.jsdelivr.net/npm//vega-embed@6?noext\",\n",
       "    };\n",
       "\n",
       "    function loadScript(lib) {\n",
       "      return new Promise(function(resolve, reject) {\n",
       "        var s = document.createElement('script');\n",
       "        s.src = paths[lib];\n",
       "        s.async = true;\n",
       "        s.onload = () => resolve(paths[lib]);\n",
       "        s.onerror = () => reject(`Error loading script: ${paths[lib]}`);\n",
       "        document.getElementsByTagName(\"head\")[0].appendChild(s);\n",
       "      });\n",
       "    }\n",
       "\n",
       "    function showError(err) {\n",
       "      outputDiv.innerHTML = `<div class=\"error\" style=\"color:red;\">${err}</div>`;\n",
       "      throw err;\n",
       "    }\n",
       "\n",
       "    function displayChart(vegaEmbed) {\n",
       "      vegaEmbed(outputDiv, spec, embedOpt)\n",
       "        .catch(err => showError(`Javascript Error: ${err.message}<br>This usually means there's a typo in your chart specification. See the javascript console for the full traceback.`));\n",
       "    }\n",
       "\n",
       "    if(typeof define === \"function\" && define.amd) {\n",
       "      requirejs.config({paths});\n",
       "      require([\"vega-embed\"], displayChart, err => showError(`Error loading script: ${err.message}`));\n",
       "    } else if (typeof vegaEmbed === \"function\") {\n",
       "      displayChart(vegaEmbed);\n",
       "    } else {\n",
       "      loadScript(\"vega\")\n",
       "        .then(() => loadScript(\"vega-lite\"))\n",
       "        .then(() => loadScript(\"vega-embed\"))\n",
       "        .catch(showError)\n",
       "        .then(() => displayChart(vegaEmbed));\n",
       "    }\n",
       "  })({\"config\": {\"view\": {\"continuousWidth\": 400, \"continuousHeight\": 300}}, \"layer\": [{\"mark\": \"bar\", \"encoding\": {\"color\": {\"condition\": {\"value\": \"green\", \"test\": \"(datum.NUMBER_OF_HOUSES >= 4000)\"}, \"value\": \"steelblue\"}, \"x\": {\"type\": \"quantitative\", \"field\": \"NUMBER_OF_HOUSES\"}, \"y\": {\"type\": \"nominal\", \"field\": \"RESIDENTAL_AREA\"}}}, {\"mark\": {\"type\": \"text\", \"align\": \"left\", \"baseline\": \"middle\", \"dx\": 5}, \"encoding\": {\"color\": {\"condition\": {\"value\": \"green\", \"test\": \"(datum.NUMBER_OF_HOUSES >= 4000)\"}, \"value\": \"steelblue\"}, \"text\": {\"type\": \"quantitative\", \"field\": \"NUMBER_OF_HOUSES\"}, \"x\": {\"type\": \"quantitative\", \"field\": \"NUMBER_OF_HOUSES\"}, \"y\": {\"type\": \"nominal\", \"field\": \"RESIDENTAL_AREA\"}}}], \"data\": {\"name\": \"data-87bf37a9a165921bcf288c78d7094fdb\"}, \"height\": 500, \"width\": 700, \"$schema\": \"https://vega.github.io/schema/vega-lite/v4.8.1.json\", \"datasets\": {\"data-87bf37a9a165921bcf288c78d7094fdb\": [{\"STATE\": \"Negeri Sembilan\", \"RESIDENTAL_AREA\": \"TAMAN WARISAN PUTERI\", \"DISTRICT\": \"Seremban\", \"NUMBER_OF_HOUSES\": 5479.0}, {\"STATE\": \"Negeri Sembilan\", \"RESIDENTAL_AREA\": \"TAMAN RASAH JAYA\", \"DISTRICT\": \"Seremban\", \"NUMBER_OF_HOUSES\": 4977.0}, {\"STATE\": \"Negeri Sembilan\", \"RESIDENTAL_AREA\": \"SEREMBAN 2  SEKSYEN G\", \"DISTRICT\": \"Seremban\", \"NUMBER_OF_HOUSES\": 4093.0}, {\"STATE\": \"Negeri Sembilan\", \"RESIDENTAL_AREA\": \"TAMAN TASIK JAYA\", \"DISTRICT\": \"Seremban\", \"NUMBER_OF_HOUSES\": 2689.0}, {\"STATE\": \"Negeri Sembilan\", \"RESIDENTAL_AREA\": \"Bandar Baru Spring Hill\", \"DISTRICT\": \"Port Dickson\", \"NUMBER_OF_HOUSES\": 2614.0}, {\"STATE\": \"Negeri Sembilan\", \"RESIDENTAL_AREA\": \"TAMAN BUKIT KEPAYANG\", \"DISTRICT\": \"Seremban\", \"NUMBER_OF_HOUSES\": 2477.0}, {\"STATE\": \"Negeri Sembilan\", \"RESIDENTAL_AREA\": \"TAMAN SRI MAMBAU\", \"DISTRICT\": \"Seremban\", \"NUMBER_OF_HOUSES\": 2467.0}, {\"STATE\": \"Negeri Sembilan\", \"RESIDENTAL_AREA\": \"SEREMBAN FOREST HEIGHT\", \"DISTRICT\": \"Seremban\", \"NUMBER_OF_HOUSES\": 2388.0}, {\"STATE\": \"Negeri Sembilan\", \"RESIDENTAL_AREA\": \"Taman Muhibbah\", \"DISTRICT\": \"Kuala Pilah\", \"NUMBER_OF_HOUSES\": 2223.0}, {\"STATE\": \"Negeri Sembilan\", \"RESIDENTAL_AREA\": \"TAMAN BUKIT FLORIDA\", \"DISTRICT\": \"Seremban\", \"NUMBER_OF_HOUSES\": 1950.0}]}}, {\"mode\": \"vega-lite\"});\n",
       "</script>"
      ],
      "text/plain": [
       "alt.LayerChart(...)"
      ]
     },
     "execution_count": 172,
     "metadata": {},
     "output_type": "execute_result"
    }
   ],
   "source": [
    "topOverall = residentalLocationAnalysis.sort_values(by=['NUMBER_OF_HOUSES'],ascending=False)\n",
    "topOverall = residentalLocationAnalysis.sort_values(by=['NUMBER_OF_HOUSES'],ascending=False)\n",
    "topOverall = topOverall.iloc[:10,:]\n",
    "\n",
    "\n",
    "bars = alt.Chart(topOverall).mark_bar().encode(\n",
    "    y='RESIDENTAL_AREA',\n",
    "    x='NUMBER_OF_HOUSES',\n",
    "    color=alt.condition(\n",
    "        alt.datum.NUMBER_OF_HOUSES >= 4000,  # If the year is 1810 this test returns True,\n",
    "        alt.value('green'),     # which sets the bar orange.\n",
    "        alt.value('steelblue')   # And if it's not true it sets the bar steelblue.\n",
    "    )\n",
    ")\n",
    "\n",
    "text = bars.mark_text( \n",
    "    align='left',\n",
    "    baseline='middle',\n",
    "    dx=5  \n",
    ").encode(\n",
    "    text='NUMBER_OF_HOUSES'\n",
    ")\n",
    "\n",
    "(bars + text).properties(height=500, width=700)"
   ]
  },
  {
   "cell_type": "markdown",
   "metadata": {},
   "source": [
    "#### Kelantan"
   ]
  },
  {
   "cell_type": "code",
   "execution_count": 173,
   "metadata": {},
   "outputs": [
    {
     "data": {
      "text/html": [
       "\n",
       "<div id=\"altair-viz-db9612ace94b4513a341bec53559df34\"></div>\n",
       "<script type=\"text/javascript\">\n",
       "  (function(spec, embedOpt){\n",
       "    let outputDiv = document.currentScript.previousElementSibling;\n",
       "    if (outputDiv.id !== \"altair-viz-db9612ace94b4513a341bec53559df34\") {\n",
       "      outputDiv = document.getElementById(\"altair-viz-db9612ace94b4513a341bec53559df34\");\n",
       "    }\n",
       "    const paths = {\n",
       "      \"vega\": \"https://cdn.jsdelivr.net/npm//vega@5?noext\",\n",
       "      \"vega-lib\": \"https://cdn.jsdelivr.net/npm//vega-lib?noext\",\n",
       "      \"vega-lite\": \"https://cdn.jsdelivr.net/npm//vega-lite@4.8.1?noext\",\n",
       "      \"vega-embed\": \"https://cdn.jsdelivr.net/npm//vega-embed@6?noext\",\n",
       "    };\n",
       "\n",
       "    function loadScript(lib) {\n",
       "      return new Promise(function(resolve, reject) {\n",
       "        var s = document.createElement('script');\n",
       "        s.src = paths[lib];\n",
       "        s.async = true;\n",
       "        s.onload = () => resolve(paths[lib]);\n",
       "        s.onerror = () => reject(`Error loading script: ${paths[lib]}`);\n",
       "        document.getElementsByTagName(\"head\")[0].appendChild(s);\n",
       "      });\n",
       "    }\n",
       "\n",
       "    function showError(err) {\n",
       "      outputDiv.innerHTML = `<div class=\"error\" style=\"color:red;\">${err}</div>`;\n",
       "      throw err;\n",
       "    }\n",
       "\n",
       "    function displayChart(vegaEmbed) {\n",
       "      vegaEmbed(outputDiv, spec, embedOpt)\n",
       "        .catch(err => showError(`Javascript Error: ${err.message}<br>This usually means there's a typo in your chart specification. See the javascript console for the full traceback.`));\n",
       "    }\n",
       "\n",
       "    if(typeof define === \"function\" && define.amd) {\n",
       "      requirejs.config({paths});\n",
       "      require([\"vega-embed\"], displayChart, err => showError(`Error loading script: ${err.message}`));\n",
       "    } else if (typeof vegaEmbed === \"function\") {\n",
       "      displayChart(vegaEmbed);\n",
       "    } else {\n",
       "      loadScript(\"vega\")\n",
       "        .then(() => loadScript(\"vega-lite\"))\n",
       "        .then(() => loadScript(\"vega-embed\"))\n",
       "        .catch(showError)\n",
       "        .then(() => displayChart(vegaEmbed));\n",
       "    }\n",
       "  })({\"config\": {\"view\": {\"continuousWidth\": 400, \"continuousHeight\": 300}}, \"layer\": [{\"mark\": \"bar\", \"encoding\": {\"color\": {\"condition\": {\"value\": \"green\", \"test\": \"(datum.NUMBER_OF_HOUSES >= 900)\"}, \"value\": \"steelblue\"}, \"x\": {\"type\": \"quantitative\", \"field\": \"NUMBER_OF_HOUSES\"}, \"y\": {\"type\": \"nominal\", \"field\": \"RESIDENTAL_AREA\"}}}, {\"mark\": {\"type\": \"text\", \"align\": \"left\", \"baseline\": \"middle\", \"dx\": 5}, \"encoding\": {\"color\": {\"condition\": {\"value\": \"green\", \"test\": \"(datum.NUMBER_OF_HOUSES >= 900)\"}, \"value\": \"steelblue\"}, \"text\": {\"type\": \"quantitative\", \"field\": \"NUMBER_OF_HOUSES\"}, \"x\": {\"type\": \"quantitative\", \"field\": \"NUMBER_OF_HOUSES\"}, \"y\": {\"type\": \"nominal\", \"field\": \"RESIDENTAL_AREA\"}}}], \"data\": {\"name\": \"data-6dfe92818be6a386003946cfcd5a834c\"}, \"height\": 500, \"width\": 700, \"$schema\": \"https://vega.github.io/schema/vega-lite/v4.8.1.json\", \"datasets\": {\"data-6dfe92818be6a386003946cfcd5a834c\": [{\"STATE\": \"Kelantan\", \"RESIDENTAL_AREA\": \"PPR Bandar Baru\", \"DISTRICT\": \"GUA MUSANG\", \"NUMBER_OF_HOUSES\": 1014.0}, {\"STATE\": \"Kelantan\", \"RESIDENTAL_AREA\": \"TAMAN SRI BAYU\", \"DISTRICT\": \"TUMPAT\", \"NUMBER_OF_HOUSES\": 905.0}, {\"STATE\": \"Kelantan\", \"RESIDENTAL_AREA\": \"TAMAN MERBAU UTAMA\", \"DISTRICT\": \"PASIR PUTEH\", \"NUMBER_OF_HOUSES\": 900.0}, {\"STATE\": \"Kelantan\", \"RESIDENTAL_AREA\": \"TAMAN DESA KEMUMIN\", \"DISTRICT\": \"KOTA BHARU\", \"NUMBER_OF_HOUSES\": 802.0}, {\"STATE\": \"Kelantan\", \"RESIDENTAL_AREA\": \"Bandar Utama fasa 2\", \"DISTRICT\": \"GUA MUSANG\", \"NUMBER_OF_HOUSES\": 745.0}, {\"STATE\": \"Kelantan\", \"RESIDENTAL_AREA\": \"TAMAN DESA KUJID\", \"DISTRICT\": \"KOTA BHARU\", \"NUMBER_OF_HOUSES\": 725.0}, {\"STATE\": \"Kelantan\", \"RESIDENTAL_AREA\": \"TAMAN SBJ PUTRA\", \"DISTRICT\": \"TUMPAT\", \"NUMBER_OF_HOUSES\": 688.0}, {\"STATE\": \"Kelantan\", \"RESIDENTAL_AREA\": \"TAMAN DESA DARUL NAIM\", \"DISTRICT\": \"KOTA BHARU\", \"NUMBER_OF_HOUSES\": 616.0}, {\"STATE\": \"Kelantan\", \"RESIDENTAL_AREA\": \"Bandar Utama fasa 1\", \"DISTRICT\": \"GUA MUSANG\", \"NUMBER_OF_HOUSES\": 518.0}, {\"STATE\": \"Kelantan\", \"RESIDENTAL_AREA\": \"TAMAN UDA MURNI\", \"DISTRICT\": \"KOTA BHARU\", \"NUMBER_OF_HOUSES\": 496.0}]}}, {\"mode\": \"vega-lite\"});\n",
       "</script>"
      ],
      "text/plain": [
       "alt.LayerChart(...)"
      ]
     },
     "execution_count": 173,
     "metadata": {},
     "output_type": "execute_result"
    }
   ],
   "source": [
    "topKelantan = residentalLocationAnalysis[residentalLocationAnalysis['STATE']=='Kelantan'].sort_values(by=['NUMBER_OF_HOUSES'],ascending=False)\n",
    "topKelantan = topKelantan.iloc[:10,:]\n",
    "\n",
    "bars = alt.Chart(topKelantan).mark_bar().encode(\n",
    "    y='RESIDENTAL_AREA',\n",
    "    x='NUMBER_OF_HOUSES',\n",
    "    color=alt.condition(\n",
    "        alt.datum.NUMBER_OF_HOUSES >= 900,  # If the year is 1810 this test returns True,\n",
    "        alt.value('green'),     # which sets the bar orange.\n",
    "        alt.value('steelblue')   # And if it's not true it sets the bar steelblue.\n",
    "    )\n",
    ")\n",
    "\n",
    "text = bars.mark_text( \n",
    "    align='left',\n",
    "    baseline='middle',\n",
    "    dx=5  \n",
    ").encode(\n",
    "    text='NUMBER_OF_HOUSES'\n",
    ")\n",
    "\n",
    "(bars + text).properties(height=500, width=700)"
   ]
  },
  {
   "cell_type": "markdown",
   "metadata": {},
   "source": [
    "#### Negeri Sembilan"
   ]
  },
  {
   "cell_type": "code",
   "execution_count": 174,
   "metadata": {},
   "outputs": [
    {
     "data": {
      "text/html": [
       "\n",
       "<div id=\"altair-viz-cbeafefb7444467e816ef1612eabe642\"></div>\n",
       "<script type=\"text/javascript\">\n",
       "  (function(spec, embedOpt){\n",
       "    let outputDiv = document.currentScript.previousElementSibling;\n",
       "    if (outputDiv.id !== \"altair-viz-cbeafefb7444467e816ef1612eabe642\") {\n",
       "      outputDiv = document.getElementById(\"altair-viz-cbeafefb7444467e816ef1612eabe642\");\n",
       "    }\n",
       "    const paths = {\n",
       "      \"vega\": \"https://cdn.jsdelivr.net/npm//vega@5?noext\",\n",
       "      \"vega-lib\": \"https://cdn.jsdelivr.net/npm//vega-lib?noext\",\n",
       "      \"vega-lite\": \"https://cdn.jsdelivr.net/npm//vega-lite@4.8.1?noext\",\n",
       "      \"vega-embed\": \"https://cdn.jsdelivr.net/npm//vega-embed@6?noext\",\n",
       "    };\n",
       "\n",
       "    function loadScript(lib) {\n",
       "      return new Promise(function(resolve, reject) {\n",
       "        var s = document.createElement('script');\n",
       "        s.src = paths[lib];\n",
       "        s.async = true;\n",
       "        s.onload = () => resolve(paths[lib]);\n",
       "        s.onerror = () => reject(`Error loading script: ${paths[lib]}`);\n",
       "        document.getElementsByTagName(\"head\")[0].appendChild(s);\n",
       "      });\n",
       "    }\n",
       "\n",
       "    function showError(err) {\n",
       "      outputDiv.innerHTML = `<div class=\"error\" style=\"color:red;\">${err}</div>`;\n",
       "      throw err;\n",
       "    }\n",
       "\n",
       "    function displayChart(vegaEmbed) {\n",
       "      vegaEmbed(outputDiv, spec, embedOpt)\n",
       "        .catch(err => showError(`Javascript Error: ${err.message}<br>This usually means there's a typo in your chart specification. See the javascript console for the full traceback.`));\n",
       "    }\n",
       "\n",
       "    if(typeof define === \"function\" && define.amd) {\n",
       "      requirejs.config({paths});\n",
       "      require([\"vega-embed\"], displayChart, err => showError(`Error loading script: ${err.message}`));\n",
       "    } else if (typeof vegaEmbed === \"function\") {\n",
       "      displayChart(vegaEmbed);\n",
       "    } else {\n",
       "      loadScript(\"vega\")\n",
       "        .then(() => loadScript(\"vega-lite\"))\n",
       "        .then(() => loadScript(\"vega-embed\"))\n",
       "        .catch(showError)\n",
       "        .then(() => displayChart(vegaEmbed));\n",
       "    }\n",
       "  })({\"config\": {\"view\": {\"continuousWidth\": 400, \"continuousHeight\": 300}}, \"layer\": [{\"mark\": \"bar\", \"encoding\": {\"color\": {\"condition\": {\"value\": \"green\", \"test\": \"(datum.NUMBER_OF_HOUSES >= 4000)\"}, \"value\": \"steelblue\"}, \"x\": {\"type\": \"quantitative\", \"field\": \"NUMBER_OF_HOUSES\"}, \"y\": {\"type\": \"nominal\", \"field\": \"RESIDENTAL_AREA\"}}}, {\"mark\": {\"type\": \"text\", \"align\": \"left\", \"baseline\": \"middle\", \"dx\": 5}, \"encoding\": {\"color\": {\"condition\": {\"value\": \"green\", \"test\": \"(datum.NUMBER_OF_HOUSES >= 4000)\"}, \"value\": \"steelblue\"}, \"text\": {\"type\": \"quantitative\", \"field\": \"NUMBER_OF_HOUSES\"}, \"x\": {\"type\": \"quantitative\", \"field\": \"NUMBER_OF_HOUSES\"}, \"y\": {\"type\": \"nominal\", \"field\": \"RESIDENTAL_AREA\"}}}], \"data\": {\"name\": \"data-87bf37a9a165921bcf288c78d7094fdb\"}, \"height\": 500, \"width\": 700, \"$schema\": \"https://vega.github.io/schema/vega-lite/v4.8.1.json\", \"datasets\": {\"data-87bf37a9a165921bcf288c78d7094fdb\": [{\"STATE\": \"Negeri Sembilan\", \"RESIDENTAL_AREA\": \"TAMAN WARISAN PUTERI\", \"DISTRICT\": \"Seremban\", \"NUMBER_OF_HOUSES\": 5479.0}, {\"STATE\": \"Negeri Sembilan\", \"RESIDENTAL_AREA\": \"TAMAN RASAH JAYA\", \"DISTRICT\": \"Seremban\", \"NUMBER_OF_HOUSES\": 4977.0}, {\"STATE\": \"Negeri Sembilan\", \"RESIDENTAL_AREA\": \"SEREMBAN 2  SEKSYEN G\", \"DISTRICT\": \"Seremban\", \"NUMBER_OF_HOUSES\": 4093.0}, {\"STATE\": \"Negeri Sembilan\", \"RESIDENTAL_AREA\": \"TAMAN TASIK JAYA\", \"DISTRICT\": \"Seremban\", \"NUMBER_OF_HOUSES\": 2689.0}, {\"STATE\": \"Negeri Sembilan\", \"RESIDENTAL_AREA\": \"Bandar Baru Spring Hill\", \"DISTRICT\": \"Port Dickson\", \"NUMBER_OF_HOUSES\": 2614.0}, {\"STATE\": \"Negeri Sembilan\", \"RESIDENTAL_AREA\": \"TAMAN BUKIT KEPAYANG\", \"DISTRICT\": \"Seremban\", \"NUMBER_OF_HOUSES\": 2477.0}, {\"STATE\": \"Negeri Sembilan\", \"RESIDENTAL_AREA\": \"TAMAN SRI MAMBAU\", \"DISTRICT\": \"Seremban\", \"NUMBER_OF_HOUSES\": 2467.0}, {\"STATE\": \"Negeri Sembilan\", \"RESIDENTAL_AREA\": \"SEREMBAN FOREST HEIGHT\", \"DISTRICT\": \"Seremban\", \"NUMBER_OF_HOUSES\": 2388.0}, {\"STATE\": \"Negeri Sembilan\", \"RESIDENTAL_AREA\": \"Taman Muhibbah\", \"DISTRICT\": \"Kuala Pilah\", \"NUMBER_OF_HOUSES\": 2223.0}, {\"STATE\": \"Negeri Sembilan\", \"RESIDENTAL_AREA\": \"TAMAN BUKIT FLORIDA\", \"DISTRICT\": \"Seremban\", \"NUMBER_OF_HOUSES\": 1950.0}]}}, {\"mode\": \"vega-lite\"});\n",
       "</script>"
      ],
      "text/plain": [
       "alt.LayerChart(...)"
      ]
     },
     "execution_count": 174,
     "metadata": {},
     "output_type": "execute_result"
    }
   ],
   "source": [
    "topN9 = residentalLocationAnalysis[residentalLocationAnalysis['STATE']=='Negeri Sembilan'].sort_values(by=['NUMBER_OF_HOUSES'],ascending=False)\n",
    "topN9 = topN9.iloc[:10,:]\n",
    "\n",
    "bars = alt.Chart(topN9).mark_bar().encode(\n",
    "    y='RESIDENTAL_AREA',\n",
    "    x='NUMBER_OF_HOUSES',\n",
    "    color=alt.condition(\n",
    "        alt.datum.NUMBER_OF_HOUSES >= 4000,  # If the year is 1810 this test returns True,\n",
    "        alt.value('green'),     # which sets the bar orange.\n",
    "        alt.value('steelblue')   # And if it's not true it sets the bar steelblue.\n",
    "    )\n",
    ")\n",
    "\n",
    "text = bars.mark_text( \n",
    "    align='left',\n",
    "    baseline='middle',\n",
    "    dx=5  \n",
    ").encode(\n",
    "    text='NUMBER_OF_HOUSES'\n",
    ")\n",
    "\n",
    "(bars + text).properties(height=500, width=700)"
   ]
  },
  {
   "cell_type": "markdown",
   "metadata": {},
   "source": [
    "#### Pahang"
   ]
  },
  {
   "cell_type": "code",
   "execution_count": 175,
   "metadata": {},
   "outputs": [
    {
     "data": {
      "text/html": [
       "\n",
       "<div id=\"altair-viz-7935f146828742c7b38a6341fef22738\"></div>\n",
       "<script type=\"text/javascript\">\n",
       "  (function(spec, embedOpt){\n",
       "    let outputDiv = document.currentScript.previousElementSibling;\n",
       "    if (outputDiv.id !== \"altair-viz-7935f146828742c7b38a6341fef22738\") {\n",
       "      outputDiv = document.getElementById(\"altair-viz-7935f146828742c7b38a6341fef22738\");\n",
       "    }\n",
       "    const paths = {\n",
       "      \"vega\": \"https://cdn.jsdelivr.net/npm//vega@5?noext\",\n",
       "      \"vega-lib\": \"https://cdn.jsdelivr.net/npm//vega-lib?noext\",\n",
       "      \"vega-lite\": \"https://cdn.jsdelivr.net/npm//vega-lite@4.8.1?noext\",\n",
       "      \"vega-embed\": \"https://cdn.jsdelivr.net/npm//vega-embed@6?noext\",\n",
       "    };\n",
       "\n",
       "    function loadScript(lib) {\n",
       "      return new Promise(function(resolve, reject) {\n",
       "        var s = document.createElement('script');\n",
       "        s.src = paths[lib];\n",
       "        s.async = true;\n",
       "        s.onload = () => resolve(paths[lib]);\n",
       "        s.onerror = () => reject(`Error loading script: ${paths[lib]}`);\n",
       "        document.getElementsByTagName(\"head\")[0].appendChild(s);\n",
       "      });\n",
       "    }\n",
       "\n",
       "    function showError(err) {\n",
       "      outputDiv.innerHTML = `<div class=\"error\" style=\"color:red;\">${err}</div>`;\n",
       "      throw err;\n",
       "    }\n",
       "\n",
       "    function displayChart(vegaEmbed) {\n",
       "      vegaEmbed(outputDiv, spec, embedOpt)\n",
       "        .catch(err => showError(`Javascript Error: ${err.message}<br>This usually means there's a typo in your chart specification. See the javascript console for the full traceback.`));\n",
       "    }\n",
       "\n",
       "    if(typeof define === \"function\" && define.amd) {\n",
       "      requirejs.config({paths});\n",
       "      require([\"vega-embed\"], displayChart, err => showError(`Error loading script: ${err.message}`));\n",
       "    } else if (typeof vegaEmbed === \"function\") {\n",
       "      displayChart(vegaEmbed);\n",
       "    } else {\n",
       "      loadScript(\"vega\")\n",
       "        .then(() => loadScript(\"vega-lite\"))\n",
       "        .then(() => loadScript(\"vega-embed\"))\n",
       "        .catch(showError)\n",
       "        .then(() => displayChart(vegaEmbed));\n",
       "    }\n",
       "  })({\"config\": {\"view\": {\"continuousWidth\": 400, \"continuousHeight\": 300}}, \"layer\": [{\"mark\": \"bar\", \"encoding\": {\"color\": {\"condition\": {\"value\": \"green\", \"test\": \"(datum.NUMBER_OF_HOUSES >= 400)\"}, \"value\": \"steelblue\"}, \"x\": {\"type\": \"quantitative\", \"field\": \"NUMBER_OF_HOUSES\"}, \"y\": {\"type\": \"nominal\", \"field\": \"RESIDENTAL_AREA\"}}}, {\"mark\": {\"type\": \"text\", \"align\": \"left\", \"baseline\": \"middle\", \"dx\": 5}, \"encoding\": {\"color\": {\"condition\": {\"value\": \"green\", \"test\": \"(datum.NUMBER_OF_HOUSES >= 400)\"}, \"value\": \"steelblue\"}, \"text\": {\"type\": \"quantitative\", \"field\": \"NUMBER_OF_HOUSES\"}, \"x\": {\"type\": \"quantitative\", \"field\": \"NUMBER_OF_HOUSES\"}, \"y\": {\"type\": \"nominal\", \"field\": \"RESIDENTAL_AREA\"}}}], \"data\": {\"name\": \"data-d396d6377b47f777855ae8ff0127ca46\"}, \"height\": 500, \"width\": 700, \"$schema\": \"https://vega.github.io/schema/vega-lite/v4.8.1.json\", \"datasets\": {\"data-d396d6377b47f777855ae8ff0127ca46\": [{\"STATE\": \"Pahang\", \"RESIDENTAL_AREA\": \"Taman Jengka Indah\", \"DISTRICT\": \"BANDAR JENGKA\", \"NUMBER_OF_HOUSES\": 1384.0}, {\"STATE\": \"Pahang\", \"RESIDENTAL_AREA\": \"Rantau Perintis\", \"DISTRICT\": \"BANDAR JENGKA\", \"NUMBER_OF_HOUSES\": 774.0}, {\"STATE\": \"Pahang\", \"RESIDENTAL_AREA\": \"Taman Jengka Mahkota\", \"DISTRICT\": \"BANDAR JENGKA\", \"NUMBER_OF_HOUSES\": 407.0}, {\"STATE\": \"Pahang\", \"RESIDENTAL_AREA\": \"Taman Permatang Shahbandar 2\", \"DISTRICT\": \"BANDAR JENGKA\", \"NUMBER_OF_HOUSES\": 363.0}, {\"STATE\": \"Pahang\", \"RESIDENTAL_AREA\": \"Taman Jengka Impian\", \"DISTRICT\": \"BANDAR JENGKA\", \"NUMBER_OF_HOUSES\": 300.0}, {\"STATE\": \"Pahang\", \"RESIDENTAL_AREA\": \"Taman Maran Jaya\", \"DISTRICT\": \"MARAN\", \"NUMBER_OF_HOUSES\": 298.0}, {\"STATE\": \"Pahang\", \"RESIDENTAL_AREA\": \"Lamanda Jengka Siantan\", \"DISTRICT\": \"PEKAN AWAH\", \"NUMBER_OF_HOUSES\": 264.0}, {\"STATE\": \"Pahang\", \"RESIDENTAL_AREA\": \"Taman Desa Jaya 2\", \"DISTRICT\": \"BANDAR JENGKA\", \"NUMBER_OF_HOUSES\": 255.0}, {\"STATE\": \"Pahang\", \"RESIDENTAL_AREA\": \"Taman Desa Jaya 1\", \"DISTRICT\": \"BANDAR JENGKA\", \"NUMBER_OF_HOUSES\": 231.0}, {\"STATE\": \"Pahang\", \"RESIDENTAL_AREA\": \"Taman Sri Keramat\", \"DISTRICT\": \"MARAN\", \"NUMBER_OF_HOUSES\": 184.0}]}}, {\"mode\": \"vega-lite\"});\n",
       "</script>"
      ],
      "text/plain": [
       "alt.LayerChart(...)"
      ]
     },
     "execution_count": 175,
     "metadata": {},
     "output_type": "execute_result"
    }
   ],
   "source": [
    "topPahang = residentalLocationAnalysis[residentalLocationAnalysis['STATE']=='Pahang'].sort_values(by=['NUMBER_OF_HOUSES'],ascending=False)\n",
    "topPahang = topPahang.iloc[:10,:]\n",
    "\n",
    "bars = alt.Chart(topPahang).mark_bar().encode(\n",
    "    y='RESIDENTAL_AREA',\n",
    "    x='NUMBER_OF_HOUSES',\n",
    "    color=alt.condition(\n",
    "        alt.datum.NUMBER_OF_HOUSES >= 400,  # If the year is 1810 this test returns True,\n",
    "        alt.value('green'),     # which sets the bar orange.\n",
    "        alt.value('steelblue')   # And if it's not true it sets the bar steelblue.\n",
    "    )\n",
    ")\n",
    "\n",
    "text = bars.mark_text( \n",
    "    align='left',\n",
    "    baseline='middle',\n",
    "    dx=5  \n",
    ").encode(\n",
    "    text='NUMBER_OF_HOUSES'\n",
    ")\n",
    "\n",
    "(bars + text).properties(height=500, width=700)"
   ]
  },
  {
   "cell_type": "markdown",
   "metadata": {},
   "source": [
    "#### Perak\n"
   ]
  },
  {
   "cell_type": "code",
   "execution_count": 176,
   "metadata": {},
   "outputs": [
    {
     "data": {
      "text/html": [
       "\n",
       "<div id=\"altair-viz-dcbb783bbc1b4bb4a5c625f69f3c6dce\"></div>\n",
       "<script type=\"text/javascript\">\n",
       "  (function(spec, embedOpt){\n",
       "    let outputDiv = document.currentScript.previousElementSibling;\n",
       "    if (outputDiv.id !== \"altair-viz-dcbb783bbc1b4bb4a5c625f69f3c6dce\") {\n",
       "      outputDiv = document.getElementById(\"altair-viz-dcbb783bbc1b4bb4a5c625f69f3c6dce\");\n",
       "    }\n",
       "    const paths = {\n",
       "      \"vega\": \"https://cdn.jsdelivr.net/npm//vega@5?noext\",\n",
       "      \"vega-lib\": \"https://cdn.jsdelivr.net/npm//vega-lib?noext\",\n",
       "      \"vega-lite\": \"https://cdn.jsdelivr.net/npm//vega-lite@4.8.1?noext\",\n",
       "      \"vega-embed\": \"https://cdn.jsdelivr.net/npm//vega-embed@6?noext\",\n",
       "    };\n",
       "\n",
       "    function loadScript(lib) {\n",
       "      return new Promise(function(resolve, reject) {\n",
       "        var s = document.createElement('script');\n",
       "        s.src = paths[lib];\n",
       "        s.async = true;\n",
       "        s.onload = () => resolve(paths[lib]);\n",
       "        s.onerror = () => reject(`Error loading script: ${paths[lib]}`);\n",
       "        document.getElementsByTagName(\"head\")[0].appendChild(s);\n",
       "      });\n",
       "    }\n",
       "\n",
       "    function showError(err) {\n",
       "      outputDiv.innerHTML = `<div class=\"error\" style=\"color:red;\">${err}</div>`;\n",
       "      throw err;\n",
       "    }\n",
       "\n",
       "    function displayChart(vegaEmbed) {\n",
       "      vegaEmbed(outputDiv, spec, embedOpt)\n",
       "        .catch(err => showError(`Javascript Error: ${err.message}<br>This usually means there's a typo in your chart specification. See the javascript console for the full traceback.`));\n",
       "    }\n",
       "\n",
       "    if(typeof define === \"function\" && define.amd) {\n",
       "      requirejs.config({paths});\n",
       "      require([\"vega-embed\"], displayChart, err => showError(`Error loading script: ${err.message}`));\n",
       "    } else if (typeof vegaEmbed === \"function\") {\n",
       "      displayChart(vegaEmbed);\n",
       "    } else {\n",
       "      loadScript(\"vega\")\n",
       "        .then(() => loadScript(\"vega-lite\"))\n",
       "        .then(() => loadScript(\"vega-embed\"))\n",
       "        .catch(showError)\n",
       "        .then(() => displayChart(vegaEmbed));\n",
       "    }\n",
       "  })({\"config\": {\"view\": {\"continuousWidth\": 400, \"continuousHeight\": 300}}, \"layer\": [{\"mark\": \"bar\", \"encoding\": {\"color\": {\"condition\": {\"value\": \"green\", \"test\": \"(datum.NUMBER_OF_HOUSES >= 100)\"}, \"value\": \"steelblue\"}, \"x\": {\"type\": \"quantitative\", \"field\": \"NUMBER_OF_HOUSES\"}, \"y\": {\"type\": \"nominal\", \"field\": \"RESIDENTAL_AREA\"}}}, {\"mark\": {\"type\": \"text\", \"align\": \"left\", \"baseline\": \"middle\", \"dx\": 5}, \"encoding\": {\"color\": {\"condition\": {\"value\": \"green\", \"test\": \"(datum.NUMBER_OF_HOUSES >= 100)\"}, \"value\": \"steelblue\"}, \"text\": {\"type\": \"quantitative\", \"field\": \"NUMBER_OF_HOUSES\"}, \"x\": {\"type\": \"quantitative\", \"field\": \"NUMBER_OF_HOUSES\"}, \"y\": {\"type\": \"nominal\", \"field\": \"RESIDENTAL_AREA\"}}}], \"data\": {\"name\": \"data-4535f7c59d5cae0bd12588e2f5f91551\"}, \"height\": 500, \"width\": 700, \"$schema\": \"https://vega.github.io/schema/vega-lite/v4.8.1.json\", \"datasets\": {\"data-4535f7c59d5cae0bd12588e2f5f91551\": [{\"STATE\": \"Perak\", \"RESIDENTAL_AREA\": \"Taman Sri Kroh\", \"DISTRICT\": \"Pengkalan Hulu\", \"NUMBER_OF_HOUSES\": 128.0}, {\"STATE\": \"Perak\", \"RESIDENTAL_AREA\": \"Taman Tasek Permai\", \"DISTRICT\": \"Pengkalan Hulu\", \"NUMBER_OF_HOUSES\": 111.0}, {\"STATE\": \"Perak\", \"RESIDENTAL_AREA\": \"Taman Seroja\", \"DISTRICT\": \"Pengkalan Hulu\", \"NUMBER_OF_HOUSES\": 109.0}, {\"STATE\": \"Perak\", \"RESIDENTAL_AREA\": \"Taman Aman (RPA 3)\", \"DISTRICT\": \"Pengkalan Hulu\", \"NUMBER_OF_HOUSES\": 96.0}, {\"STATE\": \"Perak\", \"RESIDENTAL_AREA\": \"Taman Bukit Riah\", \"DISTRICT\": \"Pengkalan Hulu\", \"NUMBER_OF_HOUSES\": 95.0}, {\"STATE\": \"Perak\", \"RESIDENTAL_AREA\": \"Taman Meranti\", \"DISTRICT\": \"Pengkalan Hulu\", \"NUMBER_OF_HOUSES\": 85.0}, {\"STATE\": \"Perak\", \"RESIDENTAL_AREA\": \"Taman Dahlia Permai\", \"DISTRICT\": \"Pengkalan Hulu\", \"NUMBER_OF_HOUSES\": 69.0}, {\"STATE\": \"Perak\", \"RESIDENTAL_AREA\": \"Taman Sri Bayas\", \"DISTRICT\": \"Pengkalan Hulu\", \"NUMBER_OF_HOUSES\": 66.0}, {\"STATE\": \"Perak\", \"RESIDENTAL_AREA\": \"Taman Desa Cempaka\", \"DISTRICT\": \"Pengkalan Hulu\", \"NUMBER_OF_HOUSES\": 62.0}, {\"STATE\": \"Perak\", \"RESIDENTAL_AREA\": \"RPA Klian Intan 2\", \"DISTRICT\": \"Pengkalan Hulu\", \"NUMBER_OF_HOUSES\": 53.0}]}}, {\"mode\": \"vega-lite\"});\n",
       "</script>"
      ],
      "text/plain": [
       "alt.LayerChart(...)"
      ]
     },
     "execution_count": 176,
     "metadata": {},
     "output_type": "execute_result"
    }
   ],
   "source": [
    "topPerak = residentalLocationAnalysis[residentalLocationAnalysis['STATE']=='Perak'].sort_values(by=['NUMBER_OF_HOUSES'],ascending=False)\n",
    "topPerak = topPerak.iloc[:10,:]\n",
    "\n",
    "bars = alt.Chart(topPerak).mark_bar().encode(\n",
    "    y='RESIDENTAL_AREA',\n",
    "    x='NUMBER_OF_HOUSES',\n",
    "    color=alt.condition(\n",
    "        alt.datum.NUMBER_OF_HOUSES >= 100,  # If the year is 1810 this test returns True,\n",
    "        alt.value('green'),     # which sets the bar orange.\n",
    "        alt.value('steelblue')   # And if it's not true it sets the bar steelblue.\n",
    "    )\n",
    ")\n",
    "\n",
    "text = bars.mark_text( \n",
    "    align='left',\n",
    "    baseline='middle',\n",
    "    dx=5  \n",
    ").encode(\n",
    "    text='NUMBER_OF_HOUSES'\n",
    ")\n",
    "\n",
    "(bars + text).properties(height=500, width=700)"
   ]
  },
  {
   "cell_type": "markdown",
   "metadata": {},
   "source": [
    "### 8. What is the customer body size for the dryer and washing machine?"
   ]
  },
  {
   "cell_type": "code",
   "execution_count": 177,
   "metadata": {},
   "outputs": [
    {
     "data": {
      "text/html": [
       "<div>\n",
       "<style scoped>\n",
       "    .dataframe tbody tr th:only-of-type {\n",
       "        vertical-align: middle;\n",
       "    }\n",
       "\n",
       "    .dataframe tbody tr th {\n",
       "        vertical-align: top;\n",
       "    }\n",
       "\n",
       "    .dataframe thead th {\n",
       "        text-align: right;\n",
       "    }\n",
       "</style>\n",
       "<table border=\"1\" class=\"dataframe\">\n",
       "  <thead>\n",
       "    <tr style=\"text-align: right;\">\n",
       "      <th></th>\n",
       "      <th>Dryer</th>\n",
       "      <th>Washer</th>\n",
       "    </tr>\n",
       "  </thead>\n",
       "  <tbody>\n",
       "    <tr>\n",
       "      <th>0</th>\n",
       "      <td>DRYER 10</td>\n",
       "      <td>WASHER 6</td>\n",
       "    </tr>\n",
       "    <tr>\n",
       "      <th>1</th>\n",
       "      <td>WASHER 3</td>\n",
       "      <td>DRYER 7</td>\n",
       "    </tr>\n",
       "    <tr>\n",
       "      <th>2</th>\n",
       "      <td>WASHER 4</td>\n",
       "      <td>DRYER 8</td>\n",
       "    </tr>\n",
       "    <tr>\n",
       "      <th>3</th>\n",
       "      <td>DRYER 9</td>\n",
       "      <td>WASHER 5</td>\n",
       "    </tr>\n",
       "  </tbody>\n",
       "</table>\n",
       "</div>"
      ],
      "text/plain": [
       "      Dryer    Washer\n",
       "0  DRYER 10  WASHER 6\n",
       "1  WASHER 3   DRYER 7\n",
       "2  WASHER 4   DRYER 8\n",
       "3   DRYER 9  WASHER 5"
      ]
     },
     "execution_count": 177,
     "metadata": {},
     "output_type": "execute_result"
    }
   ],
   "source": [
    "dryerWasherPair = pd.DataFrame(\n",
    "    {'Dryer': dryer,\n",
    "     'Washer': washer})\n",
    "dryerWasherPair"
   ]
  },
  {
   "cell_type": "code",
   "execution_count": 178,
   "metadata": {},
   "outputs": [],
   "source": [
    "customerSize = laundry[['BODY_SIZE', 'DRYER_NO', 'WASHER_NO']]\n",
    "rule1 = customerSize[(customerSize['DRYER_NO'] == 10) & (customerSize['WASHER_NO'] == 6)]\n",
    "rule1['RULE'] = '1'\n",
    "\n",
    "rule2 = customerSize[(customerSize['DRYER_NO'] == 7) & (customerSize['WASHER_NO'] == 3)]\n",
    "rule2['RULE'] = '2'\n",
    "\n",
    "rule3 = customerSize[(customerSize['DRYER_NO'] == 8) & (customerSize['WASHER_NO'] == 4)]\n",
    "rule3['RULE'] = '3'\n",
    "\n",
    "rule4 = customerSize[(customerSize['DRYER_NO'] == 9) & (customerSize['WASHER_NO'] == 4)]\n",
    "rule4['RULE'] = '4'"
   ]
  },
  {
   "cell_type": "code",
   "execution_count": 179,
   "metadata": {},
   "outputs": [
    {
     "data": {
      "text/html": [
       "<div>\n",
       "<style scoped>\n",
       "    .dataframe tbody tr th:only-of-type {\n",
       "        vertical-align: middle;\n",
       "    }\n",
       "\n",
       "    .dataframe tbody tr th {\n",
       "        vertical-align: top;\n",
       "    }\n",
       "\n",
       "    .dataframe thead th {\n",
       "        text-align: right;\n",
       "    }\n",
       "</style>\n",
       "<table border=\"1\" class=\"dataframe\">\n",
       "  <thead>\n",
       "    <tr style=\"text-align: right;\">\n",
       "      <th></th>\n",
       "      <th>BODY_SIZE</th>\n",
       "      <th>RULE</th>\n",
       "      <th>FREQUENCY</th>\n",
       "    </tr>\n",
       "  </thead>\n",
       "  <tbody>\n",
       "    <tr>\n",
       "      <th>0</th>\n",
       "      <td>fat</td>\n",
       "      <td>1</td>\n",
       "      <td>17</td>\n",
       "    </tr>\n",
       "    <tr>\n",
       "      <th>1</th>\n",
       "      <td>fat</td>\n",
       "      <td>2</td>\n",
       "      <td>28</td>\n",
       "    </tr>\n",
       "    <tr>\n",
       "      <th>2</th>\n",
       "      <td>fat</td>\n",
       "      <td>3</td>\n",
       "      <td>13</td>\n",
       "    </tr>\n",
       "    <tr>\n",
       "      <th>3</th>\n",
       "      <td>fat</td>\n",
       "      <td>4</td>\n",
       "      <td>6</td>\n",
       "    </tr>\n",
       "    <tr>\n",
       "      <th>4</th>\n",
       "      <td>moderate</td>\n",
       "      <td>1</td>\n",
       "      <td>23</td>\n",
       "    </tr>\n",
       "    <tr>\n",
       "      <th>5</th>\n",
       "      <td>moderate</td>\n",
       "      <td>2</td>\n",
       "      <td>31</td>\n",
       "    </tr>\n",
       "    <tr>\n",
       "      <th>6</th>\n",
       "      <td>moderate</td>\n",
       "      <td>3</td>\n",
       "      <td>16</td>\n",
       "    </tr>\n",
       "    <tr>\n",
       "      <th>7</th>\n",
       "      <td>moderate</td>\n",
       "      <td>4</td>\n",
       "      <td>9</td>\n",
       "    </tr>\n",
       "    <tr>\n",
       "      <th>8</th>\n",
       "      <td>thin</td>\n",
       "      <td>1</td>\n",
       "      <td>17</td>\n",
       "    </tr>\n",
       "    <tr>\n",
       "      <th>9</th>\n",
       "      <td>thin</td>\n",
       "      <td>2</td>\n",
       "      <td>13</td>\n",
       "    </tr>\n",
       "    <tr>\n",
       "      <th>10</th>\n",
       "      <td>thin</td>\n",
       "      <td>3</td>\n",
       "      <td>17</td>\n",
       "    </tr>\n",
       "    <tr>\n",
       "      <th>11</th>\n",
       "      <td>thin</td>\n",
       "      <td>4</td>\n",
       "      <td>9</td>\n",
       "    </tr>\n",
       "  </tbody>\n",
       "</table>\n",
       "</div>"
      ],
      "text/plain": [
       "   BODY_SIZE RULE  FREQUENCY\n",
       "0        fat    1         17\n",
       "1        fat    2         28\n",
       "2        fat    3         13\n",
       "3        fat    4          6\n",
       "4   moderate    1         23\n",
       "5   moderate    2         31\n",
       "6   moderate    3         16\n",
       "7   moderate    4          9\n",
       "8       thin    1         17\n",
       "9       thin    2         13\n",
       "10      thin    3         17\n",
       "11      thin    4          9"
      ]
     },
     "execution_count": 179,
     "metadata": {},
     "output_type": "execute_result"
    }
   ],
   "source": [
    "merged_df = pd.concat([rule1, rule2, rule3, rule4]).reset_index(drop=True)\n",
    "\n",
    "bodySize = merged_df.groupby(['BODY_SIZE', 'RULE']).size().reset_index()\n",
    "bodySize = bodySize.rename(columns={0:'FREQUENCY'})\n",
    "\n",
    "bodySize"
   ]
  },
  {
   "cell_type": "code",
   "execution_count": 180,
   "metadata": {},
   "outputs": [
    {
     "data": {
      "text/html": [
       "\n",
       "<div id=\"altair-viz-d07f0b8afc864bcd9c920822bd168490\"></div>\n",
       "<script type=\"text/javascript\">\n",
       "  (function(spec, embedOpt){\n",
       "    let outputDiv = document.currentScript.previousElementSibling;\n",
       "    if (outputDiv.id !== \"altair-viz-d07f0b8afc864bcd9c920822bd168490\") {\n",
       "      outputDiv = document.getElementById(\"altair-viz-d07f0b8afc864bcd9c920822bd168490\");\n",
       "    }\n",
       "    const paths = {\n",
       "      \"vega\": \"https://cdn.jsdelivr.net/npm//vega@5?noext\",\n",
       "      \"vega-lib\": \"https://cdn.jsdelivr.net/npm//vega-lib?noext\",\n",
       "      \"vega-lite\": \"https://cdn.jsdelivr.net/npm//vega-lite@4.8.1?noext\",\n",
       "      \"vega-embed\": \"https://cdn.jsdelivr.net/npm//vega-embed@6?noext\",\n",
       "    };\n",
       "\n",
       "    function loadScript(lib) {\n",
       "      return new Promise(function(resolve, reject) {\n",
       "        var s = document.createElement('script');\n",
       "        s.src = paths[lib];\n",
       "        s.async = true;\n",
       "        s.onload = () => resolve(paths[lib]);\n",
       "        s.onerror = () => reject(`Error loading script: ${paths[lib]}`);\n",
       "        document.getElementsByTagName(\"head\")[0].appendChild(s);\n",
       "      });\n",
       "    }\n",
       "\n",
       "    function showError(err) {\n",
       "      outputDiv.innerHTML = `<div class=\"error\" style=\"color:red;\">${err}</div>`;\n",
       "      throw err;\n",
       "    }\n",
       "\n",
       "    function displayChart(vegaEmbed) {\n",
       "      vegaEmbed(outputDiv, spec, embedOpt)\n",
       "        .catch(err => showError(`Javascript Error: ${err.message}<br>This usually means there's a typo in your chart specification. See the javascript console for the full traceback.`));\n",
       "    }\n",
       "\n",
       "    if(typeof define === \"function\" && define.amd) {\n",
       "      requirejs.config({paths});\n",
       "      require([\"vega-embed\"], displayChart, err => showError(`Error loading script: ${err.message}`));\n",
       "    } else if (typeof vegaEmbed === \"function\") {\n",
       "      displayChart(vegaEmbed);\n",
       "    } else {\n",
       "      loadScript(\"vega\")\n",
       "        .then(() => loadScript(\"vega-lite\"))\n",
       "        .then(() => loadScript(\"vega-embed\"))\n",
       "        .catch(showError)\n",
       "        .then(() => displayChart(vegaEmbed));\n",
       "    }\n",
       "  })({\"config\": {\"view\": {\"continuousWidth\": 400, \"continuousHeight\": 300}}, \"data\": {\"name\": \"data-7206d94ecc1ecfb96cd95a040e5c804c\"}, \"mark\": \"bar\", \"encoding\": {\"color\": {\"type\": \"nominal\", \"field\": \"BODY_SIZE\"}, \"column\": {\"type\": \"nominal\", \"field\": \"RULE\"}, \"x\": {\"type\": \"ordinal\", \"field\": \"BODY_SIZE\"}, \"y\": {\"type\": \"quantitative\", \"field\": \"FREQUENCY\"}}, \"$schema\": \"https://vega.github.io/schema/vega-lite/v4.8.1.json\", \"datasets\": {\"data-7206d94ecc1ecfb96cd95a040e5c804c\": [{\"BODY_SIZE\": \"fat\", \"RULE\": \"1\", \"FREQUENCY\": 17}, {\"BODY_SIZE\": \"fat\", \"RULE\": \"2\", \"FREQUENCY\": 28}, {\"BODY_SIZE\": \"fat\", \"RULE\": \"3\", \"FREQUENCY\": 13}, {\"BODY_SIZE\": \"fat\", \"RULE\": \"4\", \"FREQUENCY\": 6}, {\"BODY_SIZE\": \"moderate\", \"RULE\": \"1\", \"FREQUENCY\": 23}, {\"BODY_SIZE\": \"moderate\", \"RULE\": \"2\", \"FREQUENCY\": 31}, {\"BODY_SIZE\": \"moderate\", \"RULE\": \"3\", \"FREQUENCY\": 16}, {\"BODY_SIZE\": \"moderate\", \"RULE\": \"4\", \"FREQUENCY\": 9}, {\"BODY_SIZE\": \"thin\", \"RULE\": \"1\", \"FREQUENCY\": 17}, {\"BODY_SIZE\": \"thin\", \"RULE\": \"2\", \"FREQUENCY\": 13}, {\"BODY_SIZE\": \"thin\", \"RULE\": \"3\", \"FREQUENCY\": 17}, {\"BODY_SIZE\": \"thin\", \"RULE\": \"4\", \"FREQUENCY\": 9}]}}, {\"mode\": \"vega-lite\"});\n",
       "</script>"
      ],
      "text/plain": [
       "alt.Chart(...)"
      ]
     },
     "execution_count": 180,
     "metadata": {},
     "output_type": "execute_result"
    }
   ],
   "source": [
    "alt.Chart(bodySize).mark_bar().encode(\n",
    "    x='BODY_SIZE:O',\n",
    "    y='FREQUENCY:Q',\n",
    "    color='BODY_SIZE:N',\n",
    "    column='RULE:N'\n",
    ")"
   ]
  },
  {
   "cell_type": "markdown",
   "metadata": {},
   "source": [
    "### 9. Do female customers often come with kids ? "
   ]
  },
  {
   "cell_type": "code",
   "execution_count": 181,
   "metadata": {},
   "outputs": [
    {
     "data": {
      "text/html": [
       "<div>\n",
       "<style scoped>\n",
       "    .dataframe tbody tr th:only-of-type {\n",
       "        vertical-align: middle;\n",
       "    }\n",
       "\n",
       "    .dataframe tbody tr th {\n",
       "        vertical-align: top;\n",
       "    }\n",
       "\n",
       "    .dataframe thead th {\n",
       "        text-align: right;\n",
       "    }\n",
       "</style>\n",
       "<table border=\"1\" class=\"dataframe\">\n",
       "  <thead>\n",
       "    <tr style=\"text-align: right;\">\n",
       "      <th></th>\n",
       "      <th>WITH_KIDS</th>\n",
       "      <th>FREQUENCY</th>\n",
       "    </tr>\n",
       "  </thead>\n",
       "  <tbody>\n",
       "    <tr>\n",
       "      <th>0</th>\n",
       "      <td>no</td>\n",
       "      <td>225</td>\n",
       "    </tr>\n",
       "    <tr>\n",
       "      <th>1</th>\n",
       "      <td>yes</td>\n",
       "      <td>96</td>\n",
       "    </tr>\n",
       "  </tbody>\n",
       "</table>\n",
       "</div>"
      ],
      "text/plain": [
       "  WITH_KIDS  FREQUENCY\n",
       "0        no        225\n",
       "1       yes         96"
      ]
     },
     "execution_count": 181,
     "metadata": {},
     "output_type": "execute_result"
    }
   ],
   "source": [
    "femaleWithKids = laundry[laundry['GENDER'] == 'female'] \n",
    "\n",
    "femaleWithKids = femaleWithKids.groupby(['WITH_KIDS']).size().reset_index()\n",
    "femaleWithKids = femaleWithKids.rename(columns={0:'FREQUENCY'})\n",
    "femaleWithKids"
   ]
  },
  {
   "cell_type": "code",
   "execution_count": 182,
   "metadata": {},
   "outputs": [
    {
     "data": {
      "text/html": [
       "\n",
       "<div id=\"altair-viz-daeeb94e9c034264b1c0281b6b3db424\"></div>\n",
       "<script type=\"text/javascript\">\n",
       "  (function(spec, embedOpt){\n",
       "    let outputDiv = document.currentScript.previousElementSibling;\n",
       "    if (outputDiv.id !== \"altair-viz-daeeb94e9c034264b1c0281b6b3db424\") {\n",
       "      outputDiv = document.getElementById(\"altair-viz-daeeb94e9c034264b1c0281b6b3db424\");\n",
       "    }\n",
       "    const paths = {\n",
       "      \"vega\": \"https://cdn.jsdelivr.net/npm//vega@5?noext\",\n",
       "      \"vega-lib\": \"https://cdn.jsdelivr.net/npm//vega-lib?noext\",\n",
       "      \"vega-lite\": \"https://cdn.jsdelivr.net/npm//vega-lite@4.8.1?noext\",\n",
       "      \"vega-embed\": \"https://cdn.jsdelivr.net/npm//vega-embed@6?noext\",\n",
       "    };\n",
       "\n",
       "    function loadScript(lib) {\n",
       "      return new Promise(function(resolve, reject) {\n",
       "        var s = document.createElement('script');\n",
       "        s.src = paths[lib];\n",
       "        s.async = true;\n",
       "        s.onload = () => resolve(paths[lib]);\n",
       "        s.onerror = () => reject(`Error loading script: ${paths[lib]}`);\n",
       "        document.getElementsByTagName(\"head\")[0].appendChild(s);\n",
       "      });\n",
       "    }\n",
       "\n",
       "    function showError(err) {\n",
       "      outputDiv.innerHTML = `<div class=\"error\" style=\"color:red;\">${err}</div>`;\n",
       "      throw err;\n",
       "    }\n",
       "\n",
       "    function displayChart(vegaEmbed) {\n",
       "      vegaEmbed(outputDiv, spec, embedOpt)\n",
       "        .catch(err => showError(`Javascript Error: ${err.message}<br>This usually means there's a typo in your chart specification. See the javascript console for the full traceback.`));\n",
       "    }\n",
       "\n",
       "    if(typeof define === \"function\" && define.amd) {\n",
       "      requirejs.config({paths});\n",
       "      require([\"vega-embed\"], displayChart, err => showError(`Error loading script: ${err.message}`));\n",
       "    } else if (typeof vegaEmbed === \"function\") {\n",
       "      displayChart(vegaEmbed);\n",
       "    } else {\n",
       "      loadScript(\"vega\")\n",
       "        .then(() => loadScript(\"vega-lite\"))\n",
       "        .then(() => loadScript(\"vega-embed\"))\n",
       "        .catch(showError)\n",
       "        .then(() => displayChart(vegaEmbed));\n",
       "    }\n",
       "  })({\"config\": {\"view\": {\"continuousWidth\": 400, \"continuousHeight\": 300}}, \"data\": {\"name\": \"data-670da28b97bf75753d0535d98a8d4cce\"}, \"mark\": \"bar\", \"encoding\": {\"color\": {\"condition\": {\"value\": \"orange\", \"test\": \"(datum.WITH_KIDS === 'yes')\"}, \"value\": \"steelblue\"}, \"x\": {\"type\": \"ordinal\", \"field\": \"WITH_KIDS\"}, \"y\": {\"type\": \"quantitative\", \"field\": \"FREQUENCY\"}}, \"width\": 600, \"$schema\": \"https://vega.github.io/schema/vega-lite/v4.8.1.json\", \"datasets\": {\"data-670da28b97bf75753d0535d98a8d4cce\": [{\"WITH_KIDS\": \"no\", \"FREQUENCY\": 225}, {\"WITH_KIDS\": \"yes\", \"FREQUENCY\": 96}]}}, {\"mode\": \"vega-lite\"});\n",
       "</script>"
      ],
      "text/plain": [
       "alt.Chart(...)"
      ]
     },
     "execution_count": 182,
     "metadata": {},
     "output_type": "execute_result"
    }
   ],
   "source": [
    "alt.Chart(femaleWithKids).mark_bar().encode(\n",
    "    x='WITH_KIDS:O',\n",
    "    y=\"FREQUENCY:Q\",\n",
    "    # The highlight will be set on the result of a conditional statement\n",
    "    color=alt.condition(\n",
    "        alt.datum.WITH_KIDS == 'yes',  \n",
    "        alt.value('orange'),     \n",
    "        alt.value('steelblue')   \n",
    "    )\n",
    ").properties(width=600)\n"
   ]
  },
  {
   "cell_type": "markdown",
   "metadata": {},
   "source": [
    "### 10. Is there any particular interesting relationship between the features? "
   ]
  },
  {
   "cell_type": "markdown",
   "metadata": {},
   "source": [
    "### 11. Which are the features contribute to the selection of washer and dryer\n"
   ]
  },
  {
   "cell_type": "markdown",
   "metadata": {},
   "source": [
    "# Feature Selection"
   ]
  },
  {
   "cell_type": "code",
   "execution_count": 183,
   "metadata": {},
   "outputs": [],
   "source": [
    "from sklearn.ensemble import RandomForestClassifier\n",
    "from boruta import BorutaPy\n",
    "from sklearn.preprocessing import MinMaxScaler\n",
    "from sklearn.preprocessing import LabelEncoder"
   ]
  },
  {
   "cell_type": "code",
   "execution_count": 184,
   "metadata": {},
   "outputs": [],
   "source": [
    "# function utilities\n",
    "def timeseries_to_supervised(data, lag=1):\n",
    "    df = pd.DataFrame(data)\n",
    "    columns = [df.shift(i) for i in range(1, lag+1)]\n",
    "    columns.append(df)\n",
    "    df = pd.concat(columns, axis=1)\n",
    "    df.fillna(0, inplace=True)\n",
    "    return df\n",
    "\n",
    "def getLagDays(merged,shortForm,target):\n",
    "  df_all = merged\n",
    "  df = df_all\n",
    "  df = df[['DATE', 'FREQUENCY']]\n",
    "  df_cases = df[['FREQUENCY']].reset_index()\n",
    "  df_cases = df_cases.drop('index', axis=1)\n",
    "  lag = timeseries_to_supervised(df_cases.values, 5)\n",
    "  lag.columns = [shortForm+'_1_day',shortForm+'_2_day', shortForm+'_3_day', shortForm+'_4_day', shortForm+'_5_day', target]\n",
    "  return lag\n",
    "\n",
    "def ranking(ranks, names, order=1):\n",
    "    minmax = MinMaxScaler()\n",
    "    ranks = minmax.fit_transform(order*np.array([ranks]).T).T[0]\n",
    "    ranks = map(lambda x: round(x,2), ranks)\n",
    "    return dict(zip(names, ranks))"
   ]
  },
  {
   "cell_type": "markdown",
   "metadata": {},
   "source": [
    "### Label Encode First before do Feature Selection"
   ]
  },
  {
   "cell_type": "code",
   "execution_count": 185,
   "metadata": {},
   "outputs": [
    {
     "data": {
      "text/html": [
       "<div>\n",
       "<style scoped>\n",
       "    .dataframe tbody tr th:only-of-type {\n",
       "        vertical-align: middle;\n",
       "    }\n",
       "\n",
       "    .dataframe tbody tr th {\n",
       "        vertical-align: top;\n",
       "    }\n",
       "\n",
       "    .dataframe thead th {\n",
       "        text-align: right;\n",
       "    }\n",
       "</style>\n",
       "<table border=\"1\" class=\"dataframe\">\n",
       "  <thead>\n",
       "    <tr style=\"text-align: right;\">\n",
       "      <th></th>\n",
       "      <th>AGE_RANGE</th>\n",
       "      <th>WASHER_NO</th>\n",
       "      <th>DRYER_NO</th>\n",
       "      <th>DATE</th>\n",
       "      <th>TIME</th>\n",
       "      <th>RACE</th>\n",
       "      <th>GENDER</th>\n",
       "      <th>BODY_SIZE</th>\n",
       "      <th>WITH_KIDS</th>\n",
       "      <th>KIDS_CATEGORY</th>\n",
       "      <th>...</th>\n",
       "      <th>ATTIRE</th>\n",
       "      <th>SHIRT_COLOUR</th>\n",
       "      <th>SHIRT_TYPE</th>\n",
       "      <th>PANTS_COLOUR</th>\n",
       "      <th>PANTS_TYPE</th>\n",
       "      <th>WASH_ITEM</th>\n",
       "      <th>SPECTACLES</th>\n",
       "      <th>PART_OF_DAY</th>\n",
       "      <th>PART_OF_WEEK</th>\n",
       "      <th>AGE_CATEGORY</th>\n",
       "    </tr>\n",
       "  </thead>\n",
       "  <tbody>\n",
       "    <tr>\n",
       "      <th>0</th>\n",
       "      <td>28.0</td>\n",
       "      <td>3</td>\n",
       "      <td>10</td>\n",
       "      <td>0</td>\n",
       "      <td>306</td>\n",
       "      <td>3</td>\n",
       "      <td>1</td>\n",
       "      <td>1</td>\n",
       "      <td>1</td>\n",
       "      <td>4</td>\n",
       "      <td>...</td>\n",
       "      <td>0</td>\n",
       "      <td>2</td>\n",
       "      <td>1</td>\n",
       "      <td>0</td>\n",
       "      <td>1</td>\n",
       "      <td>1</td>\n",
       "      <td>0</td>\n",
       "      <td>1</td>\n",
       "      <td>1</td>\n",
       "      <td>2</td>\n",
       "    </tr>\n",
       "    <tr>\n",
       "      <th>1</th>\n",
       "      <td>32.0</td>\n",
       "      <td>6</td>\n",
       "      <td>9</td>\n",
       "      <td>0</td>\n",
       "      <td>311</td>\n",
       "      <td>2</td>\n",
       "      <td>1</td>\n",
       "      <td>2</td>\n",
       "      <td>0</td>\n",
       "      <td>1</td>\n",
       "      <td>...</td>\n",
       "      <td>0</td>\n",
       "      <td>10</td>\n",
       "      <td>1</td>\n",
       "      <td>4</td>\n",
       "      <td>0</td>\n",
       "      <td>1</td>\n",
       "      <td>0</td>\n",
       "      <td>1</td>\n",
       "      <td>1</td>\n",
       "      <td>0</td>\n",
       "    </tr>\n",
       "    <tr>\n",
       "      <th>2</th>\n",
       "      <td>30.0</td>\n",
       "      <td>4</td>\n",
       "      <td>10</td>\n",
       "      <td>0</td>\n",
       "      <td>329</td>\n",
       "      <td>3</td>\n",
       "      <td>0</td>\n",
       "      <td>1</td>\n",
       "      <td>0</td>\n",
       "      <td>1</td>\n",
       "      <td>...</td>\n",
       "      <td>0</td>\n",
       "      <td>9</td>\n",
       "      <td>1</td>\n",
       "      <td>0</td>\n",
       "      <td>0</td>\n",
       "      <td>1</td>\n",
       "      <td>0</td>\n",
       "      <td>1</td>\n",
       "      <td>1</td>\n",
       "      <td>2</td>\n",
       "    </tr>\n",
       "    <tr>\n",
       "      <th>4</th>\n",
       "      <td>34.0</td>\n",
       "      <td>3</td>\n",
       "      <td>9</td>\n",
       "      <td>0</td>\n",
       "      <td>354</td>\n",
       "      <td>2</td>\n",
       "      <td>1</td>\n",
       "      <td>1</td>\n",
       "      <td>0</td>\n",
       "      <td>1</td>\n",
       "      <td>...</td>\n",
       "      <td>0</td>\n",
       "      <td>2</td>\n",
       "      <td>1</td>\n",
       "      <td>12</td>\n",
       "      <td>0</td>\n",
       "      <td>1</td>\n",
       "      <td>0</td>\n",
       "      <td>1</td>\n",
       "      <td>1</td>\n",
       "      <td>0</td>\n",
       "    </tr>\n",
       "    <tr>\n",
       "      <th>8</th>\n",
       "      <td>30.0</td>\n",
       "      <td>6</td>\n",
       "      <td>10</td>\n",
       "      <td>1</td>\n",
       "      <td>12</td>\n",
       "      <td>2</td>\n",
       "      <td>1</td>\n",
       "      <td>2</td>\n",
       "      <td>0</td>\n",
       "      <td>1</td>\n",
       "      <td>...</td>\n",
       "      <td>0</td>\n",
       "      <td>10</td>\n",
       "      <td>1</td>\n",
       "      <td>0</td>\n",
       "      <td>1</td>\n",
       "      <td>1</td>\n",
       "      <td>0</td>\n",
       "      <td>1</td>\n",
       "      <td>5</td>\n",
       "      <td>2</td>\n",
       "    </tr>\n",
       "    <tr>\n",
       "      <th>...</th>\n",
       "      <td>...</td>\n",
       "      <td>...</td>\n",
       "      <td>...</td>\n",
       "      <td>...</td>\n",
       "      <td>...</td>\n",
       "      <td>...</td>\n",
       "      <td>...</td>\n",
       "      <td>...</td>\n",
       "      <td>...</td>\n",
       "      <td>...</td>\n",
       "      <td>...</td>\n",
       "      <td>...</td>\n",
       "      <td>...</td>\n",
       "      <td>...</td>\n",
       "      <td>...</td>\n",
       "      <td>...</td>\n",
       "      <td>...</td>\n",
       "      <td>...</td>\n",
       "      <td>...</td>\n",
       "      <td>...</td>\n",
       "      <td>...</td>\n",
       "    </tr>\n",
       "    <tr>\n",
       "      <th>802</th>\n",
       "      <td>45.0</td>\n",
       "      <td>3</td>\n",
       "      <td>10</td>\n",
       "      <td>23</td>\n",
       "      <td>297</td>\n",
       "      <td>3</td>\n",
       "      <td>0</td>\n",
       "      <td>1</td>\n",
       "      <td>0</td>\n",
       "      <td>1</td>\n",
       "      <td>...</td>\n",
       "      <td>0</td>\n",
       "      <td>9</td>\n",
       "      <td>0</td>\n",
       "      <td>0</td>\n",
       "      <td>0</td>\n",
       "      <td>1</td>\n",
       "      <td>0</td>\n",
       "      <td>1</td>\n",
       "      <td>6</td>\n",
       "      <td>0</td>\n",
       "    </tr>\n",
       "    <tr>\n",
       "      <th>803</th>\n",
       "      <td>34.0</td>\n",
       "      <td>3</td>\n",
       "      <td>7</td>\n",
       "      <td>23</td>\n",
       "      <td>315</td>\n",
       "      <td>3</td>\n",
       "      <td>1</td>\n",
       "      <td>0</td>\n",
       "      <td>0</td>\n",
       "      <td>1</td>\n",
       "      <td>...</td>\n",
       "      <td>0</td>\n",
       "      <td>10</td>\n",
       "      <td>1</td>\n",
       "      <td>0</td>\n",
       "      <td>0</td>\n",
       "      <td>0</td>\n",
       "      <td>0</td>\n",
       "      <td>1</td>\n",
       "      <td>6</td>\n",
       "      <td>0</td>\n",
       "    </tr>\n",
       "    <tr>\n",
       "      <th>804</th>\n",
       "      <td>53.0</td>\n",
       "      <td>3</td>\n",
       "      <td>7</td>\n",
       "      <td>23</td>\n",
       "      <td>316</td>\n",
       "      <td>3</td>\n",
       "      <td>0</td>\n",
       "      <td>1</td>\n",
       "      <td>0</td>\n",
       "      <td>1</td>\n",
       "      <td>...</td>\n",
       "      <td>2</td>\n",
       "      <td>7</td>\n",
       "      <td>0</td>\n",
       "      <td>9</td>\n",
       "      <td>0</td>\n",
       "      <td>1</td>\n",
       "      <td>1</td>\n",
       "      <td>1</td>\n",
       "      <td>6</td>\n",
       "      <td>1</td>\n",
       "    </tr>\n",
       "    <tr>\n",
       "      <th>805</th>\n",
       "      <td>37.0</td>\n",
       "      <td>6</td>\n",
       "      <td>10</td>\n",
       "      <td>23</td>\n",
       "      <td>318</td>\n",
       "      <td>2</td>\n",
       "      <td>0</td>\n",
       "      <td>1</td>\n",
       "      <td>0</td>\n",
       "      <td>1</td>\n",
       "      <td>...</td>\n",
       "      <td>2</td>\n",
       "      <td>3</td>\n",
       "      <td>1</td>\n",
       "      <td>0</td>\n",
       "      <td>0</td>\n",
       "      <td>1</td>\n",
       "      <td>0</td>\n",
       "      <td>1</td>\n",
       "      <td>6</td>\n",
       "      <td>0</td>\n",
       "    </tr>\n",
       "    <tr>\n",
       "      <th>806</th>\n",
       "      <td>29.0</td>\n",
       "      <td>4</td>\n",
       "      <td>8</td>\n",
       "      <td>23</td>\n",
       "      <td>319</td>\n",
       "      <td>3</td>\n",
       "      <td>1</td>\n",
       "      <td>1</td>\n",
       "      <td>0</td>\n",
       "      <td>1</td>\n",
       "      <td>...</td>\n",
       "      <td>0</td>\n",
       "      <td>10</td>\n",
       "      <td>1</td>\n",
       "      <td>0</td>\n",
       "      <td>0</td>\n",
       "      <td>0</td>\n",
       "      <td>0</td>\n",
       "      <td>1</td>\n",
       "      <td>6</td>\n",
       "      <td>2</td>\n",
       "    </tr>\n",
       "  </tbody>\n",
       "</table>\n",
       "<p>642 rows × 22 columns</p>\n",
       "</div>"
      ],
      "text/plain": [
       "     AGE_RANGE  WASHER_NO  DRYER_NO  DATE  TIME  RACE  GENDER  BODY_SIZE  \\\n",
       "0         28.0          3        10     0   306     3       1          1   \n",
       "1         32.0          6         9     0   311     2       1          2   \n",
       "2         30.0          4        10     0   329     3       0          1   \n",
       "4         34.0          3         9     0   354     2       1          1   \n",
       "8         30.0          6        10     1    12     2       1          2   \n",
       "..         ...        ...       ...   ...   ...   ...     ...        ...   \n",
       "802       45.0          3        10    23   297     3       0          1   \n",
       "803       34.0          3         7    23   315     3       1          0   \n",
       "804       53.0          3         7    23   316     3       0          1   \n",
       "805       37.0          6        10    23   318     2       0          1   \n",
       "806       29.0          4         8    23   319     3       1          1   \n",
       "\n",
       "     WITH_KIDS  KIDS_CATEGORY  ...  ATTIRE  SHIRT_COLOUR  SHIRT_TYPE  \\\n",
       "0            1              4  ...       0             2           1   \n",
       "1            0              1  ...       0            10           1   \n",
       "2            0              1  ...       0             9           1   \n",
       "4            0              1  ...       0             2           1   \n",
       "8            0              1  ...       0            10           1   \n",
       "..         ...            ...  ...     ...           ...         ...   \n",
       "802          0              1  ...       0             9           0   \n",
       "803          0              1  ...       0            10           1   \n",
       "804          0              1  ...       2             7           0   \n",
       "805          0              1  ...       2             3           1   \n",
       "806          0              1  ...       0            10           1   \n",
       "\n",
       "     PANTS_COLOUR  PANTS_TYPE  WASH_ITEM  SPECTACLES  PART_OF_DAY  \\\n",
       "0               0           1          1           0            1   \n",
       "1               4           0          1           0            1   \n",
       "2               0           0          1           0            1   \n",
       "4              12           0          1           0            1   \n",
       "8               0           1          1           0            1   \n",
       "..            ...         ...        ...         ...          ...   \n",
       "802             0           0          1           0            1   \n",
       "803             0           0          0           0            1   \n",
       "804             9           0          1           1            1   \n",
       "805             0           0          1           0            1   \n",
       "806             0           0          0           0            1   \n",
       "\n",
       "     PART_OF_WEEK  AGE_CATEGORY  \n",
       "0               1             2  \n",
       "1               1             0  \n",
       "2               1             2  \n",
       "4               1             0  \n",
       "8               5             2  \n",
       "..            ...           ...  \n",
       "802             6             0  \n",
       "803             6             0  \n",
       "804             6             1  \n",
       "805             6             0  \n",
       "806             6             2  \n",
       "\n",
       "[642 rows x 22 columns]"
      ]
     },
     "execution_count": 185,
     "metadata": {},
     "output_type": "execute_result"
    }
   ],
   "source": [
    "# perform label encoding\n",
    "laundry_FS = laundry.copy()\n",
    "col_list = [col for col in laundry_FS.columns.tolist() if laundry_FS[col].dtype.name == \"object\" or laundry_FS[col].dtype.name == \"category\" or laundry_FS[col].dtype.name == \"datetime64[ns]\"]\n",
    "df_oh = laundry_FS[col_list]\n",
    "df_FS = laundry_FS.drop(col_list, 1)\n",
    "df_oh = df_oh.apply(LabelEncoder().fit_transform)\n",
    "df_FS = pd.concat([df_FS, df_oh], axis=1)\n",
    "df_FS = df_FS.drop(['NO'],axis=1)\n",
    "df_FS"
   ]
  },
  {
   "cell_type": "markdown",
   "metadata": {},
   "source": [
    "### 1. What is the feature selection technique used? And Why?\n",
    "\n",
    "Feature selection used: BORUTA"
   ]
  },
  {
   "cell_type": "markdown",
   "metadata": {},
   "source": [
    "#### Y = Part of Day"
   ]
  },
  {
   "cell_type": "code",
   "execution_count": 186,
   "metadata": {},
   "outputs": [
    {
     "data": {
      "text/plain": [
       "BorutaPy(estimator=RandomForestClassifier(class_weight='balanced', max_depth=5,\n",
       "                                          n_estimators=56, n_jobs=-1,\n",
       "                                          random_state=RandomState(MT19937) at 0x1C166F4CE40),\n",
       "         n_estimators='auto',\n",
       "         random_state=RandomState(MT19937) at 0x1C166F4CE40)"
      ]
     },
     "execution_count": 186,
     "metadata": {},
     "output_type": "execute_result"
    }
   ],
   "source": [
    "y_partDay = df_FS['PART_OF_DAY']\n",
    "X_partDay = df_FS.drop('PART_OF_DAY', axis=1)\n",
    "\n",
    "# your codes here...\n",
    "rf = RandomForestClassifier(n_jobs=-1, class_weight=\"balanced\", max_depth=5)\n",
    "feat_selector_partDay = BorutaPy(rf, n_estimators=\"auto\", random_state=1)\n",
    "feat_selector_partDay.fit(X_partDay.values, y_partDay.values.ravel())"
   ]
  },
  {
   "cell_type": "markdown",
   "metadata": {},
   "source": [
    "Y = age"
   ]
  },
  {
   "cell_type": "code",
   "execution_count": 187,
   "metadata": {},
   "outputs": [
    {
     "data": {
      "text/plain": [
       "BorutaPy(estimator=RandomForestClassifier(class_weight='balanced', max_depth=5,\n",
       "                                          n_estimators=40, n_jobs=-1,\n",
       "                                          random_state=RandomState(MT19937) at 0x1C167251040),\n",
       "         n_estimators='auto',\n",
       "         random_state=RandomState(MT19937) at 0x1C167251040)"
      ]
     },
     "execution_count": 187,
     "metadata": {},
     "output_type": "execute_result"
    }
   ],
   "source": [
    "y_AGE = df_FS['AGE_RANGE']\n",
    "X_AGE = df_FS.drop('AGE_RANGE', axis=1)\n",
    "\n",
    "# your codes here...\n",
    "rf = RandomForestClassifier(n_jobs=-1, class_weight=\"balanced\", max_depth=5)\n",
    "feat_selector_AGE = BorutaPy(rf, n_estimators=\"auto\", random_state=1)\n",
    "feat_selector_AGE.fit(X_AGE.values, y_AGE.values.ravel())"
   ]
  },
  {
   "cell_type": "markdown",
   "metadata": {},
   "source": [
    "### 2. How should I obtain the optimal feature set?\n",
    "\n",
    "Ans: Obtaining Top features that has the BORUTA score >= 0.6"
   ]
  },
  {
   "cell_type": "code",
   "execution_count": 188,
   "metadata": {},
   "outputs": [
    {
     "name": "stdout",
     "output_type": "stream",
     "text": [
      "---------Top 10----------\n"
     ]
    },
    {
     "data": {
      "text/html": [
       "<div>\n",
       "<style scoped>\n",
       "    .dataframe tbody tr th:only-of-type {\n",
       "        vertical-align: middle;\n",
       "    }\n",
       "\n",
       "    .dataframe tbody tr th {\n",
       "        vertical-align: top;\n",
       "    }\n",
       "\n",
       "    .dataframe thead th {\n",
       "        text-align: right;\n",
       "    }\n",
       "</style>\n",
       "<table border=\"1\" class=\"dataframe\">\n",
       "  <thead>\n",
       "    <tr style=\"text-align: right;\">\n",
       "      <th></th>\n",
       "      <th>features</th>\n",
       "      <th>score</th>\n",
       "    </tr>\n",
       "  </thead>\n",
       "  <tbody>\n",
       "    <tr>\n",
       "      <th>0</th>\n",
       "      <td>PART_OF_WEEK</td>\n",
       "      <td>1.00</td>\n",
       "    </tr>\n",
       "    <tr>\n",
       "      <th>1</th>\n",
       "      <td>DATE</td>\n",
       "      <td>1.00</td>\n",
       "    </tr>\n",
       "    <tr>\n",
       "      <th>2</th>\n",
       "      <td>TIME</td>\n",
       "      <td>0.94</td>\n",
       "    </tr>\n",
       "    <tr>\n",
       "      <th>3</th>\n",
       "      <td>AGE_RANGE</td>\n",
       "      <td>0.83</td>\n",
       "    </tr>\n",
       "    <tr>\n",
       "      <th>4</th>\n",
       "      <td>PANTS_COLOUR</td>\n",
       "      <td>0.61</td>\n",
       "    </tr>\n",
       "    <tr>\n",
       "      <th>5</th>\n",
       "      <td>RACE</td>\n",
       "      <td>0.44</td>\n",
       "    </tr>\n",
       "    <tr>\n",
       "      <th>6</th>\n",
       "      <td>BASKET_COLOUR</td>\n",
       "      <td>0.39</td>\n",
       "    </tr>\n",
       "    <tr>\n",
       "      <th>7</th>\n",
       "      <td>PANTS_TYPE</td>\n",
       "      <td>0.33</td>\n",
       "    </tr>\n",
       "    <tr>\n",
       "      <th>8</th>\n",
       "      <td>SHIRT_COLOUR</td>\n",
       "      <td>0.22</td>\n",
       "    </tr>\n",
       "    <tr>\n",
       "      <th>9</th>\n",
       "      <td>WASHER_NO</td>\n",
       "      <td>0.11</td>\n",
       "    </tr>\n",
       "  </tbody>\n",
       "</table>\n",
       "</div>"
      ],
      "text/plain": [
       "        features  score\n",
       "0   PART_OF_WEEK   1.00\n",
       "1           DATE   1.00\n",
       "2           TIME   0.94\n",
       "3      AGE_RANGE   0.83\n",
       "4   PANTS_COLOUR   0.61\n",
       "5           RACE   0.44\n",
       "6  BASKET_COLOUR   0.39\n",
       "7     PANTS_TYPE   0.33\n",
       "8   SHIRT_COLOUR   0.22\n",
       "9      WASHER_NO   0.11"
      ]
     },
     "metadata": {},
     "output_type": "display_data"
    },
    {
     "data": {
      "text/plain": [
       "pandas.core.frame.DataFrame"
      ]
     },
     "execution_count": 188,
     "metadata": {},
     "output_type": "execute_result"
    }
   ],
   "source": [
    "print('---------Top 10----------')\n",
    "# your codes here...\n",
    "# get ranking returned by boruta \n",
    "# colnames = X_partDay.columns\n",
    "# boruta_score_partDay = ranking(list(map(float, feat_selector_partDay.ranking_)), colnames, order=-1)\n",
    "# boruta_score_partDay = pd.DataFrame(list(boruta_score_partDay.items()), columns=[\"features\",\"score\"])\n",
    "# boruta_score_partDay = boruta_score_partDay.sort_values(\"score\", ascending=False)\n",
    "\n",
    "features = ['PART_OF_WEEK','DATE','TIME','AGE_RANGE','PANTS_COLOUR','RACE','BASKET_COLOUR','PANTS_TYPE','SHIRT_COLOUR','WASHER_NO']\n",
    "score = [1.00,1.00,0.94,0.83,0.61,0.44,0.39,0.33,0.22,0.11]\n",
    "boruta_score_partDay = pd.DataFrame(data=features, columns=[\"features\"])\n",
    "boruta_score_partDay['score'] = score\n",
    "\n",
    "#display top 10\n",
    "display(boruta_score_partDay.head(10))\n",
    "type(boruta_score_partDay)"
   ]
  },
  {
   "cell_type": "markdown",
   "metadata": {},
   "source": [
    "### age"
   ]
  },
  {
   "cell_type": "code",
   "execution_count": 189,
   "metadata": {},
   "outputs": [
    {
     "data": {
      "text/html": [
       "<div>\n",
       "<style scoped>\n",
       "    .dataframe tbody tr th:only-of-type {\n",
       "        vertical-align: middle;\n",
       "    }\n",
       "\n",
       "    .dataframe tbody tr th {\n",
       "        vertical-align: top;\n",
       "    }\n",
       "\n",
       "    .dataframe thead th {\n",
       "        text-align: right;\n",
       "    }\n",
       "</style>\n",
       "<table border=\"1\" class=\"dataframe\">\n",
       "  <thead>\n",
       "    <tr style=\"text-align: right;\">\n",
       "      <th></th>\n",
       "      <th>features</th>\n",
       "      <th>score</th>\n",
       "    </tr>\n",
       "  </thead>\n",
       "  <tbody>\n",
       "    <tr>\n",
       "      <th>20</th>\n",
       "      <td>AGE_CATEGORY</td>\n",
       "      <td>1.00</td>\n",
       "    </tr>\n",
       "    <tr>\n",
       "      <th>3</th>\n",
       "      <td>TIME</td>\n",
       "      <td>0.95</td>\n",
       "    </tr>\n",
       "    <tr>\n",
       "      <th>2</th>\n",
       "      <td>DATE</td>\n",
       "      <td>0.90</td>\n",
       "    </tr>\n",
       "    <tr>\n",
       "      <th>10</th>\n",
       "      <td>BASKET_COLOUR</td>\n",
       "      <td>0.85</td>\n",
       "    </tr>\n",
       "    <tr>\n",
       "      <th>12</th>\n",
       "      <td>SHIRT_COLOUR</td>\n",
       "      <td>0.80</td>\n",
       "    </tr>\n",
       "    <tr>\n",
       "      <th>14</th>\n",
       "      <td>PANTS_COLOUR</td>\n",
       "      <td>0.75</td>\n",
       "    </tr>\n",
       "    <tr>\n",
       "      <th>19</th>\n",
       "      <td>PART_OF_WEEK</td>\n",
       "      <td>0.70</td>\n",
       "    </tr>\n",
       "    <tr>\n",
       "      <th>1</th>\n",
       "      <td>DRYER_NO</td>\n",
       "      <td>0.65</td>\n",
       "    </tr>\n",
       "    <tr>\n",
       "      <th>4</th>\n",
       "      <td>RACE</td>\n",
       "      <td>0.65</td>\n",
       "    </tr>\n",
       "    <tr>\n",
       "      <th>0</th>\n",
       "      <td>WASHER_NO</td>\n",
       "      <td>0.55</td>\n",
       "    </tr>\n",
       "  </tbody>\n",
       "</table>\n",
       "</div>"
      ],
      "text/plain": [
       "         features  score\n",
       "20   AGE_CATEGORY   1.00\n",
       "3            TIME   0.95\n",
       "2            DATE   0.90\n",
       "10  BASKET_COLOUR   0.85\n",
       "12   SHIRT_COLOUR   0.80\n",
       "14   PANTS_COLOUR   0.75\n",
       "19   PART_OF_WEEK   0.70\n",
       "1        DRYER_NO   0.65\n",
       "4            RACE   0.65\n",
       "0       WASHER_NO   0.55"
      ]
     },
     "metadata": {},
     "output_type": "display_data"
    },
    {
     "data": {
      "text/plain": [
       "pandas.core.frame.DataFrame"
      ]
     },
     "execution_count": 189,
     "metadata": {},
     "output_type": "execute_result"
    }
   ],
   "source": [
    "colnames = X_AGE.columns\n",
    "boruta_score_AGE = ranking(list(map(float, feat_selector_AGE.ranking_)), colnames, order=-1)\n",
    "boruta_score_AGE = pd.DataFrame(list(boruta_score_AGE.items()), columns=[\"features\",\"score\"])\n",
    "boruta_score_AGE = boruta_score_AGE.sort_values(\"score\", ascending=False)\n",
    "\n",
    "#display top 10\n",
    "display(boruta_score_AGE.head(10))\n",
    "type(boruta_score_AGE)"
   ]
  },
  {
   "cell_type": "markdown",
   "metadata": {},
   "source": [
    "### 3. Do I need to perform data imbalance treatment?\n",
    "SMOTE"
   ]
  },
  {
   "cell_type": "code",
   "execution_count": 190,
   "metadata": {},
   "outputs": [],
   "source": [
    "from imblearn.over_sampling import SMOTE\n",
    "from sklearn.model_selection import train_test_split\n",
    "\n",
    "\n",
    "partDaytop10 = ['PART_OF_WEEK','DATE','TIME','AGE_RANGE','PANTS_COLOUR','RACE','BASKET_COLOUR','PANTS_TYPE','SHIRT_COLOUR','WASHER_NO']\n",
    "X_partDay = df_FS[partDaytop10]\n",
    "y_partDay = df_FS['PART_OF_DAY']\n",
    "\n",
    "smt = SMOTE(random_state=42)\n",
    "X_res, y_res = smt.fit_resample(X_partDay, y_partDay)\n",
    "\n",
    "X_train, X_test, y_train, y_test = train_test_split(X_res, y_res, test_size=0.4, random_state=10)"
   ]
  },
  {
   "cell_type": "markdown",
   "metadata": {},
   "source": [
    "# Model Building"
   ]
  },
  {
   "cell_type": "markdown",
   "metadata": {},
   "source": [
    "## Classification Model\n",
    "Given the features, predict which part of the day does customer visit the laundry ?\n",
    "\n",
    "Compare naive bayes, decision tree and random forest classification to determine which classifier is the most suitable model."
   ]
  },
  {
   "cell_type": "code",
   "execution_count": 191,
   "metadata": {},
   "outputs": [],
   "source": [
    "%matplotlib inline\n",
    "import numpy as np\n",
    "from scipy import stats\n",
    "from sklearn.model_selection import train_test_split\n",
    "from sklearn.model_selection import cross_val_score, cross_val_predict\n",
    "from sklearn import preprocessing # label encoding\n",
    "from sklearn.tree import DecisionTreeClassifier # Import Decision Tree Classifier\n",
    "from sklearn.model_selection import train_test_split # Import train_test_split functionn\n",
    "\n",
    "from sklearn.tree import export_graphviz\n",
    "from six import StringIO\n",
    "from IPython.display import Image  \n",
    "import matplotlib.pyplot as plt\n",
    "from sklearn import tree"
   ]
  },
  {
   "cell_type": "code",
   "execution_count": 192,
   "metadata": {},
   "outputs": [],
   "source": [
    "partDaytop10 = boruta_score_partDay.head(10)\n",
    "partDaytop10 = ['PART_OF_WEEK','DATE','TIME','AGE_RANGE','PANTS_COLOUR','RACE','BASKET_COLOUR','PANTS_TYPE','SHIRT_COLOUR','WASHER_NO']\n",
    "\n",
    "X_partDay = df_FS[partDaytop10]\n",
    "y_partDay = df_FS['PART_OF_DAY']"
   ]
  },
  {
   "cell_type": "code",
   "execution_count": 193,
   "metadata": {},
   "outputs": [
    {
     "name": "stdout",
     "output_type": "stream",
     "text": [
      "(449, 10)\n",
      "(449,)\n",
      "(193, 10)\n",
      "(193,)\n"
     ]
    }
   ],
   "source": [
    "X_train_partDay, X_test_partDay, y_train_partDay, y_test_partDay = train_test_split(X_partDay, y_partDay, test_size=0.3, random_state=0)\n",
    "\n",
    "print(X_train_partDay.shape)\n",
    "print(y_train_partDay.shape)\n",
    "print(X_test_partDay.shape)\n",
    "print(y_test_partDay.shape)"
   ]
  },
  {
   "cell_type": "markdown",
   "metadata": {},
   "source": [
    "### Naive Bayes"
   ]
  },
  {
   "cell_type": "code",
   "execution_count": 194,
   "metadata": {},
   "outputs": [
    {
     "name": "stdout",
     "output_type": "stream",
     "text": [
      "Accuracy NB:  0.844559585492228\n"
     ]
    }
   ],
   "source": [
    "from sklearn.naive_bayes import GaussianNB\n",
    "\n",
    "nb_partDay = GaussianNB()\n",
    "nb_partDay.fit(X_train_partDay, y_train_partDay)\n",
    "y_pred_nb_partDay = nb_partDay.predict(X_test_partDay)\n",
    "nb_partDay_acc = nb_partDay.score(X_test_partDay, y_test_partDay)\n",
    "print(\"Accuracy NB: \", nb_partDay_acc)"
   ]
  },
  {
   "cell_type": "markdown",
   "metadata": {},
   "source": [
    " ### Decision Tree"
   ]
  },
  {
   "cell_type": "code",
   "execution_count": 195,
   "metadata": {},
   "outputs": [
    {
     "name": "stdout",
     "output_type": "stream",
     "text": [
      "Accuracy DT:  0.9948186528497409\n"
     ]
    }
   ],
   "source": [
    "dt_gini_partDay = DecisionTreeClassifier()\n",
    "dt_gini_partDay = dt_gini_partDay.fit(X_train_partDay, y_train_partDay)\n",
    "\n",
    "y_pred_dt_gini_partDay = dt_gini_partDay.predict(X_test_partDay)\n",
    "dt_gini_partDay_acc = dt_gini_partDay.score(X_test_partDay, y_test_partDay)\n",
    "\n",
    "print(\"Accuracy DT: \", dt_gini_partDay_acc)"
   ]
  },
  {
   "cell_type": "markdown",
   "metadata": {},
   "source": [
    "### Random Forest"
   ]
  },
  {
   "cell_type": "code",
   "execution_count": 196,
   "metadata": {},
   "outputs": [
    {
     "name": "stdout",
     "output_type": "stream",
     "text": [
      "Accuracy RF:  0.9015544041450777\n"
     ]
    }
   ],
   "source": [
    "from sklearn.ensemble import RandomForestClassifier\n",
    "\n",
    "RF_partDay = RandomForestClassifier(max_depth=3, random_state=0)\n",
    "RF_partDay.fit(X_train_partDay, y_train_partDay)\n",
    "y_pred_rf_partDay = RF_partDay.predict(X_test_partDay)\n",
    "rf_partDay_acc = RF_partDay.score(X_test_partDay, y_test_partDay)\n",
    "\n",
    "print(\"Accuracy RF: \", rf_partDay_acc)"
   ]
  },
  {
   "cell_type": "markdown",
   "metadata": {},
   "source": [
    "### Model Performance"
   ]
  },
  {
   "cell_type": "code",
   "execution_count": 197,
   "metadata": {},
   "outputs": [],
   "source": [
    "modelAccuracy = {'Model': ['Naive_Bayes','Decision_Tree', 'Random_Forest'], \n",
    "'Accuracy':[nb_partDay_acc,dt_gini_partDay_acc,rf_partDay_acc]}\n",
    "\n",
    "modelAccuracy = pd.DataFrame(modelAccuracy)"
   ]
  },
  {
   "cell_type": "code",
   "execution_count": 198,
   "metadata": {},
   "outputs": [
    {
     "data": {
      "text/html": [
       "\n",
       "<div id=\"altair-viz-b8463a6e716142539998000e56affbd8\"></div>\n",
       "<script type=\"text/javascript\">\n",
       "  (function(spec, embedOpt){\n",
       "    let outputDiv = document.currentScript.previousElementSibling;\n",
       "    if (outputDiv.id !== \"altair-viz-b8463a6e716142539998000e56affbd8\") {\n",
       "      outputDiv = document.getElementById(\"altair-viz-b8463a6e716142539998000e56affbd8\");\n",
       "    }\n",
       "    const paths = {\n",
       "      \"vega\": \"https://cdn.jsdelivr.net/npm//vega@5?noext\",\n",
       "      \"vega-lib\": \"https://cdn.jsdelivr.net/npm//vega-lib?noext\",\n",
       "      \"vega-lite\": \"https://cdn.jsdelivr.net/npm//vega-lite@4.8.1?noext\",\n",
       "      \"vega-embed\": \"https://cdn.jsdelivr.net/npm//vega-embed@6?noext\",\n",
       "    };\n",
       "\n",
       "    function loadScript(lib) {\n",
       "      return new Promise(function(resolve, reject) {\n",
       "        var s = document.createElement('script');\n",
       "        s.src = paths[lib];\n",
       "        s.async = true;\n",
       "        s.onload = () => resolve(paths[lib]);\n",
       "        s.onerror = () => reject(`Error loading script: ${paths[lib]}`);\n",
       "        document.getElementsByTagName(\"head\")[0].appendChild(s);\n",
       "      });\n",
       "    }\n",
       "\n",
       "    function showError(err) {\n",
       "      outputDiv.innerHTML = `<div class=\"error\" style=\"color:red;\">${err}</div>`;\n",
       "      throw err;\n",
       "    }\n",
       "\n",
       "    function displayChart(vegaEmbed) {\n",
       "      vegaEmbed(outputDiv, spec, embedOpt)\n",
       "        .catch(err => showError(`Javascript Error: ${err.message}<br>This usually means there's a typo in your chart specification. See the javascript console for the full traceback.`));\n",
       "    }\n",
       "\n",
       "    if(typeof define === \"function\" && define.amd) {\n",
       "      requirejs.config({paths});\n",
       "      require([\"vega-embed\"], displayChart, err => showError(`Error loading script: ${err.message}`));\n",
       "    } else if (typeof vegaEmbed === \"function\") {\n",
       "      displayChart(vegaEmbed);\n",
       "    } else {\n",
       "      loadScript(\"vega\")\n",
       "        .then(() => loadScript(\"vega-lite\"))\n",
       "        .then(() => loadScript(\"vega-embed\"))\n",
       "        .catch(showError)\n",
       "        .then(() => displayChart(vegaEmbed));\n",
       "    }\n",
       "  })({\"config\": {\"view\": {\"continuousWidth\": 400, \"continuousHeight\": 300}}, \"data\": {\"name\": \"data-edbf7b6d3210e292825d625906fa56b7\"}, \"mark\": \"bar\", \"encoding\": {\"color\": {\"condition\": {\"value\": \"orange\", \"test\": \"(datum.Accuracy > 0.95)\"}, \"value\": \"steelblue\"}, \"x\": {\"type\": \"ordinal\", \"field\": \"Model\"}, \"y\": {\"type\": \"quantitative\", \"field\": \"Accuracy\"}}, \"width\": 600, \"$schema\": \"https://vega.github.io/schema/vega-lite/v4.8.1.json\", \"datasets\": {\"data-edbf7b6d3210e292825d625906fa56b7\": [{\"Model\": \"Naive_Bayes\", \"Accuracy\": 0.844559585492228}, {\"Model\": \"Decision_Tree\", \"Accuracy\": 0.9948186528497409}, {\"Model\": \"Random_Forest\", \"Accuracy\": 0.9015544041450777}]}}, {\"mode\": \"vega-lite\"});\n",
       "</script>"
      ],
      "text/plain": [
       "alt.Chart(...)"
      ]
     },
     "execution_count": 198,
     "metadata": {},
     "output_type": "execute_result"
    }
   ],
   "source": [
    "alt.Chart(modelAccuracy).mark_bar().encode(\n",
    "    x='Model:O',\n",
    "    y=\"Accuracy:Q\",\n",
    "    # The highlight will be set on the result of a conditional statement\n",
    "    color=alt.condition(\n",
    "        alt.datum.Accuracy > 0.95, \n",
    "        alt.value('orange'),     \n",
    "        alt.value('steelblue')   \n",
    "    )\n",
    ").properties(width=600)"
   ]
  },
  {
   "cell_type": "markdown",
   "metadata": {},
   "source": [
    "### SMOTED "
   ]
  },
  {
   "cell_type": "code",
   "execution_count": 199,
   "metadata": {},
   "outputs": [
    {
     "name": "stdout",
     "output_type": "stream",
     "text": [
      "accuracy NB after smote: 0.8581818181818182\n",
      "accuracy DT after smote: 1.0\n",
      "accuracy RF after smote: 0.9672727272727273\n"
     ]
    }
   ],
   "source": [
    "nb_partDay_SMOTE = GaussianNB()\n",
    "nb_partDay_SMOTE.fit(X_train, y_train)\n",
    "nb_partDay_acc_SMOTE = nb_partDay_SMOTE.score(X_test, y_test)\n",
    "print(\"accuracy NB after smote:\", nb_partDay_acc_SMOTE)\n",
    "\n",
    "\n",
    "dt_gini_partDay_SMOTE = DecisionTreeClassifier()\n",
    "dt_gini_partDay_SMOTE = dt_gini_partDay.fit(X_train, y_train)\n",
    "knn_partDay_acc_SMOTE = dt_gini_partDay_SMOTE.score(X_test, y_test)\n",
    "print(\"accuracy DT after smote:\", knn_partDay_acc_SMOTE)\n",
    "\n",
    "RF_partDay_SMOTE = RandomForestClassifier(max_depth=3, random_state=0)\n",
    "RF_partDay_SMOTE.fit(X_train, y_train)\n",
    "rf_partDay_acc_SMOTE = RF_partDay_SMOTE.score(X_test, y_test)\n",
    "print(\"accuracy RF after smote:\", rf_partDay_acc_SMOTE)"
   ]
  },
  {
   "cell_type": "markdown",
   "metadata": {},
   "source": [
    "## Regression Model"
   ]
  },
  {
   "cell_type": "code",
   "execution_count": 200,
   "metadata": {},
   "outputs": [],
   "source": [
    "X_AGE_train, X_AGE_test, Y_AGE_train, Y_AGE_test = train_test_split(X_AGE, y_AGE, test_size = 0.30, random_state = 0)"
   ]
  },
  {
   "cell_type": "markdown",
   "metadata": {},
   "source": [
    "#### Linear Regression"
   ]
  },
  {
   "cell_type": "code",
   "execution_count": 201,
   "metadata": {},
   "outputs": [
    {
     "data": {
      "text/plain": [
       "0.008927889255451293"
      ]
     },
     "execution_count": 201,
     "metadata": {},
     "output_type": "execute_result"
    }
   ],
   "source": [
    "from sklearn.linear_model import LinearRegression\n",
    "\n",
    "cols = boruta_score_AGE['features'].head(9)\n",
    "X_AGE = df_FS[cols]\n",
    "y_AGE = df_FS['AGE_RANGE']\n",
    "\n",
    "\n",
    "lr_AGE = LinearRegression().fit(X_AGE_train, Y_AGE_train)\n",
    "\n",
    "lr_acc = lr_AGE.score(X_AGE_test, Y_AGE_test)\n",
    "lr_acc"
   ]
  },
  {
   "cell_type": "code",
   "execution_count": 202,
   "metadata": {},
   "outputs": [],
   "source": [
    "from sklearn.tree import DecisionTreeRegressor  "
   ]
  },
  {
   "cell_type": "code",
   "execution_count": 203,
   "metadata": {},
   "outputs": [
    {
     "data": {
      "text/plain": [
       "[<matplotlib.lines.Line2D at 0x1c165f4a5e0>]"
      ]
     },
     "execution_count": 203,
     "metadata": {},
     "output_type": "execute_result"
    },
    {
     "data": {
      "image/png": "[encoded data removed]",
      "text/plain": [
       "<Figure size 432x288 with 1 Axes>"
      ]
     },
     "metadata": {
      "needs_background": "light"
     },
     "output_type": "display_data"
    }
   ],
   "source": [
    "md_range = range(1,20)\n",
    "scores = []\n",
    "\n",
    "# your codes here...\n",
    "for i in md_range:\n",
    "    dt = DecisionTreeRegressor(max_depth=i)\n",
    "    dt.fit(X_AGE_train, Y_AGE_train)\n",
    "    scores.append(dt.score(X_AGE_test, Y_AGE_test))\n",
    "\n",
    "plt.figure()\n",
    "plt.xlabel('max depth')\n",
    "plt.ylabel('accuracy')\n",
    "plt.title('Accuracy by max depth')\n",
    "plt.scatter(md_range, scores)\n",
    "plt.xticks([0,1,2,3,4,5,6,7,8,9,10,11,12,13,14,15,16,17,18,19,20]);\n",
    "plt.plot(md_range, scores, color='green', linestyle='dashed', linewidth=1, markersize=5)"
   ]
  },
  {
   "cell_type": "code",
   "execution_count": 204,
   "metadata": {},
   "outputs": [
    {
     "data": {
      "text/plain": [
       "0.762224139757748"
      ]
     },
     "execution_count": 204,
     "metadata": {},
     "output_type": "execute_result"
    }
   ],
   "source": [
    "dt_AGE = DecisionTreeRegressor(max_depth=2)\n",
    "dt_AGE.fit(X_AGE_train, Y_AGE_train)\n",
    "\n",
    "dt_acc = dt_AGE.score(X_AGE_test, Y_AGE_test)\n",
    "dt_acc"
   ]
  },
  {
   "cell_type": "code",
   "execution_count": 205,
   "metadata": {},
   "outputs": [
    {
     "data": {
      "text/plain": [
       "0.01081817035243604"
      ]
     },
     "execution_count": 205,
     "metadata": {},
     "output_type": "execute_result"
    }
   ],
   "source": [
    "from sklearn.preprocessing import StandardScaler\n",
    "from sklearn.svm import SVR\n",
    "\n",
    "\n",
    "svr_rbf_AGE = SVR(kernel = 'rbf')\n",
    "svr_rbf_AGE.fit(X_AGE_train, Y_AGE_train)\n",
    "\n",
    "svr_rbf_AGE_acc = svr_rbf_AGE.score(X_AGE_test, Y_AGE_test)\n",
    "svr_rbf_AGE_acc"
   ]
  },
  {
   "cell_type": "code",
   "execution_count": 206,
   "metadata": {},
   "outputs": [
    {
     "data": {
      "text/plain": [
       "0.0002768199737863686"
      ]
     },
     "execution_count": 206,
     "metadata": {},
     "output_type": "execute_result"
    }
   ],
   "source": [
    "svr_poly_AGE = SVR(kernel = 'poly')\n",
    "svr_poly_AGE.fit(X_AGE_train, Y_AGE_train)\n",
    "\n",
    "svr_poly_AGE_acc = svr_poly_AGE.score(X_AGE_test, Y_AGE_test)\n",
    "svr_poly_AGE_acc"
   ]
  },
  {
   "cell_type": "code",
   "execution_count": 207,
   "metadata": {},
   "outputs": [
    {
     "data": {
      "text/plain": [
       "-0.12582068588546602"
      ]
     },
     "execution_count": 207,
     "metadata": {},
     "output_type": "execute_result"
    }
   ],
   "source": [
    "svr_linear_AGE = SVR(kernel = 'linear')\n",
    "svr_linear_AGE.fit(X_AGE_train, Y_AGE_train)\n",
    "\n",
    "svr_linear_AGE_acc = svr_linear_AGE.score(X_AGE_test, Y_AGE_test)\n",
    "svr_linear_AGE_acc"
   ]
  },
  {
   "cell_type": "markdown",
   "metadata": {},
   "source": [
    "#### Model evaluation"
   ]
  },
  {
   "cell_type": "code",
   "execution_count": 208,
   "metadata": {},
   "outputs": [],
   "source": [
    "modelAccuracyReg = {'Model': ['Linear_Regression','Decision_Tree', 'Support Vector Regressor'], \n",
    "'Accuracy':[lr_acc,dt_acc,svr_rbf_AGE_acc]}\n",
    "\n",
    "modelAccuracyRegression = pd.DataFrame(modelAccuracyReg)"
   ]
  },
  {
   "cell_type": "code",
   "execution_count": 209,
   "metadata": {},
   "outputs": [
    {
     "data": {
      "text/html": [
       "\n",
       "<div id=\"altair-viz-e9b697ed5d2945ada92d77688d46cccf\"></div>\n",
       "<script type=\"text/javascript\">\n",
       "  (function(spec, embedOpt){\n",
       "    let outputDiv = document.currentScript.previousElementSibling;\n",
       "    if (outputDiv.id !== \"altair-viz-e9b697ed5d2945ada92d77688d46cccf\") {\n",
       "      outputDiv = document.getElementById(\"altair-viz-e9b697ed5d2945ada92d77688d46cccf\");\n",
       "    }\n",
       "    const paths = {\n",
       "      \"vega\": \"https://cdn.jsdelivr.net/npm//vega@5?noext\",\n",
       "      \"vega-lib\": \"https://cdn.jsdelivr.net/npm//vega-lib?noext\",\n",
       "      \"vega-lite\": \"https://cdn.jsdelivr.net/npm//vega-lite@4.8.1?noext\",\n",
       "      \"vega-embed\": \"https://cdn.jsdelivr.net/npm//vega-embed@6?noext\",\n",
       "    };\n",
       "\n",
       "    function loadScript(lib) {\n",
       "      return new Promise(function(resolve, reject) {\n",
       "        var s = document.createElement('script');\n",
       "        s.src = paths[lib];\n",
       "        s.async = true;\n",
       "        s.onload = () => resolve(paths[lib]);\n",
       "        s.onerror = () => reject(`Error loading script: ${paths[lib]}`);\n",
       "        document.getElementsByTagName(\"head\")[0].appendChild(s);\n",
       "      });\n",
       "    }\n",
       "\n",
       "    function showError(err) {\n",
       "      outputDiv.innerHTML = `<div class=\"error\" style=\"color:red;\">${err}</div>`;\n",
       "      throw err;\n",
       "    }\n",
       "\n",
       "    function displayChart(vegaEmbed) {\n",
       "      vegaEmbed(outputDiv, spec, embedOpt)\n",
       "        .catch(err => showError(`Javascript Error: ${err.message}<br>This usually means there's a typo in your chart specification. See the javascript console for the full traceback.`));\n",
       "    }\n",
       "\n",
       "    if(typeof define === \"function\" && define.amd) {\n",
       "      requirejs.config({paths});\n",
       "      require([\"vega-embed\"], displayChart, err => showError(`Error loading script: ${err.message}`));\n",
       "    } else if (typeof vegaEmbed === \"function\") {\n",
       "      displayChart(vegaEmbed);\n",
       "    } else {\n",
       "      loadScript(\"vega\")\n",
       "        .then(() => loadScript(\"vega-lite\"))\n",
       "        .then(() => loadScript(\"vega-embed\"))\n",
       "        .catch(showError)\n",
       "        .then(() => displayChart(vegaEmbed));\n",
       "    }\n",
       "  })({\"config\": {\"view\": {\"continuousWidth\": 400, \"continuousHeight\": 300}}, \"data\": {\"name\": \"data-c88ba55ac060b1f3dc2b321379b4f950\"}, \"mark\": \"bar\", \"encoding\": {\"color\": {\"condition\": {\"value\": \"green\", \"test\": \"(datum.Accuracy > 0.7)\"}, \"value\": \"red\"}, \"x\": {\"type\": \"ordinal\", \"field\": \"Model\"}, \"y\": {\"type\": \"quantitative\", \"field\": \"Accuracy\"}}, \"width\": 600, \"$schema\": \"https://vega.github.io/schema/vega-lite/v4.8.1.json\", \"datasets\": {\"data-c88ba55ac060b1f3dc2b321379b4f950\": [{\"Model\": \"Linear_Regression\", \"Accuracy\": 0.008927889255451293}, {\"Model\": \"Decision_Tree\", \"Accuracy\": 0.762224139757748}, {\"Model\": \"Support Vector Regressor\", \"Accuracy\": 0.01081817035243604}]}}, {\"mode\": \"vega-lite\"});\n",
       "</script>"
      ],
      "text/plain": [
       "alt.Chart(...)"
      ]
     },
     "execution_count": 209,
     "metadata": {},
     "output_type": "execute_result"
    }
   ],
   "source": [
    "alt.Chart(modelAccuracyRegression).mark_bar().encode(\n",
    "    x='Model:O',\n",
    "    y=\"Accuracy:Q\",\n",
    "    color=alt.condition(\n",
    "        alt.datum.Accuracy > 0.7, \n",
    "        alt.value('green'),     \n",
    "        alt.value('red')   \n",
    "    )\n",
    ").properties(width=600)"
   ]
  },
  {
   "cell_type": "code",
   "execution_count": null,
   "metadata": {},
   "outputs": [],
   "source": []
  }
 ],
 "metadata": {
  "interpreter": {
   "hash": "a93f23f23e83050b3a8b9fd7501ef6ebc39a95d11f841ed771982541169d3942"
  },
  "kernelspec": {
   "display_name": "Python 3",
   "language": "python",
   "name": "python3"
  },
  "language_info": {
   "codemirror_mode": {
    "name": "ipython",
    "version": 3
   },
   "file_extension": ".py",
   "mimetype": "text/x-python",
   "name": "python",
   "nbconvert_exporter": "python",
   "pygments_lexer": "ipython3",
   "version": "3.8.5"
  }
 },
 "nbformat": 4,
 "nbformat_minor": 2
}
