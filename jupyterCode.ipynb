{
 "cells": [
  {
   "cell_type": "markdown",
   "metadata": {},
   "source": [
    "# Preprocessing"
   ]
  },
  {
   "cell_type": "markdown",
   "metadata": {},
   "source": [
    "## Load libraries"
   ]
  },
  {
   "cell_type": "code",
   "execution_count": 104,
   "metadata": {},
   "outputs": [],
   "source": [
    "import pandas as pd\n",
    "import seaborn as sns\n",
    "import matplotlib.pyplot as plt\n",
    "import plotly.express as px\n",
    "import altair as alt\n",
    "from apyori import apriori\n",
    "import numpy as np\n",
    "\n",
    "from sklearn.preprocessing import LabelEncoder"
   ]
  },
  {
   "cell_type": "markdown",
   "metadata": {},
   "source": [
    "## Import data"
   ]
  },
  {
   "cell_type": "markdown",
   "metadata": {},
   "source": [
    "### Main dataset"
   ]
  },
  {
   "cell_type": "code",
   "execution_count": 2,
   "metadata": {},
   "outputs": [
    {
     "data": {
      "text/html": [
       "<div>\n",
       "<style scoped>\n",
       "    .dataframe tbody tr th:only-of-type {\n",
       "        vertical-align: middle;\n",
       "    }\n",
       "\n",
       "    .dataframe tbody tr th {\n",
       "        vertical-align: top;\n",
       "    }\n",
       "\n",
       "    .dataframe thead th {\n",
       "        text-align: right;\n",
       "    }\n",
       "</style>\n",
       "<table border=\"1\" class=\"dataframe\">\n",
       "  <thead>\n",
       "    <tr style=\"text-align: right;\">\n",
       "      <th></th>\n",
       "      <th>NO</th>\n",
       "      <th>DATE</th>\n",
       "      <th>TIME</th>\n",
       "      <th>RACE</th>\n",
       "      <th>GENDER</th>\n",
       "      <th>BODY_SIZE</th>\n",
       "      <th>AGE_RANGE</th>\n",
       "      <th>WITH_KIDS</th>\n",
       "      <th>KIDS_CATEGORY</th>\n",
       "      <th>BASKET_SIZE</th>\n",
       "      <th>BASKET_COLOUR</th>\n",
       "      <th>ATTIRE</th>\n",
       "      <th>SHIRT_COLOUR</th>\n",
       "      <th>SHIRT_TYPE</th>\n",
       "      <th>PANTS_COLOUR</th>\n",
       "      <th>PANTS_TYPE</th>\n",
       "      <th>WASH_ITEM</th>\n",
       "      <th>WASHER_NO</th>\n",
       "      <th>DRYER_NO</th>\n",
       "      <th>SPECTACLES</th>\n",
       "    </tr>\n",
       "  </thead>\n",
       "  <tbody>\n",
       "    <tr>\n",
       "      <th>0</th>\n",
       "      <td>1</td>\n",
       "      <td>19/10/2015</td>\n",
       "      <td>20:17:50</td>\n",
       "      <td>malay</td>\n",
       "      <td>male</td>\n",
       "      <td>moderate</td>\n",
       "      <td>28.0</td>\n",
       "      <td>yes</td>\n",
       "      <td>young</td>\n",
       "      <td>big</td>\n",
       "      <td>red</td>\n",
       "      <td>casual</td>\n",
       "      <td>blue</td>\n",
       "      <td>short_sleeve</td>\n",
       "      <td>black</td>\n",
       "      <td>short</td>\n",
       "      <td>clothes</td>\n",
       "      <td>3</td>\n",
       "      <td>10</td>\n",
       "      <td>no</td>\n",
       "    </tr>\n",
       "    <tr>\n",
       "      <th>1</th>\n",
       "      <td>2</td>\n",
       "      <td>19/10/2015</td>\n",
       "      <td>20:28:42</td>\n",
       "      <td>indian</td>\n",
       "      <td>male</td>\n",
       "      <td>thin</td>\n",
       "      <td>32.0</td>\n",
       "      <td>no</td>\n",
       "      <td>no_kids</td>\n",
       "      <td>big</td>\n",
       "      <td>green</td>\n",
       "      <td>casual</td>\n",
       "      <td>white</td>\n",
       "      <td>short_sleeve</td>\n",
       "      <td>blue_jeans</td>\n",
       "      <td>long</td>\n",
       "      <td>clothes</td>\n",
       "      <td>6</td>\n",
       "      <td>9</td>\n",
       "      <td>no</td>\n",
       "    </tr>\n",
       "    <tr>\n",
       "      <th>2</th>\n",
       "      <td>3</td>\n",
       "      <td>19/10/2015</td>\n",
       "      <td>20:58:31</td>\n",
       "      <td>malay</td>\n",
       "      <td>female</td>\n",
       "      <td>moderate</td>\n",
       "      <td>30.0</td>\n",
       "      <td>no</td>\n",
       "      <td>no_kids</td>\n",
       "      <td>big</td>\n",
       "      <td>blue</td>\n",
       "      <td>casual</td>\n",
       "      <td>red</td>\n",
       "      <td>short_sleeve</td>\n",
       "      <td>black</td>\n",
       "      <td>long</td>\n",
       "      <td>clothes</td>\n",
       "      <td>4</td>\n",
       "      <td>10</td>\n",
       "      <td>no</td>\n",
       "    </tr>\n",
       "    <tr>\n",
       "      <th>3</th>\n",
       "      <td>4</td>\n",
       "      <td>19/10/2015</td>\n",
       "      <td>21:31:28</td>\n",
       "      <td>indian</td>\n",
       "      <td>male</td>\n",
       "      <td>thin</td>\n",
       "      <td>51.0</td>\n",
       "      <td>no</td>\n",
       "      <td>no_kids</td>\n",
       "      <td>NaN</td>\n",
       "      <td>black</td>\n",
       "      <td>casual</td>\n",
       "      <td>black</td>\n",
       "      <td>short_sleeve</td>\n",
       "      <td>yellow</td>\n",
       "      <td>short</td>\n",
       "      <td>clothes</td>\n",
       "      <td>5</td>\n",
       "      <td>9</td>\n",
       "      <td>no</td>\n",
       "    </tr>\n",
       "    <tr>\n",
       "      <th>4</th>\n",
       "      <td>5</td>\n",
       "      <td>19/10/2015</td>\n",
       "      <td>21:40:28</td>\n",
       "      <td>indian</td>\n",
       "      <td>male</td>\n",
       "      <td>moderate</td>\n",
       "      <td>34.0</td>\n",
       "      <td>no</td>\n",
       "      <td>no_kids</td>\n",
       "      <td>big</td>\n",
       "      <td>blue</td>\n",
       "      <td>casual</td>\n",
       "      <td>blue</td>\n",
       "      <td>short_sleeve</td>\n",
       "      <td>white</td>\n",
       "      <td>long</td>\n",
       "      <td>clothes</td>\n",
       "      <td>3</td>\n",
       "      <td>9</td>\n",
       "      <td>no</td>\n",
       "    </tr>\n",
       "  </tbody>\n",
       "</table>\n",
       "</div>"
      ],
      "text/plain": [
       "   NO        DATE      TIME    RACE  GENDER BODY_SIZE  AGE_RANGE WITH_KIDS  \\\n",
       "0   1  19/10/2015  20:17:50   malay    male  moderate       28.0       yes   \n",
       "1   2  19/10/2015  20:28:42  indian    male      thin       32.0        no   \n",
       "2   3  19/10/2015  20:58:31   malay  female  moderate       30.0        no   \n",
       "3   4  19/10/2015  21:31:28  indian    male      thin       51.0        no   \n",
       "4   5  19/10/2015  21:40:28  indian    male  moderate       34.0        no   \n",
       "\n",
       "  KIDS_CATEGORY BASKET_SIZE BASKET_COLOUR  ATTIRE SHIRT_COLOUR    SHIRT_TYPE  \\\n",
       "0         young         big           red  casual         blue  short_sleeve   \n",
       "1       no_kids         big         green  casual        white  short_sleeve   \n",
       "2       no_kids         big          blue  casual          red  short_sleeve   \n",
       "3       no_kids         NaN         black  casual        black  short_sleeve   \n",
       "4       no_kids         big          blue  casual         blue  short_sleeve   \n",
       "\n",
       "  PANTS_COLOUR PANTS_TYPE WASH_ITEM  WASHER_NO  DRYER_NO SPECTACLES  \n",
       "0        black      short   clothes          3        10         no  \n",
       "1   blue_jeans       long   clothes          6         9         no  \n",
       "2        black       long   clothes          4        10         no  \n",
       "3       yellow      short   clothes          5         9         no  \n",
       "4        white       long   clothes          3         9         no  "
      ]
     },
     "execution_count": 2,
     "metadata": {},
     "output_type": "execute_result"
    }
   ],
   "source": [
    "# main dataset\n",
    "laundry = pd.read_csv('LaundryData.csv') \n",
    "laundry.columns = map(str.upper, laundry.columns)\n",
    "laundry.head()"
   ]
  },
  {
   "cell_type": "markdown",
   "metadata": {},
   "source": [
    "### Additional dataset"
   ]
  },
  {
   "cell_type": "code",
   "execution_count": 3,
   "metadata": {},
   "outputs": [
    {
     "data": {
      "text/html": [
       "<div>\n",
       "<style scoped>\n",
       "    .dataframe tbody tr th:only-of-type {\n",
       "        vertical-align: middle;\n",
       "    }\n",
       "\n",
       "    .dataframe tbody tr th {\n",
       "        vertical-align: top;\n",
       "    }\n",
       "\n",
       "    .dataframe thead th {\n",
       "        text-align: right;\n",
       "    }\n",
       "</style>\n",
       "<table border=\"1\" class=\"dataframe\">\n",
       "  <thead>\n",
       "    <tr style=\"text-align: right;\">\n",
       "      <th></th>\n",
       "      <th>JAJAHAN</th>\n",
       "      <th>PBT</th>\n",
       "      <th>NAMA PERUMAHAN</th>\n",
       "      <th>LATITUDE</th>\n",
       "      <th>LONGITUDE</th>\n",
       "      <th>BIL RUMAH (UNIT)</th>\n",
       "    </tr>\n",
       "  </thead>\n",
       "  <tbody>\n",
       "    <tr>\n",
       "      <th>0</th>\n",
       "      <td>GUA MUSANG</td>\n",
       "      <td>MAJLIS DAERAH GUA MUSANG</td>\n",
       "      <td>Taman Mesra</td>\n",
       "      <td>4.875802</td>\n",
       "      <td>101.962055</td>\n",
       "      <td>193.0</td>\n",
       "    </tr>\n",
       "    <tr>\n",
       "      <th>1</th>\n",
       "      <td>GUA MUSANG</td>\n",
       "      <td>MAJLIS DAERAH GUA MUSANG</td>\n",
       "      <td>Taman Wangsa Mewangi</td>\n",
       "      <td>4.872028</td>\n",
       "      <td>101.964018</td>\n",
       "      <td>231.0</td>\n",
       "    </tr>\n",
       "    <tr>\n",
       "      <th>2</th>\n",
       "      <td>GUA MUSANG</td>\n",
       "      <td>MAJLIS DAERAH GUA MUSANG</td>\n",
       "      <td>Bandar Baru</td>\n",
       "      <td>4.863622</td>\n",
       "      <td>101.959529</td>\n",
       "      <td>65.0</td>\n",
       "    </tr>\n",
       "    <tr>\n",
       "      <th>3</th>\n",
       "      <td>GUA MUSANG</td>\n",
       "      <td>MAJLIS DAERAH GUA MUSANG</td>\n",
       "      <td>Wisma Sri Galas</td>\n",
       "      <td>4.86336</td>\n",
       "      <td>101.961087</td>\n",
       "      <td>89.0</td>\n",
       "    </tr>\n",
       "    <tr>\n",
       "      <th>4</th>\n",
       "      <td>GUA MUSANG</td>\n",
       "      <td>MAJLIS DAERAH GUA MUSANG</td>\n",
       "      <td>Taman Titiwangsa</td>\n",
       "      <td>4.862772</td>\n",
       "      <td>101.954591</td>\n",
       "      <td>252.0</td>\n",
       "    </tr>\n",
       "  </tbody>\n",
       "</table>\n",
       "</div>"
      ],
      "text/plain": [
       "      JAJAHAN                       PBT        NAMA PERUMAHAN  LATITUDE  \\\n",
       "0  GUA MUSANG  MAJLIS DAERAH GUA MUSANG           Taman Mesra  4.875802   \n",
       "1  GUA MUSANG  MAJLIS DAERAH GUA MUSANG  Taman Wangsa Mewangi  4.872028   \n",
       "2  GUA MUSANG  MAJLIS DAERAH GUA MUSANG           Bandar Baru  4.863622   \n",
       "3  GUA MUSANG  MAJLIS DAERAH GUA MUSANG       Wisma Sri Galas   4.86336   \n",
       "4  GUA MUSANG  MAJLIS DAERAH GUA MUSANG      Taman Titiwangsa  4.862772   \n",
       "\n",
       "    LONGITUDE  BIL RUMAH (UNIT)  \n",
       "0  101.962055             193.0  \n",
       "1  101.964018             231.0  \n",
       "2  101.959529              65.0  \n",
       "3  101.961087              89.0  \n",
       "4  101.954591             252.0  "
      ]
     },
     "metadata": {},
     "output_type": "display_data"
    },
    {
     "data": {
      "text/html": [
       "<div>\n",
       "<style scoped>\n",
       "    .dataframe tbody tr th:only-of-type {\n",
       "        vertical-align: middle;\n",
       "    }\n",
       "\n",
       "    .dataframe tbody tr th {\n",
       "        vertical-align: top;\n",
       "    }\n",
       "\n",
       "    .dataframe thead th {\n",
       "        text-align: right;\n",
       "    }\n",
       "</style>\n",
       "<table border=\"1\" class=\"dataframe\">\n",
       "  <thead>\n",
       "    <tr style=\"text-align: right;\">\n",
       "      <th></th>\n",
       "      <th>BIL</th>\n",
       "      <th>NAMA TAMAN</th>\n",
       "      <th>KATEGORI RUMAH</th>\n",
       "      <th>BILANGAN UNIT</th>\n",
       "      <th>JENIS RUMAH</th>\n",
       "    </tr>\n",
       "  </thead>\n",
       "  <tbody>\n",
       "    <tr>\n",
       "      <th>0</th>\n",
       "      <td>1.0</td>\n",
       "      <td>Taman Sentosa (RPA 1)</td>\n",
       "      <td>Rendah</td>\n",
       "      <td>50</td>\n",
       "      <td>Teres Setingkat</td>\n",
       "    </tr>\n",
       "    <tr>\n",
       "      <th>1</th>\n",
       "      <td>2.0</td>\n",
       "      <td>Taman Damai (RPA 2)</td>\n",
       "      <td>Rendah</td>\n",
       "      <td>40</td>\n",
       "      <td>Teres Setingkat</td>\n",
       "    </tr>\n",
       "    <tr>\n",
       "      <th>2</th>\n",
       "      <td>3.0</td>\n",
       "      <td>Taman Aman (RPA 3)</td>\n",
       "      <td>Rendah</td>\n",
       "      <td>96</td>\n",
       "      <td>Teres Setingkat</td>\n",
       "    </tr>\n",
       "    <tr>\n",
       "      <th>3</th>\n",
       "      <td>4.0</td>\n",
       "      <td>Taman Bersatu</td>\n",
       "      <td>Sederhana</td>\n",
       "      <td>35</td>\n",
       "      <td>Teres Setingkat</td>\n",
       "    </tr>\n",
       "    <tr>\n",
       "      <th>4</th>\n",
       "      <td>5.0</td>\n",
       "      <td>Taman Mawar</td>\n",
       "      <td>Rendah</td>\n",
       "      <td>26</td>\n",
       "      <td>Teres Setingkat</td>\n",
       "    </tr>\n",
       "  </tbody>\n",
       "</table>\n",
       "</div>"
      ],
      "text/plain": [
       "   BIL             NAMA TAMAN KATEGORI RUMAH BILANGAN UNIT      JENIS RUMAH\n",
       "0  1.0  Taman Sentosa (RPA 1)         Rendah            50  Teres Setingkat\n",
       "1  2.0    Taman Damai (RPA 2)         Rendah            40  Teres Setingkat\n",
       "2  3.0     Taman Aman (RPA 3)         Rendah            96  Teres Setingkat\n",
       "3  4.0          Taman Bersatu      Sederhana            35  Teres Setingkat\n",
       "4  5.0            Taman Mawar         Rendah            26  Teres Setingkat"
      ]
     },
     "metadata": {},
     "output_type": "display_data"
    },
    {
     "data": {
      "text/html": [
       "<div>\n",
       "<style scoped>\n",
       "    .dataframe tbody tr th:only-of-type {\n",
       "        vertical-align: middle;\n",
       "    }\n",
       "\n",
       "    .dataframe tbody tr th {\n",
       "        vertical-align: top;\n",
       "    }\n",
       "\n",
       "    .dataframe thead th {\n",
       "        text-align: right;\n",
       "    }\n",
       "</style>\n",
       "<table border=\"1\" class=\"dataframe\">\n",
       "  <thead>\n",
       "    <tr style=\"text-align: right;\">\n",
       "      <th></th>\n",
       "      <th>NO</th>\n",
       "      <th>NAMA TAMAN</th>\n",
       "      <th>MUKIM</th>\n",
       "      <th>POSKOD</th>\n",
       "      <th>BILANGAN RUMAH</th>\n",
       "    </tr>\n",
       "  </thead>\n",
       "  <tbody>\n",
       "    <tr>\n",
       "      <th>0</th>\n",
       "      <td>1.0</td>\n",
       "      <td>Taman Maran Impian</td>\n",
       "      <td>MARAN</td>\n",
       "      <td>26500.0</td>\n",
       "      <td>141</td>\n",
       "    </tr>\n",
       "    <tr>\n",
       "      <th>1</th>\n",
       "      <td>2.0</td>\n",
       "      <td>Taman Sri Chedong</td>\n",
       "      <td>MARAN</td>\n",
       "      <td>26500.0</td>\n",
       "      <td>111</td>\n",
       "    </tr>\n",
       "    <tr>\n",
       "      <th>2</th>\n",
       "      <td>3.0</td>\n",
       "      <td>Taman Maran Jaya</td>\n",
       "      <td>MARAN</td>\n",
       "      <td>26500.0</td>\n",
       "      <td>298</td>\n",
       "    </tr>\n",
       "    <tr>\n",
       "      <th>3</th>\n",
       "      <td>4.0</td>\n",
       "      <td>Taman Sri Keramat</td>\n",
       "      <td>MARAN</td>\n",
       "      <td>26500.0</td>\n",
       "      <td>184</td>\n",
       "    </tr>\n",
       "    <tr>\n",
       "      <th>4</th>\n",
       "      <td>5.0</td>\n",
       "      <td>Taman Berkat Mutiara</td>\n",
       "      <td>MARAN</td>\n",
       "      <td>26500.0</td>\n",
       "      <td>36</td>\n",
       "    </tr>\n",
       "  </tbody>\n",
       "</table>\n",
       "</div>"
      ],
      "text/plain": [
       "    NO            NAMA TAMAN  MUKIM   POSKOD  BILANGAN RUMAH\n",
       "0  1.0    Taman Maran Impian  MARAN  26500.0             141\n",
       "1  2.0     Taman Sri Chedong  MARAN  26500.0             111\n",
       "2  3.0      Taman Maran Jaya  MARAN  26500.0             298\n",
       "3  4.0     Taman Sri Keramat  MARAN  26500.0             184\n",
       "4  5.0  Taman Berkat Mutiara  MARAN  26500.0              36"
      ]
     },
     "metadata": {},
     "output_type": "display_data"
    },
    {
     "data": {
      "text/html": [
       "<div>\n",
       "<style scoped>\n",
       "    .dataframe tbody tr th:only-of-type {\n",
       "        vertical-align: middle;\n",
       "    }\n",
       "\n",
       "    .dataframe tbody tr th {\n",
       "        vertical-align: top;\n",
       "    }\n",
       "\n",
       "    .dataframe thead th {\n",
       "        text-align: right;\n",
       "    }\n",
       "</style>\n",
       "<table border=\"1\" class=\"dataframe\">\n",
       "  <thead>\n",
       "    <tr style=\"text-align: right;\">\n",
       "      <th></th>\n",
       "      <th>Bil</th>\n",
       "      <th>Nama Taman</th>\n",
       "      <th>Daerah</th>\n",
       "      <th>Mukim</th>\n",
       "      <th>Poskod</th>\n",
       "      <th>Bilangan Rumah</th>\n",
       "    </tr>\n",
       "  </thead>\n",
       "  <tbody>\n",
       "    <tr>\n",
       "      <th>0</th>\n",
       "      <td>1</td>\n",
       "      <td>TAMAN SHUKOR</td>\n",
       "      <td>Seremban</td>\n",
       "      <td>AMPANGAN</td>\n",
       "      <td>70400</td>\n",
       "      <td>43</td>\n",
       "    </tr>\n",
       "    <tr>\n",
       "      <th>1</th>\n",
       "      <td>2</td>\n",
       "      <td>TAMAN DESA KENANGA INDAH</td>\n",
       "      <td>Seremban</td>\n",
       "      <td>AMPANGAN</td>\n",
       "      <td>70400</td>\n",
       "      <td>30</td>\n",
       "    </tr>\n",
       "    <tr>\n",
       "      <th>2</th>\n",
       "      <td>3</td>\n",
       "      <td>TAMAN VILLA PALMA</td>\n",
       "      <td>Seremban</td>\n",
       "      <td>AMPANGAN</td>\n",
       "      <td>70400</td>\n",
       "      <td>56</td>\n",
       "    </tr>\n",
       "    <tr>\n",
       "      <th>3</th>\n",
       "      <td>4</td>\n",
       "      <td>TAMAN SERI SENTOSA</td>\n",
       "      <td>Seremban</td>\n",
       "      <td>AMPANGAN</td>\n",
       "      <td>70400</td>\n",
       "      <td>28</td>\n",
       "    </tr>\n",
       "    <tr>\n",
       "      <th>4</th>\n",
       "      <td>5</td>\n",
       "      <td>RESIDENSI SIGC</td>\n",
       "      <td>Seremban</td>\n",
       "      <td>AMPANGAN</td>\n",
       "      <td>70400</td>\n",
       "      <td>217</td>\n",
       "    </tr>\n",
       "  </tbody>\n",
       "</table>\n",
       "</div>"
      ],
      "text/plain": [
       "   Bil                Nama Taman    Daerah     Mukim Poskod Bilangan Rumah\n",
       "0    1              TAMAN SHUKOR  Seremban  AMPANGAN  70400             43\n",
       "1    2  TAMAN DESA KENANGA INDAH  Seremban  AMPANGAN  70400             30\n",
       "2    3         TAMAN VILLA PALMA  Seremban  AMPANGAN  70400             56\n",
       "3    4        TAMAN SERI SENTOSA  Seremban  AMPANGAN  70400             28\n",
       "4    5            RESIDENSI SIGC  Seremban  AMPANGAN  70400            217"
      ]
     },
     "metadata": {},
     "output_type": "display_data"
    }
   ],
   "source": [
    "# import additional dataset: Taman perumahan by state = kelantan, negeri sembilan, pahang, perak\n",
    "residentsKelantan = pd.read_excel('TamanPerumahan/KELANTAN.xlsx', skiprows=3)\n",
    "residentsKelantan = residentsKelantan.iloc[:563,:]\n",
    "display(residentsKelantan.head())\n",
    "residentsPerak = pd.read_excel('TamanPerumahan/PENGKALANHULU.xlsx', skiprows=3)\n",
    "residentsPerak = residentsPerak.iloc[:23,:]\n",
    "display(residentsPerak.head())\n",
    "residentsPahang = pd.read_excel('TamanPerumahan/PAHANG.xlsx', skiprows=2)\n",
    "residentsPahang = residentsPahang.iloc[:40,:]\n",
    "display(residentsPahang.head())\n",
    "residentsN9 = pd.read_csv('TamanPerumahan/NEGERISEMBILAN.csv', encoding='cp1252')\n",
    "display(residentsN9.head())"
   ]
  },
  {
   "cell_type": "markdown",
   "metadata": {},
   "source": [
    "## Preprocessing main dataset"
   ]
  },
  {
   "cell_type": "markdown",
   "metadata": {},
   "source": [
    "### 1. What is the quick overview of the data?\n",
    "Get overview of data"
   ]
  },
  {
   "cell_type": "code",
   "execution_count": 5,
   "metadata": {},
   "outputs": [
    {
     "name": "stdout",
     "output_type": "stream",
     "text": [
      "<class 'pandas.core.frame.DataFrame'>\n",
      "RangeIndex: 807 entries, 0 to 806\n",
      "Data columns (total 20 columns):\n",
      " #   Column         Non-Null Count  Dtype  \n",
      "---  ------         --------------  -----  \n",
      " 0   NO             807 non-null    int64  \n",
      " 1   DATE           807 non-null    object \n",
      " 2   TIME           807 non-null    object \n",
      " 3   RACE           797 non-null    object \n",
      " 4   GENDER         793 non-null    object \n",
      " 5   BODY_SIZE      790 non-null    object \n",
      " 6   AGE_RANGE      799 non-null    float64\n",
      " 7   WITH_KIDS      794 non-null    object \n",
      " 8   KIDS_CATEGORY  777 non-null    object \n",
      " 9   BASKET_SIZE    801 non-null    object \n",
      " 10  BASKET_COLOUR  798 non-null    object \n",
      " 11  ATTIRE         776 non-null    object \n",
      " 12  SHIRT_COLOUR   798 non-null    object \n",
      " 13  SHIRT_TYPE     770 non-null    object \n",
      " 14  PANTS_COLOUR   802 non-null    object \n",
      " 15  PANTS_TYPE     798 non-null    object \n",
      " 16  WASH_ITEM      784 non-null    object \n",
      " 17  WASHER_NO      807 non-null    int64  \n",
      " 18  DRYER_NO       807 non-null    int64  \n",
      " 19  SPECTACLES     807 non-null    object \n",
      "dtypes: float64(1), int64(3), object(16)\n",
      "memory usage: 126.2+ KB\n"
     ]
    }
   ],
   "source": [
    "laundry.info()"
   ]
  },
  {
   "cell_type": "markdown",
   "metadata": {},
   "source": [
    "### 2. Is there any missing values or duplicates data? If so, how do we want to deal with it?\n",
    "Dealing null and duplicates data"
   ]
  },
  {
   "cell_type": "code",
   "execution_count": 6,
   "metadata": {},
   "outputs": [
    {
     "data": {
      "text/plain": [
       "NO                0\n",
       "DATE              0\n",
       "TIME              0\n",
       "RACE             10\n",
       "GENDER           14\n",
       "BODY_SIZE        17\n",
       "AGE_RANGE         8\n",
       "WITH_KIDS        13\n",
       "KIDS_CATEGORY    30\n",
       "BASKET_SIZE       6\n",
       "BASKET_COLOUR     9\n",
       "ATTIRE           31\n",
       "SHIRT_COLOUR      9\n",
       "SHIRT_TYPE       37\n",
       "PANTS_COLOUR      5\n",
       "PANTS_TYPE        9\n",
       "WASH_ITEM        23\n",
       "WASHER_NO         0\n",
       "DRYER_NO          0\n",
       "SPECTACLES        0\n",
       "dtype: int64"
      ]
     },
     "execution_count": 6,
     "metadata": {},
     "output_type": "execute_result"
    }
   ],
   "source": [
    "# dearling wih missing values\n",
    "laundry.isna().sum()"
   ]
  },
  {
   "cell_type": "code",
   "execution_count": 7,
   "metadata": {},
   "outputs": [
    {
     "data": {
      "text/plain": [
       "(642, 20)"
      ]
     },
     "execution_count": 7,
     "metadata": {},
     "output_type": "execute_result"
    }
   ],
   "source": [
    "# drop rows with null values\n",
    "laundry = laundry.dropna()\n",
    "laundry.shape"
   ]
  },
  {
   "cell_type": "code",
   "execution_count": 8,
   "metadata": {},
   "outputs": [
    {
     "data": {
      "text/html": [
       "<div>\n",
       "<style scoped>\n",
       "    .dataframe tbody tr th:only-of-type {\n",
       "        vertical-align: middle;\n",
       "    }\n",
       "\n",
       "    .dataframe tbody tr th {\n",
       "        vertical-align: top;\n",
       "    }\n",
       "\n",
       "    .dataframe thead th {\n",
       "        text-align: right;\n",
       "    }\n",
       "</style>\n",
       "<table border=\"1\" class=\"dataframe\">\n",
       "  <thead>\n",
       "    <tr style=\"text-align: right;\">\n",
       "      <th></th>\n",
       "      <th>NO</th>\n",
       "      <th>DATE</th>\n",
       "      <th>TIME</th>\n",
       "      <th>RACE</th>\n",
       "      <th>GENDER</th>\n",
       "      <th>BODY_SIZE</th>\n",
       "      <th>AGE_RANGE</th>\n",
       "      <th>WITH_KIDS</th>\n",
       "      <th>KIDS_CATEGORY</th>\n",
       "      <th>BASKET_SIZE</th>\n",
       "      <th>BASKET_COLOUR</th>\n",
       "      <th>ATTIRE</th>\n",
       "      <th>SHIRT_COLOUR</th>\n",
       "      <th>SHIRT_TYPE</th>\n",
       "      <th>PANTS_COLOUR</th>\n",
       "      <th>PANTS_TYPE</th>\n",
       "      <th>WASH_ITEM</th>\n",
       "      <th>WASHER_NO</th>\n",
       "      <th>DRYER_NO</th>\n",
       "      <th>SPECTACLES</th>\n",
       "    </tr>\n",
       "  </thead>\n",
       "  <tbody>\n",
       "    <tr>\n",
       "      <th>0</th>\n",
       "      <td>1</td>\n",
       "      <td>19/10/2015</td>\n",
       "      <td>20:17:50</td>\n",
       "      <td>malay</td>\n",
       "      <td>male</td>\n",
       "      <td>moderate</td>\n",
       "      <td>28.0</td>\n",
       "      <td>yes</td>\n",
       "      <td>young</td>\n",
       "      <td>big</td>\n",
       "      <td>red</td>\n",
       "      <td>casual</td>\n",
       "      <td>blue</td>\n",
       "      <td>short_sleeve</td>\n",
       "      <td>black</td>\n",
       "      <td>short</td>\n",
       "      <td>clothes</td>\n",
       "      <td>3</td>\n",
       "      <td>10</td>\n",
       "      <td>no</td>\n",
       "    </tr>\n",
       "    <tr>\n",
       "      <th>1</th>\n",
       "      <td>2</td>\n",
       "      <td>19/10/2015</td>\n",
       "      <td>20:28:42</td>\n",
       "      <td>indian</td>\n",
       "      <td>male</td>\n",
       "      <td>thin</td>\n",
       "      <td>32.0</td>\n",
       "      <td>no</td>\n",
       "      <td>no_kids</td>\n",
       "      <td>big</td>\n",
       "      <td>green</td>\n",
       "      <td>casual</td>\n",
       "      <td>white</td>\n",
       "      <td>short_sleeve</td>\n",
       "      <td>blue_jeans</td>\n",
       "      <td>long</td>\n",
       "      <td>clothes</td>\n",
       "      <td>6</td>\n",
       "      <td>9</td>\n",
       "      <td>no</td>\n",
       "    </tr>\n",
       "    <tr>\n",
       "      <th>2</th>\n",
       "      <td>3</td>\n",
       "      <td>19/10/2015</td>\n",
       "      <td>20:58:31</td>\n",
       "      <td>malay</td>\n",
       "      <td>female</td>\n",
       "      <td>moderate</td>\n",
       "      <td>30.0</td>\n",
       "      <td>no</td>\n",
       "      <td>no_kids</td>\n",
       "      <td>big</td>\n",
       "      <td>blue</td>\n",
       "      <td>casual</td>\n",
       "      <td>red</td>\n",
       "      <td>short_sleeve</td>\n",
       "      <td>black</td>\n",
       "      <td>long</td>\n",
       "      <td>clothes</td>\n",
       "      <td>4</td>\n",
       "      <td>10</td>\n",
       "      <td>no</td>\n",
       "    </tr>\n",
       "    <tr>\n",
       "      <th>4</th>\n",
       "      <td>5</td>\n",
       "      <td>19/10/2015</td>\n",
       "      <td>21:40:28</td>\n",
       "      <td>indian</td>\n",
       "      <td>male</td>\n",
       "      <td>moderate</td>\n",
       "      <td>34.0</td>\n",
       "      <td>no</td>\n",
       "      <td>no_kids</td>\n",
       "      <td>big</td>\n",
       "      <td>blue</td>\n",
       "      <td>casual</td>\n",
       "      <td>blue</td>\n",
       "      <td>short_sleeve</td>\n",
       "      <td>white</td>\n",
       "      <td>long</td>\n",
       "      <td>clothes</td>\n",
       "      <td>3</td>\n",
       "      <td>9</td>\n",
       "      <td>no</td>\n",
       "    </tr>\n",
       "    <tr>\n",
       "      <th>8</th>\n",
       "      <td>9</td>\n",
       "      <td>20/10/2015</td>\n",
       "      <td>0:45:19</td>\n",
       "      <td>indian</td>\n",
       "      <td>male</td>\n",
       "      <td>thin</td>\n",
       "      <td>30.0</td>\n",
       "      <td>no</td>\n",
       "      <td>no_kids</td>\n",
       "      <td>small</td>\n",
       "      <td>purple</td>\n",
       "      <td>casual</td>\n",
       "      <td>white</td>\n",
       "      <td>short_sleeve</td>\n",
       "      <td>black</td>\n",
       "      <td>short</td>\n",
       "      <td>clothes</td>\n",
       "      <td>6</td>\n",
       "      <td>10</td>\n",
       "      <td>no</td>\n",
       "    </tr>\n",
       "    <tr>\n",
       "      <th>...</th>\n",
       "      <td>...</td>\n",
       "      <td>...</td>\n",
       "      <td>...</td>\n",
       "      <td>...</td>\n",
       "      <td>...</td>\n",
       "      <td>...</td>\n",
       "      <td>...</td>\n",
       "      <td>...</td>\n",
       "      <td>...</td>\n",
       "      <td>...</td>\n",
       "      <td>...</td>\n",
       "      <td>...</td>\n",
       "      <td>...</td>\n",
       "      <td>...</td>\n",
       "      <td>...</td>\n",
       "      <td>...</td>\n",
       "      <td>...</td>\n",
       "      <td>...</td>\n",
       "      <td>...</td>\n",
       "      <td>...</td>\n",
       "    </tr>\n",
       "    <tr>\n",
       "      <th>802</th>\n",
       "      <td>803</td>\n",
       "      <td>09/12/2015</td>\n",
       "      <td>20:05:46</td>\n",
       "      <td>malay</td>\n",
       "      <td>female</td>\n",
       "      <td>moderate</td>\n",
       "      <td>45.0</td>\n",
       "      <td>no</td>\n",
       "      <td>no_kids</td>\n",
       "      <td>small</td>\n",
       "      <td>white</td>\n",
       "      <td>casual</td>\n",
       "      <td>red</td>\n",
       "      <td>long sleeve</td>\n",
       "      <td>black</td>\n",
       "      <td>long</td>\n",
       "      <td>clothes</td>\n",
       "      <td>3</td>\n",
       "      <td>10</td>\n",
       "      <td>no</td>\n",
       "    </tr>\n",
       "    <tr>\n",
       "      <th>803</th>\n",
       "      <td>804</td>\n",
       "      <td>09/12/2015</td>\n",
       "      <td>20:33:01</td>\n",
       "      <td>malay</td>\n",
       "      <td>male</td>\n",
       "      <td>fat</td>\n",
       "      <td>34.0</td>\n",
       "      <td>no</td>\n",
       "      <td>no_kids</td>\n",
       "      <td>big</td>\n",
       "      <td>grey</td>\n",
       "      <td>casual</td>\n",
       "      <td>white</td>\n",
       "      <td>short_sleeve</td>\n",
       "      <td>black</td>\n",
       "      <td>long</td>\n",
       "      <td>blankets</td>\n",
       "      <td>3</td>\n",
       "      <td>7</td>\n",
       "      <td>no</td>\n",
       "    </tr>\n",
       "    <tr>\n",
       "      <th>804</th>\n",
       "      <td>805</td>\n",
       "      <td>09/12/2015</td>\n",
       "      <td>20:37:01</td>\n",
       "      <td>malay</td>\n",
       "      <td>female</td>\n",
       "      <td>moderate</td>\n",
       "      <td>53.0</td>\n",
       "      <td>no</td>\n",
       "      <td>no_kids</td>\n",
       "      <td>big</td>\n",
       "      <td>purple</td>\n",
       "      <td>traditional</td>\n",
       "      <td>pink</td>\n",
       "      <td>long sleeve</td>\n",
       "      <td>pink</td>\n",
       "      <td>long</td>\n",
       "      <td>clothes</td>\n",
       "      <td>3</td>\n",
       "      <td>7</td>\n",
       "      <td>yes</td>\n",
       "    </tr>\n",
       "    <tr>\n",
       "      <th>805</th>\n",
       "      <td>806</td>\n",
       "      <td>09/12/2015</td>\n",
       "      <td>20:42:57</td>\n",
       "      <td>indian</td>\n",
       "      <td>female</td>\n",
       "      <td>moderate</td>\n",
       "      <td>37.0</td>\n",
       "      <td>no</td>\n",
       "      <td>no_kids</td>\n",
       "      <td>big</td>\n",
       "      <td>green</td>\n",
       "      <td>traditional</td>\n",
       "      <td>brown</td>\n",
       "      <td>short_sleeve</td>\n",
       "      <td>black</td>\n",
       "      <td>long</td>\n",
       "      <td>clothes</td>\n",
       "      <td>6</td>\n",
       "      <td>10</td>\n",
       "      <td>no</td>\n",
       "    </tr>\n",
       "    <tr>\n",
       "      <th>806</th>\n",
       "      <td>807</td>\n",
       "      <td>09/12/2015</td>\n",
       "      <td>20:43:20</td>\n",
       "      <td>malay</td>\n",
       "      <td>male</td>\n",
       "      <td>moderate</td>\n",
       "      <td>29.0</td>\n",
       "      <td>no</td>\n",
       "      <td>no_kids</td>\n",
       "      <td>big</td>\n",
       "      <td>blue</td>\n",
       "      <td>casual</td>\n",
       "      <td>white</td>\n",
       "      <td>short_sleeve</td>\n",
       "      <td>black</td>\n",
       "      <td>long</td>\n",
       "      <td>blankets</td>\n",
       "      <td>4</td>\n",
       "      <td>8</td>\n",
       "      <td>no</td>\n",
       "    </tr>\n",
       "  </tbody>\n",
       "</table>\n",
       "<p>642 rows × 20 columns</p>\n",
       "</div>"
      ],
      "text/plain": [
       "      NO        DATE      TIME    RACE  GENDER BODY_SIZE  AGE_RANGE WITH_KIDS  \\\n",
       "0      1  19/10/2015  20:17:50   malay    male  moderate       28.0       yes   \n",
       "1      2  19/10/2015  20:28:42  indian    male      thin       32.0        no   \n",
       "2      3  19/10/2015  20:58:31   malay  female  moderate       30.0        no   \n",
       "4      5  19/10/2015  21:40:28  indian    male  moderate       34.0        no   \n",
       "8      9  20/10/2015   0:45:19  indian    male      thin       30.0        no   \n",
       "..   ...         ...       ...     ...     ...       ...        ...       ...   \n",
       "802  803  09/12/2015  20:05:46   malay  female  moderate       45.0        no   \n",
       "803  804  09/12/2015  20:33:01   malay    male       fat       34.0        no   \n",
       "804  805  09/12/2015  20:37:01   malay  female  moderate       53.0        no   \n",
       "805  806  09/12/2015  20:42:57  indian  female  moderate       37.0        no   \n",
       "806  807  09/12/2015  20:43:20   malay    male  moderate       29.0        no   \n",
       "\n",
       "    KIDS_CATEGORY BASKET_SIZE BASKET_COLOUR       ATTIRE SHIRT_COLOUR  \\\n",
       "0           young         big           red       casual         blue   \n",
       "1         no_kids         big         green       casual        white   \n",
       "2         no_kids         big          blue       casual          red   \n",
       "4         no_kids         big          blue       casual         blue   \n",
       "8         no_kids       small        purple       casual        white   \n",
       "..            ...         ...           ...          ...          ...   \n",
       "802       no_kids       small         white       casual          red   \n",
       "803       no_kids         big          grey       casual        white   \n",
       "804       no_kids         big        purple  traditional         pink   \n",
       "805       no_kids         big         green  traditional        brown   \n",
       "806       no_kids         big          blue       casual        white   \n",
       "\n",
       "       SHIRT_TYPE PANTS_COLOUR PANTS_TYPE WASH_ITEM  WASHER_NO  DRYER_NO  \\\n",
       "0    short_sleeve        black      short   clothes          3        10   \n",
       "1    short_sleeve   blue_jeans       long   clothes          6         9   \n",
       "2    short_sleeve        black       long   clothes          4        10   \n",
       "4    short_sleeve        white       long   clothes          3         9   \n",
       "8    short_sleeve        black      short   clothes          6        10   \n",
       "..            ...          ...        ...       ...        ...       ...   \n",
       "802   long sleeve        black       long   clothes          3        10   \n",
       "803  short_sleeve        black       long  blankets          3         7   \n",
       "804   long sleeve         pink       long   clothes          3         7   \n",
       "805  short_sleeve        black       long   clothes          6        10   \n",
       "806  short_sleeve        black       long  blankets          4         8   \n",
       "\n",
       "    SPECTACLES  \n",
       "0           no  \n",
       "1           no  \n",
       "2           no  \n",
       "4           no  \n",
       "8           no  \n",
       "..         ...  \n",
       "802         no  \n",
       "803         no  \n",
       "804        yes  \n",
       "805         no  \n",
       "806         no  \n",
       "\n",
       "[642 rows x 20 columns]"
      ]
     },
     "execution_count": 8,
     "metadata": {},
     "output_type": "execute_result"
    }
   ],
   "source": [
    "# dealing with duplicates data\n",
    "laundry.drop_duplicates()"
   ]
  },
  {
   "cell_type": "markdown",
   "metadata": {},
   "source": [
    "### 3. Are there any columns that require conversion of data type?\n",
    "Data type conversion"
   ]
  },
  {
   "cell_type": "code",
   "execution_count": 9,
   "metadata": {},
   "outputs": [],
   "source": [
    "# change TIME and DATE to it's corresponding data type\n",
    "laundry['TIME'] = pd.to_datetime(laundry['TIME']).dt.time\n",
    "laundry['DATE'] = pd.to_datetime(laundry['DATE'], format='%d/%m/%Y', errors='coerce')"
   ]
  },
  {
   "cell_type": "code",
   "execution_count": 105,
   "metadata": {},
   "outputs": [
    {
     "data": {
      "text/plain": [
       "\"<class 'datetime.time'>\""
      ]
     },
     "execution_count": 105,
     "metadata": {},
     "output_type": "execute_result"
    }
   ],
   "source": [
    "str(type(laundry['TIME'][0]))"
   ]
  },
  {
   "cell_type": "markdown",
   "metadata": {},
   "source": [
    "### 4. Can I add an extra data point?\n",
    "Derived the existing column to add new columns"
   ]
  },
  {
   "cell_type": "code",
   "execution_count": 11,
   "metadata": {},
   "outputs": [
    {
     "data": {
      "text/plain": [
       "0    Night\n",
       "1    Night\n",
       "2    Night\n",
       "4    Night\n",
       "8    Night\n",
       "Name: PART_OF_DAY, dtype: category\n",
       "Categories (2, object): ['Day', 'Night']"
      ]
     },
     "execution_count": 11,
     "metadata": {},
     "output_type": "execute_result"
    }
   ],
   "source": [
    "# Binning time into day and night \n",
    "# night = 7pm - 7am, day = 7am - 6.59pm\n",
    "bins = ['19:00:00','07:00:00','18:59:59']\n",
    "labels = [\"Night\",\"Day\",\"Night\"]\n",
    "\n",
    "hours = pd.to_datetime(laundry['TIME'], format='%H:%M:%S').dt.hour\n",
    "laundry['PART_OF_DAY'] = pd.cut(hours,  bins=[0,7,19,24], include_lowest=True,  labels=labels,ordered=False)\n",
    "laundry['PART_OF_DAY'].head()"
   ]
  },
  {
   "cell_type": "code",
   "execution_count": 12,
   "metadata": {},
   "outputs": [
    {
     "data": {
      "text/plain": [
       "0     Monday\n",
       "1     Monday\n",
       "2     Monday\n",
       "4     Monday\n",
       "8    Tuesday\n",
       "Name: PART_OF_WEEK, dtype: object"
      ]
     },
     "execution_count": 12,
     "metadata": {},
     "output_type": "execute_result"
    }
   ],
   "source": [
    "# Binning date into days\n",
    "days = laundry['DATE'].dt.dayofweek #gives only the index(0-monday,6-sunday)\n",
    "mappingtoDays = {0:'Monday',1:'Tuesday',2:'Wednesday',3:'Thursday',4:'Friday',5:'Saturday',6:'Sunday'}\n",
    "\n",
    "laundry['PART_OF_WEEK'] = days\n",
    "laundry['PART_OF_WEEK'] = laundry['PART_OF_WEEK'].map(mappingtoDays)\n",
    "laundry['PART_OF_WEEK'].head()"
   ]
  },
  {
   "cell_type": "code",
   "execution_count": 13,
   "metadata": {},
   "outputs": [
    {
     "data": {
      "text/plain": [
       "Adults          331\n",
       "Older adults    248\n",
       "Young            63\n",
       "Name: AGE_CATEGORY, dtype: int64"
      ]
     },
     "execution_count": 13,
     "metadata": {},
     "output_type": "execute_result"
    }
   ],
   "source": [
    "# Binning age into young, adult, senior citizen\n",
    "laundry[\"AGE_CATEGORY\"] = pd.cut(laundry[\"AGE_RANGE\"], bins=[1,30,45,70], labels=[\"Young\",\"Adults\",\"Older adults\"])\n",
    "laundry['AGE_CATEGORY'].value_counts()"
   ]
  },
  {
   "cell_type": "markdown",
   "metadata": {},
   "source": [
    "### 5. Is there any outliers in the data? Is the outliers an error or else?\n",
    "Outlier analysis\n"
   ]
  },
  {
   "cell_type": "code",
   "execution_count": 14,
   "metadata": {},
   "outputs": [
    {
     "data": {
      "text/html": [
       "\n",
       "<div id=\"altair-viz-e6f70e91e3184f9fa92f286f726f2276\"></div>\n",
       "<script type=\"text/javascript\">\n",
       "  (function(spec, embedOpt){\n",
       "    let outputDiv = document.currentScript.previousElementSibling;\n",
       "    if (outputDiv.id !== \"altair-viz-e6f70e91e3184f9fa92f286f726f2276\") {\n",
       "      outputDiv = document.getElementById(\"altair-viz-e6f70e91e3184f9fa92f286f726f2276\");\n",
       "    }\n",
       "    const paths = {\n",
       "      \"vega\": \"https://cdn.jsdelivr.net/npm//vega@5?noext\",\n",
       "      \"vega-lib\": \"https://cdn.jsdelivr.net/npm//vega-lib?noext\",\n",
       "      \"vega-lite\": \"https://cdn.jsdelivr.net/npm//vega-lite@4.8.1?noext\",\n",
       "      \"vega-embed\": \"https://cdn.jsdelivr.net/npm//vega-embed@6?noext\",\n",
       "    };\n",
       "\n",
       "    function loadScript(lib) {\n",
       "      return new Promise(function(resolve, reject) {\n",
       "        var s = document.createElement('script');\n",
       "        s.src = paths[lib];\n",
       "        s.async = true;\n",
       "        s.onload = () => resolve(paths[lib]);\n",
       "        s.onerror = () => reject(`Error loading script: ${paths[lib]}`);\n",
       "        document.getElementsByTagName(\"head\")[0].appendChild(s);\n",
       "      });\n",
       "    }\n",
       "\n",
       "    function showError(err) {\n",
       "      outputDiv.innerHTML = `<div class=\"error\" style=\"color:red;\">${err}</div>`;\n",
       "      throw err;\n",
       "    }\n",
       "\n",
       "    function displayChart(vegaEmbed) {\n",
       "      vegaEmbed(outputDiv, spec, embedOpt)\n",
       "        .catch(err => showError(`Javascript Error: ${err.message}<br>This usually means there's a typo in your chart specification. See the javascript console for the full traceback.`));\n",
       "    }\n",
       "\n",
       "    if(typeof define === \"function\" && define.amd) {\n",
       "      requirejs.config({paths});\n",
       "      require([\"vega-embed\"], displayChart, err => showError(`Error loading script: ${err.message}`));\n",
       "    } else if (typeof vegaEmbed === \"function\") {\n",
       "      displayChart(vegaEmbed);\n",
       "    } else {\n",
       "      loadScript(\"vega\")\n",
       "        .then(() => loadScript(\"vega-lite\"))\n",
       "        .then(() => loadScript(\"vega-embed\"))\n",
       "        .catch(showError)\n",
       "        .then(() => displayChart(vegaEmbed));\n",
       "    }\n",
       "  })({\"config\": {\"view\": {\"continuousWidth\": 400, \"continuousHeight\": 300}}, \"data\": {\"name\": \"data-5d38a1821299b2583e4d12befa50051b\"}, \"mark\": {\"type\": \"boxplot\", \"size\": 100}, \"encoding\": {\"color\": {\"type\": \"nominal\", \"field\": \"GENDER\"}, \"x\": {\"type\": \"nominal\", \"field\": \"GENDER\"}, \"y\": {\"type\": \"quantitative\", \"field\": \"AGE_RANGE\"}}, \"height\": 400, \"width\": 1000, \"$schema\": \"https://vega.github.io/schema/vega-lite/v4.8.1.json\", \"datasets\": {\"data-5d38a1821299b2583e4d12befa50051b\": [{\"GENDER\": \"male\", \"AGE_RANGE\": 28.0}, {\"GENDER\": \"male\", \"AGE_RANGE\": 32.0}, {\"GENDER\": \"female\", \"AGE_RANGE\": 30.0}, {\"GENDER\": \"male\", \"AGE_RANGE\": 34.0}, {\"GENDER\": \"male\", \"AGE_RANGE\": 30.0}, {\"GENDER\": \"male\", \"AGE_RANGE\": 32.0}, {\"GENDER\": \"female\", \"AGE_RANGE\": 55.0}, {\"GENDER\": \"female\", \"AGE_RANGE\": 55.0}, {\"GENDER\": \"female\", \"AGE_RANGE\": 50.0}, {\"GENDER\": \"male\", \"AGE_RANGE\": 34.0}, {\"GENDER\": \"female\", \"AGE_RANGE\": 44.0}, {\"GENDER\": \"female\", \"AGE_RANGE\": 42.0}, {\"GENDER\": \"male\", \"AGE_RANGE\": 40.0}, {\"GENDER\": \"male\", \"AGE_RANGE\": 39.0}, {\"GENDER\": \"female\", \"AGE_RANGE\": 55.0}, {\"GENDER\": \"female\", \"AGE_RANGE\": 35.0}, {\"GENDER\": \"female\", \"AGE_RANGE\": 31.0}, {\"GENDER\": \"female\", \"AGE_RANGE\": 34.0}, {\"GENDER\": \"female\", \"AGE_RANGE\": 36.0}, {\"GENDER\": \"female\", \"AGE_RANGE\": 51.0}, {\"GENDER\": \"female\", \"AGE_RANGE\": 46.0}, {\"GENDER\": \"female\", \"AGE_RANGE\": 51.0}, {\"GENDER\": \"male\", \"AGE_RANGE\": 48.0}, {\"GENDER\": \"female\", \"AGE_RANGE\": 28.0}, {\"GENDER\": \"male\", \"AGE_RANGE\": 49.0}, {\"GENDER\": \"male\", \"AGE_RANGE\": 48.0}, {\"GENDER\": \"female\", \"AGE_RANGE\": 42.0}, {\"GENDER\": \"female\", \"AGE_RANGE\": 42.0}, {\"GENDER\": \"male\", \"AGE_RANGE\": 54.0}, {\"GENDER\": \"female\", \"AGE_RANGE\": 39.0}, {\"GENDER\": \"male\", \"AGE_RANGE\": 53.0}, {\"GENDER\": \"male\", \"AGE_RANGE\": 29.0}, {\"GENDER\": \"male\", \"AGE_RANGE\": 43.0}, {\"GENDER\": \"female\", \"AGE_RANGE\": 29.0}, {\"GENDER\": \"female\", \"AGE_RANGE\": 50.0}, {\"GENDER\": \"male\", \"AGE_RANGE\": 28.0}, {\"GENDER\": \"female\", \"AGE_RANGE\": 55.0}, {\"GENDER\": \"male\", \"AGE_RANGE\": 33.0}, {\"GENDER\": \"male\", \"AGE_RANGE\": 49.0}, {\"GENDER\": \"male\", \"AGE_RANGE\": 42.0}, {\"GENDER\": \"female\", \"AGE_RANGE\": 45.0}, {\"GENDER\": \"male\", \"AGE_RANGE\": 30.0}, {\"GENDER\": \"female\", \"AGE_RANGE\": 31.0}, {\"GENDER\": \"male\", \"AGE_RANGE\": 54.0}, {\"GENDER\": \"male\", \"AGE_RANGE\": 54.0}, {\"GENDER\": \"female\", \"AGE_RANGE\": 45.0}, {\"GENDER\": \"male\", \"AGE_RANGE\": 38.0}, {\"GENDER\": \"female\", \"AGE_RANGE\": 48.0}, {\"GENDER\": \"female\", \"AGE_RANGE\": 42.0}, {\"GENDER\": \"male\", \"AGE_RANGE\": 53.0}, {\"GENDER\": \"female\", \"AGE_RANGE\": 40.0}, {\"GENDER\": \"female\", \"AGE_RANGE\": 53.0}, {\"GENDER\": \"male\", \"AGE_RANGE\": 49.0}, {\"GENDER\": \"male\", \"AGE_RANGE\": 52.0}, {\"GENDER\": \"male\", \"AGE_RANGE\": 32.0}, {\"GENDER\": \"male\", \"AGE_RANGE\": 34.0}, {\"GENDER\": \"male\", \"AGE_RANGE\": 35.0}, {\"GENDER\": \"female\", \"AGE_RANGE\": 49.0}, {\"GENDER\": \"female\", \"AGE_RANGE\": 33.0}, {\"GENDER\": \"female\", \"AGE_RANGE\": 55.0}, {\"GENDER\": \"male\", \"AGE_RANGE\": 55.0}, {\"GENDER\": \"female\", \"AGE_RANGE\": 49.0}, {\"GENDER\": \"male\", \"AGE_RANGE\": 46.0}, {\"GENDER\": \"female\", \"AGE_RANGE\": 41.0}, {\"GENDER\": \"female\", \"AGE_RANGE\": 53.0}, {\"GENDER\": \"male\", \"AGE_RANGE\": 41.0}, {\"GENDER\": \"male\", \"AGE_RANGE\": 55.0}, {\"GENDER\": \"female\", \"AGE_RANGE\": 34.0}, {\"GENDER\": \"female\", \"AGE_RANGE\": 40.0}, {\"GENDER\": \"male\", \"AGE_RANGE\": 44.0}, {\"GENDER\": \"male\", \"AGE_RANGE\": 50.0}, {\"GENDER\": \"male\", \"AGE_RANGE\": 54.0}, {\"GENDER\": \"male\", \"AGE_RANGE\": 44.0}, {\"GENDER\": \"male\", \"AGE_RANGE\": 32.0}, {\"GENDER\": \"female\", \"AGE_RANGE\": 32.0}, {\"GENDER\": \"male\", \"AGE_RANGE\": 47.0}, {\"GENDER\": \"female\", \"AGE_RANGE\": 30.0}, {\"GENDER\": \"male\", \"AGE_RANGE\": 31.0}, {\"GENDER\": \"female\", \"AGE_RANGE\": 39.0}, {\"GENDER\": \"male\", \"AGE_RANGE\": 40.0}, {\"GENDER\": \"female\", \"AGE_RANGE\": 52.0}, {\"GENDER\": \"male\", \"AGE_RANGE\": 33.0}, {\"GENDER\": \"male\", \"AGE_RANGE\": 47.0}, {\"GENDER\": \"male\", \"AGE_RANGE\": 53.0}, {\"GENDER\": \"male\", \"AGE_RANGE\": 40.0}, {\"GENDER\": \"female\", \"AGE_RANGE\": 31.0}, {\"GENDER\": \"female\", \"AGE_RANGE\": 41.0}, {\"GENDER\": \"female\", \"AGE_RANGE\": 41.0}, {\"GENDER\": \"female\", \"AGE_RANGE\": 30.0}, {\"GENDER\": \"male\", \"AGE_RANGE\": 36.0}, {\"GENDER\": \"male\", \"AGE_RANGE\": 53.0}, {\"GENDER\": \"female\", \"AGE_RANGE\": 39.0}, {\"GENDER\": \"female\", \"AGE_RANGE\": 48.0}, {\"GENDER\": \"male\", \"AGE_RANGE\": 50.0}, {\"GENDER\": \"male\", \"AGE_RANGE\": 41.0}, {\"GENDER\": \"male\", \"AGE_RANGE\": 53.0}, {\"GENDER\": \"male\", \"AGE_RANGE\": 51.0}, {\"GENDER\": \"male\", \"AGE_RANGE\": 31.0}, {\"GENDER\": \"female\", \"AGE_RANGE\": 50.0}, {\"GENDER\": \"male\", \"AGE_RANGE\": 40.0}, {\"GENDER\": \"female\", \"AGE_RANGE\": 54.0}, {\"GENDER\": \"female\", \"AGE_RANGE\": 39.0}, {\"GENDER\": \"male\", \"AGE_RANGE\": 41.0}, {\"GENDER\": \"male\", \"AGE_RANGE\": 41.0}, {\"GENDER\": \"female\", \"AGE_RANGE\": 29.0}, {\"GENDER\": \"male\", \"AGE_RANGE\": 42.0}, {\"GENDER\": \"female\", \"AGE_RANGE\": 30.0}, {\"GENDER\": \"male\", \"AGE_RANGE\": 54.0}, {\"GENDER\": \"female\", \"AGE_RANGE\": 47.0}, {\"GENDER\": \"female\", \"AGE_RANGE\": 46.0}, {\"GENDER\": \"male\", \"AGE_RANGE\": 41.0}, {\"GENDER\": \"male\", \"AGE_RANGE\": 41.0}, {\"GENDER\": \"female\", \"AGE_RANGE\": 42.0}, {\"GENDER\": \"female\", \"AGE_RANGE\": 32.0}, {\"GENDER\": \"male\", \"AGE_RANGE\": 35.0}, {\"GENDER\": \"female\", \"AGE_RANGE\": 45.0}, {\"GENDER\": \"male\", \"AGE_RANGE\": 35.0}, {\"GENDER\": \"female\", \"AGE_RANGE\": 47.0}, {\"GENDER\": \"male\", \"AGE_RANGE\": 34.0}, {\"GENDER\": \"female\", \"AGE_RANGE\": 44.0}, {\"GENDER\": \"male\", \"AGE_RANGE\": 38.0}, {\"GENDER\": \"male\", \"AGE_RANGE\": 49.0}, {\"GENDER\": \"female\", \"AGE_RANGE\": 47.0}, {\"GENDER\": \"female\", \"AGE_RANGE\": 48.0}, {\"GENDER\": \"male\", \"AGE_RANGE\": 52.0}, {\"GENDER\": \"male\", \"AGE_RANGE\": 29.0}, {\"GENDER\": \"male\", \"AGE_RANGE\": 44.0}, {\"GENDER\": \"male\", \"AGE_RANGE\": 50.0}, {\"GENDER\": \"female\", \"AGE_RANGE\": 34.0}, {\"GENDER\": \"female\", \"AGE_RANGE\": 53.0}, {\"GENDER\": \"male\", \"AGE_RANGE\": 47.0}, {\"GENDER\": \"male\", \"AGE_RANGE\": 53.0}, {\"GENDER\": \"female\", \"AGE_RANGE\": 36.0}, {\"GENDER\": \"male\", \"AGE_RANGE\": 43.0}, {\"GENDER\": \"female\", \"AGE_RANGE\": 44.0}, {\"GENDER\": \"female\", \"AGE_RANGE\": 50.0}, {\"GENDER\": \"female\", \"AGE_RANGE\": 55.0}, {\"GENDER\": \"female\", \"AGE_RANGE\": 29.0}, {\"GENDER\": \"female\", \"AGE_RANGE\": 28.0}, {\"GENDER\": \"male\", \"AGE_RANGE\": 35.0}, {\"GENDER\": \"male\", \"AGE_RANGE\": 46.0}, {\"GENDER\": \"male\", \"AGE_RANGE\": 50.0}, {\"GENDER\": \"female\", \"AGE_RANGE\": 33.0}, {\"GENDER\": \"female\", \"AGE_RANGE\": 34.0}, {\"GENDER\": \"male\", \"AGE_RANGE\": 40.0}, {\"GENDER\": \"female\", \"AGE_RANGE\": 33.0}, {\"GENDER\": \"female\", \"AGE_RANGE\": 52.0}, {\"GENDER\": \"male\", \"AGE_RANGE\": 54.0}, {\"GENDER\": \"female\", \"AGE_RANGE\": 38.0}, {\"GENDER\": \"male\", \"AGE_RANGE\": 43.0}, {\"GENDER\": \"male\", \"AGE_RANGE\": 45.0}, {\"GENDER\": \"male\", \"AGE_RANGE\": 52.0}, {\"GENDER\": \"female\", \"AGE_RANGE\": 37.0}, {\"GENDER\": \"male\", \"AGE_RANGE\": 41.0}, {\"GENDER\": \"male\", \"AGE_RANGE\": 45.0}, {\"GENDER\": \"female\", \"AGE_RANGE\": 53.0}, {\"GENDER\": \"male\", \"AGE_RANGE\": 39.0}, {\"GENDER\": \"male\", \"AGE_RANGE\": 32.0}, {\"GENDER\": \"female\", \"AGE_RANGE\": 50.0}, {\"GENDER\": \"female\", \"AGE_RANGE\": 33.0}, {\"GENDER\": \"female\", \"AGE_RANGE\": 46.0}, {\"GENDER\": \"female\", \"AGE_RANGE\": 30.0}, {\"GENDER\": \"male\", \"AGE_RANGE\": 55.0}, {\"GENDER\": \"male\", \"AGE_RANGE\": 30.0}, {\"GENDER\": \"male\", \"AGE_RANGE\": 34.0}, {\"GENDER\": \"female\", \"AGE_RANGE\": 39.0}, {\"GENDER\": \"female\", \"AGE_RANGE\": 41.0}, {\"GENDER\": \"male\", \"AGE_RANGE\": 39.0}, {\"GENDER\": \"male\", \"AGE_RANGE\": 35.0}, {\"GENDER\": \"female\", \"AGE_RANGE\": 34.0}, {\"GENDER\": \"male\", \"AGE_RANGE\": 55.0}, {\"GENDER\": \"male\", \"AGE_RANGE\": 47.0}, {\"GENDER\": \"male\", \"AGE_RANGE\": 45.0}, {\"GENDER\": \"female\", \"AGE_RANGE\": 31.0}, {\"GENDER\": \"female\", \"AGE_RANGE\": 41.0}, {\"GENDER\": \"male\", \"AGE_RANGE\": 42.0}, {\"GENDER\": \"female\", \"AGE_RANGE\": 36.0}, {\"GENDER\": \"female\", \"AGE_RANGE\": 54.0}, {\"GENDER\": \"female\", \"AGE_RANGE\": 44.0}, {\"GENDER\": \"female\", \"AGE_RANGE\": 47.0}, {\"GENDER\": \"female\", \"AGE_RANGE\": 47.0}, {\"GENDER\": \"male\", \"AGE_RANGE\": 29.0}, {\"GENDER\": \"female\", \"AGE_RANGE\": 41.0}, {\"GENDER\": \"female\", \"AGE_RANGE\": 50.0}, {\"GENDER\": \"female\", \"AGE_RANGE\": 54.0}, {\"GENDER\": \"female\", \"AGE_RANGE\": 48.0}, {\"GENDER\": \"female\", \"AGE_RANGE\": 41.0}, {\"GENDER\": \"male\", \"AGE_RANGE\": 29.0}, {\"GENDER\": \"male\", \"AGE_RANGE\": 34.0}, {\"GENDER\": \"male\", \"AGE_RANGE\": 29.0}, {\"GENDER\": \"male\", \"AGE_RANGE\": 33.0}, {\"GENDER\": \"female\", \"AGE_RANGE\": 43.0}, {\"GENDER\": \"male\", \"AGE_RANGE\": 32.0}, {\"GENDER\": \"male\", \"AGE_RANGE\": 29.0}, {\"GENDER\": \"female\", \"AGE_RANGE\": 48.0}, {\"GENDER\": \"male\", \"AGE_RANGE\": 54.0}, {\"GENDER\": \"male\", \"AGE_RANGE\": 42.0}, {\"GENDER\": \"female\", \"AGE_RANGE\": 35.0}, {\"GENDER\": \"female\", \"AGE_RANGE\": 40.0}, {\"GENDER\": \"male\", \"AGE_RANGE\": 37.0}, {\"GENDER\": \"male\", \"AGE_RANGE\": 31.0}, {\"GENDER\": \"female\", \"AGE_RANGE\": 55.0}, {\"GENDER\": \"male\", \"AGE_RANGE\": 40.0}, {\"GENDER\": \"male\", \"AGE_RANGE\": 37.0}, {\"GENDER\": \"male\", \"AGE_RANGE\": 30.0}, {\"GENDER\": \"male\", \"AGE_RANGE\": 45.0}, {\"GENDER\": \"female\", \"AGE_RANGE\": 28.0}, {\"GENDER\": \"female\", \"AGE_RANGE\": 44.0}, {\"GENDER\": \"male\", \"AGE_RANGE\": 33.0}, {\"GENDER\": \"male\", \"AGE_RANGE\": 32.0}, {\"GENDER\": \"male\", \"AGE_RANGE\": 37.0}, {\"GENDER\": \"male\", \"AGE_RANGE\": 39.0}, {\"GENDER\": \"male\", \"AGE_RANGE\": 35.0}, {\"GENDER\": \"female\", \"AGE_RANGE\": 36.0}, {\"GENDER\": \"female\", \"AGE_RANGE\": 40.0}, {\"GENDER\": \"female\", \"AGE_RANGE\": 48.0}, {\"GENDER\": \"female\", \"AGE_RANGE\": 51.0}, {\"GENDER\": \"male\", \"AGE_RANGE\": 28.0}, {\"GENDER\": \"male\", \"AGE_RANGE\": 44.0}, {\"GENDER\": \"female\", \"AGE_RANGE\": 34.0}, {\"GENDER\": \"male\", \"AGE_RANGE\": 49.0}, {\"GENDER\": \"male\", \"AGE_RANGE\": 48.0}, {\"GENDER\": \"male\", \"AGE_RANGE\": 53.0}, {\"GENDER\": \"male\", \"AGE_RANGE\": 46.0}, {\"GENDER\": \"male\", \"AGE_RANGE\": 47.0}, {\"GENDER\": \"male\", \"AGE_RANGE\": 55.0}, {\"GENDER\": \"female\", \"AGE_RANGE\": 37.0}, {\"GENDER\": \"male\", \"AGE_RANGE\": 37.0}, {\"GENDER\": \"male\", \"AGE_RANGE\": 31.0}, {\"GENDER\": \"female\", \"AGE_RANGE\": 42.0}, {\"GENDER\": \"female\", \"AGE_RANGE\": 46.0}, {\"GENDER\": \"male\", \"AGE_RANGE\": 50.0}, {\"GENDER\": \"male\", \"AGE_RANGE\": 51.0}, {\"GENDER\": \"male\", \"AGE_RANGE\": 30.0}, {\"GENDER\": \"male\", \"AGE_RANGE\": 47.0}, {\"GENDER\": \"male\", \"AGE_RANGE\": 33.0}, {\"GENDER\": \"female\", \"AGE_RANGE\": 29.0}, {\"GENDER\": \"female\", \"AGE_RANGE\": 54.0}, {\"GENDER\": \"male\", \"AGE_RANGE\": 35.0}, {\"GENDER\": \"female\", \"AGE_RANGE\": 45.0}, {\"GENDER\": \"male\", \"AGE_RANGE\": 53.0}, {\"GENDER\": \"female\", \"AGE_RANGE\": 48.0}, {\"GENDER\": \"female\", \"AGE_RANGE\": 36.0}, {\"GENDER\": \"male\", \"AGE_RANGE\": 45.0}, {\"GENDER\": \"male\", \"AGE_RANGE\": 41.0}, {\"GENDER\": \"female\", \"AGE_RANGE\": 54.0}, {\"GENDER\": \"male\", \"AGE_RANGE\": 35.0}, {\"GENDER\": \"female\", \"AGE_RANGE\": 46.0}, {\"GENDER\": \"female\", \"AGE_RANGE\": 53.0}, {\"GENDER\": \"female\", \"AGE_RANGE\": 38.0}, {\"GENDER\": \"male\", \"AGE_RANGE\": 39.0}, {\"GENDER\": \"female\", \"AGE_RANGE\": 32.0}, {\"GENDER\": \"male\", \"AGE_RANGE\": 37.0}, {\"GENDER\": \"male\", \"AGE_RANGE\": 53.0}, {\"GENDER\": \"male\", \"AGE_RANGE\": 53.0}, {\"GENDER\": \"male\", \"AGE_RANGE\": 48.0}, {\"GENDER\": \"male\", \"AGE_RANGE\": 50.0}, {\"GENDER\": \"male\", \"AGE_RANGE\": 53.0}, {\"GENDER\": \"female\", \"AGE_RANGE\": 49.0}, {\"GENDER\": \"male\", \"AGE_RANGE\": 41.0}, {\"GENDER\": \"male\", \"AGE_RANGE\": 30.0}, {\"GENDER\": \"female\", \"AGE_RANGE\": 54.0}, {\"GENDER\": \"male\", \"AGE_RANGE\": 50.0}, {\"GENDER\": \"female\", \"AGE_RANGE\": 35.0}, {\"GENDER\": \"female\", \"AGE_RANGE\": 46.0}, {\"GENDER\": \"male\", \"AGE_RANGE\": 51.0}, {\"GENDER\": \"female\", \"AGE_RANGE\": 30.0}, {\"GENDER\": \"female\", \"AGE_RANGE\": 40.0}, {\"GENDER\": \"female\", \"AGE_RANGE\": 42.0}, {\"GENDER\": \"male\", \"AGE_RANGE\": 54.0}, {\"GENDER\": \"female\", \"AGE_RANGE\": 54.0}, {\"GENDER\": \"male\", \"AGE_RANGE\": 48.0}, {\"GENDER\": \"male\", \"AGE_RANGE\": 46.0}, {\"GENDER\": \"male\", \"AGE_RANGE\": 45.0}, {\"GENDER\": \"female\", \"AGE_RANGE\": 45.0}, {\"GENDER\": \"female\", \"AGE_RANGE\": 49.0}, {\"GENDER\": \"female\", \"AGE_RANGE\": 36.0}, {\"GENDER\": \"male\", \"AGE_RANGE\": 32.0}, {\"GENDER\": \"male\", \"AGE_RANGE\": 30.0}, {\"GENDER\": \"male\", \"AGE_RANGE\": 51.0}, {\"GENDER\": \"male\", \"AGE_RANGE\": 33.0}, {\"GENDER\": \"female\", \"AGE_RANGE\": 28.0}, {\"GENDER\": \"male\", \"AGE_RANGE\": 50.0}, {\"GENDER\": \"male\", \"AGE_RANGE\": 53.0}, {\"GENDER\": \"male\", \"AGE_RANGE\": 52.0}, {\"GENDER\": \"female\", \"AGE_RANGE\": 33.0}, {\"GENDER\": \"female\", \"AGE_RANGE\": 45.0}, {\"GENDER\": \"male\", \"AGE_RANGE\": 33.0}, {\"GENDER\": \"male\", \"AGE_RANGE\": 47.0}, {\"GENDER\": \"male\", \"AGE_RANGE\": 31.0}, {\"GENDER\": \"male\", \"AGE_RANGE\": 44.0}, {\"GENDER\": \"female\", \"AGE_RANGE\": 36.0}, {\"GENDER\": \"male\", \"AGE_RANGE\": 50.0}, {\"GENDER\": \"male\", \"AGE_RANGE\": 53.0}, {\"GENDER\": \"male\", \"AGE_RANGE\": 33.0}, {\"GENDER\": \"male\", \"AGE_RANGE\": 45.0}, {\"GENDER\": \"male\", \"AGE_RANGE\": 50.0}, {\"GENDER\": \"female\", \"AGE_RANGE\": 36.0}, {\"GENDER\": \"male\", \"AGE_RANGE\": 49.0}, {\"GENDER\": \"male\", \"AGE_RANGE\": 55.0}, {\"GENDER\": \"male\", \"AGE_RANGE\": 44.0}, {\"GENDER\": \"female\", \"AGE_RANGE\": 45.0}, {\"GENDER\": \"female\", \"AGE_RANGE\": 37.0}, {\"GENDER\": \"male\", \"AGE_RANGE\": 55.0}, {\"GENDER\": \"male\", \"AGE_RANGE\": 54.0}, {\"GENDER\": \"male\", \"AGE_RANGE\": 30.0}, {\"GENDER\": \"male\", \"AGE_RANGE\": 54.0}, {\"GENDER\": \"male\", \"AGE_RANGE\": 40.0}, {\"GENDER\": \"male\", \"AGE_RANGE\": 34.0}, {\"GENDER\": \"male\", \"AGE_RANGE\": 35.0}, {\"GENDER\": \"male\", \"AGE_RANGE\": 52.0}, {\"GENDER\": \"male\", \"AGE_RANGE\": 39.0}, {\"GENDER\": \"female\", \"AGE_RANGE\": 43.0}, {\"GENDER\": \"female\", \"AGE_RANGE\": 44.0}, {\"GENDER\": \"female\", \"AGE_RANGE\": 40.0}, {\"GENDER\": \"male\", \"AGE_RANGE\": 52.0}, {\"GENDER\": \"female\", \"AGE_RANGE\": 39.0}, {\"GENDER\": \"female\", \"AGE_RANGE\": 53.0}, {\"GENDER\": \"male\", \"AGE_RANGE\": 31.0}, {\"GENDER\": \"male\", \"AGE_RANGE\": 32.0}, {\"GENDER\": \"male\", \"AGE_RANGE\": 53.0}, {\"GENDER\": \"female\", \"AGE_RANGE\": 41.0}, {\"GENDER\": \"female\", \"AGE_RANGE\": 41.0}, {\"GENDER\": \"male\", \"AGE_RANGE\": 36.0}, {\"GENDER\": \"male\", \"AGE_RANGE\": 49.0}, {\"GENDER\": \"female\", \"AGE_RANGE\": 50.0}, {\"GENDER\": \"female\", \"AGE_RANGE\": 32.0}, {\"GENDER\": \"female\", \"AGE_RANGE\": 53.0}, {\"GENDER\": \"male\", \"AGE_RANGE\": 40.0}, {\"GENDER\": \"male\", \"AGE_RANGE\": 49.0}, {\"GENDER\": \"female\", \"AGE_RANGE\": 47.0}, {\"GENDER\": \"female\", \"AGE_RANGE\": 37.0}, {\"GENDER\": \"female\", \"AGE_RANGE\": 49.0}, {\"GENDER\": \"male\", \"AGE_RANGE\": 44.0}, {\"GENDER\": \"female\", \"AGE_RANGE\": 43.0}, {\"GENDER\": \"female\", \"AGE_RANGE\": 47.0}, {\"GENDER\": \"female\", \"AGE_RANGE\": 45.0}, {\"GENDER\": \"male\", \"AGE_RANGE\": 51.0}, {\"GENDER\": \"male\", \"AGE_RANGE\": 48.0}, {\"GENDER\": \"male\", \"AGE_RANGE\": 37.0}, {\"GENDER\": \"male\", \"AGE_RANGE\": 33.0}, {\"GENDER\": \"male\", \"AGE_RANGE\": 46.0}, {\"GENDER\": \"male\", \"AGE_RANGE\": 40.0}, {\"GENDER\": \"female\", \"AGE_RANGE\": 34.0}, {\"GENDER\": \"female\", \"AGE_RANGE\": 32.0}, {\"GENDER\": \"male\", \"AGE_RANGE\": 44.0}, {\"GENDER\": \"female\", \"AGE_RANGE\": 47.0}, {\"GENDER\": \"male\", \"AGE_RANGE\": 45.0}, {\"GENDER\": \"female\", \"AGE_RANGE\": 45.0}, {\"GENDER\": \"female\", \"AGE_RANGE\": 54.0}, {\"GENDER\": \"female\", \"AGE_RANGE\": 49.0}, {\"GENDER\": \"female\", \"AGE_RANGE\": 34.0}, {\"GENDER\": \"male\", \"AGE_RANGE\": 44.0}, {\"GENDER\": \"female\", \"AGE_RANGE\": 53.0}, {\"GENDER\": \"male\", \"AGE_RANGE\": 33.0}, {\"GENDER\": \"male\", \"AGE_RANGE\": 36.0}, {\"GENDER\": \"male\", \"AGE_RANGE\": 53.0}, {\"GENDER\": \"female\", \"AGE_RANGE\": 47.0}, {\"GENDER\": \"female\", \"AGE_RANGE\": 34.0}, {\"GENDER\": \"female\", \"AGE_RANGE\": 54.0}, {\"GENDER\": \"male\", \"AGE_RANGE\": 52.0}, {\"GENDER\": \"male\", \"AGE_RANGE\": 52.0}, {\"GENDER\": \"male\", \"AGE_RANGE\": 38.0}, {\"GENDER\": \"female\", \"AGE_RANGE\": 53.0}, {\"GENDER\": \"female\", \"AGE_RANGE\": 30.0}, {\"GENDER\": \"male\", \"AGE_RANGE\": 49.0}, {\"GENDER\": \"male\", \"AGE_RANGE\": 41.0}, {\"GENDER\": \"male\", \"AGE_RANGE\": 55.0}, {\"GENDER\": \"female\", \"AGE_RANGE\": 32.0}, {\"GENDER\": \"male\", \"AGE_RANGE\": 35.0}, {\"GENDER\": \"male\", \"AGE_RANGE\": 37.0}, {\"GENDER\": \"male\", \"AGE_RANGE\": 49.0}, {\"GENDER\": \"male\", \"AGE_RANGE\": 53.0}, {\"GENDER\": \"male\", \"AGE_RANGE\": 53.0}, {\"GENDER\": \"male\", \"AGE_RANGE\": 43.0}, {\"GENDER\": \"male\", \"AGE_RANGE\": 32.0}, {\"GENDER\": \"male\", \"AGE_RANGE\": 28.0}, {\"GENDER\": \"female\", \"AGE_RANGE\": 42.0}, {\"GENDER\": \"female\", \"AGE_RANGE\": 49.0}, {\"GENDER\": \"female\", \"AGE_RANGE\": 29.0}, {\"GENDER\": \"male\", \"AGE_RANGE\": 47.0}, {\"GENDER\": \"female\", \"AGE_RANGE\": 28.0}, {\"GENDER\": \"male\", \"AGE_RANGE\": 49.0}, {\"GENDER\": \"female\", \"AGE_RANGE\": 36.0}, {\"GENDER\": \"male\", \"AGE_RANGE\": 39.0}, {\"GENDER\": \"female\", \"AGE_RANGE\": 38.0}, {\"GENDER\": \"male\", \"AGE_RANGE\": 49.0}, {\"GENDER\": \"female\", \"AGE_RANGE\": 35.0}, {\"GENDER\": \"female\", \"AGE_RANGE\": 32.0}, {\"GENDER\": \"female\", \"AGE_RANGE\": 47.0}, {\"GENDER\": \"female\", \"AGE_RANGE\": 51.0}, {\"GENDER\": \"female\", \"AGE_RANGE\": 46.0}, {\"GENDER\": \"female\", \"AGE_RANGE\": 41.0}, {\"GENDER\": \"female\", \"AGE_RANGE\": 28.0}, {\"GENDER\": \"male\", \"AGE_RANGE\": 36.0}, {\"GENDER\": \"female\", \"AGE_RANGE\": 51.0}, {\"GENDER\": \"female\", \"AGE_RANGE\": 29.0}, {\"GENDER\": \"male\", \"AGE_RANGE\": 44.0}, {\"GENDER\": \"male\", \"AGE_RANGE\": 31.0}, {\"GENDER\": \"female\", \"AGE_RANGE\": 52.0}, {\"GENDER\": \"female\", \"AGE_RANGE\": 32.0}, {\"GENDER\": \"female\", \"AGE_RANGE\": 32.0}, {\"GENDER\": \"female\", \"AGE_RANGE\": 49.0}, {\"GENDER\": \"female\", \"AGE_RANGE\": 28.0}, {\"GENDER\": \"male\", \"AGE_RANGE\": 35.0}, {\"GENDER\": \"male\", \"AGE_RANGE\": 38.0}, {\"GENDER\": \"male\", \"AGE_RANGE\": 49.0}, {\"GENDER\": \"female\", \"AGE_RANGE\": 34.0}, {\"GENDER\": \"female\", \"AGE_RANGE\": 44.0}, {\"GENDER\": \"male\", \"AGE_RANGE\": 50.0}, {\"GENDER\": \"female\", \"AGE_RANGE\": 38.0}, {\"GENDER\": \"male\", \"AGE_RANGE\": 52.0}, {\"GENDER\": \"male\", \"AGE_RANGE\": 50.0}, {\"GENDER\": \"female\", \"AGE_RANGE\": 52.0}, {\"GENDER\": \"male\", \"AGE_RANGE\": 32.0}, {\"GENDER\": \"male\", \"AGE_RANGE\": 29.0}, {\"GENDER\": \"male\", \"AGE_RANGE\": 29.0}, {\"GENDER\": \"female\", \"AGE_RANGE\": 47.0}, {\"GENDER\": \"male\", \"AGE_RANGE\": 40.0}, {\"GENDER\": \"female\", \"AGE_RANGE\": 31.0}, {\"GENDER\": \"female\", \"AGE_RANGE\": 44.0}, {\"GENDER\": \"male\", \"AGE_RANGE\": 54.0}, {\"GENDER\": \"female\", \"AGE_RANGE\": 28.0}, {\"GENDER\": \"female\", \"AGE_RANGE\": 34.0}, {\"GENDER\": \"female\", \"AGE_RANGE\": 36.0}, {\"GENDER\": \"male\", \"AGE_RANGE\": 43.0}, {\"GENDER\": \"female\", \"AGE_RANGE\": 29.0}, {\"GENDER\": \"female\", \"AGE_RANGE\": 30.0}, {\"GENDER\": \"female\", \"AGE_RANGE\": 46.0}, {\"GENDER\": \"female\", \"AGE_RANGE\": 39.0}, {\"GENDER\": \"female\", \"AGE_RANGE\": 43.0}, {\"GENDER\": \"female\", \"AGE_RANGE\": 29.0}, {\"GENDER\": \"male\", \"AGE_RANGE\": 42.0}, {\"GENDER\": \"male\", \"AGE_RANGE\": 55.0}, {\"GENDER\": \"male\", \"AGE_RANGE\": 40.0}, {\"GENDER\": \"female\", \"AGE_RANGE\": 36.0}, {\"GENDER\": \"male\", \"AGE_RANGE\": 37.0}, {\"GENDER\": \"male\", \"AGE_RANGE\": 38.0}, {\"GENDER\": \"female\", \"AGE_RANGE\": 36.0}, {\"GENDER\": \"male\", \"AGE_RANGE\": 48.0}, {\"GENDER\": \"male\", \"AGE_RANGE\": 35.0}, {\"GENDER\": \"male\", \"AGE_RANGE\": 41.0}, {\"GENDER\": \"female\", \"AGE_RANGE\": 53.0}, {\"GENDER\": \"female\", \"AGE_RANGE\": 44.0}, {\"GENDER\": \"female\", \"AGE_RANGE\": 46.0}, {\"GENDER\": \"male\", \"AGE_RANGE\": 29.0}, {\"GENDER\": \"male\", \"AGE_RANGE\": 42.0}, {\"GENDER\": \"female\", \"AGE_RANGE\": 39.0}, {\"GENDER\": \"female\", \"AGE_RANGE\": 37.0}, {\"GENDER\": \"female\", \"AGE_RANGE\": 49.0}, {\"GENDER\": \"female\", \"AGE_RANGE\": 43.0}, {\"GENDER\": \"male\", \"AGE_RANGE\": 42.0}, {\"GENDER\": \"male\", \"AGE_RANGE\": 54.0}, {\"GENDER\": \"male\", \"AGE_RANGE\": 49.0}, {\"GENDER\": \"female\", \"AGE_RANGE\": 51.0}, {\"GENDER\": \"male\", \"AGE_RANGE\": 53.0}, {\"GENDER\": \"male\", \"AGE_RANGE\": 38.0}, {\"GENDER\": \"male\", \"AGE_RANGE\": 28.0}, {\"GENDER\": \"male\", \"AGE_RANGE\": 30.0}, {\"GENDER\": \"male\", \"AGE_RANGE\": 55.0}, {\"GENDER\": \"male\", \"AGE_RANGE\": 37.0}, {\"GENDER\": \"male\", \"AGE_RANGE\": 42.0}, {\"GENDER\": \"male\", \"AGE_RANGE\": 33.0}, {\"GENDER\": \"male\", \"AGE_RANGE\": 36.0}, {\"GENDER\": \"female\", \"AGE_RANGE\": 38.0}, {\"GENDER\": \"female\", \"AGE_RANGE\": 33.0}, {\"GENDER\": \"male\", \"AGE_RANGE\": 38.0}, {\"GENDER\": \"female\", \"AGE_RANGE\": 36.0}, {\"GENDER\": \"male\", \"AGE_RANGE\": 36.0}, {\"GENDER\": \"female\", \"AGE_RANGE\": 53.0}, {\"GENDER\": \"female\", \"AGE_RANGE\": 50.0}, {\"GENDER\": \"female\", \"AGE_RANGE\": 46.0}, {\"GENDER\": \"female\", \"AGE_RANGE\": 37.0}, {\"GENDER\": \"female\", \"AGE_RANGE\": 43.0}, {\"GENDER\": \"female\", \"AGE_RANGE\": 48.0}, {\"GENDER\": \"female\", \"AGE_RANGE\": 37.0}, {\"GENDER\": \"female\", \"AGE_RANGE\": 52.0}, {\"GENDER\": \"female\", \"AGE_RANGE\": 42.0}, {\"GENDER\": \"female\", \"AGE_RANGE\": 41.0}, {\"GENDER\": \"female\", \"AGE_RANGE\": 47.0}, {\"GENDER\": \"female\", \"AGE_RANGE\": 29.0}, {\"GENDER\": \"female\", \"AGE_RANGE\": 46.0}, {\"GENDER\": \"female\", \"AGE_RANGE\": 36.0}, {\"GENDER\": \"female\", \"AGE_RANGE\": 34.0}, {\"GENDER\": \"female\", \"AGE_RANGE\": 51.0}, {\"GENDER\": \"female\", \"AGE_RANGE\": 51.0}, {\"GENDER\": \"female\", \"AGE_RANGE\": 44.0}, {\"GENDER\": \"female\", \"AGE_RANGE\": 33.0}, {\"GENDER\": \"female\", \"AGE_RANGE\": 46.0}, {\"GENDER\": \"female\", \"AGE_RANGE\": 45.0}, {\"GENDER\": \"female\", \"AGE_RANGE\": 45.0}, {\"GENDER\": \"female\", \"AGE_RANGE\": 50.0}, {\"GENDER\": \"female\", \"AGE_RANGE\": 37.0}, {\"GENDER\": \"female\", \"AGE_RANGE\": 40.0}, {\"GENDER\": \"female\", \"AGE_RANGE\": 44.0}, {\"GENDER\": \"male\", \"AGE_RANGE\": 51.0}, {\"GENDER\": \"male\", \"AGE_RANGE\": 49.0}, {\"GENDER\": \"female\", \"AGE_RANGE\": 40.0}, {\"GENDER\": \"female\", \"AGE_RANGE\": 46.0}, {\"GENDER\": \"male\", \"AGE_RANGE\": 38.0}, {\"GENDER\": \"female\", \"AGE_RANGE\": 52.0}, {\"GENDER\": \"female\", \"AGE_RANGE\": 55.0}, {\"GENDER\": \"female\", \"AGE_RANGE\": 51.0}, {\"GENDER\": \"female\", \"AGE_RANGE\": 41.0}, {\"GENDER\": \"female\", \"AGE_RANGE\": 44.0}, {\"GENDER\": \"female\", \"AGE_RANGE\": 43.0}, {\"GENDER\": \"female\", \"AGE_RANGE\": 49.0}, {\"GENDER\": \"female\", \"AGE_RANGE\": 29.0}, {\"GENDER\": \"female\", \"AGE_RANGE\": 32.0}, {\"GENDER\": \"female\", \"AGE_RANGE\": 55.0}, {\"GENDER\": \"female\", \"AGE_RANGE\": 35.0}, {\"GENDER\": \"female\", \"AGE_RANGE\": 55.0}, {\"GENDER\": \"male\", \"AGE_RANGE\": 54.0}, {\"GENDER\": \"male\", \"AGE_RANGE\": 54.0}, {\"GENDER\": \"male\", \"AGE_RANGE\": 45.0}, {\"GENDER\": \"male\", \"AGE_RANGE\": 37.0}, {\"GENDER\": \"male\", \"AGE_RANGE\": 28.0}, {\"GENDER\": \"male\", \"AGE_RANGE\": 39.0}, {\"GENDER\": \"male\", \"AGE_RANGE\": 38.0}, {\"GENDER\": \"male\", \"AGE_RANGE\": 37.0}, {\"GENDER\": \"male\", \"AGE_RANGE\": 55.0}, {\"GENDER\": \"female\", \"AGE_RANGE\": 47.0}, {\"GENDER\": \"female\", \"AGE_RANGE\": 32.0}, {\"GENDER\": \"female\", \"AGE_RANGE\": 53.0}, {\"GENDER\": \"female\", \"AGE_RANGE\": 40.0}, {\"GENDER\": \"male\", \"AGE_RANGE\": 48.0}, {\"GENDER\": \"female\", \"AGE_RANGE\": 29.0}, {\"GENDER\": \"male\", \"AGE_RANGE\": 39.0}, {\"GENDER\": \"male\", \"AGE_RANGE\": 53.0}, {\"GENDER\": \"male\", \"AGE_RANGE\": 55.0}, {\"GENDER\": \"male\", \"AGE_RANGE\": 41.0}, {\"GENDER\": \"female\", \"AGE_RANGE\": 44.0}, {\"GENDER\": \"male\", \"AGE_RANGE\": 34.0}, {\"GENDER\": \"female\", \"AGE_RANGE\": 40.0}, {\"GENDER\": \"female\", \"AGE_RANGE\": 28.0}, {\"GENDER\": \"female\", \"AGE_RANGE\": 37.0}, {\"GENDER\": \"male\", \"AGE_RANGE\": 43.0}, {\"GENDER\": \"male\", \"AGE_RANGE\": 44.0}, {\"GENDER\": \"female\", \"AGE_RANGE\": 44.0}, {\"GENDER\": \"female\", \"AGE_RANGE\": 38.0}, {\"GENDER\": \"male\", \"AGE_RANGE\": 46.0}, {\"GENDER\": \"male\", \"AGE_RANGE\": 50.0}, {\"GENDER\": \"female\", \"AGE_RANGE\": 47.0}, {\"GENDER\": \"female\", \"AGE_RANGE\": 41.0}, {\"GENDER\": \"male\", \"AGE_RANGE\": 29.0}, {\"GENDER\": \"male\", \"AGE_RANGE\": 29.0}, {\"GENDER\": \"male\", \"AGE_RANGE\": 51.0}, {\"GENDER\": \"male\", \"AGE_RANGE\": 53.0}, {\"GENDER\": \"male\", \"AGE_RANGE\": 36.0}, {\"GENDER\": \"male\", \"AGE_RANGE\": 39.0}, {\"GENDER\": \"female\", \"AGE_RANGE\": 49.0}, {\"GENDER\": \"female\", \"AGE_RANGE\": 36.0}, {\"GENDER\": \"male\", \"AGE_RANGE\": 54.0}, {\"GENDER\": \"male\", \"AGE_RANGE\": 47.0}, {\"GENDER\": \"female\", \"AGE_RANGE\": 47.0}, {\"GENDER\": \"female\", \"AGE_RANGE\": 54.0}, {\"GENDER\": \"female\", \"AGE_RANGE\": 39.0}, {\"GENDER\": \"female\", \"AGE_RANGE\": 52.0}, {\"GENDER\": \"female\", \"AGE_RANGE\": 36.0}, {\"GENDER\": \"female\", \"AGE_RANGE\": 35.0}, {\"GENDER\": \"female\", \"AGE_RANGE\": 45.0}, {\"GENDER\": \"female\", \"AGE_RANGE\": 47.0}, {\"GENDER\": \"female\", \"AGE_RANGE\": 46.0}, {\"GENDER\": \"female\", \"AGE_RANGE\": 45.0}, {\"GENDER\": \"male\", \"AGE_RANGE\": 53.0}, {\"GENDER\": \"female\", \"AGE_RANGE\": 29.0}, {\"GENDER\": \"female\", \"AGE_RANGE\": 43.0}, {\"GENDER\": \"female\", \"AGE_RANGE\": 47.0}, {\"GENDER\": \"female\", \"AGE_RANGE\": 49.0}, {\"GENDER\": \"female\", \"AGE_RANGE\": 39.0}, {\"GENDER\": \"female\", \"AGE_RANGE\": 29.0}, {\"GENDER\": \"female\", \"AGE_RANGE\": 34.0}, {\"GENDER\": \"female\", \"AGE_RANGE\": 48.0}, {\"GENDER\": \"female\", \"AGE_RANGE\": 36.0}, {\"GENDER\": \"female\", \"AGE_RANGE\": 39.0}, {\"GENDER\": \"female\", \"AGE_RANGE\": 42.0}, {\"GENDER\": \"female\", \"AGE_RANGE\": 40.0}, {\"GENDER\": \"female\", \"AGE_RANGE\": 37.0}, {\"GENDER\": \"female\", \"AGE_RANGE\": 31.0}, {\"GENDER\": \"male\", \"AGE_RANGE\": 28.0}, {\"GENDER\": \"male\", \"AGE_RANGE\": 46.0}, {\"GENDER\": \"male\", \"AGE_RANGE\": 30.0}, {\"GENDER\": \"male\", \"AGE_RANGE\": 53.0}, {\"GENDER\": \"male\", \"AGE_RANGE\": 55.0}, {\"GENDER\": \"male\", \"AGE_RANGE\": 51.0}, {\"GENDER\": \"male\", \"AGE_RANGE\": 46.0}, {\"GENDER\": \"male\", \"AGE_RANGE\": 45.0}, {\"GENDER\": \"male\", \"AGE_RANGE\": 45.0}, {\"GENDER\": \"male\", \"AGE_RANGE\": 32.0}, {\"GENDER\": \"female\", \"AGE_RANGE\": 37.0}, {\"GENDER\": \"female\", \"AGE_RANGE\": 54.0}, {\"GENDER\": \"female\", \"AGE_RANGE\": 35.0}, {\"GENDER\": \"female\", \"AGE_RANGE\": 28.0}, {\"GENDER\": \"male\", \"AGE_RANGE\": 38.0}, {\"GENDER\": \"female\", \"AGE_RANGE\": 52.0}, {\"GENDER\": \"male\", \"AGE_RANGE\": 35.0}, {\"GENDER\": \"male\", \"AGE_RANGE\": 47.0}, {\"GENDER\": \"male\", \"AGE_RANGE\": 35.0}, {\"GENDER\": \"female\", \"AGE_RANGE\": 37.0}, {\"GENDER\": \"male\", \"AGE_RANGE\": 54.0}, {\"GENDER\": \"male\", \"AGE_RANGE\": 54.0}, {\"GENDER\": \"male\", \"AGE_RANGE\": 43.0}, {\"GENDER\": \"male\", \"AGE_RANGE\": 50.0}, {\"GENDER\": \"male\", \"AGE_RANGE\": 42.0}, {\"GENDER\": \"male\", \"AGE_RANGE\": 53.0}, {\"GENDER\": \"female\", \"AGE_RANGE\": 32.0}, {\"GENDER\": \"male\", \"AGE_RANGE\": 51.0}, {\"GENDER\": \"male\", \"AGE_RANGE\": 46.0}, {\"GENDER\": \"female\", \"AGE_RANGE\": 53.0}, {\"GENDER\": \"female\", \"AGE_RANGE\": 40.0}, {\"GENDER\": \"female\", \"AGE_RANGE\": 46.0}, {\"GENDER\": \"female\", \"AGE_RANGE\": 44.0}, {\"GENDER\": \"female\", \"AGE_RANGE\": 53.0}, {\"GENDER\": \"male\", \"AGE_RANGE\": 29.0}, {\"GENDER\": \"male\", \"AGE_RANGE\": 46.0}, {\"GENDER\": \"male\", \"AGE_RANGE\": 41.0}, {\"GENDER\": \"male\", \"AGE_RANGE\": 34.0}, {\"GENDER\": \"female\", \"AGE_RANGE\": 35.0}, {\"GENDER\": \"female\", \"AGE_RANGE\": 55.0}, {\"GENDER\": \"male\", \"AGE_RANGE\": 46.0}, {\"GENDER\": \"female\", \"AGE_RANGE\": 52.0}, {\"GENDER\": \"female\", \"AGE_RANGE\": 40.0}, {\"GENDER\": \"male\", \"AGE_RANGE\": 37.0}, {\"GENDER\": \"male\", \"AGE_RANGE\": 40.0}, {\"GENDER\": \"male\", \"AGE_RANGE\": 36.0}, {\"GENDER\": \"female\", \"AGE_RANGE\": 29.0}, {\"GENDER\": \"female\", \"AGE_RANGE\": 44.0}, {\"GENDER\": \"female\", \"AGE_RANGE\": 50.0}, {\"GENDER\": \"female\", \"AGE_RANGE\": 42.0}, {\"GENDER\": \"female\", \"AGE_RANGE\": 45.0}, {\"GENDER\": \"female\", \"AGE_RANGE\": 33.0}, {\"GENDER\": \"male\", \"AGE_RANGE\": 38.0}, {\"GENDER\": \"male\", \"AGE_RANGE\": 28.0}, {\"GENDER\": \"male\", \"AGE_RANGE\": 46.0}, {\"GENDER\": \"male\", \"AGE_RANGE\": 34.0}, {\"GENDER\": \"female\", \"AGE_RANGE\": 33.0}, {\"GENDER\": \"male\", \"AGE_RANGE\": 37.0}, {\"GENDER\": \"female\", \"AGE_RANGE\": 45.0}, {\"GENDER\": \"male\", \"AGE_RANGE\": 34.0}, {\"GENDER\": \"female\", \"AGE_RANGE\": 53.0}, {\"GENDER\": \"female\", \"AGE_RANGE\": 37.0}, {\"GENDER\": \"male\", \"AGE_RANGE\": 29.0}]}}, {\"mode\": \"vega-lite\"});\n",
       "</script>"
      ],
      "text/plain": [
       "alt.Chart(...)"
      ]
     },
     "execution_count": 14,
     "metadata": {},
     "output_type": "execute_result"
    }
   ],
   "source": [
    "alt.Chart(laundry[['GENDER','AGE_RANGE']]).mark_boxplot(size=100).encode(\n",
    "    x='GENDER',\n",
    "    y='AGE_RANGE',\n",
    "    color=alt.Color('GENDER')\n",
    ").properties(width=1000, height=400)"
   ]
  },
  {
   "cell_type": "markdown",
   "metadata": {},
   "source": [
    "## Preprocessing Additional Dataset"
   ]
  },
  {
   "cell_type": "markdown",
   "metadata": {},
   "source": [
    "### 1. Is there any missing values or duplicates data? If so, how we want to deal with it?\n",
    "Dealing null and duplicates data"
   ]
  },
  {
   "cell_type": "code",
   "execution_count": 15,
   "metadata": {},
   "outputs": [
    {
     "name": "stdout",
     "output_type": "stream",
     "text": [
      "Resident Negeri Sembilan:\n"
     ]
    },
    {
     "data": {
      "text/plain": [
       "Bil               0\n",
       "Nama Taman        0\n",
       "Daerah            0\n",
       "Mukim             0\n",
       "Poskod            0\n",
       "Bilangan Rumah    0\n",
       "dtype: int64"
      ]
     },
     "metadata": {},
     "output_type": "display_data"
    },
    {
     "name": "stdout",
     "output_type": "stream",
     "text": [
      "Resident Pahang:\n"
     ]
    },
    {
     "data": {
      "text/plain": [
       "NO                0\n",
       "NAMA TAMAN        0\n",
       "MUKIM             0\n",
       "POSKOD            0\n",
       "BILANGAN RUMAH    0\n",
       "dtype: int64"
      ]
     },
     "metadata": {},
     "output_type": "display_data"
    },
    {
     "name": "stdout",
     "output_type": "stream",
     "text": [
      "Resident Perak:\n"
     ]
    },
    {
     "data": {
      "text/plain": [
       "BIL               0\n",
       "NAMA TAMAN        0\n",
       "KATEGORI RUMAH    1\n",
       "BILANGAN UNIT     0\n",
       "JENIS RUMAH       2\n",
       "dtype: int64"
      ]
     },
     "metadata": {},
     "output_type": "display_data"
    },
    {
     "name": "stdout",
     "output_type": "stream",
     "text": [
      "Resident Kelantan:\n"
     ]
    },
    {
     "data": {
      "text/plain": [
       "JAJAHAN             0\n",
       "PBT                 0\n",
       "NAMA PERUMAHAN      0\n",
       "LATITUDE            0\n",
       "LONGITUDE           0\n",
       "BIL RUMAH (UNIT)    0\n",
       "dtype: int64"
      ]
     },
     "metadata": {},
     "output_type": "display_data"
    }
   ],
   "source": [
    "print(\"Resident Negeri Sembilan:\")\n",
    "display(residentsN9.isna().sum())\n",
    "print(\"Resident Pahang:\")\n",
    "display(residentsPahang.isna().sum())\n",
    "print(\"Resident Perak:\")\n",
    "display(residentsPerak.isna().sum())\n",
    "print(\"Resident Kelantan:\")\n",
    "display(residentsKelantan.isna().sum())"
   ]
  },
  {
   "cell_type": "markdown",
   "metadata": {},
   "source": [
    "### 2. How to visualize the content?\n",
    "Merging dataset into one dataframe"
   ]
  },
  {
   "cell_type": "code",
   "execution_count": 16,
   "metadata": {},
   "outputs": [
    {
     "data": {
      "text/html": [
       "<div>\n",
       "<style scoped>\n",
       "    .dataframe tbody tr th:only-of-type {\n",
       "        vertical-align: middle;\n",
       "    }\n",
       "\n",
       "    .dataframe tbody tr th {\n",
       "        vertical-align: top;\n",
       "    }\n",
       "\n",
       "    .dataframe thead th {\n",
       "        text-align: right;\n",
       "    }\n",
       "</style>\n",
       "<table border=\"1\" class=\"dataframe\">\n",
       "  <thead>\n",
       "    <tr style=\"text-align: right;\">\n",
       "      <th></th>\n",
       "      <th>STATE</th>\n",
       "      <th>RESIDENTAL_AREA</th>\n",
       "      <th>DISTRICT</th>\n",
       "      <th>NUMBER_OF_HOUSES</th>\n",
       "    </tr>\n",
       "  </thead>\n",
       "  <tbody>\n",
       "  </tbody>\n",
       "</table>\n",
       "</div>"
      ],
      "text/plain": [
       "Empty DataFrame\n",
       "Columns: [STATE, RESIDENTAL_AREA, DISTRICT, NUMBER_OF_HOUSES]\n",
       "Index: []"
      ]
     },
     "execution_count": 16,
     "metadata": {},
     "output_type": "execute_result"
    }
   ],
   "source": [
    "# Declare dataframe for additional dataset\n",
    "residentalLocation = pd.DataFrame(columns=['STATE','RESIDENTAL_AREA','DISTRICT','NUMBER_OF_HOUSES'])\n",
    "residentalLocation"
   ]
  },
  {
   "cell_type": "code",
   "execution_count": 17,
   "metadata": {},
   "outputs": [],
   "source": [
    "# add Negeri sembilan\n",
    "for i in range(len(residentsN9)):\n",
    "    residentalLocation = residentalLocation.append({'STATE': 'Negeri Sembilan', 'RESIDENTAL_AREA': residentsN9.iloc[[i]]['Nama Taman'].values[0],'DISTRICT': residentsN9.iloc[[i]]['Daerah'].values[0],'NUMBER_OF_HOUSES':residentsN9.iloc[[i]]['Bilangan Rumah'].values[0]}, ignore_index=True)\n",
    "\n",
    "# add Kelantan\n",
    "for i in range(len(residentsKelantan)):\n",
    "    residentalLocation = residentalLocation.append({'STATE': 'Kelantan', 'RESIDENTAL_AREA': residentsKelantan.iloc[[i]]['NAMA PERUMAHAN'].values[0],'DISTRICT': residentsKelantan.iloc[[i]]['JAJAHAN'].values[0],'NUMBER_OF_HOUSES':residentsKelantan.iloc[[i]]['BIL RUMAH (UNIT)'].values[0]}, ignore_index=True)\n",
    "\n",
    "# add Pahang\n",
    "for i in range(len(residentsPahang)):\n",
    "    residentalLocation = residentalLocation.append({'STATE': 'Pahang', 'RESIDENTAL_AREA': residentsPahang.iloc[[i]]['NAMA TAMAN'].values[0],'DISTRICT': residentsPahang.iloc[[i]]['MUKIM'].values[0],'NUMBER_OF_HOUSES':residentsPahang.iloc[[i]]['BILANGAN RUMAH'].values[0]}, ignore_index=True)\n",
    "\n",
    "# add Perak\n",
    "for i in range(len(residentsPerak)):\n",
    "    residentalLocation = residentalLocation.append({'STATE': 'Perak', 'RESIDENTAL_AREA': residentsPerak.iloc[[i]]['NAMA TAMAN'].values[0],'DISTRICT': 'Pengkalan Hulu','NUMBER_OF_HOUSES':residentsPerak.iloc[[i]]['BILANGAN UNIT'].values[0]}, ignore_index=True)\n"
   ]
  },
  {
   "cell_type": "code",
   "execution_count": 18,
   "metadata": {},
   "outputs": [
    {
     "data": {
      "text/html": [
       "<div>\n",
       "<style scoped>\n",
       "    .dataframe tbody tr th:only-of-type {\n",
       "        vertical-align: middle;\n",
       "    }\n",
       "\n",
       "    .dataframe tbody tr th {\n",
       "        vertical-align: top;\n",
       "    }\n",
       "\n",
       "    .dataframe thead th {\n",
       "        text-align: right;\n",
       "    }\n",
       "</style>\n",
       "<table border=\"1\" class=\"dataframe\">\n",
       "  <thead>\n",
       "    <tr style=\"text-align: right;\">\n",
       "      <th></th>\n",
       "      <th>STATE</th>\n",
       "      <th>RESIDENTAL_AREA</th>\n",
       "      <th>DISTRICT</th>\n",
       "      <th>NUMBER_OF_HOUSES</th>\n",
       "    </tr>\n",
       "  </thead>\n",
       "  <tbody>\n",
       "    <tr>\n",
       "      <th>0</th>\n",
       "      <td>Negeri Sembilan</td>\n",
       "      <td>TAMAN SHUKOR</td>\n",
       "      <td>Seremban</td>\n",
       "      <td>43</td>\n",
       "    </tr>\n",
       "    <tr>\n",
       "      <th>1</th>\n",
       "      <td>Negeri Sembilan</td>\n",
       "      <td>TAMAN DESA KENANGA INDAH</td>\n",
       "      <td>Seremban</td>\n",
       "      <td>30</td>\n",
       "    </tr>\n",
       "    <tr>\n",
       "      <th>2</th>\n",
       "      <td>Negeri Sembilan</td>\n",
       "      <td>TAMAN VILLA PALMA</td>\n",
       "      <td>Seremban</td>\n",
       "      <td>56</td>\n",
       "    </tr>\n",
       "    <tr>\n",
       "      <th>3</th>\n",
       "      <td>Negeri Sembilan</td>\n",
       "      <td>TAMAN SERI SENTOSA</td>\n",
       "      <td>Seremban</td>\n",
       "      <td>28</td>\n",
       "    </tr>\n",
       "    <tr>\n",
       "      <th>4</th>\n",
       "      <td>Negeri Sembilan</td>\n",
       "      <td>RESIDENSI SIGC</td>\n",
       "      <td>Seremban</td>\n",
       "      <td>217</td>\n",
       "    </tr>\n",
       "    <tr>\n",
       "      <th>...</th>\n",
       "      <td>...</td>\n",
       "      <td>...</td>\n",
       "      <td>...</td>\n",
       "      <td>...</td>\n",
       "    </tr>\n",
       "    <tr>\n",
       "      <th>1742</th>\n",
       "      <td>Perak</td>\n",
       "      <td>Taman Sri Bayas</td>\n",
       "      <td>Pengkalan Hulu</td>\n",
       "      <td>66</td>\n",
       "    </tr>\n",
       "    <tr>\n",
       "      <th>1743</th>\n",
       "      <td>Perak</td>\n",
       "      <td>Taman Intan (RPA Klian Intan)</td>\n",
       "      <td>Pengkalan Hulu</td>\n",
       "      <td>50</td>\n",
       "    </tr>\n",
       "    <tr>\n",
       "      <th>1744</th>\n",
       "      <td>Perak</td>\n",
       "      <td>RPA Klian Intan 2</td>\n",
       "      <td>Pengkalan Hulu</td>\n",
       "      <td>53</td>\n",
       "    </tr>\n",
       "    <tr>\n",
       "      <th>1745</th>\n",
       "      <td>Perak</td>\n",
       "      <td>Taman Bunga Raya</td>\n",
       "      <td>Pengkalan Hulu</td>\n",
       "      <td>30</td>\n",
       "    </tr>\n",
       "    <tr>\n",
       "      <th>1746</th>\n",
       "      <td>Perak</td>\n",
       "      <td>Taman Tulip Jaya</td>\n",
       "      <td>Pengkalan Hulu</td>\n",
       "      <td>20</td>\n",
       "    </tr>\n",
       "  </tbody>\n",
       "</table>\n",
       "<p>1747 rows × 4 columns</p>\n",
       "</div>"
      ],
      "text/plain": [
       "                STATE                RESIDENTAL_AREA        DISTRICT  \\\n",
       "0     Negeri Sembilan                   TAMAN SHUKOR        Seremban   \n",
       "1     Negeri Sembilan       TAMAN DESA KENANGA INDAH        Seremban   \n",
       "2     Negeri Sembilan              TAMAN VILLA PALMA        Seremban   \n",
       "3     Negeri Sembilan             TAMAN SERI SENTOSA        Seremban   \n",
       "4     Negeri Sembilan                 RESIDENSI SIGC        Seremban   \n",
       "...               ...                            ...             ...   \n",
       "1742            Perak                Taman Sri Bayas  Pengkalan Hulu   \n",
       "1743            Perak  Taman Intan (RPA Klian Intan)  Pengkalan Hulu   \n",
       "1744            Perak              RPA Klian Intan 2  Pengkalan Hulu   \n",
       "1745            Perak               Taman Bunga Raya  Pengkalan Hulu   \n",
       "1746            Perak               Taman Tulip Jaya  Pengkalan Hulu   \n",
       "\n",
       "     NUMBER_OF_HOUSES  \n",
       "0                  43  \n",
       "1                  30  \n",
       "2                  56  \n",
       "3                  28  \n",
       "4                 217  \n",
       "...               ...  \n",
       "1742               66  \n",
       "1743               50  \n",
       "1744               53  \n",
       "1745               30  \n",
       "1746               20  \n",
       "\n",
       "[1747 rows x 4 columns]"
      ]
     },
     "execution_count": 18,
     "metadata": {},
     "output_type": "execute_result"
    }
   ],
   "source": [
    "residentalLocation"
   ]
  },
  {
   "cell_type": "markdown",
   "metadata": {},
   "source": [
    "### 3. Are there any columns that require conversion of data type? \n",
    "Changing Data Type"
   ]
  },
  {
   "cell_type": "code",
   "execution_count": 19,
   "metadata": {},
   "outputs": [],
   "source": [
    "# change NUMBER_OF_HOUSES fro object to numerical data type\n",
    "residentalLocation['NUMBER_OF_HOUSES'] = pd.to_numeric(residentalLocation['NUMBER_OF_HOUSES'], errors='coerce')\n",
    "residentalLocation = residentalLocation.dropna()"
   ]
  },
  {
   "cell_type": "markdown",
   "metadata": {},
   "source": [
    "### 4. Are there any outliers in the data? Is the outliers an error or else?\n",
    "Outlier analysis"
   ]
  },
  {
   "cell_type": "code",
   "execution_count": 20,
   "metadata": {},
   "outputs": [
    {
     "data": {
      "text/html": [
       "\n",
       "<div id=\"altair-viz-faa1dc91a6aa4760953f886e3f798aba\"></div>\n",
       "<script type=\"text/javascript\">\n",
       "  (function(spec, embedOpt){\n",
       "    let outputDiv = document.currentScript.previousElementSibling;\n",
       "    if (outputDiv.id !== \"altair-viz-faa1dc91a6aa4760953f886e3f798aba\") {\n",
       "      outputDiv = document.getElementById(\"altair-viz-faa1dc91a6aa4760953f886e3f798aba\");\n",
       "    }\n",
       "    const paths = {\n",
       "      \"vega\": \"https://cdn.jsdelivr.net/npm//vega@5?noext\",\n",
       "      \"vega-lib\": \"https://cdn.jsdelivr.net/npm//vega-lib?noext\",\n",
       "      \"vega-lite\": \"https://cdn.jsdelivr.net/npm//vega-lite@4.8.1?noext\",\n",
       "      \"vega-embed\": \"https://cdn.jsdelivr.net/npm//vega-embed@6?noext\",\n",
       "    };\n",
       "\n",
       "    function loadScript(lib) {\n",
       "      return new Promise(function(resolve, reject) {\n",
       "        var s = document.createElement('script');\n",
       "        s.src = paths[lib];\n",
       "        s.async = true;\n",
       "        s.onload = () => resolve(paths[lib]);\n",
       "        s.onerror = () => reject(`Error loading script: ${paths[lib]}`);\n",
       "        document.getElementsByTagName(\"head\")[0].appendChild(s);\n",
       "      });\n",
       "    }\n",
       "\n",
       "    function showError(err) {\n",
       "      outputDiv.innerHTML = `<div class=\"error\" style=\"color:red;\">${err}</div>`;\n",
       "      throw err;\n",
       "    }\n",
       "\n",
       "    function displayChart(vegaEmbed) {\n",
       "      vegaEmbed(outputDiv, spec, embedOpt)\n",
       "        .catch(err => showError(`Javascript Error: ${err.message}<br>This usually means there's a typo in your chart specification. See the javascript console for the full traceback.`));\n",
       "    }\n",
       "\n",
       "    if(typeof define === \"function\" && define.amd) {\n",
       "      requirejs.config({paths});\n",
       "      require([\"vega-embed\"], displayChart, err => showError(`Error loading script: ${err.message}`));\n",
       "    } else if (typeof vegaEmbed === \"function\") {\n",
       "      displayChart(vegaEmbed);\n",
       "    } else {\n",
       "      loadScript(\"vega\")\n",
       "        .then(() => loadScript(\"vega-lite\"))\n",
       "        .then(() => loadScript(\"vega-embed\"))\n",
       "        .catch(showError)\n",
       "        .then(() => displayChart(vegaEmbed));\n",
       "    }\n",
       "  })({\"config\": {\"view\": {\"continuousWidth\": 400, \"continuousHeight\": 300}}, \"data\": {\"name\": \"data-447ad4a9e8cf029724ad7010fce6b2ba\"}, \"mark\": {\"type\": \"boxplot\", \"size\": 100}, \"encoding\": {\"color\": {\"type\": \"nominal\", \"field\": \"STATE\"}, \"x\": {\"type\": \"nominal\", \"field\": \"STATE\"}, \"y\": {\"type\": \"quantitative\", \"field\": \"NUMBER_OF_HOUSES\"}}, \"height\": 400, \"width\": 1000, \"$schema\": \"https://vega.github.io/schema/vega-lite/v4.8.1.json\", \"datasets\": {\"data-447ad4a9e8cf029724ad7010fce6b2ba\": [{\"STATE\": \"Negeri Sembilan\", \"RESIDENTAL_AREA\": \"TAMAN SHUKOR\", \"DISTRICT\": \"Seremban\", \"NUMBER_OF_HOUSES\": 43.0}, {\"STATE\": \"Negeri Sembilan\", \"RESIDENTAL_AREA\": \"TAMAN DESA KENANGA INDAH\", \"DISTRICT\": \"Seremban\", \"NUMBER_OF_HOUSES\": 30.0}, {\"STATE\": \"Negeri Sembilan\", \"RESIDENTAL_AREA\": \"TAMAN VILLA PALMA\", \"DISTRICT\": \"Seremban\", \"NUMBER_OF_HOUSES\": 56.0}, {\"STATE\": \"Negeri Sembilan\", \"RESIDENTAL_AREA\": \"TAMAN SERI SENTOSA\", \"DISTRICT\": \"Seremban\", \"NUMBER_OF_HOUSES\": 28.0}, {\"STATE\": \"Negeri Sembilan\", \"RESIDENTAL_AREA\": \"RESIDENSI SIGC\", \"DISTRICT\": \"Seremban\", \"NUMBER_OF_HOUSES\": 217.0}, {\"STATE\": \"Negeri Sembilan\", \"RESIDENTAL_AREA\": \"GEDUNG LALANG 162\", \"DISTRICT\": \"Seremban\", \"NUMBER_OF_HOUSES\": 198.0}, {\"STATE\": \"Negeri Sembilan\", \"RESIDENTAL_AREA\": \"GEDUNG LALANG 50\", \"DISTRICT\": \"Seremban\", \"NUMBER_OF_HOUSES\": 171.0}, {\"STATE\": \"Negeri Sembilan\", \"RESIDENTAL_AREA\": \"TAMAN DATO WAN\", \"DISTRICT\": \"Seremban\", \"NUMBER_OF_HOUSES\": 120.0}, {\"STATE\": \"Negeri Sembilan\", \"RESIDENTAL_AREA\": \"TAMAN GOLF HEIGHT\", \"DISTRICT\": \"Seremban\", \"NUMBER_OF_HOUSES\": 91.0}, {\"STATE\": \"Negeri Sembilan\", \"RESIDENTAL_AREA\": \"TAMAN SIKAMAT ACASIA COUNTRY HEIGHT\", \"DISTRICT\": \"Seremban\", \"NUMBER_OF_HOUSES\": 283.0}, {\"STATE\": \"Negeri Sembilan\", \"RESIDENTAL_AREA\": \"TAMAN BUKIT NIBONG\", \"DISTRICT\": \"Seremban\", \"NUMBER_OF_HOUSES\": 129.0}, {\"STATE\": \"Negeri Sembilan\", \"RESIDENTAL_AREA\": \"SEREMBAN PUTRA\", \"DISTRICT\": \"Seremban\", \"NUMBER_OF_HOUSES\": 1000.0}, {\"STATE\": \"Negeri Sembilan\", \"RESIDENTAL_AREA\": \"TAMAN DESA PERMAI\", \"DISTRICT\": \"Seremban\", \"NUMBER_OF_HOUSES\": 159.0}, {\"STATE\": \"Negeri Sembilan\", \"RESIDENTAL_AREA\": \"TAMAN PERWIRA\", \"DISTRICT\": \"Seremban\", \"NUMBER_OF_HOUSES\": 160.0}, {\"STATE\": \"Negeri Sembilan\", \"RESIDENTAL_AREA\": \"RUMAH RAKYAT SIKAMAT 1\", \"DISTRICT\": \"Seremban\", \"NUMBER_OF_HOUSES\": 159.0}, {\"STATE\": \"Negeri Sembilan\", \"RESIDENTAL_AREA\": \"TAMAN UJONG PASIR\", \"DISTRICT\": \"Seremban\", \"NUMBER_OF_HOUSES\": 14.0}, {\"STATE\": \"Negeri Sembilan\", \"RESIDENTAL_AREA\": \"TAMAN SRI PULAI\", \"DISTRICT\": \"Seremban\", \"NUMBER_OF_HOUSES\": 86.0}, {\"STATE\": \"Negeri Sembilan\", \"RESIDENTAL_AREA\": \"TAMAN ANGSANA\", \"DISTRICT\": \"Seremban\", \"NUMBER_OF_HOUSES\": 45.0}, {\"STATE\": \"Negeri Sembilan\", \"RESIDENTAL_AREA\": \"TAMAN KAYU MANIS\", \"DISTRICT\": \"Seremban\", \"NUMBER_OF_HOUSES\": 21.0}, {\"STATE\": \"Negeri Sembilan\", \"RESIDENTAL_AREA\": \"KAMPUNG JIBOI\", \"DISTRICT\": \"Seremban\", \"NUMBER_OF_HOUSES\": 533.0}, {\"STATE\": \"Negeri Sembilan\", \"RESIDENTAL_AREA\": \"TAMAN KEKWA\", \"DISTRICT\": \"Seremban\", \"NUMBER_OF_HOUSES\": 343.0}, {\"STATE\": \"Negeri Sembilan\", \"RESIDENTAL_AREA\": \"TAMAN SRI TANJUNG\", \"DISTRICT\": \"Seremban\", \"NUMBER_OF_HOUSES\": 21.0}, {\"STATE\": \"Negeri Sembilan\", \"RESIDENTAL_AREA\": \"TAMAN NEGERI AMPANGAN\", \"DISTRICT\": \"Seremban\", \"NUMBER_OF_HOUSES\": 36.0}, {\"STATE\": \"Negeri Sembilan\", \"RESIDENTAL_AREA\": \"TAMAN SRI LANDAK\", \"DISTRICT\": \"Seremban\", \"NUMBER_OF_HOUSES\": 13.0}, {\"STATE\": \"Negeri Sembilan\", \"RESIDENTAL_AREA\": \"TAMAN NZ\", \"DISTRICT\": \"Seremban\", \"NUMBER_OF_HOUSES\": 46.0}, {\"STATE\": \"Negeri Sembilan\", \"RESIDENTAL_AREA\": \"TAMAN SRI NEGERI\", \"DISTRICT\": \"Seremban\", \"NUMBER_OF_HOUSES\": 26.0}, {\"STATE\": \"Negeri Sembilan\", \"RESIDENTAL_AREA\": \"TAMAN BOUGAINVILLA\", \"DISTRICT\": \"Seremban\", \"NUMBER_OF_HOUSES\": 22.0}, {\"STATE\": \"Negeri Sembilan\", \"RESIDENTAL_AREA\": \"TAMAN BUKIT KELANA\", \"DISTRICT\": \"Seremban\", \"NUMBER_OF_HOUSES\": 73.0}, {\"STATE\": \"Negeri Sembilan\", \"RESIDENTAL_AREA\": \"TAMAN MELATI INDAH\", \"DISTRICT\": \"Seremban\", \"NUMBER_OF_HOUSES\": 34.0}, {\"STATE\": \"Negeri Sembilan\", \"RESIDENTAL_AREA\": \"TAMAN KIAMBANG INDAH\", \"DISTRICT\": \"Seremban\", \"NUMBER_OF_HOUSES\": 72.0}, {\"STATE\": \"Negeri Sembilan\", \"RESIDENTAL_AREA\": \"TAMAN DESA ROS\", \"DISTRICT\": \"Seremban\", \"NUMBER_OF_HOUSES\": 346.0}, {\"STATE\": \"Negeri Sembilan\", \"RESIDENTAL_AREA\": \"TAMAN SRI SIANTAN\", \"DISTRICT\": \"Seremban\", \"NUMBER_OF_HOUSES\": 27.0}, {\"STATE\": \"Negeri Sembilan\", \"RESIDENTAL_AREA\": \"TAMAN GURU\", \"DISTRICT\": \"Seremban\", \"NUMBER_OF_HOUSES\": 152.0}, {\"STATE\": \"Negeri Sembilan\", \"RESIDENTAL_AREA\": \"TAMAN DESA DURANTA\", \"DISTRICT\": \"Seremban\", \"NUMBER_OF_HOUSES\": 113.0}, {\"STATE\": \"Negeri Sembilan\", \"RESIDENTAL_AREA\": \"TAMAN SETIA HATI\", \"DISTRICT\": \"Seremban\", \"NUMBER_OF_HOUSES\": 24.0}, {\"STATE\": \"Negeri Sembilan\", \"RESIDENTAL_AREA\": \"TAMAN LILY SUTERA\", \"DISTRICT\": \"Seremban\", \"NUMBER_OF_HOUSES\": 26.0}, {\"STATE\": \"Negeri Sembilan\", \"RESIDENTAL_AREA\": \"TAMAN RASHIDAH UTAMA\", \"DISTRICT\": \"Seremban\", \"NUMBER_OF_HOUSES\": 53.0}, {\"STATE\": \"Negeri Sembilan\", \"RESIDENTAL_AREA\": \"KAMPUNG SENTOSA JAYA\", \"DISTRICT\": \"Seremban\", \"NUMBER_OF_HOUSES\": 138.0}, {\"STATE\": \"Negeri Sembilan\", \"RESIDENTAL_AREA\": \"KAMPUNG SENTOSA\", \"DISTRICT\": \"Seremban\", \"NUMBER_OF_HOUSES\": 388.0}, {\"STATE\": \"Negeri Sembilan\", \"RESIDENTAL_AREA\": \"FLAT CASURINA\", \"DISTRICT\": \"Seremban\", \"NUMBER_OF_HOUSES\": 237.0}, {\"STATE\": \"Negeri Sembilan\", \"RESIDENTAL_AREA\": \"PPR PAROI\", \"DISTRICT\": \"Seremban\", \"NUMBER_OF_HOUSES\": 390.0}, {\"STATE\": \"Negeri Sembilan\", \"RESIDENTAL_AREA\": \"KAMPUNG TOK DAGANG\", \"DISTRICT\": \"Seremban\", \"NUMBER_OF_HOUSES\": 115.0}, {\"STATE\": \"Negeri Sembilan\", \"RESIDENTAL_AREA\": \"TAMAN CENGAL UTAMA\", \"DISTRICT\": \"Seremban\", \"NUMBER_OF_HOUSES\": 551.0}, {\"STATE\": \"Negeri Sembilan\", \"RESIDENTAL_AREA\": \"TAMAN JEMERLANG\", \"DISTRICT\": \"Seremban\", \"NUMBER_OF_HOUSES\": 130.0}, {\"STATE\": \"Negeri Sembilan\", \"RESIDENTAL_AREA\": \"TAMAN MARGOSA\", \"DISTRICT\": \"Seremban\", \"NUMBER_OF_HOUSES\": 531.0}, {\"STATE\": \"Negeri Sembilan\", \"RESIDENTAL_AREA\": \"KAMPUNG MELAYU PANCHOR\", \"DISTRICT\": \"Seremban\", \"NUMBER_OF_HOUSES\": 23.0}, {\"STATE\": \"Negeri Sembilan\", \"RESIDENTAL_AREA\": \"TAMAN SRI PAROI\", \"DISTRICT\": \"Seremban\", \"NUMBER_OF_HOUSES\": 53.0}, {\"STATE\": \"Negeri Sembilan\", \"RESIDENTAL_AREA\": \"RUMAH MURAH PANCHOR\", \"DISTRICT\": \"Seremban\", \"NUMBER_OF_HOUSES\": 176.0}, {\"STATE\": \"Negeri Sembilan\", \"RESIDENTAL_AREA\": \"KAMPUNG PANCHOR\", \"DISTRICT\": \"Seremban\", \"NUMBER_OF_HOUSES\": 415.0}, {\"STATE\": \"Negeri Sembilan\", \"RESIDENTAL_AREA\": \"TAMAN NYIOR (A B C)\", \"DISTRICT\": \"Seremban\", \"NUMBER_OF_HOUSES\": 471.0}, {\"STATE\": \"Negeri Sembilan\", \"RESIDENTAL_AREA\": \"SEREMBAN FOREST HEIGHT\", \"DISTRICT\": \"Seremban\", \"NUMBER_OF_HOUSES\": 2388.0}, {\"STATE\": \"Negeri Sembilan\", \"RESIDENTAL_AREA\": \"TAMAN WARISAN PUTERI\", \"DISTRICT\": \"Seremban\", \"NUMBER_OF_HOUSES\": 5479.0}, {\"STATE\": \"Negeri Sembilan\", \"RESIDENTAL_AREA\": \"TAMAN SEREMBAN JAYA\", \"DISTRICT\": \"Seremban\", \"NUMBER_OF_HOUSES\": 30.0}, {\"STATE\": \"Negeri Sembilan\", \"RESIDENTAL_AREA\": \"TAMAN YOON FOOK\", \"DISTRICT\": \"Seremban\", \"NUMBER_OF_HOUSES\": 60.0}, {\"STATE\": \"Negeri Sembilan\", \"RESIDENTAL_AREA\": \"TAMAN TAN CHEE HOE\", \"DISTRICT\": \"Seremban\", \"NUMBER_OF_HOUSES\": 161.0}, {\"STATE\": \"Negeri Sembilan\", \"RESIDENTAL_AREA\": \"TAMAN SEREMBAN\", \"DISTRICT\": \"Seremban\", \"NUMBER_OF_HOUSES\": 136.0}, {\"STATE\": \"Negeri Sembilan\", \"RESIDENTAL_AREA\": \"TAMAN SEREMBAN BARU\", \"DISTRICT\": \"Seremban\", \"NUMBER_OF_HOUSES\": 483.0}, {\"STATE\": \"Negeri Sembilan\", \"RESIDENTAL_AREA\": \"TAMAN KIAN KEE\", \"DISTRICT\": \"Seremban\", \"NUMBER_OF_HOUSES\": 36.0}, {\"STATE\": \"Negeri Sembilan\", \"RESIDENTAL_AREA\": \"TAMAN DUSUN SETIA\", \"DISTRICT\": \"Seremban\", \"NUMBER_OF_HOUSES\": 864.0}, {\"STATE\": \"Negeri Sembilan\", \"RESIDENTAL_AREA\": \"TAMAN DATO SHAH BANDAR\", \"DISTRICT\": \"Seremban\", \"NUMBER_OF_HOUSES\": 238.0}, {\"STATE\": \"Negeri Sembilan\", \"RESIDENTAL_AREA\": \"TAMAN SAKURA\", \"DISTRICT\": \"Seremban\", \"NUMBER_OF_HOUSES\": 99.0}, {\"STATE\": \"Negeri Sembilan\", \"RESIDENTAL_AREA\": \"TAMAN BUKTI\", \"DISTRICT\": \"Seremban\", \"NUMBER_OF_HOUSES\": 407.0}, {\"STATE\": \"Negeri Sembilan\", \"RESIDENTAL_AREA\": \"TAMAN BAKAWALI\", \"DISTRICT\": \"Seremban\", \"NUMBER_OF_HOUSES\": 53.0}, {\"STATE\": \"Negeri Sembilan\", \"RESIDENTAL_AREA\": \"TAMAN BUKTI SETIA\", \"DISTRICT\": \"Seremban\", \"NUMBER_OF_HOUSES\": 109.0}, {\"STATE\": \"Negeri Sembilan\", \"RESIDENTAL_AREA\": \"TAMAN AMPANGAN\", \"DISTRICT\": \"Seremban\", \"NUMBER_OF_HOUSES\": 311.0}, {\"STATE\": \"Negeri Sembilan\", \"RESIDENTAL_AREA\": \"KAMPUNG BARU PAROI\", \"DISTRICT\": \"Seremban\", \"NUMBER_OF_HOUSES\": 58.0}, {\"STATE\": \"Negeri Sembilan\", \"RESIDENTAL_AREA\": \"TAMAN PINGGIRAN GOLF\", \"DISTRICT\": \"Seremban\", \"NUMBER_OF_HOUSES\": 411.0}, {\"STATE\": \"Negeri Sembilan\", \"RESIDENTAL_AREA\": \"TAMAN PAROI JAYA\", \"DISTRICT\": \"Seremban\", \"NUMBER_OF_HOUSES\": 1233.0}, {\"STATE\": \"Negeri Sembilan\", \"RESIDENTAL_AREA\": \"TAMAN PALMA JAYA\", \"DISTRICT\": \"Seremban\", \"NUMBER_OF_HOUSES\": 176.0}, {\"STATE\": \"Negeri Sembilan\", \"RESIDENTAL_AREA\": \"TAMAN PANCHOR JAYA\", \"DISTRICT\": \"Seremban\", \"NUMBER_OF_HOUSES\": 1154.0}, {\"STATE\": \"Negeri Sembilan\", \"RESIDENTAL_AREA\": \"TAMAN SRI TELAWI\", \"DISTRICT\": \"Seremban\", \"NUMBER_OF_HOUSES\": 311.0}, {\"STATE\": \"Negeri Sembilan\", \"RESIDENTAL_AREA\": \"TAMAN SIKAMAT UTAMA\", \"DISTRICT\": \"Seremban\", \"NUMBER_OF_HOUSES\": 245.0}, {\"STATE\": \"Negeri Sembilan\", \"RESIDENTAL_AREA\": \"TAMAN JUJUR\", \"DISTRICT\": \"Seremban\", \"NUMBER_OF_HOUSES\": 650.0}, {\"STATE\": \"Negeri Sembilan\", \"RESIDENTAL_AREA\": \"TAMAN DESA RHU\", \"DISTRICT\": \"Seremban\", \"NUMBER_OF_HOUSES\": 1428.0}, {\"STATE\": \"Negeri Sembilan\", \"RESIDENTAL_AREA\": \"TAMAN SRI PENAGA FASA 2\", \"DISTRICT\": \"Seremban\", \"NUMBER_OF_HOUSES\": 296.0}, {\"STATE\": \"Negeri Sembilan\", \"RESIDENTAL_AREA\": \"TAMAN KURSHIAH\", \"DISTRICT\": \"Seremban\", \"NUMBER_OF_HOUSES\": 53.0}, {\"STATE\": \"Negeri Sembilan\", \"RESIDENTAL_AREA\": \"TAMAN SELASEH\", \"DISTRICT\": \"Seremban\", \"NUMBER_OF_HOUSES\": 59.0}, {\"STATE\": \"Negeri Sembilan\", \"RESIDENTAL_AREA\": \"TAMAN SIKAMAT JAYA\", \"DISTRICT\": \"Seremban\", \"NUMBER_OF_HOUSES\": 113.0}, {\"STATE\": \"Negeri Sembilan\", \"RESIDENTAL_AREA\": \"TAMAN MEGAWAY\", \"DISTRICT\": \"Seremban\", \"NUMBER_OF_HOUSES\": 302.0}, {\"STATE\": \"Negeri Sembilan\", \"RESIDENTAL_AREA\": \"KAMPUNG BARU SIKAMAT\", \"DISTRICT\": \"Seremban\", \"NUMBER_OF_HOUSES\": 246.0}, {\"STATE\": \"Negeri Sembilan\", \"RESIDENTAL_AREA\": \"TAMAN AMPANGAN JAYA\", \"DISTRICT\": \"Seremban\", \"NUMBER_OF_HOUSES\": 1387.0}, {\"STATE\": \"Negeri Sembilan\", \"RESIDENTAL_AREA\": \"TAMAN PELANGI\", \"DISTRICT\": \"Seremban\", \"NUMBER_OF_HOUSES\": 560.0}, {\"STATE\": \"Negeri Sembilan\", \"RESIDENTAL_AREA\": \"TAMAN SRI INAI\", \"DISTRICT\": \"Seremban\", \"NUMBER_OF_HOUSES\": 156.0}, {\"STATE\": \"Negeri Sembilan\", \"RESIDENTAL_AREA\": \"TAMAN COLLEGE HEIGHT\", \"DISTRICT\": \"Seremban\", \"NUMBER_OF_HOUSES\": 909.0}, {\"STATE\": \"Negeri Sembilan\", \"RESIDENTAL_AREA\": \"TAMAN SRI PENAGA FASA 1\", \"DISTRICT\": \"Seremban\", \"NUMBER_OF_HOUSES\": 135.0}, {\"STATE\": \"Negeri Sembilan\", \"RESIDENTAL_AREA\": \"TAMAN PINANG GADING\", \"DISTRICT\": \"Seremban\", \"NUMBER_OF_HOUSES\": 186.0}, {\"STATE\": \"Negeri Sembilan\", \"RESIDENTAL_AREA\": \"TAMAN SRI PULAI\", \"DISTRICT\": \"Seremban\", \"NUMBER_OF_HOUSES\": 522.0}, {\"STATE\": \"Negeri Sembilan\", \"RESIDENTAL_AREA\": \"TAMAN DESA BERINGIN\", \"DISTRICT\": \"Seremban\", \"NUMBER_OF_HOUSES\": 285.0}, {\"STATE\": \"Negeri Sembilan\", \"RESIDENTAL_AREA\": \"TAMAN DESA KIARA\", \"DISTRICT\": \"Seremban\", \"NUMBER_OF_HOUSES\": 318.0}, {\"STATE\": \"Negeri Sembilan\", \"RESIDENTAL_AREA\": \"TAMAN SRI PAGI\", \"DISTRICT\": \"Seremban\", \"NUMBER_OF_HOUSES\": 713.0}, {\"STATE\": \"Negeri Sembilan\", \"RESIDENTAL_AREA\": \"TAMAN RASA SAYANG\", \"DISTRICT\": \"Seremban\", \"NUMBER_OF_HOUSES\": 236.0}, {\"STATE\": \"Negeri Sembilan\", \"RESIDENTAL_AREA\": \"TAMAN CEMPAKA\", \"DISTRICT\": \"Seremban\", \"NUMBER_OF_HOUSES\": 364.0}, {\"STATE\": \"Negeri Sembilan\", \"RESIDENTAL_AREA\": \"TAMAN CEMPAKA 3\", \"DISTRICT\": \"Seremban\", \"NUMBER_OF_HOUSES\": 380.0}, {\"STATE\": \"Negeri Sembilan\", \"RESIDENTAL_AREA\": \"TAMAN MARIDA\", \"DISTRICT\": \"Seremban\", \"NUMBER_OF_HOUSES\": 981.0}, {\"STATE\": \"Negeri Sembilan\", \"RESIDENTAL_AREA\": \"TAMAN SENAWANG JAYA\", \"DISTRICT\": \"Seremban\", \"NUMBER_OF_HOUSES\": 1427.0}, {\"STATE\": \"Negeri Sembilan\", \"RESIDENTAL_AREA\": \"TAMAN DESA ANGGERIK\", \"DISTRICT\": \"Seremban\", \"NUMBER_OF_HOUSES\": 388.0}, {\"STATE\": \"Negeri Sembilan\", \"RESIDENTAL_AREA\": \"TAMAN KOBENA\", \"DISTRICT\": \"Seremban\", \"NUMBER_OF_HOUSES\": 388.0}, {\"STATE\": \"Negeri Sembilan\", \"RESIDENTAL_AREA\": \"TAMAN SENAWANG INDAH\", \"DISTRICT\": \"Seremban\", \"NUMBER_OF_HOUSES\": 372.0}, {\"STATE\": \"Negeri Sembilan\", \"RESIDENTAL_AREA\": \"TAMAN SATRIA\", \"DISTRICT\": \"Seremban\", \"NUMBER_OF_HOUSES\": 891.0}, {\"STATE\": \"Negeri Sembilan\", \"RESIDENTAL_AREA\": \"TAMAN SRI KASIH\", \"DISTRICT\": \"Seremban\", \"NUMBER_OF_HOUSES\": 276.0}, {\"STATE\": \"Negeri Sembilan\", \"RESIDENTAL_AREA\": \"TAMAN TASIK JAYA\", \"DISTRICT\": \"Seremban\", \"NUMBER_OF_HOUSES\": 2689.0}, {\"STATE\": \"Negeri Sembilan\", \"RESIDENTAL_AREA\": \"TAMAN SRI MAWAR\", \"DISTRICT\": \"Seremban\", \"NUMBER_OF_HOUSES\": 670.0}, {\"STATE\": \"Negeri Sembilan\", \"RESIDENTAL_AREA\": \"TAMAN DESA DAHLIA\", \"DISTRICT\": \"Seremban\", \"NUMBER_OF_HOUSES\": 511.0}, {\"STATE\": \"Negeri Sembilan\", \"RESIDENTAL_AREA\": \"TAMAN LILY\", \"DISTRICT\": \"Seremban\", \"NUMBER_OF_HOUSES\": 156.0}, {\"STATE\": \"Negeri Sembilan\", \"RESIDENTAL_AREA\": \"TAMAN TERATAI\", \"DISTRICT\": \"Seremban\", \"NUMBER_OF_HOUSES\": 255.0}, {\"STATE\": \"Negeri Sembilan\", \"RESIDENTAL_AREA\": \"TAMAN DESA FLORA\", \"DISTRICT\": \"Seremban\", \"NUMBER_OF_HOUSES\": 68.0}, {\"STATE\": \"Negeri Sembilan\", \"RESIDENTAL_AREA\": \"TAMAN WIDURI\", \"DISTRICT\": \"Seremban\", \"NUMBER_OF_HOUSES\": 415.0}, {\"STATE\": \"Negeri Sembilan\", \"RESIDENTAL_AREA\": \"TAMAN SRI BAYU\", \"DISTRICT\": \"Seremban\", \"NUMBER_OF_HOUSES\": 219.0}, {\"STATE\": \"Negeri Sembilan\", \"RESIDENTAL_AREA\": \"TAMAN ALAMANDA\", \"DISTRICT\": \"Seremban\", \"NUMBER_OF_HOUSES\": 458.0}, {\"STATE\": \"Negeri Sembilan\", \"RESIDENTAL_AREA\": \"RUMAH PANGSA SENAWANG 2\", \"DISTRICT\": \"Seremban\", \"NUMBER_OF_HOUSES\": 632.0}, {\"STATE\": \"Negeri Sembilan\", \"RESIDENTAL_AREA\": \"TAMAN JASMIN\", \"DISTRICT\": \"Seremban\", \"NUMBER_OF_HOUSES\": 1201.0}, {\"STATE\": \"Negeri Sembilan\", \"RESIDENTAL_AREA\": \"TAMAN MATAHARI HEIGHT\", \"DISTRICT\": \"Seremban\", \"NUMBER_OF_HOUSES\": 404.0}, {\"STATE\": \"Negeri Sembilan\", \"RESIDENTAL_AREA\": \"TAMAN KEMUNING\", \"DISTRICT\": \"Seremban\", \"NUMBER_OF_HOUSES\": 428.0}, {\"STATE\": \"Negeri Sembilan\", \"RESIDENTAL_AREA\": \"TAMAN DESA JAYA\", \"DISTRICT\": \"Seremban\", \"NUMBER_OF_HOUSES\": 288.0}, {\"STATE\": \"Negeri Sembilan\", \"RESIDENTAL_AREA\": \"TAMAN JASMIN INDAH\", \"DISTRICT\": \"Seremban\", \"NUMBER_OF_HOUSES\": 412.0}, {\"STATE\": \"Negeri Sembilan\", \"RESIDENTAL_AREA\": \"TAMAN TASIK JAYA 2\", \"DISTRICT\": \"Seremban\", \"NUMBER_OF_HOUSES\": 412.0}, {\"STATE\": \"Negeri Sembilan\", \"RESIDENTAL_AREA\": \"TAMAN DESA IXORA\", \"DISTRICT\": \"Seremban\", \"NUMBER_OF_HOUSES\": 441.0}, {\"STATE\": \"Negeri Sembilan\", \"RESIDENTAL_AREA\": \"TAMAN ROS MEWAH\", \"DISTRICT\": \"Seremban\", \"NUMBER_OF_HOUSES\": 693.0}, {\"STATE\": \"Negeri Sembilan\", \"RESIDENTAL_AREA\": \"TAMAN DESA ORKID\", \"DISTRICT\": \"Seremban\", \"NUMBER_OF_HOUSES\": 406.0}, {\"STATE\": \"Negeri Sembilan\", \"RESIDENTAL_AREA\": \"TAMAN DESA MELOR\", \"DISTRICT\": \"Seremban\", \"NUMBER_OF_HOUSES\": 466.0}, {\"STATE\": \"Negeri Sembilan\", \"RESIDENTAL_AREA\": \"TAMAN JASMIN INDAH 2\", \"DISTRICT\": \"Seremban\", \"NUMBER_OF_HOUSES\": 328.0}, {\"STATE\": \"Negeri Sembilan\", \"RESIDENTAL_AREA\": \"TAMAN MATAHARI INDAH\", \"DISTRICT\": \"Seremban\", \"NUMBER_OF_HOUSES\": 407.0}, {\"STATE\": \"Negeri Sembilan\", \"RESIDENTAL_AREA\": \"TAMAN SENAWANG INDAH 2\", \"DISTRICT\": \"Seremban\", \"NUMBER_OF_HOUSES\": 38.0}, {\"STATE\": \"Negeri Sembilan\", \"RESIDENTAL_AREA\": \"TAMAN MAYANG SARI\", \"DISTRICT\": \"Seremban\", \"NUMBER_OF_HOUSES\": 100.0}, {\"STATE\": \"Negeri Sembilan\", \"RESIDENTAL_AREA\": \"TAMAN DESA FLORA 2\", \"DISTRICT\": \"Seremban\", \"NUMBER_OF_HOUSES\": 54.0}, {\"STATE\": \"Negeri Sembilan\", \"RESIDENTAL_AREA\": \"TAMAN DESA MELOR INDAH\", \"DISTRICT\": \"Seremban\", \"NUMBER_OF_HOUSES\": 38.0}, {\"STATE\": \"Negeri Sembilan\", \"RESIDENTAL_AREA\": \"TAMAN LAVENDER HEIGHT\", \"DISTRICT\": \"Seremban\", \"NUMBER_OF_HOUSES\": 1107.0}, {\"STATE\": \"Negeri Sembilan\", \"RESIDENTAL_AREA\": \"TAMAN SEROJA INDAH\", \"DISTRICT\": \"Seremban\", \"NUMBER_OF_HOUSES\": 19.0}, {\"STATE\": \"Negeri Sembilan\", \"RESIDENTAL_AREA\": \"TAMAN BOURGAINVILLEA IDAMAN\", \"DISTRICT\": \"Seremban\", \"NUMBER_OF_HOUSES\": 19.0}, {\"STATE\": \"Negeri Sembilan\", \"RESIDENTAL_AREA\": \"TAMAN SERI KIAMBANG\", \"DISTRICT\": \"Seremban\", \"NUMBER_OF_HOUSES\": 64.0}, {\"STATE\": \"Negeri Sembilan\", \"RESIDENTAL_AREA\": \"LAMAN AKASIA\", \"DISTRICT\": \"Seremban\", \"NUMBER_OF_HOUSES\": 80.0}, {\"STATE\": \"Negeri Sembilan\", \"RESIDENTAL_AREA\": \"TAMAN VILLA BERINGIN\", \"DISTRICT\": \"Seremban\", \"NUMBER_OF_HOUSES\": 60.0}, {\"STATE\": \"Negeri Sembilan\", \"RESIDENTAL_AREA\": \"TAMAN TASIK JAYA 2\", \"DISTRICT\": \"Seremban\", \"NUMBER_OF_HOUSES\": 16.0}, {\"STATE\": \"Negeri Sembilan\", \"RESIDENTAL_AREA\": \"TAMAN SERI PANDAN\", \"DISTRICT\": \"Seremban\", \"NUMBER_OF_HOUSES\": 14.0}, {\"STATE\": \"Negeri Sembilan\", \"RESIDENTAL_AREA\": \"TAMAN PENAGA INDAH\", \"DISTRICT\": \"Seremban\", \"NUMBER_OF_HOUSES\": 72.0}, {\"STATE\": \"Negeri Sembilan\", \"RESIDENTAL_AREA\": \"TAMAN KIARA INDAH\", \"DISTRICT\": \"Seremban\", \"NUMBER_OF_HOUSES\": 147.0}, {\"STATE\": \"Negeri Sembilan\", \"RESIDENTAL_AREA\": \"TAMAN DESA ROS\", \"DISTRICT\": \"Seremban\", \"NUMBER_OF_HOUSES\": 62.0}, {\"STATE\": \"Negeri Sembilan\", \"RESIDENTAL_AREA\": \"RUMAH RAKYAT SIKAMAT 2\", \"DISTRICT\": \"Seremban\", \"NUMBER_OF_HOUSES\": 200.0}, {\"STATE\": \"Negeri Sembilan\", \"RESIDENTAL_AREA\": \"TAMAN RASHIDAH UTAMA 2\", \"DISTRICT\": \"Seremban\", \"NUMBER_OF_HOUSES\": 14.0}, {\"STATE\": \"Negeri Sembilan\", \"RESIDENTAL_AREA\": \"TAMAN SENTOSA INDAH\", \"DISTRICT\": \"Seremban\", \"NUMBER_OF_HOUSES\": 26.0}, {\"STATE\": \"Negeri Sembilan\", \"RESIDENTAL_AREA\": \"TAMAN CEMPAKA 2\", \"DISTRICT\": \"Seremban\", \"NUMBER_OF_HOUSES\": 28.0}, {\"STATE\": \"Negeri Sembilan\", \"RESIDENTAL_AREA\": \"VILLA SURIA\", \"DISTRICT\": \"Seremban\", \"NUMBER_OF_HOUSES\": 35.0}, {\"STATE\": \"Negeri Sembilan\", \"RESIDENTAL_AREA\": \"TAMAN DELLINIA\", \"DISTRICT\": \"Seremban\", \"NUMBER_OF_HOUSES\": 61.0}, {\"STATE\": \"Negeri Sembilan\", \"RESIDENTAL_AREA\": \"TAMAN NEE YAN\", \"DISTRICT\": \"Seremban\", \"NUMBER_OF_HOUSES\": 265.0}, {\"STATE\": \"Negeri Sembilan\", \"RESIDENTAL_AREA\": \"TAMAN BUKIT MARKISA\", \"DISTRICT\": \"Seremban\", \"NUMBER_OF_HOUSES\": 87.0}, {\"STATE\": \"Negeri Sembilan\", \"RESIDENTAL_AREA\": \"TAMAN SURIA\", \"DISTRICT\": \"Seremban\", \"NUMBER_OF_HOUSES\": 35.0}, {\"STATE\": \"Negeri Sembilan\", \"RESIDENTAL_AREA\": \"TAMAN PERMATA\", \"DISTRICT\": \"Seremban\", \"NUMBER_OF_HOUSES\": 212.0}, {\"STATE\": \"Negeri Sembilan\", \"RESIDENTAL_AREA\": \"TAMAN JED VILLA\", \"DISTRICT\": \"Seremban\", \"NUMBER_OF_HOUSES\": 30.0}, {\"STATE\": \"Negeri Sembilan\", \"RESIDENTAL_AREA\": \"TAMAN TUNKU ABDUL RAHMAN\", \"DISTRICT\": \"Seremban\", \"NUMBER_OF_HOUSES\": 43.0}, {\"STATE\": \"Negeri Sembilan\", \"RESIDENTAL_AREA\": \"RUMAH PANGSA LOBAK\", \"DISTRICT\": \"Seremban\", \"NUMBER_OF_HOUSES\": 190.0}, {\"STATE\": \"Negeri Sembilan\", \"RESIDENTAL_AREA\": \"PPR LOBAK\", \"DISTRICT\": \"Seremban\", \"NUMBER_OF_HOUSES\": 468.0}, {\"STATE\": \"Negeri Sembilan\", \"RESIDENTAL_AREA\": \"TAMAN SAGA\", \"DISTRICT\": \"Seremban\", \"NUMBER_OF_HOUSES\": 124.0}, {\"STATE\": \"Negeri Sembilan\", \"RESIDENTAL_AREA\": \"TAMAN BUKIT LEMON\", \"DISTRICT\": \"Seremban\", \"NUMBER_OF_HOUSES\": 69.0}, {\"STATE\": \"Negeri Sembilan\", \"RESIDENTAL_AREA\": \"RUMAH PANGSA TUN DR ISMAIL\", \"DISTRICT\": \"Seremban\", \"NUMBER_OF_HOUSES\": 330.0}, {\"STATE\": \"Negeri Sembilan\", \"RESIDENTAL_AREA\": \"TAMAN BUKIT TEMBOK\", \"DISTRICT\": \"Seremban\", \"NUMBER_OF_HOUSES\": 181.0}, {\"STATE\": \"Negeri Sembilan\", \"RESIDENTAL_AREA\": \"TAMAN BUKIT NENAS\", \"DISTRICT\": \"Seremban\", \"NUMBER_OF_HOUSES\": 38.0}, {\"STATE\": \"Negeri Sembilan\", \"RESIDENTAL_AREA\": \"TAMAN BUKIT BELIMBING\", \"DISTRICT\": \"Seremban\", \"NUMBER_OF_HOUSES\": 21.0}, {\"STATE\": \"Negeri Sembilan\", \"RESIDENTAL_AREA\": \"TAMAN LIAN\", \"DISTRICT\": \"Seremban\", \"NUMBER_OF_HOUSES\": 26.0}, {\"STATE\": \"Negeri Sembilan\", \"RESIDENTAL_AREA\": \"TAMAN BAN AIK\", \"DISTRICT\": \"Seremban\", \"NUMBER_OF_HOUSES\": 22.0}, {\"STATE\": \"Negeri Sembilan\", \"RESIDENTAL_AREA\": \"TAMAN KELANA INDAH\", \"DISTRICT\": \"Seremban\", \"NUMBER_OF_HOUSES\": 42.0}, {\"STATE\": \"Negeri Sembilan\", \"RESIDENTAL_AREA\": \"TAMAN LIMAU EMAS\", \"DISTRICT\": \"Seremban\", \"NUMBER_OF_HOUSES\": 119.0}, {\"STATE\": \"Negeri Sembilan\", \"RESIDENTAL_AREA\": \"TAMAN KLANA JUBLI\", \"DISTRICT\": \"Seremban\", \"NUMBER_OF_HOUSES\": 74.0}, {\"STATE\": \"Negeri Sembilan\", \"RESIDENTAL_AREA\": \"TAMAN TUAN SHEIKH\", \"DISTRICT\": \"Seremban\", \"NUMBER_OF_HOUSES\": 24.0}, {\"STATE\": \"Negeri Sembilan\", \"RESIDENTAL_AREA\": \"TAMAN HO\", \"DISTRICT\": \"Seremban\", \"NUMBER_OF_HOUSES\": 38.0}, {\"STATE\": \"Negeri Sembilan\", \"RESIDENTAL_AREA\": \"TAMAN DATO ABU HANIFAH\", \"DISTRICT\": \"Seremban\", \"NUMBER_OF_HOUSES\": 134.0}, {\"STATE\": \"Negeri Sembilan\", \"RESIDENTAL_AREA\": \"KAMPUNG BARU RASAH\", \"DISTRICT\": \"Seremban\", \"NUMBER_OF_HOUSES\": 484.0}, {\"STATE\": \"Negeri Sembilan\", \"RESIDENTAL_AREA\": \"TAMAN BUKIT CHEDANG 1\", \"DISTRICT\": \"Seremban\", \"NUMBER_OF_HOUSES\": 530.0}, {\"STATE\": \"Negeri Sembilan\", \"RESIDENTAL_AREA\": \"TAMAN BUKIT CHEDANG 2\", \"DISTRICT\": \"Seremban\", \"NUMBER_OF_HOUSES\": 832.0}, {\"STATE\": \"Negeri Sembilan\", \"RESIDENTAL_AREA\": \"TAMAN SUNGAI UJONG\", \"DISTRICT\": \"Seremban\", \"NUMBER_OF_HOUSES\": 96.0}, {\"STATE\": \"Negeri Sembilan\", \"RESIDENTAL_AREA\": \"TAMAN SRI PUTEH\", \"DISTRICT\": \"Seremban\", \"NUMBER_OF_HOUSES\": 30.0}, {\"STATE\": \"Negeri Sembilan\", \"RESIDENTAL_AREA\": \"TAMAN MOK SUM\", \"DISTRICT\": \"Seremban\", \"NUMBER_OF_HOUSES\": 57.0}, {\"STATE\": \"Negeri Sembilan\", \"RESIDENTAL_AREA\": \"TAMAN HAPPY\", \"DISTRICT\": \"Seremban\", \"NUMBER_OF_HOUSES\": 65.0}, {\"STATE\": \"Negeri Sembilan\", \"RESIDENTAL_AREA\": \"TAMAN KASTURI\", \"DISTRICT\": \"Seremban\", \"NUMBER_OF_HOUSES\": 28.0}, {\"STATE\": \"Negeri Sembilan\", \"RESIDENTAL_AREA\": \"TAMAN UJONG\", \"DISTRICT\": \"Seremban\", \"NUMBER_OF_HOUSES\": 73.0}, {\"STATE\": \"Negeri Sembilan\", \"RESIDENTAL_AREA\": \"TAMAN SRI LOOP\", \"DISTRICT\": \"Seremban\", \"NUMBER_OF_HOUSES\": 156.0}, {\"STATE\": \"Negeri Sembilan\", \"RESIDENTAL_AREA\": \"TAMAN KENARI\", \"DISTRICT\": \"Seremban\", \"NUMBER_OF_HOUSES\": 28.0}, {\"STATE\": \"Negeri Sembilan\", \"RESIDENTAL_AREA\": \"TAMAN SEJAHTERA\", \"DISTRICT\": \"Seremban\", \"NUMBER_OF_HOUSES\": 53.0}, {\"STATE\": \"Negeri Sembilan\", \"RESIDENTAL_AREA\": \"TAMAN STAR LIGHT\", \"DISTRICT\": \"Seremban\", \"NUMBER_OF_HOUSES\": 140.0}, {\"STATE\": \"Negeri Sembilan\", \"RESIDENTAL_AREA\": \"TAMAN CHEONG LOONG\", \"DISTRICT\": \"Seremban\", \"NUMBER_OF_HOUSES\": 119.0}, {\"STATE\": \"Negeri Sembilan\", \"RESIDENTAL_AREA\": \"KAMPUNG ABOK (KAMPUNG SEMARAK)\", \"DISTRICT\": \"Seremban\", \"NUMBER_OF_HOUSES\": 103.0}, {\"STATE\": \"Negeri Sembilan\", \"RESIDENTAL_AREA\": \"TAMAN ABOK JAYA\", \"DISTRICT\": \"Seremban\", \"NUMBER_OF_HOUSES\": 150.0}, {\"STATE\": \"Negeri Sembilan\", \"RESIDENTAL_AREA\": \"KAMPUNG DATOK MANSOR\", \"DISTRICT\": \"Seremban\", \"NUMBER_OF_HOUSES\": 133.0}, {\"STATE\": \"Negeri Sembilan\", \"RESIDENTAL_AREA\": \"TAMAN SRI PULASAN\", \"DISTRICT\": \"Seremban\", \"NUMBER_OF_HOUSES\": 21.0}, {\"STATE\": \"Negeri Sembilan\", \"RESIDENTAL_AREA\": \"TAMAN RAHANG\", \"DISTRICT\": \"Seremban\", \"NUMBER_OF_HOUSES\": 188.0}, {\"STATE\": \"Negeri Sembilan\", \"RESIDENTAL_AREA\": \"TAMAN BIDARA\", \"DISTRICT\": \"Seremban\", \"NUMBER_OF_HOUSES\": 977.0}, {\"STATE\": \"Negeri Sembilan\", \"RESIDENTAL_AREA\": \"TAMAN MERDEKA HEIGHT\", \"DISTRICT\": \"Seremban\", \"NUMBER_OF_HOUSES\": 42.0}, {\"STATE\": \"Negeri Sembilan\", \"RESIDENTAL_AREA\": \"TAMAN DUSUN NYIOR\", \"DISTRICT\": \"Seremban\", \"NUMBER_OF_HOUSES\": 135.0}, {\"STATE\": \"Negeri Sembilan\", \"RESIDENTAL_AREA\": \"TAMAN BUKIT RASAH\", \"DISTRICT\": \"Seremban\", \"NUMBER_OF_HOUSES\": 331.0}, {\"STATE\": \"Negeri Sembilan\", \"RESIDENTAL_AREA\": \"KAMPUNG BUKIT TEMIANG\", \"DISTRICT\": \"Seremban\", \"NUMBER_OF_HOUSES\": 58.0}, {\"STATE\": \"Negeri Sembilan\", \"RESIDENTAL_AREA\": \"KAMPUNG MERBAH\", \"DISTRICT\": \"Seremban\", \"NUMBER_OF_HOUSES\": 23.0}, {\"STATE\": \"Negeri Sembilan\", \"RESIDENTAL_AREA\": \"TAMAN MERANTI JAYA\", \"DISTRICT\": \"Seremban\", \"NUMBER_OF_HOUSES\": 24.0}, {\"STATE\": \"Negeri Sembilan\", \"RESIDENTAL_AREA\": \"TAMAN ENGLAND\", \"DISTRICT\": \"Seremban\", \"NUMBER_OF_HOUSES\": 76.0}, {\"STATE\": \"Negeri Sembilan\", \"RESIDENTAL_AREA\": \"TAMAN DESA MANGGIS\", \"DISTRICT\": \"Seremban\", \"NUMBER_OF_HOUSES\": 23.0}, {\"STATE\": \"Negeri Sembilan\", \"RESIDENTAL_AREA\": \"TAMAN ZAITUN INDAH\", \"DISTRICT\": \"Seremban\", \"NUMBER_OF_HOUSES\": 173.0}, {\"STATE\": \"Negeri Sembilan\", \"RESIDENTAL_AREA\": \"TAMAN SENA JAYA\", \"DISTRICT\": \"Seremban\", \"NUMBER_OF_HOUSES\": 16.0}, {\"STATE\": \"Negeri Sembilan\", \"RESIDENTAL_AREA\": \"TAMAN SRI RAMBAI\", \"DISTRICT\": \"Seremban\", \"NUMBER_OF_HOUSES\": 40.0}, {\"STATE\": \"Negeri Sembilan\", \"RESIDENTAL_AREA\": \"TAMAN SRI RAHANG\", \"DISTRICT\": \"Seremban\", \"NUMBER_OF_HOUSES\": 159.0}, {\"STATE\": \"Negeri Sembilan\", \"RESIDENTAL_AREA\": \"TAMAN BUKIT NONA\", \"DISTRICT\": \"Seremban\", \"NUMBER_OF_HOUSES\": 40.0}, {\"STATE\": \"Negeri Sembilan\", \"RESIDENTAL_AREA\": \"TAMAN CERMAI JAYA\", \"DISTRICT\": \"Seremban\", \"NUMBER_OF_HOUSES\": 32.0}, {\"STATE\": \"Negeri Sembilan\", \"RESIDENTAL_AREA\": \"TAMAN SETIA JAYA\", \"DISTRICT\": \"Seremban\", \"NUMBER_OF_HOUSES\": 30.0}, {\"STATE\": \"Negeri Sembilan\", \"RESIDENTAL_AREA\": \"KAMPUNG ISMAIL\", \"DISTRICT\": \"Seremban\", \"NUMBER_OF_HOUSES\": 62.0}, {\"STATE\": \"Negeri Sembilan\", \"RESIDENTAL_AREA\": \"TAMAN MURUGESU\", \"DISTRICT\": \"Seremban\", \"NUMBER_OF_HOUSES\": 54.0}, {\"STATE\": \"Negeri Sembilan\", \"RESIDENTAL_AREA\": \"TAMAN LEE SIEW JOO\", \"DISTRICT\": \"Seremban\", \"NUMBER_OF_HOUSES\": 46.0}, {\"STATE\": \"Negeri Sembilan\", \"RESIDENTAL_AREA\": \"TAMAN BUKIT AMPANGAN\", \"DISTRICT\": \"Seremban\", \"NUMBER_OF_HOUSES\": 46.0}, {\"STATE\": \"Negeri Sembilan\", \"RESIDENTAL_AREA\": \"TAMAN SIKAMAT\", \"DISTRICT\": \"Seremban\", \"NUMBER_OF_HOUSES\": 19.0}, {\"STATE\": \"Negeri Sembilan\", \"RESIDENTAL_AREA\": \"TAMAN PUNCA EMAS\", \"DISTRICT\": \"Seremban\", \"NUMBER_OF_HOUSES\": 149.0}, {\"STATE\": \"Negeri Sembilan\", \"RESIDENTAL_AREA\": \"TAMAN NEGERI\", \"DISTRICT\": \"Seremban\", \"NUMBER_OF_HOUSES\": 20.0}, {\"STATE\": \"Negeri Sembilan\", \"RESIDENTAL_AREA\": \"TAMAN SIM\", \"DISTRICT\": \"Seremban\", \"NUMBER_OF_HOUSES\": 21.0}, {\"STATE\": \"Negeri Sembilan\", \"RESIDENTAL_AREA\": \"TAMAN PERMAI JAYA\", \"DISTRICT\": \"Seremban\", \"NUMBER_OF_HOUSES\": 508.0}, {\"STATE\": \"Negeri Sembilan\", \"RESIDENTAL_AREA\": \"AMPANGAN BLOK B dan C\", \"DISTRICT\": \"Seremban\", \"NUMBER_OF_HOUSES\": 138.0}, {\"STATE\": \"Negeri Sembilan\", \"RESIDENTAL_AREA\": \"TAMAN NEGERI (RASAH)\", \"DISTRICT\": \"Seremban\", \"NUMBER_OF_HOUSES\": 122.0}, {\"STATE\": \"Negeri Sembilan\", \"RESIDENTAL_AREA\": \"TAMAN KOOP\", \"DISTRICT\": \"Seremban\", \"NUMBER_OF_HOUSES\": 31.0}, {\"STATE\": \"Negeri Sembilan\", \"RESIDENTAL_AREA\": \"TAMAN NYIOR HIJAU\", \"DISTRICT\": \"Seremban\", \"NUMBER_OF_HOUSES\": 63.0}, {\"STATE\": \"Negeri Sembilan\", \"RESIDENTAL_AREA\": \"TAMAN LIMAU EMAS FASA 3\", \"DISTRICT\": \"Seremban\", \"NUMBER_OF_HOUSES\": 12.0}, {\"STATE\": \"Negeri Sembilan\", \"RESIDENTAL_AREA\": \"TAMAN ANGGUR JAYA\", \"DISTRICT\": \"Seremban\", \"NUMBER_OF_HOUSES\": 102.0}, {\"STATE\": \"Negeri Sembilan\", \"RESIDENTAL_AREA\": \"OFF JLN TUAN HAJI SAID (LAKE HEIGHT)\", \"DISTRICT\": \"Seremban\", \"NUMBER_OF_HOUSES\": 25.0}, {\"STATE\": \"Negeri Sembilan\", \"RESIDENTAL_AREA\": \"VILA TAMAN TASIK\", \"DISTRICT\": \"Seremban\", \"NUMBER_OF_HOUSES\": 8.0}, {\"STATE\": \"Negeri Sembilan\", \"RESIDENTAL_AREA\": \"KAMPUNG SINGH\", \"DISTRICT\": \"Seremban\", \"NUMBER_OF_HOUSES\": 61.0}, {\"STATE\": \"Negeri Sembilan\", \"RESIDENTAL_AREA\": \"TAMAN PERMAI IMPIAN\", \"DISTRICT\": \"Seremban\", \"NUMBER_OF_HOUSES\": 502.0}, {\"STATE\": \"Negeri Sembilan\", \"RESIDENTAL_AREA\": \"KAMPUNG PASIR\", \"DISTRICT\": \"Seremban\", \"NUMBER_OF_HOUSES\": 394.0}, {\"STATE\": \"Negeri Sembilan\", \"RESIDENTAL_AREA\": \"TAMAN PURBA\", \"DISTRICT\": \"Seremban\", \"NUMBER_OF_HOUSES\": 42.0}, {\"STATE\": \"Negeri Sembilan\", \"RESIDENTAL_AREA\": \"TAMAN YOON SENG\", \"DISTRICT\": \"Seremban\", \"NUMBER_OF_HOUSES\": 85.0}, {\"STATE\": \"Negeri Sembilan\", \"RESIDENTAL_AREA\": \"TAMAN BUKIT DELIMA\", \"DISTRICT\": \"Seremban\", \"NUMBER_OF_HOUSES\": 78.0}, {\"STATE\": \"Negeri Sembilan\", \"RESIDENTAL_AREA\": \"TAMAN MING HOE\", \"DISTRICT\": \"Seremban\", \"NUMBER_OF_HOUSES\": 63.0}, {\"STATE\": \"Negeri Sembilan\", \"RESIDENTAL_AREA\": \"TAMAN CERI INDAH\", \"DISTRICT\": \"Seremban\", \"NUMBER_OF_HOUSES\": 16.0}, {\"STATE\": \"Negeri Sembilan\", \"RESIDENTAL_AREA\": \"TAMAN MUTIARA GALLA\", \"DISTRICT\": \"Seremban\", \"NUMBER_OF_HOUSES\": 713.0}, {\"STATE\": \"Negeri Sembilan\", \"RESIDENTAL_AREA\": \"TAMAN HARMONIUM UTAMA\", \"DISTRICT\": \"Seremban\", \"NUMBER_OF_HOUSES\": 130.0}, {\"STATE\": \"Negeri Sembilan\", \"RESIDENTAL_AREA\": \"TAMAN BUKIT KRISTAL\", \"DISTRICT\": \"Seremban\", \"NUMBER_OF_HOUSES\": 288.0}, {\"STATE\": \"Negeri Sembilan\", \"RESIDENTAL_AREA\": \"TAMAN HARMONIUM INDAH\", \"DISTRICT\": \"Seremban\", \"NUMBER_OF_HOUSES\": 84.0}, {\"STATE\": \"Negeri Sembilan\", \"RESIDENTAL_AREA\": \"TAMAN BUKIT KEPAYANG\", \"DISTRICT\": \"Seremban\", \"NUMBER_OF_HOUSES\": 2477.0}, {\"STATE\": \"Negeri Sembilan\", \"RESIDENTAL_AREA\": \"TAMAN SERUNAI\", \"DISTRICT\": \"Seremban\", \"NUMBER_OF_HOUSES\": 65.0}, {\"STATE\": \"Negeri Sembilan\", \"RESIDENTAL_AREA\": \"TAMAN BUKIT KEPAYANG\", \"DISTRICT\": \"Seremban\", \"NUMBER_OF_HOUSES\": 15.0}, {\"STATE\": \"Negeri Sembilan\", \"RESIDENTAL_AREA\": \"TAMAN KELAB TUANKU\", \"DISTRICT\": \"Seremban\", \"NUMBER_OF_HOUSES\": 860.0}, {\"STATE\": \"Negeri Sembilan\", \"RESIDENTAL_AREA\": \"TAMAN SRI MAMBAU\", \"DISTRICT\": \"Seremban\", \"NUMBER_OF_HOUSES\": 2467.0}, {\"STATE\": \"Negeri Sembilan\", \"RESIDENTAL_AREA\": \"TAMAN SENANGIN\", \"DISTRICT\": \"Seremban\", \"NUMBER_OF_HOUSES\": 329.0}, {\"STATE\": \"Negeri Sembilan\", \"RESIDENTAL_AREA\": \"TAMAN SEREMBAN JAYA IDAMAN\", \"DISTRICT\": \"Seremban\", \"NUMBER_OF_HOUSES\": 99.0}, {\"STATE\": \"Negeri Sembilan\", \"RESIDENTAL_AREA\": \"KAMPUNG BEMBAN\", \"DISTRICT\": \"Seremban\", \"NUMBER_OF_HOUSES\": 70.0}, {\"STATE\": \"Negeri Sembilan\", \"RESIDENTAL_AREA\": \"TAMAN OAKLAND FASA 1B\", \"DISTRICT\": \"Seremban\", \"NUMBER_OF_HOUSES\": 68.0}, {\"STATE\": \"Negeri Sembilan\", \"RESIDENTAL_AREA\": \"TAMAN LAYANG LAYANG\", \"DISTRICT\": \"Seremban\", \"NUMBER_OF_HOUSES\": 669.0}, {\"STATE\": \"Negeri Sembilan\", \"RESIDENTAL_AREA\": \"TAMAN MERPATI\", \"DISTRICT\": \"Seremban\", \"NUMBER_OF_HOUSES\": 361.0}, {\"STATE\": \"Negeri Sembilan\", \"RESIDENTAL_AREA\": \"TAMAN SERI KAMBAN BARU\", \"DISTRICT\": \"Seremban\", \"NUMBER_OF_HOUSES\": 268.0}, {\"STATE\": \"Negeri Sembilan\", \"RESIDENTAL_AREA\": \"TAMAN CENDERAWASIH\", \"DISTRICT\": \"Seremban\", \"NUMBER_OF_HOUSES\": 435.0}, {\"STATE\": \"Negeri Sembilan\", \"RESIDENTAL_AREA\": \"TAMAN ANGSAMAS\", \"DISTRICT\": \"Seremban\", \"NUMBER_OF_HOUSES\": 645.0}, {\"STATE\": \"Negeri Sembilan\", \"RESIDENTAL_AREA\": \"TAMAN MARLIN HEIGHTS\", \"DISTRICT\": \"Seremban\", \"NUMBER_OF_HOUSES\": 106.0}, {\"STATE\": \"Negeri Sembilan\", \"RESIDENTAL_AREA\": \"RUMAH MURAH MAMBAU\", \"DISTRICT\": \"Seremban\", \"NUMBER_OF_HOUSES\": 50.0}, {\"STATE\": \"Negeri Sembilan\", \"RESIDENTAL_AREA\": \"TAMAN BUKIT PARI\", \"DISTRICT\": \"Seremban\", \"NUMBER_OF_HOUSES\": 34.0}, {\"STATE\": \"Negeri Sembilan\", \"RESIDENTAL_AREA\": \"TAMAN KALOI JAYA\", \"DISTRICT\": \"Seremban\", \"NUMBER_OF_HOUSES\": 81.0}, {\"STATE\": \"Negeri Sembilan\", \"RESIDENTAL_AREA\": \"TAMAN SERENGGAM\", \"DISTRICT\": \"Seremban\", \"NUMBER_OF_HOUSES\": 22.0}, {\"STATE\": \"Negeri Sembilan\", \"RESIDENTAL_AREA\": \"TAMAN BELIDA\", \"DISTRICT\": \"Seremban\", \"NUMBER_OF_HOUSES\": 81.0}, {\"STATE\": \"Negeri Sembilan\", \"RESIDENTAL_AREA\": \"TAMAN BUKIT BELIDA\", \"DISTRICT\": \"Seremban\", \"NUMBER_OF_HOUSES\": 117.0}, {\"STATE\": \"Negeri Sembilan\", \"RESIDENTAL_AREA\": \"TAMAN MAMBAU HEIGHT\", \"DISTRICT\": \"Seremban\", \"NUMBER_OF_HOUSES\": 110.0}, {\"STATE\": \"Negeri Sembilan\", \"RESIDENTAL_AREA\": \"TAMAN MAMBAU BARU\", \"DISTRICT\": \"Seremban\", \"NUMBER_OF_HOUSES\": 83.0}, {\"STATE\": \"Negeri Sembilan\", \"RESIDENTAL_AREA\": \"TAMAN MAMBAU\", \"DISTRICT\": \"Seremban\", \"NUMBER_OF_HOUSES\": 64.0}, {\"STATE\": \"Negeri Sembilan\", \"RESIDENTAL_AREA\": \"TAMAN MAMBAU JAYA\", \"DISTRICT\": \"Seremban\", \"NUMBER_OF_HOUSES\": 60.0}, {\"STATE\": \"Negeri Sembilan\", \"RESIDENTAL_AREA\": \"TAMAN KERISI\", \"DISTRICT\": \"Seremban\", \"NUMBER_OF_HOUSES\": 139.0}, {\"STATE\": \"Negeri Sembilan\", \"RESIDENTAL_AREA\": \"TAMAN AROWANA INDAH\", \"DISTRICT\": \"Seremban\", \"NUMBER_OF_HOUSES\": 383.0}, {\"STATE\": \"Negeri Sembilan\", \"RESIDENTAL_AREA\": \"TAMAN AROWANA IMPIAN\", \"DISTRICT\": \"Seremban\", \"NUMBER_OF_HOUSES\": 558.0}, {\"STATE\": \"Negeri Sembilan\", \"RESIDENTAL_AREA\": \"TAMAN AIR GARAM\", \"DISTRICT\": \"Seremban\", \"NUMBER_OF_HOUSES\": 25.0}, {\"STATE\": \"Negeri Sembilan\", \"RESIDENTAL_AREA\": \"KAMPUNG BATU3 MAMBAU\", \"DISTRICT\": \"Seremban\", \"NUMBER_OF_HOUSES\": 167.0}, {\"STATE\": \"Negeri Sembilan\", \"RESIDENTAL_AREA\": \"TAMAN HARAPAN BARU\", \"DISTRICT\": \"Seremban\", \"NUMBER_OF_HOUSES\": 219.0}, {\"STATE\": \"Negeri Sembilan\", \"RESIDENTAL_AREA\": \"TAMAN DESA RASAH\", \"DISTRICT\": \"Seremban\", \"NUMBER_OF_HOUSES\": 489.0}, {\"STATE\": \"Negeri Sembilan\", \"RESIDENTAL_AREA\": \"TAMAN RASAH JAYA\", \"DISTRICT\": \"Seremban\", \"NUMBER_OF_HOUSES\": 4977.0}, {\"STATE\": \"Negeri Sembilan\", \"RESIDENTAL_AREA\": \"TAMAN MERBOK RIA\", \"DISTRICT\": \"Seremban\", \"NUMBER_OF_HOUSES\": 118.0}, {\"STATE\": \"Negeri Sembilan\", \"RESIDENTAL_AREA\": \"TAMAN KOPERASI GURU TAMIL\", \"DISTRICT\": \"Seremban\", \"NUMBER_OF_HOUSES\": 45.0}, {\"STATE\": \"Negeri Sembilan\", \"RESIDENTAL_AREA\": \"TAMAN SRI RASAH\", \"DISTRICT\": \"Seremban\", \"NUMBER_OF_HOUSES\": 153.0}, {\"STATE\": \"Negeri Sembilan\", \"RESIDENTAL_AREA\": \"TAMAN KOK ANN\", \"DISTRICT\": \"Seremban\", \"NUMBER_OF_HOUSES\": 45.0}, {\"STATE\": \"Negeri Sembilan\", \"RESIDENTAL_AREA\": \"TAMAN BUKIT NURI INDAH\", \"DISTRICT\": \"Seremban\", \"NUMBER_OF_HOUSES\": 416.0}, {\"STATE\": \"Negeri Sembilan\", \"RESIDENTAL_AREA\": \"TAMAN BUKIT KAYA\", \"DISTRICT\": \"Seremban\", \"NUMBER_OF_HOUSES\": 562.0}, {\"STATE\": \"Negeri Sembilan\", \"RESIDENTAL_AREA\": \"TAMAN LABU UTAMA\", \"DISTRICT\": \"Seremban\", \"NUMBER_OF_HOUSES\": 88.0}, {\"STATE\": \"Negeri Sembilan\", \"RESIDENTAL_AREA\": \"TAMAN BUKIT LABU\", \"DISTRICT\": \"Seremban\", \"NUMBER_OF_HOUSES\": 153.0}, {\"STATE\": \"Negeri Sembilan\", \"RESIDENTAL_AREA\": \"TAMAN SERULING JAYA\", \"DISTRICT\": \"Seremban\", \"NUMBER_OF_HOUSES\": 41.0}, {\"STATE\": \"Negeri Sembilan\", \"RESIDENTAL_AREA\": \"KAMPUNG DATO MOHD SAID\", \"DISTRICT\": \"Seremban\", \"NUMBER_OF_HOUSES\": 175.0}, {\"STATE\": \"Negeri Sembilan\", \"RESIDENTAL_AREA\": \"TAMAN PERMAI\", \"DISTRICT\": \"Seremban\", \"NUMBER_OF_HOUSES\": 279.0}, {\"STATE\": \"Negeri Sembilan\", \"RESIDENTAL_AREA\": \"TAMAN LABU JAYA\", \"DISTRICT\": \"Seremban\", \"NUMBER_OF_HOUSES\": 236.0}, {\"STATE\": \"Negeri Sembilan\", \"RESIDENTAL_AREA\": \"TAMAN PERMAI 2\", \"DISTRICT\": \"Seremban\", \"NUMBER_OF_HOUSES\": 1154.0}, {\"STATE\": \"Negeri Sembilan\", \"RESIDENTAL_AREA\": \"TAMAN PERMAI 3\", \"DISTRICT\": \"Seremban\", \"NUMBER_OF_HOUSES\": 956.0}, {\"STATE\": \"Negeri Sembilan\", \"RESIDENTAL_AREA\": \"TAMAN OAKLAND\", \"DISTRICT\": \"Seremban\", \"NUMBER_OF_HOUSES\": 225.0}, {\"STATE\": \"Negeri Sembilan\", \"RESIDENTAL_AREA\": \"TAMAN PERMAI JAYA\", \"DISTRICT\": \"Seremban\", \"NUMBER_OF_HOUSES\": 20.0}, {\"STATE\": \"Negeri Sembilan\", \"RESIDENTAL_AREA\": \"TAMAN BUKIT KELISA\", \"DISTRICT\": \"Seremban\", \"NUMBER_OF_HOUSES\": 485.0}, {\"STATE\": \"Negeri Sembilan\", \"RESIDENTAL_AREA\": \"TAMAN DUYUNG\", \"DISTRICT\": \"Seremban\", \"NUMBER_OF_HOUSES\": 336.0}, {\"STATE\": \"Negeri Sembilan\", \"RESIDENTAL_AREA\": \"TAMAN YOON CHAN\", \"DISTRICT\": \"Seremban\", \"NUMBER_OF_HOUSES\": 122.0}, {\"STATE\": \"Negeri Sembilan\", \"RESIDENTAL_AREA\": \"TAMAN BUKIT BLOSSOM\", \"DISTRICT\": \"Seremban\", \"NUMBER_OF_HOUSES\": 414.0}, {\"STATE\": \"Negeri Sembilan\", \"RESIDENTAL_AREA\": \"TAMAN SEA\", \"DISTRICT\": \"Seremban\", \"NUMBER_OF_HOUSES\": 140.0}, {\"STATE\": \"Negeri Sembilan\", \"RESIDENTAL_AREA\": \"TAMAN BUNGA BLOSSOM\", \"DISTRICT\": \"Seremban\", \"NUMBER_OF_HOUSES\": 653.0}, {\"STATE\": \"Negeri Sembilan\", \"RESIDENTAL_AREA\": \"TAMAN THIVY\", \"DISTRICT\": \"Seremban\", \"NUMBER_OF_HOUSES\": 851.0}, {\"STATE\": \"Negeri Sembilan\", \"RESIDENTAL_AREA\": \"KAMPUNG BARU RAHANG\", \"DISTRICT\": \"Seremban\", \"NUMBER_OF_HOUSES\": 352.0}, {\"STATE\": \"Negeri Sembilan\", \"RESIDENTAL_AREA\": \"TAMAN LOOP\", \"DISTRICT\": \"Seremban\", \"NUMBER_OF_HOUSES\": 141.0}, {\"STATE\": \"Negeri Sembilan\", \"RESIDENTAL_AREA\": \"KAMPUNG BARU MAMBAU\", \"DISTRICT\": \"Seremban\", \"NUMBER_OF_HOUSES\": 320.0}, {\"STATE\": \"Negeri Sembilan\", \"RESIDENTAL_AREA\": \"TAMAN PATIN INDAH\", \"DISTRICT\": \"Seremban\", \"NUMBER_OF_HOUSES\": 39.0}, {\"STATE\": \"Negeri Sembilan\", \"RESIDENTAL_AREA\": \"TAMAN BUKIT EMAS\", \"DISTRICT\": \"Seremban\", \"NUMBER_OF_HOUSES\": 681.0}, {\"STATE\": \"Negeri Sembilan\", \"RESIDENTAL_AREA\": \"TAMAN SRI BINJAI\", \"DISTRICT\": \"Seremban\", \"NUMBER_OF_HOUSES\": 518.0}, {\"STATE\": \"Negeri Sembilan\", \"RESIDENTAL_AREA\": \"TAMAN SRI LABU\", \"DISTRICT\": \"Seremban\", \"NUMBER_OF_HOUSES\": 98.0}, {\"STATE\": \"Negeri Sembilan\", \"RESIDENTAL_AREA\": \"SEREMBAN 2  SEKSYEN G\", \"DISTRICT\": \"Seremban\", \"NUMBER_OF_HOUSES\": 4093.0}, {\"STATE\": \"Negeri Sembilan\", \"RESIDENTAL_AREA\": \"SEREMBAN 2  SEKSYEN C\", \"DISTRICT\": \"Seremban\", \"NUMBER_OF_HOUSES\": 191.0}, {\"STATE\": \"Negeri Sembilan\", \"RESIDENTAL_AREA\": \"SEREMBAN 2  SEKSYEN H\", \"DISTRICT\": \"Seremban\", \"NUMBER_OF_HOUSES\": 690.0}, {\"STATE\": \"Negeri Sembilan\", \"RESIDENTAL_AREA\": \"SEREMBAN 2  SEKSYEN K\", \"DISTRICT\": \"Seremban\", \"NUMBER_OF_HOUSES\": 892.0}, {\"STATE\": \"Negeri Sembilan\", \"RESIDENTAL_AREA\": \"SEREMBAN 2  SEKSYEN F\", \"DISTRICT\": \"Seremban\", \"NUMBER_OF_HOUSES\": 950.0}, {\"STATE\": \"Negeri Sembilan\", \"RESIDENTAL_AREA\": \"SEREMBAN 2 SEKSYEN E\", \"DISTRICT\": \"Seremban\", \"NUMBER_OF_HOUSES\": 720.0}, {\"STATE\": \"Negeri Sembilan\", \"RESIDENTAL_AREA\": \"SEREMBAN 2 SEKSYEN D\", \"DISTRICT\": \"Seremban\", \"NUMBER_OF_HOUSES\": 1652.0}, {\"STATE\": \"Negeri Sembilan\", \"RESIDENTAL_AREA\": \"SEREMBAN 2  SEKSYEN B\", \"DISTRICT\": \"Seremban\", \"NUMBER_OF_HOUSES\": 450.0}, {\"STATE\": \"Negeri Sembilan\", \"RESIDENTAL_AREA\": \"SEREMBAN 2  SEKSYEN A\", \"DISTRICT\": \"Seremban\", \"NUMBER_OF_HOUSES\": 786.0}, {\"STATE\": \"Negeri Sembilan\", \"RESIDENTAL_AREA\": \"TAMAN MAMBAU JAYA\", \"DISTRICT\": \"Seremban\", \"NUMBER_OF_HOUSES\": 60.0}, {\"STATE\": \"Negeri Sembilan\", \"RESIDENTAL_AREA\": \"TAMAN KERISI INDAH\", \"DISTRICT\": \"Seremban\", \"NUMBER_OF_HOUSES\": 34.0}, {\"STATE\": \"Negeri Sembilan\", \"RESIDENTAL_AREA\": \"TAMAN BELIDA INDAH\", \"DISTRICT\": \"Seremban\", \"NUMBER_OF_HOUSES\": 102.0}, {\"STATE\": \"Negeri Sembilan\", \"RESIDENTAL_AREA\": \"TAMAN CHEMARA HILLS\", \"DISTRICT\": \"Seremban\", \"NUMBER_OF_HOUSES\": 267.0}, {\"STATE\": \"Negeri Sembilan\", \"RESIDENTAL_AREA\": \"TAMAN CENDERAWASIH INDAH\", \"DISTRICT\": \"Seremban\", \"NUMBER_OF_HOUSES\": 22.0}, {\"STATE\": \"Negeri Sembilan\", \"RESIDENTAL_AREA\": \"SEREMBAN 3  SEKSYEN 1A\", \"DISTRICT\": \"Seremban\", \"NUMBER_OF_HOUSES\": 309.0}, {\"STATE\": \"Negeri Sembilan\", \"RESIDENTAL_AREA\": \"SEREMBAN 3  SEKSYEN 1B\", \"DISTRICT\": \"Seremban\", \"NUMBER_OF_HOUSES\": 213.0}, {\"STATE\": \"Negeri Sembilan\", \"RESIDENTAL_AREA\": \"SEREMBAN 3  SEKSYEN 3\", \"DISTRICT\": \"Seremban\", \"NUMBER_OF_HOUSES\": 69.0}, {\"STATE\": \"Negeri Sembilan\", \"RESIDENTAL_AREA\": \"SEREMBAN 3  SEKSYEN 5A\", \"DISTRICT\": \"Seremban\", \"NUMBER_OF_HOUSES\": 50.0}, {\"STATE\": \"Negeri Sembilan\", \"RESIDENTAL_AREA\": \"SEREMBAN 3 SEKSYEN 5B\", \"DISTRICT\": \"Seremban\", \"NUMBER_OF_HOUSES\": 111.0}, {\"STATE\": \"Negeri Sembilan\", \"RESIDENTAL_AREA\": \"SEREMBAN 3  SEKSYEN 4A\", \"DISTRICT\": \"Seremban\", \"NUMBER_OF_HOUSES\": 284.0}, {\"STATE\": \"Negeri Sembilan\", \"RESIDENTAL_AREA\": \"SEREMBAN 3  SEKSYEN 2B\", \"DISTRICT\": \"Seremban\", \"NUMBER_OF_HOUSES\": 88.0}, {\"STATE\": \"Negeri Sembilan\", \"RESIDENTAL_AREA\": \"SEREMBAN 3  SEKSYEN 2A\", \"DISTRICT\": \"Seremban\", \"NUMBER_OF_HOUSES\": 222.0}, {\"STATE\": \"Negeri Sembilan\", \"RESIDENTAL_AREA\": \"SEREMBAN 3  SEKSYEN 5C\", \"DISTRICT\": \"Seremban\", \"NUMBER_OF_HOUSES\": 81.0}, {\"STATE\": \"Negeri Sembilan\", \"RESIDENTAL_AREA\": \"TAMAN OAKLAND FASA3\", \"DISTRICT\": \"Seremban\", \"NUMBER_OF_HOUSES\": 177.0}, {\"STATE\": \"Negeri Sembilan\", \"RESIDENTAL_AREA\": \"TAMAN BUKIT EMAS 2\", \"DISTRICT\": \"Seremban\", \"NUMBER_OF_HOUSES\": 24.0}, {\"STATE\": \"Negeri Sembilan\", \"RESIDENTAL_AREA\": \"TAMAN CORAL HEIGHT\", \"DISTRICT\": \"Seremban\", \"NUMBER_OF_HOUSES\": 676.0}, {\"STATE\": \"Negeri Sembilan\", \"RESIDENTAL_AREA\": \"TAMAN BERLIAN TROPIKA\", \"DISTRICT\": \"Seremban\", \"NUMBER_OF_HOUSES\": 34.0}, {\"STATE\": \"Negeri Sembilan\", \"RESIDENTAL_AREA\": \"TAMAN INDAH\", \"DISTRICT\": \"Seremban\", \"NUMBER_OF_HOUSES\": 387.0}, {\"STATE\": \"Negeri Sembilan\", \"RESIDENTAL_AREA\": \"TAMAN TEMIANG JAYA\", \"DISTRICT\": \"Seremban\", \"NUMBER_OF_HOUSES\": 370.0}, {\"STATE\": \"Negeri Sembilan\", \"RESIDENTAL_AREA\": \"TAMAN RASHIBAH INDAH\", \"DISTRICT\": \"Seremban\", \"NUMBER_OF_HOUSES\": 263.0}, {\"STATE\": \"Negeri Sembilan\", \"RESIDENTAL_AREA\": \"TAMAN SULIANA\", \"DISTRICT\": \"Seremban\", \"NUMBER_OF_HOUSES\": 144.0}, {\"STATE\": \"Negeri Sembilan\", \"RESIDENTAL_AREA\": \"TAMAN SRI PULAI 3\", \"DISTRICT\": \"Seremban\", \"NUMBER_OF_HOUSES\": 679.0}, {\"STATE\": \"Negeri Sembilan\", \"RESIDENTAL_AREA\": \"TAMAN BAIDURI\", \"DISTRICT\": \"Seremban\", \"NUMBER_OF_HOUSES\": 277.0}, {\"STATE\": \"Negeri Sembilan\", \"RESIDENTAL_AREA\": \"TAMAN BUKIT  INTAN\", \"DISTRICT\": \"Seremban\", \"NUMBER_OF_HOUSES\": 1290.0}, {\"STATE\": \"Negeri Sembilan\", \"RESIDENTAL_AREA\": \"TAMAN JASPER JAYA\", \"DISTRICT\": \"Seremban\", \"NUMBER_OF_HOUSES\": 488.0}, {\"STATE\": \"Negeri Sembilan\", \"RESIDENTAL_AREA\": \"TAMAN BUKIT GALENA\", \"DISTRICT\": \"Seremban\", \"NUMBER_OF_HOUSES\": 286.0}, {\"STATE\": \"Negeri Sembilan\", \"RESIDENTAL_AREA\": \"TAMAN JASPER JAYA 2\", \"DISTRICT\": \"Seremban\", \"NUMBER_OF_HOUSES\": 491.0}, {\"STATE\": \"Negeri Sembilan\", \"RESIDENTAL_AREA\": \"TAMAN BUKIT JED\", \"DISTRICT\": \"Seremban\", \"NUMBER_OF_HOUSES\": 1647.0}, {\"STATE\": \"Negeri Sembilan\", \"RESIDENTAL_AREA\": \"TAMAN BUKIT MIKA\", \"DISTRICT\": \"Seremban\", \"NUMBER_OF_HOUSES\": 85.0}, {\"STATE\": \"Negeri Sembilan\", \"RESIDENTAL_AREA\": \"TAMAN BUKIT DESA\", \"DISTRICT\": \"Seremban\", \"NUMBER_OF_HOUSES\": 99.0}, {\"STATE\": \"Negeri Sembilan\", \"RESIDENTAL_AREA\": \"TAMAN SAPPHIRE\", \"DISTRICT\": \"Seremban\", \"NUMBER_OF_HOUSES\": 50.0}, {\"STATE\": \"Negeri Sembilan\", \"RESIDENTAL_AREA\": \"TAMAN BUKIT ZAMRUD\", \"DISTRICT\": \"Seremban\", \"NUMBER_OF_HOUSES\": 611.0}, {\"STATE\": \"Negeri Sembilan\", \"RESIDENTAL_AREA\": \"TAMAN BUKIT FLORIDA\", \"DISTRICT\": \"Seremban\", \"NUMBER_OF_HOUSES\": 1950.0}, {\"STATE\": \"Negeri Sembilan\", \"RESIDENTAL_AREA\": \"TAMAN PULAI PERDANA\", \"DISTRICT\": \"Seremban\", \"NUMBER_OF_HOUSES\": 244.0}, {\"STATE\": \"Negeri Sembilan\", \"RESIDENTAL_AREA\": \"TAMAN PULAI IMPIAN\", \"DISTRICT\": \"Seremban\", \"NUMBER_OF_HOUSES\": 320.0}, {\"STATE\": \"Negeri Sembilan\", \"RESIDENTAL_AREA\": \"TAMAN DESA TEMIANG\", \"DISTRICT\": \"Seremban\", \"NUMBER_OF_HOUSES\": 519.0}, {\"STATE\": \"Negeri Sembilan\", \"RESIDENTAL_AREA\": \"TAMAN KENG WONG\", \"DISTRICT\": \"Seremban\", \"NUMBER_OF_HOUSES\": 108.0}, {\"STATE\": \"Negeri Sembilan\", \"RESIDENTAL_AREA\": \"TAMAN BUKIT MUTIARA\", \"DISTRICT\": \"Seremban\", \"NUMBER_OF_HOUSES\": 799.0}, {\"STATE\": \"Negeri Sembilan\", \"RESIDENTAL_AREA\": \"TAMAN KWANG TONG\", \"DISTRICT\": \"Seremban\", \"NUMBER_OF_HOUSES\": 71.0}, {\"STATE\": \"Negeri Sembilan\", \"RESIDENTAL_AREA\": \"TAMAN MAKMOR\", \"DISTRICT\": \"Seremban\", \"NUMBER_OF_HOUSES\": 128.0}, {\"STATE\": \"Negeri Sembilan\", \"RESIDENTAL_AREA\": \"TAMAN TEMPLER\", \"DISTRICT\": \"Seremban\", \"NUMBER_OF_HOUSES\": 244.0}, {\"STATE\": \"Negeri Sembilan\", \"RESIDENTAL_AREA\": \"TAMAN DAWN\", \"DISTRICT\": \"Seremban\", \"NUMBER_OF_HOUSES\": 115.0}, {\"STATE\": \"Negeri Sembilan\", \"RESIDENTAL_AREA\": \"TAMAN KOTAMAS\", \"DISTRICT\": \"Seremban\", \"NUMBER_OF_HOUSES\": 94.0}, {\"STATE\": \"Negeri Sembilan\", \"RESIDENTAL_AREA\": \"TAMAN CHIP AIK\", \"DISTRICT\": \"Seremban\", \"NUMBER_OF_HOUSES\": 418.0}, {\"STATE\": \"Negeri Sembilan\", \"RESIDENTAL_AREA\": \"TAMAN LUCKY HEIGHT\", \"DISTRICT\": \"Seremban\", \"NUMBER_OF_HOUSES\": 139.0}, {\"STATE\": \"Negeri Sembilan\", \"RESIDENTAL_AREA\": \"TAMAN SRI AMBER\", \"DISTRICT\": \"Seremban\", \"NUMBER_OF_HOUSES\": 661.0}, {\"STATE\": \"Negeri Sembilan\", \"RESIDENTAL_AREA\": \"TAMAN JAYA EMAS\", \"DISTRICT\": \"Seremban\", \"NUMBER_OF_HOUSES\": 705.0}, {\"STATE\": \"Negeri Sembilan\", \"RESIDENTAL_AREA\": \"TAMAN BUKIT SENTOSA\", \"DISTRICT\": \"Seremban\", \"NUMBER_OF_HOUSES\": 365.0}, {\"STATE\": \"Negeri Sembilan\", \"RESIDENTAL_AREA\": \"TAMAN BUKIT SARIMBAN\", \"DISTRICT\": \"Seremban\", \"NUMBER_OF_HOUSES\": 193.0}, {\"STATE\": \"Negeri Sembilan\", \"RESIDENTAL_AREA\": \"TAMAN BUKIT PENAGA\", \"DISTRICT\": \"Seremban\", \"NUMBER_OF_HOUSES\": 57.0}, {\"STATE\": \"Negeri Sembilan\", \"RESIDENTAL_AREA\": \"TAMAN BUKIT BERLIAN\", \"DISTRICT\": \"Seremban\", \"NUMBER_OF_HOUSES\": 125.0}, {\"STATE\": \"Negeri Sembilan\", \"RESIDENTAL_AREA\": \"TAMAN SETUL\", \"DISTRICT\": \"Nilai\", \"NUMBER_OF_HOUSES\": 82.0}, {\"STATE\": \"Negeri Sembilan\", \"RESIDENTAL_AREA\": \"TAMAN TONG SENG\", \"DISTRICT\": \"Nilai\", \"NUMBER_OF_HOUSES\": 38.0}, {\"STATE\": \"Negeri Sembilan\", \"RESIDENTAL_AREA\": \"TAMAN MAJU\", \"DISTRICT\": \"Nilai\", \"NUMBER_OF_HOUSES\": 73.0}, {\"STATE\": \"Negeri Sembilan\", \"RESIDENTAL_AREA\": \"TAMAN BUNGA RAYA\", \"DISTRICT\": \"Nilai\", \"NUMBER_OF_HOUSES\": 239.0}, {\"STATE\": \"Negeri Sembilan\", \"RESIDENTAL_AREA\": \"TAMAN KS\", \"DISTRICT\": \"Nilai\", \"NUMBER_OF_HOUSES\": 73.0}, {\"STATE\": \"Negeri Sembilan\", \"RESIDENTAL_AREA\": \"TAMAN BUKIT JELUTONG\", \"DISTRICT\": \"Nilai\", \"NUMBER_OF_HOUSES\": 107.0}, {\"STATE\": \"Negeri Sembilan\", \"RESIDENTAL_AREA\": \"TAMAN PERMAI JAYA\", \"DISTRICT\": \"Nilai\", \"NUMBER_OF_HOUSES\": 91.0}, {\"STATE\": \"Negeri Sembilan\", \"RESIDENTAL_AREA\": \"TAMAN SENTOSA\", \"DISTRICT\": \"Nilai\", \"NUMBER_OF_HOUSES\": 29.0}, {\"STATE\": \"Negeri Sembilan\", \"RESIDENTAL_AREA\": \"TAMAN MANTIN JAYA\", \"DISTRICT\": \"Nilai\", \"NUMBER_OF_HOUSES\": 32.0}, {\"STATE\": \"Negeri Sembilan\", \"RESIDENTAL_AREA\": \"TAMAN PERMATA\", \"DISTRICT\": \"Nilai\", \"NUMBER_OF_HOUSES\": 8.0}, {\"STATE\": \"Negeri Sembilan\", \"RESIDENTAL_AREA\": \"TAMAN ORKID\", \"DISTRICT\": \"Nilai\", \"NUMBER_OF_HOUSES\": 78.0}, {\"STATE\": \"Negeri Sembilan\", \"RESIDENTAL_AREA\": \"TAMAN SENTOSA\", \"DISTRICT\": \"Nilai\", \"NUMBER_OF_HOUSES\": 31.0}, {\"STATE\": \"Negeri Sembilan\", \"RESIDENTAL_AREA\": \"STAFFIELD GOLF dan COUNTRY RESORT\", \"DISTRICT\": \"Nilai\", \"NUMBER_OF_HOUSES\": 31.0}, {\"STATE\": \"Negeri Sembilan\", \"RESIDENTAL_AREA\": \"TAMAN DESA PELANGI \", \"DISTRICT\": \"Nilai\", \"NUMBER_OF_HOUSES\": 468.0}, {\"STATE\": \"Negeri Sembilan\", \"RESIDENTAL_AREA\": \"TAMAN MANTIN \", \"DISTRICT\": \"Nilai\", \"NUMBER_OF_HOUSES\": 172.0}, {\"STATE\": \"Negeri Sembilan\", \"RESIDENTAL_AREA\": \"TAMAN ASOKA\", \"DISTRICT\": \"Nilai\", \"NUMBER_OF_HOUSES\": 240.0}, {\"STATE\": \"Negeri Sembilan\", \"RESIDENTAL_AREA\": \"TAMAN DESA  \", \"DISTRICT\": \"Nilai\", \"NUMBER_OF_HOUSES\": 328.0}, {\"STATE\": \"Negeri Sembilan\", \"RESIDENTAL_AREA\": \"TAMAN SRI MAWAR\", \"DISTRICT\": \"Nilai\", \"NUMBER_OF_HOUSES\": 59.0}, {\"STATE\": \"Negeri Sembilan\", \"RESIDENTAL_AREA\": \"TAMAN DAHLIA INDAH\", \"DISTRICT\": \"Nilai\", \"NUMBER_OF_HOUSES\": 72.0}, {\"STATE\": \"Negeri Sembilan\", \"RESIDENTAL_AREA\": \"TAMAN ROS\", \"DISTRICT\": \"Nilai\", \"NUMBER_OF_HOUSES\": 229.0}, {\"STATE\": \"Negeri Sembilan\", \"RESIDENTAL_AREA\": \"TAMAN SRI RAMAI BARU\", \"DISTRICT\": \"Nilai\", \"NUMBER_OF_HOUSES\": 28.0}, {\"STATE\": \"Negeri Sembilan\", \"RESIDENTAL_AREA\": \"TAMAN ANDALAS\", \"DISTRICT\": \"Nilai\", \"NUMBER_OF_HOUSES\": 576.0}, {\"STATE\": \"Negeri Sembilan\", \"RESIDENTAL_AREA\": \"TAMAN KENANGA\", \"DISTRICT\": \"Nilai\", \"NUMBER_OF_HOUSES\": 141.0}, {\"STATE\": \"Negeri Sembilan\", \"RESIDENTAL_AREA\": \"TAMAN BUKIT MANTIN\", \"DISTRICT\": \"Nilai\", \"NUMBER_OF_HOUSES\": 112.0}, {\"STATE\": \"Negeri Sembilan\", \"RESIDENTAL_AREA\": \"SRI PALMA VILLA (BLOK 1  2  3)\", \"DISTRICT\": \"Nilai\", \"NUMBER_OF_HOUSES\": 902.0}, {\"STATE\": \"Negeri Sembilan\", \"RESIDENTAL_AREA\": \"SRI PALMA VILLA (BLOK 5)\", \"DISTRICT\": \"Nilai\", \"NUMBER_OF_HOUSES\": 148.0}, {\"STATE\": \"Negeri Sembilan\", \"RESIDENTAL_AREA\": \"SRI PALMA VILLA (BLOK 6)\", \"DISTRICT\": \"Nilai\", \"NUMBER_OF_HOUSES\": 78.0}, {\"STATE\": \"Negeri Sembilan\", \"RESIDENTAL_AREA\": \"SRI JASMIN\", \"DISTRICT\": \"Nilai\", \"NUMBER_OF_HOUSES\": 440.0}, {\"STATE\": \"Negeri Sembilan\", \"RESIDENTAL_AREA\": \"TAMAN MEDANG\", \"DISTRICT\": \"Nilai\", \"NUMBER_OF_HOUSES\": 237.0}, {\"STATE\": \"Negeri Sembilan\", \"RESIDENTAL_AREA\": \"TAMAN BUKIT BELIAN\", \"DISTRICT\": \"Nilai\", \"NUMBER_OF_HOUSES\": 192.0}, {\"STATE\": \"Negeri Sembilan\", \"RESIDENTAL_AREA\": \"TAMAN SERAYA\", \"DISTRICT\": \"Nilai\", \"NUMBER_OF_HOUSES\": 64.0}, {\"STATE\": \"Negeri Sembilan\", \"RESIDENTAL_AREA\": \"TAMAN MERBAU\", \"DISTRICT\": \"Nilai\", \"NUMBER_OF_HOUSES\": 24.0}, {\"STATE\": \"Negeri Sembilan\", \"RESIDENTAL_AREA\": \"TAMAN SRI DAMAR\", \"DISTRICT\": \"Nilai\", \"NUMBER_OF_HOUSES\": 160.0}, {\"STATE\": \"Negeri Sembilan\", \"RESIDENTAL_AREA\": \"TAMAN KEMPAS\", \"DISTRICT\": \"Nilai\", \"NUMBER_OF_HOUSES\": 57.0}, {\"STATE\": \"Negeri Sembilan\", \"RESIDENTAL_AREA\": \"TAMAN AKASIA\", \"DISTRICT\": \"Nilai\", \"NUMBER_OF_HOUSES\": 16.0}, {\"STATE\": \"Negeri Sembilan\", \"RESIDENTAL_AREA\": \"TAMAN SRI MAWAR 2\", \"DISTRICT\": \"Nilai\", \"NUMBER_OF_HOUSES\": 49.0}, {\"STATE\": \"Negeri Sembilan\", \"RESIDENTAL_AREA\": \"TAMAN RU\", \"DISTRICT\": \"Nilai\", \"NUMBER_OF_HOUSES\": 13.0}, {\"STATE\": \"Negeri Sembilan\", \"RESIDENTAL_AREA\": \"TAMAN RU 2\", \"DISTRICT\": \"Nilai\", \"NUMBER_OF_HOUSES\": 28.0}, {\"STATE\": \"Negeri Sembilan\", \"RESIDENTAL_AREA\": \"TAMAN SRI KELEDANG \", \"DISTRICT\": \"Nilai\", \"NUMBER_OF_HOUSES\": 25.0}, {\"STATE\": \"Negeri Sembilan\", \"RESIDENTAL_AREA\": \"TAMAN SRI GADING\", \"DISTRICT\": \"Nilai\", \"NUMBER_OF_HOUSES\": 66.0}, {\"STATE\": \"Negeri Sembilan\", \"RESIDENTAL_AREA\": \"TAMAN GADING JAYA\", \"DISTRICT\": \"Nilai\", \"NUMBER_OF_HOUSES\": 24.0}, {\"STATE\": \"Negeri Sembilan\", \"RESIDENTAL_AREA\": \"TAMAN GADING INDAH\", \"DISTRICT\": \"Nilai\", \"NUMBER_OF_HOUSES\": 43.0}, {\"STATE\": \"Negeri Sembilan\", \"RESIDENTAL_AREA\": \"TAMAN SRI ANGSANA\", \"DISTRICT\": \"Nilai\", \"NUMBER_OF_HOUSES\": 136.0}, {\"STATE\": \"Negeri Sembilan\", \"RESIDENTAL_AREA\": \"TAMAN BUKIT SAGA\", \"DISTRICT\": \"Nilai\", \"NUMBER_OF_HOUSES\": 156.0}, {\"STATE\": \"Negeri Sembilan\", \"RESIDENTAL_AREA\": \"TAMAN BUKIT KEMUNING\", \"DISTRICT\": \"Nilai\", \"NUMBER_OF_HOUSES\": 25.0}, {\"STATE\": \"Negeri Sembilan\", \"RESIDENTAL_AREA\": \"TAMAN MERANTI\", \"DISTRICT\": \"Nilai\", \"NUMBER_OF_HOUSES\": 147.0}, {\"STATE\": \"Negeri Sembilan\", \"RESIDENTAL_AREA\": \"TAMAN BERINGIN JAYA\", \"DISTRICT\": \"Nilai\", \"NUMBER_OF_HOUSES\": 22.0}, {\"STATE\": \"Negeri Sembilan\", \"RESIDENTAL_AREA\": \"TAMAN KAYANGAN\", \"DISTRICT\": \"Nilai\", \"NUMBER_OF_HOUSES\": 307.0}, {\"STATE\": \"Negeri Sembilan\", \"RESIDENTAL_AREA\": \"TAMAN MANTIN PUTRA\", \"DISTRICT\": \"Nilai\", \"NUMBER_OF_HOUSES\": 243.0}, {\"STATE\": \"Negeri Sembilan\", \"RESIDENTAL_AREA\": \"TAMAN ANGGERIK \", \"DISTRICT\": \"Nilai\", \"NUMBER_OF_HOUSES\": 197.0}, {\"STATE\": \"Negeri Sembilan\", \"RESIDENTAL_AREA\": \"TAMAN MULIA \", \"DISTRICT\": \"Nilai\", \"NUMBER_OF_HOUSES\": 498.0}, {\"STATE\": \"Negeri Sembilan\", \"RESIDENTAL_AREA\": \"TAMAN BUKIT CITRA\", \"DISTRICT\": \"Nilai\", \"NUMBER_OF_HOUSES\": 749.0}, {\"STATE\": \"Negeri Sembilan\", \"RESIDENTAL_AREA\": \"TAMAN BUKIT INAI \", \"DISTRICT\": \"Nilai\", \"NUMBER_OF_HOUSES\": 200.0}, {\"STATE\": \"Negeri Sembilan\", \"RESIDENTAL_AREA\": \"TAMAN MURNI \", \"DISTRICT\": \"Nilai\", \"NUMBER_OF_HOUSES\": 28.0}, {\"STATE\": \"Negeri Sembilan\", \"RESIDENTAL_AREA\": \"TAMAN DAHLIA \", \"DISTRICT\": \"Nilai\", \"NUMBER_OF_HOUSES\": 69.0}, {\"STATE\": \"Negeri Sembilan\", \"RESIDENTAL_AREA\": \"TAMAN MUTIARA \", \"DISTRICT\": \"Nilai\", \"NUMBER_OF_HOUSES\": 30.0}, {\"STATE\": \"Negeri Sembilan\", \"RESIDENTAL_AREA\": \"TAMAN MELOR \", \"DISTRICT\": \"Nilai\", \"NUMBER_OF_HOUSES\": 197.0}, {\"STATE\": \"Negeri Sembilan\", \"RESIDENTAL_AREA\": \"TAMAN DESA SERINGIN\", \"DISTRICT\": \"Nilai\", \"NUMBER_OF_HOUSES\": 198.0}, {\"STATE\": \"Negeri Sembilan\", \"RESIDENTAL_AREA\": \"TAMAN DESA SAGA\", \"DISTRICT\": \"Nilai\", \"NUMBER_OF_HOUSES\": 112.0}, {\"STATE\": \"Negeri Sembilan\", \"RESIDENTAL_AREA\": \"TAMAN TERATAI\", \"DISTRICT\": \"Nilai\", \"NUMBER_OF_HOUSES\": 241.0}, {\"STATE\": \"Negeri Sembilan\", \"RESIDENTAL_AREA\": \"TAMAN DESA MAYANG SARI\", \"DISTRICT\": \"Nilai\", \"NUMBER_OF_HOUSES\": 743.0}, {\"STATE\": \"Negeri Sembilan\", \"RESIDENTAL_AREA\": \"NILAI 3 APARTMENT\", \"DISTRICT\": \"Nilai\", \"NUMBER_OF_HOUSES\": 263.0}, {\"STATE\": \"Negeri Sembilan\", \"RESIDENTAL_AREA\": \"TAMAN DESARIA NILAI 5\", \"DISTRICT\": \"Nilai\", \"NUMBER_OF_HOUSES\": 448.0}, {\"STATE\": \"Negeri Sembilan\", \"RESIDENTAL_AREA\": \"LAMAN JASMIN\", \"DISTRICT\": \"Nilai\", \"NUMBER_OF_HOUSES\": 129.0}, {\"STATE\": \"Negeri Sembilan\", \"RESIDENTAL_AREA\": \"LAMAN DILLENIA\", \"DISTRICT\": \"Nilai\", \"NUMBER_OF_HOUSES\": 225.0}, {\"STATE\": \"Negeri Sembilan\", \"RESIDENTAL_AREA\": \"LAMAN ISORA\", \"DISTRICT\": \"Nilai\", \"NUMBER_OF_HOUSES\": 99.0}, {\"STATE\": \"Negeri Sembilan\", \"RESIDENTAL_AREA\": \"LAMAN KEKWA\", \"DISTRICT\": \"Nilai\", \"NUMBER_OF_HOUSES\": 107.0}, {\"STATE\": \"Negeri Sembilan\", \"RESIDENTAL_AREA\": \"LAMAN DAHLIA\", \"DISTRICT\": \"Nilai\", \"NUMBER_OF_HOUSES\": 139.0}, {\"STATE\": \"Negeri Sembilan\", \"RESIDENTAL_AREA\": \"LAMAN LILI\", \"DISTRICT\": \"Nilai\", \"NUMBER_OF_HOUSES\": 88.0}, {\"STATE\": \"Negeri Sembilan\", \"RESIDENTAL_AREA\": \"LAMAN LAVENDA\", \"DISTRICT\": \"Nilai\", \"NUMBER_OF_HOUSES\": 63.0}, {\"STATE\": \"Negeri Sembilan\", \"RESIDENTAL_AREA\": \"LAMAN TULIP\", \"DISTRICT\": \"Nilai\", \"NUMBER_OF_HOUSES\": 62.0}, {\"STATE\": \"Negeri Sembilan\", \"RESIDENTAL_AREA\": \"LAMAN AKASIA\", \"DISTRICT\": \"Nilai\", \"NUMBER_OF_HOUSES\": 223.0}, {\"STATE\": \"Negeri Sembilan\", \"RESIDENTAL_AREA\": \"LAMAN KENANGA\", \"DISTRICT\": \"Nilai\", \"NUMBER_OF_HOUSES\": 244.0}, {\"STATE\": \"Negeri Sembilan\", \"RESIDENTAL_AREA\": \"LAMAN ORKID\", \"DISTRICT\": \"Nilai\", \"NUMBER_OF_HOUSES\": 338.0}, {\"STATE\": \"Negeri Sembilan\", \"RESIDENTAL_AREA\": \"LAMAN DELFINA\", \"DISTRICT\": \"Nilai\", \"NUMBER_OF_HOUSES\": 430.0}, {\"STATE\": \"Negeri Sembilan\", \"RESIDENTAL_AREA\": \"LAMAN AZALEA\", \"DISTRICT\": \"Nilai\", \"NUMBER_OF_HOUSES\": 322.0}, {\"STATE\": \"Negeri Sembilan\", \"RESIDENTAL_AREA\": \"LAMAN ANGGERIK\", \"DISTRICT\": \"Nilai\", \"NUMBER_OF_HOUSES\": 142.0}, {\"STATE\": \"Negeri Sembilan\", \"RESIDENTAL_AREA\": \"CAMELIA dan KIARA COURT APARTMENT\", \"DISTRICT\": \"Nilai\", \"NUMBER_OF_HOUSES\": 400.0}, {\"STATE\": \"Negeri Sembilan\", \"RESIDENTAL_AREA\": \"DESA ANGGERIK\", \"DISTRICT\": \"Nilai\", \"NUMBER_OF_HOUSES\": 761.0}, {\"STATE\": \"Negeri Sembilan\", \"RESIDENTAL_AREA\": \"DESA MELATI 1 dan 2\", \"DISTRICT\": \"Nilai\", \"NUMBER_OF_HOUSES\": 757.0}, {\"STATE\": \"Negeri Sembilan\", \"RESIDENTAL_AREA\": \"DESA JATI\", \"DISTRICT\": \"Nilai\", \"NUMBER_OF_HOUSES\": 129.0}, {\"STATE\": \"Negeri Sembilan\", \"RESIDENTAL_AREA\": \"DESA JATI (ACACIA PARK)\", \"DISTRICT\": \"Nilai\", \"NUMBER_OF_HOUSES\": 376.0}, {\"STATE\": \"Negeri Sembilan\", \"RESIDENTAL_AREA\": \"DESA JATI (JATI PARK)\", \"DISTRICT\": \"Nilai\", \"NUMBER_OF_HOUSES\": 149.0}, {\"STATE\": \"Negeri Sembilan\", \"RESIDENTAL_AREA\": \"DESA JATI APARTMENT \", \"DISTRICT\": \"Nilai\", \"NUMBER_OF_HOUSES\": 432.0}, {\"STATE\": \"Negeri Sembilan\", \"RESIDENTAL_AREA\": \"DESA CASUARINA\", \"DISTRICT\": \"Nilai\", \"NUMBER_OF_HOUSES\": 445.0}, {\"STATE\": \"Negeri Sembilan\", \"RESIDENTAL_AREA\": \"DESA KASIA\", \"DISTRICT\": \"Nilai\", \"NUMBER_OF_HOUSES\": 293.0}, {\"STATE\": \"Negeri Sembilan\", \"RESIDENTAL_AREA\": \"NILAI SPRINGS HEIGHTS\", \"DISTRICT\": \"Nilai\", \"NUMBER_OF_HOUSES\": 195.0}, {\"STATE\": \"Negeri Sembilan\", \"RESIDENTAL_AREA\": \"KASTURI HEIGHTS\", \"DISTRICT\": \"Nilai\", \"NUMBER_OF_HOUSES\": 170.0}, {\"STATE\": \"Negeri Sembilan\", \"RESIDENTAL_AREA\": \"TAMAN BAN AIK\", \"DISTRICT\": \"Nilai\", \"NUMBER_OF_HOUSES\": 82.0}, {\"STATE\": \"Negeri Sembilan\", \"RESIDENTAL_AREA\": \"TAMAN NILAI\", \"DISTRICT\": \"Nilai\", \"NUMBER_OF_HOUSES\": 44.0}, {\"STATE\": \"Negeri Sembilan\", \"RESIDENTAL_AREA\": \"TAMAN SEMARAK 1\", \"DISTRICT\": \"Nilai\", \"NUMBER_OF_HOUSES\": 582.0}, {\"STATE\": \"Negeri Sembilan\", \"RESIDENTAL_AREA\": \"TAMAN ROS MERAH\", \"DISTRICT\": \"Nilai\", \"NUMBER_OF_HOUSES\": 54.0}, {\"STATE\": \"Negeri Sembilan\", \"RESIDENTAL_AREA\": \"TAMAN NILAI SETIA\", \"DISTRICT\": \"Nilai\", \"NUMBER_OF_HOUSES\": 14.0}, {\"STATE\": \"Negeri Sembilan\", \"RESIDENTAL_AREA\": \"TAMAN IMPIANA VILLA\", \"DISTRICT\": \"Nilai\", \"NUMBER_OF_HOUSES\": 145.0}, {\"STATE\": \"Negeri Sembilan\", \"RESIDENTAL_AREA\": \"PANGSAPURI YADIN IMPIANA \", \"DISTRICT\": \"Nilai\", \"NUMBER_OF_HOUSES\": 42.0}, {\"STATE\": \"Negeri Sembilan\", \"RESIDENTAL_AREA\": \"DESA MELATI 3\", \"DISTRICT\": \"Nilai\", \"NUMBER_OF_HOUSES\": 565.0}, {\"STATE\": \"Negeri Sembilan\", \"RESIDENTAL_AREA\": \"DESA JASMIN 1\", \"DISTRICT\": \"Nilai\", \"NUMBER_OF_HOUSES\": 121.0}, {\"STATE\": \"Negeri Sembilan\", \"RESIDENTAL_AREA\": \"DESA JASMIN 2\", \"DISTRICT\": \"Nilai\", \"NUMBER_OF_HOUSES\": 633.0}, {\"STATE\": \"Negeri Sembilan\", \"RESIDENTAL_AREA\": \"DESA CEMPAKA 2\", \"DISTRICT\": \"Nilai\", \"NUMBER_OF_HOUSES\": 358.0}, {\"STATE\": \"Negeri Sembilan\", \"RESIDENTAL_AREA\": \"DESA CEMPAKA 3\", \"DISTRICT\": \"Nilai\", \"NUMBER_OF_HOUSES\": 529.0}, {\"STATE\": \"Negeri Sembilan\", \"RESIDENTAL_AREA\": \"DESA CEMPAKA (SPECIAL SCHEME)\", \"DISTRICT\": \"Nilai\", \"NUMBER_OF_HOUSES\": 80.0}, {\"STATE\": \"Negeri Sembilan\", \"RESIDENTAL_AREA\": \"CEMPAKA COURT APARTMENT\", \"DISTRICT\": \"Nilai\", \"NUMBER_OF_HOUSES\": 236.0}, {\"STATE\": \"Negeri Sembilan\", \"RESIDENTAL_AREA\": \"CEMPAKAPURI I dan II APARTMENT\", \"DISTRICT\": \"Nilai\", \"NUMBER_OF_HOUSES\": 528.0}, {\"STATE\": \"Negeri Sembilan\", \"RESIDENTAL_AREA\": \"CEMPAKAPURI III APARTMENT\", \"DISTRICT\": \"Nilai\", \"NUMBER_OF_HOUSES\": 60.0}, {\"STATE\": \"Negeri Sembilan\", \"RESIDENTAL_AREA\": \"CEMPAKAPURI IV \", \"DISTRICT\": \"Nilai\", \"NUMBER_OF_HOUSES\": 464.0}, {\"STATE\": \"Negeri Sembilan\", \"RESIDENTAL_AREA\": \"DESA INDAH 1 \", \"DISTRICT\": \"Nilai\", \"NUMBER_OF_HOUSES\": 836.0}, {\"STATE\": \"Negeri Sembilan\", \"RESIDENTAL_AREA\": \"DESA INDAH 2\", \"DISTRICT\": \"Nilai\", \"NUMBER_OF_HOUSES\": 60.0}, {\"STATE\": \"Negeri Sembilan\", \"RESIDENTAL_AREA\": \"IMPIANA RESIDENCE\", \"DISTRICT\": \"Nilai\", \"NUMBER_OF_HOUSES\": 130.0}, {\"STATE\": \"Negeri Sembilan\", \"RESIDENTAL_AREA\": \"DESA KOLEJ\", \"DISTRICT\": \"Nilai\", \"NUMBER_OF_HOUSES\": 476.0}, {\"STATE\": \"Negeri Sembilan\", \"RESIDENTAL_AREA\": \"SUTERA INDAH APARTMENT\", \"DISTRICT\": \"Nilai\", \"NUMBER_OF_HOUSES\": 160.0}, {\"STATE\": \"Negeri Sembilan\", \"RESIDENTAL_AREA\": \"NILAI SANTALIA APARTMENT\", \"DISTRICT\": \"Nilai\", \"NUMBER_OF_HOUSES\": 115.0}, {\"STATE\": \"Negeri Sembilan\", \"RESIDENTAL_AREA\": \"ANGGERIK COURT APARTMENT\", \"DISTRICT\": \"Nilai\", \"NUMBER_OF_HOUSES\": 158.0}, {\"STATE\": \"Negeri Sembilan\", \"RESIDENTAL_AREA\": \"PANGSAPURI BAYU 1\", \"DISTRICT\": \"Nilai\", \"NUMBER_OF_HOUSES\": 248.0}, {\"STATE\": \"Negeri Sembilan\", \"RESIDENTAL_AREA\": \"PANGSAPURI BAYU 2\", \"DISTRICT\": \"Nilai\", \"NUMBER_OF_HOUSES\": 158.0}, {\"STATE\": \"Negeri Sembilan\", \"RESIDENTAL_AREA\": \"TAMAN PEKAN LABU BT 10\", \"DISTRICT\": \"Nilai\", \"NUMBER_OF_HOUSES\": 18.0}, {\"STATE\": \"Negeri Sembilan\", \"RESIDENTAL_AREA\": \"TAMAN TIROI\", \"DISTRICT\": \"Nilai\", \"NUMBER_OF_HOUSES\": 31.0}, {\"STATE\": \"Negeri Sembilan\", \"RESIDENTAL_AREA\": \"TAMAN LABU INDAH\", \"DISTRICT\": \"Nilai\", \"NUMBER_OF_HOUSES\": 63.0}, {\"STATE\": \"Negeri Sembilan\", \"RESIDENTAL_AREA\": \"PLANTERS HAVEN\", \"DISTRICT\": \"Nilai\", \"NUMBER_OF_HOUSES\": 158.0}, {\"STATE\": \"Negeri Sembilan\", \"RESIDENTAL_AREA\": \"EKA MATAHARI\", \"DISTRICT\": \"Nilai\", \"NUMBER_OF_HOUSES\": 996.0}, {\"STATE\": \"Negeri Sembilan\", \"RESIDENTAL_AREA\": \"TAMAN SRI PINANG\", \"DISTRICT\": \"Nilai\", \"NUMBER_OF_HOUSES\": 228.0}, {\"STATE\": \"Negeri Sembilan\", \"RESIDENTAL_AREA\": \"TAMAN PINGGIRAN MARKISA\", \"DISTRICT\": \"Nilai\", \"NUMBER_OF_HOUSES\": 53.0}, {\"STATE\": \"Negeri Sembilan\", \"RESIDENTAL_AREA\": \"TAMAN SRI RAMBAI\", \"DISTRICT\": \"Nilai\", \"NUMBER_OF_HOUSES\": 24.0}, {\"STATE\": \"Negeri Sembilan\", \"RESIDENTAL_AREA\": \"BANDAR AINSDALE\", \"DISTRICT\": \"Nilai\", \"NUMBER_OF_HOUSES\": 979.0}, {\"STATE\": \"Negeri Sembilan\", \"RESIDENTAL_AREA\": \"TAMAN SERI LABU\", \"DISTRICT\": \"Nilai\", \"NUMBER_OF_HOUSES\": 38.0}, {\"STATE\": \"Negeri Sembilan\", \"RESIDENTAL_AREA\": \"LAMAN KEMBOJA\", \"DISTRICT\": \"Nilai\", \"NUMBER_OF_HOUSES\": 199.0}, {\"STATE\": \"Negeri Sembilan\", \"RESIDENTAL_AREA\": \"LAMAN JASMIN\", \"DISTRICT\": \"Nilai\", \"NUMBER_OF_HOUSES\": 168.0}, {\"STATE\": \"Negeri Sembilan\", \"RESIDENTAL_AREA\": \"LAMAN CEMPAKA\", \"DISTRICT\": \"Nilai\", \"NUMBER_OF_HOUSES\": 494.0}, {\"STATE\": \"Negeri Sembilan\", \"RESIDENTAL_AREA\": \"LAMAN ALAMANDA\", \"DISTRICT\": \"Nilai\", \"NUMBER_OF_HOUSES\": 392.0}, {\"STATE\": \"Negeri Sembilan\", \"RESIDENTAL_AREA\": \"LAMAN BAKAWALI\", \"DISTRICT\": \"Nilai\", \"NUMBER_OF_HOUSES\": 998.0}, {\"STATE\": \"Negeri Sembilan\", \"RESIDENTAL_AREA\": \"ALAM MELANIA atau ENSTEK\", \"DISTRICT\": \"Nilai\", \"NUMBER_OF_HOUSES\": 683.0}, {\"STATE\": \"Negeri Sembilan\", \"RESIDENTAL_AREA\": \"JENTAYUatau ENSTEK\", \"DISTRICT\": \"Nilai\", \"NUMBER_OF_HOUSES\": 170.0}, {\"STATE\": \"Negeri Sembilan\", \"RESIDENTAL_AREA\": \"CENDERAWASIH atau ENSTEK\", \"DISTRICT\": \"Nilai\", \"NUMBER_OF_HOUSES\": 328.0}, {\"STATE\": \"Negeri Sembilan\", \"RESIDENTAL_AREA\": \"TIMUR1 atau ENSTEK\", \"DISTRICT\": \"Nilai\", \"NUMBER_OF_HOUSES\": 105.0}, {\"STATE\": \"Negeri Sembilan\", \"RESIDENTAL_AREA\": \"TIMUR2 atau ENSTEK\", \"DISTRICT\": \"Nilai\", \"NUMBER_OF_HOUSES\": 483.0}, {\"STATE\": \"Negeri Sembilan\", \"RESIDENTAL_AREA\": \"TIMUR4 atau ENSTEK\", \"DISTRICT\": \"Nilai\", \"NUMBER_OF_HOUSES\": 194.0}, {\"STATE\": \"Negeri Sembilan\", \"RESIDENTAL_AREA\": \"TIMUR5 atau ENSTEK\", \"DISTRICT\": \"Nilai\", \"NUMBER_OF_HOUSES\": 428.0}, {\"STATE\": \"Negeri Sembilan\", \"RESIDENTAL_AREA\": \"TAMAN GADONG INDAH\", \"DISTRICT\": \"Nilai\", \"NUMBER_OF_HOUSES\": 300.0}, {\"STATE\": \"Negeri Sembilan\", \"RESIDENTAL_AREA\": \"TAMAN GADONG PUTRA\", \"DISTRICT\": \"Nilai\", \"NUMBER_OF_HOUSES\": 72.0}, {\"STATE\": \"Negeri Sembilan\", \"RESIDENTAL_AREA\": \"TAMAN SENDAYAN INDAH\", \"DISTRICT\": \"Nilai\", \"NUMBER_OF_HOUSES\": 544.0}, {\"STATE\": \"Negeri Sembilan\", \"RESIDENTAL_AREA\": \"TAMAN BUKIT SENDAYAN\", \"DISTRICT\": \"Nilai\", \"NUMBER_OF_HOUSES\": 735.0}, {\"STATE\": \"Negeri Sembilan\", \"RESIDENTAL_AREA\": \"IDAMAN VILA\", \"DISTRICT\": \"Nilai\", \"NUMBER_OF_HOUSES\": 517.0}, {\"STATE\": \"Negeri Sembilan\", \"RESIDENTAL_AREA\": \"IDAMAN CASA\", \"DISTRICT\": \"Nilai\", \"NUMBER_OF_HOUSES\": 284.0}, {\"STATE\": \"Negeri Sembilan\", \"RESIDENTAL_AREA\": \"IDAMAN BAYU\", \"DISTRICT\": \"Nilai\", \"NUMBER_OF_HOUSES\": 178.0}, {\"STATE\": \"Negeri Sembilan\", \"RESIDENTAL_AREA\": \"SAUJANA TROPIKA\", \"DISTRICT\": \"Nilai\", \"NUMBER_OF_HOUSES\": 286.0}, {\"STATE\": \"Negeri Sembilan\", \"RESIDENTAL_AREA\": \"SAUJANA DUTA\", \"DISTRICT\": \"Nilai\", \"NUMBER_OF_HOUSES\": 271.0}, {\"STATE\": \"Negeri Sembilan\", \"RESIDENTAL_AREA\": \"SAUJANA SUTERA\", \"DISTRICT\": \"Nilai\", \"NUMBER_OF_HOUSES\": 532.0}, {\"STATE\": \"Negeri Sembilan\", \"RESIDENTAL_AREA\": \"SAUJANA INDAH\", \"DISTRICT\": \"Nilai\", \"NUMBER_OF_HOUSES\": 406.0}, {\"STATE\": \"Negeri Sembilan\", \"RESIDENTAL_AREA\": \"SAUJANA PRIMA\", \"DISTRICT\": \"Nilai\", \"NUMBER_OF_HOUSES\": 436.0}, {\"STATE\": \"Negeri Sembilan\", \"RESIDENTAL_AREA\": \"RIMBUN IRAMA\", \"DISTRICT\": \"Nilai\", \"NUMBER_OF_HOUSES\": 196.0}, {\"STATE\": \"Negeri Sembilan\", \"RESIDENTAL_AREA\": \"RIMBUN HARMONI\", \"DISTRICT\": \"Nilai\", \"NUMBER_OF_HOUSES\": 228.0}, {\"STATE\": \"Negeri Sembilan\", \"RESIDENTAL_AREA\": \"TAMAN MANTAU INDAH\", \"DISTRICT\": \"Nilai\", \"NUMBER_OF_HOUSES\": 419.0}, {\"STATE\": \"Negeri Sembilan\", \"RESIDENTAL_AREA\": \"TAMAN MANTAU INDAH 2\", \"DISTRICT\": \"Nilai\", \"NUMBER_OF_HOUSES\": 365.0}, {\"STATE\": \"Negeri Sembilan\", \"RESIDENTAL_AREA\": \"TAMAN MANTAU INDAH 3\", \"DISTRICT\": \"Nilai\", \"NUMBER_OF_HOUSES\": 322.0}, {\"STATE\": \"Negeri Sembilan\", \"RESIDENTAL_AREA\": \"PANGSAPURI PUNCAK RASAH\", \"DISTRICT\": \"Nilai\", \"NUMBER_OF_HOUSES\": 196.0}, {\"STATE\": \"Negeri Sembilan\", \"RESIDENTAL_AREA\": \"RIMBA RESIDENSI atau RASAH KEMAYAN\", \"DISTRICT\": \"Nilai\", \"NUMBER_OF_HOUSES\": 99.0}, {\"STATE\": \"Negeri Sembilan\", \"RESIDENTAL_AREA\": \"TAMAN BALI VILLA\", \"DISTRICT\": \"Nilai\", \"NUMBER_OF_HOUSES\": 86.0}, {\"STATE\": \"Negeri Sembilan\", \"RESIDENTAL_AREA\": \"TUANKU JAAFAR GOLF COUNTRY dan RESORT\", \"DISTRICT\": \"Nilai\", \"NUMBER_OF_HOUSES\": 313.0}, {\"STATE\": \"Negeri Sembilan\", \"RESIDENTAL_AREA\": \"VILLA KASIA \", \"DISTRICT\": \"Nilai\", \"NUMBER_OF_HOUSES\": 126.0}, {\"STATE\": \"Negeri Sembilan\", \"RESIDENTAL_AREA\": \"VILLA ANGSI \", \"DISTRICT\": \"Nilai\", \"NUMBER_OF_HOUSES\": 56.0}, {\"STATE\": \"Negeri Sembilan\", \"RESIDENTAL_AREA\": \"TAMAN TUANKU AMPUAN NAJIHAH\", \"DISTRICT\": \"Nilai\", \"NUMBER_OF_HOUSES\": 563.0}, {\"STATE\": \"Negeri Sembilan\", \"RESIDENTAL_AREA\": \"BUKIT SRI SENAWANG\", \"DISTRICT\": \"Nilai\", \"NUMBER_OF_HOUSES\": 560.0}, {\"STATE\": \"Negeri Sembilan\", \"RESIDENTAL_AREA\": \"TAMAN SRI PERMATA\", \"DISTRICT\": \"Nilai\", \"NUMBER_OF_HOUSES\": 154.0}, {\"STATE\": \"Negeri Sembilan\", \"RESIDENTAL_AREA\": \"TAMAN SENAWANG PERDANA\", \"DISTRICT\": \"Nilai\", \"NUMBER_OF_HOUSES\": 875.0}, {\"STATE\": \"Negeri Sembilan\", \"RESIDENTAL_AREA\": \"TAMAN BUNGA RAYA \", \"DISTRICT\": \"Nilai\", \"NUMBER_OF_HOUSES\": 90.0}, {\"STATE\": \"Negeri Sembilan\", \"RESIDENTAL_AREA\": \"TAMAN BUNGA SEJATI\", \"DISTRICT\": \"Nilai\", \"NUMBER_OF_HOUSES\": 81.0}, {\"STATE\": \"Negeri Sembilan\", \"RESIDENTAL_AREA\": \"TAMAN BUNGA SEJATI 3\", \"DISTRICT\": \"Nilai\", \"NUMBER_OF_HOUSES\": 134.0}, {\"STATE\": \"Negeri Sembilan\", \"RESIDENTAL_AREA\": \"TAMAN JED INDAH\", \"DISTRICT\": \"Nilai\", \"NUMBER_OF_HOUSES\": 15.0}, {\"STATE\": \"Negeri Sembilan\", \"RESIDENTAL_AREA\": \"TAMAN KOPERASI KG. STESYEN\", \"DISTRICT\": \"Nilai\", \"NUMBER_OF_HOUSES\": 44.0}, {\"STATE\": \"Negeri Sembilan\", \"RESIDENTAL_AREA\": \"TAMAN RIBU\", \"DISTRICT\": \"Nilai\", \"NUMBER_OF_HOUSES\": 36.0}, {\"STATE\": \"Negeri Sembilan\", \"RESIDENTAL_AREA\": \"TAMAN EMAS PERDANA\", \"DISTRICT\": \"Nilai\", \"NUMBER_OF_HOUSES\": 39.0}, {\"STATE\": \"Negeri Sembilan\", \"RESIDENTAL_AREA\": \"TAMAN RANTAU\", \"DISTRICT\": \"Nilai\", \"NUMBER_OF_HOUSES\": 102.0}, {\"STATE\": \"Negeri Sembilan\", \"RESIDENTAL_AREA\": \"TAMAN PASIR MAS\", \"DISTRICT\": \"Nilai\", \"NUMBER_OF_HOUSES\": 204.0}, {\"STATE\": \"Negeri Sembilan\", \"RESIDENTAL_AREA\": \"TAMAN BERSATU\", \"DISTRICT\": \"Nilai\", \"NUMBER_OF_HOUSES\": 7.0}, {\"STATE\": \"Negeri Sembilan\", \"RESIDENTAL_AREA\": \"TAMAN SRI RAMAI\", \"DISTRICT\": \"Nilai\", \"NUMBER_OF_HOUSES\": 208.0}, {\"STATE\": \"Negeri Sembilan\", \"RESIDENTAL_AREA\": \"TAMAN RANTAU TIN\", \"DISTRICT\": \"Nilai\", \"NUMBER_OF_HOUSES\": 7.0}, {\"STATE\": \"Negeri Sembilan\", \"RESIDENTAL_AREA\": \"TAMAN BUNGA ORKID\", \"DISTRICT\": \"Nilai\", \"NUMBER_OF_HOUSES\": 40.0}, {\"STATE\": \"Negeri Sembilan\", \"RESIDENTAL_AREA\": \"TAMAN RANTAU JAYA\", \"DISTRICT\": \"Nilai\", \"NUMBER_OF_HOUSES\": 44.0}, {\"STATE\": \"Negeri Sembilan\", \"RESIDENTAL_AREA\": \"TAMAN SRI ANGGERIK \", \"DISTRICT\": \"Nilai\", \"NUMBER_OF_HOUSES\": 526.0}, {\"STATE\": \"Negeri Sembilan\", \"RESIDENTAL_AREA\": \"TAMAN CEMPAKA\", \"DISTRICT\": \"Nilai\", \"NUMBER_OF_HOUSES\": 117.0}, {\"STATE\": \"Negeri Sembilan\", \"RESIDENTAL_AREA\": \"TAMAN DELIMA\", \"DISTRICT\": \"Nilai\", \"NUMBER_OF_HOUSES\": 20.0}, {\"STATE\": \"Negeri Sembilan\", \"RESIDENTAL_AREA\": \"TAMAN KRISTAL\", \"DISTRICT\": \"Nilai\", \"NUMBER_OF_HOUSES\": 23.0}, {\"STATE\": \"Negeri Sembilan\", \"RESIDENTAL_AREA\": \"TAMAN MAWAR\", \"DISTRICT\": \"Nilai\", \"NUMBER_OF_HOUSES\": 31.0}, {\"STATE\": \"Negeri Sembilan\", \"RESIDENTAL_AREA\": \"TAMAN SRI INTAN\", \"DISTRICT\": \"Nilai\", \"NUMBER_OF_HOUSES\": 84.0}, {\"STATE\": \"Negeri Sembilan\", \"RESIDENTAL_AREA\": \"TAMAN MUTIARA\", \"DISTRICT\": \"Nilai\", \"NUMBER_OF_HOUSES\": 209.0}, {\"STATE\": \"Negeri Sembilan\", \"RESIDENTAL_AREA\": \"TAMAN DESA DATO' KLANA\", \"DISTRICT\": \"Nilai\", \"NUMBER_OF_HOUSES\": 77.0}, {\"STATE\": \"Negeri Sembilan\", \"RESIDENTAL_AREA\": \"TAMAN DESA PERMAI\", \"DISTRICT\": \"Nilai\", \"NUMBER_OF_HOUSES\": 38.0}, {\"STATE\": \"Negeri Sembilan\", \"RESIDENTAL_AREA\": \"TAMAN KLANA JAYA\", \"DISTRICT\": \"Nilai\", \"NUMBER_OF_HOUSES\": 29.0}, {\"STATE\": \"Negeri Sembilan\", \"RESIDENTAL_AREA\": \"TAMAN AROWANA\", \"DISTRICT\": \"Nilai\", \"NUMBER_OF_HOUSES\": 121.0}, {\"STATE\": \"Negeri Sembilan\", \"RESIDENTAL_AREA\": \"TAMAN ULU BERANANG\", \"DISTRICT\": \"Nilai\", \"NUMBER_OF_HOUSES\": 99.0}, {\"STATE\": \"Negeri Sembilan\", \"RESIDENTAL_AREA\": \"TAMAN DESA KLANA\", \"DISTRICT\": \"Nilai\", \"NUMBER_OF_HOUSES\": 63.0}, {\"STATE\": \"Negeri Sembilan\", \"RESIDENTAL_AREA\": \"TAMAN MELATI\", \"DISTRICT\": \"Nilai\", \"NUMBER_OF_HOUSES\": 51.0}, {\"STATE\": \"Negeri Sembilan\", \"RESIDENTAL_AREA\": \"TAMAN KENARI\", \"DISTRICT\": \"Nilai\", \"NUMBER_OF_HOUSES\": 79.0}, {\"STATE\": \"Negeri Sembilan\", \"RESIDENTAL_AREA\": \"TAMAN BROGA\", \"DISTRICT\": \"Nilai\", \"NUMBER_OF_HOUSES\": 22.0}, {\"STATE\": \"Negeri Sembilan\", \"RESIDENTAL_AREA\": \"TAMAN SRI PULASAN\", \"DISTRICT\": \"Nilai\", \"NUMBER_OF_HOUSES\": 282.0}, {\"STATE\": \"Negeri Sembilan\", \"RESIDENTAL_AREA\": \"Taman Setiapuri\", \"DISTRICT\": \"Port Dickson\", \"NUMBER_OF_HOUSES\": 35.0}, {\"STATE\": \"Negeri Sembilan\", \"RESIDENTAL_AREA\": \"Taman Seaview\", \"DISTRICT\": \"Port Dickson\", \"NUMBER_OF_HOUSES\": 43.0}, {\"STATE\": \"Negeri Sembilan\", \"RESIDENTAL_AREA\": \"Taman Samudera\", \"DISTRICT\": \"Port Dickson\", \"NUMBER_OF_HOUSES\": 145.0}, {\"STATE\": \"Negeri Sembilan\", \"RESIDENTAL_AREA\": \"Taman Seroja\", \"DISTRICT\": \"Port Dickson\", \"NUMBER_OF_HOUSES\": 18.0}, {\"STATE\": \"Negeri Sembilan\", \"RESIDENTAL_AREA\": \"Taman Putera\", \"DISTRICT\": \"Port Dickson\", \"NUMBER_OF_HOUSES\": 23.0}, {\"STATE\": \"Negeri Sembilan\", \"RESIDENTAL_AREA\": \"Taman Sri Bayu\", \"DISTRICT\": \"Port Dickson\", \"NUMBER_OF_HOUSES\": 22.0}, {\"STATE\": \"Negeri Sembilan\", \"RESIDENTAL_AREA\": \"Taman PD Lavendar\", \"DISTRICT\": \"Port Dickson\", \"NUMBER_OF_HOUSES\": 12.0}, {\"STATE\": \"Negeri Sembilan\", \"RESIDENTAL_AREA\": \"Taman Kiara 1 & 2\", \"DISTRICT\": \"Port Dickson\", \"NUMBER_OF_HOUSES\": 91.0}, {\"STATE\": \"Negeri Sembilan\", \"RESIDENTAL_AREA\": \"Taman PD Delima\", \"DISTRICT\": \"Port Dickson\", \"NUMBER_OF_HOUSES\": 26.0}, {\"STATE\": \"Negeri Sembilan\", \"RESIDENTAL_AREA\": \"Taman Sri Intan\", \"DISTRICT\": \"Port Dickson\", \"NUMBER_OF_HOUSES\": 87.0}, {\"STATE\": \"Negeri Sembilan\", \"RESIDENTAL_AREA\": \"Taman Negeri\", \"DISTRICT\": \"Port Dickson\", \"NUMBER_OF_HOUSES\": 88.0}, {\"STATE\": \"Negeri Sembilan\", \"RESIDENTAL_AREA\": \"Taman Negeri Baru\", \"DISTRICT\": \"Port Dickson\", \"NUMBER_OF_HOUSES\": 70.0}, {\"STATE\": \"Negeri Sembilan\", \"RESIDENTAL_AREA\": \"Taman Negeri Indah\", \"DISTRICT\": \"Port Dickson\", \"NUMBER_OF_HOUSES\": 18.0}, {\"STATE\": \"Negeri Sembilan\", \"RESIDENTAL_AREA\": \"Taman Pertama\", \"DISTRICT\": \"Port Dickson\", \"NUMBER_OF_HOUSES\": 34.0}, {\"STATE\": \"Negeri Sembilan\", \"RESIDENTAL_AREA\": \"Taman Sri Kenangan\", \"DISTRICT\": \"Port Dickson\", \"NUMBER_OF_HOUSES\": 36.0}, {\"STATE\": \"Negeri Sembilan\", \"RESIDENTAL_AREA\": \"Taman Ria\", \"DISTRICT\": \"Port Dickson\", \"NUMBER_OF_HOUSES\": 115.0}, {\"STATE\": \"Negeri Sembilan\", \"RESIDENTAL_AREA\": \"Taman Pelangi\", \"DISTRICT\": \"Port Dickson\", \"NUMBER_OF_HOUSES\": 70.0}, {\"STATE\": \"Negeri Sembilan\", \"RESIDENTAL_AREA\": \"Taman Pantai Mas\", \"DISTRICT\": \"Port Dickson\", \"NUMBER_OF_HOUSES\": 169.0}, {\"STATE\": \"Negeri Sembilan\", \"RESIDENTAL_AREA\": \"Taman Indah Mas\", \"DISTRICT\": \"Port Dickson\", \"NUMBER_OF_HOUSES\": 193.0}, {\"STATE\": \"Negeri Sembilan\", \"RESIDENTAL_AREA\": \"Taman PD Permata\", \"DISTRICT\": \"Port Dickson\", \"NUMBER_OF_HOUSES\": 28.0}, {\"STATE\": \"Negeri Sembilan\", \"RESIDENTAL_AREA\": \"Taman Guru\", \"DISTRICT\": \"Port Dickson\", \"NUMBER_OF_HOUSES\": 18.0}, {\"STATE\": \"Negeri Sembilan\", \"RESIDENTAL_AREA\": \"Taman PD Teknik\", \"DISTRICT\": \"Port Dickson\", \"NUMBER_OF_HOUSES\": 59.0}, {\"STATE\": \"Negeri Sembilan\", \"RESIDENTAL_AREA\": \"Taman Selasih\", \"DISTRICT\": \"Port Dickson\", \"NUMBER_OF_HOUSES\": 461.0}, {\"STATE\": \"Negeri Sembilan\", \"RESIDENTAL_AREA\": \"Desa Permai\", \"DISTRICT\": \"Port Dickson\", \"NUMBER_OF_HOUSES\": 214.0}, {\"STATE\": \"Negeri Sembilan\", \"RESIDENTAL_AREA\": \"Taman Indah Desa\", \"DISTRICT\": \"Port Dickson\", \"NUMBER_OF_HOUSES\": 0.0}, {\"STATE\": \"Negeri Sembilan\", \"RESIDENTAL_AREA\": \"Taman PD Idaman\", \"DISTRICT\": \"Port Dickson\", \"NUMBER_OF_HOUSES\": 49.0}, {\"STATE\": \"Negeri Sembilan\", \"RESIDENTAL_AREA\": \"Taman Jasmin\", \"DISTRICT\": \"Port Dickson\", \"NUMBER_OF_HOUSES\": 23.0}, {\"STATE\": \"Negeri Sembilan\", \"RESIDENTAL_AREA\": \"Taman Lukut Permai                                     \", \"DISTRICT\": \"Port Dickson\", \"NUMBER_OF_HOUSES\": 68.0}, {\"STATE\": \"Negeri Sembilan\", \"RESIDENTAL_AREA\": \"Taman Impian Lukut\", \"DISTRICT\": \"Port Dickson\", \"NUMBER_OF_HOUSES\": 10.0}, {\"STATE\": \"Negeri Sembilan\", \"RESIDENTAL_AREA\": \"Taman Dataran Segar                                  \", \"DISTRICT\": \"Port Dickson\", \"NUMBER_OF_HOUSES\": 1205.0}, {\"STATE\": \"Negeri Sembilan\", \"RESIDENTAL_AREA\": \"Taman Sentosa 1\", \"DISTRICT\": \"Port Dickson\", \"NUMBER_OF_HOUSES\": 56.0}, {\"STATE\": \"Negeri Sembilan\", \"RESIDENTAL_AREA\": \"Taman Sentosa 2                                         \", \"DISTRICT\": \"Port Dickson\", \"NUMBER_OF_HOUSES\": 48.0}, {\"STATE\": \"Negeri Sembilan\", \"RESIDENTAL_AREA\": \"Taman Port Dickson\", \"DISTRICT\": \"Port Dickson\", \"NUMBER_OF_HOUSES\": 50.0}, {\"STATE\": \"Negeri Sembilan\", \"RESIDENTAL_AREA\": \"Taman Naga\", \"DISTRICT\": \"Port Dickson\", \"NUMBER_OF_HOUSES\": 24.0}, {\"STATE\": \"Negeri Sembilan\", \"RESIDENTAL_AREA\": \"Taman Bunga Raya                                      \", \"DISTRICT\": \"Port Dickson\", \"NUMBER_OF_HOUSES\": 71.0}, {\"STATE\": \"Negeri Sembilan\", \"RESIDENTAL_AREA\": \"Taman Kota Lukut\", \"DISTRICT\": \"Port Dickson\", \"NUMBER_OF_HOUSES\": 11.0}, {\"STATE\": \"Negeri Sembilan\", \"RESIDENTAL_AREA\": \"Taman PD Jaya \", \"DISTRICT\": \"Port Dickson\", \"NUMBER_OF_HOUSES\": 16.0}, {\"STATE\": \"Negeri Sembilan\", \"RESIDENTAL_AREA\": \"Taman Indah Baru\", \"DISTRICT\": \"Port Dickson\", \"NUMBER_OF_HOUSES\": 139.0}, {\"STATE\": \"Negeri Sembilan\", \"RESIDENTAL_AREA\": \"Taman Lukut Indah\", \"DISTRICT\": \"Port Dickson\", \"NUMBER_OF_HOUSES\": 0.0}, {\"STATE\": \"Negeri Sembilan\", \"RESIDENTAL_AREA\": \"Taman Aman\", \"DISTRICT\": \"Port Dickson\", \"NUMBER_OF_HOUSES\": 54.0}, {\"STATE\": \"Negeri Sembilan\", \"RESIDENTAL_AREA\": \"Taman Lukut\", \"DISTRICT\": \"Port Dickson\", \"NUMBER_OF_HOUSES\": 121.0}, {\"STATE\": \"Negeri Sembilan\", \"RESIDENTAL_AREA\": \"Taman Bandar Baru Lukut Jaya\", \"DISTRICT\": \"Port Dickson\", \"NUMBER_OF_HOUSES\": 204.0}, {\"STATE\": \"Negeri Sembilan\", \"RESIDENTAL_AREA\": \"Taman Indah Wang\", \"DISTRICT\": \"Port Dickson\", \"NUMBER_OF_HOUSES\": 81.0}, {\"STATE\": \"Negeri Sembilan\", \"RESIDENTAL_AREA\": \"Taman Desaru\", \"DISTRICT\": \"Port Dickson\", \"NUMBER_OF_HOUSES\": 28.0}, {\"STATE\": \"Negeri Sembilan\", \"RESIDENTAL_AREA\": \"Taman Lukut Lagenda\", \"DISTRICT\": \"Port Dickson\", \"NUMBER_OF_HOUSES\": 98.0}, {\"STATE\": \"Negeri Sembilan\", \"RESIDENTAL_AREA\": \"Taman Sri Parit\", \"DISTRICT\": \"Port Dickson\", \"NUMBER_OF_HOUSES\": 22.0}, {\"STATE\": \"Negeri Sembilan\", \"RESIDENTAL_AREA\": \"Taman Wawasan\", \"DISTRICT\": \"Port Dickson\", \"NUMBER_OF_HOUSES\": 296.0}, {\"STATE\": \"Negeri Sembilan\", \"RESIDENTAL_AREA\": \"Taman Indah Jaya \", \"DISTRICT\": \"Port Dickson\", \"NUMBER_OF_HOUSES\": 230.0}, {\"STATE\": \"Negeri Sembilan\", \"RESIDENTAL_AREA\": \"Taman Jaya Lukut\", \"DISTRICT\": \"Port Dickson\", \"NUMBER_OF_HOUSES\": 56.0}, {\"STATE\": \"Negeri Sembilan\", \"RESIDENTAL_AREA\": \"Taman Tun Sambathan\", \"DISTRICT\": \"Port Dickson\", \"NUMBER_OF_HOUSES\": 92.0}, {\"STATE\": \"Negeri Sembilan\", \"RESIDENTAL_AREA\": \"Taman Astana Harmoni\", \"DISTRICT\": \"Port Dickson\", \"NUMBER_OF_HOUSES\": 145.0}, {\"STATE\": \"Negeri Sembilan\", \"RESIDENTAL_AREA\": \"Taman Vista Jaya\", \"DISTRICT\": \"Port Dickson\", \"NUMBER_OF_HOUSES\": 171.0}, {\"STATE\": \"Negeri Sembilan\", \"RESIDENTAL_AREA\": \"Bandar Baru Spring Hill\", \"DISTRICT\": \"Port Dickson\", \"NUMBER_OF_HOUSES\": 2614.0}, {\"STATE\": \"Negeri Sembilan\", \"RESIDENTAL_AREA\": \"Taman Bayu Indera Lukut \", \"DISTRICT\": \"Port Dickson\", \"NUMBER_OF_HOUSES\": 1047.0}, {\"STATE\": \"Negeri Sembilan\", \"RESIDENTAL_AREA\": \"Taman Sri Aman \", \"DISTRICT\": \"Port Dickson\", \"NUMBER_OF_HOUSES\": 164.0}, {\"STATE\": \"Negeri Sembilan\", \"RESIDENTAL_AREA\": \"Taman Sri Lukut\", \"DISTRICT\": \"Port Dickson\", \"NUMBER_OF_HOUSES\": 139.0}, {\"STATE\": \"Negeri Sembilan\", \"RESIDENTAL_AREA\": \"Taman Lukut Makmur\", \"DISTRICT\": \"Port Dickson\", \"NUMBER_OF_HOUSES\": 445.0}, {\"STATE\": \"Negeri Sembilan\", \"RESIDENTAL_AREA\": \"Taman D\\u2019 Pinggiran Kota\", \"DISTRICT\": \"Port Dickson\", \"NUMBER_OF_HOUSES\": 192.0}, {\"STATE\": \"Negeri Sembilan\", \"RESIDENTAL_AREA\": \"Taman D\\u2019Ambang Kota\", \"DISTRICT\": \"Port Dickson\", \"NUMBER_OF_HOUSES\": 139.0}, {\"STATE\": \"Negeri Sembilan\", \"RESIDENTAL_AREA\": \"PPR Taman Rebana \", \"DISTRICT\": \"Port Dickson\", \"NUMBER_OF_HOUSES\": 150.0}, {\"STATE\": \"Negeri Sembilan\", \"RESIDENTAL_AREA\": \"Taman Tanjung Gemuk\", \"DISTRICT\": \"Port Dickson\", \"NUMBER_OF_HOUSES\": 110.0}, {\"STATE\": \"Negeri Sembilan\", \"RESIDENTAL_AREA\": \"Taman Sri Tanjung\", \"DISTRICT\": \"Port Dickson\", \"NUMBER_OF_HOUSES\": 135.0}, {\"STATE\": \"Negeri Sembilan\", \"RESIDENTAL_AREA\": \"Taman NLFCS\", \"DISTRICT\": \"Port Dickson\", \"NUMBER_OF_HOUSES\": 147.0}, {\"STATE\": \"Negeri Sembilan\", \"RESIDENTAL_AREA\": \"Taman Mikamas\", \"DISTRICT\": \"Port Dickson\", \"NUMBER_OF_HOUSES\": 62.0}, {\"STATE\": \"Negeri Sembilan\", \"RESIDENTAL_AREA\": \"Taman Damai\", \"DISTRICT\": \"Port Dickson\", \"NUMBER_OF_HOUSES\": 40.0}, {\"STATE\": \"Negeri Sembilan\", \"RESIDENTAL_AREA\": \"Taman Bukit Kg. Paya\", \"DISTRICT\": \"Port Dickson\", \"NUMBER_OF_HOUSES\": 50.0}, {\"STATE\": \"Negeri Sembilan\", \"RESIDENTAL_AREA\": \"Taman Gemilang\", \"DISTRICT\": \"Port Dickson\", \"NUMBER_OF_HOUSES\": 53.0}, {\"STATE\": \"Negeri Sembilan\", \"RESIDENTAL_AREA\": \"Taman Kg. Paya Utama\", \"DISTRICT\": \"Port Dickson\", \"NUMBER_OF_HOUSES\": 39.0}, {\"STATE\": \"Negeri Sembilan\", \"RESIDENTAL_AREA\": \"Taman Flora\", \"DISTRICT\": \"Port Dickson\", \"NUMBER_OF_HOUSES\": 89.0}, {\"STATE\": \"Negeri Sembilan\", \"RESIDENTAL_AREA\": \"Taman PD Era\", \"DISTRICT\": \"Port Dickson\", \"NUMBER_OF_HOUSES\": 28.0}, {\"STATE\": \"Negeri Sembilan\", \"RESIDENTAL_AREA\": \"Taman PD Lagenda\", \"DISTRICT\": \"Port Dickson\", \"NUMBER_OF_HOUSES\": 29.0}, {\"STATE\": \"Negeri Sembilan\", \"RESIDENTAL_AREA\": \"Taman Bukit Samudra\", \"DISTRICT\": \"Port Dickson\", \"NUMBER_OF_HOUSES\": 39.0}, {\"STATE\": \"Negeri Sembilan\", \"RESIDENTAL_AREA\": \"Taman Kien Yap\", \"DISTRICT\": \"Port Dickson\", \"NUMBER_OF_HOUSES\": 33.0}, {\"STATE\": \"Negeri Sembilan\", \"RESIDENTAL_AREA\": \"Taman Bakti   I 2 dan 3\", \"DISTRICT\": \"Port Dickson\", \"NUMBER_OF_HOUSES\": 75.0}, {\"STATE\": \"Negeri Sembilan\", \"RESIDENTAL_AREA\": \"Taman PD Suria\", \"DISTRICT\": \"Port Dickson\", \"NUMBER_OF_HOUSES\": 36.0}, {\"STATE\": \"Negeri Sembilan\", \"RESIDENTAL_AREA\": \"Taman Koperasi Setia\", \"DISTRICT\": \"Port Dickson\", \"NUMBER_OF_HOUSES\": 37.0}, {\"STATE\": \"Negeri Sembilan\", \"RESIDENTAL_AREA\": \"Taman Megah\", \"DISTRICT\": \"Port Dickson\", \"NUMBER_OF_HOUSES\": 52.0}, {\"STATE\": \"Negeri Sembilan\", \"RESIDENTAL_AREA\": \"Taman Megah Baru\", \"DISTRICT\": \"Port Dickson\", \"NUMBER_OF_HOUSES\": 34.0}, {\"STATE\": \"Negeri Sembilan\", \"RESIDENTAL_AREA\": \"Taman Nesa\", \"DISTRICT\": \"Port Dickson\", \"NUMBER_OF_HOUSES\": 88.0}, {\"STATE\": \"Negeri Sembilan\", \"RESIDENTAL_AREA\": \"Taman Shell Gate\", \"DISTRICT\": \"Port Dickson\", \"NUMBER_OF_HOUSES\": 27.0}, {\"STATE\": \"Negeri Sembilan\", \"RESIDENTAL_AREA\": \"Taman Tiong Seng\", \"DISTRICT\": \"Port Dickson\", \"NUMBER_OF_HOUSES\": 30.0}, {\"STATE\": \"Negeri Sembilan\", \"RESIDENTAL_AREA\": \"Taman Kg. Arab\", \"DISTRICT\": \"Port Dickson\", \"NUMBER_OF_HOUSES\": 21.0}, {\"STATE\": \"Negeri Sembilan\", \"RESIDENTAL_AREA\": \"Taman PD Akasia\", \"DISTRICT\": \"Port Dickson\", \"NUMBER_OF_HOUSES\": 19.0}, {\"STATE\": \"Negeri Sembilan\", \"RESIDENTAL_AREA\": \"Taman Kg Gelam\", \"DISTRICT\": \"Port Dickson\", \"NUMBER_OF_HOUSES\": 66.0}, {\"STATE\": \"Negeri Sembilan\", \"RESIDENTAL_AREA\": \"Kuarters TNB \", \"DISTRICT\": \"Port Dickson\", \"NUMBER_OF_HOUSES\": 208.0}, {\"STATE\": \"Negeri Sembilan\", \"RESIDENTAL_AREA\": \"Taman PD Mewah\", \"DISTRICT\": \"Port Dickson\", \"NUMBER_OF_HOUSES\": 22.0}, {\"STATE\": \"Negeri Sembilan\", \"RESIDENTAL_AREA\": \"Taman Muhibbah\", \"DISTRICT\": \"Port Dickson\", \"NUMBER_OF_HOUSES\": 108.0}, {\"STATE\": \"Negeri Sembilan\", \"RESIDENTAL_AREA\": \"Taman Sri Mawar I dan II\", \"DISTRICT\": \"Port Dickson\", \"NUMBER_OF_HOUSES\": 85.0}, {\"STATE\": \"Negeri Sembilan\", \"RESIDENTAL_AREA\": \"Taman Puteri\", \"DISTRICT\": \"Port Dickson\", \"NUMBER_OF_HOUSES\": 27.0}, {\"STATE\": \"Negeri Sembilan\", \"RESIDENTAL_AREA\": \"Taman Orkid\", \"DISTRICT\": \"Port Dickson\", \"NUMBER_OF_HOUSES\": 86.0}, {\"STATE\": \"Negeri Sembilan\", \"RESIDENTAL_AREA\": \"Taman PD Kemuning\", \"DISTRICT\": \"Port Dickson\", \"NUMBER_OF_HOUSES\": 9.0}, {\"STATE\": \"Negeri Sembilan\", \"RESIDENTAL_AREA\": \"Jalan Rumah Rehat\", \"DISTRICT\": \"Port Dickson\", \"NUMBER_OF_HOUSES\": 40.0}, {\"STATE\": \"Negeri Sembilan\", \"RESIDENTAL_AREA\": \"Taman PD Hartamas\", \"DISTRICT\": \"Port Dickson\", \"NUMBER_OF_HOUSES\": 12.0}, {\"STATE\": \"Negeri Sembilan\", \"RESIDENTAL_AREA\": \"Taman Minang\", \"DISTRICT\": \"Port Dickson\", \"NUMBER_OF_HOUSES\": 56.0}, {\"STATE\": \"Negeri Sembilan\", \"RESIDENTAL_AREA\": \"Taman Bukit Tuan Sheikh\", \"DISTRICT\": \"Port Dickson\", \"NUMBER_OF_HOUSES\": 72.0}, {\"STATE\": \"Negeri Sembilan\", \"RESIDENTAL_AREA\": \"Taman Tuan Sheikh\", \"DISTRICT\": \"Port Dickson\", \"NUMBER_OF_HOUSES\": 27.0}, {\"STATE\": \"Negeri Sembilan\", \"RESIDENTAL_AREA\": \"Taman Jalan Lama\", \"DISTRICT\": \"Port Dickson\", \"NUMBER_OF_HOUSES\": 137.0}, {\"STATE\": \"Negeri Sembilan\", \"RESIDENTAL_AREA\": \"Taman Sri Bandar\", \"DISTRICT\": \"Port Dickson\", \"NUMBER_OF_HOUSES\": 152.0}, {\"STATE\": \"Negeri Sembilan\", \"RESIDENTAL_AREA\": \"Taman Foursea\", \"DISTRICT\": \"Port Dickson\", \"NUMBER_OF_HOUSES\": 46.0}, {\"STATE\": \"Negeri Sembilan\", \"RESIDENTAL_AREA\": \"Taman Mekar\", \"DISTRICT\": \"Port Dickson\", \"NUMBER_OF_HOUSES\": 31.0}, {\"STATE\": \"Negeri Sembilan\", \"RESIDENTAL_AREA\": \"Taman Sutera Lama\", \"DISTRICT\": \"Port Dickson\", \"NUMBER_OF_HOUSES\": 119.0}, {\"STATE\": \"Negeri Sembilan\", \"RESIDENTAL_AREA\": \"Taman PD Sutera\", \"DISTRICT\": \"Port Dickson\", \"NUMBER_OF_HOUSES\": 70.0}, {\"STATE\": \"Negeri Sembilan\", \"RESIDENTAL_AREA\": \"Taman Jalan Masjid Lama\", \"DISTRICT\": \"Port Dickson\", \"NUMBER_OF_HOUSES\": 25.0}, {\"STATE\": \"Negeri Sembilan\", \"RESIDENTAL_AREA\": \"Taman Impian Putra\", \"DISTRICT\": \"Port Dickson\", \"NUMBER_OF_HOUSES\": 91.0}, {\"STATE\": \"Negeri Sembilan\", \"RESIDENTAL_AREA\": \"Taman Happy\", \"DISTRICT\": \"Port Dickson\", \"NUMBER_OF_HOUSES\": 53.0}, {\"STATE\": \"Negeri Sembilan\", \"RESIDENTAL_AREA\": \"Taman Perdana\", \"DISTRICT\": \"Port Dickson\", \"NUMBER_OF_HOUSES\": 32.0}, {\"STATE\": \"Negeri Sembilan\", \"RESIDENTAL_AREA\": \"Taman Toh Kee Kah\", \"DISTRICT\": \"Port Dickson\", \"NUMBER_OF_HOUSES\": 55.0}, {\"STATE\": \"Negeri Sembilan\", \"RESIDENTAL_AREA\": \"Taman Mewah\", \"DISTRICT\": \"Port Dickson\", \"NUMBER_OF_HOUSES\": 26.0}, {\"STATE\": \"Negeri Sembilan\", \"RESIDENTAL_AREA\": \"Kuarters TNB\", \"DISTRICT\": \"Port Dickson\", \"NUMBER_OF_HOUSES\": 25.0}, {\"STATE\": \"Negeri Sembilan\", \"RESIDENTAL_AREA\": \"Pioneer Cove\", \"DISTRICT\": \"Port Dickson\", \"NUMBER_OF_HOUSES\": 15.0}, {\"STATE\": \"Negeri Sembilan\", \"RESIDENTAL_AREA\": \"Taman Raja Zainal (TNB)\", \"DISTRICT\": \"Port Dickson\", \"NUMBER_OF_HOUSES\": 214.0}, {\"STATE\": \"Negeri Sembilan\", \"RESIDENTAL_AREA\": \"Taman PD Utama\", \"DISTRICT\": \"Port Dickson\", \"NUMBER_OF_HOUSES\": 1454.0}, {\"STATE\": \"Negeri Sembilan\", \"RESIDENTAL_AREA\": \"Taman PD Rafflesia\", \"DISTRICT\": \"Port Dickson\", \"NUMBER_OF_HOUSES\": 11.0}, {\"STATE\": \"Negeri Sembilan\", \"RESIDENTAL_AREA\": \"Taman PD Seraya\", \"DISTRICT\": \"Port Dickson\", \"NUMBER_OF_HOUSES\": 36.0}, {\"STATE\": \"Negeri Sembilan\", \"RESIDENTAL_AREA\": \"Taman PD Damai\", \"DISTRICT\": \"Port Dickson\", \"NUMBER_OF_HOUSES\": 24.0}, {\"STATE\": \"Negeri Sembilan\", \"RESIDENTAL_AREA\": \"Taman Lukut Sejahtera\", \"DISTRICT\": \"Port Dickson\", \"NUMBER_OF_HOUSES\": 21.0}, {\"STATE\": \"Negeri Sembilan\", \"RESIDENTAL_AREA\": \"Taman Lukut Lagenda\", \"DISTRICT\": \"Port Dickson\", \"NUMBER_OF_HOUSES\": 98.0}, {\"STATE\": \"Negeri Sembilan\", \"RESIDENTAL_AREA\": \"Taman PD Teknik 2\", \"DISTRICT\": \"Port Dickson\", \"NUMBER_OF_HOUSES\": 28.0}, {\"STATE\": \"Negeri Sembilan\", \"RESIDENTAL_AREA\": \"Taman PR1Ma Port Dickson\", \"DISTRICT\": \"Port Dickson\", \"NUMBER_OF_HOUSES\": 659.0}, {\"STATE\": \"Negeri Sembilan\", \"RESIDENTAL_AREA\": \"Taman Lukut Idaman\", \"DISTRICT\": \"Port Dickson\", \"NUMBER_OF_HOUSES\": 81.0}, {\"STATE\": \"Negeri Sembilan\", \"RESIDENTAL_AREA\": \"Taman PD Mahkota\", \"DISTRICT\": \"Port Dickson\", \"NUMBER_OF_HOUSES\": 16.0}, {\"STATE\": \"Negeri Sembilan\", \"RESIDENTAL_AREA\": \"Taman Bukit orkid\", \"DISTRICT\": \"Port Dickson\", \"NUMBER_OF_HOUSES\": 18.0}, {\"STATE\": \"Negeri Sembilan\", \"RESIDENTAL_AREA\": \"Taman PD Mulberi \", \"DISTRICT\": \"Port Dickson\", \"NUMBER_OF_HOUSES\": 17.0}, {\"STATE\": \"Negeri Sembilan\", \"RESIDENTAL_AREA\": \"Taman Jimah Indah Site \\u2019A\\u2019\", \"DISTRICT\": \"Port Dickson\", \"NUMBER_OF_HOUSES\": 68.0}, {\"STATE\": \"Negeri Sembilan\", \"RESIDENTAL_AREA\": \"Taman Jimah Jaya Site \\u2019C\\u2019\", \"DISTRICT\": \"Port Dickson\", \"NUMBER_OF_HOUSES\": 889.0}, {\"STATE\": \"Negeri Sembilan\", \"RESIDENTAL_AREA\": \"Taman Bukit Pelandok\", \"DISTRICT\": \"Port Dickson\", \"NUMBER_OF_HOUSES\": 78.0}, {\"STATE\": \"Negeri Sembilan\", \"RESIDENTAL_AREA\": \"Taman Pelandok Jaya\", \"DISTRICT\": \"Port Dickson\", \"NUMBER_OF_HOUSES\": 48.0}, {\"STATE\": \"Negeri Sembilan\", \"RESIDENTAL_AREA\": \"Taman Kekwa\", \"DISTRICT\": \"Port Dickson\", \"NUMBER_OF_HOUSES\": 30.0}, {\"STATE\": \"Negeri Sembilan\", \"RESIDENTAL_AREA\": \"Taman Pantai Mewah \", \"DISTRICT\": \"Port Dickson\", \"NUMBER_OF_HOUSES\": 34.0}, {\"STATE\": \"Negeri Sembilan\", \"RESIDENTAL_AREA\": \"Taman Murni\", \"DISTRICT\": \"Port Dickson\", \"NUMBER_OF_HOUSES\": 25.0}, {\"STATE\": \"Negeri Sembilan\", \"RESIDENTAL_AREA\": \"Taman Nuri\", \"DISTRICT\": \"Port Dickson\", \"NUMBER_OF_HOUSES\": 53.0}, {\"STATE\": \"Negeri Sembilan\", \"RESIDENTAL_AREA\": \"Taman Jimah Raya\", \"DISTRICT\": \"Port Dickson\", \"NUMBER_OF_HOUSES\": 8.0}, {\"STATE\": \"Negeri Sembilan\", \"RESIDENTAL_AREA\": \"Taman Bayan\", \"DISTRICT\": \"Port Dickson\", \"NUMBER_OF_HOUSES\": 27.0}, {\"STATE\": \"Negeri Sembilan\", \"RESIDENTAL_AREA\": \"Taman Bagan Kurnia\", \"DISTRICT\": \"Port Dickson\", \"NUMBER_OF_HOUSES\": 144.0}, {\"STATE\": \"Negeri Sembilan\", \"RESIDENTAL_AREA\": \"Taman Jentayu\", \"DISTRICT\": \"Port Dickson\", \"NUMBER_OF_HOUSES\": 46.0}, {\"STATE\": \"Negeri Sembilan\", \"RESIDENTAL_AREA\": \"Taman Melor\", \"DISTRICT\": \"Port Dickson\", \"NUMBER_OF_HOUSES\": 25.0}, {\"STATE\": \"Negeri Sembilan\", \"RESIDENTAL_AREA\": \"Taman Lagenda \", \"DISTRICT\": \"Port Dickson\", \"NUMBER_OF_HOUSES\": 25.0}, {\"STATE\": \"Negeri Sembilan\", \"RESIDENTAL_AREA\": \"Taman Merpati\", \"DISTRICT\": \"Port Dickson\", \"NUMBER_OF_HOUSES\": 21.0}, {\"STATE\": \"Negeri Sembilan\", \"RESIDENTAL_AREA\": \"Taman Kasawari\", \"DISTRICT\": \"Port Dickson\", \"NUMBER_OF_HOUSES\": 28.0}, {\"STATE\": \"Negeri Sembilan\", \"RESIDENTAL_AREA\": \"Taman Iris\", \"DISTRICT\": \"Port Dickson\", \"NUMBER_OF_HOUSES\": 14.0}, {\"STATE\": \"Negeri Sembilan\", \"RESIDENTAL_AREA\": \"Taman Tulip\", \"DISTRICT\": \"Port Dickson\", \"NUMBER_OF_HOUSES\": 9.0}, {\"STATE\": \"Negeri Sembilan\", \"RESIDENTAL_AREA\": \"Taman Bunga Emas\", \"DISTRICT\": \"Port Dickson\", \"NUMBER_OF_HOUSES\": 24.0}, {\"STATE\": \"Negeri Sembilan\", \"RESIDENTAL_AREA\": \"Taman Rajawali\", \"DISTRICT\": \"Port Dickson\", \"NUMBER_OF_HOUSES\": 24.0}, {\"STATE\": \"Negeri Sembilan\", \"RESIDENTAL_AREA\": \"Taman Tiong Mas \", \"DISTRICT\": \"Port Dickson\", \"NUMBER_OF_HOUSES\": 44.0}, {\"STATE\": \"Negeri Sembilan\", \"RESIDENTAL_AREA\": \"Taman Jimah Bistari \", \"DISTRICT\": \"Port Dickson\", \"NUMBER_OF_HOUSES\": 30.0}, {\"STATE\": \"Negeri Sembilan\", \"RESIDENTAL_AREA\": \"R. Rakyat Kg. Sawah\", \"DISTRICT\": \"Port Dickson\", \"NUMBER_OF_HOUSES\": 100.0}, {\"STATE\": \"Negeri Sembilan\", \"RESIDENTAL_AREA\": \"Taman Sri Pinang\", \"DISTRICT\": \"Port Dickson\", \"NUMBER_OF_HOUSES\": 126.0}, {\"STATE\": \"Negeri Sembilan\", \"RESIDENTAL_AREA\": \"Taman Hilsa\", \"DISTRICT\": \"Port Dickson\", \"NUMBER_OF_HOUSES\": 20.0}, {\"STATE\": \"Negeri Sembilan\", \"RESIDENTAL_AREA\": \"Taman Desa Pinang\", \"DISTRICT\": \"Port Dickson\", \"NUMBER_OF_HOUSES\": 57.0}, {\"STATE\": \"Negeri Sembilan\", \"RESIDENTAL_AREA\": \"Taman TKK\", \"DISTRICT\": \"Port Dickson\", \"NUMBER_OF_HOUSES\": 80.0}, {\"STATE\": \"Negeri Sembilan\", \"RESIDENTAL_AREA\": \"Taman Dato\\u2019 Haji Abdul Samad\", \"DISTRICT\": \"Port Dickson\", \"NUMBER_OF_HOUSES\": 211.0}, {\"STATE\": \"Negeri Sembilan\", \"RESIDENTAL_AREA\": \"Taman Abu Zarim (TNB)\", \"DISTRICT\": \"Port Dickson\", \"NUMBER_OF_HOUSES\": 55.0}, {\"STATE\": \"Negeri Sembilan\", \"RESIDENTAL_AREA\": \"Taman Eastern\", \"DISTRICT\": \"Port Dickson\", \"NUMBER_OF_HOUSES\": 67.0}, {\"STATE\": \"Negeri Sembilan\", \"RESIDENTAL_AREA\": \"Taman Desa Rusa\", \"DISTRICT\": \"Port Dickson\", \"NUMBER_OF_HOUSES\": 428.0}, {\"STATE\": \"Negeri Sembilan\", \"RESIDENTAL_AREA\": \"Taman Setia Damai\", \"DISTRICT\": \"Port Dickson\", \"NUMBER_OF_HOUSES\": 50.0}, {\"STATE\": \"Negeri Sembilan\", \"RESIDENTAL_AREA\": \"Taman Si Rusa\", \"DISTRICT\": \"Port Dickson\", \"NUMBER_OF_HOUSES\": 21.0}, {\"STATE\": \"Negeri Sembilan\", \"RESIDENTAL_AREA\": \"Taman Intan Duyung\", \"DISTRICT\": \"Port Dickson\", \"NUMBER_OF_HOUSES\": 688.0}, {\"STATE\": \"Negeri Sembilan\", \"RESIDENTAL_AREA\": \"Bandar Baru Sunggala\", \"DISTRICT\": \"Port Dickson\", \"NUMBER_OF_HOUSES\": 1026.0}, {\"STATE\": \"Negeri Sembilan\", \"RESIDENTAL_AREA\": \"Taman Melati\", \"DISTRICT\": \"Port Dickson\", \"NUMBER_OF_HOUSES\": 30.0}, {\"STATE\": \"Negeri Sembilan\", \"RESIDENTAL_AREA\": \"Taman Selayang\", \"DISTRICT\": \"Port Dickson\", \"NUMBER_OF_HOUSES\": 20.0}, {\"STATE\": \"Negeri Sembilan\", \"RESIDENTAL_AREA\": \"Taman Si Rusa Jaya\", \"DISTRICT\": \"Port Dickson\", \"NUMBER_OF_HOUSES\": 10.0}, {\"STATE\": \"Negeri Sembilan\", \"RESIDENTAL_AREA\": \"Taman Senangin\", \"DISTRICT\": \"Port Dickson\", \"NUMBER_OF_HOUSES\": 12.0}, {\"STATE\": \"Negeri Sembilan\", \"RESIDENTAL_AREA\": \"Taman Anggerik\", \"DISTRICT\": \"Port Dickson\", \"NUMBER_OF_HOUSES\": 40.0}, {\"STATE\": \"Negeri Sembilan\", \"RESIDENTAL_AREA\": \"Taman Sajak Permai\", \"DISTRICT\": \"Port Dickson\", \"NUMBER_OF_HOUSES\": 12.0}, {\"STATE\": \"Negeri Sembilan\", \"RESIDENTAL_AREA\": \"P.D. Village \", \"DISTRICT\": \"Port Dickson\", \"NUMBER_OF_HOUSES\": 46.0}, {\"STATE\": \"Negeri Sembilan\", \"RESIDENTAL_AREA\": \"Taman Belida\", \"DISTRICT\": \"Port Dickson\", \"NUMBER_OF_HOUSES\": 102.0}, {\"STATE\": \"Negeri Sembilan\", \"RESIDENTAL_AREA\": \"Taman Telok Kemang \", \"DISTRICT\": \"Port Dickson\", \"NUMBER_OF_HOUSES\": 69.0}, {\"STATE\": \"Negeri Sembilan\", \"RESIDENTAL_AREA\": \"Taman Bayu\", \"DISTRICT\": \"Port Dickson\", \"NUMBER_OF_HOUSES\": 93.0}, {\"STATE\": \"Negeri Sembilan\", \"RESIDENTAL_AREA\": \"Taman Layaran\", \"DISTRICT\": \"Port Dickson\", \"NUMBER_OF_HOUSES\": 10.0}, {\"STATE\": \"Negeri Sembilan\", \"RESIDENTAL_AREA\": \"P.D. Villa       \", \"DISTRICT\": \"Port Dickson\", \"NUMBER_OF_HOUSES\": 192.0}, {\"STATE\": \"Negeri Sembilan\", \"RESIDENTAL_AREA\": \"Taman Almai\", \"DISTRICT\": \"Port Dickson\", \"NUMBER_OF_HOUSES\": 55.0}, {\"STATE\": \"Negeri Sembilan\", \"RESIDENTAL_AREA\": \"Taman Kerisi\", \"DISTRICT\": \"Port Dickson\", \"NUMBER_OF_HOUSES\": 22.0}, {\"STATE\": \"Negeri Sembilan\", \"RESIDENTAL_AREA\": \"Taman Sunggala Hartamas\", \"DISTRICT\": \"Port Dickson\", \"NUMBER_OF_HOUSES\": 630.0}, {\"STATE\": \"Negeri Sembilan\", \"RESIDENTAL_AREA\": \"Taman Arowana\", \"DISTRICT\": \"Port Dickson\", \"NUMBER_OF_HOUSES\": 20.0}, {\"STATE\": \"Negeri Sembilan\", \"RESIDENTAL_AREA\": \"Taman Intan Perdana                      \", \"DISTRICT\": \"Port Dickson\", \"NUMBER_OF_HOUSES\": 1261.0}, {\"STATE\": \"Negeri Sembilan\", \"RESIDENTAL_AREA\": \"Taman Bukit Perdana\", \"DISTRICT\": \"Port Dickson\", \"NUMBER_OF_HOUSES\": 79.0}, {\"STATE\": \"Negeri Sembilan\", \"RESIDENTAL_AREA\": \"Villa Coral\", \"DISTRICT\": \"Port Dickson\", \"NUMBER_OF_HOUSES\": 132.0}, {\"STATE\": \"Negeri Sembilan\", \"RESIDENTAL_AREA\": \"Taman Politeknik\", \"DISTRICT\": \"Port Dickson\", \"NUMBER_OF_HOUSES\": 1600.0}, {\"STATE\": \"Negeri Sembilan\", \"RESIDENTAL_AREA\": \"Taman Orkid\", \"DISTRICT\": \"Port Dickson\", \"NUMBER_OF_HOUSES\": 75.0}, {\"STATE\": \"Negeri Sembilan\", \"RESIDENTAL_AREA\": \"Taman Bunga Kertas\", \"DISTRICT\": \"Port Dickson\", \"NUMBER_OF_HOUSES\": 15.0}, {\"STATE\": \"Negeri Sembilan\", \"RESIDENTAL_AREA\": \"Taman Tiara    \", \"DISTRICT\": \"Port Dickson\", \"NUMBER_OF_HOUSES\": 18.0}, {\"STATE\": \"Negeri Sembilan\", \"RESIDENTAL_AREA\": \"Taman Anika\", \"DISTRICT\": \"Port Dickson\", \"NUMBER_OF_HOUSES\": 133.0}, {\"STATE\": \"Negeri Sembilan\", \"RESIDENTAL_AREA\": \"Taman Harum Manis   \", \"DISTRICT\": \"Port Dickson\", \"NUMBER_OF_HOUSES\": 20.0}, {\"STATE\": \"Negeri Sembilan\", \"RESIDENTAL_AREA\": \"Taman Green View\", \"DISTRICT\": \"Port Dickson\", \"NUMBER_OF_HOUSES\": 397.0}, {\"STATE\": \"Negeri Sembilan\", \"RESIDENTAL_AREA\": \"Taman Peranginan Mutiara\", \"DISTRICT\": \"Port Dickson\", \"NUMBER_OF_HOUSES\": 252.0}, {\"STATE\": \"Negeri Sembilan\", \"RESIDENTAL_AREA\": \"Taman Setia \", \"DISTRICT\": \"Port Dickson\", \"NUMBER_OF_HOUSES\": 90.0}, {\"STATE\": \"Negeri Sembilan\", \"RESIDENTAL_AREA\": \"Taman Sri Cermai\", \"DISTRICT\": \"Port Dickson\", \"NUMBER_OF_HOUSES\": 31.0}, {\"STATE\": \"Negeri Sembilan\", \"RESIDENTAL_AREA\": \"Taman Chye\", \"DISTRICT\": \"Port Dickson\", \"NUMBER_OF_HOUSES\": 42.0}, {\"STATE\": \"Negeri Sembilan\", \"RESIDENTAL_AREA\": \"Taman Pasir Panjang\", \"DISTRICT\": \"Port Dickson\", \"NUMBER_OF_HOUSES\": 13.0}, {\"STATE\": \"Negeri Sembilan\", \"RESIDENTAL_AREA\": \"Taman Sengkang (Fasa 1)\", \"DISTRICT\": \"Port Dickson\", \"NUMBER_OF_HOUSES\": 72.0}, {\"STATE\": \"Negeri Sembilan\", \"RESIDENTAL_AREA\": \"Taman Bukit Cendana\", \"DISTRICT\": \"Port Dickson\", \"NUMBER_OF_HOUSES\": 56.0}, {\"STATE\": \"Negeri Sembilan\", \"RESIDENTAL_AREA\": \"Taman Angsana\", \"DISTRICT\": \"Port Dickson\", \"NUMBER_OF_HOUSES\": 52.0}, {\"STATE\": \"Negeri Sembilan\", \"RESIDENTAL_AREA\": \"Taman Belian\", \"DISTRICT\": \"Port Dickson\", \"NUMBER_OF_HOUSES\": 22.0}, {\"STATE\": \"Negeri Sembilan\", \"RESIDENTAL_AREA\": \"Taman Jati\", \"DISTRICT\": \"Port Dickson\", \"NUMBER_OF_HOUSES\": 26.0}, {\"STATE\": \"Negeri Sembilan\", \"RESIDENTAL_AREA\": \"Taman Pulai\", \"DISTRICT\": \"Port Dickson\", \"NUMBER_OF_HOUSES\": 10.0}, {\"STATE\": \"Negeri Sembilan\", \"RESIDENTAL_AREA\": \"Taman Markisa (beribu lagenda)\", \"DISTRICT\": \"Port Dickson\", \"NUMBER_OF_HOUSES\": 25.0}, {\"STATE\": \"Negeri Sembilan\", \"RESIDENTAL_AREA\": \"Taman Linggi\", \"DISTRICT\": \"Port Dickson\", \"NUMBER_OF_HOUSES\": 66.0}, {\"STATE\": \"Negeri Sembilan\", \"RESIDENTAL_AREA\": \"Taman Air Kuning\", \"DISTRICT\": \"Port Dickson\", \"NUMBER_OF_HOUSES\": 26.0}, {\"STATE\": \"Negeri Sembilan\", \"RESIDENTAL_AREA\": \"Taman Mewah Linggi\", \"DISTRICT\": \"Port Dickson\", \"NUMBER_OF_HOUSES\": 69.0}, {\"STATE\": \"Negeri Sembilan\", \"RESIDENTAL_AREA\": \"Taman Bukit Kempas\", \"DISTRICT\": \"Port Dickson\", \"NUMBER_OF_HOUSES\": 135.0}, {\"STATE\": \"Negeri Sembilan\", \"RESIDENTAL_AREA\": \"Taman Desa PD\", \"DISTRICT\": \"Port Dickson\", \"NUMBER_OF_HOUSES\": 1281.0}, {\"STATE\": \"Negeri Sembilan\", \"RESIDENTAL_AREA\": \"Taman Desa Pinggitan\", \"DISTRICT\": \"Port Dickson\", \"NUMBER_OF_HOUSES\": 25.0}, {\"STATE\": \"Negeri Sembilan\", \"RESIDENTAL_AREA\": \"Taman Linggi Maju\", \"DISTRICT\": \"Port Dickson\", \"NUMBER_OF_HOUSES\": 54.0}, {\"STATE\": \"Negeri Sembilan\", \"RESIDENTAL_AREA\": \"Taman Linggi Fasa 3\", \"DISTRICT\": \"Port Dickson\", \"NUMBER_OF_HOUSES\": 24.0}, {\"STATE\": \"Negeri Sembilan\", \"RESIDENTAL_AREA\": \"Taman Tasik Bahau\", \"DISTRICT\": \"Jempol\", \"NUMBER_OF_HOUSES\": 49.0}, {\"STATE\": \"Negeri Sembilan\", \"RESIDENTAL_AREA\": \"TAMAN KHAYA\", \"DISTRICT\": \"Jempol\", \"NUMBER_OF_HOUSES\": 59.0}, {\"STATE\": \"Negeri Sembilan\", \"RESIDENTAL_AREA\": \"TAMAN MERBAU\", \"DISTRICT\": \"Jempol\", \"NUMBER_OF_HOUSES\": 52.0}, {\"STATE\": \"Negeri Sembilan\", \"RESIDENTAL_AREA\": \"TAMAN TANJUNG\", \"DISTRICT\": \"Jempol\", \"NUMBER_OF_HOUSES\": 97.0}, {\"STATE\": \"Negeri Sembilan\", \"RESIDENTAL_AREA\": \"RUMAH RAKYAT BAHAU\", \"DISTRICT\": \"Jempol\", \"NUMBER_OF_HOUSES\": 50.0}, {\"STATE\": \"Negeri Sembilan\", \"RESIDENTAL_AREA\": \"TAMAN AKASIA\", \"DISTRICT\": \"Jempol\", \"NUMBER_OF_HOUSES\": 48.0}, {\"STATE\": \"Negeri Sembilan\", \"RESIDENTAL_AREA\": \"TAMAN MEDANG\", \"DISTRICT\": \"Jempol\", \"NUMBER_OF_HOUSES\": 14.0}, {\"STATE\": \"Negeri Sembilan\", \"RESIDENTAL_AREA\": \"TAMAN KHAYA HEIGHTS\", \"DISTRICT\": \"Jempol\", \"NUMBER_OF_HOUSES\": 24.0}, {\"STATE\": \"Negeri Sembilan\", \"RESIDENTAL_AREA\": \"TAMAN BINJAI\", \"DISTRICT\": \"Jempol\", \"NUMBER_OF_HOUSES\": 10.0}, {\"STATE\": \"Negeri Sembilan\", \"RESIDENTAL_AREA\": \"RUMAH RAKYAT BAHAU 1\", \"DISTRICT\": \"Jempol\", \"NUMBER_OF_HOUSES\": 141.0}, {\"STATE\": \"Negeri Sembilan\", \"RESIDENTAL_AREA\": \"TAMAN RASA SAYANG\", \"DISTRICT\": \"Jempol\", \"NUMBER_OF_HOUSES\": 244.0}, {\"STATE\": \"Negeri Sembilan\", \"RESIDENTAL_AREA\": \"TAMAN AWANA INDAH \", \"DISTRICT\": \"Jempol\", \"NUMBER_OF_HOUSES\": 241.0}, {\"STATE\": \"Negeri Sembilan\", \"RESIDENTAL_AREA\": \"TAMAN MUHIBBAH\", \"DISTRICT\": \"Jempol\", \"NUMBER_OF_HOUSES\": 96.0}, {\"STATE\": \"Negeri Sembilan\", \"RESIDENTAL_AREA\": \"TAMAN RIA\", \"DISTRICT\": \"Jempol\", \"NUMBER_OF_HOUSES\": 45.0}, {\"STATE\": \"Negeri Sembilan\", \"RESIDENTAL_AREA\": \"TAMAN CEMPAKA\", \"DISTRICT\": \"Jempol\", \"NUMBER_OF_HOUSES\": 173.0}, {\"STATE\": \"Negeri Sembilan\", \"RESIDENTAL_AREA\": \"TAMAN SRI PELATING\", \"DISTRICT\": \"Jempol\", \"NUMBER_OF_HOUSES\": 109.0}, {\"STATE\": \"Negeri Sembilan\", \"RESIDENTAL_AREA\": \"TAMAN TIMUR\", \"DISTRICT\": \"Jempol\", \"NUMBER_OF_HOUSES\": 86.0}, {\"STATE\": \"Negeri Sembilan\", \"RESIDENTAL_AREA\": \"TAMAN ACBE\", \"DISTRICT\": \"Jempol\", \"NUMBER_OF_HOUSES\": 497.0}, {\"STATE\": \"Negeri Sembilan\", \"RESIDENTAL_AREA\": \"TAMAN SORNAM\", \"DISTRICT\": \"Jempol\", \"NUMBER_OF_HOUSES\": 110.0}, {\"STATE\": \"Negeri Sembilan\", \"RESIDENTAL_AREA\": \"TAMAN KSM\", \"DISTRICT\": \"Jempol\", \"NUMBER_OF_HOUSES\": 42.0}, {\"STATE\": \"Negeri Sembilan\", \"RESIDENTAL_AREA\": \"TAMAN SUM HUP\", \"DISTRICT\": \"Jempol\", \"NUMBER_OF_HOUSES\": 69.0}, {\"STATE\": \"Negeri Sembilan\", \"RESIDENTAL_AREA\": \"TAMAN BAHAU INDAH\", \"DISTRICT\": \"Jempol\", \"NUMBER_OF_HOUSES\": 252.0}, {\"STATE\": \"Negeri Sembilan\", \"RESIDENTAL_AREA\": \"TAMAN BAHAU \", \"DISTRICT\": \"Jempol\", \"NUMBER_OF_HOUSES\": 780.0}, {\"STATE\": \"Negeri Sembilan\", \"RESIDENTAL_AREA\": \"TAMAN DESA PUTERI\", \"DISTRICT\": \"Jempol\", \"NUMBER_OF_HOUSES\": 520.0}, {\"STATE\": \"Negeri Sembilan\", \"RESIDENTAL_AREA\": \"TAMAN ANGKASA\", \"DISTRICT\": \"Jempol\", \"NUMBER_OF_HOUSES\": 98.0}, {\"STATE\": \"Negeri Sembilan\", \"RESIDENTAL_AREA\": \"TAMAN JUARA\", \"DISTRICT\": \"Jempol\", \"NUMBER_OF_HOUSES\": 224.0}, {\"STATE\": \"Negeri Sembilan\", \"RESIDENTAL_AREA\": \"TAMAN MELOR\", \"DISTRICT\": \"Jempol\", \"NUMBER_OF_HOUSES\": 89.0}, {\"STATE\": \"Negeri Sembilan\", \"RESIDENTAL_AREA\": \"RUMAH RAKYAT ROMPIN 1\", \"DISTRICT\": \"Jempol\", \"NUMBER_OF_HOUSES\": 32.0}, {\"STATE\": \"Negeri Sembilan\", \"RESIDENTAL_AREA\": \"TAMAN MATAHARI\", \"DISTRICT\": \"Jempol\", \"NUMBER_OF_HOUSES\": 18.0}, {\"STATE\": \"Negeri Sembilan\", \"RESIDENTAL_AREA\": \"TAMAN BAKAR BATU\", \"DISTRICT\": \"Jempol\", \"NUMBER_OF_HOUSES\": 79.0}, {\"STATE\": \"Negeri Sembilan\", \"RESIDENTAL_AREA\": \"TAMAN MELATI\", \"DISTRICT\": \"Jempol\", \"NUMBER_OF_HOUSES\": 29.0}, {\"STATE\": \"Negeri Sembilan\", \"RESIDENTAL_AREA\": \"PEKAN ROMPIN/TAMAN ROMPIN BARU\", \"DISTRICT\": \"Jempol\", \"NUMBER_OF_HOUSES\": 20.0}, {\"STATE\": \"Negeri Sembilan\", \"RESIDENTAL_AREA\": \"TAMAN SAUJANA\", \"DISTRICT\": \"Jempol\", \"NUMBER_OF_HOUSES\": 5.0}, {\"STATE\": \"Negeri Sembilan\", \"RESIDENTAL_AREA\": \"TAMAN DESA ROMPIN\", \"DISTRICT\": \"Jempol\", \"NUMBER_OF_HOUSES\": 29.0}, {\"STATE\": \"Negeri Sembilan\", \"RESIDENTAL_AREA\": \"TAMAN TERATAI\", \"DISTRICT\": \"Jempol\", \"NUMBER_OF_HOUSES\": 156.0}, {\"STATE\": \"Negeri Sembilan\", \"RESIDENTAL_AREA\": \"TAMAN MAHSAN\", \"DISTRICT\": \"Jempol\", \"NUMBER_OF_HOUSES\": 263.0}, {\"STATE\": \"Negeri Sembilan\", \"RESIDENTAL_AREA\": \"TAMAN SRI MAHSAN\", \"DISTRICT\": \"Jempol\", \"NUMBER_OF_HOUSES\": 439.0}, {\"STATE\": \"Negeri Sembilan\", \"RESIDENTAL_AREA\": \"TAMAN SRI MUTIARA\", \"DISTRICT\": \"Jempol\", \"NUMBER_OF_HOUSES\": 22.0}, {\"STATE\": \"Negeri Sembilan\", \"RESIDENTAL_AREA\": \"RUMAH RAKYAT MAHSAN 1\", \"DISTRICT\": \"Jempol\", \"NUMBER_OF_HOUSES\": 50.0}, {\"STATE\": \"Negeri Sembilan\", \"RESIDENTAL_AREA\": \"RUMAH RAKYAT BAHAU 3\", \"DISTRICT\": \"Jempol\", \"NUMBER_OF_HOUSES\": 70.0}, {\"STATE\": \"Negeri Sembilan\", \"RESIDENTAL_AREA\": \"RUMAH RAKYAT MAHSAN 2\", \"DISTRICT\": \"Jempol\", \"NUMBER_OF_HOUSES\": 50.0}, {\"STATE\": \"Negeri Sembilan\", \"RESIDENTAL_AREA\": \"TAMAN SAGA\", \"DISTRICT\": \"Jempol\", \"NUMBER_OF_HOUSES\": 29.0}, {\"STATE\": \"Negeri Sembilan\", \"RESIDENTAL_AREA\": \"TAMAN CEMARA\", \"DISTRICT\": \"Jempol\", \"NUMBER_OF_HOUSES\": 13.0}, {\"STATE\": \"Negeri Sembilan\", \"RESIDENTAL_AREA\": \"TAMAN JATI\", \"DISTRICT\": \"Jempol\", \"NUMBER_OF_HOUSES\": 28.0}, {\"STATE\": \"Negeri Sembilan\", \"RESIDENTAL_AREA\": \"TAMAN SERTING JAYA\", \"DISTRICT\": \"Jempol\", \"NUMBER_OF_HOUSES\": 91.0}, {\"STATE\": \"Negeri Sembilan\", \"RESIDENTAL_AREA\": \"TAMAN JEMPOL\", \"DISTRICT\": \"Jempol\", \"NUMBER_OF_HOUSES\": 45.0}, {\"STATE\": \"Negeri Sembilan\", \"RESIDENTAL_AREA\": \"DESA PERMAI SERTING INDAH\", \"DISTRICT\": \"Jempol\", \"NUMBER_OF_HOUSES\": 124.0}, {\"STATE\": \"Negeri Sembilan\", \"RESIDENTAL_AREA\": \"RUMAH RAKYAT SERTING TENGAH\", \"DISTRICT\": \"Jempol\", \"NUMBER_OF_HOUSES\": 100.0}, {\"STATE\": \"Negeri Sembilan\", \"RESIDENTAL_AREA\": \"TAMAN SERI AIR HITAM\", \"DISTRICT\": \"Jempol\", \"NUMBER_OF_HOUSES\": 46.0}, {\"STATE\": \"Negeri Sembilan\", \"RESIDENTAL_AREA\": \"TAMAN BINTANG\", \"DISTRICT\": \"Jempol\", \"NUMBER_OF_HOUSES\": 20.0}, {\"STATE\": \"Negeri Sembilan\", \"RESIDENTAL_AREA\": \"TAMAN SAGA 1/DILLENIA\", \"DISTRICT\": \"Jempol\", \"NUMBER_OF_HOUSES\": 28.0}, {\"STATE\": \"Negeri Sembilan\", \"RESIDENTAL_AREA\": \"TAMAN PERMATA\", \"DISTRICT\": \"Jempol\", \"NUMBER_OF_HOUSES\": 29.0}, {\"STATE\": \"Negeri Sembilan\", \"RESIDENTAL_AREA\": \"TAMAN JED\", \"DISTRICT\": \"Jempol\", \"NUMBER_OF_HOUSES\": 20.0}, {\"STATE\": \"Negeri Sembilan\", \"RESIDENTAL_AREA\": \"TAMAN KEPAYANG\", \"DISTRICT\": \"Jempol\", \"NUMBER_OF_HOUSES\": 97.0}, {\"STATE\": \"Negeri Sembilan\", \"RESIDENTAL_AREA\": \"TAMAN SATELITE\", \"DISTRICT\": \"Jempol\", \"NUMBER_OF_HOUSES\": 711.0}, {\"STATE\": \"Negeri Sembilan\", \"RESIDENTAL_AREA\": \"TAMAN SERI JEMPOL\", \"DISTRICT\": \"Jempol\", \"NUMBER_OF_HOUSES\": 58.0}, {\"STATE\": \"Negeri Sembilan\", \"RESIDENTAL_AREA\": \"TAMAN TUANKU PUAN CHIK\", \"DISTRICT\": \"Jempol\", \"NUMBER_OF_HOUSES\": 221.0}, {\"STATE\": \"Negeri Sembilan\", \"RESIDENTAL_AREA\": \"RUMAH RAKYAT BATU KIKIR 1\", \"DISTRICT\": \"Jempol\", \"NUMBER_OF_HOUSES\": 50.0}, {\"STATE\": \"Negeri Sembilan\", \"RESIDENTAL_AREA\": \"TAMAN DESA PENARIKAN\", \"DISTRICT\": \"Jempol\", \"NUMBER_OF_HOUSES\": 236.0}, {\"STATE\": \"Negeri Sembilan\", \"RESIDENTAL_AREA\": \"TAMAN SETIA BUDI\", \"DISTRICT\": \"Jempol\", \"NUMBER_OF_HOUSES\": 25.0}, {\"STATE\": \"Negeri Sembilan\", \"RESIDENTAL_AREA\": \"TAMAN MAWAR\", \"DISTRICT\": \"Jempol\", \"NUMBER_OF_HOUSES\": 162.0}, {\"STATE\": \"Negeri Sembilan\", \"RESIDENTAL_AREA\": \"TAMAN DESA DATO MUDA\", \"DISTRICT\": \"Jempol\", \"NUMBER_OF_HOUSES\": 47.0}, {\"STATE\": \"Negeri Sembilan\", \"RESIDENTAL_AREA\": \"TAMAN BERINGIN\", \"DISTRICT\": \"Jempol\", \"NUMBER_OF_HOUSES\": 24.0}, {\"STATE\": \"Negeri Sembilan\", \"RESIDENTAL_AREA\": \"RUMAH RAKYAT BATU KIKIR 2\", \"DISTRICT\": \"Jempol\", \"NUMBER_OF_HOUSES\": 66.0}, {\"STATE\": \"Negeri Sembilan\", \"RESIDENTAL_AREA\": \"TAMAN KRISTAL\", \"DISTRICT\": \"Jempol\", \"NUMBER_OF_HOUSES\": 47.0}, {\"STATE\": \"Negeri Sembilan\", \"RESIDENTAL_AREA\": \"RUMAH RAKYAT JAMBU LAPAN\", \"DISTRICT\": \"Jempol\", \"NUMBER_OF_HOUSES\": 200.0}, {\"STATE\": \"Negeri Sembilan\", \"RESIDENTAL_AREA\": \"TAMAN DELIMA\", \"DISTRICT\": \"Jempol\", \"NUMBER_OF_HOUSES\": 16.0}, {\"STATE\": \"Negeri Sembilan\", \"RESIDENTAL_AREA\": \"RUMAH RAKYAT BATU KIKIR 3\", \"DISTRICT\": \"Jempol\", \"NUMBER_OF_HOUSES\": 100.0}, {\"STATE\": \"Negeri Sembilan\", \"RESIDENTAL_AREA\": \"TAMAN MARIKH\", \"DISTRICT\": \"Jempol\", \"NUMBER_OF_HOUSES\": 68.0}, {\"STATE\": \"Negeri Sembilan\", \"RESIDENTAL_AREA\": \"TAMAN MUSYTARI\", \"DISTRICT\": \"Jempol\", \"NUMBER_OF_HOUSES\": 78.0}, {\"STATE\": \"Negeri Sembilan\", \"RESIDENTAL_AREA\": \"TAMAN ZUHAL\", \"DISTRICT\": \"Jempol\", \"NUMBER_OF_HOUSES\": 33.0}, {\"STATE\": \"Negeri Sembilan\", \"RESIDENTAL_AREA\": \"TAMAN ZAMRUD\", \"DISTRICT\": \"Jempol\", \"NUMBER_OF_HOUSES\": 200.0}, {\"STATE\": \"Negeri Sembilan\", \"RESIDENTAL_AREA\": \"TAMAN SURIA\", \"DISTRICT\": \"Jempol\", \"NUMBER_OF_HOUSES\": 13.0}, {\"STATE\": \"Negeri Sembilan\", \"RESIDENTAL_AREA\": \"TAMAN SRI SERTING\", \"DISTRICT\": \"Jempol\", \"NUMBER_OF_HOUSES\": 463.0}, {\"STATE\": \"Negeri Sembilan\", \"RESIDENTAL_AREA\": \"TAMAN SERTING INDAH\", \"DISTRICT\": \"Jempol\", \"NUMBER_OF_HOUSES\": 357.0}, {\"STATE\": \"Negeri Sembilan\", \"RESIDENTAL_AREA\": \"TAMAN SERTING UTAMA\", \"DISTRICT\": \"Jempol\", \"NUMBER_OF_HOUSES\": 144.0}, {\"STATE\": \"Negeri Sembilan\", \"RESIDENTAL_AREA\": \"FELDAJAYA\", \"DISTRICT\": \"Jempol\", \"NUMBER_OF_HOUSES\": 88.0}, {\"STATE\": \"Negeri Sembilan\", \"RESIDENTAL_AREA\": \"TAMAN MEGAH\", \"DISTRICT\": \"Jempol\", \"NUMBER_OF_HOUSES\": 259.0}, {\"STATE\": \"Negeri Sembilan\", \"RESIDENTAL_AREA\": \"TAMAN KWANG HUP 2\", \"DISTRICT\": \"Jempol\", \"NUMBER_OF_HOUSES\": 20.0}, {\"STATE\": \"Negeri Sembilan\", \"RESIDENTAL_AREA\": \"TAMAN MARGOSA\", \"DISTRICT\": \"Jempol\", \"NUMBER_OF_HOUSES\": 93.0}, {\"STATE\": \"Negeri Sembilan\", \"RESIDENTAL_AREA\": \"TAMAN SRI ROMPIN\", \"DISTRICT\": \"Jempol\", \"NUMBER_OF_HOUSES\": 339.0}, {\"STATE\": \"Negeri Sembilan\", \"RESIDENTAL_AREA\": \"TAMAN LELAYANG\", \"DISTRICT\": \"Jempol\", \"NUMBER_OF_HOUSES\": 104.0}, {\"STATE\": \"Negeri Sembilan\", \"RESIDENTAL_AREA\": \"RUMAH RAKYAT ROMPIN 2\", \"DISTRICT\": \"Jempol\", \"NUMBER_OF_HOUSES\": 58.0}, {\"STATE\": \"Negeri Sembilan\", \"RESIDENTAL_AREA\": \"TAMAN MEDANG\", \"DISTRICT\": \"Jempol\", \"NUMBER_OF_HOUSES\": 28.0}, {\"STATE\": \"Negeri Sembilan\", \"RESIDENTAL_AREA\": \"TAMAN KWANG HUP \", \"DISTRICT\": \"Jempol\", \"NUMBER_OF_HOUSES\": 55.0}, {\"STATE\": \"Negeri Sembilan\", \"RESIDENTAL_AREA\": \"TAMAN CHENGAL\", \"DISTRICT\": \"Jempol\", \"NUMBER_OF_HOUSES\": 241.0}, {\"STATE\": \"Negeri Sembilan\", \"RESIDENTAL_AREA\": \"TAMAN INTAN \", \"DISTRICT\": \"Jempol\", \"NUMBER_OF_HOUSES\": 128.0}, {\"STATE\": \"Negeri Sembilan\", \"RESIDENTAL_AREA\": \"TAMAN BAIDURI\", \"DISTRICT\": \"Jempol\", \"NUMBER_OF_HOUSES\": 28.0}, {\"STATE\": \"Negeri Sembilan\", \"RESIDENTAL_AREA\": \"TAMAN ARKED\", \"DISTRICT\": \"Jempol\", \"NUMBER_OF_HOUSES\": 30.0}, {\"STATE\": \"Negeri Sembilan\", \"RESIDENTAL_AREA\": \"TAMAN KASIH PUTERA\", \"DISTRICT\": \"Jempol\", \"NUMBER_OF_HOUSES\": 687.0}, {\"STATE\": \"Negeri Sembilan\", \"RESIDENTAL_AREA\": \"TAMAN SERTING PERTAMA\", \"DISTRICT\": \"Jempol\", \"NUMBER_OF_HOUSES\": 58.0}, {\"STATE\": \"Negeri Sembilan\", \"RESIDENTAL_AREA\": \"TAMAN PENAGA\", \"DISTRICT\": \"Jempol\", \"NUMBER_OF_HOUSES\": 5.0}, {\"STATE\": \"Negeri Sembilan\", \"RESIDENTAL_AREA\": \"TAMAN GARSENIA\", \"DISTRICT\": \"Jempol\", \"NUMBER_OF_HOUSES\": 56.0}, {\"STATE\": \"Negeri Sembilan\", \"RESIDENTAL_AREA\": \"TAMAN ARECA\", \"DISTRICT\": \"Jempol\", \"NUMBER_OF_HOUSES\": 110.0}, {\"STATE\": \"Negeri Sembilan\", \"RESIDENTAL_AREA\": \"TAMAN SAKURA\", \"DISTRICT\": \"Jempol\", \"NUMBER_OF_HOUSES\": 241.0}, {\"STATE\": \"Negeri Sembilan\", \"RESIDENTAL_AREA\": \"TAMAN ALAMANDA\", \"DISTRICT\": \"Jempol\", \"NUMBER_OF_HOUSES\": 6.0}, {\"STATE\": \"Negeri Sembilan\", \"RESIDENTAL_AREA\": \"TAMAN MARGOSA MAJU\", \"DISTRICT\": \"Jempol\", \"NUMBER_OF_HOUSES\": 39.0}, {\"STATE\": \"Negeri Sembilan\", \"RESIDENTAL_AREA\": \"TAMAN BIDARA\", \"DISTRICT\": \"Jempol\", \"NUMBER_OF_HOUSES\": 8.0}, {\"STATE\": \"Negeri Sembilan\", \"RESIDENTAL_AREA\": \"TAMAN BUCIDA\", \"DISTRICT\": \"Jempol\", \"NUMBER_OF_HOUSES\": 15.0}, {\"STATE\": \"Negeri Sembilan\", \"RESIDENTAL_AREA\": \"TAMAN AMETIS\", \"DISTRICT\": \"Tampin\", \"NUMBER_OF_HOUSES\": 137.0}, {\"STATE\": \"Negeri Sembilan\", \"RESIDENTAL_AREA\": \"TAMAN DESA PERMAI REPAH\", \"DISTRICT\": \"Tampin\", \"NUMBER_OF_HOUSES\": 374.0}, {\"STATE\": \"Negeri Sembilan\", \"RESIDENTAL_AREA\": \"TAMAN REPAH BARU\", \"DISTRICT\": \"Tampin\", \"NUMBER_OF_HOUSES\": 291.0}, {\"STATE\": \"Negeri Sembilan\", \"RESIDENTAL_AREA\": \"TAMAN BATU BELANG\", \"DISTRICT\": \"Tampin\", \"NUMBER_OF_HOUSES\": 141.0}, {\"STATE\": \"Negeri Sembilan\", \"RESIDENTAL_AREA\": \"TAMAN BATU BELANG JAYA\", \"DISTRICT\": \"Tampin\", \"NUMBER_OF_HOUSES\": 44.0}, {\"STATE\": \"Negeri Sembilan\", \"RESIDENTAL_AREA\": \"TAMAN BAHAGIA\", \"DISTRICT\": \"Tampin\", \"NUMBER_OF_HOUSES\": 53.0}, {\"STATE\": \"Negeri Sembilan\", \"RESIDENTAL_AREA\": \"TAMAN BUKIT INDAH\", \"DISTRICT\": \"Tampin\", \"NUMBER_OF_HOUSES\": 47.0}, {\"STATE\": \"Negeri Sembilan\", \"RESIDENTAL_AREA\": \"TAMAN BUKIT TAMPIN\", \"DISTRICT\": \"Tampin\", \"NUMBER_OF_HOUSES\": 363.0}, {\"STATE\": \"Negeri Sembilan\", \"RESIDENTAL_AREA\": \"TAMAN HAJI BURHAN\", \"DISTRICT\": \"Tampin\", \"NUMBER_OF_HOUSES\": 25.0}, {\"STATE\": \"Negeri Sembilan\", \"RESIDENTAL_AREA\": \"TAMAN INDAH LAMA\", \"DISTRICT\": \"Tampin\", \"NUMBER_OF_HOUSES\": 81.0}, {\"STATE\": \"Negeri Sembilan\", \"RESIDENTAL_AREA\": \"TAMAN KOLAM AIR\", \"DISTRICT\": \"Tampin\", \"NUMBER_OF_HOUSES\": 35.0}, {\"STATE\": \"Negeri Sembilan\", \"RESIDENTAL_AREA\": \"TAMAN MEENA JAYA\", \"DISTRICT\": \"Tampin\", \"NUMBER_OF_HOUSES\": 25.0}, {\"STATE\": \"Negeri Sembilan\", \"RESIDENTAL_AREA\": \"TAMAN BUKIT RIA\", \"DISTRICT\": \"Tampin\", \"NUMBER_OF_HOUSES\": 277.0}, {\"STATE\": \"Negeri Sembilan\", \"RESIDENTAL_AREA\": \"TAMAN RASA SAYANG\", \"DISTRICT\": \"Tampin\", \"NUMBER_OF_HOUSES\": 223.0}, {\"STATE\": \"Negeri Sembilan\", \"RESIDENTAL_AREA\": \"TAMAN SERI BELIAN\", \"DISTRICT\": \"Tampin\", \"NUMBER_OF_HOUSES\": 106.0}, {\"STATE\": \"Negeri Sembilan\", \"RESIDENTAL_AREA\": \"TAMAN SRI INTAN\", \"DISTRICT\": \"Tampin\", \"NUMBER_OF_HOUSES\": 101.0}, {\"STATE\": \"Negeri Sembilan\", \"RESIDENTAL_AREA\": \"TAMAN SERI MUTIARA\", \"DISTRICT\": \"Tampin\", \"NUMBER_OF_HOUSES\": 133.0}, {\"STATE\": \"Negeri Sembilan\", \"RESIDENTAL_AREA\": \"TAMAN SERI PERMAI\", \"DISTRICT\": \"Tampin\", \"NUMBER_OF_HOUSES\": 31.0}, {\"STATE\": \"Negeri Sembilan\", \"RESIDENTAL_AREA\": \"TAMAN TUNKU BESAR\", \"DISTRICT\": \"Tampin\", \"NUMBER_OF_HOUSES\": 145.0}, {\"STATE\": \"Negeri Sembilan\", \"RESIDENTAL_AREA\": \"TAMAN TAMPIN JAYA\", \"DISTRICT\": \"Tampin\", \"NUMBER_OF_HOUSES\": 39.0}, {\"STATE\": \"Negeri Sembilan\", \"RESIDENTAL_AREA\": \"TAMAN LENGGONG TAMPIN\", \"DISTRICT\": \"Tampin\", \"NUMBER_OF_HOUSES\": 19.0}, {\"STATE\": \"Negeri Sembilan\", \"RESIDENTAL_AREA\": \"TAMAN TAMPIN\", \"DISTRICT\": \"Tampin\", \"NUMBER_OF_HOUSES\": 191.0}, {\"STATE\": \"Negeri Sembilan\", \"RESIDENTAL_AREA\": \"TAMAN SURIA\", \"DISTRICT\": \"Tampin\", \"NUMBER_OF_HOUSES\": 172.0}, {\"STATE\": \"Negeri Sembilan\", \"RESIDENTAL_AREA\": \"TAMAN TAMPIN VIEW\", \"DISTRICT\": \"Tampin\", \"NUMBER_OF_HOUSES\": 53.0}, {\"STATE\": \"Negeri Sembilan\", \"RESIDENTAL_AREA\": \"TAMAN WOON\", \"DISTRICT\": \"Tampin\", \"NUMBER_OF_HOUSES\": 463.0}, {\"STATE\": \"Negeri Sembilan\", \"RESIDENTAL_AREA\": \"TAMAN MINANG\", \"DISTRICT\": \"Tampin\", \"NUMBER_OF_HOUSES\": 93.0}, {\"STATE\": \"Negeri Sembilan\", \"RESIDENTAL_AREA\": \"TAMAN SERI NURI\", \"DISTRICT\": \"Tampin\", \"NUMBER_OF_HOUSES\": 85.0}, {\"STATE\": \"Negeri Sembilan\", \"RESIDENTAL_AREA\": \"TAMAN ASAHAN INDAH 2\", \"DISTRICT\": \"Tampin\", \"NUMBER_OF_HOUSES\": 13.0}, {\"STATE\": \"Negeri Sembilan\", \"RESIDENTAL_AREA\": \"TAMAN ASAHAN INDAH 3\", \"DISTRICT\": \"Tampin\", \"NUMBER_OF_HOUSES\": 16.0}, {\"STATE\": \"Negeri Sembilan\", \"RESIDENTAL_AREA\": \"TAMAN BUKIT GEMENCHEH\", \"DISTRICT\": \"Tampin\", \"NUMBER_OF_HOUSES\": 80.0}, {\"STATE\": \"Negeri Sembilan\", \"RESIDENTAL_AREA\": \"TAMAN ASAHAN INDAH\", \"DISTRICT\": \"Tampin\", \"NUMBER_OF_HOUSES\": 19.0}, {\"STATE\": \"Negeri Sembilan\", \"RESIDENTAL_AREA\": \"TAMAN DATO TAHA\", \"DISTRICT\": \"Tampin\", \"NUMBER_OF_HOUSES\": 140.0}, {\"STATE\": \"Negeri Sembilan\", \"RESIDENTAL_AREA\": \"TAMAN BUNGA RAYA\", \"DISTRICT\": \"Tampin\", \"NUMBER_OF_HOUSES\": 84.0}, {\"STATE\": \"Negeri Sembilan\", \"RESIDENTAL_AREA\": \"TAMAN GEMBIRA\", \"DISTRICT\": \"Tampin\", \"NUMBER_OF_HOUSES\": 182.0}, {\"STATE\": \"Negeri Sembilan\", \"RESIDENTAL_AREA\": \"TAMAN NURI INDAH\", \"DISTRICT\": \"Tampin\", \"NUMBER_OF_HOUSES\": 112.0}, {\"STATE\": \"Negeri Sembilan\", \"RESIDENTAL_AREA\": \"TAMAN GEMENCHEH HEIGHT\", \"DISTRICT\": \"Tampin\", \"NUMBER_OF_HOUSES\": 43.0}, {\"STATE\": \"Negeri Sembilan\", \"RESIDENTAL_AREA\": \"TAMAN SRI INTAN\", \"DISTRICT\": \"Tampin\", \"NUMBER_OF_HOUSES\": 104.0}, {\"STATE\": \"Negeri Sembilan\", \"RESIDENTAL_AREA\": \"TAMAN MERAK GEMENCHEH LAMA\", \"DISTRICT\": \"Tampin\", \"NUMBER_OF_HOUSES\": 2.0}, {\"STATE\": \"Negeri Sembilan\", \"RESIDENTAL_AREA\": \"TAMAN GEMENCHEH JAYA\", \"DISTRICT\": \"Tampin\", \"NUMBER_OF_HOUSES\": 92.0}, {\"STATE\": \"Negeri Sembilan\", \"RESIDENTAL_AREA\": \"TAMAN SRI INTAN\", \"DISTRICT\": \"Tampin\", \"NUMBER_OF_HOUSES\": 99.0}, {\"STATE\": \"Negeri Sembilan\", \"RESIDENTAL_AREA\": \"TAMAN ORKID\", \"DISTRICT\": \"Tampin\", \"NUMBER_OF_HOUSES\": 283.0}, {\"STATE\": \"Negeri Sembilan\", \"RESIDENTAL_AREA\": \"TAMAN MELOR\", \"DISTRICT\": \"Tampin\", \"NUMBER_OF_HOUSES\": 28.0}, {\"STATE\": \"Negeri Sembilan\", \"RESIDENTAL_AREA\": \"TAMAN IMPIAN JAYA\", \"DISTRICT\": \"Tampin\", \"NUMBER_OF_HOUSES\": 674.0}, {\"STATE\": \"Negeri Sembilan\", \"RESIDENTAL_AREA\": \"TAMAN MUHIBBAH\", \"DISTRICT\": \"Tampin\", \"NUMBER_OF_HOUSES\": 313.0}, {\"STATE\": \"Negeri Sembilan\", \"RESIDENTAL_AREA\": \"TAMAN ASAHAN JAYA\", \"DISTRICT\": \"Tampin\", \"NUMBER_OF_HOUSES\": 60.0}, {\"STATE\": \"Negeri Sembilan\", \"RESIDENTAL_AREA\": \"TAMAN PEKAN GEMENCHEH BARU\", \"DISTRICT\": \"Tampin\", \"NUMBER_OF_HOUSES\": 680.0}, {\"STATE\": \"Negeri Sembilan\", \"RESIDENTAL_AREA\": \"TAMAN REGENT\", \"DISTRICT\": \"Tampin\", \"NUMBER_OF_HOUSES\": 466.0}, {\"STATE\": \"Negeri Sembilan\", \"RESIDENTAL_AREA\": \"TAMAN SERI GEMENCHEH\", \"DISTRICT\": \"Tampin\", \"NUMBER_OF_HOUSES\": 61.0}, {\"STATE\": \"Negeri Sembilan\", \"RESIDENTAL_AREA\": \"TAMAN SENTOSA\", \"DISTRICT\": \"Tampin\", \"NUMBER_OF_HOUSES\": 30.0}, {\"STATE\": \"Negeri Sembilan\", \"RESIDENTAL_AREA\": \"TAMAN MELOR 2\", \"DISTRICT\": \"Tampin\", \"NUMBER_OF_HOUSES\": 20.0}, {\"STATE\": \"Negeri Sembilan\", \"RESIDENTAL_AREA\": \"TAMAN MERAK\", \"DISTRICT\": \"Tampin\", \"NUMBER_OF_HOUSES\": 59.0}, {\"STATE\": \"Negeri Sembilan\", \"RESIDENTAL_AREA\": \"TAMAN YUYI\", \"DISTRICT\": \"Tampin\", \"NUMBER_OF_HOUSES\": 61.0}, {\"STATE\": \"Negeri Sembilan\", \"RESIDENTAL_AREA\": \"TAMAN KASTURI\", \"DISTRICT\": \"Tampin\", \"NUMBER_OF_HOUSES\": 2.0}, {\"STATE\": \"Negeri Sembilan\", \"RESIDENTAL_AREA\": \"TAMAN ORKID 2\", \"DISTRICT\": \"Tampin\", \"NUMBER_OF_HOUSES\": 51.0}, {\"STATE\": \"Negeri Sembilan\", \"RESIDENTAL_AREA\": \"TAMAN KASTURI\", \"DISTRICT\": \"Tampin\", \"NUMBER_OF_HOUSES\": 350.0}, {\"STATE\": \"Negeri Sembilan\", \"RESIDENTAL_AREA\": \"TAMAN SUTERA\", \"DISTRICT\": \"Tampin\", \"NUMBER_OF_HOUSES\": 42.0}, {\"STATE\": \"Negeri Sembilan\", \"RESIDENTAL_AREA\": \"TAMAN BARU BATANG MELAKA\", \"DISTRICT\": \"Tampin\", \"NUMBER_OF_HOUSES\": 78.0}, {\"STATE\": \"Negeri Sembilan\", \"RESIDENTAL_AREA\": \"TAMAN SERI MUTIARA\", \"DISTRICT\": \"Tampin\", \"NUMBER_OF_HOUSES\": 230.0}, {\"STATE\": \"Negeri Sembilan\", \"RESIDENTAL_AREA\": \"TAMAN PINGGIRAN FELDA\", \"DISTRICT\": \"Tampin\", \"NUMBER_OF_HOUSES\": 336.0}, {\"STATE\": \"Negeri Sembilan\", \"RESIDENTAL_AREA\": \"TAMAN DESA BAKTI\", \"DISTRICT\": \"Tampin\", \"NUMBER_OF_HOUSES\": 76.0}, {\"STATE\": \"Negeri Sembilan\", \"RESIDENTAL_AREA\": \"TAMAN DESA PERMAI GEMAS\", \"DISTRICT\": \"Tampin\", \"NUMBER_OF_HOUSES\": 340.0}, {\"STATE\": \"Negeri Sembilan\", \"RESIDENTAL_AREA\": \"TAMAN SUNGAI GEMAS\", \"DISTRICT\": \"Tampin\", \"NUMBER_OF_HOUSES\": 252.0}, {\"STATE\": \"Negeri Sembilan\", \"RESIDENTAL_AREA\": \"TAMAN GEMAS INDAH\", \"DISTRICT\": \"Tampin\", \"NUMBER_OF_HOUSES\": 302.0}, {\"STATE\": \"Negeri Sembilan\", \"RESIDENTAL_AREA\": \"TAMAN GEMAS JAYA\", \"DISTRICT\": \"Tampin\", \"NUMBER_OF_HOUSES\": 206.0}, {\"STATE\": \"Negeri Sembilan\", \"RESIDENTAL_AREA\": \"TAMAN GEMAS GOLF RESORT\", \"DISTRICT\": \"Tampin\", \"NUMBER_OF_HOUSES\": 1.0}, {\"STATE\": \"Negeri Sembilan\", \"RESIDENTAL_AREA\": \"TAMAN MOLEK\", \"DISTRICT\": \"Tampin\", \"NUMBER_OF_HOUSES\": 72.0}, {\"STATE\": \"Negeri Sembilan\", \"RESIDENTAL_AREA\": \"TAMAN MURIS\", \"DISTRICT\": \"Tampin\", \"NUMBER_OF_HOUSES\": 49.0}, {\"STATE\": \"Negeri Sembilan\", \"RESIDENTAL_AREA\": \"TAMAN PASIR BESAR\", \"DISTRICT\": \"Tampin\", \"NUMBER_OF_HOUSES\": 146.0}, {\"STATE\": \"Negeri Sembilan\", \"RESIDENTAL_AREA\": \"TAMAN GEMAS SETIA\", \"DISTRICT\": \"Tampin\", \"NUMBER_OF_HOUSES\": 83.0}, {\"STATE\": \"Negeri Sembilan\", \"RESIDENTAL_AREA\": \"TAMAN SAHABAT GEMAS\", \"DISTRICT\": \"Tampin\", \"NUMBER_OF_HOUSES\": 195.0}, {\"STATE\": \"Negeri Sembilan\", \"RESIDENTAL_AREA\": \"TAMAN SENTOSA\", \"DISTRICT\": \"Tampin\", \"NUMBER_OF_HOUSES\": 421.0}, {\"STATE\": \"Negeri Sembilan\", \"RESIDENTAL_AREA\": \"TAMAN DAMAI (LOT ASAL 904)\", \"DISTRICT\": \"Tampin\", \"NUMBER_OF_HOUSES\": 230.0}, {\"STATE\": \"Negeri Sembilan\", \"RESIDENTAL_AREA\": \"TAMAN GEMAS\", \"DISTRICT\": \"Tampin\", \"NUMBER_OF_HOUSES\": 35.0}, {\"STATE\": \"Negeri Sembilan\", \"RESIDENTAL_AREA\": \"TAMAN ARMANI\", \"DISTRICT\": \"Tampin\", \"NUMBER_OF_HOUSES\": 68.0}, {\"STATE\": \"Negeri Sembilan\", \"RESIDENTAL_AREA\": \"TAMAN KOMERSIAL PAHLAWAN\", \"DISTRICT\": \"Tampin\", \"NUMBER_OF_HOUSES\": 37.0}, {\"STATE\": \"Negeri Sembilan\", \"RESIDENTAL_AREA\": \"TAMAN JALAN NYALAS\", \"DISTRICT\": \"Tampin\", \"NUMBER_OF_HOUSES\": 24.0}, {\"STATE\": \"Negeri Sembilan\", \"RESIDENTAL_AREA\": \"TAMAN AIR KUNING\", \"DISTRICT\": \"Tampin\", \"NUMBER_OF_HOUSES\": 26.0}, {\"STATE\": \"Negeri Sembilan\", \"RESIDENTAL_AREA\": \"TAMAN SEMARAK\", \"DISTRICT\": \"Tampin\", \"NUMBER_OF_HOUSES\": 115.0}, {\"STATE\": \"Negeri Sembilan\", \"RESIDENTAL_AREA\": \"TAMAN SERI AIR KUNING\", \"DISTRICT\": \"Tampin\", \"NUMBER_OF_HOUSES\": 95.0}, {\"STATE\": \"Negeri Sembilan\", \"RESIDENTAL_AREA\": \"TAMAN AZALEA\", \"DISTRICT\": \"Tampin\", \"NUMBER_OF_HOUSES\": 22.0}, {\"STATE\": \"Negeri Sembilan\", \"RESIDENTAL_AREA\": \"Taman Bukit Pilah Perdana\", \"DISTRICT\": \"Kuala Pilah\", \"NUMBER_OF_HOUSES\": 162.0}, {\"STATE\": \"Negeri Sembilan\", \"RESIDENTAL_AREA\": \"Taman  Bukit Ara\", \"DISTRICT\": \"Kuala Pilah\", \"NUMBER_OF_HOUSES\": 72.0}, {\"STATE\": \"Negeri Sembilan\", \"RESIDENTAL_AREA\": \"Taman  Bukit Mutiara\", \"DISTRICT\": \"Kuala Pilah\", \"NUMBER_OF_HOUSES\": 80.0}, {\"STATE\": \"Negeri Sembilan\", \"RESIDENTAL_AREA\": \"Taman Ampang Tinggi\", \"DISTRICT\": \"Kuala Pilah\", \"NUMBER_OF_HOUSES\": 36.0}, {\"STATE\": \"Negeri Sembilan\", \"RESIDENTAL_AREA\": \"Taman Bestari\", \"DISTRICT\": \"Kuala Pilah\", \"NUMBER_OF_HOUSES\": 21.0}, {\"STATE\": \"Negeri Sembilan\", \"RESIDENTAL_AREA\": \"Taman Damai\", \"DISTRICT\": \"Kuala Pilah\", \"NUMBER_OF_HOUSES\": 24.0}, {\"STATE\": \"Negeri Sembilan\", \"RESIDENTAL_AREA\": \"Taman Desa Aman\", \"DISTRICT\": \"Kuala Pilah\", \"NUMBER_OF_HOUSES\": 144.0}, {\"STATE\": \"Negeri Sembilan\", \"RESIDENTAL_AREA\": \"Taman Desa Melang\", \"DISTRICT\": \"Kuala Pilah\", \"NUMBER_OF_HOUSES\": 506.0}, {\"STATE\": \"Negeri Sembilan\", \"RESIDENTAL_AREA\": \"Taman Fatimah\", \"DISTRICT\": \"Kuala Pilah\", \"NUMBER_OF_HOUSES\": 69.0}, {\"STATE\": \"Negeri Sembilan\", \"RESIDENTAL_AREA\": \"Taman Impian Utama\", \"DISTRICT\": \"Kuala Pilah\", \"NUMBER_OF_HOUSES\": 40.0}, {\"STATE\": \"Negeri Sembilan\", \"RESIDENTAL_AREA\": \"Taman Kuala Pilah\", \"DISTRICT\": \"Kuala Pilah\", \"NUMBER_OF_HOUSES\": 55.0}, {\"STATE\": \"Negeri Sembilan\", \"RESIDENTAL_AREA\": \"Taman Maya\", \"DISTRICT\": \"Kuala Pilah\", \"NUMBER_OF_HOUSES\": 28.0}, {\"STATE\": \"Negeri Sembilan\", \"RESIDENTAL_AREA\": \"Taman Melang\", \"DISTRICT\": \"Kuala Pilah\", \"NUMBER_OF_HOUSES\": 45.0}, {\"STATE\": \"Negeri Sembilan\", \"RESIDENTAL_AREA\": \"Taman Melang Utama\", \"DISTRICT\": \"Kuala Pilah\", \"NUMBER_OF_HOUSES\": 17.0}, {\"STATE\": \"Negeri Sembilan\", \"RESIDENTAL_AREA\": \"Taman Murni\", \"DISTRICT\": \"Kuala Pilah\", \"NUMBER_OF_HOUSES\": 13.0}, {\"STATE\": \"Negeri Sembilan\", \"RESIDENTAL_AREA\": \"Taman Nesa\", \"DISTRICT\": \"Kuala Pilah\", \"NUMBER_OF_HOUSES\": 82.0}, {\"STATE\": \"Negeri Sembilan\", \"RESIDENTAL_AREA\": \"Taman Permata\", \"DISTRICT\": \"Kuala Pilah\", \"NUMBER_OF_HOUSES\": 26.0}, {\"STATE\": \"Negeri Sembilan\", \"RESIDENTAL_AREA\": \"Taman Pilah Jaya\", \"DISTRICT\": \"Kuala Pilah\", \"NUMBER_OF_HOUSES\": 73.0}, {\"STATE\": \"Negeri Sembilan\", \"RESIDENTAL_AREA\": \"Taman Selasih\", \"DISTRICT\": \"Kuala Pilah\", \"NUMBER_OF_HOUSES\": 270.0}, {\"STATE\": \"Negeri Sembilan\", \"RESIDENTAL_AREA\": \"Taman Sentosa\", \"DISTRICT\": \"Kuala Pilah\", \"NUMBER_OF_HOUSES\": 97.0}, {\"STATE\": \"Negeri Sembilan\", \"RESIDENTAL_AREA\": \"Taman Setia Kasih\", \"DISTRICT\": \"Kuala Pilah\", \"NUMBER_OF_HOUSES\": 38.0}, {\"STATE\": \"Negeri Sembilan\", \"RESIDENTAL_AREA\": \"Taman Waja\", \"DISTRICT\": \"Kuala Pilah\", \"NUMBER_OF_HOUSES\": 248.0}, {\"STATE\": \"Negeri Sembilan\", \"RESIDENTAL_AREA\": \"Taman Wawasan\", \"DISTRICT\": \"Kuala Pilah\", \"NUMBER_OF_HOUSES\": 44.0}, {\"STATE\": \"Negeri Sembilan\", \"RESIDENTAL_AREA\": \"Taman Wira Jaya\", \"DISTRICT\": \"Kuala Pilah\", \"NUMBER_OF_HOUSES\": 385.0}, {\"STATE\": \"Negeri Sembilan\", \"RESIDENTAL_AREA\": \"Taman Wira Prade\", \"DISTRICT\": \"Kuala Pilah\", \"NUMBER_OF_HOUSES\": 75.0}, {\"STATE\": \"Negeri Sembilan\", \"RESIDENTAL_AREA\": \"Taman Permai\", \"DISTRICT\": \"Kuala Pilah\", \"NUMBER_OF_HOUSES\": 66.0}, {\"STATE\": \"Negeri Sembilan\", \"RESIDENTAL_AREA\": \"Taman Angkasa Jaya\", \"DISTRICT\": \"Kuala Pilah\", \"NUMBER_OF_HOUSES\": 31.0}, {\"STATE\": \"Negeri Sembilan\", \"RESIDENTAL_AREA\": \"Taman Fatimah\", \"DISTRICT\": \"Kuala Pilah\", \"NUMBER_OF_HOUSES\": 283.0}, {\"STATE\": \"Negeri Sembilan\", \"RESIDENTAL_AREA\": \"Taman Cita Jaya\", \"DISTRICT\": \"Kuala Pilah\", \"NUMBER_OF_HOUSES\": 71.0}, {\"STATE\": \"Negeri Sembilan\", \"RESIDENTAL_AREA\": \"Taman Jemapoh Murni\", \"DISTRICT\": \"Kuala Pilah\", \"NUMBER_OF_HOUSES\": 124.0}, {\"STATE\": \"Negeri Sembilan\", \"RESIDENTAL_AREA\": \"Taman Jemapoh Indah\", \"DISTRICT\": \"Kuala Pilah\", \"NUMBER_OF_HOUSES\": 63.0}, {\"STATE\": \"Negeri Sembilan\", \"RESIDENTAL_AREA\": \"Taman Suria\", \"DISTRICT\": \"Kuala Pilah\", \"NUMBER_OF_HOUSES\": 30.0}, {\"STATE\": \"Negeri Sembilan\", \"RESIDENTAL_AREA\": \"Taman Impian Putra\", \"DISTRICT\": \"Kuala Pilah\", \"NUMBER_OF_HOUSES\": 64.0}, {\"STATE\": \"Negeri Sembilan\", \"RESIDENTAL_AREA\": \"Taman Senimas\", \"DISTRICT\": \"Kuala Pilah\", \"NUMBER_OF_HOUSES\": 632.0}, {\"STATE\": \"Negeri Sembilan\", \"RESIDENTAL_AREA\": \"Taman Sema\", \"DISTRICT\": \"Kuala Pilah\", \"NUMBER_OF_HOUSES\": 71.0}, {\"STATE\": \"Negeri Sembilan\", \"RESIDENTAL_AREA\": \"Taman Angkasa Jaya\", \"DISTRICT\": \"Kuala Pilah\", \"NUMBER_OF_HOUSES\": 70.0}, {\"STATE\": \"Negeri Sembilan\", \"RESIDENTAL_AREA\": \"Taman Pilah Senaling\", \"DISTRICT\": \"Kuala Pilah\", \"NUMBER_OF_HOUSES\": 86.0}, {\"STATE\": \"Negeri Sembilan\", \"RESIDENTAL_AREA\": \"Taman Senaling\", \"DISTRICT\": \"Kuala Pilah\", \"NUMBER_OF_HOUSES\": 27.0}, {\"STATE\": \"Negeri Sembilan\", \"RESIDENTAL_AREA\": \"Taman Chin Joo\", \"DISTRICT\": \"Kuala Pilah\", \"NUMBER_OF_HOUSES\": 30.0}, {\"STATE\": \"Negeri Sembilan\", \"RESIDENTAL_AREA\": \"Taman Bukit Indah\", \"DISTRICT\": \"Kuala Pilah\", \"NUMBER_OF_HOUSES\": 49.0}, {\"STATE\": \"Negeri Sembilan\", \"RESIDENTAL_AREA\": \"Taman Bahagia Delima\", \"DISTRICT\": \"Kuala Pilah\", \"NUMBER_OF_HOUSES\": 416.0}, {\"STATE\": \"Negeri Sembilan\", \"RESIDENTAL_AREA\": \"Taman Dioh\", \"DISTRICT\": \"Kuala Pilah\", \"NUMBER_OF_HOUSES\": 44.0}, {\"STATE\": \"Negeri Sembilan\", \"RESIDENTAL_AREA\": \"Taman Bukit Intan\", \"DISTRICT\": \"Kuala Pilah\", \"NUMBER_OF_HOUSES\": 318.0}, {\"STATE\": \"Negeri Sembilan\", \"RESIDENTAL_AREA\": \"Taman Kiam Guan\", \"DISTRICT\": \"Kuala Pilah\", \"NUMBER_OF_HOUSES\": 41.0}, {\"STATE\": \"Negeri Sembilan\", \"RESIDENTAL_AREA\": \"Taman Tebat Kering\", \"DISTRICT\": \"Kuala Pilah\", \"NUMBER_OF_HOUSES\": 219.0}, {\"STATE\": \"Negeri Sembilan\", \"RESIDENTAL_AREA\": \"Taman Cemerlang\", \"DISTRICT\": \"Kuala Pilah\", \"NUMBER_OF_HOUSES\": 33.0}, {\"STATE\": \"Negeri Sembilan\", \"RESIDENTAL_AREA\": \"Taman Pendita\", \"DISTRICT\": \"Kuala Pilah\", \"NUMBER_OF_HOUSES\": 30.0}, {\"STATE\": \"Negeri Sembilan\", \"RESIDENTAL_AREA\": \"Taman Kasih\", \"DISTRICT\": \"Kuala Pilah\", \"NUMBER_OF_HOUSES\": 6.0}, {\"STATE\": \"Negeri Sembilan\", \"RESIDENTAL_AREA\": \"Taman Johol\", \"DISTRICT\": \"Kuala Pilah\", \"NUMBER_OF_HOUSES\": 47.0}, {\"STATE\": \"Negeri Sembilan\", \"RESIDENTAL_AREA\": \"Taman Desa Permai Selaru\", \"DISTRICT\": \"Kuala Pilah\", \"NUMBER_OF_HOUSES\": 122.0}, {\"STATE\": \"Negeri Sembilan\", \"RESIDENTAL_AREA\": \"Taman Air Mawang\", \"DISTRICT\": \"Kuala Pilah\", \"NUMBER_OF_HOUSES\": 202.0}, {\"STATE\": \"Negeri Sembilan\", \"RESIDENTAL_AREA\": \"Taman Rasa Sayang\", \"DISTRICT\": \"Kuala Pilah\", \"NUMBER_OF_HOUSES\": 352.0}, {\"STATE\": \"Negeri Sembilan\", \"RESIDENTAL_AREA\": \"Taman Dangi\", \"DISTRICT\": \"Kuala Pilah\", \"NUMBER_OF_HOUSES\": 95.0}, {\"STATE\": \"Negeri Sembilan\", \"RESIDENTAL_AREA\": \"Taman Muhibbah\", \"DISTRICT\": \"Kuala Pilah\", \"NUMBER_OF_HOUSES\": 2223.0}, {\"STATE\": \"Negeri Sembilan\", \"RESIDENTAL_AREA\": \"Taman Anggerik\", \"DISTRICT\": \"Kuala Pilah\", \"NUMBER_OF_HOUSES\": 61.0}, {\"STATE\": \"Negeri Sembilan\", \"RESIDENTAL_AREA\": \"Taman Sri Gelugor\", \"DISTRICT\": \"Kuala Pilah\", \"NUMBER_OF_HOUSES\": 149.0}, {\"STATE\": \"Negeri Sembilan\", \"RESIDENTAL_AREA\": \"Taman Jemapoh\", \"DISTRICT\": \"Kuala Pilah\", \"NUMBER_OF_HOUSES\": 120.0}, {\"STATE\": \"Negeri Sembilan\", \"RESIDENTAL_AREA\": \"Taman Desa Permai\", \"DISTRICT\": \"Kuala Pilah\", \"NUMBER_OF_HOUSES\": 213.0}, {\"STATE\": \"Negeri Sembilan\", \"RESIDENTAL_AREA\": \"Taman Pelangi\", \"DISTRICT\": \"Kuala Pilah\", \"NUMBER_OF_HOUSES\": 106.0}, {\"STATE\": \"Negeri Sembilan\", \"RESIDENTAL_AREA\": \"Taman Putra\", \"DISTRICT\": \"Kuala Pilah\", \"NUMBER_OF_HOUSES\": 256.0}, {\"STATE\": \"Negeri Sembilan\", \"RESIDENTAL_AREA\": \"Taman Mutiara\", \"DISTRICT\": \"Kuala Pilah\", \"NUMBER_OF_HOUSES\": 72.0}, {\"STATE\": \"Negeri Sembilan\", \"RESIDENTAL_AREA\": \"Taman Harmoni\", \"DISTRICT\": \"Kuala Pilah\", \"NUMBER_OF_HOUSES\": 125.0}, {\"STATE\": \"Negeri Sembilan\", \"RESIDENTAL_AREA\": \"Taman Melati Indah\", \"DISTRICT\": \"Kuala Pilah\", \"NUMBER_OF_HOUSES\": 210.0}, {\"STATE\": \"Negeri Sembilan\", \"RESIDENTAL_AREA\": \"Taman Ros Setia\", \"DISTRICT\": \"Kuala Pilah\", \"NUMBER_OF_HOUSES\": 22.0}, {\"STATE\": \"Negeri Sembilan\", \"RESIDENTAL_AREA\": \"Taman Sri Juasseh\", \"DISTRICT\": \"Kuala Pilah\", \"NUMBER_OF_HOUSES\": 51.0}, {\"STATE\": \"Negeri Sembilan\", \"RESIDENTAL_AREA\": \"Taman Angsana\", \"DISTRICT\": \"Kuala Pilah\", \"NUMBER_OF_HOUSES\": 27.0}, {\"STATE\": \"Negeri Sembilan\", \"RESIDENTAL_AREA\": \"Taman Sri Alam\", \"DISTRICT\": \"Kuala Pilah\", \"NUMBER_OF_HOUSES\": 74.0}, {\"STATE\": \"Negeri Sembilan\", \"RESIDENTAL_AREA\": \"Taman Mekar\", \"DISTRICT\": \"Kuala Pilah\", \"NUMBER_OF_HOUSES\": 13.0}, {\"STATE\": \"Negeri Sembilan\", \"RESIDENTAL_AREA\": \"Taman Juasseh Sentosa\", \"DISTRICT\": \"Kuala Pilah\", \"NUMBER_OF_HOUSES\": 352.0}, {\"STATE\": \"Negeri Sembilan\", \"RESIDENTAL_AREA\": \"Taman Bayu\", \"DISTRICT\": \"Kuala Pilah\", \"NUMBER_OF_HOUSES\": 22.0}, {\"STATE\": \"Negeri Sembilan\", \"RESIDENTAL_AREA\": \"Taman Sri Terachi\", \"DISTRICT\": \"Kuala Pilah\", \"NUMBER_OF_HOUSES\": 32.0}, {\"STATE\": \"Negeri Sembilan\", \"RESIDENTAL_AREA\": \"Taman Sri Ulu Bendul\", \"DISTRICT\": \"Kuala Pilah\", \"NUMBER_OF_HOUSES\": 24.0}, {\"STATE\": \"Negeri Sembilan\", \"RESIDENTAL_AREA\": \"Taman Jelebu 1\", \"DISTRICT\": \"Jelebu\", \"NUMBER_OF_HOUSES\": 23.0}, {\"STATE\": \"Negeri Sembilan\", \"RESIDENTAL_AREA\": \"Taman Jelebu 2\", \"DISTRICT\": \"Jelebu\", \"NUMBER_OF_HOUSES\": 20.0}, {\"STATE\": \"Negeri Sembilan\", \"RESIDENTAL_AREA\": \"Taman KSM\", \"DISTRICT\": \"Jelebu\", \"NUMBER_OF_HOUSES\": 150.0}, {\"STATE\": \"Negeri Sembilan\", \"RESIDENTAL_AREA\": \"Taman Mengkan\", \"DISTRICT\": \"Jelebu\", \"NUMBER_OF_HOUSES\": 31.0}, {\"STATE\": \"Negeri Sembilan\", \"RESIDENTAL_AREA\": \"Taman Bandar Tinggi\", \"DISTRICT\": \"Jelebu\", \"NUMBER_OF_HOUSES\": 85.0}, {\"STATE\": \"Negeri Sembilan\", \"RESIDENTAL_AREA\": \"Taman Klawang Jaya\", \"DISTRICT\": \"Jelebu\", \"NUMBER_OF_HOUSES\": 26.0}, {\"STATE\": \"Negeri Sembilan\", \"RESIDENTAL_AREA\": \"Taman Wangsa Indah\", \"DISTRICT\": \"Jelebu\", \"NUMBER_OF_HOUSES\": 73.0}, {\"STATE\": \"Negeri Sembilan\", \"RESIDENTAL_AREA\": \"Taman Dato Undang Abdullah\", \"DISTRICT\": \"Jelebu\", \"NUMBER_OF_HOUSES\": 126.0}, {\"STATE\": \"Negeri Sembilan\", \"RESIDENTAL_AREA\": \"Taman Dato Moyang Salleh\", \"DISTRICT\": \"Jelebu\", \"NUMBER_OF_HOUSES\": 29.0}, {\"STATE\": \"Negeri Sembilan\", \"RESIDENTAL_AREA\": \"Taman Dato Undang Abu Bakar\", \"DISTRICT\": \"Jelebu\", \"NUMBER_OF_HOUSES\": 66.0}, {\"STATE\": \"Negeri Sembilan\", \"RESIDENTAL_AREA\": \"Rumah Murah Larong\", \"DISTRICT\": \"Jelebu\", \"NUMBER_OF_HOUSES\": 50.0}, {\"STATE\": \"Negeri Sembilan\", \"RESIDENTAL_AREA\": \"Taman Hadapan Hospital\", \"DISTRICT\": \"Jelebu\", \"NUMBER_OF_HOUSES\": 14.0}, {\"STATE\": \"Negeri Sembilan\", \"RESIDENTAL_AREA\": \"Taman Sinar Setia\", \"DISTRICT\": \"Jelebu\", \"NUMBER_OF_HOUSES\": 1.0}, {\"STATE\": \"Negeri Sembilan\", \"RESIDENTAL_AREA\": \"Taman Sri Cempedak\", \"DISTRICT\": \"Jelebu\", \"NUMBER_OF_HOUSES\": 31.0}, {\"STATE\": \"Negeri Sembilan\", \"RESIDENTAL_AREA\": \"Taman Irama\", \"DISTRICT\": \"Jelebu\", \"NUMBER_OF_HOUSES\": 160.0}, {\"STATE\": \"Negeri Sembilan\", \"RESIDENTAL_AREA\": \"Taman Cengal\", \"DISTRICT\": \"Jelebu\", \"NUMBER_OF_HOUSES\": 51.0}, {\"STATE\": \"Negeri Sembilan\", \"RESIDENTAL_AREA\": \"Rumah Murah Petaling\", \"DISTRICT\": \"Jelebu\", \"NUMBER_OF_HOUSES\": 188.0}, {\"STATE\": \"Negeri Sembilan\", \"RESIDENTAL_AREA\": \"Taman Bukit Petaling\", \"DISTRICT\": \"Jelebu\", \"NUMBER_OF_HOUSES\": 9.0}, {\"STATE\": \"Negeri Sembilan\", \"RESIDENTAL_AREA\": \"Taman Petaling\", \"DISTRICT\": \"Jelebu\", \"NUMBER_OF_HOUSES\": 10.0}, {\"STATE\": \"Negeri Sembilan\", \"RESIDENTAL_AREA\": \"Taman Berlian\", \"DISTRICT\": \"Jelebu\", \"NUMBER_OF_HOUSES\": 24.0}, {\"STATE\": \"Negeri Sembilan\", \"RESIDENTAL_AREA\": \"Taman Angsana\", \"DISTRICT\": \"Jelebu\", \"NUMBER_OF_HOUSES\": 17.0}, {\"STATE\": \"Negeri Sembilan\", \"RESIDENTAL_AREA\": \"Taman Jati\", \"DISTRICT\": \"Jelebu\", \"NUMBER_OF_HOUSES\": 50.0}, {\"STATE\": \"Negeri Sembilan\", \"RESIDENTAL_AREA\": \"Taman Teja\", \"DISTRICT\": \"Jelebu\", \"NUMBER_OF_HOUSES\": 28.0}, {\"STATE\": \"Negeri Sembilan\", \"RESIDENTAL_AREA\": \"Taman Sri Kenaboi\", \"DISTRICT\": \"Jelebu\", \"NUMBER_OF_HOUSES\": 166.0}, {\"STATE\": \"Negeri Sembilan\", \"RESIDENTAL_AREA\": \"Taman Pekan Baru\", \"DISTRICT\": \"Jelebu\", \"NUMBER_OF_HOUSES\": 31.0}, {\"STATE\": \"Negeri Sembilan\", \"RESIDENTAL_AREA\": \"Taman Titi\", \"DISTRICT\": \"Jelebu\", \"NUMBER_OF_HOUSES\": 97.0}, {\"STATE\": \"Negeri Sembilan\", \"RESIDENTAL_AREA\": \"Taman Sri Jelebu\", \"DISTRICT\": \"Jelebu\", \"NUMBER_OF_HOUSES\": 56.0}, {\"STATE\": \"Negeri Sembilan\", \"RESIDENTAL_AREA\": \"Taman Nagamas\", \"DISTRICT\": \"Jelebu\", \"NUMBER_OF_HOUSES\": 174.0}, {\"STATE\": \"Negeri Sembilan\", \"RESIDENTAL_AREA\": \"Taman Kim San\", \"DISTRICT\": \"Jelebu\", \"NUMBER_OF_HOUSES\": 12.0}, {\"STATE\": \"Negeri Sembilan\", \"RESIDENTAL_AREA\": \"Taman Mawar \", \"DISTRICT\": \"Jelebu\", \"NUMBER_OF_HOUSES\": 250.0}, {\"STATE\": \"Negeri Sembilan\", \"RESIDENTAL_AREA\": \"Taman Mok Sam\", \"DISTRICT\": \"Jelebu\", \"NUMBER_OF_HOUSES\": 34.0}, {\"STATE\": \"Negeri Sembilan\", \"RESIDENTAL_AREA\": \"Desa Permai Titi\", \"DISTRICT\": \"Jelebu\", \"NUMBER_OF_HOUSES\": 142.0}, {\"STATE\": \"Negeri Sembilan\", \"RESIDENTAL_AREA\": \"Rumah Murah Hosapa\", \"DISTRICT\": \"Jelebu\", \"NUMBER_OF_HOUSES\": 50.0}, {\"STATE\": \"Negeri Sembilan\", \"RESIDENTAL_AREA\": \"Rumah Murah Mahfong\", \"DISTRICT\": \"Jelebu\", \"NUMBER_OF_HOUSES\": 50.0}, {\"STATE\": \"Negeri Sembilan\", \"RESIDENTAL_AREA\": \"Taman Bukit Kempas\", \"DISTRICT\": \"Jelebu\", \"NUMBER_OF_HOUSES\": 444.0}, {\"STATE\": \"Negeri Sembilan\", \"RESIDENTAL_AREA\": \"Taman Pertang\", \"DISTRICT\": \"Jelebu\", \"NUMBER_OF_HOUSES\": 31.0}, {\"STATE\": \"Negeri Sembilan\", \"RESIDENTAL_AREA\": \"Taman Bukit Pertang\", \"DISTRICT\": \"Jelebu\", \"NUMBER_OF_HOUSES\": 93.0}, {\"STATE\": \"Negeri Sembilan\", \"RESIDENTAL_AREA\": \"RRM Pertang\", \"DISTRICT\": \"Jelebu\", \"NUMBER_OF_HOUSES\": 50.0}, {\"STATE\": \"Negeri Sembilan\", \"RESIDENTAL_AREA\": \"Taman Teratai\", \"DISTRICT\": \"Jelebu\", \"NUMBER_OF_HOUSES\": 30.0}, {\"STATE\": \"Negeri Sembilan\", \"RESIDENTAL_AREA\": \"Taman Sri Pertang\", \"DISTRICT\": \"Jelebu\", \"NUMBER_OF_HOUSES\": 117.0}, {\"STATE\": \"Negeri Sembilan\", \"RESIDENTAL_AREA\": \"Taman Simpang Jaya\", \"DISTRICT\": \"Jelebu\", \"NUMBER_OF_HOUSES\": 50.0}, {\"STATE\": \"Negeri Sembilan\", \"RESIDENTAL_AREA\": \"Taman Sri Desa\", \"DISTRICT\": \"Jelebu\", \"NUMBER_OF_HOUSES\": 187.0}, {\"STATE\": \"Negeri Sembilan\", \"RESIDENTAL_AREA\": \"Taman Sri Perdana\", \"DISTRICT\": \"Jelebu\", \"NUMBER_OF_HOUSES\": 73.0}, {\"STATE\": \"Negeri Sembilan\", \"RESIDENTAL_AREA\": \"RRM Simpang Pertang 1\", \"DISTRICT\": \"Jelebu\", \"NUMBER_OF_HOUSES\": 50.0}, {\"STATE\": \"Negeri Sembilan\", \"RESIDENTAL_AREA\": \"RRM Simpang Pertang 2\", \"DISTRICT\": \"Jelebu\", \"NUMBER_OF_HOUSES\": 50.0}, {\"STATE\": \"Negeri Sembilan\", \"RESIDENTAL_AREA\": \"Taman Gunung Emas\", \"DISTRICT\": \"Jelebu\", \"NUMBER_OF_HOUSES\": 17.0}, {\"STATE\": \"Negeri Sembilan\", \"RESIDENTAL_AREA\": \"Taman Durian Tipus\", \"DISTRICT\": \"Jelebu\", \"NUMBER_OF_HOUSES\": 16.0}, {\"STATE\": \"Negeri Sembilan\", \"RESIDENTAL_AREA\": \"RRM Simpang Durian 1\", \"DISTRICT\": \"Jelebu\", \"NUMBER_OF_HOUSES\": 50.0}, {\"STATE\": \"Negeri Sembilan\", \"RESIDENTAL_AREA\": \"RRM Simpang Durian 2\", \"DISTRICT\": \"Jelebu\", \"NUMBER_OF_HOUSES\": 100.0}, {\"STATE\": \"Negeri Sembilan\", \"RESIDENTAL_AREA\": \"Desa Permai Simpang Durian\", \"DISTRICT\": \"Jelebu\", \"NUMBER_OF_HOUSES\": 126.0}, {\"STATE\": \"Negeri Sembilan\", \"RESIDENTAL_AREA\": \"Taman Bunga Raya\", \"DISTRICT\": \"Jelebu\", \"NUMBER_OF_HOUSES\": 62.0}, {\"STATE\": \"Negeri Sembilan\", \"RESIDENTAL_AREA\": \"Taman Seroja\", \"DISTRICT\": \"Jelebu\", \"NUMBER_OF_HOUSES\": 46.0}, {\"STATE\": \"Negeri Sembilan\", \"RESIDENTAL_AREA\": \"TAMAN KEBUN KELAPA\", \"DISTRICT\": \"Rembau\", \"NUMBER_OF_HOUSES\": 58.0}, {\"STATE\": \"Negeri Sembilan\", \"RESIDENTAL_AREA\": \"TAMAN REMBAU PERDANA\", \"DISTRICT\": \"Rembau\", \"NUMBER_OF_HOUSES\": 52.0}, {\"STATE\": \"Negeri Sembilan\", \"RESIDENTAL_AREA\": \"TAMAN REMBAU JAYA\", \"DISTRICT\": \"Rembau\", \"NUMBER_OF_HOUSES\": 157.0}, {\"STATE\": \"Negeri Sembilan\", \"RESIDENTAL_AREA\": \"TAMAN REMBAU PERMATA\", \"DISTRICT\": \"Rembau\", \"NUMBER_OF_HOUSES\": 22.0}, {\"STATE\": \"Negeri Sembilan\", \"RESIDENTAL_AREA\": \"TAMAN IMPIAN REMBAU \", \"DISTRICT\": \"Rembau\", \"NUMBER_OF_HOUSES\": 17.0}, {\"STATE\": \"Negeri Sembilan\", \"RESIDENTAL_AREA\": \"TAMAN REMBAU BAYU INDAH\", \"DISTRICT\": \"Rembau\", \"NUMBER_OF_HOUSES\": 487.0}, {\"STATE\": \"Negeri Sembilan\", \"RESIDENTAL_AREA\": \"TAMAN SRI REMBAU ( BANGLO )\", \"DISTRICT\": \"Rembau\", \"NUMBER_OF_HOUSES\": 400.0}, {\"STATE\": \"Negeri Sembilan\", \"RESIDENTAL_AREA\": \"TAMAN SRI REMBAU FASA 1\", \"DISTRICT\": \"Rembau\", \"NUMBER_OF_HOUSES\": 197.0}, {\"STATE\": \"Negeri Sembilan\", \"RESIDENTAL_AREA\": \"TAMAN SRI REMBAU FASA 2\", \"DISTRICT\": \"Rembau\", \"NUMBER_OF_HOUSES\": 362.0}, {\"STATE\": \"Negeri Sembilan\", \"RESIDENTAL_AREA\": \"TAMAN SRI REMBAU FASA 3\", \"DISTRICT\": \"Rembau\", \"NUMBER_OF_HOUSES\": 170.0}, {\"STATE\": \"Negeri Sembilan\", \"RESIDENTAL_AREA\": \"TAMAN REMBAU UTAMA\", \"DISTRICT\": \"Rembau\", \"NUMBER_OF_HOUSES\": 195.0}, {\"STATE\": \"Negeri Sembilan\", \"RESIDENTAL_AREA\": \"TAMAN REMBAU UTAMA 2\", \"DISTRICT\": \"Rembau\", \"NUMBER_OF_HOUSES\": 168.0}, {\"STATE\": \"Negeri Sembilan\", \"RESIDENTAL_AREA\": \"TAMAN DESA PERMAI MAMPONG\", \"DISTRICT\": \"Rembau\", \"NUMBER_OF_HOUSES\": 198.0}, {\"STATE\": \"Negeri Sembilan\", \"RESIDENTAL_AREA\": \"TAMAN KOPERASI (KSNS )\", \"DISTRICT\": \"Rembau\", \"NUMBER_OF_HOUSES\": 100.0}, {\"STATE\": \"Negeri Sembilan\", \"RESIDENTAL_AREA\": \"TAMAN DESA CHEMBONG\", \"DISTRICT\": \"Rembau\", \"NUMBER_OF_HOUSES\": 344.0}, {\"STATE\": \"Negeri Sembilan\", \"RESIDENTAL_AREA\": \"TAMAN CHEMBONG UTAMA\", \"DISTRICT\": \"Rembau\", \"NUMBER_OF_HOUSES\": 187.0}, {\"STATE\": \"Negeri Sembilan\", \"RESIDENTAL_AREA\": \"TAMAN DATO\\u2019 LELA MAHARAJA\", \"DISTRICT\": \"Rembau\", \"NUMBER_OF_HOUSES\": 114.0}, {\"STATE\": \"Negeri Sembilan\", \"RESIDENTAL_AREA\": \"TAMAN DATO \\u2018 SEDIA RAJA\", \"DISTRICT\": \"Rembau\", \"NUMBER_OF_HOUSES\": 187.0}, {\"STATE\": \"Negeri Sembilan\", \"RESIDENTAL_AREA\": \"TAMAN CHEMBONG JAYA\", \"DISTRICT\": \"Rembau\", \"NUMBER_OF_HOUSES\": 309.0}, {\"STATE\": \"Negeri Sembilan\", \"RESIDENTAL_AREA\": \"TAMAN SERI BIDARA\", \"DISTRICT\": \"Rembau\", \"NUMBER_OF_HOUSES\": 30.0}, {\"STATE\": \"Negeri Sembilan\", \"RESIDENTAL_AREA\": \"TAMAN KOTA INDAH\", \"DISTRICT\": \"Rembau\", \"NUMBER_OF_HOUSES\": 77.0}, {\"STATE\": \"Negeri Sembilan\", \"RESIDENTAL_AREA\": \"TAMAN GADONG\", \"DISTRICT\": \"Rembau\", \"NUMBER_OF_HOUSES\": 49.0}, {\"STATE\": \"Negeri Sembilan\", \"RESIDENTAL_AREA\": \"TAMAN SRI KOTA\", \"DISTRICT\": \"Rembau\", \"NUMBER_OF_HOUSES\": 103.0}, {\"STATE\": \"Negeri Sembilan\", \"RESIDENTAL_AREA\": \"TAMAN SALAM NADIAH\", \"DISTRICT\": \"Rembau\", \"NUMBER_OF_HOUSES\": 151.0}, {\"STATE\": \"Negeri Sembilan\", \"RESIDENTAL_AREA\": \"TAMAN AZIZAH\", \"DISTRICT\": \"Rembau\", \"NUMBER_OF_HOUSES\": 3.0}, {\"STATE\": \"Negeri Sembilan\", \"RESIDENTAL_AREA\": \"TAMAN DESA PERMAI PEDAS\", \"DISTRICT\": \"Rembau\", \"NUMBER_OF_HOUSES\": 196.0}, {\"STATE\": \"Negeri Sembilan\", \"RESIDENTAL_AREA\": \"TAMAN PEDAS INDAH\", \"DISTRICT\": \"Rembau\", \"NUMBER_OF_HOUSES\": 426.0}, {\"STATE\": \"Negeri Sembilan\", \"RESIDENTAL_AREA\": \"TAMAN PEDAS PERDANA\", \"DISTRICT\": \"Rembau\", \"NUMBER_OF_HOUSES\": 512.0}, {\"STATE\": \"Negeri Sembilan\", \"RESIDENTAL_AREA\": \"TAMAN PINGGIRAN PEDAS\", \"DISTRICT\": \"Rembau\", \"NUMBER_OF_HOUSES\": 419.0}, {\"STATE\": \"Negeri Sembilan\", \"RESIDENTAL_AREA\": \"TAMAN DESA PERMAI KUNDUR\", \"DISTRICT\": \"Rembau\", \"NUMBER_OF_HOUSES\": 187.0}, {\"STATE\": \"Negeri Sembilan\", \"RESIDENTAL_AREA\": \"TAMAN AKASIA KUNDUR\", \"DISTRICT\": \"Rembau\", \"NUMBER_OF_HOUSES\": 50.0}, {\"STATE\": \"Negeri Sembilan\", \"RESIDENTAL_AREA\": \"TAMAN IXORA KUNDUR\", \"DISTRICT\": \"Rembau\", \"NUMBER_OF_HOUSES\": 32.0}, {\"STATE\": \"Kelantan\", \"RESIDENTAL_AREA\": \"Taman Mesra\", \"DISTRICT\": \"GUA MUSANG\", \"NUMBER_OF_HOUSES\": 193.0}, {\"STATE\": \"Kelantan\", \"RESIDENTAL_AREA\": \"Taman Wangsa Mewangi\", \"DISTRICT\": \"GUA MUSANG\", \"NUMBER_OF_HOUSES\": 231.0}, {\"STATE\": \"Kelantan\", \"RESIDENTAL_AREA\": \"Bandar Baru\", \"DISTRICT\": \"GUA MUSANG\", \"NUMBER_OF_HOUSES\": 65.0}, {\"STATE\": \"Kelantan\", \"RESIDENTAL_AREA\": \"Wisma Sri Galas\", \"DISTRICT\": \"GUA MUSANG\", \"NUMBER_OF_HOUSES\": 89.0}, {\"STATE\": \"Kelantan\", \"RESIDENTAL_AREA\": \"Taman Titiwangsa\", \"DISTRICT\": \"GUA MUSANG\", \"NUMBER_OF_HOUSES\": 252.0}, {\"STATE\": \"Kelantan\", \"RESIDENTAL_AREA\": \"Taman Indah Jaya\", \"DISTRICT\": \"GUA MUSANG\", \"NUMBER_OF_HOUSES\": 26.0}, {\"STATE\": \"Kelantan\", \"RESIDENTAL_AREA\": \"Taman Kesedar Putra\", \"DISTRICT\": \"GUA MUSANG\", \"NUMBER_OF_HOUSES\": 147.0}, {\"STATE\": \"Kelantan\", \"RESIDENTAL_AREA\": \"Taman Kesedar Putra 2\", \"DISTRICT\": \"GUA MUSANG\", \"NUMBER_OF_HOUSES\": 280.0}, {\"STATE\": \"Kelantan\", \"RESIDENTAL_AREA\": \"Taman Kesedar Jaya\", \"DISTRICT\": \"GUA MUSANG\", \"NUMBER_OF_HOUSES\": 333.0}, {\"STATE\": \"Kelantan\", \"RESIDENTAL_AREA\": \"Bandar Lama\", \"DISTRICT\": \"GUA MUSANG\", \"NUMBER_OF_HOUSES\": 96.0}, {\"STATE\": \"Kelantan\", \"RESIDENTAL_AREA\": \"Kampung Baru\", \"DISTRICT\": \"GUA MUSANG\", \"NUMBER_OF_HOUSES\": 229.0}, {\"STATE\": \"Kelantan\", \"RESIDENTAL_AREA\": \"Kawasan Industri\", \"DISTRICT\": \"GUA MUSANG\", \"NUMBER_OF_HOUSES\": 74.0}, {\"STATE\": \"Kelantan\", \"RESIDENTAL_AREA\": \"Jalan Gua Musang-Kuala Lipis\", \"DISTRICT\": \"GUA MUSANG\", \"NUMBER_OF_HOUSES\": 36.0}, {\"STATE\": \"Kelantan\", \"RESIDENTAL_AREA\": \"Taman Wawasan\", \"DISTRICT\": \"GUA MUSANG\", \"NUMBER_OF_HOUSES\": 50.0}, {\"STATE\": \"Kelantan\", \"RESIDENTAL_AREA\": \"Taman Damar\", \"DISTRICT\": \"GUA MUSANG\", \"NUMBER_OF_HOUSES\": 224.0}, {\"STATE\": \"Kelantan\", \"RESIDENTAL_AREA\": \"Taman Tropika Height\", \"DISTRICT\": \"GUA MUSANG\", \"NUMBER_OF_HOUSES\": 42.0}, {\"STATE\": \"Kelantan\", \"RESIDENTAL_AREA\": \"Taman Gua Musang\", \"DISTRICT\": \"GUA MUSANG\", \"NUMBER_OF_HOUSES\": 67.0}, {\"STATE\": \"Kelantan\", \"RESIDENTAL_AREA\": \"Taman Rahimah\", \"DISTRICT\": \"GUA MUSANG\", \"NUMBER_OF_HOUSES\": 11.0}, {\"STATE\": \"Kelantan\", \"RESIDENTAL_AREA\": \"Bandar Utama fasa 1\", \"DISTRICT\": \"GUA MUSANG\", \"NUMBER_OF_HOUSES\": 518.0}, {\"STATE\": \"Kelantan\", \"RESIDENTAL_AREA\": \"Bandar Utama fasa 2\", \"DISTRICT\": \"GUA MUSANG\", \"NUMBER_OF_HOUSES\": 745.0}, {\"STATE\": \"Kelantan\", \"RESIDENTAL_AREA\": \"Taman Wangi\", \"DISTRICT\": \"GUA MUSANG\", \"NUMBER_OF_HOUSES\": 331.0}, {\"STATE\": \"Kelantan\", \"RESIDENTAL_AREA\": \"Taman Tropika\", \"DISTRICT\": \"GUA MUSANG\", \"NUMBER_OF_HOUSES\": 487.0}, {\"STATE\": \"Kelantan\", \"RESIDENTAL_AREA\": \"Kompleks Awam\", \"DISTRICT\": \"GUA MUSANG\", \"NUMBER_OF_HOUSES\": 22.0}, {\"STATE\": \"Kelantan\", \"RESIDENTAL_AREA\": \"JPN Kg. Kerinting\", \"DISTRICT\": \"GUA MUSANG\", \"NUMBER_OF_HOUSES\": 108.0}, {\"STATE\": \"Kelantan\", \"RESIDENTAL_AREA\": \"JPN Industri\", \"DISTRICT\": \"GUA MUSANG\", \"NUMBER_OF_HOUSES\": 160.0}, {\"STATE\": \"Kelantan\", \"RESIDENTAL_AREA\": \"JPN Kluster\", \"DISTRICT\": \"GUA MUSANG\", \"NUMBER_OF_HOUSES\": 20.0}, {\"STATE\": \"Kelantan\", \"RESIDENTAL_AREA\": \"Taman Wira Perdana\", \"DISTRICT\": \"GUA MUSANG\", \"NUMBER_OF_HOUSES\": 226.0}, {\"STATE\": \"Kelantan\", \"RESIDENTAL_AREA\": \"Taman Impian\", \"DISTRICT\": \"GUA MUSANG\", \"NUMBER_OF_HOUSES\": 14.0}, {\"STATE\": \"Kelantan\", \"RESIDENTAL_AREA\": \"PPR Bandar Baru\", \"DISTRICT\": \"GUA MUSANG\", \"NUMBER_OF_HOUSES\": 1014.0}, {\"STATE\": \"Kelantan\", \"RESIDENTAL_AREA\": \"TAMAN KOBENA\", \"DISTRICT\": \"PASIR PUTEH\", \"NUMBER_OF_HOUSES\": 68.0}, {\"STATE\": \"Kelantan\", \"RESIDENTAL_AREA\": \"TAMAN BLUE-T\", \"DISTRICT\": \"PASIR PUTEH\", \"NUMBER_OF_HOUSES\": 78.0}, {\"STATE\": \"Kelantan\", \"RESIDENTAL_AREA\": \"TAMAN SRI PURNAMA\", \"DISTRICT\": \"PASIR PUTEH\", \"NUMBER_OF_HOUSES\": 64.0}, {\"STATE\": \"Kelantan\", \"RESIDENTAL_AREA\": \"TAMAN TERATAI SBJ\", \"DISTRICT\": \"PASIR PUTEH\", \"NUMBER_OF_HOUSES\": 22.0}, {\"STATE\": \"Kelantan\", \"RESIDENTAL_AREA\": \"PERUMAHAN NELAYAN TOK BALI\", \"DISTRICT\": \"PASIR PUTEH\", \"NUMBER_OF_HOUSES\": 300.0}, {\"STATE\": \"Kelantan\", \"RESIDENTAL_AREA\": \"TAMAN EXCELL\", \"DISTRICT\": \"PASIR PUTEH\", \"NUMBER_OF_HOUSES\": 27.0}, {\"STATE\": \"Kelantan\", \"RESIDENTAL_AREA\": \"TAMAN SRI GEDOMBAK\", \"DISTRICT\": \"PASIR PUTEH\", \"NUMBER_OF_HOUSES\": 190.0}, {\"STATE\": \"Kelantan\", \"RESIDENTAL_AREA\": \"TAMAN SRI AMAN\", \"DISTRICT\": \"PASIR PUTEH\", \"NUMBER_OF_HOUSES\": 117.0}, {\"STATE\": \"Kelantan\", \"RESIDENTAL_AREA\": \"TAMAN PUTEH\", \"DISTRICT\": \"PASIR PUTEH\", \"NUMBER_OF_HOUSES\": 11.0}, {\"STATE\": \"Kelantan\", \"RESIDENTAL_AREA\": \"TAMAN SRI DERASA\", \"DISTRICT\": \"PASIR PUTEH\", \"NUMBER_OF_HOUSES\": 29.0}, {\"STATE\": \"Kelantan\", \"RESIDENTAL_AREA\": \"TAMAN PASIR PERMAI\", \"DISTRICT\": \"PASIR PUTEH\", \"NUMBER_OF_HOUSES\": 54.0}, {\"STATE\": \"Kelantan\", \"RESIDENTAL_AREA\": \"TAMAN PERMATA\", \"DISTRICT\": \"PASIR PUTEH\", \"NUMBER_OF_HOUSES\": 106.0}, {\"STATE\": \"Kelantan\", \"RESIDENTAL_AREA\": \"TAMAN SRI BUKIT BIDANG (SRI SENTOSA)\", \"DISTRICT\": \"PASIR PUTEH\", \"NUMBER_OF_HOUSES\": 176.0}, {\"STATE\": \"Kelantan\", \"RESIDENTAL_AREA\": \"TAMAN MERBAU UTAMA\", \"DISTRICT\": \"PASIR PUTEH\", \"NUMBER_OF_HOUSES\": 900.0}, {\"STATE\": \"Kelantan\", \"RESIDENTAL_AREA\": \"RUMAH MURAH JLN PINTAS\", \"DISTRICT\": \"KUALA KRAI\", \"NUMBER_OF_HOUSES\": 49.0}, {\"STATE\": \"Kelantan\", \"RESIDENTAL_AREA\": \"RUMAH MURAH SG DURIAN\", \"DISTRICT\": \"KUALA KRAI\", \"NUMBER_OF_HOUSES\": 76.0}, {\"STATE\": \"Kelantan\", \"RESIDENTAL_AREA\": \"TAMAN ABU BAKAR AS-SIDDIQ\", \"DISTRICT\": \"KUALA KRAI\", \"NUMBER_OF_HOUSES\": 50.0}, {\"STATE\": \"Kelantan\", \"RESIDENTAL_AREA\": \"TAMAN BATU LADA\", \"DISTRICT\": \"KUALA KRAI\", \"NUMBER_OF_HOUSES\": 52.0}, {\"STATE\": \"Kelantan\", \"RESIDENTAL_AREA\": \"TAMAN BERKAT JAYA\", \"DISTRICT\": \"KUALA KRAI\", \"NUMBER_OF_HOUSES\": 84.0}, {\"STATE\": \"Kelantan\", \"RESIDENTAL_AREA\": \"TAMAN BUKIT SIREH\", \"DISTRICT\": \"KUALA KRAI\", \"NUMBER_OF_HOUSES\": 272.0}, {\"STATE\": \"Kelantan\", \"RESIDENTAL_AREA\": \"TAMAN CETUSAN RAHMAT\", \"DISTRICT\": \"KUALA KRAI\", \"NUMBER_OF_HOUSES\": 81.0}, {\"STATE\": \"Kelantan\", \"RESIDENTAL_AREA\": \"TAMAN GUCHIL JAYA\", \"DISTRICT\": \"KUALA KRAI\", \"NUMBER_OF_HOUSES\": 388.0}, {\"STATE\": \"Kelantan\", \"RESIDENTAL_AREA\": \"TAMAN IDAMAN\", \"DISTRICT\": \"KUALA KRAI\", \"NUMBER_OF_HOUSES\": 33.0}, {\"STATE\": \"Kelantan\", \"RESIDENTAL_AREA\": \"TAMAN KIM BEE\", \"DISTRICT\": \"KUALA KRAI\", \"NUMBER_OF_HOUSES\": 24.0}, {\"STATE\": \"Kelantan\", \"RESIDENTAL_AREA\": \"TAMAN KOPERASI\", \"DISTRICT\": \"KUALA KRAI\", \"NUMBER_OF_HOUSES\": 25.0}, {\"STATE\": \"Kelantan\", \"RESIDENTAL_AREA\": \"TAMAN KSM\", \"DISTRICT\": \"KUALA KRAI\", \"NUMBER_OF_HOUSES\": 135.0}, {\"STATE\": \"Kelantan\", \"RESIDENTAL_AREA\": \"TAMAN KUALA KRAI\", \"DISTRICT\": \"KUALA KRAI\", \"NUMBER_OF_HOUSES\": 273.0}, {\"STATE\": \"Kelantan\", \"RESIDENTAL_AREA\": \"TAMAN MELATI\", \"DISTRICT\": \"KUALA KRAI\", \"NUMBER_OF_HOUSES\": 50.0}, {\"STATE\": \"Kelantan\", \"RESIDENTAL_AREA\": \"TAMAN DESA MELATI\", \"DISTRICT\": \"KUALA KRAI\", \"NUMBER_OF_HOUSES\": 65.0}, {\"STATE\": \"Kelantan\", \"RESIDENTAL_AREA\": \"TAMAN ORKID\", \"DISTRICT\": \"KUALA KRAI\", \"NUMBER_OF_HOUSES\": 68.0}, {\"STATE\": \"Kelantan\", \"RESIDENTAL_AREA\": \"TAMAN SPPK\", \"DISTRICT\": \"KUALA KRAI\", \"NUMBER_OF_HOUSES\": 16.0}, {\"STATE\": \"Kelantan\", \"RESIDENTAL_AREA\": \"TAMAN SRI BAHAGIA\", \"DISTRICT\": \"KUALA KRAI\", \"NUMBER_OF_HOUSES\": 95.0}, {\"STATE\": \"Kelantan\", \"RESIDENTAL_AREA\": \"TAMAN SRI DAMAI\", \"DISTRICT\": \"KUALA KRAI\", \"NUMBER_OF_HOUSES\": 49.0}, {\"STATE\": \"Kelantan\", \"RESIDENTAL_AREA\": \"TAMAN SRI GUCHIL\", \"DISTRICT\": \"KUALA KRAI\", \"NUMBER_OF_HOUSES\": 95.0}, {\"STATE\": \"Kelantan\", \"RESIDENTAL_AREA\": \"TAMAN SRI NAL\", \"DISTRICT\": \"KUALA KRAI\", \"NUMBER_OF_HOUSES\": 195.0}, {\"STATE\": \"Kelantan\", \"RESIDENTAL_AREA\": \"TAMAN SRI RAHMAT\", \"DISTRICT\": \"KUALA KRAI\", \"NUMBER_OF_HOUSES\": 137.0}, {\"STATE\": \"Kelantan\", \"RESIDENTAL_AREA\": \"TAMAN SRI WALI\", \"DISTRICT\": \"KUALA KRAI\", \"NUMBER_OF_HOUSES\": 170.0}, {\"STATE\": \"Kelantan\", \"RESIDENTAL_AREA\": \"TAMAN TEKNIK\", \"DISTRICT\": \"KUALA KRAI\", \"NUMBER_OF_HOUSES\": 59.0}, {\"STATE\": \"Kelantan\", \"RESIDENTAL_AREA\": \"TAMAN WARISAN\", \"DISTRICT\": \"KUALA KRAI\", \"NUMBER_OF_HOUSES\": 107.0}, {\"STATE\": \"Kelantan\", \"RESIDENTAL_AREA\": \"KRAI ECO PARK\", \"DISTRICT\": \"KUALA KRAI\", \"NUMBER_OF_HOUSES\": 61.0}, {\"STATE\": \"Kelantan\", \"RESIDENTAL_AREA\": \"TAMAN PERISAI WIRA\", \"DISTRICT\": \"KUALA KRAI\", \"NUMBER_OF_HOUSES\": 283.0}, {\"STATE\": \"Kelantan\", \"RESIDENTAL_AREA\": \"TAMAN HAJJAH HALIMAH\", \"DISTRICT\": \"KUALA KRAI\", \"NUMBER_OF_HOUSES\": 17.0}, {\"STATE\": \"Kelantan\", \"RESIDENTAL_AREA\": \"TAMAN KK HEIGHT\", \"DISTRICT\": \"KUALA KRAI\", \"NUMBER_OF_HOUSES\": 187.0}, {\"STATE\": \"Kelantan\", \"RESIDENTAL_AREA\": \"TAMAN DESA AR-RAHMAN\", \"DISTRICT\": \"KUALA KRAI\", \"NUMBER_OF_HOUSES\": 151.0}, {\"STATE\": \"Kelantan\", \"RESIDENTAL_AREA\": \"TAMAN SUNGAI DURIAN\", \"DISTRICT\": \"KUALA KRAI\", \"NUMBER_OF_HOUSES\": 149.0}, {\"STATE\": \"Kelantan\", \"RESIDENTAL_AREA\": \"TAMAN IMPIAN\", \"DISTRICT\": \"KUALA KRAI\", \"NUMBER_OF_HOUSES\": 20.0}, {\"STATE\": \"Kelantan\", \"RESIDENTAL_AREA\": \"TAMAN YANIE\", \"DISTRICT\": \"KUALA KRAI\", \"NUMBER_OF_HOUSES\": 60.0}, {\"STATE\": \"Kelantan\", \"RESIDENTAL_AREA\": \"TAMAN MDKK\", \"DISTRICT\": \"KUALA KRAI\", \"NUMBER_OF_HOUSES\": 38.0}, {\"STATE\": \"Kelantan\", \"RESIDENTAL_AREA\": \"TAMAN PPD\", \"DISTRICT\": \"KUALA KRAI\", \"NUMBER_OF_HOUSES\": 27.0}, {\"STATE\": \"Kelantan\", \"RESIDENTAL_AREA\": \"TAMAN SUTERA INDAH\", \"DISTRICT\": \"KUALA KRAI\", \"NUMBER_OF_HOUSES\": 28.0}, {\"STATE\": \"Kelantan\", \"RESIDENTAL_AREA\": \"TAMAN KRAI CENTRAL PARK\", \"DISTRICT\": \"KUALA KRAI\", \"NUMBER_OF_HOUSES\": 159.0}, {\"STATE\": \"Kelantan\", \"RESIDENTAL_AREA\": \"TAMAN DESA PERMAI 126\", \"DISTRICT\": \"KUALA KRAI\", \"NUMBER_OF_HOUSES\": 205.0}, {\"STATE\": \"Kelantan\", \"RESIDENTAL_AREA\": \"TAMAN LUCKY\", \"DISTRICT\": \"KUALA KRAI\", \"NUMBER_OF_HOUSES\": 25.0}, {\"STATE\": \"Kelantan\", \"RESIDENTAL_AREA\": \"PERUMAHAN BANJIR SUNGAI DURIAN\", \"DISTRICT\": \"KUALA KRAI\", \"NUMBER_OF_HOUSES\": 41.0}, {\"STATE\": \"Kelantan\", \"RESIDENTAL_AREA\": \"PERUMAHAN BANJIR BATU JONG\", \"DISTRICT\": \"KUALA KRAI\", \"NUMBER_OF_HOUSES\": 43.0}, {\"STATE\": \"Kelantan\", \"RESIDENTAL_AREA\": \"PERUMAHAN BANJIR TELEKONG\", \"DISTRICT\": \"KUALA KRAI\", \"NUMBER_OF_HOUSES\": 60.0}, {\"STATE\": \"Kelantan\", \"RESIDENTAL_AREA\": \"DABONG\", \"DISTRICT\": \"KUALA KRAI\", \"NUMBER_OF_HOUSES\": 228.0}, {\"STATE\": \"Kelantan\", \"RESIDENTAL_AREA\": \"KEMUBU\", \"DISTRICT\": \"KUALA KRAI\", \"NUMBER_OF_HOUSES\": 212.0}, {\"STATE\": \"Kelantan\", \"RESIDENTAL_AREA\": \"KUALA GRIS\", \"DISTRICT\": \"KUALA KRAI\", \"NUMBER_OF_HOUSES\": 215.0}, {\"STATE\": \"Kelantan\", \"RESIDENTAL_AREA\": \"LALOH\", \"DISTRICT\": \"KUALA KRAI\", \"NUMBER_OF_HOUSES\": 281.0}, {\"STATE\": \"Kelantan\", \"RESIDENTAL_AREA\": \"LEBUHRAYA KK-GM\", \"DISTRICT\": \"KUALA KRAI\", \"NUMBER_OF_HOUSES\": 54.0}, {\"STATE\": \"Kelantan\", \"RESIDENTAL_AREA\": \"SUNGAI REK\", \"DISTRICT\": \"KUALA KRAI\", \"NUMBER_OF_HOUSES\": 84.0}, {\"STATE\": \"Kelantan\", \"RESIDENTAL_AREA\": \"MANEK URAI LAMA\", \"DISTRICT\": \"KUALA KRAI\", \"NUMBER_OF_HOUSES\": 199.0}, {\"STATE\": \"Kelantan\", \"RESIDENTAL_AREA\": \"MANEK URAI BARU\", \"DISTRICT\": \"KUALA KRAI\", \"NUMBER_OF_HOUSES\": 141.0}, {\"STATE\": \"Kelantan\", \"RESIDENTAL_AREA\": \"SUNGAI SOK\", \"DISTRICT\": \"KUALA KRAI\", \"NUMBER_OF_HOUSES\": 111.0}, {\"STATE\": \"Kelantan\", \"RESIDENTAL_AREA\": \"CHUCHUH PUTERI A\", \"DISTRICT\": \"KUALA KRAI\", \"NUMBER_OF_HOUSES\": 152.0}, {\"STATE\": \"Kelantan\", \"RESIDENTAL_AREA\": \"CHUCHUH PUTERI B\", \"DISTRICT\": \"KUALA KRAI\", \"NUMBER_OF_HOUSES\": 127.0}, {\"STATE\": \"Kelantan\", \"RESIDENTAL_AREA\": \"JELAWANG\", \"DISTRICT\": \"KUALA KRAI\", \"NUMBER_OF_HOUSES\": 119.0}, {\"STATE\": \"Kelantan\", \"RESIDENTAL_AREA\": \"RUMAH BANTUAN BANJIR (MANEK URAI)\", \"DISTRICT\": \"KUALA KRAI\", \"NUMBER_OF_HOUSES\": 60.0}, {\"STATE\": \"Kelantan\", \"RESIDENTAL_AREA\": \"RUMAH BANTUAN BANJIR KEMUBU)\", \"DISTRICT\": \"KUALA KRAI\", \"NUMBER_OF_HOUSES\": 69.0}, {\"STATE\": \"Kelantan\", \"RESIDENTAL_AREA\": \"RUMAH BANTUAN BANJIR (ULU KENETIH)\", \"DISTRICT\": \"KUALA KRAI\", \"NUMBER_OF_HOUSES\": 30.0}, {\"STATE\": \"Kelantan\", \"RESIDENTAL_AREA\": \"RUMAH BANTUAN BANJIR (KG PERIA)\", \"DISTRICT\": \"KUALA KRAI\", \"NUMBER_OF_HOUSES\": 37.0}, {\"STATE\": \"Kelantan\", \"RESIDENTAL_AREA\": \"TAMAN AL-HASSAN\", \"DISTRICT\": \"MACHANG\", \"NUMBER_OF_HOUSES\": 40.0}, {\"STATE\": \"Kelantan\", \"RESIDENTAL_AREA\": \"TAMAN AL-HAKIM\", \"DISTRICT\": \"MACHANG\", \"NUMBER_OF_HOUSES\": 16.0}, {\"STATE\": \"Kelantan\", \"RESIDENTAL_AREA\": \"TAMAN AL-ABBAS\", \"DISTRICT\": \"MACHANG\", \"NUMBER_OF_HOUSES\": 106.0}, {\"STATE\": \"Kelantan\", \"RESIDENTAL_AREA\": \"TAMAN BINA ALAM\", \"DISTRICT\": \"MACHANG\", \"NUMBER_OF_HOUSES\": 20.0}, {\"STATE\": \"Kelantan\", \"RESIDENTAL_AREA\": \"TAMAN SRI SENTOSA (2)\", \"DISTRICT\": \"MACHANG\", \"NUMBER_OF_HOUSES\": 60.0}, {\"STATE\": \"Kelantan\", \"RESIDENTAL_AREA\": \"TAMAN BECHAH PULAI\", \"DISTRICT\": \"MACHANG\", \"NUMBER_OF_HOUSES\": 11.0}, {\"STATE\": \"Kelantan\", \"RESIDENTAL_AREA\": \"TAMAN SAUJANA IMPIAN\", \"DISTRICT\": \"MACHANG\", \"NUMBER_OF_HOUSES\": 208.0}, {\"STATE\": \"Kelantan\", \"RESIDENTAL_AREA\": \"TAMAN CAHAYA BAHAGIA\", \"DISTRICT\": \"MACHANG\", \"NUMBER_OF_HOUSES\": 74.0}, {\"STATE\": \"Kelantan\", \"RESIDENTAL_AREA\": \"TAMAN DESA BAKTI\", \"DISTRICT\": \"MACHANG\", \"NUMBER_OF_HOUSES\": 215.0}, {\"STATE\": \"Kelantan\", \"RESIDENTAL_AREA\": \"DATARAN FAJAR\", \"DISTRICT\": \"MACHANG\", \"NUMBER_OF_HOUSES\": 25.0}, {\"STATE\": \"Kelantan\", \"RESIDENTAL_AREA\": \"TAMAN DESA HIDAYAH\", \"DISTRICT\": \"MACHANG\", \"NUMBER_OF_HOUSES\": 66.0}, {\"STATE\": \"Kelantan\", \"RESIDENTAL_AREA\": \"TAMAN DAMAI\", \"DISTRICT\": \"MACHANG\", \"NUMBER_OF_HOUSES\": 75.0}, {\"STATE\": \"Kelantan\", \"RESIDENTAL_AREA\": \"TAMAN DESA MELATI\", \"DISTRICT\": \"MACHANG\", \"NUMBER_OF_HOUSES\": 33.0}, {\"STATE\": \"Kelantan\", \"RESIDENTAL_AREA\": \"TAMAN DESA ARIFF\", \"DISTRICT\": \"MACHANG\", \"NUMBER_OF_HOUSES\": 205.0}, {\"STATE\": \"Kelantan\", \"RESIDENTAL_AREA\": \"TAMAN GADING GALOH\", \"DISTRICT\": \"MACHANG\", \"NUMBER_OF_HOUSES\": 99.0}, {\"STATE\": \"Kelantan\", \"RESIDENTAL_AREA\": \"TAMAN GURU\", \"DISTRICT\": \"MACHANG\", \"NUMBER_OF_HOUSES\": 23.0}, {\"STATE\": \"Kelantan\", \"RESIDENTAL_AREA\": \"TAMAN IMPIAN PUTRA\", \"DISTRICT\": \"MACHANG\", \"NUMBER_OF_HOUSES\": 23.0}, {\"STATE\": \"Kelantan\", \"RESIDENTAL_AREA\": \"TAMAN JAZA GEMILANG\", \"DISTRICT\": \"MACHANG\", \"NUMBER_OF_HOUSES\": 30.0}, {\"STATE\": \"Kelantan\", \"RESIDENTAL_AREA\": \"TAMAN JAMBU INDAH\", \"DISTRICT\": \"MACHANG\", \"NUMBER_OF_HOUSES\": 10.0}, {\"STATE\": \"Kelantan\", \"RESIDENTAL_AREA\": \"TAMAN JINTANG GEMILANG\", \"DISTRICT\": \"MACHANG\", \"NUMBER_OF_HOUSES\": 36.0}, {\"STATE\": \"Kelantan\", \"RESIDENTAL_AREA\": \"TAMAN KUIN INDAH\", \"DISTRICT\": \"MACHANG\", \"NUMBER_OF_HOUSES\": 58.0}, {\"STATE\": \"Kelantan\", \"RESIDENTAL_AREA\": \"TAMAN LABOK JAYA\", \"DISTRICT\": \"MACHANG\", \"NUMBER_OF_HOUSES\": 80.0}, {\"STATE\": \"Kelantan\", \"RESIDENTAL_AREA\": \"TAMAN MACHANG INDAH\", \"DISTRICT\": \"MACHANG\", \"NUMBER_OF_HOUSES\": 76.0}, {\"STATE\": \"Kelantan\", \"RESIDENTAL_AREA\": \"TAMAN MESRA\", \"DISTRICT\": \"MACHANG\", \"NUMBER_OF_HOUSES\": 10.0}, {\"STATE\": \"Kelantan\", \"RESIDENTAL_AREA\": \"TAMAN MUTIARA\", \"DISTRICT\": \"MACHANG\", \"NUMBER_OF_HOUSES\": 5.0}, {\"STATE\": \"Kelantan\", \"RESIDENTAL_AREA\": \"TAMAN GURU PPJ\", \"DISTRICT\": \"MACHANG\", \"NUMBER_OF_HOUSES\": 24.0}, {\"STATE\": \"Kelantan\", \"RESIDENTAL_AREA\": \"TAMAN PELADANG JAYA\", \"DISTRICT\": \"MACHANG\", \"NUMBER_OF_HOUSES\": 36.0}, {\"STATE\": \"Kelantan\", \"RESIDENTAL_AREA\": \"PERUMAHAN SENTOSA\", \"DISTRICT\": \"MACHANG\", \"NUMBER_OF_HOUSES\": 39.0}, {\"STATE\": \"Kelantan\", \"RESIDENTAL_AREA\": \"TAMAN RIMBUNAN\", \"DISTRICT\": \"MACHANG\", \"NUMBER_OF_HOUSES\": 10.0}, {\"STATE\": \"Kelantan\", \"RESIDENTAL_AREA\": \"KOTA SRI AMAN\", \"DISTRICT\": \"MACHANG\", \"NUMBER_OF_HOUSES\": 32.0}, {\"STATE\": \"Kelantan\", \"RESIDENTAL_AREA\": \"TAMAN SRI DELIMA\", \"DISTRICT\": \"MACHANG\", \"NUMBER_OF_HOUSES\": 17.0}, {\"STATE\": \"Kelantan\", \"RESIDENTAL_AREA\": \"TAMAN SRI ELLA\", \"DISTRICT\": \"MACHANG\", \"NUMBER_OF_HOUSES\": 46.0}, {\"STATE\": \"Kelantan\", \"RESIDENTAL_AREA\": \"TAMAN SRI MACHANG\", \"DISTRICT\": \"MACHANG\", \"NUMBER_OF_HOUSES\": 52.0}, {\"STATE\": \"Kelantan\", \"RESIDENTAL_AREA\": \"TAMAN SRI INDAH\", \"DISTRICT\": \"MACHANG\", \"NUMBER_OF_HOUSES\": 28.0}, {\"STATE\": \"Kelantan\", \"RESIDENTAL_AREA\": \"TAMAN SRI INTAN\", \"DISTRICT\": \"MACHANG\", \"NUMBER_OF_HOUSES\": 26.0}, {\"STATE\": \"Kelantan\", \"RESIDENTAL_AREA\": \"TAMAN SETIA KASIH\", \"DISTRICT\": \"MACHANG\", \"NUMBER_OF_HOUSES\": 107.0}, {\"STATE\": \"Kelantan\", \"RESIDENTAL_AREA\": \"TAMAN SRI MAKMUR\", \"DISTRICT\": \"MACHANG\", \"NUMBER_OF_HOUSES\": 78.0}, {\"STATE\": \"Kelantan\", \"RESIDENTAL_AREA\": \"TAMAN SRI MEDAN\", \"DISTRICT\": \"MACHANG\", \"NUMBER_OF_HOUSES\": 42.0}, {\"STATE\": \"Kelantan\", \"RESIDENTAL_AREA\": \"TAMAN SRI PERMATA\", \"DISTRICT\": \"MACHANG\", \"NUMBER_OF_HOUSES\": 10.0}, {\"STATE\": \"Kelantan\", \"RESIDENTAL_AREA\": \"TAMAN SRI SENTOSA\", \"DISTRICT\": \"MACHANG\", \"NUMBER_OF_HOUSES\": 32.0}, {\"STATE\": \"Kelantan\", \"RESIDENTAL_AREA\": \"TAMAN DESA AZAM\", \"DISTRICT\": \"MACHANG\", \"NUMBER_OF_HOUSES\": 71.0}, {\"STATE\": \"Kelantan\", \"RESIDENTAL_AREA\": \"TAMAN SRI MACHANG (1)\", \"DISTRICT\": \"MACHANG\", \"NUMBER_OF_HOUSES\": 42.0}, {\"STATE\": \"Kelantan\", \"RESIDENTAL_AREA\": \"TAMAN MADANI\", \"DISTRICT\": \"MACHANG\", \"NUMBER_OF_HOUSES\": 36.0}, {\"STATE\": \"Kelantan\", \"RESIDENTAL_AREA\": \"TAMAN HIDAYAT\", \"DISTRICT\": \"MACHANG\", \"NUMBER_OF_HOUSES\": 21.0}, {\"STATE\": \"Kelantan\", \"RESIDENTAL_AREA\": \"TAMAN ILMU\", \"DISTRICT\": \"MACHANG\", \"NUMBER_OF_HOUSES\": 131.0}, {\"STATE\": \"Kelantan\", \"RESIDENTAL_AREA\": \"TAMAN  DESA REBANA\", \"DISTRICT\": \"MACHANG\", \"NUMBER_OF_HOUSES\": 39.0}, {\"STATE\": \"Kelantan\", \"RESIDENTAL_AREA\": \"TAMAN KISANA\", \"DISTRICT\": \"MACHANG\", \"NUMBER_OF_HOUSES\": 10.0}, {\"STATE\": \"Kelantan\", \"RESIDENTAL_AREA\": \"TAMAN ALIA\", \"DISTRICT\": \"MACHANG\", \"NUMBER_OF_HOUSES\": 27.0}, {\"STATE\": \"Kelantan\", \"RESIDENTAL_AREA\": \"TAMAN NURI\", \"DISTRICT\": \"MACHANG\", \"NUMBER_OF_HOUSES\": 31.0}, {\"STATE\": \"Kelantan\", \"RESIDENTAL_AREA\": \"TAMAN RIONG\", \"DISTRICT\": \"MACHANG\", \"NUMBER_OF_HOUSES\": 38.0}, {\"STATE\": \"Kelantan\", \"RESIDENTAL_AREA\": \"TAMAN TAJUDDIN\", \"DISTRICT\": \"MACHANG\", \"NUMBER_OF_HOUSES\": 20.0}, {\"STATE\": \"Kelantan\", \"RESIDENTAL_AREA\": \"TAMAN ZARAH\", \"DISTRICT\": \"MACHANG\", \"NUMBER_OF_HOUSES\": 9.0}, {\"STATE\": \"Kelantan\", \"RESIDENTAL_AREA\": \"TAMAN BACHOK 1\", \"DISTRICT\": \"BACHOK\", \"NUMBER_OF_HOUSES\": 27.0}, {\"STATE\": \"Kelantan\", \"RESIDENTAL_AREA\": \"TAMAN BACHOK 2\", \"DISTRICT\": \"BACHOK\", \"NUMBER_OF_HOUSES\": 24.0}, {\"STATE\": \"Kelantan\", \"RESIDENTAL_AREA\": \"TAMAN BACHOK 3\", \"DISTRICT\": \"BACHOK\", \"NUMBER_OF_HOUSES\": 62.0}, {\"STATE\": \"Kelantan\", \"RESIDENTAL_AREA\": \"TAMAN KULIM INDAH 1\", \"DISTRICT\": \"BACHOK\", \"NUMBER_OF_HOUSES\": 14.0}, {\"STATE\": \"Kelantan\", \"RESIDENTAL_AREA\": \"TAMAN KULIM INDAH 2\", \"DISTRICT\": \"BACHOK\", \"NUMBER_OF_HOUSES\": 42.0}, {\"STATE\": \"Kelantan\", \"RESIDENTAL_AREA\": \"TAMAN DESA PERUPOK\", \"DISTRICT\": \"BACHOK\", \"NUMBER_OF_HOUSES\": 51.0}, {\"STATE\": \"Kelantan\", \"RESIDENTAL_AREA\": \"TAMAN DESA AQILAH\", \"DISTRICT\": \"BACHOK\", \"NUMBER_OF_HOUSES\": 24.0}, {\"STATE\": \"Kelantan\", \"RESIDENTAL_AREA\": \"TAMAN SRI LALANG\", \"DISTRICT\": \"BACHOK\", \"NUMBER_OF_HOUSES\": 9.0}, {\"STATE\": \"Kelantan\", \"RESIDENTAL_AREA\": \"TAMAN KARTINI\", \"DISTRICT\": \"BACHOK\", \"NUMBER_OF_HOUSES\": 21.0}, {\"STATE\": \"Kelantan\", \"RESIDENTAL_AREA\": \"TAMAN SRI MUTIARA 1\", \"DISTRICT\": \"BACHOK\", \"NUMBER_OF_HOUSES\": 8.0}, {\"STATE\": \"Kelantan\", \"RESIDENTAL_AREA\": \"TAMAN SRI MUTIARA 2\", \"DISTRICT\": \"BACHOK\", \"NUMBER_OF_HOUSES\": 27.0}, {\"STATE\": \"Kelantan\", \"RESIDENTAL_AREA\": \"TAMAN SYAFIQAH\", \"DISTRICT\": \"BACHOK\", \"NUMBER_OF_HOUSES\": 9.0}, {\"STATE\": \"Kelantan\", \"RESIDENTAL_AREA\": \"TAMAN KINTAN MAS\", \"DISTRICT\": \"BACHOK\", \"NUMBER_OF_HOUSES\": 74.0}, {\"STATE\": \"Kelantan\", \"RESIDENTAL_AREA\": \"TAMAN DESA PURA\", \"DISTRICT\": \"BACHOK\", \"NUMBER_OF_HOUSES\": 57.0}, {\"STATE\": \"Kelantan\", \"RESIDENTAL_AREA\": \"TAMAN ZAINAB BT NASH\", \"DISTRICT\": \"BACHOK\", \"NUMBER_OF_HOUSES\": 9.0}, {\"STATE\": \"Kelantan\", \"RESIDENTAL_AREA\": \"TAMAN SRI SELASIH\", \"DISTRICT\": \"BACHOK\", \"NUMBER_OF_HOUSES\": 19.0}, {\"STATE\": \"Kelantan\", \"RESIDENTAL_AREA\": \"TAMAN 1 BALAI\", \"DISTRICT\": \"BACHOK\", \"NUMBER_OF_HOUSES\": 34.0}, {\"STATE\": \"Kelantan\", \"RESIDENTAL_AREA\": \"TAMAN SRI MEGAH\", \"DISTRICT\": \"BACHOK\", \"NUMBER_OF_HOUSES\": 29.0}, {\"STATE\": \"Kelantan\", \"RESIDENTAL_AREA\": \"TAMAN SRI BAYU\", \"DISTRICT\": \"BACHOK\", \"NUMBER_OF_HOUSES\": 27.0}, {\"STATE\": \"Kelantan\", \"RESIDENTAL_AREA\": \"TAMAN ZAWIYAH\", \"DISTRICT\": \"BACHOK\", \"NUMBER_OF_HOUSES\": 4.0}, {\"STATE\": \"Kelantan\", \"RESIDENTAL_AREA\": \"TAMAN SARA HANA\", \"DISTRICT\": \"BACHOK\", \"NUMBER_OF_HOUSES\": 6.0}, {\"STATE\": \"Kelantan\", \"RESIDENTAL_AREA\": \"TAMAN PAUH 5\", \"DISTRICT\": \"BACHOK\", \"NUMBER_OF_HOUSES\": 25.0}, {\"STATE\": \"Kelantan\", \"RESIDENTAL_AREA\": \"TAMAN DESA MELOR\", \"DISTRICT\": \"BACHOK\", \"NUMBER_OF_HOUSES\": 56.0}, {\"STATE\": \"Kelantan\", \"RESIDENTAL_AREA\": \"TAMAN DESA SURIA\", \"DISTRICT\": \"BACHOK\", \"NUMBER_OF_HOUSES\": 37.0}, {\"STATE\": \"Kelantan\", \"RESIDENTAL_AREA\": \"TAMAN AL RASH\", \"DISTRICT\": \"BACHOK\", \"NUMBER_OF_HOUSES\": 24.0}, {\"STATE\": \"Kelantan\", \"RESIDENTAL_AREA\": \"TAMAN PUTERI SAADONG\", \"DISTRICT\": \"BACHOK\", \"NUMBER_OF_HOUSES\": 27.0}, {\"STATE\": \"Kelantan\", \"RESIDENTAL_AREA\": \"TAMAN BATOR HARMONI\", \"DISTRICT\": \"BACHOK\", \"NUMBER_OF_HOUSES\": 231.0}, {\"STATE\": \"Kelantan\", \"RESIDENTAL_AREA\": \"TAMAN DESA IRAMA\", \"DISTRICT\": \"BACHOK\", \"NUMBER_OF_HOUSES\": 18.0}, {\"STATE\": \"Kelantan\", \"RESIDENTAL_AREA\": \"TAMAN PINGGIRAN UNIVERSITI\", \"DISTRICT\": \"BACHOK\", \"NUMBER_OF_HOUSES\": 96.0}, {\"STATE\": \"Kelantan\", \"RESIDENTAL_AREA\": \"TAMAN ADABI\", \"DISTRICT\": \"PASIR MAS\", \"NUMBER_OF_HOUSES\": 27.0}, {\"STATE\": \"Kelantan\", \"RESIDENTAL_AREA\": \"TAMAN DAHLIA\", \"DISTRICT\": \"PASIR MAS\", \"NUMBER_OF_HOUSES\": 8.0}, {\"STATE\": \"Kelantan\", \"RESIDENTAL_AREA\": \"TAMAN DALINJA\", \"DISTRICT\": \"PASIR MAS\", \"NUMBER_OF_HOUSES\": 5.0}, {\"STATE\": \"Kelantan\", \"RESIDENTAL_AREA\": \"TAMAN MEKASA\", \"DISTRICT\": \"PASIR MAS\", \"NUMBER_OF_HOUSES\": 69.0}, {\"STATE\": \"Kelantan\", \"RESIDENTAL_AREA\": \"TAMAN SRI JIAS\", \"DISTRICT\": \"PASIR MAS\", \"NUMBER_OF_HOUSES\": 43.0}, {\"STATE\": \"Kelantan\", \"RESIDENTAL_AREA\": \"TAMAN HASLIDA\", \"DISTRICT\": \"PASIR MAS\", \"NUMBER_OF_HOUSES\": 17.0}, {\"STATE\": \"Kelantan\", \"RESIDENTAL_AREA\": \"TAMAN SRI SENTOSA\", \"DISTRICT\": \"PASIR MAS\", \"NUMBER_OF_HOUSES\": 29.0}, {\"STATE\": \"Kelantan\", \"RESIDENTAL_AREA\": \"TAMAN SEMASA LUBOK JONG\", \"DISTRICT\": \"PASIR MAS\", \"NUMBER_OF_HOUSES\": 206.0}, {\"STATE\": \"Kelantan\", \"RESIDENTAL_AREA\": \"TAMA BEJ LEMBAH GAUNG\", \"DISTRICT\": \"PASIR MAS\", \"NUMBER_OF_HOUSES\": 18.0}, {\"STATE\": \"Kelantan\", \"RESIDENTAL_AREA\": \"TAMAN MAS JAYA\", \"DISTRICT\": \"PASIR MAS\", \"NUMBER_OF_HOUSES\": 88.0}, {\"STATE\": \"Kelantan\", \"RESIDENTAL_AREA\": \"TAMAN MEGAH JAYA\", \"DISTRICT\": \"PASIR MAS\", \"NUMBER_OF_HOUSES\": 47.0}, {\"STATE\": \"Kelantan\", \"RESIDENTAL_AREA\": \"TAMAN JAYA DAMAI\", \"DISTRICT\": \"PASIR MAS\", \"NUMBER_OF_HOUSES\": 15.0}, {\"STATE\": \"Kelantan\", \"RESIDENTAL_AREA\": \"TAMAN MEDAN MEGAH\", \"DISTRICT\": \"PASIR MAS\", \"NUMBER_OF_HOUSES\": 12.0}, {\"STATE\": \"Kelantan\", \"RESIDENTAL_AREA\": \"TAMAN BJ SEMUBAR EMAS\", \"DISTRICT\": \"PASIR MAS\", \"NUMBER_OF_HOUSES\": 11.0}, {\"STATE\": \"Kelantan\", \"RESIDENTAL_AREA\": \"TAMAN GUA INDAH\", \"DISTRICT\": \"PASIR MAS\", \"NUMBER_OF_HOUSES\": 10.0}, {\"STATE\": \"Kelantan\", \"RESIDENTAL_AREA\": \"TAMAN MEGAH LAGENDA\", \"DISTRICT\": \"PASIR MAS\", \"NUMBER_OF_HOUSES\": 159.0}, {\"STATE\": \"Kelantan\", \"RESIDENTAL_AREA\": \"PERUMAHAN GERTAK SERONG\", \"DISTRICT\": \"PASIR MAS\", \"NUMBER_OF_HOUSES\": 16.0}, {\"STATE\": \"Kelantan\", \"RESIDENTAL_AREA\": \"TAMAN SRI EMBUN\", \"DISTRICT\": \"PASIR MAS\", \"NUMBER_OF_HOUSES\": 16.0}, {\"STATE\": \"Kelantan\", \"RESIDENTAL_AREA\": \"TAMAN MEGAH BAHTARA\", \"DISTRICT\": \"PASIR MAS\", \"NUMBER_OF_HOUSES\": 30.0}, {\"STATE\": \"Kelantan\", \"RESIDENTAL_AREA\": \"TAMAN MEGAH BAHTARA II\", \"DISTRICT\": \"PASIR MAS\", \"NUMBER_OF_HOUSES\": 6.0}, {\"STATE\": \"Kelantan\", \"RESIDENTAL_AREA\": \"TAMAN SRI CHETOK\", \"DISTRICT\": \"PASIR MAS\", \"NUMBER_OF_HOUSES\": 10.0}, {\"STATE\": \"Kelantan\", \"RESIDENTAL_AREA\": \"TAMAN MAKA UTAMA\", \"DISTRICT\": \"PASIR MAS\", \"NUMBER_OF_HOUSES\": 193.0}, {\"STATE\": \"Kelantan\", \"RESIDENTAL_AREA\": \"TAMAN MELATI\", \"DISTRICT\": \"PASIR MAS\", \"NUMBER_OF_HOUSES\": 92.0}, {\"STATE\": \"Kelantan\", \"RESIDENTAL_AREA\": \"TAMAN LATI MURNI\", \"DISTRICT\": \"PASIR MAS\", \"NUMBER_OF_HOUSES\": 37.0}, {\"STATE\": \"Kelantan\", \"RESIDENTAL_AREA\": \"TAMAN SRI KENERAK\", \"DISTRICT\": \"PASIR MAS\", \"NUMBER_OF_HOUSES\": 22.0}, {\"STATE\": \"Kelantan\", \"RESIDENTAL_AREA\": \"TAMAN KEPAS APAM\", \"DISTRICT\": \"PASIR MAS\", \"NUMBER_OF_HOUSES\": 5.0}, {\"STATE\": \"Kelantan\", \"RESIDENTAL_AREA\": \"TAMAN NUSAJAZA\", \"DISTRICT\": \"PASIR MAS\", \"NUMBER_OF_HOUSES\": 16.0}, {\"STATE\": \"Kelantan\", \"RESIDENTAL_AREA\": \"TAMAN SITI AMINAH\", \"DISTRICT\": \"KOTA BHARU\", \"NUMBER_OF_HOUSES\": 8.0}, {\"STATE\": \"Kelantan\", \"RESIDENTAL_AREA\": \"TAMAN PALOH RAMBAI\", \"DISTRICT\": \"KOTA BHARU\", \"NUMBER_OF_HOUSES\": 21.0}, {\"STATE\": \"Kelantan\", \"RESIDENTAL_AREA\": \"TAMAN TEN\", \"DISTRICT\": \"KOTA BHARU\", \"NUMBER_OF_HOUSES\": 9.0}, {\"STATE\": \"Kelantan\", \"RESIDENTAL_AREA\": \"TAMAN SRI KETEREH\", \"DISTRICT\": \"KOTA BHARU\", \"NUMBER_OF_HOUSES\": 43.0}, {\"STATE\": \"Kelantan\", \"RESIDENTAL_AREA\": \"TAMAN JALAN KLINIK PERINGAT\", \"DISTRICT\": \"KOTA BHARU\", \"NUMBER_OF_HOUSES\": 5.0}, {\"STATE\": \"Kelantan\", \"RESIDENTAL_AREA\": \"TAMAN SYED HITAM\", \"DISTRICT\": \"KOTA BHARU\", \"NUMBER_OF_HOUSES\": 12.0}, {\"STATE\": \"Kelantan\", \"RESIDENTAL_AREA\": \"TAMAN DESA SRI KULIM\", \"DISTRICT\": \"KOTA BHARU\", \"NUMBER_OF_HOUSES\": 21.0}, {\"STATE\": \"Kelantan\", \"RESIDENTAL_AREA\": \"TAMAN MURNI\", \"DISTRICT\": \"KOTA BHARU\", \"NUMBER_OF_HOUSES\": 30.0}, {\"STATE\": \"Kelantan\", \"RESIDENTAL_AREA\": \"TAMAN HAJI ALI 3\", \"DISTRICT\": \"KOTA BHARU\", \"NUMBER_OF_HOUSES\": 12.0}, {\"STATE\": \"Kelantan\", \"RESIDENTAL_AREA\": \"TAMAN HAJI ALI 2\", \"DISTRICT\": \"KOTA BHARU\", \"NUMBER_OF_HOUSES\": 25.0}, {\"STATE\": \"Kelantan\", \"RESIDENTAL_AREA\": \"TAMAN DESA PERINGAT\", \"DISTRICT\": \"KOTA BHARU\", \"NUMBER_OF_HOUSES\": 137.0}, {\"STATE\": \"Kelantan\", \"RESIDENTAL_AREA\": \"TAMAN HUTAN PASIR\", \"DISTRICT\": \"KOTA BHARU\", \"NUMBER_OF_HOUSES\": 18.0}, {\"STATE\": \"Kelantan\", \"RESIDENTAL_AREA\": \"TAMAN BERINGIN\", \"DISTRICT\": \"KOTA BHARU\", \"NUMBER_OF_HOUSES\": 16.0}, {\"STATE\": \"Kelantan\", \"RESIDENTAL_AREA\": \"TAMAN TUAN WOOK\", \"DISTRICT\": \"KOTA BHARU\", \"NUMBER_OF_HOUSES\": 39.0}, {\"STATE\": \"Kelantan\", \"RESIDENTAL_AREA\": \"TAMAN PERUMAHAN CIKGU PA\", \"DISTRICT\": \"KOTA BHARU\", \"NUMBER_OF_HOUSES\": 62.0}, {\"STATE\": \"Kelantan\", \"RESIDENTAL_AREA\": \"TAMAN SRI PERINGAT\", \"DISTRICT\": \"KOTA BHARU\", \"NUMBER_OF_HOUSES\": 25.0}, {\"STATE\": \"Kelantan\", \"RESIDENTAL_AREA\": \"TAMAN PATEK\", \"DISTRICT\": \"KOTA BHARU\", \"NUMBER_OF_HOUSES\": 58.0}, {\"STATE\": \"Kelantan\", \"RESIDENTAL_AREA\": \"TAMAN SRI KALONG\", \"DISTRICT\": \"KOTA BHARU\", \"NUMBER_OF_HOUSES\": 113.0}, {\"STATE\": \"Kelantan\", \"RESIDENTAL_AREA\": \"TAMAN MAWADDAH\", \"DISTRICT\": \"KOTA BHARU\", \"NUMBER_OF_HOUSES\": 24.0}, {\"STATE\": \"Kelantan\", \"RESIDENTAL_AREA\": \"TAMAN SL ANGGERIK\", \"DISTRICT\": \"KOTA BHARU\", \"NUMBER_OF_HOUSES\": 44.0}, {\"STATE\": \"Kelantan\", \"RESIDENTAL_AREA\": \"TAMAN NORASHIKIN\", \"DISTRICT\": \"KOTA BHARU\", \"NUMBER_OF_HOUSES\": 23.0}, {\"STATE\": \"Kelantan\", \"RESIDENTAL_AREA\": \"TAMAN RAHMAH\", \"DISTRICT\": \"KOTA BHARU\", \"NUMBER_OF_HOUSES\": 14.0}, {\"STATE\": \"Kelantan\", \"RESIDENTAL_AREA\": \"TAMAN DESA DAMAI\", \"DISTRICT\": \"KOTA BHARU\", \"NUMBER_OF_HOUSES\": 27.0}, {\"STATE\": \"Kelantan\", \"RESIDENTAL_AREA\": \"TAMAN SRI WANGI\", \"DISTRICT\": \"KOTA BHARU\", \"NUMBER_OF_HOUSES\": 32.0}, {\"STATE\": \"Kelantan\", \"RESIDENTAL_AREA\": \"TAMAN JALAN JPN\", \"DISTRICT\": \"KOTA BHARU\", \"NUMBER_OF_HOUSES\": 15.0}, {\"STATE\": \"Kelantan\", \"RESIDENTAL_AREA\": \"DESA SATRIA\", \"DISTRICT\": \"KOTA BHARU\", \"NUMBER_OF_HOUSES\": 100.0}, {\"STATE\": \"Kelantan\", \"RESIDENTAL_AREA\": \"TAMAN JAZA HOMES HUTAN PASIR\", \"DISTRICT\": \"KOTA BHARU\", \"NUMBER_OF_HOUSES\": 51.0}, {\"STATE\": \"Kelantan\", \"RESIDENTAL_AREA\": \"MDKB\", \"DISTRICT\": \"KOTA BHARU\", \"NUMBER_OF_HOUSES\": 44.0}, {\"STATE\": \"Kelantan\", \"RESIDENTAL_AREA\": \"TAMAN AN-NUR\", \"DISTRICT\": \"KOTA BHARU\", \"NUMBER_OF_HOUSES\": 12.0}, {\"STATE\": \"Kelantan\", \"RESIDENTAL_AREA\": \"TAMAN SL HUTAN PASIR\", \"DISTRICT\": \"KOTA BHARU\", \"NUMBER_OF_HOUSES\": 44.0}, {\"STATE\": \"Kelantan\", \"RESIDENTAL_AREA\": \"TAMAN SRI MELOR\", \"DISTRICT\": \"KOTA BHARU\", \"NUMBER_OF_HOUSES\": 34.0}, {\"STATE\": \"Kelantan\", \"RESIDENTAL_AREA\": \"TAMAN KG. GAUNG\", \"DISTRICT\": \"KOTA BHARU\", \"NUMBER_OF_HOUSES\": 9.0}, {\"STATE\": \"Kelantan\", \"RESIDENTAL_AREA\": \"TAMAN DESA PERMAI\", \"DISTRICT\": \"KOTA BHARU\", \"NUMBER_OF_HOUSES\": 78.0}, {\"STATE\": \"Kelantan\", \"RESIDENTAL_AREA\": \"TAMAN RESTU\", \"DISTRICT\": \"KOTA BHARU\", \"NUMBER_OF_HOUSES\": 17.0}, {\"STATE\": \"Kelantan\", \"RESIDENTAL_AREA\": \"TAMAN SETERPA\", \"DISTRICT\": \"KOTA BHARU\", \"NUMBER_OF_HOUSES\": 12.0}, {\"STATE\": \"Kelantan\", \"RESIDENTAL_AREA\": \"TAMAN HAJI ALI 1\", \"DISTRICT\": \"KOTA BHARU\", \"NUMBER_OF_HOUSES\": 57.0}, {\"STATE\": \"Kelantan\", \"RESIDENTAL_AREA\": \"TAMAN MAHADI 2\", \"DISTRICT\": \"KOTA BHARU\", \"NUMBER_OF_HOUSES\": 16.0}, {\"STATE\": \"Kelantan\", \"RESIDENTAL_AREA\": \"TAMAN DESA PAHLAWAN\", \"DISTRICT\": \"KOTA BHARU\", \"NUMBER_OF_HOUSES\": 32.0}, {\"STATE\": \"Kelantan\", \"RESIDENTAL_AREA\": \"TAMAN JAYA 2\", \"DISTRICT\": \"KOTA BHARU\", \"NUMBER_OF_HOUSES\": 20.0}, {\"STATE\": \"Kelantan\", \"RESIDENTAL_AREA\": \"TAMAN MINI MELATI\", \"DISTRICT\": \"KOTA BHARU\", \"NUMBER_OF_HOUSES\": 23.0}, {\"STATE\": \"Kelantan\", \"RESIDENTAL_AREA\": \"TAMAN SRI ARIL\", \"DISTRICT\": \"KOTA BHARU\", \"NUMBER_OF_HOUSES\": 43.0}, {\"STATE\": \"Kelantan\", \"RESIDENTAL_AREA\": \"TAMAN SETIAKAWAN\", \"DISTRICT\": \"KOTA BHARU\", \"NUMBER_OF_HOUSES\": 34.0}, {\"STATE\": \"Kelantan\", \"RESIDENTAL_AREA\": \"TAMAN DESA BARU\", \"DISTRICT\": \"KOTA BHARU\", \"NUMBER_OF_HOUSES\": 21.0}, {\"STATE\": \"Kelantan\", \"RESIDENTAL_AREA\": \"TAMAN DESA PATEK\", \"DISTRICT\": \"KOTA BHARU\", \"NUMBER_OF_HOUSES\": 15.0}, {\"STATE\": \"Kelantan\", \"RESIDENTAL_AREA\": \"TAMAN WIRA SARA\", \"DISTRICT\": \"KOTA BHARU\", \"NUMBER_OF_HOUSES\": 13.0}, {\"STATE\": \"Kelantan\", \"RESIDENTAL_AREA\": \"TAMAN ILMU\", \"DISTRICT\": \"KOTA BHARU\", \"NUMBER_OF_HOUSES\": 26.0}, {\"STATE\": \"Kelantan\", \"RESIDENTAL_AREA\": \"TAMAN BAITULMAKMUR\", \"DISTRICT\": \"KOTA BHARU\", \"NUMBER_OF_HOUSES\": 52.0}, {\"STATE\": \"Kelantan\", \"RESIDENTAL_AREA\": \"TAMAN DARUSSALAM\", \"DISTRICT\": \"KOTA BHARU\", \"NUMBER_OF_HOUSES\": 84.0}, {\"STATE\": \"Kelantan\", \"RESIDENTAL_AREA\": \"TAMAN SRI MAHANG\", \"DISTRICT\": \"KOTA BHARU\", \"NUMBER_OF_HOUSES\": 124.0}, {\"STATE\": \"Kelantan\", \"RESIDENTAL_AREA\": \"TAMAN ANGGERIK\", \"DISTRICT\": \"KOTA BHARU\", \"NUMBER_OF_HOUSES\": 175.0}, {\"STATE\": \"Kelantan\", \"RESIDENTAL_AREA\": \"TAMAN DENDANG\", \"DISTRICT\": \"KOTA BHARU\", \"NUMBER_OF_HOUSES\": 9.0}, {\"STATE\": \"Kelantan\", \"RESIDENTAL_AREA\": \"TAMAN DESA PETALING\", \"DISTRICT\": \"KOTA BHARU\", \"NUMBER_OF_HOUSES\": 132.0}, {\"STATE\": \"Kelantan\", \"RESIDENTAL_AREA\": \"TAMAN BENTARA JAYA\", \"DISTRICT\": \"KOTA BHARU\", \"NUMBER_OF_HOUSES\": 16.0}, {\"STATE\": \"Kelantan\", \"RESIDENTAL_AREA\": \"TAMAN MESRA\", \"DISTRICT\": \"KOTA BHARU\", \"NUMBER_OF_HOUSES\": 85.0}, {\"STATE\": \"Kelantan\", \"RESIDENTAL_AREA\": \"TAMAN RIMBUNAN\", \"DISTRICT\": \"KOTA BHARU\", \"NUMBER_OF_HOUSES\": 95.0}, {\"STATE\": \"Kelantan\", \"RESIDENTAL_AREA\": \"TAMAN DESA RAKYAT\", \"DISTRICT\": \"KOTA BHARU\", \"NUMBER_OF_HOUSES\": 30.0}, {\"STATE\": \"Kelantan\", \"RESIDENTAL_AREA\": \"TAMAN PERUMAHAN JALAN MASJID\", \"DISTRICT\": \"KOTA BHARU\", \"NUMBER_OF_HOUSES\": 28.0}, {\"STATE\": \"Kelantan\", \"RESIDENTAL_AREA\": \"TAMAN SRI ATIRA\", \"DISTRICT\": \"KOTA BHARU\", \"NUMBER_OF_HOUSES\": 55.0}, {\"STATE\": \"Kelantan\", \"RESIDENTAL_AREA\": \"TAMAN MOHD DEEN\", \"DISTRICT\": \"KOTA BHARU\", \"NUMBER_OF_HOUSES\": 4.0}, {\"STATE\": \"Kelantan\", \"RESIDENTAL_AREA\": \"DESA SRI KETEREH\", \"DISTRICT\": \"KOTA BHARU\", \"NUMBER_OF_HOUSES\": 41.0}, {\"STATE\": \"Kelantan\", \"RESIDENTAL_AREA\": \"TAMAN JAYA 1\", \"DISTRICT\": \"KOTA BHARU\", \"NUMBER_OF_HOUSES\": 18.0}, {\"STATE\": \"Kelantan\", \"RESIDENTAL_AREA\": \"TAMAN SRI MULONG\", \"DISTRICT\": \"KOTA BHARU\", \"NUMBER_OF_HOUSES\": 38.0}, {\"STATE\": \"Kelantan\", \"RESIDENTAL_AREA\": \"TAMAN KALA PERDANA\", \"DISTRICT\": \"KOTA BHARU\", \"NUMBER_OF_HOUSES\": 124.0}, {\"STATE\": \"Kelantan\", \"RESIDENTAL_AREA\": \"TAMAN PINGGIRAN ATIRA\", \"DISTRICT\": \"KOTA BHARU\", \"NUMBER_OF_HOUSES\": 176.0}, {\"STATE\": \"Kelantan\", \"RESIDENTAL_AREA\": \"TAMAN SENTOSA JAYA\", \"DISTRICT\": \"KOTA BHARU\", \"NUMBER_OF_HOUSES\": 112.0}, {\"STATE\": \"Kelantan\", \"RESIDENTAL_AREA\": \"TAMAN PADANG RAJA\", \"DISTRICT\": \"KOTA BHARU\", \"NUMBER_OF_HOUSES\": 8.0}, {\"STATE\": \"Kelantan\", \"RESIDENTAL_AREA\": \"TAMAN NUSAJAZA MULONG\", \"DISTRICT\": \"KOTA BHARU\", \"NUMBER_OF_HOUSES\": 40.0}, {\"STATE\": \"Kelantan\", \"RESIDENTAL_AREA\": \"TAMAN LPT MAKMUR\", \"DISTRICT\": \"KOTA BHARU\", \"NUMBER_OF_HOUSES\": 20.0}, {\"STATE\": \"Kelantan\", \"RESIDENTAL_AREA\": \"TAMAN KOPERASI GURU 2\", \"DISTRICT\": \"KOTA BHARU\", \"NUMBER_OF_HOUSES\": 30.0}, {\"STATE\": \"Kelantan\", \"RESIDENTAL_AREA\": \"TAMAN CIKGU AB. RAHMAN\", \"DISTRICT\": \"KOTA BHARU\", \"NUMBER_OF_HOUSES\": 10.0}, {\"STATE\": \"Kelantan\", \"RESIDENTAL_AREA\": \"TAMAN WIRA JAYA\", \"DISTRICT\": \"KOTA BHARU\", \"NUMBER_OF_HOUSES\": 123.0}, {\"STATE\": \"Kelantan\", \"RESIDENTAL_AREA\": \"TAMAN DESA JAZA MULONG 2\", \"DISTRICT\": \"KOTA BHARU\", \"NUMBER_OF_HOUSES\": 49.0}, {\"STATE\": \"Kelantan\", \"RESIDENTAL_AREA\": \"TAMAN BUKIT IDAMAN\", \"DISTRICT\": \"KOTA BHARU\", \"NUMBER_OF_HOUSES\": 89.0}, {\"STATE\": \"Kelantan\", \"RESIDENTAL_AREA\": \"TAMAN DESA PETALING 2\", \"DISTRICT\": \"KOTA BHARU\", \"NUMBER_OF_HOUSES\": 10.0}, {\"STATE\": \"Kelantan\", \"RESIDENTAL_AREA\": \"TAMAN MDKB 2\", \"DISTRICT\": \"KOTA BHARU\", \"NUMBER_OF_HOUSES\": 52.0}, {\"STATE\": \"Kelantan\", \"RESIDENTAL_AREA\": \"TAMAN TENGKU AHMAD RITHAUDEEN\", \"DISTRICT\": \"KOTA BHARU\", \"NUMBER_OF_HOUSES\": 104.0}, {\"STATE\": \"Kelantan\", \"RESIDENTAL_AREA\": \"TAMAN KOPERASI GURU \", \"DISTRICT\": \"KOTA BHARU\", \"NUMBER_OF_HOUSES\": 130.0}, {\"STATE\": \"Kelantan\", \"RESIDENTAL_AREA\": \"TAMAN DESA SURIA\", \"DISTRICT\": \"KOTA BHARU\", \"NUMBER_OF_HOUSES\": 20.0}, {\"STATE\": \"Kelantan\", \"RESIDENTAL_AREA\": \"TAMAN YIK\", \"DISTRICT\": \"KOTA BHARU\", \"NUMBER_OF_HOUSES\": 187.0}, {\"STATE\": \"Kelantan\", \"RESIDENTAL_AREA\": \"TAMAN ARIF\", \"DISTRICT\": \"KOTA BHARU\", \"NUMBER_OF_HOUSES\": 138.0}, {\"STATE\": \"Kelantan\", \"RESIDENTAL_AREA\": \"TAMAN DEPAN SEK CINA\", \"DISTRICT\": \"KOTA BHARU\", \"NUMBER_OF_HOUSES\": 3.0}, {\"STATE\": \"Kelantan\", \"RESIDENTAL_AREA\": \"TAMAN WADI IMAN\", \"DISTRICT\": \"KOTA BHARU\", \"NUMBER_OF_HOUSES\": 294.0}, {\"STATE\": \"Kelantan\", \"RESIDENTAL_AREA\": \"TAMAN MELOR\", \"DISTRICT\": \"KOTA BHARU\", \"NUMBER_OF_HOUSES\": 30.0}, {\"STATE\": \"Kelantan\", \"RESIDENTAL_AREA\": \"TAMAN MAHANG PERDANA\", \"DISTRICT\": \"KOTA BHARU\", \"NUMBER_OF_HOUSES\": 261.0}, {\"STATE\": \"Kelantan\", \"RESIDENTAL_AREA\": \"TAMAN SBJ BETA HILIR\", \"DISTRICT\": \"KOTA BHARU\", \"NUMBER_OF_HOUSES\": 165.0}, {\"STATE\": \"Kelantan\", \"RESIDENTAL_AREA\": \"TAMAN PRIMA MURNI PERDANA\", \"DISTRICT\": \"KOTA BHARU\", \"NUMBER_OF_HOUSES\": 46.0}, {\"STATE\": \"Kelantan\", \"RESIDENTAL_AREA\": \"TAMAN HAJI MUSTAPHA\", \"DISTRICT\": \"KOTA BHARU\", \"NUMBER_OF_HOUSES\": 58.0}, {\"STATE\": \"Kelantan\", \"RESIDENTAL_AREA\": \"TAMAN PRIMA PERINGAT\", \"DISTRICT\": \"KOTA BHARU\", \"NUMBER_OF_HOUSES\": 24.0}, {\"STATE\": \"Kelantan\", \"RESIDENTAL_AREA\": \"TAMAN SRI JAZA LATING\", \"DISTRICT\": \"KOTA BHARU\", \"NUMBER_OF_HOUSES\": 25.0}, {\"STATE\": \"Kelantan\", \"RESIDENTAL_AREA\": \"TAMAN UMI KALTHOM\", \"DISTRICT\": \"KOTA BHARU\", \"NUMBER_OF_HOUSES\": 29.0}, {\"STATE\": \"Kelantan\", \"RESIDENTAL_AREA\": \"TAMAN PUSPA JAYA B\", \"DISTRICT\": \"KOTA BHARU\", \"NUMBER_OF_HOUSES\": 249.0}, {\"STATE\": \"Kelantan\", \"RESIDENTAL_AREA\": \"TAMAN SRI MELOR 2\", \"DISTRICT\": \"KOTA BHARU\", \"NUMBER_OF_HOUSES\": 31.0}, {\"STATE\": \"Kelantan\", \"RESIDENTAL_AREA\": \"TAMAN MEGAN PATEK\", \"DISTRICT\": \"KOTA BHARU\", \"NUMBER_OF_HOUSES\": 28.0}, {\"STATE\": \"Kelantan\", \"RESIDENTAL_AREA\": \"TAMAN PUSPA JAYA A\", \"DISTRICT\": \"KOTA BHARU\", \"NUMBER_OF_HOUSES\": 142.0}, {\"STATE\": \"Kelantan\", \"RESIDENTAL_AREA\": \"TAMAN PENDEK\", \"DISTRICT\": \"KOTA BHARU\", \"NUMBER_OF_HOUSES\": 60.0}, {\"STATE\": \"Kelantan\", \"RESIDENTAL_AREA\": \"TAMAN DESA FIRDAUS\", \"DISTRICT\": \"KOTA BHARU\", \"NUMBER_OF_HOUSES\": 19.0}, {\"STATE\": \"Kelantan\", \"RESIDENTAL_AREA\": \"TAMAN PAYA PURNAMA\", \"DISTRICT\": \"KOTA BHARU\", \"NUMBER_OF_HOUSES\": 7.0}, {\"STATE\": \"Kelantan\", \"RESIDENTAL_AREA\": \"TAMAN GURU EHSAN\", \"DISTRICT\": \"KOTA BHARU\", \"NUMBER_OF_HOUSES\": 23.0}, {\"STATE\": \"Kelantan\", \"RESIDENTAL_AREA\": \"TAMAN SRI BAYAM\", \"DISTRICT\": \"KOTA BHARU\", \"NUMBER_OF_HOUSES\": 17.0}, {\"STATE\": \"Kelantan\", \"RESIDENTAL_AREA\": \"TAMAN HILAL\", \"DISTRICT\": \"KOTA BHARU\", \"NUMBER_OF_HOUSES\": 5.0}, {\"STATE\": \"Kelantan\", \"RESIDENTAL_AREA\": \"TAMAN NOR MANSOR\", \"DISTRICT\": \"KOTA BHARU\", \"NUMBER_OF_HOUSES\": 2.0}, {\"STATE\": \"Kelantan\", \"RESIDENTAL_AREA\": \"TAMAN MAJU\", \"DISTRICT\": \"KOTA BHARU\", \"NUMBER_OF_HOUSES\": 106.0}, {\"STATE\": \"Kelantan\", \"RESIDENTAL_AREA\": \"TAMAN DUSUN JAYA\", \"DISTRICT\": \"KOTA BHARU\", \"NUMBER_OF_HOUSES\": 1.0}, {\"STATE\": \"Kelantan\", \"RESIDENTAL_AREA\": \"TAMAN BAHAGIA\", \"DISTRICT\": \"KOTA BHARU\", \"NUMBER_OF_HOUSES\": 202.0}, {\"STATE\": \"Kelantan\", \"RESIDENTAL_AREA\": \"TAMAN DESA JAYA\", \"DISTRICT\": \"KOTA BHARU\", \"NUMBER_OF_HOUSES\": 91.0}, {\"STATE\": \"Kelantan\", \"RESIDENTAL_AREA\": \"TAMAN TANJUNG CHAT\", \"DISTRICT\": \"KOTA BHARU\", \"NUMBER_OF_HOUSES\": 422.0}, {\"STATE\": \"Kelantan\", \"RESIDENTAL_AREA\": \"TAMAN TENGKU AHMAD PANGLIMA\", \"DISTRICT\": \"KOTA BHARU\", \"NUMBER_OF_HOUSES\": 174.0}, {\"STATE\": \"Kelantan\", \"RESIDENTAL_AREA\": \"TAMAN TG. AHMAD PANGLIMA\", \"DISTRICT\": \"KOTA BHARU\", \"NUMBER_OF_HOUSES\": 229.0}, {\"STATE\": \"Kelantan\", \"RESIDENTAL_AREA\": \"TAMAN CINTA\", \"DISTRICT\": \"KOTA BHARU\", \"NUMBER_OF_HOUSES\": 101.0}, {\"STATE\": \"Kelantan\", \"RESIDENTAL_AREA\": \"TAMAN SRI ZASNA\", \"DISTRICT\": \"KOTA BHARU\", \"NUMBER_OF_HOUSES\": 39.0}, {\"STATE\": \"Kelantan\", \"RESIDENTAL_AREA\": \"TAMAN BAKTI\", \"DISTRICT\": \"KOTA BHARU\", \"NUMBER_OF_HOUSES\": 97.0}, {\"STATE\": \"Kelantan\", \"RESIDENTAL_AREA\": \"TAMAN BUMI\", \"DISTRICT\": \"KOTA BHARU\", \"NUMBER_OF_HOUSES\": 31.0}, {\"STATE\": \"Kelantan\", \"RESIDENTAL_AREA\": \"TAMAN HAJI MAT\", \"DISTRICT\": \"KOTA BHARU\", \"NUMBER_OF_HOUSES\": 16.0}, {\"STATE\": \"Kelantan\", \"RESIDENTAL_AREA\": \"TAMAN IDAMAN\", \"DISTRICT\": \"KOTA BHARU\", \"NUMBER_OF_HOUSES\": 15.0}, {\"STATE\": \"Kelantan\", \"RESIDENTAL_AREA\": \"TAMAN MASRUL\", \"DISTRICT\": \"KOTA BHARU\", \"NUMBER_OF_HOUSES\": 51.0}, {\"STATE\": \"Kelantan\", \"RESIDENTAL_AREA\": \"TAMAN MESRA\", \"DISTRICT\": \"KOTA BHARU\", \"NUMBER_OF_HOUSES\": 106.0}, {\"STATE\": \"Kelantan\", \"RESIDENTAL_AREA\": \"TAMAN NIK\", \"DISTRICT\": \"KOTA BHARU\", \"NUMBER_OF_HOUSES\": 21.0}, {\"STATE\": \"Kelantan\", \"RESIDENTAL_AREA\": \"TAMAN SANI\", \"DISTRICT\": \"KOTA BHARU\", \"NUMBER_OF_HOUSES\": 3.0}, {\"STATE\": \"Kelantan\", \"RESIDENTAL_AREA\": \"TAMAN SERI CHEKOK\", \"DISTRICT\": \"KOTA BHARU\", \"NUMBER_OF_HOUSES\": 16.0}, {\"STATE\": \"Kelantan\", \"RESIDENTAL_AREA\": \"TAMAN SRI BAUNG\", \"DISTRICT\": \"KOTA BHARU\", \"NUMBER_OF_HOUSES\": 76.0}, {\"STATE\": \"Kelantan\", \"RESIDENTAL_AREA\": \"TAMAN BENDAHARA\", \"DISTRICT\": \"KOTA BHARU\", \"NUMBER_OF_HOUSES\": 113.0}, {\"STATE\": \"Kelantan\", \"RESIDENTAL_AREA\": \"TAMAN DESA MURNI\", \"DISTRICT\": \"KOTA BHARU\", \"NUMBER_OF_HOUSES\": 3.0}, {\"STATE\": \"Kelantan\", \"RESIDENTAL_AREA\": \"TAMAN MELAWI\", \"DISTRICT\": \"KOTA BHARU\", \"NUMBER_OF_HOUSES\": 32.0}, {\"STATE\": \"Kelantan\", \"RESIDENTAL_AREA\": \"TAMAN PERINDU\", \"DISTRICT\": \"KOTA BHARU\", \"NUMBER_OF_HOUSES\": 90.0}, {\"STATE\": \"Kelantan\", \"RESIDENTAL_AREA\": \"TAMAN SABARIAH\", \"DISTRICT\": \"KOTA BHARU\", \"NUMBER_OF_HOUSES\": 85.0}, {\"STATE\": \"Kelantan\", \"RESIDENTAL_AREA\": \"TAMAN SRI BAUNG\", \"DISTRICT\": \"KOTA BHARU\", \"NUMBER_OF_HOUSES\": 88.0}, {\"STATE\": \"Kelantan\", \"RESIDENTAL_AREA\": \"TAMAN UDA MURNI\", \"DISTRICT\": \"KOTA BHARU\", \"NUMBER_OF_HOUSES\": 496.0}, {\"STATE\": \"Kelantan\", \"RESIDENTAL_AREA\": \"TAMAN SRI AYU\", \"DISTRICT\": \"KOTA BHARU\", \"NUMBER_OF_HOUSES\": 20.0}, {\"STATE\": \"Kelantan\", \"RESIDENTAL_AREA\": \"TAMAN SERI CHEKOK\", \"DISTRICT\": \"KOTA BHARU\", \"NUMBER_OF_HOUSES\": 48.0}, {\"STATE\": \"Kelantan\", \"RESIDENTAL_AREA\": \"TAMAN SERI MUTIARA\", \"DISTRICT\": \"KOTA BHARU\", \"NUMBER_OF_HOUSES\": 33.0}, {\"STATE\": \"Kelantan\", \"RESIDENTAL_AREA\": \"TAMAN IMPIAN\", \"DISTRICT\": \"KOTA BHARU\", \"NUMBER_OF_HOUSES\": 1.0}, {\"STATE\": \"Kelantan\", \"RESIDENTAL_AREA\": \"TAMAN KURNIA JAYA\", \"DISTRICT\": \"KOTA BHARU\", \"NUMBER_OF_HOUSES\": 312.0}, {\"STATE\": \"Kelantan\", \"RESIDENTAL_AREA\": \"TAMAN KURNIA\", \"DISTRICT\": \"KOTA BHARU\", \"NUMBER_OF_HOUSES\": 19.0}, {\"STATE\": \"Kelantan\", \"RESIDENTAL_AREA\": \"TAMAN MAKTAB PENGKALAN CHEPA\", \"DISTRICT\": \"KOTA BHARU\", \"NUMBER_OF_HOUSES\": 91.0}, {\"STATE\": \"Kelantan\", \"RESIDENTAL_AREA\": \"TAMAN NURI\", \"DISTRICT\": \"KOTA BHARU\", \"NUMBER_OF_HOUSES\": 40.0}, {\"STATE\": \"Kelantan\", \"RESIDENTAL_AREA\": \"TAMAN PADANG GOLF\", \"DISTRICT\": \"KOTA BHARU\", \"NUMBER_OF_HOUSES\": 54.0}, {\"STATE\": \"Kelantan\", \"RESIDENTAL_AREA\": \"TAMAN PADANG TEMBAK\", \"DISTRICT\": \"KOTA BHARU\", \"NUMBER_OF_HOUSES\": 1.0}, {\"STATE\": \"Kelantan\", \"RESIDENTAL_AREA\": \"TAMAN DESA PINGGIRAN GOLF\", \"DISTRICT\": \"KOTA BHARU\", \"NUMBER_OF_HOUSES\": 49.0}, {\"STATE\": \"Kelantan\", \"RESIDENTAL_AREA\": \"TAMAN KURNIA JAYA\", \"DISTRICT\": \"KOTA BHARU\", \"NUMBER_OF_HOUSES\": 482.0}, {\"STATE\": \"Kelantan\", \"RESIDENTAL_AREA\": \"TAMAN SERI CHEKOK\", \"DISTRICT\": \"KOTA BHARU\", \"NUMBER_OF_HOUSES\": 41.0}, {\"STATE\": \"Kelantan\", \"RESIDENTAL_AREA\": \"TAMAN SERI TAMBAHAN\", \"DISTRICT\": \"KOTA BHARU\", \"NUMBER_OF_HOUSES\": 2.0}, {\"STATE\": \"Kelantan\", \"RESIDENTAL_AREA\": \"TAMAN SERI\", \"DISTRICT\": \"KOTA BHARU\", \"NUMBER_OF_HOUSES\": 219.0}, {\"STATE\": \"Kelantan\", \"RESIDENTAL_AREA\": \"TAMAN TROPIKA IMPIAN\", \"DISTRICT\": \"KOTA BHARU\", \"NUMBER_OF_HOUSES\": 5.0}, {\"STATE\": \"Kelantan\", \"RESIDENTAL_AREA\": \"TAMAN CIK SITI WAN KEMBANG\", \"DISTRICT\": \"KOTA BHARU\", \"NUMBER_OF_HOUSES\": 52.0}, {\"STATE\": \"Kelantan\", \"RESIDENTAL_AREA\": \"TAMAN DESA KEMUMIN FASA 3B\", \"DISTRICT\": \"KOTA BHARU\", \"NUMBER_OF_HOUSES\": 107.0}, {\"STATE\": \"Kelantan\", \"RESIDENTAL_AREA\": \"TAMAN DESA KEMUMIN II\", \"DISTRICT\": \"KOTA BHARU\", \"NUMBER_OF_HOUSES\": 138.0}, {\"STATE\": \"Kelantan\", \"RESIDENTAL_AREA\": \"TAMAN DESA KEMUMIN\", \"DISTRICT\": \"KOTA BHARU\", \"NUMBER_OF_HOUSES\": 802.0}, {\"STATE\": \"Kelantan\", \"RESIDENTAL_AREA\": \"TAMAN FAMILY\", \"DISTRICT\": \"KOTA BHARU\", \"NUMBER_OF_HOUSES\": 2.0}, {\"STATE\": \"Kelantan\", \"RESIDENTAL_AREA\": \"TAMAN GURU\", \"DISTRICT\": \"KOTA BHARU\", \"NUMBER_OF_HOUSES\": 18.0}, {\"STATE\": \"Kelantan\", \"RESIDENTAL_AREA\": \"TAMAN HUSRAH\", \"DISTRICT\": \"KOTA BHARU\", \"NUMBER_OF_HOUSES\": 25.0}, {\"STATE\": \"Kelantan\", \"RESIDENTAL_AREA\": \"TAMAN IDAMAN\", \"DISTRICT\": \"KOTA BHARU\", \"NUMBER_OF_HOUSES\": 11.0}, {\"STATE\": \"Kelantan\", \"RESIDENTAL_AREA\": \"TAMAN IKHWAN\", \"DISTRICT\": \"KOTA BHARU\", \"NUMBER_OF_HOUSES\": 36.0}, {\"STATE\": \"Kelantan\", \"RESIDENTAL_AREA\": \"TAMAN INDAH\", \"DISTRICT\": \"KOTA BHARU\", \"NUMBER_OF_HOUSES\": 31.0}, {\"STATE\": \"Kelantan\", \"RESIDENTAL_AREA\": \"TAMAN KOPERASI PKINK\", \"DISTRICT\": \"KOTA BHARU\", \"NUMBER_OF_HOUSES\": 7.0}, {\"STATE\": \"Kelantan\", \"RESIDENTAL_AREA\": \"TAMAN KOPERASI\", \"DISTRICT\": \"KOTA BHARU\", \"NUMBER_OF_HOUSES\": 11.0}, {\"STATE\": \"Kelantan\", \"RESIDENTAL_AREA\": \"TAMAN MURNI\", \"DISTRICT\": \"KOTA BHARU\", \"NUMBER_OF_HOUSES\": 32.0}, {\"STATE\": \"Kelantan\", \"RESIDENTAL_AREA\": \"TAMAN MURNI\", \"DISTRICT\": \"KOTA BHARU\", \"NUMBER_OF_HOUSES\": 32.0}, {\"STATE\": \"Kelantan\", \"RESIDENTAL_AREA\": \"TAMAN NESCAYAN\", \"DISTRICT\": \"KOTA BHARU\", \"NUMBER_OF_HOUSES\": 21.0}, {\"STATE\": \"Kelantan\", \"RESIDENTAL_AREA\": \"TAMAN NORISWATI\", \"DISTRICT\": \"KOTA BHARU\", \"NUMBER_OF_HOUSES\": 46.0}, {\"STATE\": \"Kelantan\", \"RESIDENTAL_AREA\": \"TAMAN PANCHOR SETIA\", \"DISTRICT\": \"KOTA BHARU\", \"NUMBER_OF_HOUSES\": 139.0}, {\"STATE\": \"Kelantan\", \"RESIDENTAL_AREA\": \"TAMAN PERUMAHAN SEDC\", \"DISTRICT\": \"KOTA BHARU\", \"NUMBER_OF_HOUSES\": 200.0}, {\"STATE\": \"Kelantan\", \"RESIDENTAL_AREA\": \"TAMAN SRI PANJI\", \"DISTRICT\": \"KOTA BHARU\", \"NUMBER_OF_HOUSES\": 1.0}, {\"STATE\": \"Kelantan\", \"RESIDENTAL_AREA\": \"TAMAN SRI PURNAMA\", \"DISTRICT\": \"KOTA BHARU\", \"NUMBER_OF_HOUSES\": 92.0}, {\"STATE\": \"Kelantan\", \"RESIDENTAL_AREA\": \"TAMAN SRI SETIA\", \"DISTRICT\": \"KOTA BHARU\", \"NUMBER_OF_HOUSES\": 93.0}, {\"STATE\": \"Kelantan\", \"RESIDENTAL_AREA\": \"TAMAN TITIWANGSA\", \"DISTRICT\": \"KOTA BHARU\", \"NUMBER_OF_HOUSES\": 20.0}, {\"STATE\": \"Kelantan\", \"RESIDENTAL_AREA\": \"TAMAN DESA ORKID\", \"DISTRICT\": \"KOTA BHARU\", \"NUMBER_OF_HOUSES\": 86.0}, {\"STATE\": \"Kelantan\", \"RESIDENTAL_AREA\": \"TAMAN SRI ORKID\", \"DISTRICT\": \"KOTA BHARU\", \"NUMBER_OF_HOUSES\": 3.0}, {\"STATE\": \"Kelantan\", \"RESIDENTAL_AREA\": \"TAMAN PROFIL IMPIAN II\", \"DISTRICT\": \"KOTA BHARU\", \"NUMBER_OF_HOUSES\": 33.0}, {\"STATE\": \"Kelantan\", \"RESIDENTAL_AREA\": \"TAMAN DELIMA\", \"DISTRICT\": \"KOTA BHARU\", \"NUMBER_OF_HOUSES\": 24.0}, {\"STATE\": \"Kelantan\", \"RESIDENTAL_AREA\": \"TAMAN PINGGIRAN PANCHOR SBJ\", \"DISTRICT\": \"KOTA BHARU\", \"NUMBER_OF_HOUSES\": 19.0}, {\"STATE\": \"Kelantan\", \"RESIDENTAL_AREA\": \"TAMAN DESA AN-NUR\", \"DISTRICT\": \"KOTA BHARU\", \"NUMBER_OF_HOUSES\": 207.0}, {\"STATE\": \"Kelantan\", \"RESIDENTAL_AREA\": \"TAMAN DESA KUJID\", \"DISTRICT\": \"KOTA BHARU\", \"NUMBER_OF_HOUSES\": 725.0}, {\"STATE\": \"Kelantan\", \"RESIDENTAL_AREA\": \"TAMAN HARMONI\", \"DISTRICT\": \"KOTA BHARU\", \"NUMBER_OF_HOUSES\": 96.0}, {\"STATE\": \"Kelantan\", \"RESIDENTAL_AREA\": \"TAMAN KEMAHIRAN\", \"DISTRICT\": \"KOTA BHARU\", \"NUMBER_OF_HOUSES\": 80.0}, {\"STATE\": \"Kelantan\", \"RESIDENTAL_AREA\": \"TAMAN SRI PANJI\", \"DISTRICT\": \"KOTA BHARU\", \"NUMBER_OF_HOUSES\": 89.0}, {\"STATE\": \"Kelantan\", \"RESIDENTAL_AREA\": \"TAMAN TELOK PANJI\", \"DISTRICT\": \"KOTA BHARU\", \"NUMBER_OF_HOUSES\": 52.0}, {\"STATE\": \"Kelantan\", \"RESIDENTAL_AREA\": \"TAMAN TELOK PERDANA\", \"DISTRICT\": \"KOTA BHARU\", \"NUMBER_OF_HOUSES\": 166.0}, {\"STATE\": \"Kelantan\", \"RESIDENTAL_AREA\": \"TAMAN SRI IMAN\", \"DISTRICT\": \"KOTA BHARU\", \"NUMBER_OF_HOUSES\": 187.0}, {\"STATE\": \"Kelantan\", \"RESIDENTAL_AREA\": \"TAMAN MAS KIARA\", \"DISTRICT\": \"KOTA BHARU\", \"NUMBER_OF_HOUSES\": 52.0}, {\"STATE\": \"Kelantan\", \"RESIDENTAL_AREA\": \"TAMAN SERI CHENDANA\", \"DISTRICT\": \"KOTA BHARU\", \"NUMBER_OF_HOUSES\": 1.0}, {\"STATE\": \"Kelantan\", \"RESIDENTAL_AREA\": \"TAMAN FIRDAUS SBJ\", \"DISTRICT\": \"KOTA BHARU\", \"NUMBER_OF_HOUSES\": 154.0}, {\"STATE\": \"Kelantan\", \"RESIDENTAL_AREA\": \"TAMAN FIRDAUS SBJ FASA II\", \"DISTRICT\": \"KOTA BHARU\", \"NUMBER_OF_HOUSES\": 45.0}, {\"STATE\": \"Kelantan\", \"RESIDENTAL_AREA\": \"TAMAN FAMILY\", \"DISTRICT\": \"KOTA BHARU\", \"NUMBER_OF_HOUSES\": 4.0}, {\"STATE\": \"Kelantan\", \"RESIDENTAL_AREA\": \"TAMAN ANJARIA\", \"DISTRICT\": \"KOTA BHARU\", \"NUMBER_OF_HOUSES\": 28.0}, {\"STATE\": \"Kelantan\", \"RESIDENTAL_AREA\": \"TAMAN AZAM\", \"DISTRICT\": \"KOTA BHARU\", \"NUMBER_OF_HOUSES\": 27.0}, {\"STATE\": \"Kelantan\", \"RESIDENTAL_AREA\": \"TAMAN AZAM\", \"DISTRICT\": \"KOTA BHARU\", \"NUMBER_OF_HOUSES\": 27.0}, {\"STATE\": \"Kelantan\", \"RESIDENTAL_AREA\": \"TAMAN ISHAK LOTFI\", \"DISTRICT\": \"KOTA BHARU\", \"NUMBER_OF_HOUSES\": 11.0}, {\"STATE\": \"Kelantan\", \"RESIDENTAL_AREA\": \"TAMAN KENANGAN\", \"DISTRICT\": \"KOTA BHARU\", \"NUMBER_OF_HOUSES\": 136.0}, {\"STATE\": \"Kelantan\", \"RESIDENTAL_AREA\": \"TAMAN KHADIJAH\", \"DISTRICT\": \"KOTA BHARU\", \"NUMBER_OF_HOUSES\": 8.0}, {\"STATE\": \"Kelantan\", \"RESIDENTAL_AREA\": \"TAMAN MUAFAKAT\", \"DISTRICT\": \"KOTA BHARU\", \"NUMBER_OF_HOUSES\": 21.0}, {\"STATE\": \"Kelantan\", \"RESIDENTAL_AREA\": \"TAMAN MURNI\", \"DISTRICT\": \"KOTA BHARU\", \"NUMBER_OF_HOUSES\": 25.0}, {\"STATE\": \"Kelantan\", \"RESIDENTAL_AREA\": \"TAMAN PERADANG\", \"DISTRICT\": \"KOTA BHARU\", \"NUMBER_OF_HOUSES\": 42.0}, {\"STATE\": \"Kelantan\", \"RESIDENTAL_AREA\": \"TAMAN ROGAYAH\", \"DISTRICT\": \"KOTA BHARU\", \"NUMBER_OF_HOUSES\": 31.0}, {\"STATE\": \"Kelantan\", \"RESIDENTAL_AREA\": \"TAMAN SARI\", \"DISTRICT\": \"KOTA BHARU\", \"NUMBER_OF_HOUSES\": 76.0}, {\"STATE\": \"Kelantan\", \"RESIDENTAL_AREA\": \"TAMAN TANJUNG MAS\", \"DISTRICT\": \"KOTA BHARU\", \"NUMBER_OF_HOUSES\": 95.0}, {\"STATE\": \"Kelantan\", \"RESIDENTAL_AREA\": \"TAMAN YEAP PECK KHIM\", \"DISTRICT\": \"KOTA BHARU\", \"NUMBER_OF_HOUSES\": 207.0}, {\"STATE\": \"Kelantan\", \"RESIDENTAL_AREA\": \"TAMAN ANG BENG KOOI\", \"DISTRICT\": \"KOTA BHARU\", \"NUMBER_OF_HOUSES\": 67.0}, {\"STATE\": \"Kelantan\", \"RESIDENTAL_AREA\": \"TAMAN KOPERATIF\", \"DISTRICT\": \"KOTA BHARU\", \"NUMBER_OF_HOUSES\": 122.0}, {\"STATE\": \"Kelantan\", \"RESIDENTAL_AREA\": \"TAMAN KOPERATIF\", \"DISTRICT\": \"KOTA BHARU\", \"NUMBER_OF_HOUSES\": 122.0}, {\"STATE\": \"Kelantan\", \"RESIDENTAL_AREA\": \"TAMAN SRI TANJUNG\", \"DISTRICT\": \"KOTA BHARU\", \"NUMBER_OF_HOUSES\": 44.0}, {\"STATE\": \"Kelantan\", \"RESIDENTAL_AREA\": \"TAMAN ASAS\", \"DISTRICT\": \"KOTA BHARU\", \"NUMBER_OF_HOUSES\": 14.0}, {\"STATE\": \"Kelantan\", \"RESIDENTAL_AREA\": \"TAMAN MAJU\", \"DISTRICT\": \"KOTA BHARU\", \"NUMBER_OF_HOUSES\": 3.0}, {\"STATE\": \"Kelantan\", \"RESIDENTAL_AREA\": \"TAMAN SARI\", \"DISTRICT\": \"KOTA BHARU\", \"NUMBER_OF_HOUSES\": 54.0}, {\"STATE\": \"Kelantan\", \"RESIDENTAL_AREA\": \"TAMAN SRI RAMBAI\", \"DISTRICT\": \"KOTA BHARU\", \"NUMBER_OF_HOUSES\": 4.0}, {\"STATE\": \"Kelantan\", \"RESIDENTAL_AREA\": \"TAMAN BENTARA KIRI\", \"DISTRICT\": \"KOTA BHARU\", \"NUMBER_OF_HOUSES\": 31.0}, {\"STATE\": \"Kelantan\", \"RESIDENTAL_AREA\": \"TAMAN DESA RAHMAT\", \"DISTRICT\": \"KOTA BHARU\", \"NUMBER_OF_HOUSES\": 380.0}, {\"STATE\": \"Kelantan\", \"RESIDENTAL_AREA\": \"TAMAN DESA RAHMAT\", \"DISTRICT\": \"KOTA BHARU\", \"NUMBER_OF_HOUSES\": 380.0}, {\"STATE\": \"Kelantan\", \"RESIDENTAL_AREA\": \"TAMAN HARIAN\", \"DISTRICT\": \"KOTA BHARU\", \"NUMBER_OF_HOUSES\": 44.0}, {\"STATE\": \"Kelantan\", \"RESIDENTAL_AREA\": \"TAMAN PERMAI\", \"DISTRICT\": \"KOTA BHARU\", \"NUMBER_OF_HOUSES\": 18.0}, {\"STATE\": \"Kelantan\", \"RESIDENTAL_AREA\": \"TAMAN SRI PAUH\", \"DISTRICT\": \"KOTA BHARU\", \"NUMBER_OF_HOUSES\": 10.0}, {\"STATE\": \"Kelantan\", \"RESIDENTAL_AREA\": \"TAMAN KOPERASI SEDC\", \"DISTRICT\": \"KOTA BHARU\", \"NUMBER_OF_HOUSES\": 12.0}, {\"STATE\": \"Kelantan\", \"RESIDENTAL_AREA\": \"TAMAN BAYAM BARU\", \"DISTRICT\": \"KOTA BHARU\", \"NUMBER_OF_HOUSES\": 34.0}, {\"STATE\": \"Kelantan\", \"RESIDENTAL_AREA\": \"TAMAN HIDAYAH\", \"DISTRICT\": \"KOTA BHARU\", \"NUMBER_OF_HOUSES\": 14.0}, {\"STATE\": \"Kelantan\", \"RESIDENTAL_AREA\": \"TAMAN TELOK BHARU\", \"DISTRICT\": \"KOTA BHARU\", \"NUMBER_OF_HOUSES\": 46.0}, {\"STATE\": \"Kelantan\", \"RESIDENTAL_AREA\": \"TAMAN GUCHIL BARU\", \"DISTRICT\": \"KOTA BHARU\", \"NUMBER_OF_HOUSES\": 4.0}, {\"STATE\": \"Kelantan\", \"RESIDENTAL_AREA\": \"TAMAN BAYU\", \"DISTRICT\": \"KOTA BHARU\", \"NUMBER_OF_HOUSES\": 14.0}, {\"STATE\": \"Kelantan\", \"RESIDENTAL_AREA\": \"TAMAN NIRWANA\", \"DISTRICT\": \"KOTA BHARU\", \"NUMBER_OF_HOUSES\": 1.0}, {\"STATE\": \"Kelantan\", \"RESIDENTAL_AREA\": \"TAMAN NORWINA\", \"DISTRICT\": \"KOTA BHARU\", \"NUMBER_OF_HOUSES\": 11.0}, {\"STATE\": \"Kelantan\", \"RESIDENTAL_AREA\": \"TAMAN PERUMAHAN DEMIT\", \"DISTRICT\": \"KOTA BHARU\", \"NUMBER_OF_HOUSES\": 30.0}, {\"STATE\": \"Kelantan\", \"RESIDENTAL_AREA\": \"TAMAN SERI DEMIT\", \"DISTRICT\": \"KOTA BHARU\", \"NUMBER_OF_HOUSES\": 10.0}, {\"STATE\": \"Kelantan\", \"RESIDENTAL_AREA\": \"TAMAN ADIKA\", \"DISTRICT\": \"KOTA BHARU\", \"NUMBER_OF_HOUSES\": 8.0}, {\"STATE\": \"Kelantan\", \"RESIDENTAL_AREA\": \"TAMAN AL-QARI\", \"DISTRICT\": \"KOTA BHARU\", \"NUMBER_OF_HOUSES\": 20.0}, {\"STATE\": \"Kelantan\", \"RESIDENTAL_AREA\": \"TAMAN AL-QARI\", \"DISTRICT\": \"KOTA BHARU\", \"NUMBER_OF_HOUSES\": 20.0}, {\"STATE\": \"Kelantan\", \"RESIDENTAL_AREA\": \"TAMAN BUDI\", \"DISTRICT\": \"KOTA BHARU\", \"NUMBER_OF_HOUSES\": 34.0}, {\"STATE\": \"Kelantan\", \"RESIDENTAL_AREA\": \"TAMAN DESA HIDAYAH\", \"DISTRICT\": \"KOTA BHARU\", \"NUMBER_OF_HOUSES\": 26.0}, {\"STATE\": \"Kelantan\", \"RESIDENTAL_AREA\": \"TAMAN DESA HIDAYAH\", \"DISTRICT\": \"KOTA BHARU\", \"NUMBER_OF_HOUSES\": 26.0}, {\"STATE\": \"Kelantan\", \"RESIDENTAL_AREA\": \"TAMAN INTAN\", \"DISTRICT\": \"KOTA BHARU\", \"NUMBER_OF_HOUSES\": 17.0}, {\"STATE\": \"Kelantan\", \"RESIDENTAL_AREA\": \"TAMAN JAYA\", \"DISTRICT\": \"KOTA BHARU\", \"NUMBER_OF_HOUSES\": 5.0}, {\"STATE\": \"Kelantan\", \"RESIDENTAL_AREA\": \"TAMAN KENALI\", \"DISTRICT\": \"KOTA BHARU\", \"NUMBER_OF_HOUSES\": 11.0}, {\"STATE\": \"Kelantan\", \"RESIDENTAL_AREA\": \"TAMAN KOTA JAYA\", \"DISTRICT\": \"KOTA BHARU\", \"NUMBER_OF_HOUSES\": 10.0}, {\"STATE\": \"Kelantan\", \"RESIDENTAL_AREA\": \"TAMAN PULONG\", \"DISTRICT\": \"KOTA BHARU\", \"NUMBER_OF_HOUSES\": 37.0}, {\"STATE\": \"Kelantan\", \"RESIDENTAL_AREA\": \"TAMAN PULONG\", \"DISTRICT\": \"KOTA BHARU\", \"NUMBER_OF_HOUSES\": 37.0}, {\"STATE\": \"Kelantan\", \"RESIDENTAL_AREA\": \"TAMAN PUTEH\", \"DISTRICT\": \"KOTA BHARU\", \"NUMBER_OF_HOUSES\": 49.0}, {\"STATE\": \"Kelantan\", \"RESIDENTAL_AREA\": \"TAMAN PUTERI\", \"DISTRICT\": \"KOTA BHARU\", \"NUMBER_OF_HOUSES\": 1.0}, {\"STATE\": \"Kelantan\", \"RESIDENTAL_AREA\": \"TAMAN RAKYAT\", \"DISTRICT\": \"KOTA BHARU\", \"NUMBER_OF_HOUSES\": 53.0}, {\"STATE\": \"Kelantan\", \"RESIDENTAL_AREA\": \"TAMAN SENI\", \"DISTRICT\": \"KOTA BHARU\", \"NUMBER_OF_HOUSES\": 11.0}, {\"STATE\": \"Kelantan\", \"RESIDENTAL_AREA\": \"TAMAN SETIA JAYA\", \"DISTRICT\": \"KOTA BHARU\", \"NUMBER_OF_HOUSES\": 10.0}, {\"STATE\": \"Kelantan\", \"RESIDENTAL_AREA\": \"TAMAN SETIA JAYA\", \"DISTRICT\": \"KOTA BHARU\", \"NUMBER_OF_HOUSES\": 10.0}, {\"STATE\": \"Kelantan\", \"RESIDENTAL_AREA\": \"TAMAN SRI AMAN\", \"DISTRICT\": \"KOTA BHARU\", \"NUMBER_OF_HOUSES\": 22.0}, {\"STATE\": \"Kelantan\", \"RESIDENTAL_AREA\": \"TAMAN SRI BUNUT\", \"DISTRICT\": \"KOTA BHARU\", \"NUMBER_OF_HOUSES\": 43.0}, {\"STATE\": \"Kelantan\", \"RESIDENTAL_AREA\": \"TAMAN SITI WAN KEMBANG\", \"DISTRICT\": \"KOTA BHARU\", \"NUMBER_OF_HOUSES\": 28.0}, {\"STATE\": \"Kelantan\", \"RESIDENTAL_AREA\": \"TAMAN WAKAF STAN\", \"DISTRICT\": \"KOTA BHARU\", \"NUMBER_OF_HOUSES\": 2.0}, {\"STATE\": \"Kelantan\", \"RESIDENTAL_AREA\": \"TAMAN SRI PULAU\", \"DISTRICT\": \"KOTA BHARU\", \"NUMBER_OF_HOUSES\": 50.0}, {\"STATE\": \"Kelantan\", \"RESIDENTAL_AREA\": \"TAMAN MINI\", \"DISTRICT\": \"KOTA BHARU\", \"NUMBER_OF_HOUSES\": 2.0}, {\"STATE\": \"Kelantan\", \"RESIDENTAL_AREA\": \"TAMAN PADUKA\", \"DISTRICT\": \"KOTA BHARU\", \"NUMBER_OF_HOUSES\": 45.0}, {\"STATE\": \"Kelantan\", \"RESIDENTAL_AREA\": \"TAMAN PEMUDA\", \"DISTRICT\": \"KOTA BHARU\", \"NUMBER_OF_HOUSES\": 144.0}, {\"STATE\": \"Kelantan\", \"RESIDENTAL_AREA\": \"TAMAN WAKAF STAN\", \"DISTRICT\": \"KOTA BHARU\", \"NUMBER_OF_HOUSES\": 45.0}, {\"STATE\": \"Kelantan\", \"RESIDENTAL_AREA\": \"TAMAN AL-MAKMUR\", \"DISTRICT\": \"KOTA BHARU\", \"NUMBER_OF_HOUSES\": 57.0}, {\"STATE\": \"Kelantan\", \"RESIDENTAL_AREA\": \"TAMAN MAKMUR\", \"DISTRICT\": \"KOTA BHARU\", \"NUMBER_OF_HOUSES\": 57.0}, {\"STATE\": \"Kelantan\", \"RESIDENTAL_AREA\": \"TAMAN MEK TIT\", \"DISTRICT\": \"KOTA BHARU\", \"NUMBER_OF_HOUSES\": 1.0}, {\"STATE\": \"Kelantan\", \"RESIDENTAL_AREA\": \"TAMAN SEDC CHICHA\", \"DISTRICT\": \"KOTA BHARU\", \"NUMBER_OF_HOUSES\": 47.0}, {\"STATE\": \"Kelantan\", \"RESIDENTAL_AREA\": \"TAMAN SRI AMAN\", \"DISTRICT\": \"KOTA BHARU\", \"NUMBER_OF_HOUSES\": 9.0}, {\"STATE\": \"Kelantan\", \"RESIDENTAL_AREA\": \"TAMAN SRI MAWAR\", \"DISTRICT\": \"KOTA BHARU\", \"NUMBER_OF_HOUSES\": 86.0}, {\"STATE\": \"Kelantan\", \"RESIDENTAL_AREA\": \"TAMAN KUB PERDANA\", \"DISTRICT\": \"KOTA BHARU\", \"NUMBER_OF_HOUSES\": 8.0}, {\"STATE\": \"Kelantan\", \"RESIDENTAL_AREA\": \"TAMAN AL-MUTTAQIN\", \"DISTRICT\": \"KOTA BHARU\", \"NUMBER_OF_HOUSES\": 43.0}, {\"STATE\": \"Kelantan\", \"RESIDENTAL_AREA\": \"TAMAN AMAN II\", \"DISTRICT\": \"KOTA BHARU\", \"NUMBER_OF_HOUSES\": 21.0}, {\"STATE\": \"Kelantan\", \"RESIDENTAL_AREA\": \"TAMAN MELATI KG. LUNDANG\", \"DISTRICT\": \"KOTA BHARU\", \"NUMBER_OF_HOUSES\": 12.0}, {\"STATE\": \"Kelantan\", \"RESIDENTAL_AREA\": \"TAMAN NIK RAHMAH\", \"DISTRICT\": \"KOTA BHARU\", \"NUMBER_OF_HOUSES\": 10.0}, {\"STATE\": \"Kelantan\", \"RESIDENTAL_AREA\": \"TAMAN RESTU\", \"DISTRICT\": \"KOTA BHARU\", \"NUMBER_OF_HOUSES\": 103.0}, {\"STATE\": \"Kelantan\", \"RESIDENTAL_AREA\": \"TAMAN DAMAI PERDANA\", \"DISTRICT\": \"KOTA BHARU\", \"NUMBER_OF_HOUSES\": 81.0}, {\"STATE\": \"Kelantan\", \"RESIDENTAL_AREA\": \"TAMAN GURU\", \"DISTRICT\": \"KOTA BHARU\", \"NUMBER_OF_HOUSES\": 172.0}, {\"STATE\": \"Kelantan\", \"RESIDENTAL_AREA\": \"TAMAN BINARAYA\", \"DISTRICT\": \"KOTA BHARU\", \"NUMBER_OF_HOUSES\": 198.0}, {\"STATE\": \"Kelantan\", \"RESIDENTAL_AREA\": \"TAMAN BINARAYA 3\", \"DISTRICT\": \"KOTA BHARU\", \"NUMBER_OF_HOUSES\": 22.0}, {\"STATE\": \"Kelantan\", \"RESIDENTAL_AREA\": \"TAMAN DESA DARUL NAIM\", \"DISTRICT\": \"KOTA BHARU\", \"NUMBER_OF_HOUSES\": 616.0}, {\"STATE\": \"Kelantan\", \"RESIDENTAL_AREA\": \"TAMAN IMPIAN\", \"DISTRICT\": \"KOTA BHARU\", \"NUMBER_OF_HOUSES\": 22.0}, {\"STATE\": \"Kelantan\", \"RESIDENTAL_AREA\": \"TAMAN SERI KERANJI\", \"DISTRICT\": \"KOTA BHARU\", \"NUMBER_OF_HOUSES\": 42.0}, {\"STATE\": \"Kelantan\", \"RESIDENTAL_AREA\": \"TAMAN SRI GUNTONG\", \"DISTRICT\": \"KOTA BHARU\", \"NUMBER_OF_HOUSES\": 46.0}, {\"STATE\": \"Kelantan\", \"RESIDENTAL_AREA\": \"TAMAN DESA DARULNAIM ( 2 )\", \"DISTRICT\": \"KOTA BHARU\", \"NUMBER_OF_HOUSES\": 97.0}, {\"STATE\": \"Kelantan\", \"RESIDENTAL_AREA\": \"TAMAN DESA LONG GHAFAR\", \"DISTRICT\": \"KOTA BHARU\", \"NUMBER_OF_HOUSES\": 8.0}, {\"STATE\": \"Kelantan\", \"RESIDENTAL_AREA\": \"TAMAN MESRA GUNTONG\", \"DISTRICT\": \"KOTA BHARU\", \"NUMBER_OF_HOUSES\": 14.0}, {\"STATE\": \"Kelantan\", \"RESIDENTAL_AREA\": \"TAMAN RIYADUL ILMI\", \"DISTRICT\": \"JELI\", \"NUMBER_OF_HOUSES\": 74.0}, {\"STATE\": \"Kelantan\", \"RESIDENTAL_AREA\": \"TAMAN KIFAYAH\", \"DISTRICT\": \"JELI\", \"NUMBER_OF_HOUSES\": 200.0}, {\"STATE\": \"Kelantan\", \"RESIDENTAL_AREA\": \"TAMAN MUHIBBAH\", \"DISTRICT\": \"JELI\", \"NUMBER_OF_HOUSES\": 109.0}, {\"STATE\": \"Kelantan\", \"RESIDENTAL_AREA\": \"TAMAN PINGGIRAN INDAH\", \"DISTRICT\": \"JELI\", \"NUMBER_OF_HOUSES\": 95.0}, {\"STATE\": \"Kelantan\", \"RESIDENTAL_AREA\": \"TAMAN KASTURI\", \"DISTRICT\": \"TUMPAT\", \"NUMBER_OF_HOUSES\": 119.0}, {\"STATE\": \"Kelantan\", \"RESIDENTAL_AREA\": \"TAMAN ASPEK DELIMA 1\", \"DISTRICT\": \"TUMPAT\", \"NUMBER_OF_HOUSES\": 8.0}, {\"STATE\": \"Kelantan\", \"RESIDENTAL_AREA\": \"TAMAN SRI DELIMA\", \"DISTRICT\": \"TUMPAT\", \"NUMBER_OF_HOUSES\": 97.0}, {\"STATE\": \"Kelantan\", \"RESIDENTAL_AREA\": \"TAMAN WAKAF DELIMA\", \"DISTRICT\": \"TUMPAT\", \"NUMBER_OF_HOUSES\": 33.0}, {\"STATE\": \"Kelantan\", \"RESIDENTAL_AREA\": \"TAMAN MGA SRI DELIMA\", \"DISTRICT\": \"TUMPAT\", \"NUMBER_OF_HOUSES\": 6.0}, {\"STATE\": \"Kelantan\", \"RESIDENTAL_AREA\": \"TAMAN DLI\", \"DISTRICT\": \"TUMPAT\", \"NUMBER_OF_HOUSES\": 19.0}, {\"STATE\": \"Kelantan\", \"RESIDENTAL_AREA\": \"TAMAN LPT DESA DELIMA\", \"DISTRICT\": \"TUMPAT\", \"NUMBER_OF_HOUSES\": 8.0}, {\"STATE\": \"Kelantan\", \"RESIDENTAL_AREA\": \"TAMAN SRI KULIM\", \"DISTRICT\": \"TUMPAT\", \"NUMBER_OF_HOUSES\": 50.0}, {\"STATE\": \"Kelantan\", \"RESIDENTAL_AREA\": \"TAMAN ASPEK KULIM\", \"DISTRICT\": \"TUMPAT\", \"NUMBER_OF_HOUSES\": 19.0}, {\"STATE\": \"Kelantan\", \"RESIDENTAL_AREA\": \"TAMAN ALAM KULIM\", \"DISTRICT\": \"TUMPAT\", \"NUMBER_OF_HOUSES\": 12.0}, {\"STATE\": \"Kelantan\", \"RESIDENTAL_AREA\": \"PERUMAHAN KAMPUNG KULIM\", \"DISTRICT\": \"TUMPAT\", \"NUMBER_OF_HOUSES\": 21.0}, {\"STATE\": \"Kelantan\", \"RESIDENTAL_AREA\": \"PERUMAHAN KG. PADANG LATI\", \"DISTRICT\": \"TUMPAT\", \"NUMBER_OF_HOUSES\": 14.0}, {\"STATE\": \"Kelantan\", \"RESIDENTAL_AREA\": \"PERUMAHAN KAMPUNG BELUKAR\", \"DISTRICT\": \"TUMPAT\", \"NUMBER_OF_HOUSES\": 7.0}, {\"STATE\": \"Kelantan\", \"RESIDENTAL_AREA\": \"TAMAN SRI DUSUN\", \"DISTRICT\": \"TUMPAT\", \"NUMBER_OF_HOUSES\": 33.0}, {\"STATE\": \"Kelantan\", \"RESIDENTAL_AREA\": \"TAMAN SRI KOTA (SBJ)\", \"DISTRICT\": \"TUMPAT\", \"NUMBER_OF_HOUSES\": 75.0}, {\"STATE\": \"Kelantan\", \"RESIDENTAL_AREA\": \"TAMAN HONG YIK\", \"DISTRICT\": \"TUMPAT\", \"NUMBER_OF_HOUSES\": 15.0}, {\"STATE\": \"Kelantan\", \"RESIDENTAL_AREA\": \"TAMAN KOTA KUBANG LABU\", \"DISTRICT\": \"TUMPAT\", \"NUMBER_OF_HOUSES\": 21.0}, {\"STATE\": \"Kelantan\", \"RESIDENTAL_AREA\": \"BANDAR BARU P/PEKAN (SIMPURA)\", \"DISTRICT\": \"TUMPAT\", \"NUMBER_OF_HOUSES\": 324.0}, {\"STATE\": \"Kelantan\", \"RESIDENTAL_AREA\": \"TAMAN SRI PALAS\", \"DISTRICT\": \"TUMPAT\", \"NUMBER_OF_HOUSES\": 17.0}, {\"STATE\": \"Kelantan\", \"RESIDENTAL_AREA\": \"TAMAN SBJ PUTRA\", \"DISTRICT\": \"TUMPAT\", \"NUMBER_OF_HOUSES\": 688.0}, {\"STATE\": \"Kelantan\", \"RESIDENTAL_AREA\": \"TAMAN SRI PEKAN\", \"DISTRICT\": \"TUMPAT\", \"NUMBER_OF_HOUSES\": 71.0}, {\"STATE\": \"Kelantan\", \"RESIDENTAL_AREA\": \"TAMAN SBJ KAMPUNG BARU\", \"DISTRICT\": \"TUMPAT\", \"NUMBER_OF_HOUSES\": 12.0}, {\"STATE\": \"Kelantan\", \"RESIDENTAL_AREA\": \"TAMAN BALQIS\", \"DISTRICT\": \"TUMPAT\", \"NUMBER_OF_HOUSES\": 12.0}, {\"STATE\": \"Kelantan\", \"RESIDENTAL_AREA\": \"TAMAN MURNI WAKAF BHARU\", \"DISTRICT\": \"TUMPAT\", \"NUMBER_OF_HOUSES\": 24.0}, {\"STATE\": \"Kelantan\", \"RESIDENTAL_AREA\": \"TAMAN MIMI\", \"DISTRICT\": \"TUMPAT\", \"NUMBER_OF_HOUSES\": 20.0}, {\"STATE\": \"Kelantan\", \"RESIDENTAL_AREA\": \"TAMAN JAYA\", \"DISTRICT\": \"TUMPAT\", \"NUMBER_OF_HOUSES\": 15.0}, {\"STATE\": \"Kelantan\", \"RESIDENTAL_AREA\": \"TAMAN TANJONG\", \"DISTRICT\": \"TUMPAT\", \"NUMBER_OF_HOUSES\": 26.0}, {\"STATE\": \"Kelantan\", \"RESIDENTAL_AREA\": \"TAMAN SRI TANJONG\", \"DISTRICT\": \"TUMPAT\", \"NUMBER_OF_HOUSES\": 13.0}, {\"STATE\": \"Kelantan\", \"RESIDENTAL_AREA\": \"TAMAN SRI LANGGAR\", \"DISTRICT\": \"TUMPAT\", \"NUMBER_OF_HOUSES\": 9.0}, {\"STATE\": \"Kelantan\", \"RESIDENTAL_AREA\": \"TAMAN SRI DUSUN\", \"DISTRICT\": \"TUMPAT\", \"NUMBER_OF_HOUSES\": 5.0}, {\"STATE\": \"Kelantan\", \"RESIDENTAL_AREA\": \"TAMAN NADIRA\", \"DISTRICT\": \"TUMPAT\", \"NUMBER_OF_HOUSES\": 21.0}, {\"STATE\": \"Kelantan\", \"RESIDENTAL_AREA\": \"TAMAN ZAHARANI\", \"DISTRICT\": \"TUMPAT\", \"NUMBER_OF_HOUSES\": 10.0}, {\"STATE\": \"Kelantan\", \"RESIDENTAL_AREA\": \"TAMAN ADABI\", \"DISTRICT\": \"TUMPAT\", \"NUMBER_OF_HOUSES\": 23.0}, {\"STATE\": \"Kelantan\", \"RESIDENTAL_AREA\": \"PERUMAHAN KUBANG PALAS\", \"DISTRICT\": \"TUMPAT\", \"NUMBER_OF_HOUSES\": 15.0}, {\"STATE\": \"Kelantan\", \"RESIDENTAL_AREA\": \"PERUMAHAN TOK KU I & II\", \"DISTRICT\": \"TUMPAT\", \"NUMBER_OF_HOUSES\": 42.0}, {\"STATE\": \"Kelantan\", \"RESIDENTAL_AREA\": \"TAMAN DESA DELIMA\", \"DISTRICT\": \"TUMPAT\", \"NUMBER_OF_HOUSES\": 20.0}, {\"STATE\": \"Kelantan\", \"RESIDENTAL_AREA\": \"TAMAN SRI MULONG\", \"DISTRICT\": \"TUMPAT\", \"NUMBER_OF_HOUSES\": 20.0}, {\"STATE\": \"Kelantan\", \"RESIDENTAL_AREA\": \"TAMAN SBJ KAMPUNG MULONG\", \"DISTRICT\": \"TUMPAT\", \"NUMBER_OF_HOUSES\": 25.0}, {\"STATE\": \"Kelantan\", \"RESIDENTAL_AREA\": \"TAMAN KINANG\", \"DISTRICT\": \"TUMPAT\", \"NUMBER_OF_HOUSES\": 18.0}, {\"STATE\": \"Kelantan\", \"RESIDENTAL_AREA\": \"TAMAN ALAM PRIMA\", \"DISTRICT\": \"TUMPAT\", \"NUMBER_OF_HOUSES\": 19.0}, {\"STATE\": \"Kelantan\", \"RESIDENTAL_AREA\": \"TAMAN SERIVILLE\", \"DISTRICT\": \"TUMPAT\", \"NUMBER_OF_HOUSES\": 20.0}, {\"STATE\": \"Kelantan\", \"RESIDENTAL_AREA\": \"TAMAN BELUKAR JAYA\", \"DISTRICT\": \"TUMPAT\", \"NUMBER_OF_HOUSES\": 8.0}, {\"STATE\": \"Kelantan\", \"RESIDENTAL_AREA\": \"TAMAN SRI ROKMA/PADANG ROKMA\", \"DISTRICT\": \"TUMPAT\", \"NUMBER_OF_HOUSES\": 50.0}, {\"STATE\": \"Kelantan\", \"RESIDENTAL_AREA\": \"TAMAN LPT PERKASA 1\", \"DISTRICT\": \"TUMPAT\", \"NUMBER_OF_HOUSES\": 25.0}, {\"STATE\": \"Kelantan\", \"RESIDENTAL_AREA\": \"TAMAN LPT PERKASA 2\", \"DISTRICT\": \"TUMPAT\", \"NUMBER_OF_HOUSES\": 16.0}, {\"STATE\": \"Kelantan\", \"RESIDENTAL_AREA\": \"TAMAN SRI CHENDERONG 1&2\", \"DISTRICT\": \"TUMPAT\", \"NUMBER_OF_HOUSES\": 82.0}, {\"STATE\": \"Kelantan\", \"RESIDENTAL_AREA\": \"TAMAN CHENDERONG EMAS\", \"DISTRICT\": \"TUMPAT\", \"NUMBER_OF_HOUSES\": 26.0}, {\"STATE\": \"Kelantan\", \"RESIDENTAL_AREA\": \"TAMAN ASPEK KEBAKAT\", \"DISTRICT\": \"TUMPAT\", \"NUMBER_OF_HOUSES\": 19.0}, {\"STATE\": \"Kelantan\", \"RESIDENTAL_AREA\": \"TAMAN ALAM PERMAI\", \"DISTRICT\": \"TUMPAT\", \"NUMBER_OF_HOUSES\": 12.0}, {\"STATE\": \"Kelantan\", \"RESIDENTAL_AREA\": \"TAMAN KOTAVILLE INDAH\", \"DISTRICT\": \"TUMPAT\", \"NUMBER_OF_HOUSES\": 151.0}, {\"STATE\": \"Kelantan\", \"RESIDENTAL_AREA\": \"TAMAN SBJ KAMPUNG KUTANG\", \"DISTRICT\": \"TUMPAT\", \"NUMBER_OF_HOUSES\": 15.0}, {\"STATE\": \"Kelantan\", \"RESIDENTAL_AREA\": \"PERUMAHAN KUTANG HILIR\", \"DISTRICT\": \"TUMPAT\", \"NUMBER_OF_HOUSES\": 44.0}, {\"STATE\": \"Kelantan\", \"RESIDENTAL_AREA\": \"TAMAN SRI DALAM RHU\", \"DISTRICT\": \"TUMPAT\", \"NUMBER_OF_HOUSES\": 179.0}, {\"STATE\": \"Kelantan\", \"RESIDENTAL_AREA\": \"TAMAN KELABORAN JAYA\", \"DISTRICT\": \"TUMPAT\", \"NUMBER_OF_HOUSES\": 18.0}, {\"STATE\": \"Kelantan\", \"RESIDENTAL_AREA\": \"TAMAN SRI SENTOSA\", \"DISTRICT\": \"TUMPAT\", \"NUMBER_OF_HOUSES\": 30.0}, {\"STATE\": \"Kelantan\", \"RESIDENTAL_AREA\": \"TAMAN KEBAKAT PERDANA\", \"DISTRICT\": \"TUMPAT\", \"NUMBER_OF_HOUSES\": 40.0}, {\"STATE\": \"Kelantan\", \"RESIDENTAL_AREA\": \"TAMAN SBJ KEBAKAT\", \"DISTRICT\": \"TUMPAT\", \"NUMBER_OF_HOUSES\": 38.0}, {\"STATE\": \"Kelantan\", \"RESIDENTAL_AREA\": \"TAMAN SRI KEBAKAT\", \"DISTRICT\": \"TUMPAT\", \"NUMBER_OF_HOUSES\": 177.0}, {\"STATE\": \"Kelantan\", \"RESIDENTAL_AREA\": \"TAMAN RASTOM\", \"DISTRICT\": \"TUMPAT\", \"NUMBER_OF_HOUSES\": 14.0}, {\"STATE\": \"Kelantan\", \"RESIDENTAL_AREA\": \"TAMAN SRI MORAK 1,2,3\", \"DISTRICT\": \"TUMPAT\", \"NUMBER_OF_HOUSES\": 123.0}, {\"STATE\": \"Kelantan\", \"RESIDENTAL_AREA\": \"TAMAN DESA RAYA\", \"DISTRICT\": \"TUMPAT\", \"NUMBER_OF_HOUSES\": 43.0}, {\"STATE\": \"Kelantan\", \"RESIDENTAL_AREA\": \"TAMAN SRI PENGKALAN\", \"DISTRICT\": \"TUMPAT\", \"NUMBER_OF_HOUSES\": 40.0}, {\"STATE\": \"Kelantan\", \"RESIDENTAL_AREA\": \"TAMAN SRI KETIL\", \"DISTRICT\": \"TUMPAT\", \"NUMBER_OF_HOUSES\": 30.0}, {\"STATE\": \"Kelantan\", \"RESIDENTAL_AREA\": \"TAMAN SELEHONG\", \"DISTRICT\": \"TUMPAT\", \"NUMBER_OF_HOUSES\": 68.0}, {\"STATE\": \"Kelantan\", \"RESIDENTAL_AREA\": \"TAMAN SPP KOTA WARISAN\", \"DISTRICT\": \"TUMPAT\", \"NUMBER_OF_HOUSES\": 206.0}, {\"STATE\": \"Kelantan\", \"RESIDENTAL_AREA\": \"TAMAN HARMONI\", \"DISTRICT\": \"TUMPAT\", \"NUMBER_OF_HOUSES\": 84.0}, {\"STATE\": \"Kelantan\", \"RESIDENTAL_AREA\": \"TAMAN SRI SAWADI\", \"DISTRICT\": \"TUMPAT\", \"NUMBER_OF_HOUSES\": 10.0}, {\"STATE\": \"Kelantan\", \"RESIDENTAL_AREA\": \"TAMAN BAIDURI\", \"DISTRICT\": \"TUMPAT\", \"NUMBER_OF_HOUSES\": 16.0}, {\"STATE\": \"Kelantan\", \"RESIDENTAL_AREA\": \"TAMAN SRI NETING\", \"DISTRICT\": \"TUMPAT\", \"NUMBER_OF_HOUSES\": 48.0}, {\"STATE\": \"Kelantan\", \"RESIDENTAL_AREA\": \"TAMAN SBJ SRI TUJOH\", \"DISTRICT\": \"TUMPAT\", \"NUMBER_OF_HOUSES\": 15.0}, {\"STATE\": \"Kelantan\", \"RESIDENTAL_AREA\": \"TAMAN SOFEA\", \"DISTRICT\": \"TUMPAT\", \"NUMBER_OF_HOUSES\": 8.0}, {\"STATE\": \"Kelantan\", \"RESIDENTAL_AREA\": \"TAMAN BUNGA RAYA\", \"DISTRICT\": \"TUMPAT\", \"NUMBER_OF_HOUSES\": 31.0}, {\"STATE\": \"Kelantan\", \"RESIDENTAL_AREA\": \"TAMAN CHERANG JAYA\", \"DISTRICT\": \"TUMPAT\", \"NUMBER_OF_HOUSES\": 52.0}, {\"STATE\": \"Kelantan\", \"RESIDENTAL_AREA\": \"TAMAN SAKINAH\", \"DISTRICT\": \"TUMPAT\", \"NUMBER_OF_HOUSES\": 19.0}, {\"STATE\": \"Kelantan\", \"RESIDENTAL_AREA\": \"TAMAN SBJ CHERANG JAYA\", \"DISTRICT\": \"TUMPAT\", \"NUMBER_OF_HOUSES\": 17.0}, {\"STATE\": \"Kelantan\", \"RESIDENTAL_AREA\": \"TAMAN SRI CAHAYA\", \"DISTRICT\": \"TUMPAT\", \"NUMBER_OF_HOUSES\": 10.0}, {\"STATE\": \"Kelantan\", \"RESIDENTAL_AREA\": \"TAMAN SRI PINANG\", \"DISTRICT\": \"TUMPAT\", \"NUMBER_OF_HOUSES\": 81.0}, {\"STATE\": \"Kelantan\", \"RESIDENTAL_AREA\": \"TAMAN DESA JAMBU\", \"DISTRICT\": \"TUMPAT\", \"NUMBER_OF_HOUSES\": 40.0}, {\"STATE\": \"Kelantan\", \"RESIDENTAL_AREA\": \"PERUMAHAN KG. KUBANG PANJANG\", \"DISTRICT\": \"TUMPAT\", \"NUMBER_OF_HOUSES\": 5.0}, {\"STATE\": \"Kelantan\", \"RESIDENTAL_AREA\": \"TAMAN SRI BAYU\", \"DISTRICT\": \"TUMPAT\", \"NUMBER_OF_HOUSES\": 905.0}, {\"STATE\": \"Pahang\", \"RESIDENTAL_AREA\": \"Taman Maran Impian\", \"DISTRICT\": \"MARAN\", \"NUMBER_OF_HOUSES\": 141.0}, {\"STATE\": \"Pahang\", \"RESIDENTAL_AREA\": \"Taman Sri Chedong\", \"DISTRICT\": \"MARAN\", \"NUMBER_OF_HOUSES\": 111.0}, {\"STATE\": \"Pahang\", \"RESIDENTAL_AREA\": \"Taman Maran Jaya\", \"DISTRICT\": \"MARAN\", \"NUMBER_OF_HOUSES\": 298.0}, {\"STATE\": \"Pahang\", \"RESIDENTAL_AREA\": \"Taman Sri Keramat\", \"DISTRICT\": \"MARAN\", \"NUMBER_OF_HOUSES\": 184.0}, {\"STATE\": \"Pahang\", \"RESIDENTAL_AREA\": \"Taman Berkat Mutiara\", \"DISTRICT\": \"MARAN\", \"NUMBER_OF_HOUSES\": 36.0}, {\"STATE\": \"Pahang\", \"RESIDENTAL_AREA\": \"Taman Muda Jaya\", \"DISTRICT\": \"MARAN\", \"NUMBER_OF_HOUSES\": 67.0}, {\"STATE\": \"Pahang\", \"RESIDENTAL_AREA\": \"Taman Keramat Makmur\", \"DISTRICT\": \"MARAN\", \"NUMBER_OF_HOUSES\": 46.0}, {\"STATE\": \"Pahang\", \"RESIDENTAL_AREA\": \"Taman Maran Damai\", \"DISTRICT\": \"MARAN\", \"NUMBER_OF_HOUSES\": 147.0}, {\"STATE\": \"Pahang\", \"RESIDENTAL_AREA\": \"Rumah Murah (Kilat)\", \"DISTRICT\": \"MARAN\", \"NUMBER_OF_HOUSES\": 33.0}, {\"STATE\": \"Pahang\", \"RESIDENTAL_AREA\": \"Taman Keramat Makmur 2\", \"DISTRICT\": \"MARAN\", \"NUMBER_OF_HOUSES\": 30.0}, {\"STATE\": \"Pahang\", \"RESIDENTAL_AREA\": \"Taman Berkat Indah\", \"DISTRICT\": \"MARAN\", \"NUMBER_OF_HOUSES\": 27.0}, {\"STATE\": \"Pahang\", \"RESIDENTAL_AREA\": \"Taman Teras Indah\", \"DISTRICT\": \"MARAN\", \"NUMBER_OF_HOUSES\": 10.0}, {\"STATE\": \"Pahang\", \"RESIDENTAL_AREA\": \"Taman Berkat Idaman\", \"DISTRICT\": \"MARAN\", \"NUMBER_OF_HOUSES\": 8.0}, {\"STATE\": \"Pahang\", \"RESIDENTAL_AREA\": \"Perumahan Felcra Pekan Tajau\", \"DISTRICT\": \"MARAN\", \"NUMBER_OF_HOUSES\": 73.0}, {\"STATE\": \"Pahang\", \"RESIDENTAL_AREA\": \"Taman Keramat Makmur 3\", \"DISTRICT\": \"MARAN\", \"NUMBER_OF_HOUSES\": 11.0}, {\"STATE\": \"Pahang\", \"RESIDENTAL_AREA\": \"Taman Desa Jaya 1\", \"DISTRICT\": \"BANDAR JENGKA\", \"NUMBER_OF_HOUSES\": 231.0}, {\"STATE\": \"Pahang\", \"RESIDENTAL_AREA\": \"Taman Desa Jaya 2\", \"DISTRICT\": \"BANDAR JENGKA\", \"NUMBER_OF_HOUSES\": 255.0}, {\"STATE\": \"Pahang\", \"RESIDENTAL_AREA\": \"Taman Permatang Shahbandar\", \"DISTRICT\": \"BANDAR JENGKA\", \"NUMBER_OF_HOUSES\": 160.0}, {\"STATE\": \"Pahang\", \"RESIDENTAL_AREA\": \"Taman Jengka Impian\", \"DISTRICT\": \"BANDAR JENGKA\", \"NUMBER_OF_HOUSES\": 300.0}, {\"STATE\": \"Pahang\", \"RESIDENTAL_AREA\": \"Taman Jengka Mahkota\", \"DISTRICT\": \"BANDAR JENGKA\", \"NUMBER_OF_HOUSES\": 407.0}, {\"STATE\": \"Pahang\", \"RESIDENTAL_AREA\": \"Rantau Perintis\", \"DISTRICT\": \"BANDAR JENGKA\", \"NUMBER_OF_HOUSES\": 774.0}, {\"STATE\": \"Pahang\", \"RESIDENTAL_AREA\": \"Taman Permatang Shahbandar 2\", \"DISTRICT\": \"BANDAR JENGKA\", \"NUMBER_OF_HOUSES\": 363.0}, {\"STATE\": \"Pahang\", \"RESIDENTAL_AREA\": \"Taman Jengka Indah\", \"DISTRICT\": \"BANDAR JENGKA\", \"NUMBER_OF_HOUSES\": 1384.0}, {\"STATE\": \"Pahang\", \"RESIDENTAL_AREA\": \"Taman Jengka Impian 2\", \"DISTRICT\": \"BANDAR JENGKA\", \"NUMBER_OF_HOUSES\": 65.0}, {\"STATE\": \"Pahang\", \"RESIDENTAL_AREA\": \"Taman Awah Indah\", \"DISTRICT\": \"PEKAN AWAH\", \"NUMBER_OF_HOUSES\": 14.0}, {\"STATE\": \"Pahang\", \"RESIDENTAL_AREA\": \"Taman Bedong Permai\", \"DISTRICT\": \"PEKAN AWAH\", \"NUMBER_OF_HOUSES\": 98.0}, {\"STATE\": \"Pahang\", \"RESIDENTAL_AREA\": \"Taman Bukit Lada Permai\", \"DISTRICT\": \"PEKAN AWAH\", \"NUMBER_OF_HOUSES\": 18.0}, {\"STATE\": \"Pahang\", \"RESIDENTAL_AREA\": \"Lamanda Jengka Siantan\", \"DISTRICT\": \"PEKAN AWAH\", \"NUMBER_OF_HOUSES\": 264.0}, {\"STATE\": \"Pahang\", \"RESIDENTAL_AREA\": \"Taman Awah Permai\", \"DISTRICT\": \"PEKAN AWAH\", \"NUMBER_OF_HOUSES\": 139.0}, {\"STATE\": \"Pahang\", \"RESIDENTAL_AREA\": \"RTK Sungai Jerik\", \"DISTRICT\": \"SUNGAI JERIK\", \"NUMBER_OF_HOUSES\": 174.0}, {\"STATE\": \"Pahang\", \"RESIDENTAL_AREA\": \"Taman Jaya Diri\", \"DISTRICT\": \"CHENOR\", \"NUMBER_OF_HOUSES\": 118.0}, {\"STATE\": \"Pahang\", \"RESIDENTAL_AREA\": \"Taman Chenor Impian\", \"DISTRICT\": \"CHENOR\", \"NUMBER_OF_HOUSES\": 47.0}, {\"STATE\": \"Pahang\", \"RESIDENTAL_AREA\": \"Taman Chenor Indah\", \"DISTRICT\": \"CHENOR\", \"NUMBER_OF_HOUSES\": 10.0}, {\"STATE\": \"Pahang\", \"RESIDENTAL_AREA\": \"Taman Sri Jaya Indah\", \"DISTRICT\": \"SRI JAYA\", \"NUMBER_OF_HOUSES\": 144.0}, {\"STATE\": \"Pahang\", \"RESIDENTAL_AREA\": \"Taman Emas\", \"DISTRICT\": \"SRI JAYA\", \"NUMBER_OF_HOUSES\": 103.0}, {\"STATE\": \"Pahang\", \"RESIDENTAL_AREA\": \"Taman Dinding\", \"DISTRICT\": \"SRI JAYA\", \"NUMBER_OF_HOUSES\": 94.0}, {\"STATE\": \"Pahang\", \"RESIDENTAL_AREA\": \"Taman Seri Desa\", \"DISTRICT\": \"SRI JAYA\", \"NUMBER_OF_HOUSES\": 121.0}, {\"STATE\": \"Pahang\", \"RESIDENTAL_AREA\": \"Taman Sri Jaya Makmur\", \"DISTRICT\": \"SRI JAYA\", \"NUMBER_OF_HOUSES\": 150.0}, {\"STATE\": \"Pahang\", \"RESIDENTAL_AREA\": \"Taman Sri Jaya Bahagia\", \"DISTRICT\": \"SRI JAYA\", \"NUMBER_OF_HOUSES\": 12.0}, {\"STATE\": \"Pahang\", \"RESIDENTAL_AREA\": \"Taman Fhoo Chew\", \"DISTRICT\": \"SRI JAYA\", \"NUMBER_OF_HOUSES\": 12.0}, {\"STATE\": \"Perak\", \"RESIDENTAL_AREA\": \"Taman Sentosa (RPA 1)\", \"DISTRICT\": \"Pengkalan Hulu\", \"NUMBER_OF_HOUSES\": 50.0}, {\"STATE\": \"Perak\", \"RESIDENTAL_AREA\": \"Taman Damai (RPA 2)\", \"DISTRICT\": \"Pengkalan Hulu\", \"NUMBER_OF_HOUSES\": 40.0}, {\"STATE\": \"Perak\", \"RESIDENTAL_AREA\": \"Taman Aman (RPA 3)\", \"DISTRICT\": \"Pengkalan Hulu\", \"NUMBER_OF_HOUSES\": 96.0}, {\"STATE\": \"Perak\", \"RESIDENTAL_AREA\": \"Taman Bersatu\", \"DISTRICT\": \"Pengkalan Hulu\", \"NUMBER_OF_HOUSES\": 35.0}, {\"STATE\": \"Perak\", \"RESIDENTAL_AREA\": \"Taman Mawar\", \"DISTRICT\": \"Pengkalan Hulu\", \"NUMBER_OF_HOUSES\": 26.0}, {\"STATE\": \"Perak\", \"RESIDENTAL_AREA\": \"Taman Sri Jaya\", \"DISTRICT\": \"Pengkalan Hulu\", \"NUMBER_OF_HOUSES\": 28.0}, {\"STATE\": \"Perak\", \"RESIDENTAL_AREA\": \"Taman Kroh Indah\", \"DISTRICT\": \"Pengkalan Hulu\", \"NUMBER_OF_HOUSES\": 44.0}, {\"STATE\": \"Perak\", \"RESIDENTAL_AREA\": \"Taman Tembusu\", \"DISTRICT\": \"Pengkalan Hulu\", \"NUMBER_OF_HOUSES\": 52.0}, {\"STATE\": \"Perak\", \"RESIDENTAL_AREA\": \"Taman Dato' Seri Lam Kok Loong\", \"DISTRICT\": \"Pengkalan Hulu\", \"NUMBER_OF_HOUSES\": 28.0}, {\"STATE\": \"Perak\", \"RESIDENTAL_AREA\": \"Taman Sri Kroh\", \"DISTRICT\": \"Pengkalan Hulu\", \"NUMBER_OF_HOUSES\": 128.0}, {\"STATE\": \"Perak\", \"RESIDENTAL_AREA\": \"Taman Seroja\", \"DISTRICT\": \"Pengkalan Hulu\", \"NUMBER_OF_HOUSES\": 109.0}, {\"STATE\": \"Perak\", \"RESIDENTAL_AREA\": \"Taman Semarak\", \"DISTRICT\": \"Pengkalan Hulu\", \"NUMBER_OF_HOUSES\": 25.0}, {\"STATE\": \"Perak\", \"RESIDENTAL_AREA\": \"Taman Meranti\", \"DISTRICT\": \"Pengkalan Hulu\", \"NUMBER_OF_HOUSES\": 85.0}, {\"STATE\": \"Perak\", \"RESIDENTAL_AREA\": \"Taman Tasek Permai\", \"DISTRICT\": \"Pengkalan Hulu\", \"NUMBER_OF_HOUSES\": 111.0}, {\"STATE\": \"Perak\", \"RESIDENTAL_AREA\": \"Taman Desa Cempaka\", \"DISTRICT\": \"Pengkalan Hulu\", \"NUMBER_OF_HOUSES\": 62.0}, {\"STATE\": \"Perak\", \"RESIDENTAL_AREA\": \"Taman Bukit Riah\", \"DISTRICT\": \"Pengkalan Hulu\", \"NUMBER_OF_HOUSES\": 95.0}, {\"STATE\": \"Perak\", \"RESIDENTAL_AREA\": \"Taman Dahlia Permai\", \"DISTRICT\": \"Pengkalan Hulu\", \"NUMBER_OF_HOUSES\": 69.0}, {\"STATE\": \"Perak\", \"RESIDENTAL_AREA\": \"Taman Anggerik Mewah\", \"DISTRICT\": \"Pengkalan Hulu\", \"NUMBER_OF_HOUSES\": 20.0}, {\"STATE\": \"Perak\", \"RESIDENTAL_AREA\": \"Taman Sri Bayas\", \"DISTRICT\": \"Pengkalan Hulu\", \"NUMBER_OF_HOUSES\": 66.0}, {\"STATE\": \"Perak\", \"RESIDENTAL_AREA\": \"Taman Intan (RPA Klian Intan)\", \"DISTRICT\": \"Pengkalan Hulu\", \"NUMBER_OF_HOUSES\": 50.0}, {\"STATE\": \"Perak\", \"RESIDENTAL_AREA\": \"RPA Klian Intan 2\", \"DISTRICT\": \"Pengkalan Hulu\", \"NUMBER_OF_HOUSES\": 53.0}, {\"STATE\": \"Perak\", \"RESIDENTAL_AREA\": \"Taman Bunga Raya\", \"DISTRICT\": \"Pengkalan Hulu\", \"NUMBER_OF_HOUSES\": 30.0}, {\"STATE\": \"Perak\", \"RESIDENTAL_AREA\": \"Taman Tulip Jaya\", \"DISTRICT\": \"Pengkalan Hulu\", \"NUMBER_OF_HOUSES\": 20.0}]}}, {\"mode\": \"vega-lite\"});\n",
       "</script>"
      ],
      "text/plain": [
       "alt.Chart(...)"
      ]
     },
     "execution_count": 20,
     "metadata": {},
     "output_type": "execute_result"
    }
   ],
   "source": [
    "alt.Chart(residentalLocation).mark_boxplot(size=100).encode(\n",
    "    x='STATE',\n",
    "    y='NUMBER_OF_HOUSES',\n",
    "    color=alt.Color('STATE')\n",
    ").properties(width=1000, height=400)"
   ]
  },
  {
   "cell_type": "markdown",
   "metadata": {},
   "source": [
    "# Exploratory Data Analysis"
   ]
  },
  {
   "cell_type": "code",
   "execution_count": 21,
   "metadata": {},
   "outputs": [],
   "source": [
    "laundryAnalaysis = laundry.copy()\n",
    "residentalLocationAnalysis = residentalLocation.copy()"
   ]
  },
  {
   "cell_type": "markdown",
   "metadata": {},
   "source": [
    "### 1. How many customers visit during the day and night?"
   ]
  },
  {
   "cell_type": "code",
   "execution_count": 110,
   "metadata": {},
   "outputs": [
    {
     "name": "stdout",
     "output_type": "stream",
     "text": [
      "Frequency of customer during the day:  299\n",
      "Frequency of customer during the night:  343\n"
     ]
    },
    {
     "data": {
      "text/html": [
       "\n",
       "<div id=\"altair-viz-3623e550026c4e59823e881ea21cff8e\"></div>\n",
       "<script type=\"text/javascript\">\n",
       "  (function(spec, embedOpt){\n",
       "    let outputDiv = document.currentScript.previousElementSibling;\n",
       "    if (outputDiv.id !== \"altair-viz-3623e550026c4e59823e881ea21cff8e\") {\n",
       "      outputDiv = document.getElementById(\"altair-viz-3623e550026c4e59823e881ea21cff8e\");\n",
       "    }\n",
       "    const paths = {\n",
       "      \"vega\": \"https://cdn.jsdelivr.net/npm//vega@5?noext\",\n",
       "      \"vega-lib\": \"https://cdn.jsdelivr.net/npm//vega-lib?noext\",\n",
       "      \"vega-lite\": \"https://cdn.jsdelivr.net/npm//vega-lite@4.8.1?noext\",\n",
       "      \"vega-embed\": \"https://cdn.jsdelivr.net/npm//vega-embed@6?noext\",\n",
       "    };\n",
       "\n",
       "    function loadScript(lib) {\n",
       "      return new Promise(function(resolve, reject) {\n",
       "        var s = document.createElement('script');\n",
       "        s.src = paths[lib];\n",
       "        s.async = true;\n",
       "        s.onload = () => resolve(paths[lib]);\n",
       "        s.onerror = () => reject(`Error loading script: ${paths[lib]}`);\n",
       "        document.getElementsByTagName(\"head\")[0].appendChild(s);\n",
       "      });\n",
       "    }\n",
       "\n",
       "    function showError(err) {\n",
       "      outputDiv.innerHTML = `<div class=\"error\" style=\"color:red;\">${err}</div>`;\n",
       "      throw err;\n",
       "    }\n",
       "\n",
       "    function displayChart(vegaEmbed) {\n",
       "      vegaEmbed(outputDiv, spec, embedOpt)\n",
       "        .catch(err => showError(`Javascript Error: ${err.message}<br>This usually means there's a typo in your chart specification. See the javascript console for the full traceback.`));\n",
       "    }\n",
       "\n",
       "    if(typeof define === \"function\" && define.amd) {\n",
       "      requirejs.config({paths});\n",
       "      require([\"vega-embed\"], displayChart, err => showError(`Error loading script: ${err.message}`));\n",
       "    } else if (typeof vegaEmbed === \"function\") {\n",
       "      displayChart(vegaEmbed);\n",
       "    } else {\n",
       "      loadScript(\"vega\")\n",
       "        .then(() => loadScript(\"vega-lite\"))\n",
       "        .then(() => loadScript(\"vega-embed\"))\n",
       "        .catch(showError)\n",
       "        .then(() => displayChart(vegaEmbed));\n",
       "    }\n",
       "  })({\"config\": {\"view\": {\"continuousWidth\": 400, \"continuousHeight\": 300}}, \"data\": {\"name\": \"data-6f02e8895279fdcc54ad2115d6117202\"}, \"mark\": \"bar\", \"encoding\": {\"color\": {\"type\": \"nominal\", \"field\": \"PART_OF_DAY\", \"scale\": {\"range\": [\"#F4D03F\", \"#1A5276\"]}}, \"x\": {\"type\": \"temporal\", \"field\": \"DATE\"}, \"y\": {\"type\": \"quantitative\", \"field\": \"FREQUENCY\"}}, \"width\": 650, \"$schema\": \"https://vega.github.io/schema/vega-lite/v4.8.1.json\", \"datasets\": {\"data-6f02e8895279fdcc54ad2115d6117202\": [{\"DATE\": \"2015-10-19T00:00:00\", \"PART_OF_DAY\": \"Day\", \"FREQUENCY\": 0}, {\"DATE\": \"2015-10-19T00:00:00\", \"PART_OF_DAY\": \"Night\", \"FREQUENCY\": 4}, {\"DATE\": \"2015-10-20T00:00:00\", \"PART_OF_DAY\": \"Day\", \"FREQUENCY\": 13}, {\"DATE\": \"2015-10-20T00:00:00\", \"PART_OF_DAY\": \"Night\", \"FREQUENCY\": 24}, {\"DATE\": \"2015-10-21T00:00:00\", \"PART_OF_DAY\": \"Day\", \"FREQUENCY\": 11}, {\"DATE\": \"2015-10-21T00:00:00\", \"PART_OF_DAY\": \"Night\", \"FREQUENCY\": 5}, {\"DATE\": \"2015-10-22T00:00:00\", \"PART_OF_DAY\": \"Day\", \"FREQUENCY\": 13}, {\"DATE\": \"2015-10-22T00:00:00\", \"PART_OF_DAY\": \"Night\", \"FREQUENCY\": 6}, {\"DATE\": \"2015-10-23T00:00:00\", \"PART_OF_DAY\": \"Day\", \"FREQUENCY\": 7}, {\"DATE\": \"2015-10-23T00:00:00\", \"PART_OF_DAY\": \"Night\", \"FREQUENCY\": 6}, {\"DATE\": \"2015-10-24T00:00:00\", \"PART_OF_DAY\": \"Day\", \"FREQUENCY\": 11}, {\"DATE\": \"2015-10-24T00:00:00\", \"PART_OF_DAY\": \"Night\", \"FREQUENCY\": 5}, {\"DATE\": \"2015-10-25T00:00:00\", \"PART_OF_DAY\": \"Day\", \"FREQUENCY\": 2}, {\"DATE\": \"2015-10-25T00:00:00\", \"PART_OF_DAY\": \"Night\", \"FREQUENCY\": 1}, {\"DATE\": \"2015-10-26T00:00:00\", \"PART_OF_DAY\": \"Day\", \"FREQUENCY\": 4}, {\"DATE\": \"2015-10-26T00:00:00\", \"PART_OF_DAY\": \"Night\", \"FREQUENCY\": 0}, {\"DATE\": \"2015-10-29T00:00:00\", \"PART_OF_DAY\": \"Day\", \"FREQUENCY\": 0}, {\"DATE\": \"2015-10-29T00:00:00\", \"PART_OF_DAY\": \"Night\", \"FREQUENCY\": 9}, {\"DATE\": \"2015-10-30T00:00:00\", \"PART_OF_DAY\": \"Day\", \"FREQUENCY\": 1}, {\"DATE\": \"2015-10-30T00:00:00\", \"PART_OF_DAY\": \"Night\", \"FREQUENCY\": 0}, {\"DATE\": \"2015-11-01T00:00:00\", \"PART_OF_DAY\": \"Day\", \"FREQUENCY\": 1}, {\"DATE\": \"2015-11-01T00:00:00\", \"PART_OF_DAY\": \"Night\", \"FREQUENCY\": 3}, {\"DATE\": \"2015-11-02T00:00:00\", \"PART_OF_DAY\": \"Day\", \"FREQUENCY\": 25}, {\"DATE\": \"2015-11-02T00:00:00\", \"PART_OF_DAY\": \"Night\", \"FREQUENCY\": 11}, {\"DATE\": \"2015-11-03T00:00:00\", \"PART_OF_DAY\": \"Day\", \"FREQUENCY\": 15}, {\"DATE\": \"2015-11-03T00:00:00\", \"PART_OF_DAY\": \"Night\", \"FREQUENCY\": 26}, {\"DATE\": \"2015-11-04T00:00:00\", \"PART_OF_DAY\": \"Day\", \"FREQUENCY\": 11}, {\"DATE\": \"2015-11-04T00:00:00\", \"PART_OF_DAY\": \"Night\", \"FREQUENCY\": 9}, {\"DATE\": \"2015-11-05T00:00:00\", \"PART_OF_DAY\": \"Day\", \"FREQUENCY\": 4}, {\"DATE\": \"2015-11-05T00:00:00\", \"PART_OF_DAY\": \"Night\", \"FREQUENCY\": 0}, {\"DATE\": \"2015-11-15T00:00:00\", \"PART_OF_DAY\": \"Day\", \"FREQUENCY\": 36}, {\"DATE\": \"2015-11-15T00:00:00\", \"PART_OF_DAY\": \"Night\", \"FREQUENCY\": 4}, {\"DATE\": \"2015-11-23T00:00:00\", \"PART_OF_DAY\": \"Day\", \"FREQUENCY\": 11}, {\"DATE\": \"2015-11-23T00:00:00\", \"PART_OF_DAY\": \"Night\", \"FREQUENCY\": 18}, {\"DATE\": \"2015-11-24T00:00:00\", \"PART_OF_DAY\": \"Day\", \"FREQUENCY\": 10}, {\"DATE\": \"2015-11-24T00:00:00\", \"PART_OF_DAY\": \"Night\", \"FREQUENCY\": 8}, {\"DATE\": \"2015-11-25T00:00:00\", \"PART_OF_DAY\": \"Day\", \"FREQUENCY\": 9}, {\"DATE\": \"2015-11-25T00:00:00\", \"PART_OF_DAY\": \"Night\", \"FREQUENCY\": 11}, {\"DATE\": \"2015-11-26T00:00:00\", \"PART_OF_DAY\": \"Day\", \"FREQUENCY\": 5}, {\"DATE\": \"2015-11-26T00:00:00\", \"PART_OF_DAY\": \"Night\", \"FREQUENCY\": 11}, {\"DATE\": \"2015-11-27T00:00:00\", \"PART_OF_DAY\": \"Day\", \"FREQUENCY\": 37}, {\"DATE\": \"2015-11-27T00:00:00\", \"PART_OF_DAY\": \"Night\", \"FREQUENCY\": 39}, {\"DATE\": \"2015-11-28T00:00:00\", \"PART_OF_DAY\": \"Day\", \"FREQUENCY\": 67}, {\"DATE\": \"2015-11-28T00:00:00\", \"PART_OF_DAY\": \"Night\", \"FREQUENCY\": 39}, {\"DATE\": \"2015-11-29T00:00:00\", \"PART_OF_DAY\": \"Day\", \"FREQUENCY\": 3}, {\"DATE\": \"2015-11-29T00:00:00\", \"PART_OF_DAY\": \"Night\", \"FREQUENCY\": 99}, {\"DATE\": \"2015-12-09T00:00:00\", \"PART_OF_DAY\": \"Day\", \"FREQUENCY\": 3}, {\"DATE\": \"2015-12-09T00:00:00\", \"PART_OF_DAY\": \"Night\", \"FREQUENCY\": 5}]}}, {\"mode\": \"vega-lite\"});\n",
       "</script>"
      ],
      "text/plain": [
       "alt.Chart(...)"
      ]
     },
     "execution_count": 110,
     "metadata": {},
     "output_type": "execute_result"
    }
   ],
   "source": [
    "### 1. How many customers visit during the day and night?\n",
    "bb = laundryAnalaysis.groupby(['DATE','PART_OF_DAY']).size().reset_index()\n",
    "bb.rename(columns={0: 'FREQUENCY'}, inplace=True)\n",
    "\n",
    "\n",
    "chartOverall1 = alt.Chart(bb).mark_bar().encode(\n",
    "    x='DATE',\n",
    "    y='FREQUENCY',\n",
    "    color=alt.Color('PART_OF_DAY', scale=alt.Scale(range=[\"#F4D03F\",\"#1A5276\"]))\n",
    ").properties(\n",
    "    width=650  \n",
    ")\n",
    "\n",
    "print('Frequency of customer during the day: ', bb[bb['PART_OF_DAY']=='Day'].sum().values[0])\n",
    "print('Frequency of customer during the night: ', bb[bb['PART_OF_DAY']=='Night'].sum().values[0])\n",
    "chartOverall1"
   ]
  },
  {
   "cell_type": "markdown",
   "metadata": {},
   "source": [
    "### 2. What type of customer visits laundry on weekend, weekdays, night and day ?"
   ]
  },
  {
   "cell_type": "markdown",
   "metadata": {},
   "source": [
    "#### CUSTOMER TYPE BASED ON: AGE CATEGORY\n",
    "##### weekend weekdays"
   ]
  },
  {
   "cell_type": "code",
   "execution_count": 24,
   "metadata": {},
   "outputs": [
    {
     "data": {
      "text/plain": [
       "0    Weekdays\n",
       "1    Weekdays\n",
       "2    Weekdays\n",
       "4    Weekdays\n",
       "8    Weekdays\n",
       "Name: WW, dtype: object"
      ]
     },
     "execution_count": 24,
     "metadata": {},
     "output_type": "execute_result"
    }
   ],
   "source": [
    "ld2 = laundry.copy()\n",
    "\n",
    "mappingtoWW = {'Monday': 'Weekdays','Tuesday': 'Weekdays','Wednesday': 'Weekdays','Thursday': 'Weekdays','Friday': 'Weekdays','Saturday': 'Weekend','Sunday': 'Weekend'}\n",
    "\n",
    "ld2['WW'] = laundry['PART_OF_WEEK'].map(mappingtoWW)\n",
    "ld2['WW'].head()"
   ]
  },
  {
   "cell_type": "code",
   "execution_count": 25,
   "metadata": {},
   "outputs": [
    {
     "name": "stdout",
     "output_type": "stream",
     "text": [
      "age range information : \n",
      "YOUNG : < 30\n",
      "ADULTS : 30 - 44\n",
      "OLDER ADULTS : > 44\n"
     ]
    },
    {
     "data": {
      "text/html": [
       "\n",
       "<div id=\"altair-viz-a33d3752efae4584bb852df940d33c89\"></div>\n",
       "<script type=\"text/javascript\">\n",
       "  (function(spec, embedOpt){\n",
       "    let outputDiv = document.currentScript.previousElementSibling;\n",
       "    if (outputDiv.id !== \"altair-viz-a33d3752efae4584bb852df940d33c89\") {\n",
       "      outputDiv = document.getElementById(\"altair-viz-a33d3752efae4584bb852df940d33c89\");\n",
       "    }\n",
       "    const paths = {\n",
       "      \"vega\": \"https://cdn.jsdelivr.net/npm//vega@5?noext\",\n",
       "      \"vega-lib\": \"https://cdn.jsdelivr.net/npm//vega-lib?noext\",\n",
       "      \"vega-lite\": \"https://cdn.jsdelivr.net/npm//vega-lite@4.8.1?noext\",\n",
       "      \"vega-embed\": \"https://cdn.jsdelivr.net/npm//vega-embed@6?noext\",\n",
       "    };\n",
       "\n",
       "    function loadScript(lib) {\n",
       "      return new Promise(function(resolve, reject) {\n",
       "        var s = document.createElement('script');\n",
       "        s.src = paths[lib];\n",
       "        s.async = true;\n",
       "        s.onload = () => resolve(paths[lib]);\n",
       "        s.onerror = () => reject(`Error loading script: ${paths[lib]}`);\n",
       "        document.getElementsByTagName(\"head\")[0].appendChild(s);\n",
       "      });\n",
       "    }\n",
       "\n",
       "    function showError(err) {\n",
       "      outputDiv.innerHTML = `<div class=\"error\" style=\"color:red;\">${err}</div>`;\n",
       "      throw err;\n",
       "    }\n",
       "\n",
       "    function displayChart(vegaEmbed) {\n",
       "      vegaEmbed(outputDiv, spec, embedOpt)\n",
       "        .catch(err => showError(`Javascript Error: ${err.message}<br>This usually means there's a typo in your chart specification. See the javascript console for the full traceback.`));\n",
       "    }\n",
       "\n",
       "    if(typeof define === \"function\" && define.amd) {\n",
       "      requirejs.config({paths});\n",
       "      require([\"vega-embed\"], displayChart, err => showError(`Error loading script: ${err.message}`));\n",
       "    } else if (typeof vegaEmbed === \"function\") {\n",
       "      displayChart(vegaEmbed);\n",
       "    } else {\n",
       "      loadScript(\"vega\")\n",
       "        .then(() => loadScript(\"vega-lite\"))\n",
       "        .then(() => loadScript(\"vega-embed\"))\n",
       "        .catch(showError)\n",
       "        .then(() => displayChart(vegaEmbed));\n",
       "    }\n",
       "  })({\"config\": {\"view\": {\"continuousWidth\": 400, \"continuousHeight\": 300}}, \"data\": {\"name\": \"data-2b2cee0b311f2b712363b99bf91dbd58\"}, \"mark\": \"bar\", \"encoding\": {\"color\": {\"type\": \"nominal\", \"field\": \"AGE_CATEGORY\", \"scale\": {\"range\": [\"#581845\", \"#C70039\", \"#FFC300\"]}}, \"x\": {\"type\": \"nominal\", \"field\": \"WW\"}, \"y\": {\"type\": \"quantitative\", \"field\": \"FREQUENCY\"}}, \"width\": 250, \"$schema\": \"https://vega.github.io/schema/vega-lite/v4.8.1.json\", \"datasets\": {\"data-2b2cee0b311f2b712363b99bf91dbd58\": [{\"WW\": \"Weekdays\", \"AGE_CATEGORY\": \"Young\", \"FREQUENCY\": 35}, {\"WW\": \"Weekdays\", \"AGE_CATEGORY\": \"Adults\", \"FREQUENCY\": 198}, {\"WW\": \"Weekdays\", \"AGE_CATEGORY\": \"Older adults\", \"FREQUENCY\": 138}, {\"WW\": \"Weekend\", \"AGE_CATEGORY\": \"Young\", \"FREQUENCY\": 28}, {\"WW\": \"Weekend\", \"AGE_CATEGORY\": \"Adults\", \"FREQUENCY\": 133}, {\"WW\": \"Weekend\", \"AGE_CATEGORY\": \"Older adults\", \"FREQUENCY\": 110}]}}, {\"mode\": \"vega-lite\"});\n",
       "</script>"
      ],
      "text/plain": [
       "alt.Chart(...)"
      ]
     },
     "execution_count": 25,
     "metadata": {},
     "output_type": "execute_result"
    }
   ],
   "source": [
    "# groupby age\n",
    "ac_ww = ld2.groupby(['WW','AGE_CATEGORY']).size().reset_index()\n",
    "ac_ww.rename(columns={0: 'FREQUENCY'}, inplace=True)\n",
    "\n",
    "# display result\n",
    "print(\"age range information : \")\n",
    "print(\"YOUNG : < 30\")\n",
    "print(\"ADULTS : 30 - 44\")\n",
    "print(\"OLDER ADULTS : > 44\")\n",
    "chartAge1 = alt.Chart(ac_ww).mark_bar().encode(\n",
    "    x='WW',\n",
    "    y='FREQUENCY',\n",
    "    color=alt.Color('AGE_CATEGORY', scale=alt.Scale(range=[\"#581845\",\"#C70039\", \"#FFC300\"]))\n",
    ").properties(\n",
    "    width=250  \n",
    ")\n",
    "\n",
    "chartAge1"
   ]
  },
  {
   "cell_type": "markdown",
   "metadata": {},
   "source": [
    "##### Day and Night"
   ]
  },
  {
   "cell_type": "code",
   "execution_count": 116,
   "metadata": {},
   "outputs": [
    {
     "data": {
      "text/html": [
       "\n",
       "<div id=\"altair-viz-d64e0dfbf7e84689bbe583321b3f6bf0\"></div>\n",
       "<script type=\"text/javascript\">\n",
       "  (function(spec, embedOpt){\n",
       "    let outputDiv = document.currentScript.previousElementSibling;\n",
       "    if (outputDiv.id !== \"altair-viz-d64e0dfbf7e84689bbe583321b3f6bf0\") {\n",
       "      outputDiv = document.getElementById(\"altair-viz-d64e0dfbf7e84689bbe583321b3f6bf0\");\n",
       "    }\n",
       "    const paths = {\n",
       "      \"vega\": \"https://cdn.jsdelivr.net/npm//vega@5?noext\",\n",
       "      \"vega-lib\": \"https://cdn.jsdelivr.net/npm//vega-lib?noext\",\n",
       "      \"vega-lite\": \"https://cdn.jsdelivr.net/npm//vega-lite@4.8.1?noext\",\n",
       "      \"vega-embed\": \"https://cdn.jsdelivr.net/npm//vega-embed@6?noext\",\n",
       "    };\n",
       "\n",
       "    function loadScript(lib) {\n",
       "      return new Promise(function(resolve, reject) {\n",
       "        var s = document.createElement('script');\n",
       "        s.src = paths[lib];\n",
       "        s.async = true;\n",
       "        s.onload = () => resolve(paths[lib]);\n",
       "        s.onerror = () => reject(`Error loading script: ${paths[lib]}`);\n",
       "        document.getElementsByTagName(\"head\")[0].appendChild(s);\n",
       "      });\n",
       "    }\n",
       "\n",
       "    function showError(err) {\n",
       "      outputDiv.innerHTML = `<div class=\"error\" style=\"color:red;\">${err}</div>`;\n",
       "      throw err;\n",
       "    }\n",
       "\n",
       "    function displayChart(vegaEmbed) {\n",
       "      vegaEmbed(outputDiv, spec, embedOpt)\n",
       "        .catch(err => showError(`Javascript Error: ${err.message}<br>This usually means there's a typo in your chart specification. See the javascript console for the full traceback.`));\n",
       "    }\n",
       "\n",
       "    if(typeof define === \"function\" && define.amd) {\n",
       "      requirejs.config({paths});\n",
       "      require([\"vega-embed\"], displayChart, err => showError(`Error loading script: ${err.message}`));\n",
       "    } else if (typeof vegaEmbed === \"function\") {\n",
       "      displayChart(vegaEmbed);\n",
       "    } else {\n",
       "      loadScript(\"vega\")\n",
       "        .then(() => loadScript(\"vega-lite\"))\n",
       "        .then(() => loadScript(\"vega-embed\"))\n",
       "        .catch(showError)\n",
       "        .then(() => displayChart(vegaEmbed));\n",
       "    }\n",
       "  })({\"config\": {\"view\": {\"continuousWidth\": 400, \"continuousHeight\": 300}}, \"data\": {\"name\": \"data-2b43794a25820fd60182632ddad3302b\"}, \"mark\": \"bar\", \"encoding\": {\"color\": {\"type\": \"nominal\", \"field\": \"AGE_CATEGORY\", \"scale\": {\"range\": [\"#581845\", \"#C70039\", \"#FFC300\"]}}, \"x\": {\"type\": \"nominal\", \"field\": \"PART_OF_DAY\"}, \"y\": {\"type\": \"quantitative\", \"field\": \"FREQUENCY\"}}, \"width\": 250, \"$schema\": \"https://vega.github.io/schema/vega-lite/v4.8.1.json\", \"datasets\": {\"data-2b43794a25820fd60182632ddad3302b\": [{\"PART_OF_DAY\": \"Day\", \"AGE_CATEGORY\": \"Young\", \"FREQUENCY\": 21}, {\"PART_OF_DAY\": \"Day\", \"AGE_CATEGORY\": \"Adults\", \"FREQUENCY\": 149}, {\"PART_OF_DAY\": \"Day\", \"AGE_CATEGORY\": \"Older adults\", \"FREQUENCY\": 129}, {\"PART_OF_DAY\": \"Night\", \"AGE_CATEGORY\": \"Young\", \"FREQUENCY\": 42}, {\"PART_OF_DAY\": \"Night\", \"AGE_CATEGORY\": \"Adults\", \"FREQUENCY\": 182}, {\"PART_OF_DAY\": \"Night\", \"AGE_CATEGORY\": \"Older adults\", \"FREQUENCY\": 119}]}}, {\"mode\": \"vega-lite\"});\n",
       "</script>"
      ],
      "text/plain": [
       "alt.Chart(...)"
      ]
     },
     "execution_count": 116,
     "metadata": {},
     "output_type": "execute_result"
    }
   ],
   "source": [
    "ac_dn = ld2.groupby(['PART_OF_DAY','AGE_CATEGORY']).size().reset_index()\n",
    "ac_dn.rename(columns={0: 'FREQUENCY'}, inplace=True)\n",
    "\n",
    "chartAge2 = alt.Chart(ac_dn).mark_bar().encode(\n",
    "    x='PART_OF_DAY',\n",
    "    y='FREQUENCY',\n",
    "    color=alt.Color('AGE_CATEGORY', scale=alt.Scale(range=[\"#581845\",\"#C70039\", \"#FFC300\"]))\n",
    ").properties(\n",
    "    width=250  \n",
    ")\n",
    "chartAge2"
   ]
  },
  {
   "cell_type": "markdown",
   "metadata": {},
   "source": [
    "#### CUSTOMER TYPE BASED ON: WITH_KIDS\n",
    "##### weekend weekdays"
   ]
  },
  {
   "cell_type": "code",
   "execution_count": 31,
   "metadata": {},
   "outputs": [
    {
     "data": {
      "text/html": [
       "\n",
       "<div id=\"altair-viz-899d381f8bbe4351a80d85e8670d2f51\"></div>\n",
       "<script type=\"text/javascript\">\n",
       "  (function(spec, embedOpt){\n",
       "    let outputDiv = document.currentScript.previousElementSibling;\n",
       "    if (outputDiv.id !== \"altair-viz-899d381f8bbe4351a80d85e8670d2f51\") {\n",
       "      outputDiv = document.getElementById(\"altair-viz-899d381f8bbe4351a80d85e8670d2f51\");\n",
       "    }\n",
       "    const paths = {\n",
       "      \"vega\": \"https://cdn.jsdelivr.net/npm//vega@5?noext\",\n",
       "      \"vega-lib\": \"https://cdn.jsdelivr.net/npm//vega-lib?noext\",\n",
       "      \"vega-lite\": \"https://cdn.jsdelivr.net/npm//vega-lite@4.8.1?noext\",\n",
       "      \"vega-embed\": \"https://cdn.jsdelivr.net/npm//vega-embed@6?noext\",\n",
       "    };\n",
       "\n",
       "    function loadScript(lib) {\n",
       "      return new Promise(function(resolve, reject) {\n",
       "        var s = document.createElement('script');\n",
       "        s.src = paths[lib];\n",
       "        s.async = true;\n",
       "        s.onload = () => resolve(paths[lib]);\n",
       "        s.onerror = () => reject(`Error loading script: ${paths[lib]}`);\n",
       "        document.getElementsByTagName(\"head\")[0].appendChild(s);\n",
       "      });\n",
       "    }\n",
       "\n",
       "    function showError(err) {\n",
       "      outputDiv.innerHTML = `<div class=\"error\" style=\"color:red;\">${err}</div>`;\n",
       "      throw err;\n",
       "    }\n",
       "\n",
       "    function displayChart(vegaEmbed) {\n",
       "      vegaEmbed(outputDiv, spec, embedOpt)\n",
       "        .catch(err => showError(`Javascript Error: ${err.message}<br>This usually means there's a typo in your chart specification. See the javascript console for the full traceback.`));\n",
       "    }\n",
       "\n",
       "    if(typeof define === \"function\" && define.amd) {\n",
       "      requirejs.config({paths});\n",
       "      require([\"vega-embed\"], displayChart, err => showError(`Error loading script: ${err.message}`));\n",
       "    } else if (typeof vegaEmbed === \"function\") {\n",
       "      displayChart(vegaEmbed);\n",
       "    } else {\n",
       "      loadScript(\"vega\")\n",
       "        .then(() => loadScript(\"vega-lite\"))\n",
       "        .then(() => loadScript(\"vega-embed\"))\n",
       "        .catch(showError)\n",
       "        .then(() => displayChart(vegaEmbed));\n",
       "    }\n",
       "  })({\"config\": {\"view\": {\"continuousWidth\": 400, \"continuousHeight\": 300}}, \"data\": {\"name\": \"data-e7e4ace63f79512d1055775cb96571a5\"}, \"mark\": \"bar\", \"encoding\": {\"color\": {\"type\": \"nominal\", \"field\": \"WITH_KIDS\", \"scale\": {\"range\": [\"#F5D787\", \"#A5F587\"]}}, \"x\": {\"type\": \"nominal\", \"field\": \"WW\"}, \"y\": {\"type\": \"quantitative\", \"field\": \"FREQUENCY\"}}, \"width\": 250, \"$schema\": \"https://vega.github.io/schema/vega-lite/v4.8.1.json\", \"datasets\": {\"data-e7e4ace63f79512d1055775cb96571a5\": [{\"WW\": \"Weekdays\", \"WITH_KIDS\": \"no\", \"FREQUENCY\": 317}, {\"WW\": \"Weekdays\", \"WITH_KIDS\": \"yes\", \"FREQUENCY\": 54}, {\"WW\": \"Weekend\", \"WITH_KIDS\": \"no\", \"FREQUENCY\": 183}, {\"WW\": \"Weekend\", \"WITH_KIDS\": \"yes\", \"FREQUENCY\": 88}]}}, {\"mode\": \"vega-lite\"});\n",
       "</script>"
      ],
      "text/plain": [
       "alt.Chart(...)"
      ]
     },
     "execution_count": 31,
     "metadata": {},
     "output_type": "execute_result"
    }
   ],
   "source": [
    "k_ww = ld2.groupby(['WW','WITH_KIDS']).size().reset_index()\n",
    "k_ww.rename(columns={0: 'FREQUENCY'}, inplace=True)\n",
    "\n",
    "chartWkids1 = alt.Chart(k_ww).mark_bar().encode(\n",
    "    x='WW',\n",
    "    y='FREQUENCY',\n",
    "    color=alt.Color('WITH_KIDS', scale=alt.Scale(range=[\"#F5D787\", \"#A5F587\"]))\n",
    ").properties(\n",
    "    width=250  \n",
    ")\n",
    "\n",
    "\n",
    "chartWkids1"
   ]
  },
  {
   "cell_type": "markdown",
   "metadata": {},
   "source": [
    "##### Days and Night"
   ]
  },
  {
   "cell_type": "code",
   "execution_count": 32,
   "metadata": {},
   "outputs": [
    {
     "data": {
      "text/html": [
       "\n",
       "<div id=\"altair-viz-836a2d23445b46e48774ea50445a3813\"></div>\n",
       "<script type=\"text/javascript\">\n",
       "  (function(spec, embedOpt){\n",
       "    let outputDiv = document.currentScript.previousElementSibling;\n",
       "    if (outputDiv.id !== \"altair-viz-836a2d23445b46e48774ea50445a3813\") {\n",
       "      outputDiv = document.getElementById(\"altair-viz-836a2d23445b46e48774ea50445a3813\");\n",
       "    }\n",
       "    const paths = {\n",
       "      \"vega\": \"https://cdn.jsdelivr.net/npm//vega@5?noext\",\n",
       "      \"vega-lib\": \"https://cdn.jsdelivr.net/npm//vega-lib?noext\",\n",
       "      \"vega-lite\": \"https://cdn.jsdelivr.net/npm//vega-lite@4.8.1?noext\",\n",
       "      \"vega-embed\": \"https://cdn.jsdelivr.net/npm//vega-embed@6?noext\",\n",
       "    };\n",
       "\n",
       "    function loadScript(lib) {\n",
       "      return new Promise(function(resolve, reject) {\n",
       "        var s = document.createElement('script');\n",
       "        s.src = paths[lib];\n",
       "        s.async = true;\n",
       "        s.onload = () => resolve(paths[lib]);\n",
       "        s.onerror = () => reject(`Error loading script: ${paths[lib]}`);\n",
       "        document.getElementsByTagName(\"head\")[0].appendChild(s);\n",
       "      });\n",
       "    }\n",
       "\n",
       "    function showError(err) {\n",
       "      outputDiv.innerHTML = `<div class=\"error\" style=\"color:red;\">${err}</div>`;\n",
       "      throw err;\n",
       "    }\n",
       "\n",
       "    function displayChart(vegaEmbed) {\n",
       "      vegaEmbed(outputDiv, spec, embedOpt)\n",
       "        .catch(err => showError(`Javascript Error: ${err.message}<br>This usually means there's a typo in your chart specification. See the javascript console for the full traceback.`));\n",
       "    }\n",
       "\n",
       "    if(typeof define === \"function\" && define.amd) {\n",
       "      requirejs.config({paths});\n",
       "      require([\"vega-embed\"], displayChart, err => showError(`Error loading script: ${err.message}`));\n",
       "    } else if (typeof vegaEmbed === \"function\") {\n",
       "      displayChart(vegaEmbed);\n",
       "    } else {\n",
       "      loadScript(\"vega\")\n",
       "        .then(() => loadScript(\"vega-lite\"))\n",
       "        .then(() => loadScript(\"vega-embed\"))\n",
       "        .catch(showError)\n",
       "        .then(() => displayChart(vegaEmbed));\n",
       "    }\n",
       "  })({\"config\": {\"view\": {\"continuousWidth\": 400, \"continuousHeight\": 300}}, \"data\": {\"name\": \"data-8521ff7c54f1ac12b3f5e810f1b22ae6\"}, \"mark\": \"bar\", \"encoding\": {\"color\": {\"type\": \"nominal\", \"field\": \"WITH_KIDS\", \"scale\": {\"range\": [\"#F5D787\", \"#A5F587\"]}}, \"x\": {\"type\": \"nominal\", \"field\": \"PART_OF_DAY\"}, \"y\": {\"type\": \"quantitative\", \"field\": \"FREQUENCY\"}}, \"width\": 250, \"$schema\": \"https://vega.github.io/schema/vega-lite/v4.8.1.json\", \"datasets\": {\"data-8521ff7c54f1ac12b3f5e810f1b22ae6\": [{\"PART_OF_DAY\": \"Day\", \"WITH_KIDS\": \"no\", \"FREQUENCY\": 235}, {\"PART_OF_DAY\": \"Day\", \"WITH_KIDS\": \"yes\", \"FREQUENCY\": 64}, {\"PART_OF_DAY\": \"Night\", \"WITH_KIDS\": \"no\", \"FREQUENCY\": 265}, {\"PART_OF_DAY\": \"Night\", \"WITH_KIDS\": \"yes\", \"FREQUENCY\": 78}]}}, {\"mode\": \"vega-lite\"});\n",
       "</script>"
      ],
      "text/plain": [
       "alt.Chart(...)"
      ]
     },
     "execution_count": 32,
     "metadata": {},
     "output_type": "execute_result"
    }
   ],
   "source": [
    "k_dn = ld2.groupby(['PART_OF_DAY','WITH_KIDS']).size().reset_index()\n",
    "k_dn.rename(columns={0: 'FREQUENCY'}, inplace=True)\n",
    "\n",
    "chartWkids2 = alt.Chart(k_dn).mark_bar().encode(\n",
    "    x='PART_OF_DAY',\n",
    "    y='FREQUENCY',\n",
    "    color=alt.Color('WITH_KIDS', scale=alt.Scale(range=[\"#F5D787\", \"#A5F587\"]))\n",
    ").properties(\n",
    "    width=250  \n",
    ")\n",
    "\n",
    "chartWkids2"
   ]
  },
  {
   "cell_type": "markdown",
   "metadata": {},
   "source": [
    "#### CLUSTERING - AGE RANGE"
   ]
  },
  {
   "cell_type": "code",
   "execution_count": 33,
   "metadata": {},
   "outputs": [
    {
     "data": {
      "text/html": [
       "<div>\n",
       "<style scoped>\n",
       "    .dataframe tbody tr th:only-of-type {\n",
       "        vertical-align: middle;\n",
       "    }\n",
       "\n",
       "    .dataframe tbody tr th {\n",
       "        vertical-align: top;\n",
       "    }\n",
       "\n",
       "    .dataframe thead th {\n",
       "        text-align: right;\n",
       "    }\n",
       "</style>\n",
       "<table border=\"1\" class=\"dataframe\">\n",
       "  <thead>\n",
       "    <tr style=\"text-align: right;\">\n",
       "      <th></th>\n",
       "      <th>PART_OF_DAY</th>\n",
       "      <th>AGE_RANGE</th>\n",
       "    </tr>\n",
       "  </thead>\n",
       "  <tbody>\n",
       "    <tr>\n",
       "      <th>0</th>\n",
       "      <td>Night</td>\n",
       "      <td>28.0</td>\n",
       "    </tr>\n",
       "    <tr>\n",
       "      <th>1</th>\n",
       "      <td>Night</td>\n",
       "      <td>32.0</td>\n",
       "    </tr>\n",
       "    <tr>\n",
       "      <th>2</th>\n",
       "      <td>Night</td>\n",
       "      <td>30.0</td>\n",
       "    </tr>\n",
       "    <tr>\n",
       "      <th>4</th>\n",
       "      <td>Night</td>\n",
       "      <td>34.0</td>\n",
       "    </tr>\n",
       "    <tr>\n",
       "      <th>8</th>\n",
       "      <td>Night</td>\n",
       "      <td>30.0</td>\n",
       "    </tr>\n",
       "    <tr>\n",
       "      <th>...</th>\n",
       "      <td>...</td>\n",
       "      <td>...</td>\n",
       "    </tr>\n",
       "    <tr>\n",
       "      <th>802</th>\n",
       "      <td>Night</td>\n",
       "      <td>45.0</td>\n",
       "    </tr>\n",
       "    <tr>\n",
       "      <th>803</th>\n",
       "      <td>Night</td>\n",
       "      <td>34.0</td>\n",
       "    </tr>\n",
       "    <tr>\n",
       "      <th>804</th>\n",
       "      <td>Night</td>\n",
       "      <td>53.0</td>\n",
       "    </tr>\n",
       "    <tr>\n",
       "      <th>805</th>\n",
       "      <td>Night</td>\n",
       "      <td>37.0</td>\n",
       "    </tr>\n",
       "    <tr>\n",
       "      <th>806</th>\n",
       "      <td>Night</td>\n",
       "      <td>29.0</td>\n",
       "    </tr>\n",
       "  </tbody>\n",
       "</table>\n",
       "<p>642 rows × 2 columns</p>\n",
       "</div>"
      ],
      "text/plain": [
       "    PART_OF_DAY  AGE_RANGE\n",
       "0         Night       28.0\n",
       "1         Night       32.0\n",
       "2         Night       30.0\n",
       "4         Night       34.0\n",
       "8         Night       30.0\n",
       "..          ...        ...\n",
       "802       Night       45.0\n",
       "803       Night       34.0\n",
       "804       Night       53.0\n",
       "805       Night       37.0\n",
       "806       Night       29.0\n",
       "\n",
       "[642 rows x 2 columns]"
      ]
     },
     "execution_count": 33,
     "metadata": {},
     "output_type": "execute_result"
    }
   ],
   "source": [
    "# get the data to cluster\n",
    "cluster_data = ld2[['PART_OF_DAY','AGE_RANGE']]\n",
    "cluster_data"
   ]
  },
  {
   "cell_type": "code",
   "execution_count": 34,
   "metadata": {},
   "outputs": [
    {
     "data": {
      "text/html": [
       "<div>\n",
       "<style scoped>\n",
       "    .dataframe tbody tr th:only-of-type {\n",
       "        vertical-align: middle;\n",
       "    }\n",
       "\n",
       "    .dataframe tbody tr th {\n",
       "        vertical-align: top;\n",
       "    }\n",
       "\n",
       "    .dataframe thead th {\n",
       "        text-align: right;\n",
       "    }\n",
       "</style>\n",
       "<table border=\"1\" class=\"dataframe\">\n",
       "  <thead>\n",
       "    <tr style=\"text-align: right;\">\n",
       "      <th></th>\n",
       "      <th>Day</th>\n",
       "      <th>Night</th>\n",
       "    </tr>\n",
       "  </thead>\n",
       "  <tbody>\n",
       "    <tr>\n",
       "      <th>0</th>\n",
       "      <td>0</td>\n",
       "      <td>1</td>\n",
       "    </tr>\n",
       "    <tr>\n",
       "      <th>1</th>\n",
       "      <td>0</td>\n",
       "      <td>1</td>\n",
       "    </tr>\n",
       "    <tr>\n",
       "      <th>2</th>\n",
       "      <td>0</td>\n",
       "      <td>1</td>\n",
       "    </tr>\n",
       "    <tr>\n",
       "      <th>4</th>\n",
       "      <td>0</td>\n",
       "      <td>1</td>\n",
       "    </tr>\n",
       "    <tr>\n",
       "      <th>8</th>\n",
       "      <td>0</td>\n",
       "      <td>1</td>\n",
       "    </tr>\n",
       "    <tr>\n",
       "      <th>...</th>\n",
       "      <td>...</td>\n",
       "      <td>...</td>\n",
       "    </tr>\n",
       "    <tr>\n",
       "      <th>802</th>\n",
       "      <td>0</td>\n",
       "      <td>1</td>\n",
       "    </tr>\n",
       "    <tr>\n",
       "      <th>803</th>\n",
       "      <td>0</td>\n",
       "      <td>1</td>\n",
       "    </tr>\n",
       "    <tr>\n",
       "      <th>804</th>\n",
       "      <td>0</td>\n",
       "      <td>1</td>\n",
       "    </tr>\n",
       "    <tr>\n",
       "      <th>805</th>\n",
       "      <td>0</td>\n",
       "      <td>1</td>\n",
       "    </tr>\n",
       "    <tr>\n",
       "      <th>806</th>\n",
       "      <td>0</td>\n",
       "      <td>1</td>\n",
       "    </tr>\n",
       "  </tbody>\n",
       "</table>\n",
       "<p>642 rows × 2 columns</p>\n",
       "</div>"
      ],
      "text/plain": [
       "     Day  Night\n",
       "0      0      1\n",
       "1      0      1\n",
       "2      0      1\n",
       "4      0      1\n",
       "8      0      1\n",
       "..   ...    ...\n",
       "802    0      1\n",
       "803    0      1\n",
       "804    0      1\n",
       "805    0      1\n",
       "806    0      1\n",
       "\n",
       "[642 rows x 2 columns]"
      ]
     },
     "execution_count": 34,
     "metadata": {},
     "output_type": "execute_result"
    }
   ],
   "source": [
    "# perform dummification\n",
    "X = pd.get_dummies(cluster_data['PART_OF_DAY'], drop_first=False)\n",
    "X"
   ]
  },
  {
   "cell_type": "code",
   "execution_count": 35,
   "metadata": {},
   "outputs": [],
   "source": [
    "X.columns = X.columns.add_categories('AGE_RANGE')\n",
    "X['AGE_RANGE'] =cluster_data['AGE_RANGE']"
   ]
  },
  {
   "cell_type": "code",
   "execution_count": 117,
   "metadata": {},
   "outputs": [
    {
     "data": {
      "image/png": "[encoded data removed]",
      "text/plain": [
       "<Figure size 432x288 with 1 Axes>"
      ]
     },
     "metadata": {
      "needs_background": "light"
     },
     "output_type": "display_data"
    }
   ],
   "source": [
    "# find number of cluster\n",
    "from sklearn.cluster import KMeans \n",
    "distortions = []\n",
    "\n",
    "for i in range(1, 11):\n",
    "    km = KMeans(\n",
    "        n_clusters=i, init='random',\n",
    "        n_init=10, max_iter=300,\n",
    "        tol=1e-04, random_state=0\n",
    "    )\n",
    "    km.fit(X)\n",
    "    distortions.append(km.inertia_)\n",
    "\n",
    "# plot\n",
    "plt.plot(range(1, 11), distortions, marker='o')\n",
    "plt.xlabel('Number of clusters')\n",
    "plt.ylabel('Distortion')\n",
    "plt.show()\n",
    "#elbow"
   ]
  },
  {
   "cell_type": "code",
   "execution_count": 38,
   "metadata": {},
   "outputs": [
    {
     "data": {
      "text/plain": [
       "KMeans(n_clusters=3, random_state=0)"
      ]
     },
     "execution_count": 38,
     "metadata": {},
     "output_type": "execute_result"
    }
   ],
   "source": [
    "# perform clustering\n",
    "km = KMeans(n_clusters = 3, random_state=0)\n",
    "km.fit(X)"
   ]
  },
  {
   "cell_type": "code",
   "execution_count": 39,
   "metadata": {},
   "outputs": [
    {
     "data": {
      "text/html": [
       "<div>\n",
       "<style scoped>\n",
       "    .dataframe tbody tr th:only-of-type {\n",
       "        vertical-align: middle;\n",
       "    }\n",
       "\n",
       "    .dataframe tbody tr th {\n",
       "        vertical-align: top;\n",
       "    }\n",
       "\n",
       "    .dataframe thead th {\n",
       "        text-align: right;\n",
       "    }\n",
       "</style>\n",
       "<table border=\"1\" class=\"dataframe\">\n",
       "  <thead>\n",
       "    <tr style=\"text-align: right;\">\n",
       "      <th></th>\n",
       "      <th>cluster</th>\n",
       "      <th>PART_OF_DAY</th>\n",
       "      <th>AGE_RANGE</th>\n",
       "    </tr>\n",
       "  </thead>\n",
       "  <tbody>\n",
       "    <tr>\n",
       "      <th>0</th>\n",
       "      <td>1</td>\n",
       "      <td>Night</td>\n",
       "      <td>28.0</td>\n",
       "    </tr>\n",
       "    <tr>\n",
       "      <th>1</th>\n",
       "      <td>1</td>\n",
       "      <td>Night</td>\n",
       "      <td>32.0</td>\n",
       "    </tr>\n",
       "    <tr>\n",
       "      <th>2</th>\n",
       "      <td>1</td>\n",
       "      <td>Night</td>\n",
       "      <td>30.0</td>\n",
       "    </tr>\n",
       "    <tr>\n",
       "      <th>4</th>\n",
       "      <td>1</td>\n",
       "      <td>Night</td>\n",
       "      <td>34.0</td>\n",
       "    </tr>\n",
       "    <tr>\n",
       "      <th>8</th>\n",
       "      <td>1</td>\n",
       "      <td>Night</td>\n",
       "      <td>30.0</td>\n",
       "    </tr>\n",
       "  </tbody>\n",
       "</table>\n",
       "</div>"
      ],
      "text/plain": [
       "   cluster PART_OF_DAY  AGE_RANGE\n",
       "0        1       Night       28.0\n",
       "1        1       Night       32.0\n",
       "2        1       Night       30.0\n",
       "4        1       Night       34.0\n",
       "8        1       Night       30.0"
      ]
     },
     "execution_count": 39,
     "metadata": {},
     "output_type": "execute_result"
    }
   ],
   "source": [
    "cluster_data_new = cluster_data.copy()\n",
    "cluster_data_new.insert(0, \"cluster\", km.labels_, True)\n",
    "cluster_data_new.head()"
   ]
  },
  {
   "cell_type": "code",
   "execution_count": 40,
   "metadata": {},
   "outputs": [],
   "source": [
    "cluster_0 = cluster_data_new[cluster_data_new['cluster'] == 0]\n",
    "cluster_1 = cluster_data_new[cluster_data_new['cluster'] == 1]\n",
    "cluster_2 = cluster_data_new[cluster_data_new['cluster'] == 2]"
   ]
  },
  {
   "cell_type": "code",
   "execution_count": 41,
   "metadata": {},
   "outputs": [
    {
     "data": {
      "text/plain": [
       "array([55., 50., 51., 48., 49., 54., 53., 52.])"
      ]
     },
     "execution_count": 41,
     "metadata": {},
     "output_type": "execute_result"
    }
   ],
   "source": [
    "cluster_0['AGE_RANGE'].unique() #48 - 55"
   ]
  },
  {
   "cell_type": "code",
   "execution_count": 42,
   "metadata": {},
   "outputs": [
    {
     "data": {
      "text/plain": [
       "array([28., 32., 30., 34., 35., 31., 36., 29., 33., 37.])"
      ]
     },
     "execution_count": 42,
     "metadata": {},
     "output_type": "execute_result"
    }
   ],
   "source": [
    "cluster_1['AGE_RANGE'].unique() #28 - 37"
   ]
  },
  {
   "cell_type": "code",
   "execution_count": 43,
   "metadata": {},
   "outputs": [
    {
     "data": {
      "text/plain": [
       "array([44., 42., 40., 39., 46., 43., 45., 38., 41., 47.])"
      ]
     },
     "execution_count": 43,
     "metadata": {},
     "output_type": "execute_result"
    }
   ],
   "source": [
    "cluster_2['AGE_RANGE'].unique() #38 - 47"
   ]
  },
  {
   "cell_type": "code",
   "execution_count": 44,
   "metadata": {},
   "outputs": [
    {
     "data": {
      "text/html": [
       "\n",
       "<div id=\"altair-viz-cbf3e3430c004509859b0e726cedb0c3\"></div>\n",
       "<script type=\"text/javascript\">\n",
       "  (function(spec, embedOpt){\n",
       "    let outputDiv = document.currentScript.previousElementSibling;\n",
       "    if (outputDiv.id !== \"altair-viz-cbf3e3430c004509859b0e726cedb0c3\") {\n",
       "      outputDiv = document.getElementById(\"altair-viz-cbf3e3430c004509859b0e726cedb0c3\");\n",
       "    }\n",
       "    const paths = {\n",
       "      \"vega\": \"https://cdn.jsdelivr.net/npm//vega@5?noext\",\n",
       "      \"vega-lib\": \"https://cdn.jsdelivr.net/npm//vega-lib?noext\",\n",
       "      \"vega-lite\": \"https://cdn.jsdelivr.net/npm//vega-lite@4.8.1?noext\",\n",
       "      \"vega-embed\": \"https://cdn.jsdelivr.net/npm//vega-embed@6?noext\",\n",
       "    };\n",
       "\n",
       "    function loadScript(lib) {\n",
       "      return new Promise(function(resolve, reject) {\n",
       "        var s = document.createElement('script');\n",
       "        s.src = paths[lib];\n",
       "        s.async = true;\n",
       "        s.onload = () => resolve(paths[lib]);\n",
       "        s.onerror = () => reject(`Error loading script: ${paths[lib]}`);\n",
       "        document.getElementsByTagName(\"head\")[0].appendChild(s);\n",
       "      });\n",
       "    }\n",
       "\n",
       "    function showError(err) {\n",
       "      outputDiv.innerHTML = `<div class=\"error\" style=\"color:red;\">${err}</div>`;\n",
       "      throw err;\n",
       "    }\n",
       "\n",
       "    function displayChart(vegaEmbed) {\n",
       "      vegaEmbed(outputDiv, spec, embedOpt)\n",
       "        .catch(err => showError(`Javascript Error: ${err.message}<br>This usually means there's a typo in your chart specification. See the javascript console for the full traceback.`));\n",
       "    }\n",
       "\n",
       "    if(typeof define === \"function\" && define.amd) {\n",
       "      requirejs.config({paths});\n",
       "      require([\"vega-embed\"], displayChart, err => showError(`Error loading script: ${err.message}`));\n",
       "    } else if (typeof vegaEmbed === \"function\") {\n",
       "      displayChart(vegaEmbed);\n",
       "    } else {\n",
       "      loadScript(\"vega\")\n",
       "        .then(() => loadScript(\"vega-lite\"))\n",
       "        .then(() => loadScript(\"vega-embed\"))\n",
       "        .catch(showError)\n",
       "        .then(() => displayChart(vegaEmbed));\n",
       "    }\n",
       "  })({\"config\": {\"view\": {\"continuousWidth\": 400, \"continuousHeight\": 300}}, \"data\": {\"name\": \"data-0897d39e9c2827c8264b356fcd069ed7\"}, \"mark\": \"bar\", \"encoding\": {\"color\": {\"type\": \"nominal\", \"field\": \"cluster\", \"scale\": {\"range\": [\"#AAFF00\", \"#097969\", \"#454B1B\"]}}, \"column\": {\"type\": \"nominal\", \"field\": \"PART_OF_DAY\"}, \"x\": {\"type\": \"nominal\", \"axis\": {\"labels\": false, \"title\": null}, \"field\": \"cluster\"}, \"y\": {\"type\": \"quantitative\", \"aggregate\": \"count\", \"field\": \"AGE_RANGE\"}}, \"width\": 200, \"$schema\": \"https://vega.github.io/schema/vega-lite/v4.8.1.json\", \"datasets\": {\"data-0897d39e9c2827c8264b356fcd069ed7\": [{\"cluster\": \"28 - 37\", \"PART_OF_DAY\": \"Night\", \"AGE_RANGE\": 28.0}, {\"cluster\": \"28 - 37\", \"PART_OF_DAY\": \"Night\", \"AGE_RANGE\": 32.0}, {\"cluster\": \"28 - 37\", \"PART_OF_DAY\": \"Night\", \"AGE_RANGE\": 30.0}, {\"cluster\": \"28 - 37\", \"PART_OF_DAY\": \"Night\", \"AGE_RANGE\": 34.0}, {\"cluster\": \"28 - 37\", \"PART_OF_DAY\": \"Night\", \"AGE_RANGE\": 30.0}, {\"cluster\": \"28 - 37\", \"PART_OF_DAY\": \"Day\", \"AGE_RANGE\": 32.0}, {\"cluster\": \"48 - 55\", \"PART_OF_DAY\": \"Day\", \"AGE_RANGE\": 55.0}, {\"cluster\": \"48 - 55\", \"PART_OF_DAY\": \"Day\", \"AGE_RANGE\": 55.0}, {\"cluster\": \"48 - 55\", \"PART_OF_DAY\": \"Day\", \"AGE_RANGE\": 50.0}, {\"cluster\": \"28 - 37\", \"PART_OF_DAY\": \"Day\", \"AGE_RANGE\": 34.0}, {\"cluster\": \"38 - 47\", \"PART_OF_DAY\": \"Day\", \"AGE_RANGE\": 44.0}, {\"cluster\": \"38 - 47\", \"PART_OF_DAY\": \"Day\", \"AGE_RANGE\": 42.0}, {\"cluster\": \"38 - 47\", \"PART_OF_DAY\": \"Day\", \"AGE_RANGE\": 40.0}, {\"cluster\": \"38 - 47\", \"PART_OF_DAY\": \"Day\", \"AGE_RANGE\": 39.0}, {\"cluster\": \"48 - 55\", \"PART_OF_DAY\": \"Day\", \"AGE_RANGE\": 55.0}, {\"cluster\": \"28 - 37\", \"PART_OF_DAY\": \"Day\", \"AGE_RANGE\": 35.0}, {\"cluster\": \"28 - 37\", \"PART_OF_DAY\": \"Day\", \"AGE_RANGE\": 31.0}, {\"cluster\": \"28 - 37\", \"PART_OF_DAY\": \"Day\", \"AGE_RANGE\": 34.0}, {\"cluster\": \"28 - 37\", \"PART_OF_DAY\": \"Night\", \"AGE_RANGE\": 36.0}, {\"cluster\": \"48 - 55\", \"PART_OF_DAY\": \"Night\", \"AGE_RANGE\": 51.0}, {\"cluster\": \"38 - 47\", \"PART_OF_DAY\": \"Night\", \"AGE_RANGE\": 46.0}, {\"cluster\": \"48 - 55\", \"PART_OF_DAY\": \"Night\", \"AGE_RANGE\": 51.0}, {\"cluster\": \"48 - 55\", \"PART_OF_DAY\": \"Night\", \"AGE_RANGE\": 48.0}, {\"cluster\": \"28 - 37\", \"PART_OF_DAY\": \"Night\", \"AGE_RANGE\": 28.0}, {\"cluster\": \"48 - 55\", \"PART_OF_DAY\": \"Night\", \"AGE_RANGE\": 49.0}, {\"cluster\": \"48 - 55\", \"PART_OF_DAY\": \"Night\", \"AGE_RANGE\": 48.0}, {\"cluster\": \"38 - 47\", \"PART_OF_DAY\": \"Night\", \"AGE_RANGE\": 42.0}, {\"cluster\": \"38 - 47\", \"PART_OF_DAY\": \"Night\", \"AGE_RANGE\": 42.0}, {\"cluster\": \"48 - 55\", \"PART_OF_DAY\": \"Night\", \"AGE_RANGE\": 54.0}, {\"cluster\": \"38 - 47\", \"PART_OF_DAY\": \"Night\", \"AGE_RANGE\": 39.0}, {\"cluster\": \"48 - 55\", \"PART_OF_DAY\": \"Night\", \"AGE_RANGE\": 53.0}, {\"cluster\": \"28 - 37\", \"PART_OF_DAY\": \"Night\", \"AGE_RANGE\": 29.0}, {\"cluster\": \"38 - 47\", \"PART_OF_DAY\": \"Night\", \"AGE_RANGE\": 43.0}, {\"cluster\": \"28 - 37\", \"PART_OF_DAY\": \"Night\", \"AGE_RANGE\": 29.0}, {\"cluster\": \"48 - 55\", \"PART_OF_DAY\": \"Night\", \"AGE_RANGE\": 50.0}, {\"cluster\": \"28 - 37\", \"PART_OF_DAY\": \"Night\", \"AGE_RANGE\": 28.0}, {\"cluster\": \"48 - 55\", \"PART_OF_DAY\": \"Night\", \"AGE_RANGE\": 55.0}, {\"cluster\": \"28 - 37\", \"PART_OF_DAY\": \"Night\", \"AGE_RANGE\": 33.0}, {\"cluster\": \"48 - 55\", \"PART_OF_DAY\": \"Night\", \"AGE_RANGE\": 49.0}, {\"cluster\": \"38 - 47\", \"PART_OF_DAY\": \"Night\", \"AGE_RANGE\": 42.0}, {\"cluster\": \"38 - 47\", \"PART_OF_DAY\": \"Night\", \"AGE_RANGE\": 45.0}, {\"cluster\": \"28 - 37\", \"PART_OF_DAY\": \"Night\", \"AGE_RANGE\": 30.0}, {\"cluster\": \"28 - 37\", \"PART_OF_DAY\": \"Day\", \"AGE_RANGE\": 31.0}, {\"cluster\": \"48 - 55\", \"PART_OF_DAY\": \"Day\", \"AGE_RANGE\": 54.0}, {\"cluster\": \"48 - 55\", \"PART_OF_DAY\": \"Day\", \"AGE_RANGE\": 54.0}, {\"cluster\": \"38 - 47\", \"PART_OF_DAY\": \"Day\", \"AGE_RANGE\": 45.0}, {\"cluster\": \"38 - 47\", \"PART_OF_DAY\": \"Day\", \"AGE_RANGE\": 38.0}, {\"cluster\": \"48 - 55\", \"PART_OF_DAY\": \"Day\", \"AGE_RANGE\": 48.0}, {\"cluster\": \"38 - 47\", \"PART_OF_DAY\": \"Day\", \"AGE_RANGE\": 42.0}, {\"cluster\": \"48 - 55\", \"PART_OF_DAY\": \"Day\", \"AGE_RANGE\": 53.0}, {\"cluster\": \"38 - 47\", \"PART_OF_DAY\": \"Day\", \"AGE_RANGE\": 40.0}, {\"cluster\": \"48 - 55\", \"PART_OF_DAY\": \"Day\", \"AGE_RANGE\": 53.0}, {\"cluster\": \"48 - 55\", \"PART_OF_DAY\": \"Day\", \"AGE_RANGE\": 49.0}, {\"cluster\": \"48 - 55\", \"PART_OF_DAY\": \"Night\", \"AGE_RANGE\": 52.0}, {\"cluster\": \"28 - 37\", \"PART_OF_DAY\": \"Night\", \"AGE_RANGE\": 32.0}, {\"cluster\": \"28 - 37\", \"PART_OF_DAY\": \"Night\", \"AGE_RANGE\": 34.0}, {\"cluster\": \"28 - 37\", \"PART_OF_DAY\": \"Night\", \"AGE_RANGE\": 35.0}, {\"cluster\": \"48 - 55\", \"PART_OF_DAY\": \"Night\", \"AGE_RANGE\": 49.0}, {\"cluster\": \"28 - 37\", \"PART_OF_DAY\": \"Day\", \"AGE_RANGE\": 33.0}, {\"cluster\": \"48 - 55\", \"PART_OF_DAY\": \"Day\", \"AGE_RANGE\": 55.0}, {\"cluster\": \"48 - 55\", \"PART_OF_DAY\": \"Day\", \"AGE_RANGE\": 55.0}, {\"cluster\": \"48 - 55\", \"PART_OF_DAY\": \"Day\", \"AGE_RANGE\": 49.0}, {\"cluster\": \"38 - 47\", \"PART_OF_DAY\": \"Day\", \"AGE_RANGE\": 46.0}, {\"cluster\": \"38 - 47\", \"PART_OF_DAY\": \"Day\", \"AGE_RANGE\": 41.0}, {\"cluster\": \"48 - 55\", \"PART_OF_DAY\": \"Day\", \"AGE_RANGE\": 53.0}, {\"cluster\": \"38 - 47\", \"PART_OF_DAY\": \"Day\", \"AGE_RANGE\": 41.0}, {\"cluster\": \"48 - 55\", \"PART_OF_DAY\": \"Day\", \"AGE_RANGE\": 55.0}, {\"cluster\": \"28 - 37\", \"PART_OF_DAY\": \"Day\", \"AGE_RANGE\": 34.0}, {\"cluster\": \"38 - 47\", \"PART_OF_DAY\": \"Day\", \"AGE_RANGE\": 40.0}, {\"cluster\": \"38 - 47\", \"PART_OF_DAY\": \"Day\", \"AGE_RANGE\": 44.0}, {\"cluster\": \"48 - 55\", \"PART_OF_DAY\": \"Day\", \"AGE_RANGE\": 50.0}, {\"cluster\": \"48 - 55\", \"PART_OF_DAY\": \"Night\", \"AGE_RANGE\": 54.0}, {\"cluster\": \"38 - 47\", \"PART_OF_DAY\": \"Night\", \"AGE_RANGE\": 44.0}, {\"cluster\": \"28 - 37\", \"PART_OF_DAY\": \"Night\", \"AGE_RANGE\": 32.0}, {\"cluster\": \"28 - 37\", \"PART_OF_DAY\": \"Night\", \"AGE_RANGE\": 32.0}, {\"cluster\": \"38 - 47\", \"PART_OF_DAY\": \"Night\", \"AGE_RANGE\": 47.0}, {\"cluster\": \"28 - 37\", \"PART_OF_DAY\": \"Night\", \"AGE_RANGE\": 30.0}, {\"cluster\": \"28 - 37\", \"PART_OF_DAY\": \"Night\", \"AGE_RANGE\": 31.0}, {\"cluster\": \"38 - 47\", \"PART_OF_DAY\": \"Night\", \"AGE_RANGE\": 39.0}, {\"cluster\": \"38 - 47\", \"PART_OF_DAY\": \"Night\", \"AGE_RANGE\": 40.0}, {\"cluster\": \"48 - 55\", \"PART_OF_DAY\": \"Night\", \"AGE_RANGE\": 52.0}, {\"cluster\": \"28 - 37\", \"PART_OF_DAY\": \"Night\", \"AGE_RANGE\": 33.0}, {\"cluster\": \"38 - 47\", \"PART_OF_DAY\": \"Day\", \"AGE_RANGE\": 47.0}, {\"cluster\": \"48 - 55\", \"PART_OF_DAY\": \"Day\", \"AGE_RANGE\": 53.0}, {\"cluster\": \"38 - 47\", \"PART_OF_DAY\": \"Day\", \"AGE_RANGE\": 40.0}, {\"cluster\": \"28 - 37\", \"PART_OF_DAY\": \"Day\", \"AGE_RANGE\": 31.0}, {\"cluster\": \"38 - 47\", \"PART_OF_DAY\": \"Day\", \"AGE_RANGE\": 41.0}, {\"cluster\": \"38 - 47\", \"PART_OF_DAY\": \"Day\", \"AGE_RANGE\": 41.0}, {\"cluster\": \"28 - 37\", \"PART_OF_DAY\": \"Day\", \"AGE_RANGE\": 30.0}, {\"cluster\": \"28 - 37\", \"PART_OF_DAY\": \"Night\", \"AGE_RANGE\": 36.0}, {\"cluster\": \"48 - 55\", \"PART_OF_DAY\": \"Night\", \"AGE_RANGE\": 53.0}, {\"cluster\": \"38 - 47\", \"PART_OF_DAY\": \"Night\", \"AGE_RANGE\": 39.0}, {\"cluster\": \"48 - 55\", \"PART_OF_DAY\": \"Day\", \"AGE_RANGE\": 48.0}, {\"cluster\": \"48 - 55\", \"PART_OF_DAY\": \"Day\", \"AGE_RANGE\": 50.0}, {\"cluster\": \"38 - 47\", \"PART_OF_DAY\": \"Day\", \"AGE_RANGE\": 41.0}, {\"cluster\": \"48 - 55\", \"PART_OF_DAY\": \"Day\", \"AGE_RANGE\": 53.0}, {\"cluster\": \"48 - 55\", \"PART_OF_DAY\": \"Day\", \"AGE_RANGE\": 51.0}, {\"cluster\": \"28 - 37\", \"PART_OF_DAY\": \"Day\", \"AGE_RANGE\": 31.0}, {\"cluster\": \"48 - 55\", \"PART_OF_DAY\": \"Day\", \"AGE_RANGE\": 50.0}, {\"cluster\": \"38 - 47\", \"PART_OF_DAY\": \"Day\", \"AGE_RANGE\": 40.0}, {\"cluster\": \"48 - 55\", \"PART_OF_DAY\": \"Day\", \"AGE_RANGE\": 54.0}, {\"cluster\": \"38 - 47\", \"PART_OF_DAY\": \"Day\", \"AGE_RANGE\": 39.0}, {\"cluster\": \"38 - 47\", \"PART_OF_DAY\": \"Day\", \"AGE_RANGE\": 41.0}, {\"cluster\": \"38 - 47\", \"PART_OF_DAY\": \"Night\", \"AGE_RANGE\": 41.0}, {\"cluster\": \"28 - 37\", \"PART_OF_DAY\": \"Night\", \"AGE_RANGE\": 29.0}, {\"cluster\": \"38 - 47\", \"PART_OF_DAY\": \"Night\", \"AGE_RANGE\": 42.0}, {\"cluster\": \"28 - 37\", \"PART_OF_DAY\": \"Day\", \"AGE_RANGE\": 30.0}, {\"cluster\": \"48 - 55\", \"PART_OF_DAY\": \"Day\", \"AGE_RANGE\": 54.0}, {\"cluster\": \"38 - 47\", \"PART_OF_DAY\": \"Day\", \"AGE_RANGE\": 47.0}, {\"cluster\": \"38 - 47\", \"PART_OF_DAY\": \"Day\", \"AGE_RANGE\": 46.0}, {\"cluster\": \"38 - 47\", \"PART_OF_DAY\": \"Day\", \"AGE_RANGE\": 41.0}, {\"cluster\": \"38 - 47\", \"PART_OF_DAY\": \"Day\", \"AGE_RANGE\": 41.0}, {\"cluster\": \"38 - 47\", \"PART_OF_DAY\": \"Night\", \"AGE_RANGE\": 42.0}, {\"cluster\": \"28 - 37\", \"PART_OF_DAY\": \"Night\", \"AGE_RANGE\": 32.0}, {\"cluster\": \"28 - 37\", \"PART_OF_DAY\": \"Night\", \"AGE_RANGE\": 35.0}, {\"cluster\": \"38 - 47\", \"PART_OF_DAY\": \"Night\", \"AGE_RANGE\": 45.0}, {\"cluster\": \"28 - 37\", \"PART_OF_DAY\": \"Night\", \"AGE_RANGE\": 35.0}, {\"cluster\": \"38 - 47\", \"PART_OF_DAY\": \"Night\", \"AGE_RANGE\": 47.0}, {\"cluster\": \"28 - 37\", \"PART_OF_DAY\": \"Night\", \"AGE_RANGE\": 34.0}, {\"cluster\": \"38 - 47\", \"PART_OF_DAY\": \"Night\", \"AGE_RANGE\": 44.0}, {\"cluster\": \"38 - 47\", \"PART_OF_DAY\": \"Night\", \"AGE_RANGE\": 38.0}, {\"cluster\": \"48 - 55\", \"PART_OF_DAY\": \"Day\", \"AGE_RANGE\": 49.0}, {\"cluster\": \"38 - 47\", \"PART_OF_DAY\": \"Night\", \"AGE_RANGE\": 47.0}, {\"cluster\": \"48 - 55\", \"PART_OF_DAY\": \"Night\", \"AGE_RANGE\": 48.0}, {\"cluster\": \"48 - 55\", \"PART_OF_DAY\": \"Night\", \"AGE_RANGE\": 52.0}, {\"cluster\": \"28 - 37\", \"PART_OF_DAY\": \"Day\", \"AGE_RANGE\": 29.0}, {\"cluster\": \"38 - 47\", \"PART_OF_DAY\": \"Day\", \"AGE_RANGE\": 44.0}, {\"cluster\": \"48 - 55\", \"PART_OF_DAY\": \"Day\", \"AGE_RANGE\": 50.0}, {\"cluster\": \"28 - 37\", \"PART_OF_DAY\": \"Day\", \"AGE_RANGE\": 34.0}, {\"cluster\": \"48 - 55\", \"PART_OF_DAY\": \"Day\", \"AGE_RANGE\": 53.0}, {\"cluster\": \"38 - 47\", \"PART_OF_DAY\": \"Day\", \"AGE_RANGE\": 47.0}, {\"cluster\": \"48 - 55\", \"PART_OF_DAY\": \"Day\", \"AGE_RANGE\": 53.0}, {\"cluster\": \"28 - 37\", \"PART_OF_DAY\": \"Day\", \"AGE_RANGE\": 36.0}, {\"cluster\": \"38 - 47\", \"PART_OF_DAY\": \"Day\", \"AGE_RANGE\": 43.0}, {\"cluster\": \"38 - 47\", \"PART_OF_DAY\": \"Day\", \"AGE_RANGE\": 44.0}, {\"cluster\": \"48 - 55\", \"PART_OF_DAY\": \"Day\", \"AGE_RANGE\": 50.0}, {\"cluster\": \"48 - 55\", \"PART_OF_DAY\": \"Day\", \"AGE_RANGE\": 55.0}, {\"cluster\": \"28 - 37\", \"PART_OF_DAY\": \"Day\", \"AGE_RANGE\": 29.0}, {\"cluster\": \"28 - 37\", \"PART_OF_DAY\": \"Day\", \"AGE_RANGE\": 28.0}, {\"cluster\": \"28 - 37\", \"PART_OF_DAY\": \"Day\", \"AGE_RANGE\": 35.0}, {\"cluster\": \"38 - 47\", \"PART_OF_DAY\": \"Day\", \"AGE_RANGE\": 46.0}, {\"cluster\": \"48 - 55\", \"PART_OF_DAY\": \"Day\", \"AGE_RANGE\": 50.0}, {\"cluster\": \"28 - 37\", \"PART_OF_DAY\": \"Day\", \"AGE_RANGE\": 33.0}, {\"cluster\": \"28 - 37\", \"PART_OF_DAY\": \"Day\", \"AGE_RANGE\": 34.0}, {\"cluster\": \"38 - 47\", \"PART_OF_DAY\": \"Day\", \"AGE_RANGE\": 40.0}, {\"cluster\": \"28 - 37\", \"PART_OF_DAY\": \"Day\", \"AGE_RANGE\": 33.0}, {\"cluster\": \"48 - 55\", \"PART_OF_DAY\": \"Day\", \"AGE_RANGE\": 52.0}, {\"cluster\": \"48 - 55\", \"PART_OF_DAY\": \"Day\", \"AGE_RANGE\": 54.0}, {\"cluster\": \"38 - 47\", \"PART_OF_DAY\": \"Day\", \"AGE_RANGE\": 38.0}, {\"cluster\": \"38 - 47\", \"PART_OF_DAY\": \"Day\", \"AGE_RANGE\": 43.0}, {\"cluster\": \"38 - 47\", \"PART_OF_DAY\": \"Day\", \"AGE_RANGE\": 45.0}, {\"cluster\": \"48 - 55\", \"PART_OF_DAY\": \"Night\", \"AGE_RANGE\": 52.0}, {\"cluster\": \"28 - 37\", \"PART_OF_DAY\": \"Night\", \"AGE_RANGE\": 37.0}, {\"cluster\": \"38 - 47\", \"PART_OF_DAY\": \"Night\", \"AGE_RANGE\": 41.0}, {\"cluster\": \"38 - 47\", \"PART_OF_DAY\": \"Night\", \"AGE_RANGE\": 45.0}, {\"cluster\": \"48 - 55\", \"PART_OF_DAY\": \"Night\", \"AGE_RANGE\": 53.0}, {\"cluster\": \"38 - 47\", \"PART_OF_DAY\": \"Night\", \"AGE_RANGE\": 39.0}, {\"cluster\": \"28 - 37\", \"PART_OF_DAY\": \"Night\", \"AGE_RANGE\": 32.0}, {\"cluster\": \"48 - 55\", \"PART_OF_DAY\": \"Night\", \"AGE_RANGE\": 50.0}, {\"cluster\": \"28 - 37\", \"PART_OF_DAY\": \"Night\", \"AGE_RANGE\": 33.0}, {\"cluster\": \"38 - 47\", \"PART_OF_DAY\": \"Night\", \"AGE_RANGE\": 46.0}, {\"cluster\": \"28 - 37\", \"PART_OF_DAY\": \"Night\", \"AGE_RANGE\": 30.0}, {\"cluster\": \"48 - 55\", \"PART_OF_DAY\": \"Night\", \"AGE_RANGE\": 55.0}, {\"cluster\": \"28 - 37\", \"PART_OF_DAY\": \"Night\", \"AGE_RANGE\": 30.0}, {\"cluster\": \"28 - 37\", \"PART_OF_DAY\": \"Night\", \"AGE_RANGE\": 34.0}, {\"cluster\": \"38 - 47\", \"PART_OF_DAY\": \"Night\", \"AGE_RANGE\": 39.0}, {\"cluster\": \"38 - 47\", \"PART_OF_DAY\": \"Day\", \"AGE_RANGE\": 41.0}, {\"cluster\": \"38 - 47\", \"PART_OF_DAY\": \"Day\", \"AGE_RANGE\": 39.0}, {\"cluster\": \"28 - 37\", \"PART_OF_DAY\": \"Day\", \"AGE_RANGE\": 35.0}, {\"cluster\": \"28 - 37\", \"PART_OF_DAY\": \"Day\", \"AGE_RANGE\": 34.0}, {\"cluster\": \"48 - 55\", \"PART_OF_DAY\": \"Day\", \"AGE_RANGE\": 55.0}, {\"cluster\": \"38 - 47\", \"PART_OF_DAY\": \"Day\", \"AGE_RANGE\": 47.0}, {\"cluster\": \"38 - 47\", \"PART_OF_DAY\": \"Day\", \"AGE_RANGE\": 45.0}, {\"cluster\": \"28 - 37\", \"PART_OF_DAY\": \"Day\", \"AGE_RANGE\": 31.0}, {\"cluster\": \"38 - 47\", \"PART_OF_DAY\": \"Day\", \"AGE_RANGE\": 41.0}, {\"cluster\": \"38 - 47\", \"PART_OF_DAY\": \"Day\", \"AGE_RANGE\": 42.0}, {\"cluster\": \"28 - 37\", \"PART_OF_DAY\": \"Day\", \"AGE_RANGE\": 36.0}, {\"cluster\": \"48 - 55\", \"PART_OF_DAY\": \"Day\", \"AGE_RANGE\": 54.0}, {\"cluster\": \"38 - 47\", \"PART_OF_DAY\": \"Day\", \"AGE_RANGE\": 44.0}, {\"cluster\": \"38 - 47\", \"PART_OF_DAY\": \"Day\", \"AGE_RANGE\": 47.0}, {\"cluster\": \"38 - 47\", \"PART_OF_DAY\": \"Day\", \"AGE_RANGE\": 47.0}, {\"cluster\": \"28 - 37\", \"PART_OF_DAY\": \"Night\", \"AGE_RANGE\": 29.0}, {\"cluster\": \"38 - 47\", \"PART_OF_DAY\": \"Night\", \"AGE_RANGE\": 41.0}, {\"cluster\": \"48 - 55\", \"PART_OF_DAY\": \"Night\", \"AGE_RANGE\": 50.0}, {\"cluster\": \"48 - 55\", \"PART_OF_DAY\": \"Night\", \"AGE_RANGE\": 54.0}, {\"cluster\": \"48 - 55\", \"PART_OF_DAY\": \"Night\", \"AGE_RANGE\": 48.0}, {\"cluster\": \"38 - 47\", \"PART_OF_DAY\": \"Night\", \"AGE_RANGE\": 41.0}, {\"cluster\": \"28 - 37\", \"PART_OF_DAY\": \"Night\", \"AGE_RANGE\": 29.0}, {\"cluster\": \"28 - 37\", \"PART_OF_DAY\": \"Night\", \"AGE_RANGE\": 34.0}, {\"cluster\": \"28 - 37\", \"PART_OF_DAY\": \"Night\", \"AGE_RANGE\": 29.0}, {\"cluster\": \"28 - 37\", \"PART_OF_DAY\": \"Night\", \"AGE_RANGE\": 33.0}, {\"cluster\": \"38 - 47\", \"PART_OF_DAY\": \"Night\", \"AGE_RANGE\": 43.0}, {\"cluster\": \"28 - 37\", \"PART_OF_DAY\": \"Night\", \"AGE_RANGE\": 32.0}, {\"cluster\": \"28 - 37\", \"PART_OF_DAY\": \"Night\", \"AGE_RANGE\": 29.0}, {\"cluster\": \"48 - 55\", \"PART_OF_DAY\": \"Night\", \"AGE_RANGE\": 48.0}, {\"cluster\": \"48 - 55\", \"PART_OF_DAY\": \"Night\", \"AGE_RANGE\": 54.0}, {\"cluster\": \"38 - 47\", \"PART_OF_DAY\": \"Night\", \"AGE_RANGE\": 42.0}, {\"cluster\": \"28 - 37\", \"PART_OF_DAY\": \"Night\", \"AGE_RANGE\": 35.0}, {\"cluster\": \"38 - 47\", \"PART_OF_DAY\": \"Night\", \"AGE_RANGE\": 40.0}, {\"cluster\": \"28 - 37\", \"PART_OF_DAY\": \"Night\", \"AGE_RANGE\": 37.0}, {\"cluster\": \"28 - 37\", \"PART_OF_DAY\": \"Night\", \"AGE_RANGE\": 31.0}, {\"cluster\": \"48 - 55\", \"PART_OF_DAY\": \"Night\", \"AGE_RANGE\": 55.0}, {\"cluster\": \"38 - 47\", \"PART_OF_DAY\": \"Night\", \"AGE_RANGE\": 40.0}, {\"cluster\": \"28 - 37\", \"PART_OF_DAY\": \"Night\", \"AGE_RANGE\": 37.0}, {\"cluster\": \"28 - 37\", \"PART_OF_DAY\": \"Night\", \"AGE_RANGE\": 30.0}, {\"cluster\": \"38 - 47\", \"PART_OF_DAY\": \"Night\", \"AGE_RANGE\": 45.0}, {\"cluster\": \"28 - 37\", \"PART_OF_DAY\": \"Night\", \"AGE_RANGE\": 28.0}, {\"cluster\": \"38 - 47\", \"PART_OF_DAY\": \"Night\", \"AGE_RANGE\": 44.0}, {\"cluster\": \"28 - 37\", \"PART_OF_DAY\": \"Night\", \"AGE_RANGE\": 33.0}, {\"cluster\": \"28 - 37\", \"PART_OF_DAY\": \"Night\", \"AGE_RANGE\": 32.0}, {\"cluster\": \"28 - 37\", \"PART_OF_DAY\": \"Night\", \"AGE_RANGE\": 37.0}, {\"cluster\": \"38 - 47\", \"PART_OF_DAY\": \"Night\", \"AGE_RANGE\": 39.0}, {\"cluster\": \"28 - 37\", \"PART_OF_DAY\": \"Day\", \"AGE_RANGE\": 35.0}, {\"cluster\": \"28 - 37\", \"PART_OF_DAY\": \"Day\", \"AGE_RANGE\": 36.0}, {\"cluster\": \"38 - 47\", \"PART_OF_DAY\": \"Day\", \"AGE_RANGE\": 40.0}, {\"cluster\": \"48 - 55\", \"PART_OF_DAY\": \"Day\", \"AGE_RANGE\": 48.0}, {\"cluster\": \"48 - 55\", \"PART_OF_DAY\": \"Day\", \"AGE_RANGE\": 51.0}, {\"cluster\": \"28 - 37\", \"PART_OF_DAY\": \"Day\", \"AGE_RANGE\": 28.0}, {\"cluster\": \"38 - 47\", \"PART_OF_DAY\": \"Day\", \"AGE_RANGE\": 44.0}, {\"cluster\": \"28 - 37\", \"PART_OF_DAY\": \"Day\", \"AGE_RANGE\": 34.0}, {\"cluster\": \"48 - 55\", \"PART_OF_DAY\": \"Day\", \"AGE_RANGE\": 49.0}, {\"cluster\": \"48 - 55\", \"PART_OF_DAY\": \"Day\", \"AGE_RANGE\": 48.0}, {\"cluster\": \"48 - 55\", \"PART_OF_DAY\": \"Day\", \"AGE_RANGE\": 53.0}, {\"cluster\": \"38 - 47\", \"PART_OF_DAY\": \"Day\", \"AGE_RANGE\": 46.0}, {\"cluster\": \"38 - 47\", \"PART_OF_DAY\": \"Day\", \"AGE_RANGE\": 47.0}, {\"cluster\": \"48 - 55\", \"PART_OF_DAY\": \"Day\", \"AGE_RANGE\": 55.0}, {\"cluster\": \"28 - 37\", \"PART_OF_DAY\": \"Day\", \"AGE_RANGE\": 37.0}, {\"cluster\": \"28 - 37\", \"PART_OF_DAY\": \"Night\", \"AGE_RANGE\": 37.0}, {\"cluster\": \"28 - 37\", \"PART_OF_DAY\": \"Night\", \"AGE_RANGE\": 31.0}, {\"cluster\": \"38 - 47\", \"PART_OF_DAY\": \"Night\", \"AGE_RANGE\": 42.0}, {\"cluster\": \"38 - 47\", \"PART_OF_DAY\": \"Night\", \"AGE_RANGE\": 46.0}, {\"cluster\": \"48 - 55\", \"PART_OF_DAY\": \"Day\", \"AGE_RANGE\": 50.0}, {\"cluster\": \"48 - 55\", \"PART_OF_DAY\": \"Day\", \"AGE_RANGE\": 51.0}, {\"cluster\": \"28 - 37\", \"PART_OF_DAY\": \"Day\", \"AGE_RANGE\": 30.0}, {\"cluster\": \"38 - 47\", \"PART_OF_DAY\": \"Day\", \"AGE_RANGE\": 47.0}, {\"cluster\": \"28 - 37\", \"PART_OF_DAY\": \"Day\", \"AGE_RANGE\": 33.0}, {\"cluster\": \"28 - 37\", \"PART_OF_DAY\": \"Day\", \"AGE_RANGE\": 29.0}, {\"cluster\": \"48 - 55\", \"PART_OF_DAY\": \"Day\", \"AGE_RANGE\": 54.0}, {\"cluster\": \"28 - 37\", \"PART_OF_DAY\": \"Day\", \"AGE_RANGE\": 35.0}, {\"cluster\": \"38 - 47\", \"PART_OF_DAY\": \"Day\", \"AGE_RANGE\": 45.0}, {\"cluster\": \"48 - 55\", \"PART_OF_DAY\": \"Day\", \"AGE_RANGE\": 53.0}, {\"cluster\": \"48 - 55\", \"PART_OF_DAY\": \"Day\", \"AGE_RANGE\": 48.0}, {\"cluster\": \"28 - 37\", \"PART_OF_DAY\": \"Day\", \"AGE_RANGE\": 36.0}, {\"cluster\": \"38 - 47\", \"PART_OF_DAY\": \"Day\", \"AGE_RANGE\": 45.0}, {\"cluster\": \"38 - 47\", \"PART_OF_DAY\": \"Day\", \"AGE_RANGE\": 41.0}, {\"cluster\": \"48 - 55\", \"PART_OF_DAY\": \"Day\", \"AGE_RANGE\": 54.0}, {\"cluster\": \"28 - 37\", \"PART_OF_DAY\": \"Day\", \"AGE_RANGE\": 35.0}, {\"cluster\": \"38 - 47\", \"PART_OF_DAY\": \"Day\", \"AGE_RANGE\": 46.0}, {\"cluster\": \"48 - 55\", \"PART_OF_DAY\": \"Day\", \"AGE_RANGE\": 53.0}, {\"cluster\": \"38 - 47\", \"PART_OF_DAY\": \"Day\", \"AGE_RANGE\": 38.0}, {\"cluster\": \"38 - 47\", \"PART_OF_DAY\": \"Day\", \"AGE_RANGE\": 39.0}, {\"cluster\": \"28 - 37\", \"PART_OF_DAY\": \"Day\", \"AGE_RANGE\": 32.0}, {\"cluster\": \"28 - 37\", \"PART_OF_DAY\": \"Day\", \"AGE_RANGE\": 37.0}, {\"cluster\": \"48 - 55\", \"PART_OF_DAY\": \"Day\", \"AGE_RANGE\": 53.0}, {\"cluster\": \"48 - 55\", \"PART_OF_DAY\": \"Day\", \"AGE_RANGE\": 53.0}, {\"cluster\": \"48 - 55\", \"PART_OF_DAY\": \"Day\", \"AGE_RANGE\": 48.0}, {\"cluster\": \"48 - 55\", \"PART_OF_DAY\": \"Day\", \"AGE_RANGE\": 50.0}, {\"cluster\": \"48 - 55\", \"PART_OF_DAY\": \"Day\", \"AGE_RANGE\": 53.0}, {\"cluster\": \"48 - 55\", \"PART_OF_DAY\": \"Day\", \"AGE_RANGE\": 49.0}, {\"cluster\": \"38 - 47\", \"PART_OF_DAY\": \"Day\", \"AGE_RANGE\": 41.0}, {\"cluster\": \"28 - 37\", \"PART_OF_DAY\": \"Day\", \"AGE_RANGE\": 30.0}, {\"cluster\": \"48 - 55\", \"PART_OF_DAY\": \"Day\", \"AGE_RANGE\": 54.0}, {\"cluster\": \"48 - 55\", \"PART_OF_DAY\": \"Day\", \"AGE_RANGE\": 50.0}, {\"cluster\": \"28 - 37\", \"PART_OF_DAY\": \"Day\", \"AGE_RANGE\": 35.0}, {\"cluster\": \"38 - 47\", \"PART_OF_DAY\": \"Day\", \"AGE_RANGE\": 46.0}, {\"cluster\": \"48 - 55\", \"PART_OF_DAY\": \"Day\", \"AGE_RANGE\": 51.0}, {\"cluster\": \"28 - 37\", \"PART_OF_DAY\": \"Day\", \"AGE_RANGE\": 30.0}, {\"cluster\": \"38 - 47\", \"PART_OF_DAY\": \"Day\", \"AGE_RANGE\": 40.0}, {\"cluster\": \"38 - 47\", \"PART_OF_DAY\": \"Day\", \"AGE_RANGE\": 42.0}, {\"cluster\": \"48 - 55\", \"PART_OF_DAY\": \"Day\", \"AGE_RANGE\": 54.0}, {\"cluster\": \"48 - 55\", \"PART_OF_DAY\": \"Day\", \"AGE_RANGE\": 54.0}, {\"cluster\": \"48 - 55\", \"PART_OF_DAY\": \"Day\", \"AGE_RANGE\": 48.0}, {\"cluster\": \"38 - 47\", \"PART_OF_DAY\": \"Day\", \"AGE_RANGE\": 46.0}, {\"cluster\": \"38 - 47\", \"PART_OF_DAY\": \"Day\", \"AGE_RANGE\": 45.0}, {\"cluster\": \"38 - 47\", \"PART_OF_DAY\": \"Day\", \"AGE_RANGE\": 45.0}, {\"cluster\": \"48 - 55\", \"PART_OF_DAY\": \"Day\", \"AGE_RANGE\": 49.0}, {\"cluster\": \"28 - 37\", \"PART_OF_DAY\": \"Day\", \"AGE_RANGE\": 36.0}, {\"cluster\": \"28 - 37\", \"PART_OF_DAY\": \"Day\", \"AGE_RANGE\": 32.0}, {\"cluster\": \"28 - 37\", \"PART_OF_DAY\": \"Night\", \"AGE_RANGE\": 30.0}, {\"cluster\": \"48 - 55\", \"PART_OF_DAY\": \"Night\", \"AGE_RANGE\": 51.0}, {\"cluster\": \"28 - 37\", \"PART_OF_DAY\": \"Night\", \"AGE_RANGE\": 33.0}, {\"cluster\": \"28 - 37\", \"PART_OF_DAY\": \"Night\", \"AGE_RANGE\": 28.0}, {\"cluster\": \"48 - 55\", \"PART_OF_DAY\": \"Night\", \"AGE_RANGE\": 50.0}, {\"cluster\": \"48 - 55\", \"PART_OF_DAY\": \"Night\", \"AGE_RANGE\": 53.0}, {\"cluster\": \"48 - 55\", \"PART_OF_DAY\": \"Night\", \"AGE_RANGE\": 52.0}, {\"cluster\": \"28 - 37\", \"PART_OF_DAY\": \"Night\", \"AGE_RANGE\": 33.0}, {\"cluster\": \"38 - 47\", \"PART_OF_DAY\": \"Night\", \"AGE_RANGE\": 45.0}, {\"cluster\": \"28 - 37\", \"PART_OF_DAY\": \"Night\", \"AGE_RANGE\": 33.0}, {\"cluster\": \"38 - 47\", \"PART_OF_DAY\": \"Night\", \"AGE_RANGE\": 47.0}, {\"cluster\": \"28 - 37\", \"PART_OF_DAY\": \"Night\", \"AGE_RANGE\": 31.0}, {\"cluster\": \"38 - 47\", \"PART_OF_DAY\": \"Night\", \"AGE_RANGE\": 44.0}, {\"cluster\": \"28 - 37\", \"PART_OF_DAY\": \"Night\", \"AGE_RANGE\": 36.0}, {\"cluster\": \"48 - 55\", \"PART_OF_DAY\": \"Night\", \"AGE_RANGE\": 50.0}, {\"cluster\": \"48 - 55\", \"PART_OF_DAY\": \"Night\", \"AGE_RANGE\": 53.0}, {\"cluster\": \"28 - 37\", \"PART_OF_DAY\": \"Night\", \"AGE_RANGE\": 33.0}, {\"cluster\": \"38 - 47\", \"PART_OF_DAY\": \"Night\", \"AGE_RANGE\": 45.0}, {\"cluster\": \"48 - 55\", \"PART_OF_DAY\": \"Night\", \"AGE_RANGE\": 50.0}, {\"cluster\": \"28 - 37\", \"PART_OF_DAY\": \"Day\", \"AGE_RANGE\": 36.0}, {\"cluster\": \"48 - 55\", \"PART_OF_DAY\": \"Day\", \"AGE_RANGE\": 49.0}, {\"cluster\": \"48 - 55\", \"PART_OF_DAY\": \"Day\", \"AGE_RANGE\": 55.0}, {\"cluster\": \"38 - 47\", \"PART_OF_DAY\": \"Day\", \"AGE_RANGE\": 44.0}, {\"cluster\": \"38 - 47\", \"PART_OF_DAY\": \"Day\", \"AGE_RANGE\": 45.0}, {\"cluster\": \"28 - 37\", \"PART_OF_DAY\": \"Day\", \"AGE_RANGE\": 37.0}, {\"cluster\": \"48 - 55\", \"PART_OF_DAY\": \"Day\", \"AGE_RANGE\": 55.0}, {\"cluster\": \"48 - 55\", \"PART_OF_DAY\": \"Day\", \"AGE_RANGE\": 54.0}, {\"cluster\": \"28 - 37\", \"PART_OF_DAY\": \"Day\", \"AGE_RANGE\": 30.0}, {\"cluster\": \"48 - 55\", \"PART_OF_DAY\": \"Day\", \"AGE_RANGE\": 54.0}, {\"cluster\": \"38 - 47\", \"PART_OF_DAY\": \"Night\", \"AGE_RANGE\": 40.0}, {\"cluster\": \"28 - 37\", \"PART_OF_DAY\": \"Night\", \"AGE_RANGE\": 34.0}, {\"cluster\": \"28 - 37\", \"PART_OF_DAY\": \"Night\", \"AGE_RANGE\": 35.0}, {\"cluster\": \"48 - 55\", \"PART_OF_DAY\": \"Night\", \"AGE_RANGE\": 52.0}, {\"cluster\": \"38 - 47\", \"PART_OF_DAY\": \"Night\", \"AGE_RANGE\": 39.0}, {\"cluster\": \"38 - 47\", \"PART_OF_DAY\": \"Night\", \"AGE_RANGE\": 43.0}, {\"cluster\": \"38 - 47\", \"PART_OF_DAY\": \"Night\", \"AGE_RANGE\": 44.0}, {\"cluster\": \"38 - 47\", \"PART_OF_DAY\": \"Day\", \"AGE_RANGE\": 40.0}, {\"cluster\": \"48 - 55\", \"PART_OF_DAY\": \"Day\", \"AGE_RANGE\": 52.0}, {\"cluster\": \"38 - 47\", \"PART_OF_DAY\": \"Day\", \"AGE_RANGE\": 39.0}, {\"cluster\": \"48 - 55\", \"PART_OF_DAY\": \"Day\", \"AGE_RANGE\": 53.0}, {\"cluster\": \"28 - 37\", \"PART_OF_DAY\": \"Day\", \"AGE_RANGE\": 31.0}, {\"cluster\": \"28 - 37\", \"PART_OF_DAY\": \"Day\", \"AGE_RANGE\": 32.0}, {\"cluster\": \"48 - 55\", \"PART_OF_DAY\": \"Day\", \"AGE_RANGE\": 53.0}, {\"cluster\": \"38 - 47\", \"PART_OF_DAY\": \"Day\", \"AGE_RANGE\": 41.0}, {\"cluster\": \"38 - 47\", \"PART_OF_DAY\": \"Day\", \"AGE_RANGE\": 41.0}, {\"cluster\": \"28 - 37\", \"PART_OF_DAY\": \"Night\", \"AGE_RANGE\": 36.0}, {\"cluster\": \"48 - 55\", \"PART_OF_DAY\": \"Night\", \"AGE_RANGE\": 49.0}, {\"cluster\": \"48 - 55\", \"PART_OF_DAY\": \"Night\", \"AGE_RANGE\": 50.0}, {\"cluster\": \"28 - 37\", \"PART_OF_DAY\": \"Night\", \"AGE_RANGE\": 32.0}, {\"cluster\": \"48 - 55\", \"PART_OF_DAY\": \"Night\", \"AGE_RANGE\": 53.0}, {\"cluster\": \"38 - 47\", \"PART_OF_DAY\": \"Night\", \"AGE_RANGE\": 40.0}, {\"cluster\": \"48 - 55\", \"PART_OF_DAY\": \"Night\", \"AGE_RANGE\": 49.0}, {\"cluster\": \"38 - 47\", \"PART_OF_DAY\": \"Night\", \"AGE_RANGE\": 47.0}, {\"cluster\": \"28 - 37\", \"PART_OF_DAY\": \"Night\", \"AGE_RANGE\": 37.0}, {\"cluster\": \"48 - 55\", \"PART_OF_DAY\": \"Night\", \"AGE_RANGE\": 49.0}, {\"cluster\": \"38 - 47\", \"PART_OF_DAY\": \"Night\", \"AGE_RANGE\": 44.0}, {\"cluster\": \"38 - 47\", \"PART_OF_DAY\": \"Night\", \"AGE_RANGE\": 43.0}, {\"cluster\": \"38 - 47\", \"PART_OF_DAY\": \"Night\", \"AGE_RANGE\": 47.0}, {\"cluster\": \"38 - 47\", \"PART_OF_DAY\": \"Night\", \"AGE_RANGE\": 45.0}, {\"cluster\": \"48 - 55\", \"PART_OF_DAY\": \"Night\", \"AGE_RANGE\": 51.0}, {\"cluster\": \"48 - 55\", \"PART_OF_DAY\": \"Night\", \"AGE_RANGE\": 48.0}, {\"cluster\": \"28 - 37\", \"PART_OF_DAY\": \"Day\", \"AGE_RANGE\": 37.0}, {\"cluster\": \"28 - 37\", \"PART_OF_DAY\": \"Day\", \"AGE_RANGE\": 33.0}, {\"cluster\": \"38 - 47\", \"PART_OF_DAY\": \"Day\", \"AGE_RANGE\": 46.0}, {\"cluster\": \"38 - 47\", \"PART_OF_DAY\": \"Day\", \"AGE_RANGE\": 40.0}, {\"cluster\": \"28 - 37\", \"PART_OF_DAY\": \"Day\", \"AGE_RANGE\": 34.0}, {\"cluster\": \"28 - 37\", \"PART_OF_DAY\": \"Night\", \"AGE_RANGE\": 32.0}, {\"cluster\": \"38 - 47\", \"PART_OF_DAY\": \"Night\", \"AGE_RANGE\": 44.0}, {\"cluster\": \"38 - 47\", \"PART_OF_DAY\": \"Night\", \"AGE_RANGE\": 47.0}, {\"cluster\": \"38 - 47\", \"PART_OF_DAY\": \"Night\", \"AGE_RANGE\": 45.0}, {\"cluster\": \"38 - 47\", \"PART_OF_DAY\": \"Night\", \"AGE_RANGE\": 45.0}, {\"cluster\": \"48 - 55\", \"PART_OF_DAY\": \"Night\", \"AGE_RANGE\": 54.0}, {\"cluster\": \"48 - 55\", \"PART_OF_DAY\": \"Day\", \"AGE_RANGE\": 49.0}, {\"cluster\": \"28 - 37\", \"PART_OF_DAY\": \"Day\", \"AGE_RANGE\": 34.0}, {\"cluster\": \"38 - 47\", \"PART_OF_DAY\": \"Day\", \"AGE_RANGE\": 44.0}, {\"cluster\": \"48 - 55\", \"PART_OF_DAY\": \"Day\", \"AGE_RANGE\": 53.0}, {\"cluster\": \"28 - 37\", \"PART_OF_DAY\": \"Day\", \"AGE_RANGE\": 33.0}, {\"cluster\": \"28 - 37\", \"PART_OF_DAY\": \"Day\", \"AGE_RANGE\": 36.0}, {\"cluster\": \"48 - 55\", \"PART_OF_DAY\": \"Day\", \"AGE_RANGE\": 53.0}, {\"cluster\": \"38 - 47\", \"PART_OF_DAY\": \"Day\", \"AGE_RANGE\": 47.0}, {\"cluster\": \"28 - 37\", \"PART_OF_DAY\": \"Day\", \"AGE_RANGE\": 34.0}, {\"cluster\": \"48 - 55\", \"PART_OF_DAY\": \"Day\", \"AGE_RANGE\": 54.0}, {\"cluster\": \"48 - 55\", \"PART_OF_DAY\": \"Day\", \"AGE_RANGE\": 52.0}, {\"cluster\": \"48 - 55\", \"PART_OF_DAY\": \"Day\", \"AGE_RANGE\": 52.0}, {\"cluster\": \"38 - 47\", \"PART_OF_DAY\": \"Day\", \"AGE_RANGE\": 38.0}, {\"cluster\": \"48 - 55\", \"PART_OF_DAY\": \"Day\", \"AGE_RANGE\": 53.0}, {\"cluster\": \"28 - 37\", \"PART_OF_DAY\": \"Day\", \"AGE_RANGE\": 30.0}, {\"cluster\": \"48 - 55\", \"PART_OF_DAY\": \"Day\", \"AGE_RANGE\": 49.0}, {\"cluster\": \"38 - 47\", \"PART_OF_DAY\": \"Day\", \"AGE_RANGE\": 41.0}, {\"cluster\": \"48 - 55\", \"PART_OF_DAY\": \"Day\", \"AGE_RANGE\": 55.0}, {\"cluster\": \"28 - 37\", \"PART_OF_DAY\": \"Day\", \"AGE_RANGE\": 32.0}, {\"cluster\": \"28 - 37\", \"PART_OF_DAY\": \"Day\", \"AGE_RANGE\": 35.0}, {\"cluster\": \"28 - 37\", \"PART_OF_DAY\": \"Day\", \"AGE_RANGE\": 37.0}, {\"cluster\": \"48 - 55\", \"PART_OF_DAY\": \"Day\", \"AGE_RANGE\": 49.0}, {\"cluster\": \"48 - 55\", \"PART_OF_DAY\": \"Day\", \"AGE_RANGE\": 53.0}, {\"cluster\": \"48 - 55\", \"PART_OF_DAY\": \"Day\", \"AGE_RANGE\": 53.0}, {\"cluster\": \"38 - 47\", \"PART_OF_DAY\": \"Day\", \"AGE_RANGE\": 43.0}, {\"cluster\": \"28 - 37\", \"PART_OF_DAY\": \"Day\", \"AGE_RANGE\": 32.0}, {\"cluster\": \"28 - 37\", \"PART_OF_DAY\": \"Day\", \"AGE_RANGE\": 28.0}, {\"cluster\": \"38 - 47\", \"PART_OF_DAY\": \"Day\", \"AGE_RANGE\": 42.0}, {\"cluster\": \"48 - 55\", \"PART_OF_DAY\": \"Day\", \"AGE_RANGE\": 49.0}, {\"cluster\": \"28 - 37\", \"PART_OF_DAY\": \"Day\", \"AGE_RANGE\": 29.0}, {\"cluster\": \"38 - 47\", \"PART_OF_DAY\": \"Day\", \"AGE_RANGE\": 47.0}, {\"cluster\": \"28 - 37\", \"PART_OF_DAY\": \"Day\", \"AGE_RANGE\": 28.0}, {\"cluster\": \"48 - 55\", \"PART_OF_DAY\": \"Day\", \"AGE_RANGE\": 49.0}, {\"cluster\": \"28 - 37\", \"PART_OF_DAY\": \"Day\", \"AGE_RANGE\": 36.0}, {\"cluster\": \"38 - 47\", \"PART_OF_DAY\": \"Day\", \"AGE_RANGE\": 39.0}, {\"cluster\": \"38 - 47\", \"PART_OF_DAY\": \"Day\", \"AGE_RANGE\": 38.0}, {\"cluster\": \"48 - 55\", \"PART_OF_DAY\": \"Day\", \"AGE_RANGE\": 49.0}, {\"cluster\": \"28 - 37\", \"PART_OF_DAY\": \"Night\", \"AGE_RANGE\": 35.0}, {\"cluster\": \"28 - 37\", \"PART_OF_DAY\": \"Night\", \"AGE_RANGE\": 32.0}, {\"cluster\": \"38 - 47\", \"PART_OF_DAY\": \"Night\", \"AGE_RANGE\": 47.0}, {\"cluster\": \"48 - 55\", \"PART_OF_DAY\": \"Night\", \"AGE_RANGE\": 51.0}, {\"cluster\": \"38 - 47\", \"PART_OF_DAY\": \"Night\", \"AGE_RANGE\": 46.0}, {\"cluster\": \"38 - 47\", \"PART_OF_DAY\": \"Night\", \"AGE_RANGE\": 41.0}, {\"cluster\": \"28 - 37\", \"PART_OF_DAY\": \"Night\", \"AGE_RANGE\": 28.0}, {\"cluster\": \"28 - 37\", \"PART_OF_DAY\": \"Night\", \"AGE_RANGE\": 36.0}, {\"cluster\": \"48 - 55\", \"PART_OF_DAY\": \"Night\", \"AGE_RANGE\": 51.0}, {\"cluster\": \"28 - 37\", \"PART_OF_DAY\": \"Night\", \"AGE_RANGE\": 29.0}, {\"cluster\": \"38 - 47\", \"PART_OF_DAY\": \"Night\", \"AGE_RANGE\": 44.0}, {\"cluster\": \"28 - 37\", \"PART_OF_DAY\": \"Night\", \"AGE_RANGE\": 31.0}, {\"cluster\": \"48 - 55\", \"PART_OF_DAY\": \"Night\", \"AGE_RANGE\": 52.0}, {\"cluster\": \"28 - 37\", \"PART_OF_DAY\": \"Night\", \"AGE_RANGE\": 32.0}, {\"cluster\": \"28 - 37\", \"PART_OF_DAY\": \"Night\", \"AGE_RANGE\": 32.0}, {\"cluster\": \"48 - 55\", \"PART_OF_DAY\": \"Night\", \"AGE_RANGE\": 49.0}, {\"cluster\": \"28 - 37\", \"PART_OF_DAY\": \"Night\", \"AGE_RANGE\": 28.0}, {\"cluster\": \"28 - 37\", \"PART_OF_DAY\": \"Night\", \"AGE_RANGE\": 35.0}, {\"cluster\": \"38 - 47\", \"PART_OF_DAY\": \"Night\", \"AGE_RANGE\": 38.0}, {\"cluster\": \"48 - 55\", \"PART_OF_DAY\": \"Night\", \"AGE_RANGE\": 49.0}, {\"cluster\": \"28 - 37\", \"PART_OF_DAY\": \"Night\", \"AGE_RANGE\": 34.0}, {\"cluster\": \"38 - 47\", \"PART_OF_DAY\": \"Night\", \"AGE_RANGE\": 44.0}, {\"cluster\": \"48 - 55\", \"PART_OF_DAY\": \"Night\", \"AGE_RANGE\": 50.0}, {\"cluster\": \"38 - 47\", \"PART_OF_DAY\": \"Night\", \"AGE_RANGE\": 38.0}, {\"cluster\": \"48 - 55\", \"PART_OF_DAY\": \"Night\", \"AGE_RANGE\": 52.0}, {\"cluster\": \"48 - 55\", \"PART_OF_DAY\": \"Night\", \"AGE_RANGE\": 50.0}, {\"cluster\": \"48 - 55\", \"PART_OF_DAY\": \"Night\", \"AGE_RANGE\": 52.0}, {\"cluster\": \"28 - 37\", \"PART_OF_DAY\": \"Night\", \"AGE_RANGE\": 32.0}, {\"cluster\": \"28 - 37\", \"PART_OF_DAY\": \"Night\", \"AGE_RANGE\": 29.0}, {\"cluster\": \"28 - 37\", \"PART_OF_DAY\": \"Night\", \"AGE_RANGE\": 29.0}, {\"cluster\": \"38 - 47\", \"PART_OF_DAY\": \"Night\", \"AGE_RANGE\": 47.0}, {\"cluster\": \"38 - 47\", \"PART_OF_DAY\": \"Night\", \"AGE_RANGE\": 40.0}, {\"cluster\": \"28 - 37\", \"PART_OF_DAY\": \"Night\", \"AGE_RANGE\": 31.0}, {\"cluster\": \"38 - 47\", \"PART_OF_DAY\": \"Night\", \"AGE_RANGE\": 44.0}, {\"cluster\": \"48 - 55\", \"PART_OF_DAY\": \"Night\", \"AGE_RANGE\": 54.0}, {\"cluster\": \"28 - 37\", \"PART_OF_DAY\": \"Night\", \"AGE_RANGE\": 28.0}, {\"cluster\": \"28 - 37\", \"PART_OF_DAY\": \"Night\", \"AGE_RANGE\": 34.0}, {\"cluster\": \"28 - 37\", \"PART_OF_DAY\": \"Night\", \"AGE_RANGE\": 36.0}, {\"cluster\": \"38 - 47\", \"PART_OF_DAY\": \"Night\", \"AGE_RANGE\": 43.0}, {\"cluster\": \"28 - 37\", \"PART_OF_DAY\": \"Night\", \"AGE_RANGE\": 29.0}, {\"cluster\": \"28 - 37\", \"PART_OF_DAY\": \"Night\", \"AGE_RANGE\": 30.0}, {\"cluster\": \"38 - 47\", \"PART_OF_DAY\": \"Night\", \"AGE_RANGE\": 46.0}, {\"cluster\": \"38 - 47\", \"PART_OF_DAY\": \"Night\", \"AGE_RANGE\": 39.0}, {\"cluster\": \"38 - 47\", \"PART_OF_DAY\": \"Night\", \"AGE_RANGE\": 43.0}, {\"cluster\": \"28 - 37\", \"PART_OF_DAY\": \"Night\", \"AGE_RANGE\": 29.0}, {\"cluster\": \"38 - 47\", \"PART_OF_DAY\": \"Night\", \"AGE_RANGE\": 42.0}, {\"cluster\": \"48 - 55\", \"PART_OF_DAY\": \"Night\", \"AGE_RANGE\": 55.0}, {\"cluster\": \"38 - 47\", \"PART_OF_DAY\": \"Night\", \"AGE_RANGE\": 40.0}, {\"cluster\": \"28 - 37\", \"PART_OF_DAY\": \"Night\", \"AGE_RANGE\": 36.0}, {\"cluster\": \"28 - 37\", \"PART_OF_DAY\": \"Night\", \"AGE_RANGE\": 37.0}, {\"cluster\": \"38 - 47\", \"PART_OF_DAY\": \"Night\", \"AGE_RANGE\": 38.0}, {\"cluster\": \"28 - 37\", \"PART_OF_DAY\": \"Night\", \"AGE_RANGE\": 36.0}, {\"cluster\": \"48 - 55\", \"PART_OF_DAY\": \"Night\", \"AGE_RANGE\": 48.0}, {\"cluster\": \"28 - 37\", \"PART_OF_DAY\": \"Night\", \"AGE_RANGE\": 35.0}, {\"cluster\": \"38 - 47\", \"PART_OF_DAY\": \"Night\", \"AGE_RANGE\": 41.0}, {\"cluster\": \"48 - 55\", \"PART_OF_DAY\": \"Night\", \"AGE_RANGE\": 53.0}, {\"cluster\": \"38 - 47\", \"PART_OF_DAY\": \"Night\", \"AGE_RANGE\": 44.0}, {\"cluster\": \"38 - 47\", \"PART_OF_DAY\": \"Night\", \"AGE_RANGE\": 46.0}, {\"cluster\": \"28 - 37\", \"PART_OF_DAY\": \"Night\", \"AGE_RANGE\": 29.0}, {\"cluster\": \"38 - 47\", \"PART_OF_DAY\": \"Night\", \"AGE_RANGE\": 42.0}, {\"cluster\": \"38 - 47\", \"PART_OF_DAY\": \"Night\", \"AGE_RANGE\": 39.0}, {\"cluster\": \"28 - 37\", \"PART_OF_DAY\": \"Night\", \"AGE_RANGE\": 37.0}, {\"cluster\": \"48 - 55\", \"PART_OF_DAY\": \"Night\", \"AGE_RANGE\": 49.0}, {\"cluster\": \"38 - 47\", \"PART_OF_DAY\": \"Night\", \"AGE_RANGE\": 43.0}, {\"cluster\": \"38 - 47\", \"PART_OF_DAY\": \"Night\", \"AGE_RANGE\": 42.0}, {\"cluster\": \"48 - 55\", \"PART_OF_DAY\": \"Night\", \"AGE_RANGE\": 54.0}, {\"cluster\": \"48 - 55\", \"PART_OF_DAY\": \"Night\", \"AGE_RANGE\": 49.0}, {\"cluster\": \"48 - 55\", \"PART_OF_DAY\": \"Night\", \"AGE_RANGE\": 51.0}, {\"cluster\": \"48 - 55\", \"PART_OF_DAY\": \"Day\", \"AGE_RANGE\": 53.0}, {\"cluster\": \"38 - 47\", \"PART_OF_DAY\": \"Day\", \"AGE_RANGE\": 38.0}, {\"cluster\": \"28 - 37\", \"PART_OF_DAY\": \"Day\", \"AGE_RANGE\": 28.0}, {\"cluster\": \"28 - 37\", \"PART_OF_DAY\": \"Day\", \"AGE_RANGE\": 30.0}, {\"cluster\": \"48 - 55\", \"PART_OF_DAY\": \"Day\", \"AGE_RANGE\": 55.0}, {\"cluster\": \"28 - 37\", \"PART_OF_DAY\": \"Day\", \"AGE_RANGE\": 37.0}, {\"cluster\": \"38 - 47\", \"PART_OF_DAY\": \"Day\", \"AGE_RANGE\": 42.0}, {\"cluster\": \"28 - 37\", \"PART_OF_DAY\": \"Day\", \"AGE_RANGE\": 33.0}, {\"cluster\": \"28 - 37\", \"PART_OF_DAY\": \"Day\", \"AGE_RANGE\": 36.0}, {\"cluster\": \"38 - 47\", \"PART_OF_DAY\": \"Day\", \"AGE_RANGE\": 38.0}, {\"cluster\": \"28 - 37\", \"PART_OF_DAY\": \"Day\", \"AGE_RANGE\": 33.0}, {\"cluster\": \"38 - 47\", \"PART_OF_DAY\": \"Day\", \"AGE_RANGE\": 38.0}, {\"cluster\": \"28 - 37\", \"PART_OF_DAY\": \"Day\", \"AGE_RANGE\": 36.0}, {\"cluster\": \"28 - 37\", \"PART_OF_DAY\": \"Day\", \"AGE_RANGE\": 36.0}, {\"cluster\": \"48 - 55\", \"PART_OF_DAY\": \"Day\", \"AGE_RANGE\": 53.0}, {\"cluster\": \"48 - 55\", \"PART_OF_DAY\": \"Day\", \"AGE_RANGE\": 50.0}, {\"cluster\": \"38 - 47\", \"PART_OF_DAY\": \"Day\", \"AGE_RANGE\": 46.0}, {\"cluster\": \"28 - 37\", \"PART_OF_DAY\": \"Day\", \"AGE_RANGE\": 37.0}, {\"cluster\": \"38 - 47\", \"PART_OF_DAY\": \"Day\", \"AGE_RANGE\": 43.0}, {\"cluster\": \"48 - 55\", \"PART_OF_DAY\": \"Day\", \"AGE_RANGE\": 48.0}, {\"cluster\": \"28 - 37\", \"PART_OF_DAY\": \"Day\", \"AGE_RANGE\": 37.0}, {\"cluster\": \"48 - 55\", \"PART_OF_DAY\": \"Day\", \"AGE_RANGE\": 52.0}, {\"cluster\": \"38 - 47\", \"PART_OF_DAY\": \"Day\", \"AGE_RANGE\": 42.0}, {\"cluster\": \"38 - 47\", \"PART_OF_DAY\": \"Day\", \"AGE_RANGE\": 41.0}, {\"cluster\": \"38 - 47\", \"PART_OF_DAY\": \"Day\", \"AGE_RANGE\": 47.0}, {\"cluster\": \"28 - 37\", \"PART_OF_DAY\": \"Day\", \"AGE_RANGE\": 29.0}, {\"cluster\": \"38 - 47\", \"PART_OF_DAY\": \"Day\", \"AGE_RANGE\": 46.0}, {\"cluster\": \"28 - 37\", \"PART_OF_DAY\": \"Day\", \"AGE_RANGE\": 36.0}, {\"cluster\": \"28 - 37\", \"PART_OF_DAY\": \"Day\", \"AGE_RANGE\": 34.0}, {\"cluster\": \"48 - 55\", \"PART_OF_DAY\": \"Day\", \"AGE_RANGE\": 51.0}, {\"cluster\": \"48 - 55\", \"PART_OF_DAY\": \"Day\", \"AGE_RANGE\": 51.0}, {\"cluster\": \"38 - 47\", \"PART_OF_DAY\": \"Day\", \"AGE_RANGE\": 44.0}, {\"cluster\": \"28 - 37\", \"PART_OF_DAY\": \"Day\", \"AGE_RANGE\": 33.0}, {\"cluster\": \"38 - 47\", \"PART_OF_DAY\": \"Day\", \"AGE_RANGE\": 46.0}, {\"cluster\": \"38 - 47\", \"PART_OF_DAY\": \"Day\", \"AGE_RANGE\": 45.0}, {\"cluster\": \"38 - 47\", \"PART_OF_DAY\": \"Day\", \"AGE_RANGE\": 45.0}, {\"cluster\": \"48 - 55\", \"PART_OF_DAY\": \"Day\", \"AGE_RANGE\": 50.0}, {\"cluster\": \"28 - 37\", \"PART_OF_DAY\": \"Day\", \"AGE_RANGE\": 37.0}, {\"cluster\": \"38 - 47\", \"PART_OF_DAY\": \"Day\", \"AGE_RANGE\": 40.0}, {\"cluster\": \"38 - 47\", \"PART_OF_DAY\": \"Day\", \"AGE_RANGE\": 44.0}, {\"cluster\": \"48 - 55\", \"PART_OF_DAY\": \"Day\", \"AGE_RANGE\": 51.0}, {\"cluster\": \"48 - 55\", \"PART_OF_DAY\": \"Day\", \"AGE_RANGE\": 49.0}, {\"cluster\": \"38 - 47\", \"PART_OF_DAY\": \"Day\", \"AGE_RANGE\": 40.0}, {\"cluster\": \"38 - 47\", \"PART_OF_DAY\": \"Day\", \"AGE_RANGE\": 46.0}, {\"cluster\": \"38 - 47\", \"PART_OF_DAY\": \"Day\", \"AGE_RANGE\": 38.0}, {\"cluster\": \"48 - 55\", \"PART_OF_DAY\": \"Day\", \"AGE_RANGE\": 52.0}, {\"cluster\": \"48 - 55\", \"PART_OF_DAY\": \"Day\", \"AGE_RANGE\": 55.0}, {\"cluster\": \"48 - 55\", \"PART_OF_DAY\": \"Day\", \"AGE_RANGE\": 51.0}, {\"cluster\": \"38 - 47\", \"PART_OF_DAY\": \"Day\", \"AGE_RANGE\": 41.0}, {\"cluster\": \"38 - 47\", \"PART_OF_DAY\": \"Day\", \"AGE_RANGE\": 44.0}, {\"cluster\": \"38 - 47\", \"PART_OF_DAY\": \"Day\", \"AGE_RANGE\": 43.0}, {\"cluster\": \"48 - 55\", \"PART_OF_DAY\": \"Day\", \"AGE_RANGE\": 49.0}, {\"cluster\": \"28 - 37\", \"PART_OF_DAY\": \"Day\", \"AGE_RANGE\": 29.0}, {\"cluster\": \"28 - 37\", \"PART_OF_DAY\": \"Day\", \"AGE_RANGE\": 32.0}, {\"cluster\": \"48 - 55\", \"PART_OF_DAY\": \"Day\", \"AGE_RANGE\": 55.0}, {\"cluster\": \"28 - 37\", \"PART_OF_DAY\": \"Day\", \"AGE_RANGE\": 35.0}, {\"cluster\": \"48 - 55\", \"PART_OF_DAY\": \"Day\", \"AGE_RANGE\": 55.0}, {\"cluster\": \"48 - 55\", \"PART_OF_DAY\": \"Day\", \"AGE_RANGE\": 54.0}, {\"cluster\": \"48 - 55\", \"PART_OF_DAY\": \"Day\", \"AGE_RANGE\": 54.0}, {\"cluster\": \"38 - 47\", \"PART_OF_DAY\": \"Day\", \"AGE_RANGE\": 45.0}, {\"cluster\": \"28 - 37\", \"PART_OF_DAY\": \"Day\", \"AGE_RANGE\": 37.0}, {\"cluster\": \"28 - 37\", \"PART_OF_DAY\": \"Day\", \"AGE_RANGE\": 28.0}, {\"cluster\": \"38 - 47\", \"PART_OF_DAY\": \"Day\", \"AGE_RANGE\": 39.0}, {\"cluster\": \"38 - 47\", \"PART_OF_DAY\": \"Day\", \"AGE_RANGE\": 38.0}, {\"cluster\": \"28 - 37\", \"PART_OF_DAY\": \"Day\", \"AGE_RANGE\": 37.0}, {\"cluster\": \"48 - 55\", \"PART_OF_DAY\": \"Day\", \"AGE_RANGE\": 55.0}, {\"cluster\": \"38 - 47\", \"PART_OF_DAY\": \"Day\", \"AGE_RANGE\": 47.0}, {\"cluster\": \"28 - 37\", \"PART_OF_DAY\": \"Night\", \"AGE_RANGE\": 32.0}, {\"cluster\": \"48 - 55\", \"PART_OF_DAY\": \"Night\", \"AGE_RANGE\": 53.0}, {\"cluster\": \"38 - 47\", \"PART_OF_DAY\": \"Night\", \"AGE_RANGE\": 40.0}, {\"cluster\": \"48 - 55\", \"PART_OF_DAY\": \"Night\", \"AGE_RANGE\": 48.0}, {\"cluster\": \"28 - 37\", \"PART_OF_DAY\": \"Night\", \"AGE_RANGE\": 29.0}, {\"cluster\": \"38 - 47\", \"PART_OF_DAY\": \"Night\", \"AGE_RANGE\": 39.0}, {\"cluster\": \"48 - 55\", \"PART_OF_DAY\": \"Night\", \"AGE_RANGE\": 53.0}, {\"cluster\": \"48 - 55\", \"PART_OF_DAY\": \"Night\", \"AGE_RANGE\": 55.0}, {\"cluster\": \"38 - 47\", \"PART_OF_DAY\": \"Night\", \"AGE_RANGE\": 41.0}, {\"cluster\": \"38 - 47\", \"PART_OF_DAY\": \"Night\", \"AGE_RANGE\": 44.0}, {\"cluster\": \"28 - 37\", \"PART_OF_DAY\": \"Night\", \"AGE_RANGE\": 34.0}, {\"cluster\": \"38 - 47\", \"PART_OF_DAY\": \"Night\", \"AGE_RANGE\": 40.0}, {\"cluster\": \"28 - 37\", \"PART_OF_DAY\": \"Night\", \"AGE_RANGE\": 28.0}, {\"cluster\": \"28 - 37\", \"PART_OF_DAY\": \"Night\", \"AGE_RANGE\": 37.0}, {\"cluster\": \"38 - 47\", \"PART_OF_DAY\": \"Night\", \"AGE_RANGE\": 43.0}, {\"cluster\": \"38 - 47\", \"PART_OF_DAY\": \"Night\", \"AGE_RANGE\": 44.0}, {\"cluster\": \"38 - 47\", \"PART_OF_DAY\": \"Night\", \"AGE_RANGE\": 44.0}, {\"cluster\": \"38 - 47\", \"PART_OF_DAY\": \"Night\", \"AGE_RANGE\": 38.0}, {\"cluster\": \"38 - 47\", \"PART_OF_DAY\": \"Night\", \"AGE_RANGE\": 46.0}, {\"cluster\": \"48 - 55\", \"PART_OF_DAY\": \"Night\", \"AGE_RANGE\": 50.0}, {\"cluster\": \"38 - 47\", \"PART_OF_DAY\": \"Night\", \"AGE_RANGE\": 47.0}, {\"cluster\": \"38 - 47\", \"PART_OF_DAY\": \"Night\", \"AGE_RANGE\": 41.0}, {\"cluster\": \"28 - 37\", \"PART_OF_DAY\": \"Night\", \"AGE_RANGE\": 29.0}, {\"cluster\": \"28 - 37\", \"PART_OF_DAY\": \"Night\", \"AGE_RANGE\": 29.0}, {\"cluster\": \"48 - 55\", \"PART_OF_DAY\": \"Night\", \"AGE_RANGE\": 51.0}, {\"cluster\": \"48 - 55\", \"PART_OF_DAY\": \"Night\", \"AGE_RANGE\": 53.0}, {\"cluster\": \"28 - 37\", \"PART_OF_DAY\": \"Night\", \"AGE_RANGE\": 36.0}, {\"cluster\": \"38 - 47\", \"PART_OF_DAY\": \"Night\", \"AGE_RANGE\": 39.0}, {\"cluster\": \"48 - 55\", \"PART_OF_DAY\": \"Night\", \"AGE_RANGE\": 49.0}, {\"cluster\": \"28 - 37\", \"PART_OF_DAY\": \"Night\", \"AGE_RANGE\": 36.0}, {\"cluster\": \"48 - 55\", \"PART_OF_DAY\": \"Night\", \"AGE_RANGE\": 54.0}, {\"cluster\": \"38 - 47\", \"PART_OF_DAY\": \"Night\", \"AGE_RANGE\": 47.0}, {\"cluster\": \"38 - 47\", \"PART_OF_DAY\": \"Night\", \"AGE_RANGE\": 47.0}, {\"cluster\": \"48 - 55\", \"PART_OF_DAY\": \"Night\", \"AGE_RANGE\": 54.0}, {\"cluster\": \"38 - 47\", \"PART_OF_DAY\": \"Night\", \"AGE_RANGE\": 39.0}, {\"cluster\": \"48 - 55\", \"PART_OF_DAY\": \"Night\", \"AGE_RANGE\": 52.0}, {\"cluster\": \"28 - 37\", \"PART_OF_DAY\": \"Night\", \"AGE_RANGE\": 36.0}, {\"cluster\": \"28 - 37\", \"PART_OF_DAY\": \"Night\", \"AGE_RANGE\": 35.0}, {\"cluster\": \"38 - 47\", \"PART_OF_DAY\": \"Night\", \"AGE_RANGE\": 45.0}, {\"cluster\": \"38 - 47\", \"PART_OF_DAY\": \"Night\", \"AGE_RANGE\": 47.0}, {\"cluster\": \"38 - 47\", \"PART_OF_DAY\": \"Night\", \"AGE_RANGE\": 46.0}, {\"cluster\": \"38 - 47\", \"PART_OF_DAY\": \"Night\", \"AGE_RANGE\": 45.0}, {\"cluster\": \"48 - 55\", \"PART_OF_DAY\": \"Night\", \"AGE_RANGE\": 53.0}, {\"cluster\": \"28 - 37\", \"PART_OF_DAY\": \"Night\", \"AGE_RANGE\": 29.0}, {\"cluster\": \"38 - 47\", \"PART_OF_DAY\": \"Night\", \"AGE_RANGE\": 43.0}, {\"cluster\": \"38 - 47\", \"PART_OF_DAY\": \"Night\", \"AGE_RANGE\": 47.0}, {\"cluster\": \"48 - 55\", \"PART_OF_DAY\": \"Night\", \"AGE_RANGE\": 49.0}, {\"cluster\": \"38 - 47\", \"PART_OF_DAY\": \"Night\", \"AGE_RANGE\": 39.0}, {\"cluster\": \"28 - 37\", \"PART_OF_DAY\": \"Night\", \"AGE_RANGE\": 29.0}, {\"cluster\": \"28 - 37\", \"PART_OF_DAY\": \"Night\", \"AGE_RANGE\": 34.0}, {\"cluster\": \"48 - 55\", \"PART_OF_DAY\": \"Night\", \"AGE_RANGE\": 48.0}, {\"cluster\": \"28 - 37\", \"PART_OF_DAY\": \"Night\", \"AGE_RANGE\": 36.0}, {\"cluster\": \"38 - 47\", \"PART_OF_DAY\": \"Night\", \"AGE_RANGE\": 39.0}, {\"cluster\": \"38 - 47\", \"PART_OF_DAY\": \"Night\", \"AGE_RANGE\": 42.0}, {\"cluster\": \"38 - 47\", \"PART_OF_DAY\": \"Night\", \"AGE_RANGE\": 40.0}, {\"cluster\": \"28 - 37\", \"PART_OF_DAY\": \"Night\", \"AGE_RANGE\": 37.0}, {\"cluster\": \"28 - 37\", \"PART_OF_DAY\": \"Night\", \"AGE_RANGE\": 31.0}, {\"cluster\": \"28 - 37\", \"PART_OF_DAY\": \"Night\", \"AGE_RANGE\": 28.0}, {\"cluster\": \"38 - 47\", \"PART_OF_DAY\": \"Night\", \"AGE_RANGE\": 46.0}, {\"cluster\": \"28 - 37\", \"PART_OF_DAY\": \"Night\", \"AGE_RANGE\": 30.0}, {\"cluster\": \"48 - 55\", \"PART_OF_DAY\": \"Night\", \"AGE_RANGE\": 53.0}, {\"cluster\": \"48 - 55\", \"PART_OF_DAY\": \"Night\", \"AGE_RANGE\": 55.0}, {\"cluster\": \"48 - 55\", \"PART_OF_DAY\": \"Night\", \"AGE_RANGE\": 51.0}, {\"cluster\": \"38 - 47\", \"PART_OF_DAY\": \"Night\", \"AGE_RANGE\": 46.0}, {\"cluster\": \"38 - 47\", \"PART_OF_DAY\": \"Night\", \"AGE_RANGE\": 45.0}, {\"cluster\": \"38 - 47\", \"PART_OF_DAY\": \"Night\", \"AGE_RANGE\": 45.0}, {\"cluster\": \"28 - 37\", \"PART_OF_DAY\": \"Night\", \"AGE_RANGE\": 32.0}, {\"cluster\": \"28 - 37\", \"PART_OF_DAY\": \"Night\", \"AGE_RANGE\": 37.0}, {\"cluster\": \"48 - 55\", \"PART_OF_DAY\": \"Night\", \"AGE_RANGE\": 54.0}, {\"cluster\": \"28 - 37\", \"PART_OF_DAY\": \"Night\", \"AGE_RANGE\": 35.0}, {\"cluster\": \"28 - 37\", \"PART_OF_DAY\": \"Night\", \"AGE_RANGE\": 28.0}, {\"cluster\": \"38 - 47\", \"PART_OF_DAY\": \"Night\", \"AGE_RANGE\": 38.0}, {\"cluster\": \"48 - 55\", \"PART_OF_DAY\": \"Night\", \"AGE_RANGE\": 52.0}, {\"cluster\": \"28 - 37\", \"PART_OF_DAY\": \"Night\", \"AGE_RANGE\": 35.0}, {\"cluster\": \"38 - 47\", \"PART_OF_DAY\": \"Night\", \"AGE_RANGE\": 47.0}, {\"cluster\": \"28 - 37\", \"PART_OF_DAY\": \"Night\", \"AGE_RANGE\": 35.0}, {\"cluster\": \"28 - 37\", \"PART_OF_DAY\": \"Night\", \"AGE_RANGE\": 37.0}, {\"cluster\": \"48 - 55\", \"PART_OF_DAY\": \"Night\", \"AGE_RANGE\": 54.0}, {\"cluster\": \"48 - 55\", \"PART_OF_DAY\": \"Night\", \"AGE_RANGE\": 54.0}, {\"cluster\": \"38 - 47\", \"PART_OF_DAY\": \"Night\", \"AGE_RANGE\": 43.0}, {\"cluster\": \"48 - 55\", \"PART_OF_DAY\": \"Night\", \"AGE_RANGE\": 50.0}, {\"cluster\": \"38 - 47\", \"PART_OF_DAY\": \"Night\", \"AGE_RANGE\": 42.0}, {\"cluster\": \"48 - 55\", \"PART_OF_DAY\": \"Night\", \"AGE_RANGE\": 53.0}, {\"cluster\": \"28 - 37\", \"PART_OF_DAY\": \"Night\", \"AGE_RANGE\": 32.0}, {\"cluster\": \"48 - 55\", \"PART_OF_DAY\": \"Night\", \"AGE_RANGE\": 51.0}, {\"cluster\": \"38 - 47\", \"PART_OF_DAY\": \"Night\", \"AGE_RANGE\": 46.0}, {\"cluster\": \"48 - 55\", \"PART_OF_DAY\": \"Night\", \"AGE_RANGE\": 53.0}, {\"cluster\": \"38 - 47\", \"PART_OF_DAY\": \"Night\", \"AGE_RANGE\": 40.0}, {\"cluster\": \"38 - 47\", \"PART_OF_DAY\": \"Night\", \"AGE_RANGE\": 46.0}, {\"cluster\": \"38 - 47\", \"PART_OF_DAY\": \"Night\", \"AGE_RANGE\": 44.0}, {\"cluster\": \"48 - 55\", \"PART_OF_DAY\": \"Night\", \"AGE_RANGE\": 53.0}, {\"cluster\": \"28 - 37\", \"PART_OF_DAY\": \"Night\", \"AGE_RANGE\": 29.0}, {\"cluster\": \"38 - 47\", \"PART_OF_DAY\": \"Night\", \"AGE_RANGE\": 46.0}, {\"cluster\": \"38 - 47\", \"PART_OF_DAY\": \"Night\", \"AGE_RANGE\": 41.0}, {\"cluster\": \"28 - 37\", \"PART_OF_DAY\": \"Night\", \"AGE_RANGE\": 34.0}, {\"cluster\": \"28 - 37\", \"PART_OF_DAY\": \"Night\", \"AGE_RANGE\": 35.0}, {\"cluster\": \"48 - 55\", \"PART_OF_DAY\": \"Night\", \"AGE_RANGE\": 55.0}, {\"cluster\": \"38 - 47\", \"PART_OF_DAY\": \"Night\", \"AGE_RANGE\": 46.0}, {\"cluster\": \"48 - 55\", \"PART_OF_DAY\": \"Night\", \"AGE_RANGE\": 52.0}, {\"cluster\": \"38 - 47\", \"PART_OF_DAY\": \"Night\", \"AGE_RANGE\": 40.0}, {\"cluster\": \"28 - 37\", \"PART_OF_DAY\": \"Night\", \"AGE_RANGE\": 37.0}, {\"cluster\": \"38 - 47\", \"PART_OF_DAY\": \"Night\", \"AGE_RANGE\": 40.0}, {\"cluster\": \"28 - 37\", \"PART_OF_DAY\": \"Night\", \"AGE_RANGE\": 36.0}, {\"cluster\": \"28 - 37\", \"PART_OF_DAY\": \"Night\", \"AGE_RANGE\": 29.0}, {\"cluster\": \"38 - 47\", \"PART_OF_DAY\": \"Night\", \"AGE_RANGE\": 44.0}, {\"cluster\": \"48 - 55\", \"PART_OF_DAY\": \"Night\", \"AGE_RANGE\": 50.0}, {\"cluster\": \"38 - 47\", \"PART_OF_DAY\": \"Night\", \"AGE_RANGE\": 42.0}, {\"cluster\": \"38 - 47\", \"PART_OF_DAY\": \"Night\", \"AGE_RANGE\": 45.0}, {\"cluster\": \"28 - 37\", \"PART_OF_DAY\": \"Night\", \"AGE_RANGE\": 33.0}, {\"cluster\": \"38 - 47\", \"PART_OF_DAY\": \"Day\", \"AGE_RANGE\": 38.0}, {\"cluster\": \"28 - 37\", \"PART_OF_DAY\": \"Day\", \"AGE_RANGE\": 28.0}, {\"cluster\": \"38 - 47\", \"PART_OF_DAY\": \"Day\", \"AGE_RANGE\": 46.0}, {\"cluster\": \"28 - 37\", \"PART_OF_DAY\": \"Day\", \"AGE_RANGE\": 34.0}, {\"cluster\": \"28 - 37\", \"PART_OF_DAY\": \"Day\", \"AGE_RANGE\": 33.0}, {\"cluster\": \"28 - 37\", \"PART_OF_DAY\": \"Day\", \"AGE_RANGE\": 37.0}, {\"cluster\": \"38 - 47\", \"PART_OF_DAY\": \"Night\", \"AGE_RANGE\": 45.0}, {\"cluster\": \"28 - 37\", \"PART_OF_DAY\": \"Night\", \"AGE_RANGE\": 34.0}, {\"cluster\": \"48 - 55\", \"PART_OF_DAY\": \"Night\", \"AGE_RANGE\": 53.0}, {\"cluster\": \"28 - 37\", \"PART_OF_DAY\": \"Night\", \"AGE_RANGE\": 37.0}, {\"cluster\": \"28 - 37\", \"PART_OF_DAY\": \"Night\", \"AGE_RANGE\": 29.0}]}}, {\"mode\": \"vega-lite\"});\n",
       "</script>"
      ],
      "text/plain": [
       "alt.Chart(...)"
      ]
     },
     "execution_count": 44,
     "metadata": {},
     "output_type": "execute_result"
    }
   ],
   "source": [
    "mappingtoplot2 = {0: '48 - 55', 1: '28 - 37', 2: '38 - 47'}\n",
    "\n",
    "cluster_data_plot = cluster_data_new.copy()\n",
    "cluster_data_plot['cluster'] = cluster_data_plot['cluster'].map(mappingtoplot2)\n",
    "\n",
    "# display result\n",
    "chart = alt.Chart(cluster_data_plot).mark_bar().encode(\n",
    "    alt.X('cluster', axis=alt.Axis(title=None, labels=False)),\n",
    "    alt.Y('count(AGE_RANGE)'),\n",
    "    alt.Column('PART_OF_DAY'),\n",
    "    alt.Color('cluster', scale=alt.Scale(range=[\"#AAFF00\",\"#097969\", \"#454B1B\"]))\n",
    ").properties(\n",
    "    width=200  \n",
    ")\n",
    "chart"
   ]
  },
  {
   "cell_type": "markdown",
   "metadata": {},
   "source": [
    "### 3. What is the common attire worn by the customer (attire, shirt color, shirt type, pants color, pants type)?"
   ]
  },
  {
   "cell_type": "code",
   "execution_count": 45,
   "metadata": {},
   "outputs": [
    {
     "data": {
      "application/vnd.plotly.v1+json": {
       "config": {
        "plotlyServerURL": "https://plot.ly"
       },
       "data": [
        {
         "alignmentgroup": "True",
         "hovertemplate": "ATTIRE=%{x}<br>FREQUENCY=%{y}<extra></extra>",
         "legendgroup": "",
         "marker": {
          "color": "#636efa",
          "pattern": {
           "shape": ""
          }
         },
         "name": "",
         "offsetgroup": "",
         "orientation": "v",
         "showlegend": false,
         "textposition": "auto",
         "type": "bar",
         "x": [
          "casual",
          "formal",
          "traditional"
         ],
         "xaxis": "x",
         "y": [
          508,
          79,
          55
         ],
         "yaxis": "y"
        }
       ],
       "layout": {
        "barmode": "relative",
        "legend": {
         "tracegroupgap": 0
        },
        "template": {
         "data": {
          "bar": [
           {
            "error_x": {
             "color": "#2a3f5f"
            },
            "error_y": {
             "color": "#2a3f5f"
            },
            "marker": {
             "line": {
              "color": "#E5ECF6",
              "width": 0.5
             },
             "pattern": {
              "fillmode": "overlay",
              "size": 10,
              "solidity": 0.2
             }
            },
            "type": "bar"
           }
          ],
          "barpolar": [
           {
            "marker": {
             "line": {
              "color": "#E5ECF6",
              "width": 0.5
             },
             "pattern": {
              "fillmode": "overlay",
              "size": 10,
              "solidity": 0.2
             }
            },
            "type": "barpolar"
           }
          ],
          "carpet": [
           {
            "aaxis": {
             "endlinecolor": "#2a3f5f",
             "gridcolor": "white",
             "linecolor": "white",
             "minorgridcolor": "white",
             "startlinecolor": "#2a3f5f"
            },
            "baxis": {
             "endlinecolor": "#2a3f5f",
             "gridcolor": "white",
             "linecolor": "white",
             "minorgridcolor": "white",
             "startlinecolor": "#2a3f5f"
            },
            "type": "carpet"
           }
          ],
          "choropleth": [
           {
            "colorbar": {
             "outlinewidth": 0,
             "ticks": ""
            },
            "type": "choropleth"
           }
          ],
          "contour": [
           {
            "colorbar": {
             "outlinewidth": 0,
             "ticks": ""
            },
            "colorscale": [
             [
              0,
              "#0d0887"
             ],
             [
              0.1111111111111111,
              "#46039f"
             ],
             [
              0.2222222222222222,
              "#7201a8"
             ],
             [
              0.3333333333333333,
              "#9c179e"
             ],
             [
              0.4444444444444444,
              "#bd3786"
             ],
             [
              0.5555555555555556,
              "#d8576b"
             ],
             [
              0.6666666666666666,
              "#ed7953"
             ],
             [
              0.7777777777777778,
              "#fb9f3a"
             ],
             [
              0.8888888888888888,
              "#fdca26"
             ],
             [
              1,
              "#f0f921"
             ]
            ],
            "type": "contour"
           }
          ],
          "contourcarpet": [
           {
            "colorbar": {
             "outlinewidth": 0,
             "ticks": ""
            },
            "type": "contourcarpet"
           }
          ],
          "heatmap": [
           {
            "colorbar": {
             "outlinewidth": 0,
             "ticks": ""
            },
            "colorscale": [
             [
              0,
              "#0d0887"
             ],
             [
              0.1111111111111111,
              "#46039f"
             ],
             [
              0.2222222222222222,
              "#7201a8"
             ],
             [
              0.3333333333333333,
              "#9c179e"
             ],
             [
              0.4444444444444444,
              "#bd3786"
             ],
             [
              0.5555555555555556,
              "#d8576b"
             ],
             [
              0.6666666666666666,
              "#ed7953"
             ],
             [
              0.7777777777777778,
              "#fb9f3a"
             ],
             [
              0.8888888888888888,
              "#fdca26"
             ],
             [
              1,
              "#f0f921"
             ]
            ],
            "type": "heatmap"
           }
          ],
          "heatmapgl": [
           {
            "colorbar": {
             "outlinewidth": 0,
             "ticks": ""
            },
            "colorscale": [
             [
              0,
              "#0d0887"
             ],
             [
              0.1111111111111111,
              "#46039f"
             ],
             [
              0.2222222222222222,
              "#7201a8"
             ],
             [
              0.3333333333333333,
              "#9c179e"
             ],
             [
              0.4444444444444444,
              "#bd3786"
             ],
             [
              0.5555555555555556,
              "#d8576b"
             ],
             [
              0.6666666666666666,
              "#ed7953"
             ],
             [
              0.7777777777777778,
              "#fb9f3a"
             ],
             [
              0.8888888888888888,
              "#fdca26"
             ],
             [
              1,
              "#f0f921"
             ]
            ],
            "type": "heatmapgl"
           }
          ],
          "histogram": [
           {
            "marker": {
             "pattern": {
              "fillmode": "overlay",
              "size": 10,
              "solidity": 0.2
             }
            },
            "type": "histogram"
           }
          ],
          "histogram2d": [
           {
            "colorbar": {
             "outlinewidth": 0,
             "ticks": ""
            },
            "colorscale": [
             [
              0,
              "#0d0887"
             ],
             [
              0.1111111111111111,
              "#46039f"
             ],
             [
              0.2222222222222222,
              "#7201a8"
             ],
             [
              0.3333333333333333,
              "#9c179e"
             ],
             [
              0.4444444444444444,
              "#bd3786"
             ],
             [
              0.5555555555555556,
              "#d8576b"
             ],
             [
              0.6666666666666666,
              "#ed7953"
             ],
             [
              0.7777777777777778,
              "#fb9f3a"
             ],
             [
              0.8888888888888888,
              "#fdca26"
             ],
             [
              1,
              "#f0f921"
             ]
            ],
            "type": "histogram2d"
           }
          ],
          "histogram2dcontour": [
           {
            "colorbar": {
             "outlinewidth": 0,
             "ticks": ""
            },
            "colorscale": [
             [
              0,
              "#0d0887"
             ],
             [
              0.1111111111111111,
              "#46039f"
             ],
             [
              0.2222222222222222,
              "#7201a8"
             ],
             [
              0.3333333333333333,
              "#9c179e"
             ],
             [
              0.4444444444444444,
              "#bd3786"
             ],
             [
              0.5555555555555556,
              "#d8576b"
             ],
             [
              0.6666666666666666,
              "#ed7953"
             ],
             [
              0.7777777777777778,
              "#fb9f3a"
             ],
             [
              0.8888888888888888,
              "#fdca26"
             ],
             [
              1,
              "#f0f921"
             ]
            ],
            "type": "histogram2dcontour"
           }
          ],
          "mesh3d": [
           {
            "colorbar": {
             "outlinewidth": 0,
             "ticks": ""
            },
            "type": "mesh3d"
           }
          ],
          "parcoords": [
           {
            "line": {
             "colorbar": {
              "outlinewidth": 0,
              "ticks": ""
             }
            },
            "type": "parcoords"
           }
          ],
          "pie": [
           {
            "automargin": true,
            "type": "pie"
           }
          ],
          "scatter": [
           {
            "marker": {
             "colorbar": {
              "outlinewidth": 0,
              "ticks": ""
             }
            },
            "type": "scatter"
           }
          ],
          "scatter3d": [
           {
            "line": {
             "colorbar": {
              "outlinewidth": 0,
              "ticks": ""
             }
            },
            "marker": {
             "colorbar": {
              "outlinewidth": 0,
              "ticks": ""
             }
            },
            "type": "scatter3d"
           }
          ],
          "scattercarpet": [
           {
            "marker": {
             "colorbar": {
              "outlinewidth": 0,
              "ticks": ""
             }
            },
            "type": "scattercarpet"
           }
          ],
          "scattergeo": [
           {
            "marker": {
             "colorbar": {
              "outlinewidth": 0,
              "ticks": ""
             }
            },
            "type": "scattergeo"
           }
          ],
          "scattergl": [
           {
            "marker": {
             "colorbar": {
              "outlinewidth": 0,
              "ticks": ""
             }
            },
            "type": "scattergl"
           }
          ],
          "scattermapbox": [
           {
            "marker": {
             "colorbar": {
              "outlinewidth": 0,
              "ticks": ""
             }
            },
            "type": "scattermapbox"
           }
          ],
          "scatterpolar": [
           {
            "marker": {
             "colorbar": {
              "outlinewidth": 0,
              "ticks": ""
             }
            },
            "type": "scatterpolar"
           }
          ],
          "scatterpolargl": [
           {
            "marker": {
             "colorbar": {
              "outlinewidth": 0,
              "ticks": ""
             }
            },
            "type": "scatterpolargl"
           }
          ],
          "scatterternary": [
           {
            "marker": {
             "colorbar": {
              "outlinewidth": 0,
              "ticks": ""
             }
            },
            "type": "scatterternary"
           }
          ],
          "surface": [
           {
            "colorbar": {
             "outlinewidth": 0,
             "ticks": ""
            },
            "colorscale": [
             [
              0,
              "#0d0887"
             ],
             [
              0.1111111111111111,
              "#46039f"
             ],
             [
              0.2222222222222222,
              "#7201a8"
             ],
             [
              0.3333333333333333,
              "#9c179e"
             ],
             [
              0.4444444444444444,
              "#bd3786"
             ],
             [
              0.5555555555555556,
              "#d8576b"
             ],
             [
              0.6666666666666666,
              "#ed7953"
             ],
             [
              0.7777777777777778,
              "#fb9f3a"
             ],
             [
              0.8888888888888888,
              "#fdca26"
             ],
             [
              1,
              "#f0f921"
             ]
            ],
            "type": "surface"
           }
          ],
          "table": [
           {
            "cells": {
             "fill": {
              "color": "#EBF0F8"
             },
             "line": {
              "color": "white"
             }
            },
            "header": {
             "fill": {
              "color": "#C8D4E3"
             },
             "line": {
              "color": "white"
             }
            },
            "type": "table"
           }
          ]
         },
         "layout": {
          "annotationdefaults": {
           "arrowcolor": "#2a3f5f",
           "arrowhead": 0,
           "arrowwidth": 1
          },
          "autotypenumbers": "strict",
          "coloraxis": {
           "colorbar": {
            "outlinewidth": 0,
            "ticks": ""
           }
          },
          "colorscale": {
           "diverging": [
            [
             0,
             "#8e0152"
            ],
            [
             0.1,
             "#c51b7d"
            ],
            [
             0.2,
             "#de77ae"
            ],
            [
             0.3,
             "#f1b6da"
            ],
            [
             0.4,
             "#fde0ef"
            ],
            [
             0.5,
             "#f7f7f7"
            ],
            [
             0.6,
             "#e6f5d0"
            ],
            [
             0.7,
             "#b8e186"
            ],
            [
             0.8,
             "#7fbc41"
            ],
            [
             0.9,
             "#4d9221"
            ],
            [
             1,
             "#276419"
            ]
           ],
           "sequential": [
            [
             0,
             "#0d0887"
            ],
            [
             0.1111111111111111,
             "#46039f"
            ],
            [
             0.2222222222222222,
             "#7201a8"
            ],
            [
             0.3333333333333333,
             "#9c179e"
            ],
            [
             0.4444444444444444,
             "#bd3786"
            ],
            [
             0.5555555555555556,
             "#d8576b"
            ],
            [
             0.6666666666666666,
             "#ed7953"
            ],
            [
             0.7777777777777778,
             "#fb9f3a"
            ],
            [
             0.8888888888888888,
             "#fdca26"
            ],
            [
             1,
             "#f0f921"
            ]
           ],
           "sequentialminus": [
            [
             0,
             "#0d0887"
            ],
            [
             0.1111111111111111,
             "#46039f"
            ],
            [
             0.2222222222222222,
             "#7201a8"
            ],
            [
             0.3333333333333333,
             "#9c179e"
            ],
            [
             0.4444444444444444,
             "#bd3786"
            ],
            [
             0.5555555555555556,
             "#d8576b"
            ],
            [
             0.6666666666666666,
             "#ed7953"
            ],
            [
             0.7777777777777778,
             "#fb9f3a"
            ],
            [
             0.8888888888888888,
             "#fdca26"
            ],
            [
             1,
             "#f0f921"
            ]
           ]
          },
          "colorway": [
           "#636efa",
           "#EF553B",
           "#00cc96",
           "#ab63fa",
           "#FFA15A",
           "#19d3f3",
           "#FF6692",
           "#B6E880",
           "#FF97FF",
           "#FECB52"
          ],
          "font": {
           "color": "#2a3f5f"
          },
          "geo": {
           "bgcolor": "white",
           "lakecolor": "white",
           "landcolor": "#E5ECF6",
           "showlakes": true,
           "showland": true,
           "subunitcolor": "white"
          },
          "hoverlabel": {
           "align": "left"
          },
          "hovermode": "closest",
          "mapbox": {
           "style": "light"
          },
          "paper_bgcolor": "white",
          "plot_bgcolor": "#E5ECF6",
          "polar": {
           "angularaxis": {
            "gridcolor": "white",
            "linecolor": "white",
            "ticks": ""
           },
           "bgcolor": "#E5ECF6",
           "radialaxis": {
            "gridcolor": "white",
            "linecolor": "white",
            "ticks": ""
           }
          },
          "scene": {
           "xaxis": {
            "backgroundcolor": "#E5ECF6",
            "gridcolor": "white",
            "gridwidth": 2,
            "linecolor": "white",
            "showbackground": true,
            "ticks": "",
            "zerolinecolor": "white"
           },
           "yaxis": {
            "backgroundcolor": "#E5ECF6",
            "gridcolor": "white",
            "gridwidth": 2,
            "linecolor": "white",
            "showbackground": true,
            "ticks": "",
            "zerolinecolor": "white"
           },
           "zaxis": {
            "backgroundcolor": "#E5ECF6",
            "gridcolor": "white",
            "gridwidth": 2,
            "linecolor": "white",
            "showbackground": true,
            "ticks": "",
            "zerolinecolor": "white"
           }
          },
          "shapedefaults": {
           "line": {
            "color": "#2a3f5f"
           }
          },
          "ternary": {
           "aaxis": {
            "gridcolor": "white",
            "linecolor": "white",
            "ticks": ""
           },
           "baxis": {
            "gridcolor": "white",
            "linecolor": "white",
            "ticks": ""
           },
           "bgcolor": "#E5ECF6",
           "caxis": {
            "gridcolor": "white",
            "linecolor": "white",
            "ticks": ""
           }
          },
          "title": {
           "x": 0.05
          },
          "xaxis": {
           "automargin": true,
           "gridcolor": "white",
           "linecolor": "white",
           "ticks": "",
           "title": {
            "standoff": 15
           },
           "zerolinecolor": "white",
           "zerolinewidth": 2
          },
          "yaxis": {
           "automargin": true,
           "gridcolor": "white",
           "linecolor": "white",
           "ticks": "",
           "title": {
            "standoff": 15
           },
           "zerolinecolor": "white",
           "zerolinewidth": 2
          }
         }
        },
        "title": {
         "text": "Distribution of Attire"
        },
        "xaxis": {
         "anchor": "y",
         "domain": [
          0,
          1
         ],
         "title": {
          "text": "ATTIRE"
         }
        },
        "yaxis": {
         "anchor": "x",
         "domain": [
          0,
          1
         ],
         "title": {
          "text": "FREQUENCY"
         }
        }
       }
      }
     },
     "metadata": {},
     "output_type": "display_data"
    }
   ],
   "source": [
    "customerAttire = laundry.copy()\n",
    "\n",
    "attire = customerAttire['ATTIRE'].value_counts().reset_index()\n",
    "attire = attire.rename(columns={'index':'ATTIRE', 'ATTIRE':'FREQUENCY'})\n",
    "fig = px.bar(attire, x='ATTIRE', y='FREQUENCY',title=\"Distribution of Attire\") \n",
    "fig.show()"
   ]
  },
  {
   "cell_type": "code",
   "execution_count": 46,
   "metadata": {},
   "outputs": [
    {
     "name": "stdout",
     "output_type": "stream",
     "text": [
      "['blue' 'short_sleeve' 'black' 'short' 'white' 'blue_jeans' 'long' 'red'\n",
      " 'yellow' 'brown' 'long sleeve' 'grey' 'green' 'purple' 'pink' 'orange'\n",
      " 'blue ' 'black ']\n"
     ]
    }
   ],
   "source": [
    "unique_clothes = customerAttire[['SHIRT_COLOUR', 'SHIRT_TYPE', 'PANTS_COLOUR', 'PANTS_TYPE']].values.ravel()\n",
    "unique_clothes = pd.unique(unique_clothes)\n",
    "print(unique_clothes)"
   ]
  },
  {
   "cell_type": "code",
   "execution_count": 47,
   "metadata": {},
   "outputs": [],
   "source": [
    "customerAttire['SHIRT_COLOUR'] = customerAttire['SHIRT_COLOUR'].astype(str) + '_shirt'\n",
    "customerAttire['PANTS_COLOUR'] = customerAttire['PANTS_COLOUR'].astype(str) + '_pants'\n",
    "customerAttire['PANTS_TYPE'] = customerAttire['PANTS_TYPE'].astype(str) + '_pants'"
   ]
  },
  {
   "cell_type": "code",
   "execution_count": 48,
   "metadata": {},
   "outputs": [],
   "source": [
    "def top5clothes(df) : \n",
    "    customerClothes = df[['SHIRT_COLOUR', 'SHIRT_TYPE', 'PANTS_COLOUR', 'PANTS_TYPE']]\n",
    "    records = []\n",
    "    count_row = customerClothes.shape[0]\n",
    "    for i in range(0, count_row):\n",
    "        records.append([str(customerClothes.values[i,j]) for j in range(0, 4)])\n",
    "        \n",
    "    association_rules = apriori(records, min_support = 0.0045, min_confidence = 0.2, min_lift = 3, min_length = 3)\n",
    "    association_result = list(association_rules)\n",
    "\n",
    "    cnt =0\n",
    "\n",
    "    for item in association_result:\n",
    "        cnt += 1\n",
    "        # first index of the inner list\n",
    "        # Contains base item and add item\n",
    "        pair = item[0] \n",
    "        items = [x for x in pair]\n",
    "        print(\"(Rule \" + str(cnt) + \") \" + items[0] + \" -> \" + items[1])\n",
    "\n",
    "        #second index of the inner list\n",
    "        print(\"Support: \" + str(round(item[1],3)))\n",
    "\n",
    "        #third index of the list located at 0th\n",
    "        #of the third index of the inner list\n",
    "\n",
    "        print(\"Confidence: \" + str(round(item[2][0][2],4)))\n",
    "        print(\"Lift: \" + str(round(item[2][0][3],4)))\n",
    "        print(\"=====================================\")\n",
    "\n",
    "        if cnt > 4: break"
   ]
  },
  {
   "cell_type": "code",
   "execution_count": 49,
   "metadata": {},
   "outputs": [],
   "source": [
    "casual = customerAttire[customerAttire['ATTIRE'] == 'casual'].reset_index()\n",
    "formal = customerAttire[customerAttire['ATTIRE'] == 'formal'].reset_index()\n",
    "traditional = customerAttire[customerAttire['ATTIRE'] == 'traditional'].reset_index()"
   ]
  },
  {
   "cell_type": "markdown",
   "metadata": {},
   "source": [
    "Casual"
   ]
  },
  {
   "cell_type": "code",
   "execution_count": 50,
   "metadata": {},
   "outputs": [
    {
     "name": "stdout",
     "output_type": "stream",
     "text": [
      "Casual Attire\n",
      "=====================================\n",
      "(Rule 1) brown_shirt -> long sleeve\n",
      "Support: 0.026\n",
      "Confidence: 0.4333\n",
      "Lift: 3.0155\n",
      "=====================================\n",
      "(Rule 2) green_shirt -> pink_pants\n",
      "Support: 0.01\n",
      "Confidence: 0.4167\n",
      "Lift: 6.0476\n",
      "=====================================\n",
      "(Rule 3) purple_pants -> purple_shirt\n",
      "Support: 0.006\n",
      "Confidence: 0.25\n",
      "Lift: 7.0556\n",
      "=====================================\n",
      "(Rule 4) black_pants -> brown_shirt\n",
      "Support: 0.016\n",
      "Confidence: 0.2667\n",
      "Lift: 3.8705\n",
      "=====================================\n",
      "(Rule 5) black_pants -> long sleeve\n",
      "Support: 0.008\n",
      "Confidence: 0.3333\n",
      "Lift: 4.8381\n",
      "=====================================\n",
      "None\n"
     ]
    }
   ],
   "source": [
    "print ('Casual Attire')\n",
    "print(\"=====================================\")\n",
    "casualAttire = top5clothes(casual)\n",
    "print (casualAttire)"
   ]
  },
  {
   "cell_type": "markdown",
   "metadata": {},
   "source": [
    "Formal"
   ]
  },
  {
   "cell_type": "code",
   "execution_count": 51,
   "metadata": {},
   "outputs": [
    {
     "name": "stdout",
     "output_type": "stream",
     "text": [
      "Formal Attire\n",
      "=====================================\n",
      "(Rule 1) brown_shirt -> blue_pants\n",
      "Support: 0.025\n",
      "Confidence: 0.2222\n",
      "Lift: 8.7778\n",
      "=====================================\n",
      "(Rule 2) grey_shirt -> brown_pants\n",
      "Support: 0.013\n",
      "Confidence: 0.25\n",
      "Lift: 4.9375\n",
      "=====================================\n",
      "(Rule 3) orange_shirt -> brown_pants\n",
      "Support: 0.025\n",
      "Confidence: 0.5\n",
      "Lift: 6.5833\n",
      "=====================================\n",
      "(Rule 4) grey_pants -> red_shirt\n",
      "Support: 0.025\n",
      "Confidence: 0.2857\n",
      "Lift: 3.2245\n",
      "=====================================\n",
      "(Rule 5) pink_pants -> pink_shirt\n",
      "Support: 0.025\n",
      "Confidence: 1.0\n",
      "Lift: 9.875\n",
      "=====================================\n",
      "None\n"
     ]
    }
   ],
   "source": [
    "print ('Formal Attire')\n",
    "print(\"=====================================\")\n",
    "formalAttire = top5clothes(formal)\n",
    "print (formalAttire)"
   ]
  },
  {
   "cell_type": "markdown",
   "metadata": {},
   "source": [
    "Traditional"
   ]
  },
  {
   "cell_type": "code",
   "execution_count": 52,
   "metadata": {},
   "outputs": [
    {
     "name": "stdout",
     "output_type": "stream",
     "text": [
      "Traditional Attire\n",
      "=====================================\n",
      "(Rule 1) black_pants -> black_shirt\n",
      "Support: 0.073\n",
      "Confidence: 0.3333\n",
      "Lift: 4.5833\n",
      "=====================================\n",
      "(Rule 2) blue_shirt -> blue_pants\n",
      "Support: 0.091\n",
      "Confidence: 0.3846\n",
      "Lift: 3.5256\n",
      "=====================================\n",
      "(Rule 3) brown_shirt -> brown_pants\n",
      "Support: 0.073\n",
      "Confidence: 1.0\n",
      "Lift: 4.2308\n",
      "=====================================\n",
      "(Rule 4) green_shirt -> green_pants\n",
      "Support: 0.036\n",
      "Confidence: 1.0\n",
      "Lift: 11.0\n",
      "=====================================\n",
      "(Rule 5) grey_shirt -> grey_pants\n",
      "Support: 0.055\n",
      "Confidence: 1.0\n",
      "Lift: 18.3333\n",
      "=====================================\n",
      "None\n"
     ]
    }
   ],
   "source": [
    "print ('Traditional Attire')\n",
    "print(\"=====================================\")\n",
    "traditionalAttire = top5clothes(traditional)\n",
    "print (traditionalAttire)"
   ]
  },
  {
   "cell_type": "markdown",
   "metadata": {},
   "source": [
    "### 4. Frequency usage for washer and dryer per month"
   ]
  },
  {
   "cell_type": "markdown",
   "metadata": {},
   "source": [
    "#### WASHER"
   ]
  },
  {
   "cell_type": "code",
   "execution_count": 55,
   "metadata": {},
   "outputs": [
    {
     "name": "stdout",
     "output_type": "stream",
     "text": [
      "Frequency of washer used per month is:  512\n"
     ]
    },
    {
     "data": {
      "text/html": [
       "\n",
       "<div id=\"altair-viz-5f87f572e1254fcb86c0fbfac6b63913\"></div>\n",
       "<script type=\"text/javascript\">\n",
       "  (function(spec, embedOpt){\n",
       "    let outputDiv = document.currentScript.previousElementSibling;\n",
       "    if (outputDiv.id !== \"altair-viz-5f87f572e1254fcb86c0fbfac6b63913\") {\n",
       "      outputDiv = document.getElementById(\"altair-viz-5f87f572e1254fcb86c0fbfac6b63913\");\n",
       "    }\n",
       "    const paths = {\n",
       "      \"vega\": \"https://cdn.jsdelivr.net/npm//vega@5?noext\",\n",
       "      \"vega-lib\": \"https://cdn.jsdelivr.net/npm//vega-lib?noext\",\n",
       "      \"vega-lite\": \"https://cdn.jsdelivr.net/npm//vega-lite@4.8.1?noext\",\n",
       "      \"vega-embed\": \"https://cdn.jsdelivr.net/npm//vega-embed@6?noext\",\n",
       "    };\n",
       "\n",
       "    function loadScript(lib) {\n",
       "      return new Promise(function(resolve, reject) {\n",
       "        var s = document.createElement('script');\n",
       "        s.src = paths[lib];\n",
       "        s.async = true;\n",
       "        s.onload = () => resolve(paths[lib]);\n",
       "        s.onerror = () => reject(`Error loading script: ${paths[lib]}`);\n",
       "        document.getElementsByTagName(\"head\")[0].appendChild(s);\n",
       "      });\n",
       "    }\n",
       "\n",
       "    function showError(err) {\n",
       "      outputDiv.innerHTML = `<div class=\"error\" style=\"color:red;\">${err}</div>`;\n",
       "      throw err;\n",
       "    }\n",
       "\n",
       "    function displayChart(vegaEmbed) {\n",
       "      vegaEmbed(outputDiv, spec, embedOpt)\n",
       "        .catch(err => showError(`Javascript Error: ${err.message}<br>This usually means there's a typo in your chart specification. See the javascript console for the full traceback.`));\n",
       "    }\n",
       "\n",
       "    if(typeof define === \"function\" && define.amd) {\n",
       "      requirejs.config({paths});\n",
       "      require([\"vega-embed\"], displayChart, err => showError(`Error loading script: ${err.message}`));\n",
       "    } else if (typeof vegaEmbed === \"function\") {\n",
       "      displayChart(vegaEmbed);\n",
       "    } else {\n",
       "      loadScript(\"vega\")\n",
       "        .then(() => loadScript(\"vega-lite\"))\n",
       "        .then(() => loadScript(\"vega-embed\"))\n",
       "        .catch(showError)\n",
       "        .then(() => displayChart(vegaEmbed));\n",
       "    }\n",
       "  })({\"config\": {\"view\": {\"continuousWidth\": 400, \"continuousHeight\": 300}}, \"layer\": [{\"mark\": \"bar\", \"encoding\": {\"color\": {\"type\": \"nominal\", \"field\": \"WASHER_NO\"}, \"x\": {\"type\": \"nominal\", \"field\": \"WASHER_NO\"}, \"y\": {\"type\": \"quantitative\", \"field\": \"FREQUENCY\"}}, \"height\": 500, \"width\": 700}, {\"mark\": {\"type\": \"text\", \"align\": \"left\", \"baseline\": \"middle\", \"dy\": -10}, \"encoding\": {\"color\": {\"type\": \"nominal\", \"field\": \"WASHER_NO\"}, \"text\": {\"type\": \"quantitative\", \"field\": \"FREQUENCY\"}, \"x\": {\"type\": \"nominal\", \"field\": \"WASHER_NO\"}, \"y\": {\"type\": \"quantitative\", \"field\": \"FREQUENCY\"}}, \"height\": 500, \"width\": 700}], \"data\": {\"name\": \"data-50f5fc9ff550bfb59e974ad06999a44b\"}, \"$schema\": \"https://vega.github.io/schema/vega-lite/v4.8.1.json\", \"datasets\": {\"data-50f5fc9ff550bfb59e974ad06999a44b\": [{\"WASHER_NO\": \"3\", \"FREQUENCY\": 139}, {\"WASHER_NO\": \"6\", \"FREQUENCY\": 133}, {\"WASHER_NO\": \"5\", \"FREQUENCY\": 127}, {\"WASHER_NO\": \"4\", \"FREQUENCY\": 113}]}}, {\"mode\": \"vega-lite\"});\n",
       "</script>"
      ],
      "text/plain": [
       "alt.LayerChart(...)"
      ]
     },
     "execution_count": 55,
     "metadata": {},
     "output_type": "execute_result"
    }
   ],
   "source": [
    "temp = laundryAnalaysis.copy()\n",
    "\n",
    "# perform analysis on November\n",
    "temp['MONTH'] = temp['DATE'].dt.month\n",
    "a = temp[temp['MONTH']==11]\n",
    "\n",
    "# get the frequency of washer used based on washer number\n",
    "a = a['WASHER_NO'].value_counts()\n",
    "washerFreq = pd.DataFrame(data=a)\n",
    "washerFreq['index1'] = washerFreq.index\n",
    "washerFreq.reset_index(drop=True, inplace=True)\n",
    "washerFreq.columns = ['FREQUENCY','WASHER_NO']\n",
    "washerFreq = washerFreq[['WASHER_NO', 'FREQUENCY']]\n",
    "print('Frequency of washer used per month is: ', washerFreq['FREQUENCY'].sum())\n",
    "\n",
    "# display the result\n",
    "washerFreq['WASHER_NO'] = washerFreq['WASHER_NO'].astype(str)\n",
    "bars = alt.Chart(washerFreq).mark_bar().encode(\n",
    "    x='WASHER_NO',\n",
    "    y='FREQUENCY',\n",
    "    color=alt.Color('WASHER_NO')\n",
    "\n",
    ").properties(\n",
    "    width=700,\n",
    "    height=500\n",
    ")\n",
    "\n",
    "text = bars.mark_text(\n",
    "    align='left',\n",
    "    baseline='middle',\n",
    "    dy=-10  \n",
    ").encode(\n",
    "    text='FREQUENCY'\n",
    ")\n",
    "q5wahser = bars + text\n",
    "q5wahser"
   ]
  },
  {
   "cell_type": "markdown",
   "metadata": {},
   "source": [
    "#### DRYER"
   ]
  },
  {
   "cell_type": "code",
   "execution_count": 118,
   "metadata": {},
   "outputs": [
    {
     "name": "stdout",
     "output_type": "stream",
     "text": [
      "Frequency of dryer used per month is:  512\n"
     ]
    },
    {
     "data": {
      "text/html": [
       "\n",
       "<div id=\"altair-viz-37b18940c45b4861881fb923fce5cf2a\"></div>\n",
       "<script type=\"text/javascript\">\n",
       "  (function(spec, embedOpt){\n",
       "    let outputDiv = document.currentScript.previousElementSibling;\n",
       "    if (outputDiv.id !== \"altair-viz-37b18940c45b4861881fb923fce5cf2a\") {\n",
       "      outputDiv = document.getElementById(\"altair-viz-37b18940c45b4861881fb923fce5cf2a\");\n",
       "    }\n",
       "    const paths = {\n",
       "      \"vega\": \"https://cdn.jsdelivr.net/npm//vega@5?noext\",\n",
       "      \"vega-lib\": \"https://cdn.jsdelivr.net/npm//vega-lib?noext\",\n",
       "      \"vega-lite\": \"https://cdn.jsdelivr.net/npm//vega-lite@4.8.1?noext\",\n",
       "      \"vega-embed\": \"https://cdn.jsdelivr.net/npm//vega-embed@6?noext\",\n",
       "    };\n",
       "\n",
       "    function loadScript(lib) {\n",
       "      return new Promise(function(resolve, reject) {\n",
       "        var s = document.createElement('script');\n",
       "        s.src = paths[lib];\n",
       "        s.async = true;\n",
       "        s.onload = () => resolve(paths[lib]);\n",
       "        s.onerror = () => reject(`Error loading script: ${paths[lib]}`);\n",
       "        document.getElementsByTagName(\"head\")[0].appendChild(s);\n",
       "      });\n",
       "    }\n",
       "\n",
       "    function showError(err) {\n",
       "      outputDiv.innerHTML = `<div class=\"error\" style=\"color:red;\">${err}</div>`;\n",
       "      throw err;\n",
       "    }\n",
       "\n",
       "    function displayChart(vegaEmbed) {\n",
       "      vegaEmbed(outputDiv, spec, embedOpt)\n",
       "        .catch(err => showError(`Javascript Error: ${err.message}<br>This usually means there's a typo in your chart specification. See the javascript console for the full traceback.`));\n",
       "    }\n",
       "\n",
       "    if(typeof define === \"function\" && define.amd) {\n",
       "      requirejs.config({paths});\n",
       "      require([\"vega-embed\"], displayChart, err => showError(`Error loading script: ${err.message}`));\n",
       "    } else if (typeof vegaEmbed === \"function\") {\n",
       "      displayChart(vegaEmbed);\n",
       "    } else {\n",
       "      loadScript(\"vega\")\n",
       "        .then(() => loadScript(\"vega-lite\"))\n",
       "        .then(() => loadScript(\"vega-embed\"))\n",
       "        .catch(showError)\n",
       "        .then(() => displayChart(vegaEmbed));\n",
       "    }\n",
       "  })({\"config\": {\"view\": {\"continuousWidth\": 400, \"continuousHeight\": 300}}, \"layer\": [{\"mark\": \"bar\", \"encoding\": {\"color\": {\"type\": \"nominal\", \"field\": \"DRYER_NO\"}, \"x\": {\"type\": \"nominal\", \"field\": \"DRYER_NO\"}, \"y\": {\"type\": \"quantitative\", \"field\": \"FREQUENCY\"}}, \"height\": 500, \"width\": 700}, {\"mark\": {\"type\": \"text\", \"align\": \"left\", \"baseline\": \"middle\", \"dy\": -10}, \"encoding\": {\"color\": {\"type\": \"nominal\", \"field\": \"DRYER_NO\"}, \"text\": {\"type\": \"quantitative\", \"field\": \"FREQUENCY\"}, \"x\": {\"type\": \"nominal\", \"field\": \"DRYER_NO\"}, \"y\": {\"type\": \"quantitative\", \"field\": \"FREQUENCY\"}}, \"height\": 500, \"width\": 700}], \"data\": {\"name\": \"data-5b2dec46b995cc85e52488e3125eb7c2\"}, \"$schema\": \"https://vega.github.io/schema/vega-lite/v4.8.1.json\", \"datasets\": {\"data-5b2dec46b995cc85e52488e3125eb7c2\": [{\"DRYER_NO\": \"7\", \"FREQUENCY\": 152}, {\"DRYER_NO\": \"10\", \"FREQUENCY\": 127}, {\"DRYER_NO\": \"8\", \"FREQUENCY\": 123}, {\"DRYER_NO\": \"9\", \"FREQUENCY\": 110}]}}, {\"mode\": \"vega-lite\"});\n",
       "</script>"
      ],
      "text/plain": [
       "alt.LayerChart(...)"
      ]
     },
     "execution_count": 118,
     "metadata": {},
     "output_type": "execute_result"
    }
   ],
   "source": [
    "temp = laundryAnalaysis.copy()\n",
    "\n",
    "# perform analysis on November\n",
    "temp['MONTH'] = temp['DATE'].dt.month\n",
    "a = temp[temp['MONTH']==11]\n",
    "\n",
    "# get the frequency of dryer used based on dryer number\n",
    "a = a['DRYER_NO'].value_counts()\n",
    "dryerFreq = pd.DataFrame(data=a)\n",
    "dryerFreq['index1'] = dryerFreq.index\n",
    "dryerFreq.reset_index(drop=True, inplace=True)\n",
    "dryerFreq.columns = ['FREQUENCY','DRYER_NO']\n",
    "dryerFreq = dryerFreq[['DRYER_NO', 'FREQUENCY']]\n",
    "print('Frequency of dryer used per month is: ', dryerFreq['FREQUENCY'].sum())\n",
    "\n",
    "# display the result\n",
    "dryerFreq['DRYER_NO'] = dryerFreq['DRYER_NO'].astype(str)\n",
    "bars = alt.Chart(dryerFreq).mark_bar().encode(\n",
    "    x='DRYER_NO',\n",
    "    y='FREQUENCY',\n",
    "    color=alt.Color('DRYER_NO')\n",
    "\n",
    ").properties(\n",
    "    width=700,\n",
    "    height=500\n",
    ")\n",
    "\n",
    "text = bars.mark_text(\n",
    "    align='left',\n",
    "    baseline='middle',\n",
    "    dy=-10  # Nudges text to right so it doesn't appear on top of the bar\n",
    ").encode(\n",
    "    text='FREQUENCY'\n",
    ")\n",
    "q5dryer = bars + text\n",
    "q5dryer"
   ]
  },
  {
   "cell_type": "markdown",
   "metadata": {},
   "source": [
    "### 5. Which dryer and washing machine are frequently used together? "
   ]
  },
  {
   "cell_type": "code",
   "execution_count": 57,
   "metadata": {},
   "outputs": [
    {
     "data": {
      "text/plain": [
       "[['WASHER 3', 'DRYER 10'],\n",
       " ['WASHER 6', 'DRYER 9'],\n",
       " ['WASHER 4', 'DRYER 10'],\n",
       " ['WASHER 3', 'DRYER 9'],\n",
       " ['WASHER 6', 'DRYER 10'],\n",
       " ['WASHER 3', 'DRYER 9'],\n",
       " ['WASHER 3', 'DRYER 8'],\n",
       " ['WASHER 4', 'DRYER 7'],\n",
       " ['WASHER 5', 'DRYER 10'],\n",
       " ['WASHER 3', 'DRYER 10'],\n",
       " ['WASHER 5', 'DRYER 7'],\n",
       " ['WASHER 3', 'DRYER 8'],\n",
       " ['WASHER 5', 'DRYER 9'],\n",
       " ['WASHER 3', 'DRYER 8'],\n",
       " ['WASHER 3', 'DRYER 7'],\n",
       " ['WASHER 5', 'DRYER 9'],\n",
       " ['WASHER 4', 'DRYER 9'],\n",
       " ['WASHER 5', 'DRYER 9'],\n",
       " ['WASHER 4', 'DRYER 8'],\n",
       " ['WASHER 6', 'DRYER 9'],\n",
       " ['WASHER 3', 'DRYER 7'],\n",
       " ['WASHER 6', 'DRYER 8'],\n",
       " ['WASHER 5', 'DRYER 7'],\n",
       " ['WASHER 3', 'DRYER 9'],\n",
       " ['WASHER 4', 'DRYER 8'],\n",
       " ['WASHER 5', 'DRYER 10'],\n",
       " ['WASHER 5', 'DRYER 9'],\n",
       " ['WASHER 5', 'DRYER 7'],\n",
       " ['WASHER 3', 'DRYER 9'],\n",
       " ['WASHER 6', 'DRYER 7'],\n",
       " ['WASHER 6', 'DRYER 8'],\n",
       " ['WASHER 3', 'DRYER 10'],\n",
       " ['WASHER 6', 'DRYER 10'],\n",
       " ['WASHER 5', 'DRYER 8'],\n",
       " ['WASHER 3', 'DRYER 8'],\n",
       " ['WASHER 4', 'DRYER 10'],\n",
       " ['WASHER 3', 'DRYER 9'],\n",
       " ['WASHER 5', 'DRYER 10'],\n",
       " ['WASHER 6', 'DRYER 10'],\n",
       " ['WASHER 4', 'DRYER 8'],\n",
       " ['WASHER 3', 'DRYER 7'],\n",
       " ['WASHER 6', 'DRYER 7'],\n",
       " ['WASHER 5', 'DRYER 10'],\n",
       " ['WASHER 3', 'DRYER 8'],\n",
       " ['WASHER 5', 'DRYER 7'],\n",
       " ['WASHER 3', 'DRYER 10'],\n",
       " ['WASHER 3', 'DRYER 7'],\n",
       " ['WASHER 5', 'DRYER 9'],\n",
       " ['WASHER 4', 'DRYER 8'],\n",
       " ['WASHER 4', 'DRYER 9'],\n",
       " ['WASHER 6', 'DRYER 8'],\n",
       " ['WASHER 4', 'DRYER 7'],\n",
       " ['WASHER 3', 'DRYER 7'],\n",
       " ['WASHER 6', 'DRYER 10'],\n",
       " ['WASHER 6', 'DRYER 8'],\n",
       " ['WASHER 5', 'DRYER 9'],\n",
       " ['WASHER 3', 'DRYER 7'],\n",
       " ['WASHER 4', 'DRYER 8'],\n",
       " ['WASHER 5', 'DRYER 7'],\n",
       " ['WASHER 4', 'DRYER 8'],\n",
       " ['WASHER 3', 'DRYER 8'],\n",
       " ['WASHER 5', 'DRYER 9'],\n",
       " ['WASHER 3', 'DRYER 8'],\n",
       " ['WASHER 5', 'DRYER 10'],\n",
       " ['WASHER 3', 'DRYER 7'],\n",
       " ['WASHER 3', 'DRYER 10'],\n",
       " ['WASHER 4', 'DRYER 8'],\n",
       " ['WASHER 4', 'DRYER 7'],\n",
       " ['WASHER 6', 'DRYER 10'],\n",
       " ['WASHER 5', 'DRYER 7'],\n",
       " ['WASHER 3', 'DRYER 10'],\n",
       " ['WASHER 3', 'DRYER 7'],\n",
       " ['WASHER 5', 'DRYER 8'],\n",
       " ['WASHER 3', 'DRYER 9'],\n",
       " ['WASHER 3', 'DRYER 9'],\n",
       " ['WASHER 6', 'DRYER 7'],\n",
       " ['WASHER 6', 'DRYER 10'],\n",
       " ['WASHER 3', 'DRYER 8'],\n",
       " ['WASHER 3', 'DRYER 10'],\n",
       " ['WASHER 5', 'DRYER 7'],\n",
       " ['WASHER 5', 'DRYER 7'],\n",
       " ['WASHER 3', 'DRYER 7'],\n",
       " ['WASHER 5', 'DRYER 9'],\n",
       " ['WASHER 3', 'DRYER 9'],\n",
       " ['WASHER 4', 'DRYER 10'],\n",
       " ['WASHER 3', 'DRYER 7'],\n",
       " ['WASHER 4', 'DRYER 7'],\n",
       " ['WASHER 6', 'DRYER 10'],\n",
       " ['WASHER 6', 'DRYER 7'],\n",
       " ['WASHER 3', 'DRYER 9'],\n",
       " ['WASHER 3', 'DRYER 7'],\n",
       " ['WASHER 6', 'DRYER 9'],\n",
       " ['WASHER 6', 'DRYER 9'],\n",
       " ['WASHER 4', 'DRYER 10'],\n",
       " ['WASHER 6', 'DRYER 10'],\n",
       " ['WASHER 6', 'DRYER 7'],\n",
       " ['WASHER 6', 'DRYER 7'],\n",
       " ['WASHER 4', 'DRYER 10'],\n",
       " ['WASHER 4', 'DRYER 8'],\n",
       " ['WASHER 5', 'DRYER 10'],\n",
       " ['WASHER 5', 'DRYER 7'],\n",
       " ['WASHER 5', 'DRYER 10'],\n",
       " ['WASHER 3', 'DRYER 7'],\n",
       " ['WASHER 4', 'DRYER 9'],\n",
       " ['WASHER 3', 'DRYER 8'],\n",
       " ['WASHER 4', 'DRYER 7'],\n",
       " ['WASHER 3', 'DRYER 10'],\n",
       " ['WASHER 4', 'DRYER 8'],\n",
       " ['WASHER 6', 'DRYER 10'],\n",
       " ['WASHER 5', 'DRYER 8'],\n",
       " ['WASHER 3', 'DRYER 9'],\n",
       " ['WASHER 6', 'DRYER 7'],\n",
       " ['WASHER 6', 'DRYER 8'],\n",
       " ['WASHER 5', 'DRYER 10'],\n",
       " ['WASHER 3', 'DRYER 8'],\n",
       " ['WASHER 6', 'DRYER 10'],\n",
       " ['WASHER 6', 'DRYER 9'],\n",
       " ['WASHER 4', 'DRYER 10'],\n",
       " ['WASHER 6', 'DRYER 8'],\n",
       " ['WASHER 6', 'DRYER 7'],\n",
       " ['WASHER 6', 'DRYER 10'],\n",
       " ['WASHER 5', 'DRYER 8'],\n",
       " ['WASHER 4', 'DRYER 10'],\n",
       " ['WASHER 6', 'DRYER 10'],\n",
       " ['WASHER 4', 'DRYER 8'],\n",
       " ['WASHER 6', 'DRYER 9'],\n",
       " ['WASHER 3', 'DRYER 9'],\n",
       " ['WASHER 6', 'DRYER 10'],\n",
       " ['WASHER 3', 'DRYER 7'],\n",
       " ['WASHER 6', 'DRYER 7'],\n",
       " ['WASHER 6', 'DRYER 8'],\n",
       " ['WASHER 3', 'DRYER 7'],\n",
       " ['WASHER 4', 'DRYER 8'],\n",
       " ['WASHER 3', 'DRYER 7'],\n",
       " ['WASHER 6', 'DRYER 9'],\n",
       " ['WASHER 5', 'DRYER 9'],\n",
       " ['WASHER 3', 'DRYER 7'],\n",
       " ['WASHER 5', 'DRYER 10'],\n",
       " ['WASHER 4', 'DRYER 8'],\n",
       " ['WASHER 5', 'DRYER 9'],\n",
       " ['WASHER 6', 'DRYER 7'],\n",
       " ['WASHER 5', 'DRYER 7'],\n",
       " ['WASHER 3', 'DRYER 10'],\n",
       " ['WASHER 6', 'DRYER 7'],\n",
       " ['WASHER 5', 'DRYER 9'],\n",
       " ['WASHER 3', 'DRYER 7'],\n",
       " ['WASHER 5', 'DRYER 8'],\n",
       " ['WASHER 3', 'DRYER 7'],\n",
       " ['WASHER 3', 'DRYER 10'],\n",
       " ['WASHER 5', 'DRYER 10'],\n",
       " ['WASHER 3', 'DRYER 8'],\n",
       " ['WASHER 6', 'DRYER 9'],\n",
       " ['WASHER 3', 'DRYER 9'],\n",
       " ['WASHER 5', 'DRYER 10'],\n",
       " ['WASHER 5', 'DRYER 10'],\n",
       " ['WASHER 5', 'DRYER 10'],\n",
       " ['WASHER 4', 'DRYER 8'],\n",
       " ['WASHER 6', 'DRYER 10'],\n",
       " ['WASHER 3', 'DRYER 8'],\n",
       " ['WASHER 5', 'DRYER 9'],\n",
       " ['WASHER 6', 'DRYER 7'],\n",
       " ['WASHER 3', 'DRYER 8'],\n",
       " ['WASHER 5', 'DRYER 10'],\n",
       " ['WASHER 5', 'DRYER 8'],\n",
       " ['WASHER 5', 'DRYER 7'],\n",
       " ['WASHER 3', 'DRYER 10'],\n",
       " ['WASHER 4', 'DRYER 10'],\n",
       " ['WASHER 4', 'DRYER 7'],\n",
       " ['WASHER 3', 'DRYER 7'],\n",
       " ['WASHER 4', 'DRYER 7'],\n",
       " ['WASHER 3', 'DRYER 7'],\n",
       " ['WASHER 3', 'DRYER 10'],\n",
       " ['WASHER 4', 'DRYER 8'],\n",
       " ['WASHER 4', 'DRYER 8'],\n",
       " ['WASHER 3', 'DRYER 8'],\n",
       " ['WASHER 6', 'DRYER 9'],\n",
       " ['WASHER 5', 'DRYER 7'],\n",
       " ['WASHER 5', 'DRYER 8'],\n",
       " ['WASHER 6', 'DRYER 10'],\n",
       " ['WASHER 5', 'DRYER 10'],\n",
       " ['WASHER 3', 'DRYER 9'],\n",
       " ['WASHER 4', 'DRYER 8'],\n",
       " ['WASHER 6', 'DRYER 9'],\n",
       " ['WASHER 6', 'DRYER 10'],\n",
       " ['WASHER 3', 'DRYER 9'],\n",
       " ['WASHER 4', 'DRYER 8'],\n",
       " ['WASHER 3', 'DRYER 7'],\n",
       " ['WASHER 5', 'DRYER 7'],\n",
       " ['WASHER 4', 'DRYER 7'],\n",
       " ['WASHER 5', 'DRYER 9'],\n",
       " ['WASHER 3', 'DRYER 10'],\n",
       " ['WASHER 5', 'DRYER 9'],\n",
       " ['WASHER 5', 'DRYER 8'],\n",
       " ['WASHER 6', 'DRYER 8'],\n",
       " ['WASHER 3', 'DRYER 10'],\n",
       " ['WASHER 4', 'DRYER 8'],\n",
       " ['WASHER 3', 'DRYER 7'],\n",
       " ['WASHER 5', 'DRYER 7'],\n",
       " ['WASHER 3', 'DRYER 8'],\n",
       " ['WASHER 3', 'DRYER 7'],\n",
       " ['WASHER 4', 'DRYER 8'],\n",
       " ['WASHER 6', 'DRYER 9'],\n",
       " ['WASHER 5', 'DRYER 7'],\n",
       " ['WASHER 6', 'DRYER 9'],\n",
       " ['WASHER 4', 'DRYER 8'],\n",
       " ['WASHER 6', 'DRYER 10'],\n",
       " ['WASHER 6', 'DRYER 8'],\n",
       " ['WASHER 4', 'DRYER 9'],\n",
       " ['WASHER 5', 'DRYER 10'],\n",
       " ['WASHER 5', 'DRYER 9'],\n",
       " ['WASHER 4', 'DRYER 9'],\n",
       " ['WASHER 6', 'DRYER 9'],\n",
       " ['WASHER 6', 'DRYER 9'],\n",
       " ['WASHER 6', 'DRYER 10'],\n",
       " ['WASHER 5', 'DRYER 9'],\n",
       " ['WASHER 6', 'DRYER 8'],\n",
       " ['WASHER 4', 'DRYER 9'],\n",
       " ['WASHER 3', 'DRYER 7'],\n",
       " ['WASHER 3', 'DRYER 10'],\n",
       " ['WASHER 6', 'DRYER 8'],\n",
       " ['WASHER 6', 'DRYER 9'],\n",
       " ['WASHER 4', 'DRYER 7'],\n",
       " ['WASHER 4', 'DRYER 9'],\n",
       " ['WASHER 4', 'DRYER 7'],\n",
       " ['WASHER 5', 'DRYER 9'],\n",
       " ['WASHER 6', 'DRYER 7'],\n",
       " ['WASHER 5', 'DRYER 10'],\n",
       " ['WASHER 4', 'DRYER 7'],\n",
       " ['WASHER 6', 'DRYER 7'],\n",
       " ['WASHER 6', 'DRYER 9'],\n",
       " ['WASHER 5', 'DRYER 10'],\n",
       " ['WASHER 3', 'DRYER 7'],\n",
       " ['WASHER 4', 'DRYER 9'],\n",
       " ['WASHER 5', 'DRYER 7'],\n",
       " ['WASHER 5', 'DRYER 8'],\n",
       " ['WASHER 6', 'DRYER 7'],\n",
       " ['WASHER 4', 'DRYER 8'],\n",
       " ['WASHER 3', 'DRYER 8'],\n",
       " ['WASHER 3', 'DRYER 8'],\n",
       " ['WASHER 5', 'DRYER 9'],\n",
       " ['WASHER 4', 'DRYER 10'],\n",
       " ['WASHER 3', 'DRYER 7'],\n",
       " ['WASHER 3', 'DRYER 7'],\n",
       " ['WASHER 4', 'DRYER 9'],\n",
       " ['WASHER 5', 'DRYER 9'],\n",
       " ['WASHER 6', 'DRYER 8'],\n",
       " ['WASHER 3', 'DRYER 8'],\n",
       " ['WASHER 3', 'DRYER 8'],\n",
       " ['WASHER 4', 'DRYER 8'],\n",
       " ['WASHER 6', 'DRYER 10'],\n",
       " ['WASHER 5', 'DRYER 10'],\n",
       " ['WASHER 3', 'DRYER 10'],\n",
       " ['WASHER 6', 'DRYER 9'],\n",
       " ['WASHER 5', 'DRYER 8'],\n",
       " ['WASHER 5', 'DRYER 7'],\n",
       " ['WASHER 5', 'DRYER 9'],\n",
       " ['WASHER 4', 'DRYER 7'],\n",
       " ['WASHER 4', 'DRYER 10'],\n",
       " ['WASHER 3', 'DRYER 10'],\n",
       " ['WASHER 6', 'DRYER 10'],\n",
       " ['WASHER 5', 'DRYER 8'],\n",
       " ['WASHER 6', 'DRYER 8'],\n",
       " ['WASHER 4', 'DRYER 8'],\n",
       " ['WASHER 6', 'DRYER 10'],\n",
       " ['WASHER 4', 'DRYER 10'],\n",
       " ['WASHER 3', 'DRYER 7'],\n",
       " ['WASHER 3', 'DRYER 7'],\n",
       " ['WASHER 3', 'DRYER 7'],\n",
       " ['WASHER 3', 'DRYER 8'],\n",
       " ['WASHER 4', 'DRYER 7'],\n",
       " ['WASHER 6', 'DRYER 10'],\n",
       " ['WASHER 4', 'DRYER 7'],\n",
       " ['WASHER 3', 'DRYER 8'],\n",
       " ['WASHER 5', 'DRYER 10'],\n",
       " ['WASHER 4', 'DRYER 9'],\n",
       " ['WASHER 4', 'DRYER 8'],\n",
       " ['WASHER 5', 'DRYER 9'],\n",
       " ['WASHER 4', 'DRYER 7'],\n",
       " ['WASHER 6', 'DRYER 7'],\n",
       " ['WASHER 6', 'DRYER 10'],\n",
       " ['WASHER 4', 'DRYER 10'],\n",
       " ['WASHER 3', 'DRYER 7'],\n",
       " ['WASHER 5', 'DRYER 9'],\n",
       " ['WASHER 4', 'DRYER 10'],\n",
       " ['WASHER 3', 'DRYER 10'],\n",
       " ['WASHER 4', 'DRYER 8'],\n",
       " ['WASHER 6', 'DRYER 7'],\n",
       " ['WASHER 3', 'DRYER 8'],\n",
       " ['WASHER 4', 'DRYER 8'],\n",
       " ['WASHER 5', 'DRYER 7'],\n",
       " ['WASHER 5', 'DRYER 8'],\n",
       " ['WASHER 6', 'DRYER 10'],\n",
       " ['WASHER 6', 'DRYER 8'],\n",
       " ['WASHER 5', 'DRYER 7'],\n",
       " ['WASHER 3', 'DRYER 7'],\n",
       " ['WASHER 3', 'DRYER 9'],\n",
       " ['WASHER 5', 'DRYER 7'],\n",
       " ['WASHER 4', 'DRYER 8'],\n",
       " ['WASHER 6', 'DRYER 10'],\n",
       " ['WASHER 4', 'DRYER 10'],\n",
       " ['WASHER 4', 'DRYER 8'],\n",
       " ['WASHER 4', 'DRYER 10'],\n",
       " ['WASHER 4', 'DRYER 9'],\n",
       " ['WASHER 5', 'DRYER 10'],\n",
       " ['WASHER 4', 'DRYER 8'],\n",
       " ['WASHER 4', 'DRYER 9'],\n",
       " ['WASHER 4', 'DRYER 9'],\n",
       " ['WASHER 5', 'DRYER 8'],\n",
       " ['WASHER 5', 'DRYER 7'],\n",
       " ['WASHER 5', 'DRYER 9'],\n",
       " ['WASHER 3', 'DRYER 10'],\n",
       " ['WASHER 6', 'DRYER 9'],\n",
       " ['WASHER 5', 'DRYER 9'],\n",
       " ['WASHER 4', 'DRYER 8'],\n",
       " ['WASHER 3', 'DRYER 7'],\n",
       " ['WASHER 4', 'DRYER 7'],\n",
       " ['WASHER 4', 'DRYER 9'],\n",
       " ['WASHER 6', 'DRYER 10'],\n",
       " ['WASHER 5', 'DRYER 9'],\n",
       " ['WASHER 4', 'DRYER 8'],\n",
       " ['WASHER 5', 'DRYER 10'],\n",
       " ['WASHER 5', 'DRYER 7'],\n",
       " ['WASHER 4', 'DRYER 8'],\n",
       " ['WASHER 6', 'DRYER 10'],\n",
       " ['WASHER 5', 'DRYER 8'],\n",
       " ['WASHER 3', 'DRYER 9'],\n",
       " ['WASHER 5', 'DRYER 8'],\n",
       " ['WASHER 6', 'DRYER 10'],\n",
       " ['WASHER 6', 'DRYER 10'],\n",
       " ['WASHER 3', 'DRYER 7'],\n",
       " ['WASHER 6', 'DRYER 8'],\n",
       " ['WASHER 5', 'DRYER 7'],\n",
       " ['WASHER 5', 'DRYER 7'],\n",
       " ['WASHER 6', 'DRYER 9'],\n",
       " ['WASHER 4', 'DRYER 7'],\n",
       " ['WASHER 5', 'DRYER 9'],\n",
       " ['WASHER 6', 'DRYER 10'],\n",
       " ['WASHER 4', 'DRYER 9'],\n",
       " ['WASHER 5', 'DRYER 10'],\n",
       " ['WASHER 4', 'DRYER 8'],\n",
       " ['WASHER 6', 'DRYER 8'],\n",
       " ['WASHER 5', 'DRYER 8'],\n",
       " ['WASHER 6', 'DRYER 7'],\n",
       " ['WASHER 3', 'DRYER 7'],\n",
       " ['WASHER 3', 'DRYER 7'],\n",
       " ['WASHER 6', 'DRYER 10'],\n",
       " ['WASHER 6', 'DRYER 8'],\n",
       " ['WASHER 3', 'DRYER 7'],\n",
       " ['WASHER 4', 'DRYER 10'],\n",
       " ['WASHER 4', 'DRYER 9'],\n",
       " ['WASHER 4', 'DRYER 10'],\n",
       " ['WASHER 3', 'DRYER 8'],\n",
       " ['WASHER 4', 'DRYER 9'],\n",
       " ['WASHER 4', 'DRYER 7'],\n",
       " ['WASHER 6', 'DRYER 8'],\n",
       " ['WASHER 5', 'DRYER 10'],\n",
       " ['WASHER 6', 'DRYER 10'],\n",
       " ['WASHER 6', 'DRYER 10'],\n",
       " ['WASHER 6', 'DRYER 10'],\n",
       " ['WASHER 4', 'DRYER 9'],\n",
       " ['WASHER 4', 'DRYER 8'],\n",
       " ['WASHER 5', 'DRYER 9'],\n",
       " ['WASHER 4', 'DRYER 7'],\n",
       " ['WASHER 3', 'DRYER 9'],\n",
       " ['WASHER 5', 'DRYER 9'],\n",
       " ['WASHER 5', 'DRYER 8'],\n",
       " ['WASHER 4', 'DRYER 10'],\n",
       " ['WASHER 6', 'DRYER 7'],\n",
       " ['WASHER 3', 'DRYER 7'],\n",
       " ['WASHER 3', 'DRYER 9'],\n",
       " ['WASHER 6', 'DRYER 8'],\n",
       " ['WASHER 3', 'DRYER 8'],\n",
       " ['WASHER 6', 'DRYER 8'],\n",
       " ['WASHER 6', 'DRYER 8'],\n",
       " ['WASHER 5', 'DRYER 9'],\n",
       " ['WASHER 3', 'DRYER 7'],\n",
       " ['WASHER 6', 'DRYER 9'],\n",
       " ['WASHER 3', 'DRYER 7'],\n",
       " ['WASHER 3', 'DRYER 7'],\n",
       " ['WASHER 3', 'DRYER 10'],\n",
       " ['WASHER 5', 'DRYER 10'],\n",
       " ['WASHER 3', 'DRYER 7'],\n",
       " ['WASHER 4', 'DRYER 10'],\n",
       " ['WASHER 6', 'DRYER 7'],\n",
       " ['WASHER 3', 'DRYER 9'],\n",
       " ['WASHER 6', 'DRYER 9'],\n",
       " ['WASHER 4', 'DRYER 8'],\n",
       " ['WASHER 4', 'DRYER 7'],\n",
       " ['WASHER 3', 'DRYER 10'],\n",
       " ['WASHER 4', 'DRYER 9'],\n",
       " ['WASHER 5', 'DRYER 8'],\n",
       " ['WASHER 6', 'DRYER 9'],\n",
       " ['WASHER 3', 'DRYER 10'],\n",
       " ['WASHER 5', 'DRYER 7'],\n",
       " ['WASHER 3', 'DRYER 8'],\n",
       " ['WASHER 5', 'DRYER 10'],\n",
       " ['WASHER 6', 'DRYER 9'],\n",
       " ['WASHER 6', 'DRYER 8'],\n",
       " ['WASHER 3', 'DRYER 8'],\n",
       " ['WASHER 4', 'DRYER 10'],\n",
       " ['WASHER 3', 'DRYER 10'],\n",
       " ['WASHER 3', 'DRYER 8'],\n",
       " ['WASHER 3', 'DRYER 7'],\n",
       " ['WASHER 6', 'DRYER 7'],\n",
       " ['WASHER 3', 'DRYER 7'],\n",
       " ['WASHER 5', 'DRYER 8'],\n",
       " ['WASHER 3', 'DRYER 9'],\n",
       " ['WASHER 3', 'DRYER 10'],\n",
       " ['WASHER 3', 'DRYER 7'],\n",
       " ['WASHER 6', 'DRYER 9'],\n",
       " ['WASHER 4', 'DRYER 10'],\n",
       " ['WASHER 5', 'DRYER 7'],\n",
       " ['WASHER 6', 'DRYER 10'],\n",
       " ['WASHER 5', 'DRYER 7'],\n",
       " ['WASHER 3', 'DRYER 9'],\n",
       " ['WASHER 5', 'DRYER 9'],\n",
       " ['WASHER 5', 'DRYER 9'],\n",
       " ['WASHER 5', 'DRYER 8'],\n",
       " ['WASHER 6', 'DRYER 7'],\n",
       " ['WASHER 3', 'DRYER 7'],\n",
       " ['WASHER 6', 'DRYER 7'],\n",
       " ['WASHER 6', 'DRYER 8'],\n",
       " ['WASHER 4', 'DRYER 8'],\n",
       " ['WASHER 5', 'DRYER 10'],\n",
       " ['WASHER 6', 'DRYER 10'],\n",
       " ['WASHER 5', 'DRYER 9'],\n",
       " ['WASHER 3', 'DRYER 7'],\n",
       " ['WASHER 3', 'DRYER 9'],\n",
       " ['WASHER 4', 'DRYER 9'],\n",
       " ['WASHER 6', 'DRYER 7'],\n",
       " ['WASHER 3', 'DRYER 9'],\n",
       " ['WASHER 6', 'DRYER 9'],\n",
       " ['WASHER 6', 'DRYER 8'],\n",
       " ['WASHER 4', 'DRYER 9'],\n",
       " ['WASHER 6', 'DRYER 10'],\n",
       " ['WASHER 3', 'DRYER 9'],\n",
       " ['WASHER 6', 'DRYER 9'],\n",
       " ['WASHER 6', 'DRYER 8'],\n",
       " ['WASHER 3', 'DRYER 8'],\n",
       " ['WASHER 4', 'DRYER 9'],\n",
       " ['WASHER 3', 'DRYER 10'],\n",
       " ['WASHER 4', 'DRYER 7'],\n",
       " ['WASHER 5', 'DRYER 10'],\n",
       " ['WASHER 6', 'DRYER 10'],\n",
       " ['WASHER 5', 'DRYER 9'],\n",
       " ['WASHER 3', 'DRYER 7'],\n",
       " ['WASHER 6', 'DRYER 7'],\n",
       " ['WASHER 5', 'DRYER 10'],\n",
       " ['WASHER 6', 'DRYER 7'],\n",
       " ['WASHER 3', 'DRYER 9'],\n",
       " ['WASHER 4', 'DRYER 10'],\n",
       " ['WASHER 4', 'DRYER 8'],\n",
       " ['WASHER 5', 'DRYER 7'],\n",
       " ['WASHER 6', 'DRYER 10'],\n",
       " ['WASHER 4', 'DRYER 8'],\n",
       " ['WASHER 6', 'DRYER 10'],\n",
       " ['WASHER 3', 'DRYER 10'],\n",
       " ['WASHER 3', 'DRYER 7'],\n",
       " ['WASHER 4', 'DRYER 7'],\n",
       " ['WASHER 4', 'DRYER 8'],\n",
       " ['WASHER 4', 'DRYER 10'],\n",
       " ['WASHER 5', 'DRYER 7'],\n",
       " ['WASHER 3', 'DRYER 7'],\n",
       " ['WASHER 3', 'DRYER 8'],\n",
       " ['WASHER 3', 'DRYER 8'],\n",
       " ['WASHER 5', 'DRYER 7'],\n",
       " ['WASHER 6', 'DRYER 8'],\n",
       " ['WASHER 6', 'DRYER 10'],\n",
       " ['WASHER 6', 'DRYER 9'],\n",
       " ['WASHER 6', 'DRYER 7'],\n",
       " ['WASHER 6', 'DRYER 9'],\n",
       " ['WASHER 5', 'DRYER 7'],\n",
       " ['WASHER 5', 'DRYER 9'],\n",
       " ['WASHER 3', 'DRYER 9'],\n",
       " ['WASHER 6', 'DRYER 8'],\n",
       " ['WASHER 4', 'DRYER 8'],\n",
       " ['WASHER 3', 'DRYER 7'],\n",
       " ['WASHER 6', 'DRYER 7'],\n",
       " ['WASHER 3', 'DRYER 10'],\n",
       " ['WASHER 4', 'DRYER 7'],\n",
       " ['WASHER 3', 'DRYER 7'],\n",
       " ['WASHER 5', 'DRYER 10'],\n",
       " ['WASHER 5', 'DRYER 10'],\n",
       " ['WASHER 4', 'DRYER 7'],\n",
       " ['WASHER 4', 'DRYER 7'],\n",
       " ['WASHER 3', 'DRYER 7'],\n",
       " ['WASHER 5', 'DRYER 8'],\n",
       " ['WASHER 3', 'DRYER 7'],\n",
       " ['WASHER 5', 'DRYER 7'],\n",
       " ['WASHER 5', 'DRYER 10'],\n",
       " ['WASHER 5', 'DRYER 9'],\n",
       " ['WASHER 5', 'DRYER 7'],\n",
       " ['WASHER 5', 'DRYER 8'],\n",
       " ['WASHER 3', 'DRYER 9'],\n",
       " ['WASHER 3', 'DRYER 7'],\n",
       " ['WASHER 6', 'DRYER 7'],\n",
       " ['WASHER 6', 'DRYER 8'],\n",
       " ['WASHER 4', 'DRYER 7'],\n",
       " ['WASHER 6', 'DRYER 9'],\n",
       " ['WASHER 3', 'DRYER 9'],\n",
       " ['WASHER 4', 'DRYER 7'],\n",
       " ['WASHER 5', 'DRYER 9'],\n",
       " ['WASHER 5', 'DRYER 8'],\n",
       " ['WASHER 4', 'DRYER 7'],\n",
       " ['WASHER 3', 'DRYER 8'],\n",
       " ['WASHER 4', 'DRYER 10'],\n",
       " ['WASHER 6', 'DRYER 10'],\n",
       " ['WASHER 5', 'DRYER 10'],\n",
       " ['WASHER 3', 'DRYER 10'],\n",
       " ['WASHER 3', 'DRYER 8'],\n",
       " ['WASHER 5', 'DRYER 9'],\n",
       " ['WASHER 3', 'DRYER 10'],\n",
       " ['WASHER 4', 'DRYER 8'],\n",
       " ['WASHER 4', 'DRYER 10'],\n",
       " ['WASHER 3', 'DRYER 7'],\n",
       " ['WASHER 5', 'DRYER 9'],\n",
       " ['WASHER 4', 'DRYER 7'],\n",
       " ['WASHER 4', 'DRYER 7'],\n",
       " ['WASHER 6', 'DRYER 10'],\n",
       " ['WASHER 3', 'DRYER 10'],\n",
       " ['WASHER 6', 'DRYER 7'],\n",
       " ['WASHER 6', 'DRYER 8'],\n",
       " ['WASHER 3', 'DRYER 10'],\n",
       " ['WASHER 5', 'DRYER 8'],\n",
       " ['WASHER 6', 'DRYER 7'],\n",
       " ['WASHER 5', 'DRYER 7'],\n",
       " ['WASHER 4', 'DRYER 10'],\n",
       " ['WASHER 5', 'DRYER 7'],\n",
       " ['WASHER 6', 'DRYER 10'],\n",
       " ['WASHER 6', 'DRYER 8'],\n",
       " ['WASHER 3', 'DRYER 7'],\n",
       " ['WASHER 5', 'DRYER 9'],\n",
       " ['WASHER 3', 'DRYER 7'],\n",
       " ['WASHER 5', 'DRYER 7'],\n",
       " ['WASHER 6', 'DRYER 7'],\n",
       " ['WASHER 5', 'DRYER 10'],\n",
       " ['WASHER 3', 'DRYER 7'],\n",
       " ['WASHER 5', 'DRYER 7'],\n",
       " ['WASHER 6', 'DRYER 10'],\n",
       " ['WASHER 6', 'DRYER 9'],\n",
       " ['WASHER 3', 'DRYER 7'],\n",
       " ['WASHER 3', 'DRYER 10'],\n",
       " ['WASHER 6', 'DRYER 9'],\n",
       " ['WASHER 6', 'DRYER 10'],\n",
       " ['WASHER 3', 'DRYER 7'],\n",
       " ['WASHER 5', 'DRYER 9'],\n",
       " ['WASHER 5', 'DRYER 9'],\n",
       " ['WASHER 3', 'DRYER 9'],\n",
       " ['WASHER 3', 'DRYER 7'],\n",
       " ['WASHER 5', 'DRYER 10'],\n",
       " ['WASHER 6', 'DRYER 7'],\n",
       " ['WASHER 6', 'DRYER 7'],\n",
       " ['WASHER 3', 'DRYER 7'],\n",
       " ['WASHER 3', 'DRYER 8'],\n",
       " ['WASHER 6', 'DRYER 10'],\n",
       " ['WASHER 3', 'DRYER 10'],\n",
       " ['WASHER 6', 'DRYER 10'],\n",
       " ['WASHER 6', 'DRYER 10'],\n",
       " ['WASHER 3', 'DRYER 9'],\n",
       " ['WASHER 6', 'DRYER 8'],\n",
       " ['WASHER 5', 'DRYER 8'],\n",
       " ['WASHER 4', 'DRYER 10'],\n",
       " ['WASHER 4', 'DRYER 7'],\n",
       " ['WASHER 5', 'DRYER 9'],\n",
       " ['WASHER 3', 'DRYER 8'],\n",
       " ['WASHER 4', 'DRYER 10'],\n",
       " ['WASHER 5', 'DRYER 10'],\n",
       " ['WASHER 5', 'DRYER 8'],\n",
       " ['WASHER 6', 'DRYER 7'],\n",
       " ['WASHER 3', 'DRYER 7'],\n",
       " ['WASHER 4', 'DRYER 9'],\n",
       " ['WASHER 6', 'DRYER 8'],\n",
       " ['WASHER 6', 'DRYER 10'],\n",
       " ['WASHER 5', 'DRYER 8'],\n",
       " ['WASHER 3', 'DRYER 10'],\n",
       " ['WASHER 3', 'DRYER 8'],\n",
       " ['WASHER 5', 'DRYER 9'],\n",
       " ['WASHER 5', 'DRYER 9'],\n",
       " ['WASHER 6', 'DRYER 10'],\n",
       " ['WASHER 6', 'DRYER 8'],\n",
       " ['WASHER 4', 'DRYER 9'],\n",
       " ['WASHER 3', 'DRYER 9'],\n",
       " ['WASHER 6', 'DRYER 10'],\n",
       " ['WASHER 5', 'DRYER 8'],\n",
       " ['WASHER 4', 'DRYER 7'],\n",
       " ['WASHER 4', 'DRYER 10'],\n",
       " ['WASHER 6', 'DRYER 10'],\n",
       " ['WASHER 3', 'DRYER 10'],\n",
       " ['WASHER 4', 'DRYER 7'],\n",
       " ['WASHER 4', 'DRYER 8'],\n",
       " ['WASHER 3', 'DRYER 7'],\n",
       " ['WASHER 5', 'DRYER 10'],\n",
       " ['WASHER 3', 'DRYER 7'],\n",
       " ['WASHER 5', 'DRYER 7'],\n",
       " ['WASHER 4', 'DRYER 8'],\n",
       " ['WASHER 5', 'DRYER 8'],\n",
       " ['WASHER 5', 'DRYER 7'],\n",
       " ['WASHER 6', 'DRYER 7'],\n",
       " ['WASHER 3', 'DRYER 7'],\n",
       " ['WASHER 4', 'DRYER 8'],\n",
       " ['WASHER 3', 'DRYER 8'],\n",
       " ['WASHER 6', 'DRYER 9'],\n",
       " ['WASHER 3', 'DRYER 9'],\n",
       " ['WASHER 4', 'DRYER 10'],\n",
       " ['WASHER 4', 'DRYER 8'],\n",
       " ['WASHER 5', 'DRYER 7'],\n",
       " ['WASHER 3', 'DRYER 8'],\n",
       " ['WASHER 5', 'DRYER 7'],\n",
       " ['WASHER 4', 'DRYER 7'],\n",
       " ['WASHER 3', 'DRYER 7'],\n",
       " ['WASHER 3', 'DRYER 8'],\n",
       " ['WASHER 4', 'DRYER 7'],\n",
       " ['WASHER 3', 'DRYER 10'],\n",
       " ['WASHER 5', 'DRYER 9'],\n",
       " ['WASHER 3', 'DRYER 9'],\n",
       " ['WASHER 3', 'DRYER 7'],\n",
       " ['WASHER 5', 'DRYER 7'],\n",
       " ['WASHER 6', 'DRYER 9'],\n",
       " ['WASHER 6', 'DRYER 8'],\n",
       " ['WASHER 3', 'DRYER 8'],\n",
       " ['WASHER 6', 'DRYER 8'],\n",
       " ['WASHER 6', 'DRYER 8'],\n",
       " ['WASHER 5', 'DRYER 7'],\n",
       " ['WASHER 3', 'DRYER 9'],\n",
       " ['WASHER 5', 'DRYER 8'],\n",
       " ['WASHER 6', 'DRYER 8'],\n",
       " ['WASHER 6', 'DRYER 7'],\n",
       " ['WASHER 4', 'DRYER 10'],\n",
       " ['WASHER 4', 'DRYER 10'],\n",
       " ['WASHER 5', 'DRYER 7'],\n",
       " ['WASHER 6', 'DRYER 7'],\n",
       " ['WASHER 6', 'DRYER 10'],\n",
       " ['WASHER 3', 'DRYER 8'],\n",
       " ['WASHER 6', 'DRYER 10'],\n",
       " ['WASHER 6', 'DRYER 7'],\n",
       " ['WASHER 3', 'DRYER 7'],\n",
       " ['WASHER 6', 'DRYER 10'],\n",
       " ['WASHER 3', 'DRYER 10'],\n",
       " ['WASHER 3', 'DRYER 7'],\n",
       " ['WASHER 3', 'DRYER 7'],\n",
       " ['WASHER 6', 'DRYER 10'],\n",
       " ['WASHER 4', 'DRYER 8']]"
      ]
     },
     "metadata": {},
     "output_type": "display_data"
    }
   ],
   "source": [
    "import warnings\n",
    "warnings.filterwarnings(\"ignore\")\n",
    "\n",
    "# add tag infront of wahser/dryer number\n",
    "washerAndDryer = laundryAnalaysis[['WASHER_NO','DRYER_NO']]\n",
    "washerAndDryer['WASHER_NO'] = 'WASHER ' + washerAndDryer['WASHER_NO'].astype(str)\n",
    "washerAndDryer['DRYER_NO'] = 'DRYER ' + washerAndDryer['DRYER_NO'].astype(str)\n",
    "records = washerAndDryer.values.tolist()\n",
    "\n",
    "display(records)\n"
   ]
  },
  {
   "cell_type": "code",
   "execution_count": 58,
   "metadata": {},
   "outputs": [
    {
     "name": "stdout",
     "output_type": "stream",
     "text": [
      "4\n"
     ]
    }
   ],
   "source": [
    "# apply apriori algorithm with support = 0.45%, confidence =20%, lift = 3.000\n",
    "association_results = apriori(records, min_support=0.060, min_confidence=0.3, min_lift=1, min_length=1)\n",
    "association_results = list(association_results)\n",
    "print(len(association_results))"
   ]
  },
  {
   "cell_type": "code",
   "execution_count": 59,
   "metadata": {},
   "outputs": [
    {
     "name": "stdout",
     "output_type": "stream",
     "text": [
      "(Rule 1) DRYER 10 -> WASHER 6\n",
      "Support: 0.089\n",
      "Confidence: 0.3497\n",
      "Lift: 1.3524\n",
      "=====================================\n",
      "(Rule 2) WASHER 3 -> DRYER 7\n",
      "Support: 0.112\n",
      "Confidence: 0.3789\n",
      "Lift: 1.3294\n",
      "=====================================\n",
      "(Rule 3) WASHER 4 -> DRYER 8\n",
      "Support: 0.072\n",
      "Confidence: 0.3007\n",
      "Lift: 1.4089\n",
      "=====================================\n",
      "(Rule 4) WASHER 5 -> DRYER 9\n",
      "Support: 0.07\n",
      "Confidence: 0.3309\n",
      "Lift: 1.3617\n",
      "=====================================\n"
     ]
    }
   ],
   "source": [
    "cnt =0\n",
    "\n",
    "dryer = []\n",
    "washer = []\n",
    "\n",
    "for item in association_results[:10]:\n",
    "    cnt += 1\n",
    "    # first index of the inner list\n",
    "    # Contains base item and add item\n",
    "    pair = item[0] \n",
    "    items = [x for x in pair]\n",
    "    print(\"(Rule \" + str(cnt) + \") \" + str(items[0]) + \" -> \" + str(items[1]))\n",
    "\n",
    "    dryer.append(str(items[0]))\n",
    "    washer.append(str(items[1]))\n",
    "\n",
    "    #second index of the inner list\n",
    "    print(\"Support: \" + str(round(item[1],3)))\n",
    "\n",
    "    #third index of the list located at 0th\n",
    "    #of the third index of the inner list\n",
    "\n",
    "    print(\"Confidence: \" + str(round(item[2][0][2],4)))\n",
    "    print(\"Lift: \" + str(round(item[2][0][3],4)))\n",
    "    print(\"=====================================\")"
   ]
  },
  {
   "cell_type": "markdown",
   "metadata": {},
   "source": [
    "### 6. What are the potential locations to open a new laundry based on the population of housing areas? \n"
   ]
  },
  {
   "cell_type": "markdown",
   "metadata": {},
   "source": [
    "#### Overall"
   ]
  },
  {
   "cell_type": "code",
   "execution_count": 60,
   "metadata": {},
   "outputs": [
    {
     "data": {
      "text/html": [
       "\n",
       "<div id=\"altair-viz-a41699f74d86430183af2623ba3fd8cc\"></div>\n",
       "<script type=\"text/javascript\">\n",
       "  (function(spec, embedOpt){\n",
       "    let outputDiv = document.currentScript.previousElementSibling;\n",
       "    if (outputDiv.id !== \"altair-viz-a41699f74d86430183af2623ba3fd8cc\") {\n",
       "      outputDiv = document.getElementById(\"altair-viz-a41699f74d86430183af2623ba3fd8cc\");\n",
       "    }\n",
       "    const paths = {\n",
       "      \"vega\": \"https://cdn.jsdelivr.net/npm//vega@5?noext\",\n",
       "      \"vega-lib\": \"https://cdn.jsdelivr.net/npm//vega-lib?noext\",\n",
       "      \"vega-lite\": \"https://cdn.jsdelivr.net/npm//vega-lite@4.8.1?noext\",\n",
       "      \"vega-embed\": \"https://cdn.jsdelivr.net/npm//vega-embed@6?noext\",\n",
       "    };\n",
       "\n",
       "    function loadScript(lib) {\n",
       "      return new Promise(function(resolve, reject) {\n",
       "        var s = document.createElement('script');\n",
       "        s.src = paths[lib];\n",
       "        s.async = true;\n",
       "        s.onload = () => resolve(paths[lib]);\n",
       "        s.onerror = () => reject(`Error loading script: ${paths[lib]}`);\n",
       "        document.getElementsByTagName(\"head\")[0].appendChild(s);\n",
       "      });\n",
       "    }\n",
       "\n",
       "    function showError(err) {\n",
       "      outputDiv.innerHTML = `<div class=\"error\" style=\"color:red;\">${err}</div>`;\n",
       "      throw err;\n",
       "    }\n",
       "\n",
       "    function displayChart(vegaEmbed) {\n",
       "      vegaEmbed(outputDiv, spec, embedOpt)\n",
       "        .catch(err => showError(`Javascript Error: ${err.message}<br>This usually means there's a typo in your chart specification. See the javascript console for the full traceback.`));\n",
       "    }\n",
       "\n",
       "    if(typeof define === \"function\" && define.amd) {\n",
       "      requirejs.config({paths});\n",
       "      require([\"vega-embed\"], displayChart, err => showError(`Error loading script: ${err.message}`));\n",
       "    } else if (typeof vegaEmbed === \"function\") {\n",
       "      displayChart(vegaEmbed);\n",
       "    } else {\n",
       "      loadScript(\"vega\")\n",
       "        .then(() => loadScript(\"vega-lite\"))\n",
       "        .then(() => loadScript(\"vega-embed\"))\n",
       "        .catch(showError)\n",
       "        .then(() => displayChart(vegaEmbed));\n",
       "    }\n",
       "  })({\"config\": {\"view\": {\"continuousWidth\": 400, \"continuousHeight\": 300}}, \"layer\": [{\"mark\": \"bar\", \"encoding\": {\"color\": {\"condition\": {\"value\": \"green\", \"test\": \"(datum.NUMBER_OF_HOUSES >= 4000)\"}, \"value\": \"steelblue\"}, \"x\": {\"type\": \"quantitative\", \"field\": \"NUMBER_OF_HOUSES\"}, \"y\": {\"type\": \"nominal\", \"field\": \"RESIDENTAL_AREA_STATE\"}}}, {\"mark\": {\"type\": \"text\", \"align\": \"left\", \"baseline\": \"middle\", \"dx\": 5}, \"encoding\": {\"color\": {\"condition\": {\"value\": \"green\", \"test\": \"(datum.NUMBER_OF_HOUSES >= 4000)\"}, \"value\": \"steelblue\"}, \"text\": {\"type\": \"quantitative\", \"field\": \"NUMBER_OF_HOUSES\"}, \"x\": {\"type\": \"quantitative\", \"field\": \"NUMBER_OF_HOUSES\"}, \"y\": {\"type\": \"nominal\", \"field\": \"RESIDENTAL_AREA_STATE\"}}}], \"data\": {\"name\": \"data-61aa2f5e1b88219b3af6d44876f5c021\"}, \"height\": 500, \"width\": 900, \"$schema\": \"https://vega.github.io/schema/vega-lite/v4.8.1.json\", \"datasets\": {\"data-61aa2f5e1b88219b3af6d44876f5c021\": [{\"STATE\": \"Negeri Sembilan\", \"RESIDENTAL_AREA\": \"TAMAN WARISAN PUTERI\", \"DISTRICT\": \"Seremban\", \"NUMBER_OF_HOUSES\": 5479.0, \"RESIDENTAL_AREA_STATE\": \"TAMAN WARISAN PUTERI,Negeri Sembilan\"}, {\"STATE\": \"Negeri Sembilan\", \"RESIDENTAL_AREA\": \"TAMAN RASAH JAYA\", \"DISTRICT\": \"Seremban\", \"NUMBER_OF_HOUSES\": 4977.0, \"RESIDENTAL_AREA_STATE\": \"TAMAN RASAH JAYA,Negeri Sembilan\"}, {\"STATE\": \"Negeri Sembilan\", \"RESIDENTAL_AREA\": \"SEREMBAN 2  SEKSYEN G\", \"DISTRICT\": \"Seremban\", \"NUMBER_OF_HOUSES\": 4093.0, \"RESIDENTAL_AREA_STATE\": \"SEREMBAN 2  SEKSYEN G,Negeri Sembilan\"}, {\"STATE\": \"Negeri Sembilan\", \"RESIDENTAL_AREA\": \"TAMAN TASIK JAYA\", \"DISTRICT\": \"Seremban\", \"NUMBER_OF_HOUSES\": 2689.0, \"RESIDENTAL_AREA_STATE\": \"TAMAN TASIK JAYA,Negeri Sembilan\"}, {\"STATE\": \"Negeri Sembilan\", \"RESIDENTAL_AREA\": \"Bandar Baru Spring Hill\", \"DISTRICT\": \"Port Dickson\", \"NUMBER_OF_HOUSES\": 2614.0, \"RESIDENTAL_AREA_STATE\": \"Bandar Baru Spring Hill,Negeri Sembilan\"}, {\"STATE\": \"Negeri Sembilan\", \"RESIDENTAL_AREA\": \"TAMAN BUKIT KEPAYANG\", \"DISTRICT\": \"Seremban\", \"NUMBER_OF_HOUSES\": 2477.0, \"RESIDENTAL_AREA_STATE\": \"TAMAN BUKIT KEPAYANG,Negeri Sembilan\"}, {\"STATE\": \"Negeri Sembilan\", \"RESIDENTAL_AREA\": \"TAMAN SRI MAMBAU\", \"DISTRICT\": \"Seremban\", \"NUMBER_OF_HOUSES\": 2467.0, \"RESIDENTAL_AREA_STATE\": \"TAMAN SRI MAMBAU,Negeri Sembilan\"}, {\"STATE\": \"Negeri Sembilan\", \"RESIDENTAL_AREA\": \"SEREMBAN FOREST HEIGHT\", \"DISTRICT\": \"Seremban\", \"NUMBER_OF_HOUSES\": 2388.0, \"RESIDENTAL_AREA_STATE\": \"SEREMBAN FOREST HEIGHT,Negeri Sembilan\"}, {\"STATE\": \"Negeri Sembilan\", \"RESIDENTAL_AREA\": \"Taman Muhibbah\", \"DISTRICT\": \"Kuala Pilah\", \"NUMBER_OF_HOUSES\": 2223.0, \"RESIDENTAL_AREA_STATE\": \"Taman Muhibbah,Negeri Sembilan\"}, {\"STATE\": \"Negeri Sembilan\", \"RESIDENTAL_AREA\": \"TAMAN BUKIT FLORIDA\", \"DISTRICT\": \"Seremban\", \"NUMBER_OF_HOUSES\": 1950.0, \"RESIDENTAL_AREA_STATE\": \"TAMAN BUKIT FLORIDA,Negeri Sembilan\"}]}}, {\"mode\": \"vega-lite\"});\n",
       "</script>"
      ],
      "text/plain": [
       "alt.LayerChart(...)"
      ]
     },
     "execution_count": 60,
     "metadata": {},
     "output_type": "execute_result"
    }
   ],
   "source": [
    "topOverall = residentalLocationAnalysis.sort_values(by=['NUMBER_OF_HOUSES'],ascending=False)\n",
    "topOverall = residentalLocationAnalysis.sort_values(by=['NUMBER_OF_HOUSES'],ascending=False)\n",
    "topOverall = topOverall.iloc[:10,:]\n",
    "topOverall['RESIDENTAL_AREA_STATE'] = topOverall[\"RESIDENTAL_AREA\"] + \",\" + topOverall[\"STATE\"]\n",
    "\n",
    "locationOverall = alt.Chart(topOverall).mark_bar().encode(\n",
    "    y='RESIDENTAL_AREA_STATE',\n",
    "    x='NUMBER_OF_HOUSES',\n",
    "    color=alt.condition(\n",
    "        alt.datum.NUMBER_OF_HOUSES >= 4000,  # If the year is 1810 this test returns True,\n",
    "        alt.value('green'),     # which sets the bar orange.\n",
    "        alt.value('steelblue')   # And if it's not true it sets the bar steelblue.\n",
    "    )\n",
    ")\n",
    "\n",
    "text = locationOverall.mark_text( \n",
    "    align='left',\n",
    "    baseline='middle',\n",
    "    dx=5  \n",
    ").encode(\n",
    "    text='NUMBER_OF_HOUSES'\n",
    ")\n",
    "\n",
    "left = alt.Chart(locationOverall).mark_text().encode(\n",
    "    alt.Y('STATE', sort=alt.EncodingSortField('PERCENT', order=\"descending\"), title=None)\n",
    ")\n",
    "\n",
    "locationOverall = (locationOverall + text).properties(height=500, width=900)\n",
    "locationOverall"
   ]
  },
  {
   "cell_type": "markdown",
   "metadata": {},
   "source": [
    "#### Kelantan"
   ]
  },
  {
   "cell_type": "code",
   "execution_count": 61,
   "metadata": {},
   "outputs": [
    {
     "data": {
      "text/html": [
       "\n",
       "<div id=\"altair-viz-22f5d82ece99465c9804c5dbc2fca8fc\"></div>\n",
       "<script type=\"text/javascript\">\n",
       "  (function(spec, embedOpt){\n",
       "    let outputDiv = document.currentScript.previousElementSibling;\n",
       "    if (outputDiv.id !== \"altair-viz-22f5d82ece99465c9804c5dbc2fca8fc\") {\n",
       "      outputDiv = document.getElementById(\"altair-viz-22f5d82ece99465c9804c5dbc2fca8fc\");\n",
       "    }\n",
       "    const paths = {\n",
       "      \"vega\": \"https://cdn.jsdelivr.net/npm//vega@5?noext\",\n",
       "      \"vega-lib\": \"https://cdn.jsdelivr.net/npm//vega-lib?noext\",\n",
       "      \"vega-lite\": \"https://cdn.jsdelivr.net/npm//vega-lite@4.8.1?noext\",\n",
       "      \"vega-embed\": \"https://cdn.jsdelivr.net/npm//vega-embed@6?noext\",\n",
       "    };\n",
       "\n",
       "    function loadScript(lib) {\n",
       "      return new Promise(function(resolve, reject) {\n",
       "        var s = document.createElement('script');\n",
       "        s.src = paths[lib];\n",
       "        s.async = true;\n",
       "        s.onload = () => resolve(paths[lib]);\n",
       "        s.onerror = () => reject(`Error loading script: ${paths[lib]}`);\n",
       "        document.getElementsByTagName(\"head\")[0].appendChild(s);\n",
       "      });\n",
       "    }\n",
       "\n",
       "    function showError(err) {\n",
       "      outputDiv.innerHTML = `<div class=\"error\" style=\"color:red;\">${err}</div>`;\n",
       "      throw err;\n",
       "    }\n",
       "\n",
       "    function displayChart(vegaEmbed) {\n",
       "      vegaEmbed(outputDiv, spec, embedOpt)\n",
       "        .catch(err => showError(`Javascript Error: ${err.message}<br>This usually means there's a typo in your chart specification. See the javascript console for the full traceback.`));\n",
       "    }\n",
       "\n",
       "    if(typeof define === \"function\" && define.amd) {\n",
       "      requirejs.config({paths});\n",
       "      require([\"vega-embed\"], displayChart, err => showError(`Error loading script: ${err.message}`));\n",
       "    } else if (typeof vegaEmbed === \"function\") {\n",
       "      displayChart(vegaEmbed);\n",
       "    } else {\n",
       "      loadScript(\"vega\")\n",
       "        .then(() => loadScript(\"vega-lite\"))\n",
       "        .then(() => loadScript(\"vega-embed\"))\n",
       "        .catch(showError)\n",
       "        .then(() => displayChart(vegaEmbed));\n",
       "    }\n",
       "  })({\"config\": {\"view\": {\"continuousWidth\": 400, \"continuousHeight\": 300}}, \"layer\": [{\"mark\": \"bar\", \"encoding\": {\"color\": {\"condition\": {\"value\": \"green\", \"test\": \"(datum.NUMBER_OF_HOUSES >= 900)\"}, \"value\": \"steelblue\"}, \"x\": {\"type\": \"quantitative\", \"field\": \"NUMBER_OF_HOUSES\"}, \"y\": {\"type\": \"nominal\", \"field\": \"RESIDENTAL_AREA\"}}}, {\"mark\": {\"type\": \"text\", \"align\": \"left\", \"baseline\": \"middle\", \"dx\": 5}, \"encoding\": {\"color\": {\"condition\": {\"value\": \"green\", \"test\": \"(datum.NUMBER_OF_HOUSES >= 900)\"}, \"value\": \"steelblue\"}, \"text\": {\"type\": \"quantitative\", \"field\": \"NUMBER_OF_HOUSES\"}, \"x\": {\"type\": \"quantitative\", \"field\": \"NUMBER_OF_HOUSES\"}, \"y\": {\"type\": \"nominal\", \"field\": \"RESIDENTAL_AREA\"}}}], \"data\": {\"name\": \"data-6dfe92818be6a386003946cfcd5a834c\"}, \"height\": 500, \"width\": 700, \"$schema\": \"https://vega.github.io/schema/vega-lite/v4.8.1.json\", \"datasets\": {\"data-6dfe92818be6a386003946cfcd5a834c\": [{\"STATE\": \"Kelantan\", \"RESIDENTAL_AREA\": \"PPR Bandar Baru\", \"DISTRICT\": \"GUA MUSANG\", \"NUMBER_OF_HOUSES\": 1014.0}, {\"STATE\": \"Kelantan\", \"RESIDENTAL_AREA\": \"TAMAN SRI BAYU\", \"DISTRICT\": \"TUMPAT\", \"NUMBER_OF_HOUSES\": 905.0}, {\"STATE\": \"Kelantan\", \"RESIDENTAL_AREA\": \"TAMAN MERBAU UTAMA\", \"DISTRICT\": \"PASIR PUTEH\", \"NUMBER_OF_HOUSES\": 900.0}, {\"STATE\": \"Kelantan\", \"RESIDENTAL_AREA\": \"TAMAN DESA KEMUMIN\", \"DISTRICT\": \"KOTA BHARU\", \"NUMBER_OF_HOUSES\": 802.0}, {\"STATE\": \"Kelantan\", \"RESIDENTAL_AREA\": \"Bandar Utama fasa 2\", \"DISTRICT\": \"GUA MUSANG\", \"NUMBER_OF_HOUSES\": 745.0}, {\"STATE\": \"Kelantan\", \"RESIDENTAL_AREA\": \"TAMAN DESA KUJID\", \"DISTRICT\": \"KOTA BHARU\", \"NUMBER_OF_HOUSES\": 725.0}, {\"STATE\": \"Kelantan\", \"RESIDENTAL_AREA\": \"TAMAN SBJ PUTRA\", \"DISTRICT\": \"TUMPAT\", \"NUMBER_OF_HOUSES\": 688.0}, {\"STATE\": \"Kelantan\", \"RESIDENTAL_AREA\": \"TAMAN DESA DARUL NAIM\", \"DISTRICT\": \"KOTA BHARU\", \"NUMBER_OF_HOUSES\": 616.0}, {\"STATE\": \"Kelantan\", \"RESIDENTAL_AREA\": \"Bandar Utama fasa 1\", \"DISTRICT\": \"GUA MUSANG\", \"NUMBER_OF_HOUSES\": 518.0}, {\"STATE\": \"Kelantan\", \"RESIDENTAL_AREA\": \"TAMAN UDA MURNI\", \"DISTRICT\": \"KOTA BHARU\", \"NUMBER_OF_HOUSES\": 496.0}]}}, {\"mode\": \"vega-lite\"});\n",
       "</script>"
      ],
      "text/plain": [
       "alt.LayerChart(...)"
      ]
     },
     "execution_count": 61,
     "metadata": {},
     "output_type": "execute_result"
    }
   ],
   "source": [
    "topKelantan = residentalLocationAnalysis[residentalLocationAnalysis['STATE']=='Kelantan'].sort_values(by=['NUMBER_OF_HOUSES'],ascending=False)\n",
    "topKelantan = topKelantan.iloc[:10,:]\n",
    "\n",
    "locationKelantan = alt.Chart(topKelantan).mark_bar().encode(\n",
    "    y='RESIDENTAL_AREA',\n",
    "    x='NUMBER_OF_HOUSES',\n",
    "    color=alt.condition(\n",
    "        alt.datum.NUMBER_OF_HOUSES >= 900,  # If the year is 1810 this test returns True,\n",
    "        alt.value('green'),     # which sets the bar orange.\n",
    "        alt.value('steelblue')   # And if it's not true it sets the bar steelblue.\n",
    "    )\n",
    ")\n",
    "\n",
    "text = locationKelantan.mark_text( \n",
    "    align='left',\n",
    "    baseline='middle',\n",
    "    dx=5  \n",
    ").encode(\n",
    "    text='NUMBER_OF_HOUSES'\n",
    ")\n",
    "\n",
    "locationKelantan = (locationKelantan + text).properties(height=500, width=700)\n",
    "locationKelantan"
   ]
  },
  {
   "cell_type": "markdown",
   "metadata": {},
   "source": [
    "#### Negeri Sembilan"
   ]
  },
  {
   "cell_type": "code",
   "execution_count": 62,
   "metadata": {},
   "outputs": [
    {
     "data": {
      "text/html": [
       "\n",
       "<div id=\"altair-viz-179a83962bde4afc94ced4cfde46cde6\"></div>\n",
       "<script type=\"text/javascript\">\n",
       "  (function(spec, embedOpt){\n",
       "    let outputDiv = document.currentScript.previousElementSibling;\n",
       "    if (outputDiv.id !== \"altair-viz-179a83962bde4afc94ced4cfde46cde6\") {\n",
       "      outputDiv = document.getElementById(\"altair-viz-179a83962bde4afc94ced4cfde46cde6\");\n",
       "    }\n",
       "    const paths = {\n",
       "      \"vega\": \"https://cdn.jsdelivr.net/npm//vega@5?noext\",\n",
       "      \"vega-lib\": \"https://cdn.jsdelivr.net/npm//vega-lib?noext\",\n",
       "      \"vega-lite\": \"https://cdn.jsdelivr.net/npm//vega-lite@4.8.1?noext\",\n",
       "      \"vega-embed\": \"https://cdn.jsdelivr.net/npm//vega-embed@6?noext\",\n",
       "    };\n",
       "\n",
       "    function loadScript(lib) {\n",
       "      return new Promise(function(resolve, reject) {\n",
       "        var s = document.createElement('script');\n",
       "        s.src = paths[lib];\n",
       "        s.async = true;\n",
       "        s.onload = () => resolve(paths[lib]);\n",
       "        s.onerror = () => reject(`Error loading script: ${paths[lib]}`);\n",
       "        document.getElementsByTagName(\"head\")[0].appendChild(s);\n",
       "      });\n",
       "    }\n",
       "\n",
       "    function showError(err) {\n",
       "      outputDiv.innerHTML = `<div class=\"error\" style=\"color:red;\">${err}</div>`;\n",
       "      throw err;\n",
       "    }\n",
       "\n",
       "    function displayChart(vegaEmbed) {\n",
       "      vegaEmbed(outputDiv, spec, embedOpt)\n",
       "        .catch(err => showError(`Javascript Error: ${err.message}<br>This usually means there's a typo in your chart specification. See the javascript console for the full traceback.`));\n",
       "    }\n",
       "\n",
       "    if(typeof define === \"function\" && define.amd) {\n",
       "      requirejs.config({paths});\n",
       "      require([\"vega-embed\"], displayChart, err => showError(`Error loading script: ${err.message}`));\n",
       "    } else if (typeof vegaEmbed === \"function\") {\n",
       "      displayChart(vegaEmbed);\n",
       "    } else {\n",
       "      loadScript(\"vega\")\n",
       "        .then(() => loadScript(\"vega-lite\"))\n",
       "        .then(() => loadScript(\"vega-embed\"))\n",
       "        .catch(showError)\n",
       "        .then(() => displayChart(vegaEmbed));\n",
       "    }\n",
       "  })({\"config\": {\"view\": {\"continuousWidth\": 400, \"continuousHeight\": 300}}, \"layer\": [{\"mark\": \"bar\", \"encoding\": {\"color\": {\"condition\": {\"value\": \"green\", \"test\": \"(datum.NUMBER_OF_HOUSES >= 4000)\"}, \"value\": \"steelblue\"}, \"x\": {\"type\": \"quantitative\", \"field\": \"NUMBER_OF_HOUSES\"}, \"y\": {\"type\": \"nominal\", \"field\": \"RESIDENTAL_AREA\"}}}, {\"mark\": {\"type\": \"text\", \"align\": \"left\", \"baseline\": \"middle\", \"dx\": 5}, \"encoding\": {\"color\": {\"condition\": {\"value\": \"green\", \"test\": \"(datum.NUMBER_OF_HOUSES >= 4000)\"}, \"value\": \"steelblue\"}, \"text\": {\"type\": \"quantitative\", \"field\": \"NUMBER_OF_HOUSES\"}, \"x\": {\"type\": \"quantitative\", \"field\": \"NUMBER_OF_HOUSES\"}, \"y\": {\"type\": \"nominal\", \"field\": \"RESIDENTAL_AREA\"}}}], \"data\": {\"name\": \"data-87bf37a9a165921bcf288c78d7094fdb\"}, \"height\": 500, \"width\": 700, \"$schema\": \"https://vega.github.io/schema/vega-lite/v4.8.1.json\", \"datasets\": {\"data-87bf37a9a165921bcf288c78d7094fdb\": [{\"STATE\": \"Negeri Sembilan\", \"RESIDENTAL_AREA\": \"TAMAN WARISAN PUTERI\", \"DISTRICT\": \"Seremban\", \"NUMBER_OF_HOUSES\": 5479.0}, {\"STATE\": \"Negeri Sembilan\", \"RESIDENTAL_AREA\": \"TAMAN RASAH JAYA\", \"DISTRICT\": \"Seremban\", \"NUMBER_OF_HOUSES\": 4977.0}, {\"STATE\": \"Negeri Sembilan\", \"RESIDENTAL_AREA\": \"SEREMBAN 2  SEKSYEN G\", \"DISTRICT\": \"Seremban\", \"NUMBER_OF_HOUSES\": 4093.0}, {\"STATE\": \"Negeri Sembilan\", \"RESIDENTAL_AREA\": \"TAMAN TASIK JAYA\", \"DISTRICT\": \"Seremban\", \"NUMBER_OF_HOUSES\": 2689.0}, {\"STATE\": \"Negeri Sembilan\", \"RESIDENTAL_AREA\": \"Bandar Baru Spring Hill\", \"DISTRICT\": \"Port Dickson\", \"NUMBER_OF_HOUSES\": 2614.0}, {\"STATE\": \"Negeri Sembilan\", \"RESIDENTAL_AREA\": \"TAMAN BUKIT KEPAYANG\", \"DISTRICT\": \"Seremban\", \"NUMBER_OF_HOUSES\": 2477.0}, {\"STATE\": \"Negeri Sembilan\", \"RESIDENTAL_AREA\": \"TAMAN SRI MAMBAU\", \"DISTRICT\": \"Seremban\", \"NUMBER_OF_HOUSES\": 2467.0}, {\"STATE\": \"Negeri Sembilan\", \"RESIDENTAL_AREA\": \"SEREMBAN FOREST HEIGHT\", \"DISTRICT\": \"Seremban\", \"NUMBER_OF_HOUSES\": 2388.0}, {\"STATE\": \"Negeri Sembilan\", \"RESIDENTAL_AREA\": \"Taman Muhibbah\", \"DISTRICT\": \"Kuala Pilah\", \"NUMBER_OF_HOUSES\": 2223.0}, {\"STATE\": \"Negeri Sembilan\", \"RESIDENTAL_AREA\": \"TAMAN BUKIT FLORIDA\", \"DISTRICT\": \"Seremban\", \"NUMBER_OF_HOUSES\": 1950.0}]}}, {\"mode\": \"vega-lite\"});\n",
       "</script>"
      ],
      "text/plain": [
       "alt.LayerChart(...)"
      ]
     },
     "execution_count": 62,
     "metadata": {},
     "output_type": "execute_result"
    }
   ],
   "source": [
    "topN9 = residentalLocationAnalysis[residentalLocationAnalysis['STATE']=='Negeri Sembilan'].sort_values(by=['NUMBER_OF_HOUSES'],ascending=False)\n",
    "topN9 = topN9.iloc[:10,:]\n",
    "\n",
    "locationN9 = alt.Chart(topN9).mark_bar().encode(\n",
    "    y='RESIDENTAL_AREA',\n",
    "    x='NUMBER_OF_HOUSES',\n",
    "    color=alt.condition(\n",
    "        alt.datum.NUMBER_OF_HOUSES >= 4000,  # If the year is 1810 this test returns True,\n",
    "        alt.value('green'),     # which sets the bar orange.\n",
    "        alt.value('steelblue')   # And if it's not true it sets the bar steelblue.\n",
    "    )\n",
    ")\n",
    "\n",
    "text = locationN9.mark_text( \n",
    "    align='left',\n",
    "    baseline='middle',\n",
    "    dx=5  \n",
    ").encode(\n",
    "    text='NUMBER_OF_HOUSES'\n",
    ")\n",
    "\n",
    "locationN9 = (locationN9 + text).properties(height=500, width=700)\n",
    "locationN9"
   ]
  },
  {
   "cell_type": "markdown",
   "metadata": {},
   "source": [
    "#### Pahang"
   ]
  },
  {
   "cell_type": "code",
   "execution_count": 63,
   "metadata": {},
   "outputs": [
    {
     "data": {
      "text/html": [
       "\n",
       "<div id=\"altair-viz-0cff7ee29b0146138c982205de85828c\"></div>\n",
       "<script type=\"text/javascript\">\n",
       "  (function(spec, embedOpt){\n",
       "    let outputDiv = document.currentScript.previousElementSibling;\n",
       "    if (outputDiv.id !== \"altair-viz-0cff7ee29b0146138c982205de85828c\") {\n",
       "      outputDiv = document.getElementById(\"altair-viz-0cff7ee29b0146138c982205de85828c\");\n",
       "    }\n",
       "    const paths = {\n",
       "      \"vega\": \"https://cdn.jsdelivr.net/npm//vega@5?noext\",\n",
       "      \"vega-lib\": \"https://cdn.jsdelivr.net/npm//vega-lib?noext\",\n",
       "      \"vega-lite\": \"https://cdn.jsdelivr.net/npm//vega-lite@4.8.1?noext\",\n",
       "      \"vega-embed\": \"https://cdn.jsdelivr.net/npm//vega-embed@6?noext\",\n",
       "    };\n",
       "\n",
       "    function loadScript(lib) {\n",
       "      return new Promise(function(resolve, reject) {\n",
       "        var s = document.createElement('script');\n",
       "        s.src = paths[lib];\n",
       "        s.async = true;\n",
       "        s.onload = () => resolve(paths[lib]);\n",
       "        s.onerror = () => reject(`Error loading script: ${paths[lib]}`);\n",
       "        document.getElementsByTagName(\"head\")[0].appendChild(s);\n",
       "      });\n",
       "    }\n",
       "\n",
       "    function showError(err) {\n",
       "      outputDiv.innerHTML = `<div class=\"error\" style=\"color:red;\">${err}</div>`;\n",
       "      throw err;\n",
       "    }\n",
       "\n",
       "    function displayChart(vegaEmbed) {\n",
       "      vegaEmbed(outputDiv, spec, embedOpt)\n",
       "        .catch(err => showError(`Javascript Error: ${err.message}<br>This usually means there's a typo in your chart specification. See the javascript console for the full traceback.`));\n",
       "    }\n",
       "\n",
       "    if(typeof define === \"function\" && define.amd) {\n",
       "      requirejs.config({paths});\n",
       "      require([\"vega-embed\"], displayChart, err => showError(`Error loading script: ${err.message}`));\n",
       "    } else if (typeof vegaEmbed === \"function\") {\n",
       "      displayChart(vegaEmbed);\n",
       "    } else {\n",
       "      loadScript(\"vega\")\n",
       "        .then(() => loadScript(\"vega-lite\"))\n",
       "        .then(() => loadScript(\"vega-embed\"))\n",
       "        .catch(showError)\n",
       "        .then(() => displayChart(vegaEmbed));\n",
       "    }\n",
       "  })({\"config\": {\"view\": {\"continuousWidth\": 400, \"continuousHeight\": 300}}, \"layer\": [{\"mark\": \"bar\", \"encoding\": {\"color\": {\"condition\": {\"value\": \"green\", \"test\": \"(datum.NUMBER_OF_HOUSES >= 400)\"}, \"value\": \"steelblue\"}, \"x\": {\"type\": \"quantitative\", \"field\": \"NUMBER_OF_HOUSES\"}, \"y\": {\"type\": \"nominal\", \"field\": \"RESIDENTAL_AREA\"}}}, {\"mark\": {\"type\": \"text\", \"align\": \"left\", \"baseline\": \"middle\", \"dx\": 5}, \"encoding\": {\"color\": {\"condition\": {\"value\": \"green\", \"test\": \"(datum.NUMBER_OF_HOUSES >= 400)\"}, \"value\": \"steelblue\"}, \"text\": {\"type\": \"quantitative\", \"field\": \"NUMBER_OF_HOUSES\"}, \"x\": {\"type\": \"quantitative\", \"field\": \"NUMBER_OF_HOUSES\"}, \"y\": {\"type\": \"nominal\", \"field\": \"RESIDENTAL_AREA\"}}}], \"data\": {\"name\": \"data-d396d6377b47f777855ae8ff0127ca46\"}, \"height\": 500, \"width\": 700, \"$schema\": \"https://vega.github.io/schema/vega-lite/v4.8.1.json\", \"datasets\": {\"data-d396d6377b47f777855ae8ff0127ca46\": [{\"STATE\": \"Pahang\", \"RESIDENTAL_AREA\": \"Taman Jengka Indah\", \"DISTRICT\": \"BANDAR JENGKA\", \"NUMBER_OF_HOUSES\": 1384.0}, {\"STATE\": \"Pahang\", \"RESIDENTAL_AREA\": \"Rantau Perintis\", \"DISTRICT\": \"BANDAR JENGKA\", \"NUMBER_OF_HOUSES\": 774.0}, {\"STATE\": \"Pahang\", \"RESIDENTAL_AREA\": \"Taman Jengka Mahkota\", \"DISTRICT\": \"BANDAR JENGKA\", \"NUMBER_OF_HOUSES\": 407.0}, {\"STATE\": \"Pahang\", \"RESIDENTAL_AREA\": \"Taman Permatang Shahbandar 2\", \"DISTRICT\": \"BANDAR JENGKA\", \"NUMBER_OF_HOUSES\": 363.0}, {\"STATE\": \"Pahang\", \"RESIDENTAL_AREA\": \"Taman Jengka Impian\", \"DISTRICT\": \"BANDAR JENGKA\", \"NUMBER_OF_HOUSES\": 300.0}, {\"STATE\": \"Pahang\", \"RESIDENTAL_AREA\": \"Taman Maran Jaya\", \"DISTRICT\": \"MARAN\", \"NUMBER_OF_HOUSES\": 298.0}, {\"STATE\": \"Pahang\", \"RESIDENTAL_AREA\": \"Lamanda Jengka Siantan\", \"DISTRICT\": \"PEKAN AWAH\", \"NUMBER_OF_HOUSES\": 264.0}, {\"STATE\": \"Pahang\", \"RESIDENTAL_AREA\": \"Taman Desa Jaya 2\", \"DISTRICT\": \"BANDAR JENGKA\", \"NUMBER_OF_HOUSES\": 255.0}, {\"STATE\": \"Pahang\", \"RESIDENTAL_AREA\": \"Taman Desa Jaya 1\", \"DISTRICT\": \"BANDAR JENGKA\", \"NUMBER_OF_HOUSES\": 231.0}, {\"STATE\": \"Pahang\", \"RESIDENTAL_AREA\": \"Taman Sri Keramat\", \"DISTRICT\": \"MARAN\", \"NUMBER_OF_HOUSES\": 184.0}]}}, {\"mode\": \"vega-lite\"});\n",
       "</script>"
      ],
      "text/plain": [
       "alt.LayerChart(...)"
      ]
     },
     "execution_count": 63,
     "metadata": {},
     "output_type": "execute_result"
    }
   ],
   "source": [
    "topPahang = residentalLocationAnalysis[residentalLocationAnalysis['STATE']=='Pahang'].sort_values(by=['NUMBER_OF_HOUSES'],ascending=False)\n",
    "topPahang = topPahang.iloc[:10,:]\n",
    "\n",
    "locationPahang = alt.Chart(topPahang).mark_bar().encode(\n",
    "    y='RESIDENTAL_AREA',\n",
    "    x='NUMBER_OF_HOUSES',\n",
    "    color=alt.condition(\n",
    "        alt.datum.NUMBER_OF_HOUSES >= 400,  # If the year is 1810 this test returns True,\n",
    "        alt.value('green'),     # which sets the bar orange.\n",
    "        alt.value('steelblue')   # And if it's not true it sets the bar steelblue.\n",
    "    )\n",
    ")\n",
    "\n",
    "text = locationPahang.mark_text( \n",
    "    align='left',\n",
    "    baseline='middle',\n",
    "    dx=5  \n",
    ").encode(\n",
    "    text='NUMBER_OF_HOUSES'\n",
    ")\n",
    "\n",
    "locationPahang = (locationPahang + text).properties(height=500, width=700)\n",
    "locationPahang"
   ]
  },
  {
   "cell_type": "markdown",
   "metadata": {},
   "source": [
    "#### Perak\n"
   ]
  },
  {
   "cell_type": "code",
   "execution_count": 64,
   "metadata": {},
   "outputs": [
    {
     "data": {
      "text/html": [
       "\n",
       "<div id=\"altair-viz-b7e4d7218484434ea4ef8d01d8364252\"></div>\n",
       "<script type=\"text/javascript\">\n",
       "  (function(spec, embedOpt){\n",
       "    let outputDiv = document.currentScript.previousElementSibling;\n",
       "    if (outputDiv.id !== \"altair-viz-b7e4d7218484434ea4ef8d01d8364252\") {\n",
       "      outputDiv = document.getElementById(\"altair-viz-b7e4d7218484434ea4ef8d01d8364252\");\n",
       "    }\n",
       "    const paths = {\n",
       "      \"vega\": \"https://cdn.jsdelivr.net/npm//vega@5?noext\",\n",
       "      \"vega-lib\": \"https://cdn.jsdelivr.net/npm//vega-lib?noext\",\n",
       "      \"vega-lite\": \"https://cdn.jsdelivr.net/npm//vega-lite@4.8.1?noext\",\n",
       "      \"vega-embed\": \"https://cdn.jsdelivr.net/npm//vega-embed@6?noext\",\n",
       "    };\n",
       "\n",
       "    function loadScript(lib) {\n",
       "      return new Promise(function(resolve, reject) {\n",
       "        var s = document.createElement('script');\n",
       "        s.src = paths[lib];\n",
       "        s.async = true;\n",
       "        s.onload = () => resolve(paths[lib]);\n",
       "        s.onerror = () => reject(`Error loading script: ${paths[lib]}`);\n",
       "        document.getElementsByTagName(\"head\")[0].appendChild(s);\n",
       "      });\n",
       "    }\n",
       "\n",
       "    function showError(err) {\n",
       "      outputDiv.innerHTML = `<div class=\"error\" style=\"color:red;\">${err}</div>`;\n",
       "      throw err;\n",
       "    }\n",
       "\n",
       "    function displayChart(vegaEmbed) {\n",
       "      vegaEmbed(outputDiv, spec, embedOpt)\n",
       "        .catch(err => showError(`Javascript Error: ${err.message}<br>This usually means there's a typo in your chart specification. See the javascript console for the full traceback.`));\n",
       "    }\n",
       "\n",
       "    if(typeof define === \"function\" && define.amd) {\n",
       "      requirejs.config({paths});\n",
       "      require([\"vega-embed\"], displayChart, err => showError(`Error loading script: ${err.message}`));\n",
       "    } else if (typeof vegaEmbed === \"function\") {\n",
       "      displayChart(vegaEmbed);\n",
       "    } else {\n",
       "      loadScript(\"vega\")\n",
       "        .then(() => loadScript(\"vega-lite\"))\n",
       "        .then(() => loadScript(\"vega-embed\"))\n",
       "        .catch(showError)\n",
       "        .then(() => displayChart(vegaEmbed));\n",
       "    }\n",
       "  })({\"config\": {\"view\": {\"continuousWidth\": 400, \"continuousHeight\": 300}}, \"layer\": [{\"mark\": \"bar\", \"encoding\": {\"color\": {\"condition\": {\"value\": \"green\", \"test\": \"(datum.NUMBER_OF_HOUSES >= 100)\"}, \"value\": \"steelblue\"}, \"x\": {\"type\": \"quantitative\", \"field\": \"NUMBER_OF_HOUSES\"}, \"y\": {\"type\": \"nominal\", \"field\": \"RESIDENTAL_AREA\"}}}, {\"mark\": {\"type\": \"text\", \"align\": \"left\", \"baseline\": \"middle\", \"dx\": 5}, \"encoding\": {\"color\": {\"condition\": {\"value\": \"green\", \"test\": \"(datum.NUMBER_OF_HOUSES >= 100)\"}, \"value\": \"steelblue\"}, \"text\": {\"type\": \"quantitative\", \"field\": \"NUMBER_OF_HOUSES\"}, \"x\": {\"type\": \"quantitative\", \"field\": \"NUMBER_OF_HOUSES\"}, \"y\": {\"type\": \"nominal\", \"field\": \"RESIDENTAL_AREA\"}}}], \"data\": {\"name\": \"data-4535f7c59d5cae0bd12588e2f5f91551\"}, \"height\": 500, \"width\": 700, \"$schema\": \"https://vega.github.io/schema/vega-lite/v4.8.1.json\", \"datasets\": {\"data-4535f7c59d5cae0bd12588e2f5f91551\": [{\"STATE\": \"Perak\", \"RESIDENTAL_AREA\": \"Taman Sri Kroh\", \"DISTRICT\": \"Pengkalan Hulu\", \"NUMBER_OF_HOUSES\": 128.0}, {\"STATE\": \"Perak\", \"RESIDENTAL_AREA\": \"Taman Tasek Permai\", \"DISTRICT\": \"Pengkalan Hulu\", \"NUMBER_OF_HOUSES\": 111.0}, {\"STATE\": \"Perak\", \"RESIDENTAL_AREA\": \"Taman Seroja\", \"DISTRICT\": \"Pengkalan Hulu\", \"NUMBER_OF_HOUSES\": 109.0}, {\"STATE\": \"Perak\", \"RESIDENTAL_AREA\": \"Taman Aman (RPA 3)\", \"DISTRICT\": \"Pengkalan Hulu\", \"NUMBER_OF_HOUSES\": 96.0}, {\"STATE\": \"Perak\", \"RESIDENTAL_AREA\": \"Taman Bukit Riah\", \"DISTRICT\": \"Pengkalan Hulu\", \"NUMBER_OF_HOUSES\": 95.0}, {\"STATE\": \"Perak\", \"RESIDENTAL_AREA\": \"Taman Meranti\", \"DISTRICT\": \"Pengkalan Hulu\", \"NUMBER_OF_HOUSES\": 85.0}, {\"STATE\": \"Perak\", \"RESIDENTAL_AREA\": \"Taman Dahlia Permai\", \"DISTRICT\": \"Pengkalan Hulu\", \"NUMBER_OF_HOUSES\": 69.0}, {\"STATE\": \"Perak\", \"RESIDENTAL_AREA\": \"Taman Sri Bayas\", \"DISTRICT\": \"Pengkalan Hulu\", \"NUMBER_OF_HOUSES\": 66.0}, {\"STATE\": \"Perak\", \"RESIDENTAL_AREA\": \"Taman Desa Cempaka\", \"DISTRICT\": \"Pengkalan Hulu\", \"NUMBER_OF_HOUSES\": 62.0}, {\"STATE\": \"Perak\", \"RESIDENTAL_AREA\": \"RPA Klian Intan 2\", \"DISTRICT\": \"Pengkalan Hulu\", \"NUMBER_OF_HOUSES\": 53.0}]}}, {\"mode\": \"vega-lite\"});\n",
       "</script>"
      ],
      "text/plain": [
       "alt.LayerChart(...)"
      ]
     },
     "execution_count": 64,
     "metadata": {},
     "output_type": "execute_result"
    }
   ],
   "source": [
    "topPerak = residentalLocationAnalysis[residentalLocationAnalysis['STATE']=='Perak'].sort_values(by=['NUMBER_OF_HOUSES'],ascending=False)\n",
    "topPerak = topPerak.iloc[:10,:]\n",
    "\n",
    "locationPerak = alt.Chart(topPerak).mark_bar().encode(\n",
    "    y='RESIDENTAL_AREA',\n",
    "    x='NUMBER_OF_HOUSES',\n",
    "    color=alt.condition(\n",
    "        alt.datum.NUMBER_OF_HOUSES >= 100,  # If the year is 1810 this test returns True,\n",
    "        alt.value('green'),     # which sets the bar orange.\n",
    "        alt.value('steelblue')   # And if it's not true it sets the bar steelblue.\n",
    "    )\n",
    ")\n",
    "\n",
    "text = locationPerak.mark_text( \n",
    "    align='left',\n",
    "    baseline='middle',\n",
    "    dx=5  \n",
    ").encode(\n",
    "    text='NUMBER_OF_HOUSES'\n",
    ")\n",
    "\n",
    "locationPerak = (locationPerak + text).properties(height=500, width=700)\n",
    "locationPerak"
   ]
  },
  {
   "cell_type": "markdown",
   "metadata": {},
   "source": [
    "### 7. What is the customer body size for the dryer and washing machine?"
   ]
  },
  {
   "cell_type": "code",
   "execution_count": 65,
   "metadata": {},
   "outputs": [
    {
     "data": {
      "text/html": [
       "<div>\n",
       "<style scoped>\n",
       "    .dataframe tbody tr th:only-of-type {\n",
       "        vertical-align: middle;\n",
       "    }\n",
       "\n",
       "    .dataframe tbody tr th {\n",
       "        vertical-align: top;\n",
       "    }\n",
       "\n",
       "    .dataframe thead th {\n",
       "        text-align: right;\n",
       "    }\n",
       "</style>\n",
       "<table border=\"1\" class=\"dataframe\">\n",
       "  <thead>\n",
       "    <tr style=\"text-align: right;\">\n",
       "      <th></th>\n",
       "      <th>Dryer</th>\n",
       "      <th>Washer</th>\n",
       "    </tr>\n",
       "  </thead>\n",
       "  <tbody>\n",
       "    <tr>\n",
       "      <th>0</th>\n",
       "      <td>DRYER 10</td>\n",
       "      <td>WASHER 6</td>\n",
       "    </tr>\n",
       "    <tr>\n",
       "      <th>1</th>\n",
       "      <td>WASHER 3</td>\n",
       "      <td>DRYER 7</td>\n",
       "    </tr>\n",
       "    <tr>\n",
       "      <th>2</th>\n",
       "      <td>WASHER 4</td>\n",
       "      <td>DRYER 8</td>\n",
       "    </tr>\n",
       "    <tr>\n",
       "      <th>3</th>\n",
       "      <td>WASHER 5</td>\n",
       "      <td>DRYER 9</td>\n",
       "    </tr>\n",
       "  </tbody>\n",
       "</table>\n",
       "</div>"
      ],
      "text/plain": [
       "      Dryer    Washer\n",
       "0  DRYER 10  WASHER 6\n",
       "1  WASHER 3   DRYER 7\n",
       "2  WASHER 4   DRYER 8\n",
       "3  WASHER 5   DRYER 9"
      ]
     },
     "execution_count": 65,
     "metadata": {},
     "output_type": "execute_result"
    }
   ],
   "source": [
    "dryerWasherPair = pd.DataFrame(\n",
    "    {'Dryer': dryer,\n",
    "     'Washer': washer})\n",
    "dryerWasherPair"
   ]
  },
  {
   "cell_type": "code",
   "execution_count": 66,
   "metadata": {},
   "outputs": [],
   "source": [
    "customerSize = laundry[['BODY_SIZE', 'DRYER_NO', 'WASHER_NO']]\n",
    "rule1 = customerSize[(customerSize['DRYER_NO'] == 10) & (customerSize['WASHER_NO'] == 6)]\n",
    "rule1['RULE'] = '1'\n",
    "\n",
    "rule2 = customerSize[(customerSize['DRYER_NO'] == 7) & (customerSize['WASHER_NO'] == 3)]\n",
    "rule2['RULE'] = '2'\n",
    "\n",
    "rule3 = customerSize[(customerSize['DRYER_NO'] == 8) & (customerSize['WASHER_NO'] == 4)]\n",
    "rule3['RULE'] = '3'\n",
    "\n",
    "rule4 = customerSize[(customerSize['DRYER_NO'] == 9) & (customerSize['WASHER_NO'] == 4)]\n",
    "rule4['RULE'] = '4'"
   ]
  },
  {
   "cell_type": "code",
   "execution_count": 67,
   "metadata": {},
   "outputs": [
    {
     "data": {
      "text/html": [
       "<div>\n",
       "<style scoped>\n",
       "    .dataframe tbody tr th:only-of-type {\n",
       "        vertical-align: middle;\n",
       "    }\n",
       "\n",
       "    .dataframe tbody tr th {\n",
       "        vertical-align: top;\n",
       "    }\n",
       "\n",
       "    .dataframe thead th {\n",
       "        text-align: right;\n",
       "    }\n",
       "</style>\n",
       "<table border=\"1\" class=\"dataframe\">\n",
       "  <thead>\n",
       "    <tr style=\"text-align: right;\">\n",
       "      <th></th>\n",
       "      <th>BODY_SIZE</th>\n",
       "      <th>RULE</th>\n",
       "      <th>FREQUENCY</th>\n",
       "    </tr>\n",
       "  </thead>\n",
       "  <tbody>\n",
       "    <tr>\n",
       "      <th>0</th>\n",
       "      <td>fat</td>\n",
       "      <td>1</td>\n",
       "      <td>17</td>\n",
       "    </tr>\n",
       "    <tr>\n",
       "      <th>1</th>\n",
       "      <td>fat</td>\n",
       "      <td>2</td>\n",
       "      <td>28</td>\n",
       "    </tr>\n",
       "    <tr>\n",
       "      <th>2</th>\n",
       "      <td>fat</td>\n",
       "      <td>3</td>\n",
       "      <td>13</td>\n",
       "    </tr>\n",
       "    <tr>\n",
       "      <th>3</th>\n",
       "      <td>fat</td>\n",
       "      <td>4</td>\n",
       "      <td>6</td>\n",
       "    </tr>\n",
       "    <tr>\n",
       "      <th>4</th>\n",
       "      <td>moderate</td>\n",
       "      <td>1</td>\n",
       "      <td>23</td>\n",
       "    </tr>\n",
       "    <tr>\n",
       "      <th>5</th>\n",
       "      <td>moderate</td>\n",
       "      <td>2</td>\n",
       "      <td>31</td>\n",
       "    </tr>\n",
       "    <tr>\n",
       "      <th>6</th>\n",
       "      <td>moderate</td>\n",
       "      <td>3</td>\n",
       "      <td>16</td>\n",
       "    </tr>\n",
       "    <tr>\n",
       "      <th>7</th>\n",
       "      <td>moderate</td>\n",
       "      <td>4</td>\n",
       "      <td>9</td>\n",
       "    </tr>\n",
       "    <tr>\n",
       "      <th>8</th>\n",
       "      <td>thin</td>\n",
       "      <td>1</td>\n",
       "      <td>17</td>\n",
       "    </tr>\n",
       "    <tr>\n",
       "      <th>9</th>\n",
       "      <td>thin</td>\n",
       "      <td>2</td>\n",
       "      <td>13</td>\n",
       "    </tr>\n",
       "    <tr>\n",
       "      <th>10</th>\n",
       "      <td>thin</td>\n",
       "      <td>3</td>\n",
       "      <td>17</td>\n",
       "    </tr>\n",
       "    <tr>\n",
       "      <th>11</th>\n",
       "      <td>thin</td>\n",
       "      <td>4</td>\n",
       "      <td>9</td>\n",
       "    </tr>\n",
       "  </tbody>\n",
       "</table>\n",
       "</div>"
      ],
      "text/plain": [
       "   BODY_SIZE RULE  FREQUENCY\n",
       "0        fat    1         17\n",
       "1        fat    2         28\n",
       "2        fat    3         13\n",
       "3        fat    4          6\n",
       "4   moderate    1         23\n",
       "5   moderate    2         31\n",
       "6   moderate    3         16\n",
       "7   moderate    4          9\n",
       "8       thin    1         17\n",
       "9       thin    2         13\n",
       "10      thin    3         17\n",
       "11      thin    4          9"
      ]
     },
     "execution_count": 67,
     "metadata": {},
     "output_type": "execute_result"
    }
   ],
   "source": [
    "merged_df = pd.concat([rule1, rule2, rule3, rule4]).reset_index(drop=True)\n",
    "\n",
    "bodySize = merged_df.groupby(['BODY_SIZE', 'RULE']).size().reset_index()\n",
    "bodySize = bodySize.rename(columns={0:'FREQUENCY'})\n",
    "\n",
    "bodySize"
   ]
  },
  {
   "cell_type": "code",
   "execution_count": 68,
   "metadata": {},
   "outputs": [
    {
     "data": {
      "text/html": [
       "\n",
       "<div id=\"altair-viz-d5f9cc0084794d0084988e77d2fb9bab\"></div>\n",
       "<script type=\"text/javascript\">\n",
       "  (function(spec, embedOpt){\n",
       "    let outputDiv = document.currentScript.previousElementSibling;\n",
       "    if (outputDiv.id !== \"altair-viz-d5f9cc0084794d0084988e77d2fb9bab\") {\n",
       "      outputDiv = document.getElementById(\"altair-viz-d5f9cc0084794d0084988e77d2fb9bab\");\n",
       "    }\n",
       "    const paths = {\n",
       "      \"vega\": \"https://cdn.jsdelivr.net/npm//vega@5?noext\",\n",
       "      \"vega-lib\": \"https://cdn.jsdelivr.net/npm//vega-lib?noext\",\n",
       "      \"vega-lite\": \"https://cdn.jsdelivr.net/npm//vega-lite@4.8.1?noext\",\n",
       "      \"vega-embed\": \"https://cdn.jsdelivr.net/npm//vega-embed@6?noext\",\n",
       "    };\n",
       "\n",
       "    function loadScript(lib) {\n",
       "      return new Promise(function(resolve, reject) {\n",
       "        var s = document.createElement('script');\n",
       "        s.src = paths[lib];\n",
       "        s.async = true;\n",
       "        s.onload = () => resolve(paths[lib]);\n",
       "        s.onerror = () => reject(`Error loading script: ${paths[lib]}`);\n",
       "        document.getElementsByTagName(\"head\")[0].appendChild(s);\n",
       "      });\n",
       "    }\n",
       "\n",
       "    function showError(err) {\n",
       "      outputDiv.innerHTML = `<div class=\"error\" style=\"color:red;\">${err}</div>`;\n",
       "      throw err;\n",
       "    }\n",
       "\n",
       "    function displayChart(vegaEmbed) {\n",
       "      vegaEmbed(outputDiv, spec, embedOpt)\n",
       "        .catch(err => showError(`Javascript Error: ${err.message}<br>This usually means there's a typo in your chart specification. See the javascript console for the full traceback.`));\n",
       "    }\n",
       "\n",
       "    if(typeof define === \"function\" && define.amd) {\n",
       "      requirejs.config({paths});\n",
       "      require([\"vega-embed\"], displayChart, err => showError(`Error loading script: ${err.message}`));\n",
       "    } else if (typeof vegaEmbed === \"function\") {\n",
       "      displayChart(vegaEmbed);\n",
       "    } else {\n",
       "      loadScript(\"vega\")\n",
       "        .then(() => loadScript(\"vega-lite\"))\n",
       "        .then(() => loadScript(\"vega-embed\"))\n",
       "        .catch(showError)\n",
       "        .then(() => displayChart(vegaEmbed));\n",
       "    }\n",
       "  })({\"config\": {\"view\": {\"continuousWidth\": 400, \"continuousHeight\": 300}}, \"data\": {\"name\": \"data-7206d94ecc1ecfb96cd95a040e5c804c\"}, \"mark\": \"bar\", \"encoding\": {\"color\": {\"type\": \"nominal\", \"field\": \"BODY_SIZE\"}, \"column\": {\"type\": \"nominal\", \"field\": \"RULE\"}, \"x\": {\"type\": \"ordinal\", \"field\": \"BODY_SIZE\"}, \"y\": {\"type\": \"quantitative\", \"field\": \"FREQUENCY\"}}, \"$schema\": \"https://vega.github.io/schema/vega-lite/v4.8.1.json\", \"datasets\": {\"data-7206d94ecc1ecfb96cd95a040e5c804c\": [{\"BODY_SIZE\": \"fat\", \"RULE\": \"1\", \"FREQUENCY\": 17}, {\"BODY_SIZE\": \"fat\", \"RULE\": \"2\", \"FREQUENCY\": 28}, {\"BODY_SIZE\": \"fat\", \"RULE\": \"3\", \"FREQUENCY\": 13}, {\"BODY_SIZE\": \"fat\", \"RULE\": \"4\", \"FREQUENCY\": 6}, {\"BODY_SIZE\": \"moderate\", \"RULE\": \"1\", \"FREQUENCY\": 23}, {\"BODY_SIZE\": \"moderate\", \"RULE\": \"2\", \"FREQUENCY\": 31}, {\"BODY_SIZE\": \"moderate\", \"RULE\": \"3\", \"FREQUENCY\": 16}, {\"BODY_SIZE\": \"moderate\", \"RULE\": \"4\", \"FREQUENCY\": 9}, {\"BODY_SIZE\": \"thin\", \"RULE\": \"1\", \"FREQUENCY\": 17}, {\"BODY_SIZE\": \"thin\", \"RULE\": \"2\", \"FREQUENCY\": 13}, {\"BODY_SIZE\": \"thin\", \"RULE\": \"3\", \"FREQUENCY\": 17}, {\"BODY_SIZE\": \"thin\", \"RULE\": \"4\", \"FREQUENCY\": 9}]}}, {\"mode\": \"vega-lite\"});\n",
       "</script>"
      ],
      "text/plain": [
       "alt.Chart(...)"
      ]
     },
     "execution_count": 68,
     "metadata": {},
     "output_type": "execute_result"
    }
   ],
   "source": [
    "alt.Chart(bodySize).mark_bar().encode(\n",
    "    x='BODY_SIZE:O',\n",
    "    y='FREQUENCY:Q',\n",
    "    color='BODY_SIZE:N',\n",
    "    column='RULE:N'\n",
    ")"
   ]
  },
  {
   "cell_type": "markdown",
   "metadata": {},
   "source": [
    "# Feature Selection"
   ]
  },
  {
   "cell_type": "code",
   "execution_count": 72,
   "metadata": {},
   "outputs": [],
   "source": [
    "from sklearn.ensemble import RandomForestClassifier\n",
    "from boruta import BorutaPy\n",
    "from sklearn.preprocessing import MinMaxScaler\n",
    "from sklearn.preprocessing import LabelEncoder"
   ]
  },
  {
   "cell_type": "code",
   "execution_count": 73,
   "metadata": {},
   "outputs": [],
   "source": [
    "# function utilities\n",
    "def timeseries_to_supervised(data, lag=1):\n",
    "    df = pd.DataFrame(data)\n",
    "    columns = [df.shift(i) for i in range(1, lag+1)]\n",
    "    columns.append(df)\n",
    "    df = pd.concat(columns, axis=1)\n",
    "    df.fillna(0, inplace=True)\n",
    "    return df\n",
    "\n",
    "def ranking(ranks, names, order=1):\n",
    "    minmax = MinMaxScaler()\n",
    "    ranks = minmax.fit_transform(order*np.array([ranks]).T).T[0]\n",
    "    ranks = map(lambda x: round(x,2), ranks)\n",
    "    return dict(zip(names, ranks))"
   ]
  },
  {
   "cell_type": "markdown",
   "metadata": {},
   "source": [
    "### Label Encode First before do Feature Selection"
   ]
  },
  {
   "cell_type": "code",
   "execution_count": 137,
   "metadata": {},
   "outputs": [
    {
     "data": {
      "text/html": [
       "<div>\n",
       "<style scoped>\n",
       "    .dataframe tbody tr th:only-of-type {\n",
       "        vertical-align: middle;\n",
       "    }\n",
       "\n",
       "    .dataframe tbody tr th {\n",
       "        vertical-align: top;\n",
       "    }\n",
       "\n",
       "    .dataframe thead th {\n",
       "        text-align: right;\n",
       "    }\n",
       "</style>\n",
       "<table border=\"1\" class=\"dataframe\">\n",
       "  <thead>\n",
       "    <tr style=\"text-align: right;\">\n",
       "      <th></th>\n",
       "      <th>AGE_RANGE</th>\n",
       "      <th>WASHER_NO</th>\n",
       "      <th>DRYER_NO</th>\n",
       "      <th>DATE</th>\n",
       "      <th>TIME</th>\n",
       "      <th>RACE</th>\n",
       "      <th>GENDER</th>\n",
       "      <th>BODY_SIZE</th>\n",
       "      <th>WITH_KIDS</th>\n",
       "      <th>KIDS_CATEGORY</th>\n",
       "      <th>...</th>\n",
       "      <th>ATTIRE</th>\n",
       "      <th>SHIRT_COLOUR</th>\n",
       "      <th>SHIRT_TYPE</th>\n",
       "      <th>PANTS_COLOUR</th>\n",
       "      <th>PANTS_TYPE</th>\n",
       "      <th>WASH_ITEM</th>\n",
       "      <th>SPECTACLES</th>\n",
       "      <th>PART_OF_DAY</th>\n",
       "      <th>PART_OF_WEEK</th>\n",
       "      <th>AGE_CATEGORY</th>\n",
       "    </tr>\n",
       "  </thead>\n",
       "  <tbody>\n",
       "    <tr>\n",
       "      <th>0</th>\n",
       "      <td>28.0</td>\n",
       "      <td>3</td>\n",
       "      <td>10</td>\n",
       "      <td>0</td>\n",
       "      <td>306</td>\n",
       "      <td>3</td>\n",
       "      <td>1</td>\n",
       "      <td>1</td>\n",
       "      <td>1</td>\n",
       "      <td>4</td>\n",
       "      <td>...</td>\n",
       "      <td>0</td>\n",
       "      <td>2</td>\n",
       "      <td>1</td>\n",
       "      <td>0</td>\n",
       "      <td>1</td>\n",
       "      <td>1</td>\n",
       "      <td>0</td>\n",
       "      <td>1</td>\n",
       "      <td>1</td>\n",
       "      <td>2</td>\n",
       "    </tr>\n",
       "    <tr>\n",
       "      <th>1</th>\n",
       "      <td>32.0</td>\n",
       "      <td>6</td>\n",
       "      <td>9</td>\n",
       "      <td>0</td>\n",
       "      <td>311</td>\n",
       "      <td>2</td>\n",
       "      <td>1</td>\n",
       "      <td>2</td>\n",
       "      <td>0</td>\n",
       "      <td>1</td>\n",
       "      <td>...</td>\n",
       "      <td>0</td>\n",
       "      <td>10</td>\n",
       "      <td>1</td>\n",
       "      <td>4</td>\n",
       "      <td>0</td>\n",
       "      <td>1</td>\n",
       "      <td>0</td>\n",
       "      <td>1</td>\n",
       "      <td>1</td>\n",
       "      <td>0</td>\n",
       "    </tr>\n",
       "    <tr>\n",
       "      <th>2</th>\n",
       "      <td>30.0</td>\n",
       "      <td>4</td>\n",
       "      <td>10</td>\n",
       "      <td>0</td>\n",
       "      <td>329</td>\n",
       "      <td>3</td>\n",
       "      <td>0</td>\n",
       "      <td>1</td>\n",
       "      <td>0</td>\n",
       "      <td>1</td>\n",
       "      <td>...</td>\n",
       "      <td>0</td>\n",
       "      <td>9</td>\n",
       "      <td>1</td>\n",
       "      <td>0</td>\n",
       "      <td>0</td>\n",
       "      <td>1</td>\n",
       "      <td>0</td>\n",
       "      <td>1</td>\n",
       "      <td>1</td>\n",
       "      <td>2</td>\n",
       "    </tr>\n",
       "    <tr>\n",
       "      <th>4</th>\n",
       "      <td>34.0</td>\n",
       "      <td>3</td>\n",
       "      <td>9</td>\n",
       "      <td>0</td>\n",
       "      <td>354</td>\n",
       "      <td>2</td>\n",
       "      <td>1</td>\n",
       "      <td>1</td>\n",
       "      <td>0</td>\n",
       "      <td>1</td>\n",
       "      <td>...</td>\n",
       "      <td>0</td>\n",
       "      <td>2</td>\n",
       "      <td>1</td>\n",
       "      <td>12</td>\n",
       "      <td>0</td>\n",
       "      <td>1</td>\n",
       "      <td>0</td>\n",
       "      <td>1</td>\n",
       "      <td>1</td>\n",
       "      <td>0</td>\n",
       "    </tr>\n",
       "    <tr>\n",
       "      <th>8</th>\n",
       "      <td>30.0</td>\n",
       "      <td>6</td>\n",
       "      <td>10</td>\n",
       "      <td>1</td>\n",
       "      <td>12</td>\n",
       "      <td>2</td>\n",
       "      <td>1</td>\n",
       "      <td>2</td>\n",
       "      <td>0</td>\n",
       "      <td>1</td>\n",
       "      <td>...</td>\n",
       "      <td>0</td>\n",
       "      <td>10</td>\n",
       "      <td>1</td>\n",
       "      <td>0</td>\n",
       "      <td>1</td>\n",
       "      <td>1</td>\n",
       "      <td>0</td>\n",
       "      <td>1</td>\n",
       "      <td>5</td>\n",
       "      <td>2</td>\n",
       "    </tr>\n",
       "    <tr>\n",
       "      <th>...</th>\n",
       "      <td>...</td>\n",
       "      <td>...</td>\n",
       "      <td>...</td>\n",
       "      <td>...</td>\n",
       "      <td>...</td>\n",
       "      <td>...</td>\n",
       "      <td>...</td>\n",
       "      <td>...</td>\n",
       "      <td>...</td>\n",
       "      <td>...</td>\n",
       "      <td>...</td>\n",
       "      <td>...</td>\n",
       "      <td>...</td>\n",
       "      <td>...</td>\n",
       "      <td>...</td>\n",
       "      <td>...</td>\n",
       "      <td>...</td>\n",
       "      <td>...</td>\n",
       "      <td>...</td>\n",
       "      <td>...</td>\n",
       "      <td>...</td>\n",
       "    </tr>\n",
       "    <tr>\n",
       "      <th>802</th>\n",
       "      <td>45.0</td>\n",
       "      <td>3</td>\n",
       "      <td>10</td>\n",
       "      <td>23</td>\n",
       "      <td>297</td>\n",
       "      <td>3</td>\n",
       "      <td>0</td>\n",
       "      <td>1</td>\n",
       "      <td>0</td>\n",
       "      <td>1</td>\n",
       "      <td>...</td>\n",
       "      <td>0</td>\n",
       "      <td>9</td>\n",
       "      <td>0</td>\n",
       "      <td>0</td>\n",
       "      <td>0</td>\n",
       "      <td>1</td>\n",
       "      <td>0</td>\n",
       "      <td>1</td>\n",
       "      <td>6</td>\n",
       "      <td>0</td>\n",
       "    </tr>\n",
       "    <tr>\n",
       "      <th>803</th>\n",
       "      <td>34.0</td>\n",
       "      <td>3</td>\n",
       "      <td>7</td>\n",
       "      <td>23</td>\n",
       "      <td>315</td>\n",
       "      <td>3</td>\n",
       "      <td>1</td>\n",
       "      <td>0</td>\n",
       "      <td>0</td>\n",
       "      <td>1</td>\n",
       "      <td>...</td>\n",
       "      <td>0</td>\n",
       "      <td>10</td>\n",
       "      <td>1</td>\n",
       "      <td>0</td>\n",
       "      <td>0</td>\n",
       "      <td>0</td>\n",
       "      <td>0</td>\n",
       "      <td>1</td>\n",
       "      <td>6</td>\n",
       "      <td>0</td>\n",
       "    </tr>\n",
       "    <tr>\n",
       "      <th>804</th>\n",
       "      <td>53.0</td>\n",
       "      <td>3</td>\n",
       "      <td>7</td>\n",
       "      <td>23</td>\n",
       "      <td>316</td>\n",
       "      <td>3</td>\n",
       "      <td>0</td>\n",
       "      <td>1</td>\n",
       "      <td>0</td>\n",
       "      <td>1</td>\n",
       "      <td>...</td>\n",
       "      <td>2</td>\n",
       "      <td>7</td>\n",
       "      <td>0</td>\n",
       "      <td>9</td>\n",
       "      <td>0</td>\n",
       "      <td>1</td>\n",
       "      <td>1</td>\n",
       "      <td>1</td>\n",
       "      <td>6</td>\n",
       "      <td>1</td>\n",
       "    </tr>\n",
       "    <tr>\n",
       "      <th>805</th>\n",
       "      <td>37.0</td>\n",
       "      <td>6</td>\n",
       "      <td>10</td>\n",
       "      <td>23</td>\n",
       "      <td>318</td>\n",
       "      <td>2</td>\n",
       "      <td>0</td>\n",
       "      <td>1</td>\n",
       "      <td>0</td>\n",
       "      <td>1</td>\n",
       "      <td>...</td>\n",
       "      <td>2</td>\n",
       "      <td>3</td>\n",
       "      <td>1</td>\n",
       "      <td>0</td>\n",
       "      <td>0</td>\n",
       "      <td>1</td>\n",
       "      <td>0</td>\n",
       "      <td>1</td>\n",
       "      <td>6</td>\n",
       "      <td>0</td>\n",
       "    </tr>\n",
       "    <tr>\n",
       "      <th>806</th>\n",
       "      <td>29.0</td>\n",
       "      <td>4</td>\n",
       "      <td>8</td>\n",
       "      <td>23</td>\n",
       "      <td>319</td>\n",
       "      <td>3</td>\n",
       "      <td>1</td>\n",
       "      <td>1</td>\n",
       "      <td>0</td>\n",
       "      <td>1</td>\n",
       "      <td>...</td>\n",
       "      <td>0</td>\n",
       "      <td>10</td>\n",
       "      <td>1</td>\n",
       "      <td>0</td>\n",
       "      <td>0</td>\n",
       "      <td>0</td>\n",
       "      <td>0</td>\n",
       "      <td>1</td>\n",
       "      <td>6</td>\n",
       "      <td>2</td>\n",
       "    </tr>\n",
       "  </tbody>\n",
       "</table>\n",
       "<p>642 rows × 22 columns</p>\n",
       "</div>"
      ],
      "text/plain": [
       "     AGE_RANGE  WASHER_NO  DRYER_NO  DATE  TIME  RACE  GENDER  BODY_SIZE  \\\n",
       "0         28.0          3        10     0   306     3       1          1   \n",
       "1         32.0          6         9     0   311     2       1          2   \n",
       "2         30.0          4        10     0   329     3       0          1   \n",
       "4         34.0          3         9     0   354     2       1          1   \n",
       "8         30.0          6        10     1    12     2       1          2   \n",
       "..         ...        ...       ...   ...   ...   ...     ...        ...   \n",
       "802       45.0          3        10    23   297     3       0          1   \n",
       "803       34.0          3         7    23   315     3       1          0   \n",
       "804       53.0          3         7    23   316     3       0          1   \n",
       "805       37.0          6        10    23   318     2       0          1   \n",
       "806       29.0          4         8    23   319     3       1          1   \n",
       "\n",
       "     WITH_KIDS  KIDS_CATEGORY  ...  ATTIRE  SHIRT_COLOUR  SHIRT_TYPE  \\\n",
       "0            1              4  ...       0             2           1   \n",
       "1            0              1  ...       0            10           1   \n",
       "2            0              1  ...       0             9           1   \n",
       "4            0              1  ...       0             2           1   \n",
       "8            0              1  ...       0            10           1   \n",
       "..         ...            ...  ...     ...           ...         ...   \n",
       "802          0              1  ...       0             9           0   \n",
       "803          0              1  ...       0            10           1   \n",
       "804          0              1  ...       2             7           0   \n",
       "805          0              1  ...       2             3           1   \n",
       "806          0              1  ...       0            10           1   \n",
       "\n",
       "     PANTS_COLOUR  PANTS_TYPE  WASH_ITEM  SPECTACLES  PART_OF_DAY  \\\n",
       "0               0           1          1           0            1   \n",
       "1               4           0          1           0            1   \n",
       "2               0           0          1           0            1   \n",
       "4              12           0          1           0            1   \n",
       "8               0           1          1           0            1   \n",
       "..            ...         ...        ...         ...          ...   \n",
       "802             0           0          1           0            1   \n",
       "803             0           0          0           0            1   \n",
       "804             9           0          1           1            1   \n",
       "805             0           0          1           0            1   \n",
       "806             0           0          0           0            1   \n",
       "\n",
       "     PART_OF_WEEK  AGE_CATEGORY  \n",
       "0               1             2  \n",
       "1               1             0  \n",
       "2               1             2  \n",
       "4               1             0  \n",
       "8               5             2  \n",
       "..            ...           ...  \n",
       "802             6             0  \n",
       "803             6             0  \n",
       "804             6             1  \n",
       "805             6             0  \n",
       "806             6             2  \n",
       "\n",
       "[642 rows x 22 columns]"
      ]
     },
     "execution_count": 137,
     "metadata": {},
     "output_type": "execute_result"
    }
   ],
   "source": [
    "# perform label encoding\n",
    "laundry_FS = laundry.copy()\n",
    "col_list = [col for col in laundry_FS.columns.tolist() if laundry_FS[col].dtype.name == \"object\" or laundry_FS[col].dtype.name == \"category\" or laundry_FS[col].dtype.name == \"datetime64[ns]\"]\n",
    "df_oh = laundry_FS[col_list]\n",
    "df_FS = laundry_FS.drop(col_list, 1)\n",
    "df_oh = df_oh.apply(LabelEncoder().fit_transform)\n",
    "df_FS = pd.concat([df_FS, df_oh], axis=1)\n",
    "df_FS = df_FS.drop(['NO'],axis=1)\n",
    "df_FS"
   ]
  },
  {
   "cell_type": "markdown",
   "metadata": {},
   "source": [
    "### 1. What is the feature selection technique used? And Why?\n",
    "\n",
    "Feature selection used: BORUTA"
   ]
  },
  {
   "cell_type": "markdown",
   "metadata": {},
   "source": [
    "#### Y = Part of Day"
   ]
  },
  {
   "cell_type": "code",
   "execution_count": 177,
   "metadata": {},
   "outputs": [
    {
     "data": {
      "text/plain": [
       "BorutaPy(estimator=RandomForestClassifier(class_weight='balanced', max_depth=5,\n",
       "                                          n_estimators=56, n_jobs=-1,\n",
       "                                          random_state=RandomState(MT19937) at 0x29297E15D40),\n",
       "         n_estimators='auto',\n",
       "         random_state=RandomState(MT19937) at 0x29297E15D40)"
      ]
     },
     "execution_count": 177,
     "metadata": {},
     "output_type": "execute_result"
    }
   ],
   "source": [
    "df_FS1 = df_FS.copy()\n",
    "df_FS1 = df_FS1.drop(['TIME'], axis=1)\n",
    "y_partDay = df_FS1['PART_OF_DAY']\n",
    "X_partDay = df_FS1.drop(['PART_OF_DAY'], axis=1)\n",
    "\n",
    "# PERFORM BORUTA\n",
    "rf = RandomForestClassifier(n_jobs=-1, class_weight=\"balanced\", max_depth=5)\n",
    "feat_selector_partDay = BorutaPy(rf, n_estimators=\"auto\", random_state=1)\n",
    "feat_selector_partDay.fit(X_partDay.values, y_partDay.values.ravel())"
   ]
  },
  {
   "cell_type": "markdown",
   "metadata": {},
   "source": [
    "#### Y = age"
   ]
  },
  {
   "cell_type": "code",
   "execution_count": 207,
   "metadata": {},
   "outputs": [
    {
     "data": {
      "text/plain": [
       "BorutaPy(estimator=RandomForestClassifier(class_weight='balanced', max_depth=5,\n",
       "                                          n_estimators=28, n_jobs=-1,\n",
       "                                          random_state=RandomState(MT19937) at 0x292989D0240),\n",
       "         n_estimators='auto',\n",
       "         random_state=RandomState(MT19937) at 0x292989D0240)"
      ]
     },
     "execution_count": 207,
     "metadata": {},
     "output_type": "execute_result"
    }
   ],
   "source": [
    "df_FS2 = df_FS.copy()\n",
    "y_AGE = df_FS2['AGE_RANGE']\n",
    "X_AGE = df_FS2.drop(['AGE_RANGE','AGE_CATEGORY'], axis=1)\n",
    "\n",
    "# your codes here...\n",
    "rf = RandomForestClassifier(n_jobs=-1, class_weight=\"balanced\", max_depth=5)\n",
    "feat_selector_AGE = BorutaPy(rf, n_estimators=\"auto\", random_state=1)\n",
    "feat_selector_AGE.fit(X_AGE.values, y_AGE.values.ravel())"
   ]
  },
  {
   "cell_type": "markdown",
   "metadata": {},
   "source": [
    "### 2. How should I obtain the optimal feature set?\n",
    "\n",
    "Ans: Obtaining Top 10 features"
   ]
  },
  {
   "cell_type": "markdown",
   "metadata": {},
   "source": [
    "#### Y = Part of Day"
   ]
  },
  {
   "cell_type": "code",
   "execution_count": 156,
   "metadata": {},
   "outputs": [
    {
     "name": "stdout",
     "output_type": "stream",
     "text": [
      "---------Top 10----------\n"
     ]
    },
    {
     "data": {
      "text/html": [
       "<div>\n",
       "<style scoped>\n",
       "    .dataframe tbody tr th:only-of-type {\n",
       "        vertical-align: middle;\n",
       "    }\n",
       "\n",
       "    .dataframe tbody tr th {\n",
       "        vertical-align: top;\n",
       "    }\n",
       "\n",
       "    .dataframe thead th {\n",
       "        text-align: right;\n",
       "    }\n",
       "</style>\n",
       "<table border=\"1\" class=\"dataframe\">\n",
       "  <thead>\n",
       "    <tr style=\"text-align: right;\">\n",
       "      <th></th>\n",
       "      <th>features</th>\n",
       "      <th>score</th>\n",
       "    </tr>\n",
       "  </thead>\n",
       "  <tbody>\n",
       "    <tr>\n",
       "      <th>0</th>\n",
       "      <td>AGE_RANGE</td>\n",
       "      <td>1.00</td>\n",
       "    </tr>\n",
       "    <tr>\n",
       "      <th>18</th>\n",
       "      <td>PART_OF_WEEK</td>\n",
       "      <td>1.00</td>\n",
       "    </tr>\n",
       "    <tr>\n",
       "      <th>3</th>\n",
       "      <td>DATE</td>\n",
       "      <td>1.00</td>\n",
       "    </tr>\n",
       "    <tr>\n",
       "      <th>14</th>\n",
       "      <td>PANTS_COLOUR</td>\n",
       "      <td>0.94</td>\n",
       "    </tr>\n",
       "    <tr>\n",
       "      <th>10</th>\n",
       "      <td>BASKET_COLOUR</td>\n",
       "      <td>0.88</td>\n",
       "    </tr>\n",
       "    <tr>\n",
       "      <th>4</th>\n",
       "      <td>RACE</td>\n",
       "      <td>0.82</td>\n",
       "    </tr>\n",
       "    <tr>\n",
       "      <th>12</th>\n",
       "      <td>SHIRT_COLOUR</td>\n",
       "      <td>0.76</td>\n",
       "    </tr>\n",
       "    <tr>\n",
       "      <th>1</th>\n",
       "      <td>WASHER_NO</td>\n",
       "      <td>0.71</td>\n",
       "    </tr>\n",
       "    <tr>\n",
       "      <th>15</th>\n",
       "      <td>PANTS_TYPE</td>\n",
       "      <td>0.71</td>\n",
       "    </tr>\n",
       "    <tr>\n",
       "      <th>11</th>\n",
       "      <td>ATTIRE</td>\n",
       "      <td>0.59</td>\n",
       "    </tr>\n",
       "  </tbody>\n",
       "</table>\n",
       "</div>"
      ],
      "text/plain": [
       "         features  score\n",
       "0       AGE_RANGE   1.00\n",
       "18   PART_OF_WEEK   1.00\n",
       "3            DATE   1.00\n",
       "14   PANTS_COLOUR   0.94\n",
       "10  BASKET_COLOUR   0.88\n",
       "4            RACE   0.82\n",
       "12   SHIRT_COLOUR   0.76\n",
       "1       WASHER_NO   0.71\n",
       "15     PANTS_TYPE   0.71\n",
       "11         ATTIRE   0.59"
      ]
     },
     "metadata": {},
     "output_type": "display_data"
    },
    {
     "data": {
      "text/plain": [
       "pandas.core.frame.DataFrame"
      ]
     },
     "execution_count": 156,
     "metadata": {},
     "output_type": "execute_result"
    }
   ],
   "source": [
    "print('---------Top 10----------')\n",
    "# your codes here...\n",
    "# get ranking returned by boruta \n",
    "colnames = X_partDay.columns\n",
    "boruta_score_partDay = ranking(list(map(float, feat_selector_partDay.ranking_)), colnames, order=-1)\n",
    "boruta_score_partDay = pd.DataFrame(list(boruta_score_partDay.items()), columns=[\"features\",\"score\"])\n",
    "boruta_score_partDay = boruta_score_partDay.sort_values(\"score\", ascending=False)\n",
    "\n",
    "# features = ['PART_OF_WEEK','DATE','TIME','AGE_RANGE','PANTS_COLOUR','RACE','BASKET_COLOUR','PANTS_TYPE','SHIRT_COLOUR','WASHER_NO']\n",
    "# score = [1.00,1.00,0.94,0.83,0.61,0.44,0.39,0.33,0.22,0.11]\n",
    "# boruta_score_partDay = pd.DataFrame(data=features, columns=[\"features\"])\n",
    "# boruta_score_partDay['score'] = score\n",
    "\n",
    "#display top 10\n",
    "display(boruta_score_partDay.head(10))\n",
    "type(boruta_score_partDay)"
   ]
  },
  {
   "cell_type": "markdown",
   "metadata": {},
   "source": [
    "#### Y = Age"
   ]
  },
  {
   "cell_type": "code",
   "execution_count": 208,
   "metadata": {},
   "outputs": [
    {
     "data": {
      "text/html": [
       "<div>\n",
       "<style scoped>\n",
       "    .dataframe tbody tr th:only-of-type {\n",
       "        vertical-align: middle;\n",
       "    }\n",
       "\n",
       "    .dataframe tbody tr th {\n",
       "        vertical-align: top;\n",
       "    }\n",
       "\n",
       "    .dataframe thead th {\n",
       "        text-align: right;\n",
       "    }\n",
       "</style>\n",
       "<table border=\"1\" class=\"dataframe\">\n",
       "  <thead>\n",
       "    <tr style=\"text-align: right;\">\n",
       "      <th></th>\n",
       "      <th>features</th>\n",
       "      <th>score</th>\n",
       "    </tr>\n",
       "  </thead>\n",
       "  <tbody>\n",
       "    <tr>\n",
       "      <th>3</th>\n",
       "      <td>TIME</td>\n",
       "      <td>1.00</td>\n",
       "    </tr>\n",
       "    <tr>\n",
       "      <th>2</th>\n",
       "      <td>DATE</td>\n",
       "      <td>0.95</td>\n",
       "    </tr>\n",
       "    <tr>\n",
       "      <th>10</th>\n",
       "      <td>BASKET_COLOUR</td>\n",
       "      <td>0.89</td>\n",
       "    </tr>\n",
       "    <tr>\n",
       "      <th>12</th>\n",
       "      <td>SHIRT_COLOUR</td>\n",
       "      <td>0.84</td>\n",
       "    </tr>\n",
       "    <tr>\n",
       "      <th>14</th>\n",
       "      <td>PANTS_COLOUR</td>\n",
       "      <td>0.79</td>\n",
       "    </tr>\n",
       "    <tr>\n",
       "      <th>19</th>\n",
       "      <td>PART_OF_WEEK</td>\n",
       "      <td>0.74</td>\n",
       "    </tr>\n",
       "    <tr>\n",
       "      <th>4</th>\n",
       "      <td>RACE</td>\n",
       "      <td>0.68</td>\n",
       "    </tr>\n",
       "    <tr>\n",
       "      <th>1</th>\n",
       "      <td>DRYER_NO</td>\n",
       "      <td>0.63</td>\n",
       "    </tr>\n",
       "    <tr>\n",
       "      <th>0</th>\n",
       "      <td>WASHER_NO</td>\n",
       "      <td>0.58</td>\n",
       "    </tr>\n",
       "    <tr>\n",
       "      <th>6</th>\n",
       "      <td>BODY_SIZE</td>\n",
       "      <td>0.53</td>\n",
       "    </tr>\n",
       "  </tbody>\n",
       "</table>\n",
       "</div>"
      ],
      "text/plain": [
       "         features  score\n",
       "3            TIME   1.00\n",
       "2            DATE   0.95\n",
       "10  BASKET_COLOUR   0.89\n",
       "12   SHIRT_COLOUR   0.84\n",
       "14   PANTS_COLOUR   0.79\n",
       "19   PART_OF_WEEK   0.74\n",
       "4            RACE   0.68\n",
       "1        DRYER_NO   0.63\n",
       "0       WASHER_NO   0.58\n",
       "6       BODY_SIZE   0.53"
      ]
     },
     "metadata": {},
     "output_type": "display_data"
    },
    {
     "data": {
      "text/plain": [
       "pandas.core.frame.DataFrame"
      ]
     },
     "execution_count": 208,
     "metadata": {},
     "output_type": "execute_result"
    }
   ],
   "source": [
    "colnames = X_AGE.columns\n",
    "boruta_score_AGE = ranking(list(map(float, feat_selector_AGE.ranking_)), colnames, order=-1)\n",
    "boruta_score_AGE = pd.DataFrame(list(boruta_score_AGE.items()), columns=[\"features\",\"score\"])\n",
    "boruta_score_AGE = boruta_score_AGE.sort_values(\"score\", ascending=False)\n",
    "\n",
    "#display top 10\n",
    "display(boruta_score_AGE.head(10))\n",
    "type(boruta_score_AGE)"
   ]
  },
  {
   "cell_type": "markdown",
   "metadata": {},
   "source": [
    "### 3. Do I need to perform data imbalance treatment?\n",
    "SMOTE"
   ]
  },
  {
   "cell_type": "code",
   "execution_count": 166,
   "metadata": {},
   "outputs": [
    {
     "data": {
      "text/html": [
       "\n",
       "<div id=\"altair-viz-022dfd82537f4f99b34db07244c40bfb\"></div>\n",
       "<script type=\"text/javascript\">\n",
       "  (function(spec, embedOpt){\n",
       "    let outputDiv = document.currentScript.previousElementSibling;\n",
       "    if (outputDiv.id !== \"altair-viz-022dfd82537f4f99b34db07244c40bfb\") {\n",
       "      outputDiv = document.getElementById(\"altair-viz-022dfd82537f4f99b34db07244c40bfb\");\n",
       "    }\n",
       "    const paths = {\n",
       "      \"vega\": \"https://cdn.jsdelivr.net/npm//vega@5?noext\",\n",
       "      \"vega-lib\": \"https://cdn.jsdelivr.net/npm//vega-lib?noext\",\n",
       "      \"vega-lite\": \"https://cdn.jsdelivr.net/npm//vega-lite@4.8.1?noext\",\n",
       "      \"vega-embed\": \"https://cdn.jsdelivr.net/npm//vega-embed@6?noext\",\n",
       "    };\n",
       "\n",
       "    function loadScript(lib) {\n",
       "      return new Promise(function(resolve, reject) {\n",
       "        var s = document.createElement('script');\n",
       "        s.src = paths[lib];\n",
       "        s.async = true;\n",
       "        s.onload = () => resolve(paths[lib]);\n",
       "        s.onerror = () => reject(`Error loading script: ${paths[lib]}`);\n",
       "        document.getElementsByTagName(\"head\")[0].appendChild(s);\n",
       "      });\n",
       "    }\n",
       "\n",
       "    function showError(err) {\n",
       "      outputDiv.innerHTML = `<div class=\"error\" style=\"color:red;\">${err}</div>`;\n",
       "      throw err;\n",
       "    }\n",
       "\n",
       "    function displayChart(vegaEmbed) {\n",
       "      vegaEmbed(outputDiv, spec, embedOpt)\n",
       "        .catch(err => showError(`Javascript Error: ${err.message}<br>This usually means there's a typo in your chart specification. See the javascript console for the full traceback.`));\n",
       "    }\n",
       "\n",
       "    if(typeof define === \"function\" && define.amd) {\n",
       "      requirejs.config({paths});\n",
       "      require([\"vega-embed\"], displayChart, err => showError(`Error loading script: ${err.message}`));\n",
       "    } else if (typeof vegaEmbed === \"function\") {\n",
       "      displayChart(vegaEmbed);\n",
       "    } else {\n",
       "      loadScript(\"vega\")\n",
       "        .then(() => loadScript(\"vega-lite\"))\n",
       "        .then(() => loadScript(\"vega-embed\"))\n",
       "        .catch(showError)\n",
       "        .then(() => displayChart(vegaEmbed));\n",
       "    }\n",
       "  })({\"config\": {\"view\": {\"continuousWidth\": 400, \"continuousHeight\": 300}}, \"layer\": [{\"mark\": {\"type\": \"bar\", \"size\": 100}, \"encoding\": {\"color\": {\"type\": \"nominal\", \"field\": \"x\"}, \"x\": {\"type\": \"nominal\", \"field\": \"x\"}, \"y\": {\"type\": \"quantitative\", \"field\": \"y\"}}, \"height\": 300, \"width\": 300}, {\"mark\": {\"type\": \"text\", \"align\": \"left\", \"baseline\": \"middle\", \"dy\": -10}, \"encoding\": {\"color\": {\"type\": \"nominal\", \"field\": \"x\"}, \"text\": {\"type\": \"quantitative\", \"field\": \"y\"}, \"x\": {\"type\": \"nominal\", \"field\": \"x\"}, \"y\": {\"type\": \"quantitative\", \"field\": \"y\"}}, \"height\": 300, \"width\": 300}], \"data\": {\"name\": \"data-505e8c5fdc89eadcc44d270a5ea42a27\"}, \"$schema\": \"https://vega.github.io/schema/vega-lite/v4.8.1.json\", \"datasets\": {\"data-505e8c5fdc89eadcc44d270a5ea42a27\": [{\"x\": \"1\", \"y\": 343}, {\"x\": \"0\", \"y\": 299}]}}, {\"mode\": \"vega-lite\"});\n",
       "</script>"
      ],
      "text/plain": [
       "alt.LayerChart(...)"
      ]
     },
     "execution_count": 166,
     "metadata": {},
     "output_type": "execute_result"
    }
   ],
   "source": [
    "# before SMOTE\n",
    "a = df_FS1[\"PART_OF_DAY\"].value_counts()\n",
    "df = pd.DataFrame()\n",
    "df['x'] = a.index.astype(str)\n",
    "df['y'] = a.values\n",
    "df\n",
    "bar = alt.Chart(df).mark_bar(size=100).encode(\n",
    "    x='x',\n",
    "    y='y',\n",
    "    color='x'\n",
    ").properties(width=300,height=300)\n",
    "\n",
    "text = bar.mark_text(\n",
    "    align='left',\n",
    "    baseline='middle',\n",
    "    dy=-10  # Nudges text to right so it doesn't appear on top of the bar\n",
    ").encode(\n",
    "    text='y'\n",
    ")\n",
    "\n",
    "after = bar+text\n",
    "after"
   ]
  },
  {
   "cell_type": "code",
   "execution_count": 168,
   "metadata": {},
   "outputs": [],
   "source": [
    "from imblearn.over_sampling import SMOTE\n",
    "from sklearn.model_selection import train_test_split\n",
    "\n",
    "\n",
    "partDaytop10 = ['AGE_RANGE',\n",
    " 'PART_OF_WEEK',\n",
    " 'DATE',\n",
    " 'PANTS_COLOUR',\n",
    " 'BASKET_COLOUR',\n",
    " 'RACE',\n",
    " 'SHIRT_COLOUR',\n",
    " 'WASHER_NO',\n",
    " 'PANTS_TYPE',\n",
    " 'ATTIRE']\n",
    "X_partDay = df_FS1[partDaytop10]\n",
    "y_partDay = df_FS1['PART_OF_DAY']\n",
    "\n",
    "smt = SMOTE(random_state=42)\n",
    "X_res, y_res = smt.fit_resample(X_partDay, y_partDay)\n",
    "\n",
    "X_train, X_test, y_train, y_test = train_test_split(X_res, y_res, test_size=0.4, random_state=10)"
   ]
  },
  {
   "cell_type": "code",
   "execution_count": 169,
   "metadata": {},
   "outputs": [
    {
     "name": "stdout",
     "output_type": "stream",
     "text": [
      "1    343\n",
      "0    343\n",
      "Name: PART_OF_DAY, dtype: int64\n"
     ]
    },
    {
     "data": {
      "text/html": [
       "\n",
       "<div id=\"altair-viz-7b551bbfc63b473f8feabaac9fc32e91\"></div>\n",
       "<script type=\"text/javascript\">\n",
       "  (function(spec, embedOpt){\n",
       "    let outputDiv = document.currentScript.previousElementSibling;\n",
       "    if (outputDiv.id !== \"altair-viz-7b551bbfc63b473f8feabaac9fc32e91\") {\n",
       "      outputDiv = document.getElementById(\"altair-viz-7b551bbfc63b473f8feabaac9fc32e91\");\n",
       "    }\n",
       "    const paths = {\n",
       "      \"vega\": \"https://cdn.jsdelivr.net/npm//vega@5?noext\",\n",
       "      \"vega-lib\": \"https://cdn.jsdelivr.net/npm//vega-lib?noext\",\n",
       "      \"vega-lite\": \"https://cdn.jsdelivr.net/npm//vega-lite@4.8.1?noext\",\n",
       "      \"vega-embed\": \"https://cdn.jsdelivr.net/npm//vega-embed@6?noext\",\n",
       "    };\n",
       "\n",
       "    function loadScript(lib) {\n",
       "      return new Promise(function(resolve, reject) {\n",
       "        var s = document.createElement('script');\n",
       "        s.src = paths[lib];\n",
       "        s.async = true;\n",
       "        s.onload = () => resolve(paths[lib]);\n",
       "        s.onerror = () => reject(`Error loading script: ${paths[lib]}`);\n",
       "        document.getElementsByTagName(\"head\")[0].appendChild(s);\n",
       "      });\n",
       "    }\n",
       "\n",
       "    function showError(err) {\n",
       "      outputDiv.innerHTML = `<div class=\"error\" style=\"color:red;\">${err}</div>`;\n",
       "      throw err;\n",
       "    }\n",
       "\n",
       "    function displayChart(vegaEmbed) {\n",
       "      vegaEmbed(outputDiv, spec, embedOpt)\n",
       "        .catch(err => showError(`Javascript Error: ${err.message}<br>This usually means there's a typo in your chart specification. See the javascript console for the full traceback.`));\n",
       "    }\n",
       "\n",
       "    if(typeof define === \"function\" && define.amd) {\n",
       "      requirejs.config({paths});\n",
       "      require([\"vega-embed\"], displayChart, err => showError(`Error loading script: ${err.message}`));\n",
       "    } else if (typeof vegaEmbed === \"function\") {\n",
       "      displayChart(vegaEmbed);\n",
       "    } else {\n",
       "      loadScript(\"vega\")\n",
       "        .then(() => loadScript(\"vega-lite\"))\n",
       "        .then(() => loadScript(\"vega-embed\"))\n",
       "        .catch(showError)\n",
       "        .then(() => displayChart(vegaEmbed));\n",
       "    }\n",
       "  })({\"config\": {\"view\": {\"continuousWidth\": 400, \"continuousHeight\": 300}}, \"layer\": [{\"mark\": {\"type\": \"bar\", \"size\": 100}, \"encoding\": {\"color\": {\"type\": \"nominal\", \"field\": \"x\"}, \"x\": {\"type\": \"nominal\", \"field\": \"x\"}, \"y\": {\"type\": \"quantitative\", \"field\": \"y\"}}, \"height\": 300, \"width\": 300}, {\"mark\": {\"type\": \"text\", \"align\": \"left\", \"baseline\": \"middle\", \"dy\": -10}, \"encoding\": {\"color\": {\"type\": \"nominal\", \"field\": \"x\"}, \"text\": {\"type\": \"quantitative\", \"field\": \"y\"}, \"x\": {\"type\": \"nominal\", \"field\": \"x\"}, \"y\": {\"type\": \"quantitative\", \"field\": \"y\"}}, \"height\": 300, \"width\": 300}], \"data\": {\"name\": \"data-e3dbb56feba72f30b81a0b26490a39ee\"}, \"$schema\": \"https://vega.github.io/schema/vega-lite/v4.8.1.json\", \"datasets\": {\"data-e3dbb56feba72f30b81a0b26490a39ee\": [{\"x\": \"1\", \"y\": 343}, {\"x\": \"0\", \"y\": 343}]}}, {\"mode\": \"vega-lite\"});\n",
       "</script>"
      ],
      "text/plain": [
       "alt.LayerChart(...)"
      ]
     },
     "execution_count": 169,
     "metadata": {},
     "output_type": "execute_result"
    }
   ],
   "source": [
    "# after oversampling with SMOTE\n",
    "print(y_res.value_counts())\n",
    "\n",
    "a = y_res.value_counts()\n",
    "df = pd.DataFrame()\n",
    "df['x'] = a.index.astype(str)\n",
    "df['y'] = a.values\n",
    "df\n",
    "bar = alt.Chart(df).mark_bar(size=100).encode(\n",
    "    x='x',\n",
    "    y='y',\n",
    "    color='x'\n",
    ").properties(width=300,height=300)\n",
    "\n",
    "text = bar.mark_text(\n",
    "    align='left',\n",
    "    baseline='middle',\n",
    "    dy=-10  # Nudges text to right so it doesn't appear on top of the bar\n",
    ").encode(\n",
    "    text='y'\n",
    ")\n",
    "after = bar+text\n",
    "after"
   ]
  },
  {
   "cell_type": "code",
   "execution_count": 82,
   "metadata": {},
   "outputs": [
    {
     "data": {
      "text/html": [
       "<div>\n",
       "<style scoped>\n",
       "    .dataframe tbody tr th:only-of-type {\n",
       "        vertical-align: middle;\n",
       "    }\n",
       "\n",
       "    .dataframe tbody tr th {\n",
       "        vertical-align: top;\n",
       "    }\n",
       "\n",
       "    .dataframe thead th {\n",
       "        text-align: right;\n",
       "    }\n",
       "</style>\n",
       "<table border=\"1\" class=\"dataframe\">\n",
       "  <thead>\n",
       "    <tr style=\"text-align: right;\">\n",
       "      <th></th>\n",
       "      <th>x</th>\n",
       "      <th>y</th>\n",
       "    </tr>\n",
       "  </thead>\n",
       "  <tbody>\n",
       "    <tr>\n",
       "      <th>0</th>\n",
       "      <td>1</td>\n",
       "      <td>343</td>\n",
       "    </tr>\n",
       "    <tr>\n",
       "      <th>1</th>\n",
       "      <td>0</td>\n",
       "      <td>343</td>\n",
       "    </tr>\n",
       "  </tbody>\n",
       "</table>\n",
       "</div>"
      ],
      "text/plain": [
       "   x    y\n",
       "0  1  343\n",
       "1  0  343"
      ]
     },
     "execution_count": 82,
     "metadata": {},
     "output_type": "execute_result"
    }
   ],
   "source": [
    "a = y_res.value_counts()\n",
    "a.index\n",
    "\n",
    "df = pd.DataFrame()\n",
    "df['x'] = a.index.astype(str)\n",
    "df['y'] = a.values\n",
    "df"
   ]
  },
  {
   "cell_type": "markdown",
   "metadata": {},
   "source": [
    "# Model Building"
   ]
  },
  {
   "cell_type": "markdown",
   "metadata": {},
   "source": [
    "## Classification Model\n",
    "Given the features, predict which part of the day does customer visit the laundry ?\n",
    "\n",
    "Compare naive bayes, decision tree and random forest classification to determine which classifier is the most suitable model."
   ]
  },
  {
   "cell_type": "code",
   "execution_count": 83,
   "metadata": {},
   "outputs": [],
   "source": [
    "%matplotlib inline\n",
    "import numpy as np\n",
    "from scipy import stats\n",
    "from sklearn.model_selection import train_test_split\n",
    "from sklearn.model_selection import cross_val_score, cross_val_predict\n",
    "from sklearn import preprocessing # label encoding\n",
    "from sklearn.tree import DecisionTreeClassifier # Import Decision Tree Classifier\n",
    "from sklearn.model_selection import train_test_split # Import train_test_split functionn\n",
    "\n",
    "from sklearn.tree import export_graphviz\n",
    "from six import StringIO\n",
    "from IPython.display import Image  \n",
    "import matplotlib.pyplot as plt\n",
    "from sklearn import tree"
   ]
  },
  {
   "cell_type": "code",
   "execution_count": 157,
   "metadata": {},
   "outputs": [],
   "source": [
    "partDaytop10 = boruta_score_partDay.head(10)\n",
    "# partDaytop10 = ['PART_OF_WEEK','DATE','TIME','AGE_RANGE','PANTS_COLOUR','RACE','BASKET_COLOUR','PANTS_TYPE','SHIRT_COLOUR','WASHER_NO']\n",
    "\n",
    "X_partDay = df_FS[partDaytop10['features']]\n",
    "y_partDay = df_FS['PART_OF_DAY']"
   ]
  },
  {
   "cell_type": "code",
   "execution_count": 167,
   "metadata": {},
   "outputs": [
    {
     "data": {
      "text/plain": [
       "['AGE_RANGE',\n",
       " 'PART_OF_WEEK',\n",
       " 'DATE',\n",
       " 'PANTS_COLOUR',\n",
       " 'BASKET_COLOUR',\n",
       " 'RACE',\n",
       " 'SHIRT_COLOUR',\n",
       " 'WASHER_NO',\n",
       " 'PANTS_TYPE',\n",
       " 'ATTIRE']"
      ]
     },
     "execution_count": 167,
     "metadata": {},
     "output_type": "execute_result"
    }
   ],
   "source": [
    "partDaytop10['features'].to_list()"
   ]
  },
  {
   "cell_type": "code",
   "execution_count": 159,
   "metadata": {},
   "outputs": [
    {
     "name": "stdout",
     "output_type": "stream",
     "text": [
      "(449, 10)\n",
      "(449,)\n",
      "(193, 10)\n",
      "(193,)\n"
     ]
    }
   ],
   "source": [
    "X_train_partDay, X_test_partDay, y_train_partDay, y_test_partDay = train_test_split(X_partDay, y_partDay, test_size=0.3, random_state=0)\n",
    "\n",
    "print(X_train_partDay.shape)\n",
    "print(y_train_partDay.shape)\n",
    "print(X_test_partDay.shape)\n",
    "print(y_test_partDay.shape)"
   ]
  },
  {
   "cell_type": "markdown",
   "metadata": {},
   "source": [
    "### Naive Bayes, Decision Tree and Random Forest Model"
   ]
  },
  {
   "cell_type": "code",
   "execution_count": 160,
   "metadata": {},
   "outputs": [
    {
     "name": "stdout",
     "output_type": "stream",
     "text": [
      "Accuracy NB:  0.5544041450777202\n",
      "Accuracy DT:  0.5854922279792746\n",
      "Accuracy RF:  0.6580310880829016\n"
     ]
    }
   ],
   "source": [
    "from sklearn.naive_bayes import GaussianNB\n",
    "from sklearn.ensemble import RandomForestClassifier\n",
    "\n",
    "\n",
    "nb_partDay = GaussianNB()\n",
    "nb_partDay.fit(X_train_partDay, y_train_partDay)\n",
    "y_pred_nb_partDay = nb_partDay.predict(X_test_partDay)\n",
    "nb_partDay_acc = nb_partDay.score(X_test_partDay, y_test_partDay)\n",
    "print(\"Accuracy NB: \", nb_partDay_acc)\n",
    "\n",
    "dt_gini_partDay = DecisionTreeClassifier()\n",
    "dt_gini_partDay = dt_gini_partDay.fit(X_train_partDay, y_train_partDay)\n",
    "\n",
    "y_pred_dt_gini_partDay = dt_gini_partDay.predict(X_test_partDay)\n",
    "dt_gini_partDay_acc = dt_gini_partDay.score(X_test_partDay, y_test_partDay)\n",
    "print(\"Accuracy DT: \", dt_gini_partDay_acc)\n",
    "\n",
    "RF_partDay = RandomForestClassifier(max_depth=3, random_state=0)\n",
    "RF_partDay.fit(X_train_partDay, y_train_partDay)\n",
    "y_pred_rf_partDay = RF_partDay.predict(X_test_partDay)\n",
    "rf_partDay_acc = RF_partDay.score(X_test_partDay, y_test_partDay)\n",
    "print(\"Accuracy RF: \", rf_partDay_acc)"
   ]
  },
  {
   "cell_type": "markdown",
   "metadata": {},
   "source": [
    "### Model Performance"
   ]
  },
  {
   "cell_type": "markdown",
   "metadata": {},
   "source": [
    "Accuracy "
   ]
  },
  {
   "cell_type": "code",
   "execution_count": 161,
   "metadata": {},
   "outputs": [
    {
     "data": {
      "text/html": [
       "<div>\n",
       "<style scoped>\n",
       "    .dataframe tbody tr th:only-of-type {\n",
       "        vertical-align: middle;\n",
       "    }\n",
       "\n",
       "    .dataframe tbody tr th {\n",
       "        vertical-align: top;\n",
       "    }\n",
       "\n",
       "    .dataframe thead th {\n",
       "        text-align: right;\n",
       "    }\n",
       "</style>\n",
       "<table border=\"1\" class=\"dataframe\">\n",
       "  <thead>\n",
       "    <tr style=\"text-align: right;\">\n",
       "      <th></th>\n",
       "      <th>Model</th>\n",
       "      <th>Accuracy</th>\n",
       "    </tr>\n",
       "  </thead>\n",
       "  <tbody>\n",
       "    <tr>\n",
       "      <th>0</th>\n",
       "      <td>Naive_Bayes</td>\n",
       "      <td>0.554404</td>\n",
       "    </tr>\n",
       "    <tr>\n",
       "      <th>1</th>\n",
       "      <td>Decision_Tree</td>\n",
       "      <td>0.585492</td>\n",
       "    </tr>\n",
       "    <tr>\n",
       "      <th>2</th>\n",
       "      <td>Random_Forest</td>\n",
       "      <td>0.658031</td>\n",
       "    </tr>\n",
       "  </tbody>\n",
       "</table>\n",
       "</div>"
      ],
      "text/plain": [
       "           Model  Accuracy\n",
       "0    Naive_Bayes  0.554404\n",
       "1  Decision_Tree  0.585492\n",
       "2  Random_Forest  0.658031"
      ]
     },
     "execution_count": 161,
     "metadata": {},
     "output_type": "execute_result"
    }
   ],
   "source": [
    "modelAccuracy = {'Model': ['Naive_Bayes','Decision_Tree', 'Random_Forest'], \n",
    "'Accuracy':[nb_partDay_acc,dt_gini_partDay_acc,rf_partDay_acc]}\n",
    "\n",
    "modelAccuracy = pd.DataFrame(modelAccuracy)\n",
    "modelAccuracy"
   ]
  },
  {
   "cell_type": "code",
   "execution_count": 163,
   "metadata": {},
   "outputs": [
    {
     "data": {
      "text/html": [
       "\n",
       "<div id=\"altair-viz-f009f5f7fe0a4ba98b16e667f82cdbd9\"></div>\n",
       "<script type=\"text/javascript\">\n",
       "  (function(spec, embedOpt){\n",
       "    let outputDiv = document.currentScript.previousElementSibling;\n",
       "    if (outputDiv.id !== \"altair-viz-f009f5f7fe0a4ba98b16e667f82cdbd9\") {\n",
       "      outputDiv = document.getElementById(\"altair-viz-f009f5f7fe0a4ba98b16e667f82cdbd9\");\n",
       "    }\n",
       "    const paths = {\n",
       "      \"vega\": \"https://cdn.jsdelivr.net/npm//vega@5?noext\",\n",
       "      \"vega-lib\": \"https://cdn.jsdelivr.net/npm//vega-lib?noext\",\n",
       "      \"vega-lite\": \"https://cdn.jsdelivr.net/npm//vega-lite@4.8.1?noext\",\n",
       "      \"vega-embed\": \"https://cdn.jsdelivr.net/npm//vega-embed@6?noext\",\n",
       "    };\n",
       "\n",
       "    function loadScript(lib) {\n",
       "      return new Promise(function(resolve, reject) {\n",
       "        var s = document.createElement('script');\n",
       "        s.src = paths[lib];\n",
       "        s.async = true;\n",
       "        s.onload = () => resolve(paths[lib]);\n",
       "        s.onerror = () => reject(`Error loading script: ${paths[lib]}`);\n",
       "        document.getElementsByTagName(\"head\")[0].appendChild(s);\n",
       "      });\n",
       "    }\n",
       "\n",
       "    function showError(err) {\n",
       "      outputDiv.innerHTML = `<div class=\"error\" style=\"color:red;\">${err}</div>`;\n",
       "      throw err;\n",
       "    }\n",
       "\n",
       "    function displayChart(vegaEmbed) {\n",
       "      vegaEmbed(outputDiv, spec, embedOpt)\n",
       "        .catch(err => showError(`Javascript Error: ${err.message}<br>This usually means there's a typo in your chart specification. See the javascript console for the full traceback.`));\n",
       "    }\n",
       "\n",
       "    if(typeof define === \"function\" && define.amd) {\n",
       "      requirejs.config({paths});\n",
       "      require([\"vega-embed\"], displayChart, err => showError(`Error loading script: ${err.message}`));\n",
       "    } else if (typeof vegaEmbed === \"function\") {\n",
       "      displayChart(vegaEmbed);\n",
       "    } else {\n",
       "      loadScript(\"vega\")\n",
       "        .then(() => loadScript(\"vega-lite\"))\n",
       "        .then(() => loadScript(\"vega-embed\"))\n",
       "        .catch(showError)\n",
       "        .then(() => displayChart(vegaEmbed));\n",
       "    }\n",
       "  })({\"config\": {\"view\": {\"continuousWidth\": 400, \"continuousHeight\": 300}}, \"data\": {\"name\": \"data-3200e639bca2d392cef91e6ff2386cdb\"}, \"mark\": \"bar\", \"encoding\": {\"color\": {\"condition\": {\"value\": \"orange\", \"test\": \"(datum.Accuracy > 0.65)\"}, \"value\": \"steelblue\"}, \"x\": {\"type\": \"ordinal\", \"field\": \"Model\"}, \"y\": {\"type\": \"quantitative\", \"field\": \"Accuracy\"}}, \"width\": 600, \"$schema\": \"https://vega.github.io/schema/vega-lite/v4.8.1.json\", \"datasets\": {\"data-3200e639bca2d392cef91e6ff2386cdb\": [{\"Model\": \"Naive_Bayes\", \"Accuracy\": 0.5544041450777202}, {\"Model\": \"Decision_Tree\", \"Accuracy\": 0.5854922279792746}, {\"Model\": \"Random_Forest\", \"Accuracy\": 0.6580310880829016}]}}, {\"mode\": \"vega-lite\"});\n",
       "</script>"
      ],
      "text/plain": [
       "alt.Chart(...)"
      ]
     },
     "execution_count": 163,
     "metadata": {},
     "output_type": "execute_result"
    }
   ],
   "source": [
    "alt.Chart(modelAccuracy).mark_bar().encode(\n",
    "    x='Model:O',\n",
    "    y=\"Accuracy:Q\",\n",
    "    # The highlight will be set on the result of a conditional statement\n",
    "    color=alt.condition(\n",
    "        alt.datum.Accuracy > 0.65, \n",
    "        alt.value('orange'),     \n",
    "        alt.value('steelblue')   \n",
    "    )\n",
    ").properties(width=600)"
   ]
  },
  {
   "cell_type": "markdown",
   "metadata": {},
   "source": [
    "ROC - Decision Tree"
   ]
  },
  {
   "cell_type": "code",
   "execution_count": 164,
   "metadata": {},
   "outputs": [
    {
     "data": {
      "text/html": [
       "\n",
       "<div id=\"altair-viz-3ee2908d20d74d2a9fd602eaaa81e3e8\"></div>\n",
       "<script type=\"text/javascript\">\n",
       "  (function(spec, embedOpt){\n",
       "    let outputDiv = document.currentScript.previousElementSibling;\n",
       "    if (outputDiv.id !== \"altair-viz-3ee2908d20d74d2a9fd602eaaa81e3e8\") {\n",
       "      outputDiv = document.getElementById(\"altair-viz-3ee2908d20d74d2a9fd602eaaa81e3e8\");\n",
       "    }\n",
       "    const paths = {\n",
       "      \"vega\": \"https://cdn.jsdelivr.net/npm//vega@5?noext\",\n",
       "      \"vega-lib\": \"https://cdn.jsdelivr.net/npm//vega-lib?noext\",\n",
       "      \"vega-lite\": \"https://cdn.jsdelivr.net/npm//vega-lite@4.8.1?noext\",\n",
       "      \"vega-embed\": \"https://cdn.jsdelivr.net/npm//vega-embed@6?noext\",\n",
       "    };\n",
       "\n",
       "    function loadScript(lib) {\n",
       "      return new Promise(function(resolve, reject) {\n",
       "        var s = document.createElement('script');\n",
       "        s.src = paths[lib];\n",
       "        s.async = true;\n",
       "        s.onload = () => resolve(paths[lib]);\n",
       "        s.onerror = () => reject(`Error loading script: ${paths[lib]}`);\n",
       "        document.getElementsByTagName(\"head\")[0].appendChild(s);\n",
       "      });\n",
       "    }\n",
       "\n",
       "    function showError(err) {\n",
       "      outputDiv.innerHTML = `<div class=\"error\" style=\"color:red;\">${err}</div>`;\n",
       "      throw err;\n",
       "    }\n",
       "\n",
       "    function displayChart(vegaEmbed) {\n",
       "      vegaEmbed(outputDiv, spec, embedOpt)\n",
       "        .catch(err => showError(`Javascript Error: ${err.message}<br>This usually means there's a typo in your chart specification. See the javascript console for the full traceback.`));\n",
       "    }\n",
       "\n",
       "    if(typeof define === \"function\" && define.amd) {\n",
       "      requirejs.config({paths});\n",
       "      require([\"vega-embed\"], displayChart, err => showError(`Error loading script: ${err.message}`));\n",
       "    } else if (typeof vegaEmbed === \"function\") {\n",
       "      displayChart(vegaEmbed);\n",
       "    } else {\n",
       "      loadScript(\"vega\")\n",
       "        .then(() => loadScript(\"vega-lite\"))\n",
       "        .then(() => loadScript(\"vega-embed\"))\n",
       "        .catch(showError)\n",
       "        .then(() => displayChart(vegaEmbed));\n",
       "    }\n",
       "  })({\"config\": {\"view\": {\"continuousWidth\": 400, \"continuousHeight\": 300}}, \"layer\": [{\"mark\": {\"type\": \"line\", \"color\": \"red\"}, \"encoding\": {\"x\": {\"type\": \"quantitative\", \"field\": \"fpr\", \"title\": \"false positive rate\"}, \"y\": {\"type\": \"quantitative\", \"field\": \"tpr\", \"title\": \"true positive rate\"}}}, {\"mark\": {\"type\": \"line\", \"color\": \"black\", \"strokeDash\": [20, 5]}, \"encoding\": {\"x\": {\"type\": \"quantitative\", \"field\": \"thresholds\", \"scale\": {\"domain\": [0, 1]}}, \"y\": {\"type\": \"quantitative\", \"field\": \"thresholds\", \"scale\": {\"domain\": [0, 1]}}}, \"selection\": {\"selector003\": {\"type\": \"interval\", \"bind\": \"scales\", \"encodings\": [\"x\", \"y\"]}}, \"title\": \"Decision Tree ROC curve \"}], \"data\": {\"name\": \"data-e9fbe6040b2774f0508b0773061e252c\"}, \"$schema\": \"https://vega.github.io/schema/vega-lite/v4.8.1.json\", \"datasets\": {\"data-e9fbe6040b2774f0508b0773061e252c\": [{\"fpr\": 0.0, \"tpr\": 0.0, \"thresholds\": 2.0}, {\"fpr\": 0.9787234042553191, \"tpr\": 0.8059701492537313, \"thresholds\": 1.0}, {\"fpr\": 0.9858156028368794, \"tpr\": 0.8059701492537313, \"thresholds\": 0.9999999999999716}, {\"fpr\": 0.9858156028368794, \"tpr\": 0.8432835820895522, \"thresholds\": 0.9999999999995737}, {\"fpr\": 0.9929078014184397, \"tpr\": 0.8432835820895522, \"thresholds\": 0.9999999999946567}, {\"fpr\": 0.9929078014184397, \"tpr\": 0.8582089552238806, \"thresholds\": 0.9999999999767795}, {\"fpr\": 1.0, \"tpr\": 0.8582089552238806, \"thresholds\": 0.9999999999738804}, {\"fpr\": 1.0, \"tpr\": 1.0, \"thresholds\": 0.47165603163459024}]}}, {\"mode\": \"vega-lite\"});\n",
       "</script>"
      ],
      "text/plain": [
       "alt.LayerChart(...)"
      ]
     },
     "execution_count": 164,
     "metadata": {},
     "output_type": "execute_result"
    }
   ],
   "source": [
    "from sklearn.metrics import roc_curve\n",
    "\n",
    "fpr, tpr, thresholds = roc_curve(y_test, nb_partDay.predict_proba(X_test)[:,1])\n",
    "roc_df = pd.DataFrame()\n",
    "roc_df['fpr'] = fpr\n",
    "roc_df['tpr'] = tpr\n",
    "roc_df['thresholds'] = thresholds\n",
    "roc_df.head()\n",
    "\n",
    "baseline = alt.Chart(roc_df).mark_line(strokeDash=[20,5], color = 'black').encode(\n",
    "                                                                alt.X('thresholds', scale = alt.Scale(domain=[0, 1])),\n",
    "                                                                alt.Y('thresholds', scale = alt.Scale(domain=[0, 1])))\n",
    "roc_line = alt.Chart(roc_df).mark_line(color = 'red').encode(\n",
    "                                                                alt.X('fpr', title=\"false positive rate\"),\n",
    "                                                                alt.Y('tpr', title=\"true positive rate\"))\n",
    "\n",
    "roc_line + baseline.properties(title='Decision Tree ROC curve ').interactive()"
   ]
  },
  {
   "cell_type": "markdown",
   "metadata": {},
   "source": [
    "### SMOTED - Naive Bayes, Decision Tree and Random Forest Mode"
   ]
  },
  {
   "cell_type": "code",
   "execution_count": 171,
   "metadata": {},
   "outputs": [
    {
     "name": "stdout",
     "output_type": "stream",
     "text": [
      "accuracy NB after smote: 0.5781818181818181\n",
      "accuracy DT after smote: 0.5781818181818181\n",
      "accuracy RF after smote: 0.6872727272727273\n"
     ]
    }
   ],
   "source": [
    "nb_partDay_SMOTE = GaussianNB()\n",
    "nb_partDay_SMOTE.fit(X_train, y_train)\n",
    "nb_partDay_acc_SMOTE = nb_partDay_SMOTE.score(X_test, y_test)\n",
    "print(\"accuracy NB after smote:\", nb_partDay_acc_SMOTE)\n",
    "\n",
    "\n",
    "dt_gini_partDay_SMOTE = DecisionTreeClassifier()\n",
    "dt_gini_partDay_SMOTE = dt_gini_partDay.fit(X_train, y_train)\n",
    "knn_partDay_acc_SMOTE = dt_gini_partDay_SMOTE.score(X_test, y_test)\n",
    "print(\"accuracy DT after smote:\", knn_partDay_acc_SMOTE)\n",
    "\n",
    "RF_partDay_SMOTE = RandomForestClassifier(max_depth=3, random_state=0)\n",
    "RF_partDay_SMOTE.fit(X_train, y_train)\n",
    "rf_partDay_acc_SMOTE = RF_partDay_SMOTE.score(X_test, y_test)\n",
    "print(\"accuracy RF after smote:\", rf_partDay_acc_SMOTE)"
   ]
  },
  {
   "cell_type": "markdown",
   "metadata": {},
   "source": [
    "Model Performance (SMOTED)"
   ]
  },
  {
   "cell_type": "markdown",
   "metadata": {},
   "source": [
    "Accuracy - SMOTED"
   ]
  },
  {
   "cell_type": "code",
   "execution_count": 172,
   "metadata": {},
   "outputs": [
    {
     "data": {
      "text/html": [
       "<div>\n",
       "<style scoped>\n",
       "    .dataframe tbody tr th:only-of-type {\n",
       "        vertical-align: middle;\n",
       "    }\n",
       "\n",
       "    .dataframe tbody tr th {\n",
       "        vertical-align: top;\n",
       "    }\n",
       "\n",
       "    .dataframe thead th {\n",
       "        text-align: right;\n",
       "    }\n",
       "</style>\n",
       "<table border=\"1\" class=\"dataframe\">\n",
       "  <thead>\n",
       "    <tr style=\"text-align: right;\">\n",
       "      <th></th>\n",
       "      <th>Model (SMOTED)</th>\n",
       "      <th>Accuracy</th>\n",
       "    </tr>\n",
       "  </thead>\n",
       "  <tbody>\n",
       "    <tr>\n",
       "      <th>0</th>\n",
       "      <td>Naive_Bayes</td>\n",
       "      <td>0.578182</td>\n",
       "    </tr>\n",
       "    <tr>\n",
       "      <th>1</th>\n",
       "      <td>Decision_Tree</td>\n",
       "      <td>0.578182</td>\n",
       "    </tr>\n",
       "    <tr>\n",
       "      <th>2</th>\n",
       "      <td>Random_Forest</td>\n",
       "      <td>0.687273</td>\n",
       "    </tr>\n",
       "  </tbody>\n",
       "</table>\n",
       "</div>"
      ],
      "text/plain": [
       "  Model (SMOTED)  Accuracy\n",
       "0    Naive_Bayes  0.578182\n",
       "1  Decision_Tree  0.578182\n",
       "2  Random_Forest  0.687273"
      ]
     },
     "execution_count": 172,
     "metadata": {},
     "output_type": "execute_result"
    }
   ],
   "source": [
    "modelAccuracySMOTED = {'Model (SMOTED)': ['Naive_Bayes','Decision_Tree', 'Random_Forest'], \n",
    "'Accuracy':[nb_partDay_acc_SMOTE,knn_partDay_acc_SMOTE,rf_partDay_acc_SMOTE]}\n",
    "\n",
    "modelAccuracySMOTED = pd.DataFrame(modelAccuracySMOTED)\n",
    "modelAccuracySMOTED"
   ]
  },
  {
   "cell_type": "code",
   "execution_count": 175,
   "metadata": {},
   "outputs": [
    {
     "data": {
      "text/html": [
       "\n",
       "<div id=\"altair-viz-c33064d19c7845f69fb216343326ef5a\"></div>\n",
       "<script type=\"text/javascript\">\n",
       "  (function(spec, embedOpt){\n",
       "    let outputDiv = document.currentScript.previousElementSibling;\n",
       "    if (outputDiv.id !== \"altair-viz-c33064d19c7845f69fb216343326ef5a\") {\n",
       "      outputDiv = document.getElementById(\"altair-viz-c33064d19c7845f69fb216343326ef5a\");\n",
       "    }\n",
       "    const paths = {\n",
       "      \"vega\": \"https://cdn.jsdelivr.net/npm//vega@5?noext\",\n",
       "      \"vega-lib\": \"https://cdn.jsdelivr.net/npm//vega-lib?noext\",\n",
       "      \"vega-lite\": \"https://cdn.jsdelivr.net/npm//vega-lite@4.8.1?noext\",\n",
       "      \"vega-embed\": \"https://cdn.jsdelivr.net/npm//vega-embed@6?noext\",\n",
       "    };\n",
       "\n",
       "    function loadScript(lib) {\n",
       "      return new Promise(function(resolve, reject) {\n",
       "        var s = document.createElement('script');\n",
       "        s.src = paths[lib];\n",
       "        s.async = true;\n",
       "        s.onload = () => resolve(paths[lib]);\n",
       "        s.onerror = () => reject(`Error loading script: ${paths[lib]}`);\n",
       "        document.getElementsByTagName(\"head\")[0].appendChild(s);\n",
       "      });\n",
       "    }\n",
       "\n",
       "    function showError(err) {\n",
       "      outputDiv.innerHTML = `<div class=\"error\" style=\"color:red;\">${err}</div>`;\n",
       "      throw err;\n",
       "    }\n",
       "\n",
       "    function displayChart(vegaEmbed) {\n",
       "      vegaEmbed(outputDiv, spec, embedOpt)\n",
       "        .catch(err => showError(`Javascript Error: ${err.message}<br>This usually means there's a typo in your chart specification. See the javascript console for the full traceback.`));\n",
       "    }\n",
       "\n",
       "    if(typeof define === \"function\" && define.amd) {\n",
       "      requirejs.config({paths});\n",
       "      require([\"vega-embed\"], displayChart, err => showError(`Error loading script: ${err.message}`));\n",
       "    } else if (typeof vegaEmbed === \"function\") {\n",
       "      displayChart(vegaEmbed);\n",
       "    } else {\n",
       "      loadScript(\"vega\")\n",
       "        .then(() => loadScript(\"vega-lite\"))\n",
       "        .then(() => loadScript(\"vega-embed\"))\n",
       "        .catch(showError)\n",
       "        .then(() => displayChart(vegaEmbed));\n",
       "    }\n",
       "  })({\"config\": {\"view\": {\"continuousWidth\": 400, \"continuousHeight\": 300}}, \"data\": {\"name\": \"data-dce426981422cb08a95d33c81a4dee3d\"}, \"mark\": \"bar\", \"encoding\": {\"color\": {\"condition\": {\"value\": \"orange\", \"test\": \"(datum.Accuracy > 0.65)\"}, \"value\": \"steelblue\"}, \"x\": {\"type\": \"ordinal\", \"field\": \"Model (SMOTED)\"}, \"y\": {\"type\": \"quantitative\", \"field\": \"Accuracy\"}}, \"width\": 600, \"$schema\": \"https://vega.github.io/schema/vega-lite/v4.8.1.json\", \"datasets\": {\"data-dce426981422cb08a95d33c81a4dee3d\": [{\"Model (SMOTED)\": \"Naive_Bayes\", \"Accuracy\": 0.5781818181818181}, {\"Model (SMOTED)\": \"Decision_Tree\", \"Accuracy\": 0.5781818181818181}, {\"Model (SMOTED)\": \"Random_Forest\", \"Accuracy\": 0.6872727272727273}]}}, {\"mode\": \"vega-lite\"});\n",
       "</script>"
      ],
      "text/plain": [
       "alt.Chart(...)"
      ]
     },
     "execution_count": 175,
     "metadata": {},
     "output_type": "execute_result"
    }
   ],
   "source": [
    "alt.Chart(modelAccuracySMOTED).mark_bar().encode(\n",
    "    x='Model (SMOTED):O',\n",
    "    y=\"Accuracy:Q\",\n",
    "    # The highlight will be set on the result of a conditional statement\n",
    "    color=alt.condition(\n",
    "        alt.datum.Accuracy > 0.65, \n",
    "        alt.value('orange'),     \n",
    "        alt.value('steelblue')   \n",
    "    )\n",
    ").properties(width=600)"
   ]
  },
  {
   "cell_type": "markdown",
   "metadata": {},
   "source": [
    "ROC - Decision Tree (SMOTED)"
   ]
  },
  {
   "cell_type": "code",
   "execution_count": 176,
   "metadata": {},
   "outputs": [
    {
     "data": {
      "text/html": [
       "\n",
       "<div id=\"altair-viz-4a52d8efa99f44468469f169a6fced34\"></div>\n",
       "<script type=\"text/javascript\">\n",
       "  (function(spec, embedOpt){\n",
       "    let outputDiv = document.currentScript.previousElementSibling;\n",
       "    if (outputDiv.id !== \"altair-viz-4a52d8efa99f44468469f169a6fced34\") {\n",
       "      outputDiv = document.getElementById(\"altair-viz-4a52d8efa99f44468469f169a6fced34\");\n",
       "    }\n",
       "    const paths = {\n",
       "      \"vega\": \"https://cdn.jsdelivr.net/npm//vega@5?noext\",\n",
       "      \"vega-lib\": \"https://cdn.jsdelivr.net/npm//vega-lib?noext\",\n",
       "      \"vega-lite\": \"https://cdn.jsdelivr.net/npm//vega-lite@4.8.1?noext\",\n",
       "      \"vega-embed\": \"https://cdn.jsdelivr.net/npm//vega-embed@6?noext\",\n",
       "    };\n",
       "\n",
       "    function loadScript(lib) {\n",
       "      return new Promise(function(resolve, reject) {\n",
       "        var s = document.createElement('script');\n",
       "        s.src = paths[lib];\n",
       "        s.async = true;\n",
       "        s.onload = () => resolve(paths[lib]);\n",
       "        s.onerror = () => reject(`Error loading script: ${paths[lib]}`);\n",
       "        document.getElementsByTagName(\"head\")[0].appendChild(s);\n",
       "      });\n",
       "    }\n",
       "\n",
       "    function showError(err) {\n",
       "      outputDiv.innerHTML = `<div class=\"error\" style=\"color:red;\">${err}</div>`;\n",
       "      throw err;\n",
       "    }\n",
       "\n",
       "    function displayChart(vegaEmbed) {\n",
       "      vegaEmbed(outputDiv, spec, embedOpt)\n",
       "        .catch(err => showError(`Javascript Error: ${err.message}<br>This usually means there's a typo in your chart specification. See the javascript console for the full traceback.`));\n",
       "    }\n",
       "\n",
       "    if(typeof define === \"function\" && define.amd) {\n",
       "      requirejs.config({paths});\n",
       "      require([\"vega-embed\"], displayChart, err => showError(`Error loading script: ${err.message}`));\n",
       "    } else if (typeof vegaEmbed === \"function\") {\n",
       "      displayChart(vegaEmbed);\n",
       "    } else {\n",
       "      loadScript(\"vega\")\n",
       "        .then(() => loadScript(\"vega-lite\"))\n",
       "        .then(() => loadScript(\"vega-embed\"))\n",
       "        .catch(showError)\n",
       "        .then(() => displayChart(vegaEmbed));\n",
       "    }\n",
       "  })({\"config\": {\"view\": {\"continuousWidth\": 400, \"continuousHeight\": 300}}, \"layer\": [{\"mark\": {\"type\": \"line\", \"color\": \"red\"}, \"encoding\": {\"x\": {\"type\": \"quantitative\", \"field\": \"fpr\", \"title\": \"false positive rate\"}, \"y\": {\"type\": \"quantitative\", \"field\": \"tpr\", \"title\": \"true positive rate\"}}}, {\"mark\": {\"type\": \"line\", \"color\": \"black\", \"strokeDash\": [20, 5]}, \"encoding\": {\"x\": {\"type\": \"quantitative\", \"field\": \"thresholds\", \"scale\": {\"domain\": [0, 1]}}, \"y\": {\"type\": \"quantitative\", \"field\": \"thresholds\", \"scale\": {\"domain\": [0, 1]}}}, \"selection\": {\"selector004\": {\"type\": \"interval\", \"bind\": \"scales\", \"encodings\": [\"x\", \"y\"]}}, \"title\": \"Decision Tree (SMOTED) ROC curve \"}], \"data\": {\"name\": \"data-4ffbd465d4b7cd4cce0885abe8e922c4\"}, \"$schema\": \"https://vega.github.io/schema/vega-lite/v4.8.1.json\", \"datasets\": {\"data-4ffbd465d4b7cd4cce0885abe8e922c4\": [{\"fpr\": 0.0, \"tpr\": 0.0, \"thresholds\": 2.0}, {\"fpr\": 0.41134751773049644, \"tpr\": 0.5671641791044776, \"thresholds\": 1.0}, {\"fpr\": 1.0, \"tpr\": 1.0, \"thresholds\": 0.0}]}}, {\"mode\": \"vega-lite\"});\n",
       "</script>"
      ],
      "text/plain": [
       "alt.LayerChart(...)"
      ]
     },
     "execution_count": 176,
     "metadata": {},
     "output_type": "execute_result"
    }
   ],
   "source": [
    "from sklearn.metrics import roc_curve\n",
    "\n",
    "fpr_SMOTED, tpr_SMOTED, thresholds_SMOTED = roc_curve(y_test, dt_gini_partDay_SMOTE.predict_proba(X_test)[:,1])\n",
    "roc_df_SMOTED = pd.DataFrame()\n",
    "roc_df_SMOTED['fpr'] = fpr_SMOTED\n",
    "roc_df_SMOTED['tpr'] = tpr_SMOTED\n",
    "roc_df_SMOTED['thresholds'] = thresholds_SMOTED\n",
    "roc_df_SMOTED.head()\n",
    "\n",
    "baseline = alt.Chart(roc_df_SMOTED).mark_line(strokeDash=[20,5], color = 'black').encode(\n",
    "                                                                alt.X('thresholds', scale = alt.Scale(domain=[0, 1])),\n",
    "                                                                alt.Y('thresholds', scale = alt.Scale(domain=[0, 1])))\n",
    "roc_line = alt.Chart(roc_df_SMOTED).mark_line(color = 'red').encode(\n",
    "                                                                alt.X('fpr', title=\"false positive rate\"),\n",
    "                                                                alt.Y('tpr', title=\"true positive rate\"))\n",
    "\n",
    "roc_line + baseline.properties(title='Decision Tree (SMOTED) ROC curve ').interactive()\n"
   ]
  },
  {
   "cell_type": "markdown",
   "metadata": {},
   "source": [
    "## Regression Model"
   ]
  },
  {
   "cell_type": "code",
   "execution_count": 211,
   "metadata": {},
   "outputs": [],
   "source": [
    "cols = boruta_score_AGE['features'].head(9)\n",
    "X_AGE = df_FS[cols]\n",
    "y_AGE = df_FS['AGE_RANGE']\n",
    "\n",
    "X_AGE_train, X_AGE_test, Y_AGE_train, Y_AGE_test = train_test_split(X_AGE, y_AGE, test_size = 0.30, random_state = 0)"
   ]
  },
  {
   "cell_type": "markdown",
   "metadata": {},
   "source": [
    "### Linear Regression"
   ]
  },
  {
   "cell_type": "code",
   "execution_count": 212,
   "metadata": {},
   "outputs": [
    {
     "data": {
      "text/plain": [
       "-0.007759540638997642"
      ]
     },
     "execution_count": 212,
     "metadata": {},
     "output_type": "execute_result"
    }
   ],
   "source": [
    "from sklearn.linear_model import LinearRegression\n",
    "\n",
    "\n",
    "\n",
    "\n",
    "lr_AGE = LinearRegression().fit(X_AGE_train, Y_AGE_train)\n",
    "\n",
    "lr_acc = lr_AGE.score(X_AGE_test, Y_AGE_test)\n",
    "lr_acc"
   ]
  },
  {
   "cell_type": "markdown",
   "metadata": {},
   "source": [
    "### Decision Tree Regressor"
   ]
  },
  {
   "cell_type": "code",
   "execution_count": 186,
   "metadata": {},
   "outputs": [],
   "source": [
    "from sklearn.tree import DecisionTreeRegressor  "
   ]
  },
  {
   "cell_type": "code",
   "execution_count": 213,
   "metadata": {},
   "outputs": [
    {
     "data": {
      "text/plain": [
       "[<matplotlib.lines.Line2D at 0x29298a81460>]"
      ]
     },
     "execution_count": 213,
     "metadata": {},
     "output_type": "execute_result"
    },
    {
     "data": {
      "image/png": "[encoded data removed]",
      "text/plain": [
       "<Figure size 432x288 with 1 Axes>"
      ]
     },
     "metadata": {
      "needs_background": "light"
     },
     "output_type": "display_data"
    }
   ],
   "source": [
    "md_range = range(1,20)\n",
    "scores = []\n",
    "\n",
    "# your codes here...\n",
    "for i in md_range:\n",
    "    dt = DecisionTreeRegressor(max_depth=i)\n",
    "    dt.fit(X_AGE_train, Y_AGE_train)\n",
    "    scores.append(dt.score(X_AGE_test, Y_AGE_test))\n",
    "\n",
    "plt.figure()\n",
    "plt.xlabel('max depth')\n",
    "plt.ylabel('accuracy')\n",
    "plt.title('Accuracy by max depth')\n",
    "plt.scatter(md_range, scores)\n",
    "plt.xticks([0,1,2,3,4,5,6,7,8,9,10,11,12,13,14,15,16,17,18,19,20]);\n",
    "plt.plot(md_range, scores, color='green', linestyle='dashed', linewidth=1, markersize=5)"
   ]
  },
  {
   "cell_type": "code",
   "execution_count": 214,
   "metadata": {},
   "outputs": [
    {
     "data": {
      "text/plain": [
       "-0.012042219708629842"
      ]
     },
     "execution_count": 214,
     "metadata": {},
     "output_type": "execute_result"
    }
   ],
   "source": [
    "dt_AGE = DecisionTreeRegressor(max_depth=2)\n",
    "dt_AGE.fit(X_AGE_train, Y_AGE_train)\n",
    "\n",
    "dt_acc = dt_AGE.score(X_AGE_test, Y_AGE_test)\n",
    "dt_acc"
   ]
  },
  {
   "cell_type": "markdown",
   "metadata": {},
   "source": [
    "### SVM (RBF, POLY, LINEAR)"
   ]
  },
  {
   "cell_type": "code",
   "execution_count": 215,
   "metadata": {},
   "outputs": [
    {
     "data": {
      "text/plain": [
       "0.011898318214972337"
      ]
     },
     "execution_count": 215,
     "metadata": {},
     "output_type": "execute_result"
    }
   ],
   "source": [
    "from sklearn.preprocessing import StandardScaler\n",
    "from sklearn.svm import SVR\n",
    "\n",
    "\n",
    "svr_rbf_AGE = SVR(kernel = 'rbf')\n",
    "svr_rbf_AGE.fit(X_AGE_train, Y_AGE_train)\n",
    "\n",
    "svr_rbf_AGE_acc = svr_rbf_AGE.score(X_AGE_test, Y_AGE_test)\n",
    "svr_rbf_AGE_acc"
   ]
  },
  {
   "cell_type": "code",
   "execution_count": 216,
   "metadata": {},
   "outputs": [
    {
     "data": {
      "text/plain": [
       "0.00014177671381099266"
      ]
     },
     "execution_count": 216,
     "metadata": {},
     "output_type": "execute_result"
    }
   ],
   "source": [
    "svr_poly_AGE = SVR(kernel = 'poly')\n",
    "svr_poly_AGE.fit(X_AGE_train, Y_AGE_train)\n",
    "\n",
    "svr_poly_AGE_acc = svr_poly_AGE.score(X_AGE_test, Y_AGE_test)\n",
    "svr_poly_AGE_acc"
   ]
  },
  {
   "cell_type": "code",
   "execution_count": 217,
   "metadata": {},
   "outputs": [
    {
     "data": {
      "text/plain": [
       "-0.02069652599592442"
      ]
     },
     "execution_count": 217,
     "metadata": {},
     "output_type": "execute_result"
    }
   ],
   "source": [
    "svr_linear_AGE = SVR(kernel = 'linear')\n",
    "svr_linear_AGE.fit(X_AGE_train, Y_AGE_train)\n",
    "\n",
    "svr_linear_AGE_acc = svr_linear_AGE.score(X_AGE_test, Y_AGE_test)\n",
    "svr_linear_AGE_acc"
   ]
  },
  {
   "cell_type": "markdown",
   "metadata": {},
   "source": [
    "### Model evaluation"
   ]
  },
  {
   "cell_type": "code",
   "execution_count": 218,
   "metadata": {},
   "outputs": [
    {
     "data": {
      "text/html": [
       "<div>\n",
       "<style scoped>\n",
       "    .dataframe tbody tr th:only-of-type {\n",
       "        vertical-align: middle;\n",
       "    }\n",
       "\n",
       "    .dataframe tbody tr th {\n",
       "        vertical-align: top;\n",
       "    }\n",
       "\n",
       "    .dataframe thead th {\n",
       "        text-align: right;\n",
       "    }\n",
       "</style>\n",
       "<table border=\"1\" class=\"dataframe\">\n",
       "  <thead>\n",
       "    <tr style=\"text-align: right;\">\n",
       "      <th></th>\n",
       "      <th>Model</th>\n",
       "      <th>Accuracy</th>\n",
       "    </tr>\n",
       "  </thead>\n",
       "  <tbody>\n",
       "    <tr>\n",
       "      <th>0</th>\n",
       "      <td>Linear_Regression</td>\n",
       "      <td>-0.007760</td>\n",
       "    </tr>\n",
       "    <tr>\n",
       "      <th>1</th>\n",
       "      <td>Decision_Tree</td>\n",
       "      <td>-0.012042</td>\n",
       "    </tr>\n",
       "    <tr>\n",
       "      <th>2</th>\n",
       "      <td>Support Vector Regressor</td>\n",
       "      <td>0.011898</td>\n",
       "    </tr>\n",
       "  </tbody>\n",
       "</table>\n",
       "</div>"
      ],
      "text/plain": [
       "                      Model  Accuracy\n",
       "0         Linear_Regression -0.007760\n",
       "1             Decision_Tree -0.012042\n",
       "2  Support Vector Regressor  0.011898"
      ]
     },
     "execution_count": 218,
     "metadata": {},
     "output_type": "execute_result"
    }
   ],
   "source": [
    "modelAccuracyReg = {'Model': ['Linear_Regression','Decision_Tree', 'Support Vector Regressor'], \n",
    "'Accuracy':[lr_acc,dt_acc,svr_rbf_AGE_acc]}\n",
    "\n",
    "modelAccuracyRegression = pd.DataFrame(modelAccuracyReg)\n",
    "modelAccuracyRegression"
   ]
  },
  {
   "cell_type": "code",
   "execution_count": 219,
   "metadata": {},
   "outputs": [
    {
     "data": {
      "text/html": [
       "\n",
       "<div id=\"altair-viz-b71713bbfce24ef5941615e680eeb7f6\"></div>\n",
       "<script type=\"text/javascript\">\n",
       "  (function(spec, embedOpt){\n",
       "    let outputDiv = document.currentScript.previousElementSibling;\n",
       "    if (outputDiv.id !== \"altair-viz-b71713bbfce24ef5941615e680eeb7f6\") {\n",
       "      outputDiv = document.getElementById(\"altair-viz-b71713bbfce24ef5941615e680eeb7f6\");\n",
       "    }\n",
       "    const paths = {\n",
       "      \"vega\": \"https://cdn.jsdelivr.net/npm//vega@5?noext\",\n",
       "      \"vega-lib\": \"https://cdn.jsdelivr.net/npm//vega-lib?noext\",\n",
       "      \"vega-lite\": \"https://cdn.jsdelivr.net/npm//vega-lite@4.8.1?noext\",\n",
       "      \"vega-embed\": \"https://cdn.jsdelivr.net/npm//vega-embed@6?noext\",\n",
       "    };\n",
       "\n",
       "    function loadScript(lib) {\n",
       "      return new Promise(function(resolve, reject) {\n",
       "        var s = document.createElement('script');\n",
       "        s.src = paths[lib];\n",
       "        s.async = true;\n",
       "        s.onload = () => resolve(paths[lib]);\n",
       "        s.onerror = () => reject(`Error loading script: ${paths[lib]}`);\n",
       "        document.getElementsByTagName(\"head\")[0].appendChild(s);\n",
       "      });\n",
       "    }\n",
       "\n",
       "    function showError(err) {\n",
       "      outputDiv.innerHTML = `<div class=\"error\" style=\"color:red;\">${err}</div>`;\n",
       "      throw err;\n",
       "    }\n",
       "\n",
       "    function displayChart(vegaEmbed) {\n",
       "      vegaEmbed(outputDiv, spec, embedOpt)\n",
       "        .catch(err => showError(`Javascript Error: ${err.message}<br>This usually means there's a typo in your chart specification. See the javascript console for the full traceback.`));\n",
       "    }\n",
       "\n",
       "    if(typeof define === \"function\" && define.amd) {\n",
       "      requirejs.config({paths});\n",
       "      require([\"vega-embed\"], displayChart, err => showError(`Error loading script: ${err.message}`));\n",
       "    } else if (typeof vegaEmbed === \"function\") {\n",
       "      displayChart(vegaEmbed);\n",
       "    } else {\n",
       "      loadScript(\"vega\")\n",
       "        .then(() => loadScript(\"vega-lite\"))\n",
       "        .then(() => loadScript(\"vega-embed\"))\n",
       "        .catch(showError)\n",
       "        .then(() => displayChart(vegaEmbed));\n",
       "    }\n",
       "  })({\"config\": {\"view\": {\"continuousWidth\": 400, \"continuousHeight\": 300}}, \"data\": {\"name\": \"data-c011fdf877b0411c6bc0859a02c03b81\"}, \"mark\": \"bar\", \"encoding\": {\"color\": {\"condition\": {\"value\": \"green\", \"test\": \"(datum.Accuracy > 0)\"}, \"value\": \"red\"}, \"x\": {\"type\": \"ordinal\", \"field\": \"Model\"}, \"y\": {\"type\": \"quantitative\", \"field\": \"Accuracy\"}}, \"width\": 600, \"$schema\": \"https://vega.github.io/schema/vega-lite/v4.8.1.json\", \"datasets\": {\"data-c011fdf877b0411c6bc0859a02c03b81\": [{\"Model\": \"Linear_Regression\", \"Accuracy\": -0.007759540638997642}, {\"Model\": \"Decision_Tree\", \"Accuracy\": -0.012042219708629842}, {\"Model\": \"Support Vector Regressor\", \"Accuracy\": 0.011898318214972337}]}}, {\"mode\": \"vega-lite\"});\n",
       "</script>"
      ],
      "text/plain": [
       "alt.Chart(...)"
      ]
     },
     "execution_count": 219,
     "metadata": {},
     "output_type": "execute_result"
    }
   ],
   "source": [
    "alt.Chart(modelAccuracyRegression).mark_bar().encode(\n",
    "    x='Model:O',\n",
    "    y=\"Accuracy:Q\",\n",
    "    color=alt.condition(\n",
    "        alt.datum.Accuracy > 0, \n",
    "        alt.value('green'),     \n",
    "        alt.value('red')   \n",
    "    )\n",
    ").properties(width=600)"
   ]
  }
 ],
 "metadata": {
  "interpreter": {
   "hash": "a93f23f23e83050b3a8b9fd7501ef6ebc39a95d11f841ed771982541169d3942"
  },
  "kernelspec": {
   "display_name": "Python 3.8.10 64-bit ('base': conda)",
   "name": "python3"
  },
  "language_info": {
   "codemirror_mode": {
    "name": "ipython",
    "version": 3
   },
   "file_extension": ".py",
   "mimetype": "text/x-python",
   "name": "python",
   "nbconvert_exporter": "python",
   "pygments_lexer": "ipython3",
   "version": "3.8.10"
  }
 },
 "nbformat": 4,
 "nbformat_minor": 2
}
